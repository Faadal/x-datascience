{
 "cells": [
  {
   "cell_type": "code",
   "execution_count": 1,
   "metadata": {
    "collapsed": true
   },
   "outputs": [],
   "source": [
    "from pylab import *\n",
    "import numpy as np\n",
    "import pandas as pd\n",
    "import matplotlib.pyplot as plt\n",
    "%matplotlib inline"
   ]
  },
  {
   "cell_type": "code",
   "execution_count": 9,
   "metadata": {
    "collapsed": false,
    "scrolled": false
   },
   "outputs": [
    {
     "data": {
      "text/html": [
       "<div>\n",
       "<table border=\"1\" class=\"dataframe\">\n",
       "  <thead>\n",
       "    <tr style=\"text-align: right;\">\n",
       "      <th></th>\n",
       "      <th>User</th>\n",
       "      <th>Movie</th>\n",
       "      <th>Ranking</th>\n",
       "      <th>Temps</th>\n",
       "    </tr>\n",
       "  </thead>\n",
       "  <tbody>\n",
       "    <tr>\n",
       "      <th>0</th>\n",
       "      <td>196</td>\n",
       "      <td>242</td>\n",
       "      <td>3</td>\n",
       "      <td>881250949</td>\n",
       "    </tr>\n",
       "    <tr>\n",
       "      <th>1</th>\n",
       "      <td>186</td>\n",
       "      <td>302</td>\n",
       "      <td>3</td>\n",
       "      <td>891717742</td>\n",
       "    </tr>\n",
       "    <tr>\n",
       "      <th>2</th>\n",
       "      <td>22</td>\n",
       "      <td>377</td>\n",
       "      <td>1</td>\n",
       "      <td>878887116</td>\n",
       "    </tr>\n",
       "    <tr>\n",
       "      <th>3</th>\n",
       "      <td>244</td>\n",
       "      <td>51</td>\n",
       "      <td>2</td>\n",
       "      <td>880606923</td>\n",
       "    </tr>\n",
       "    <tr>\n",
       "      <th>4</th>\n",
       "      <td>166</td>\n",
       "      <td>346</td>\n",
       "      <td>1</td>\n",
       "      <td>886397596</td>\n",
       "    </tr>\n",
       "  </tbody>\n",
       "</table>\n",
       "</div>"
      ],
      "text/plain": [
       "   User  Movie  Ranking      Temps\n",
       "0   196    242        3  881250949\n",
       "1   186    302        3  891717742\n",
       "2    22    377        1  878887116\n",
       "3   244     51        2  880606923\n",
       "4   166    346        1  886397596"
      ]
     },
     "execution_count": 9,
     "metadata": {},
     "output_type": "execute_result"
    }
   ],
   "source": [
    "df = pd.read_csv(\"ml-100k/u.data\",sep=\"\\t\",header=None)\n",
    "df.columns = [\"User\", \"Movie\", \"Ranking\", \"Temps\"]\n",
    "df.head()"
   ]
  },
  {
   "cell_type": "code",
   "execution_count": 13,
   "metadata": {
    "collapsed": false
   },
   "outputs": [
    {
     "name": "stdout",
     "output_type": "stream",
     "text": [
      "(100000, 4)\n",
      "943\n",
      "1682\n",
      "1586126\n"
     ]
    }
   ],
   "source": [
    "print df.shape\n",
    "n_users = len(pd.unique(df.User))\n",
    "n_movies = len(pd.unique(df.Movie))\n",
    "print len(pd.unique(df.User))\n",
    "print len(pd.unique(df.Movie))\n",
    "print len(pd.unique(df.User))*len(pd.unique(df.Movie))\n"
   ]
  },
  {
   "cell_type": "code",
   "execution_count": 178,
   "metadata": {
    "collapsed": false
   },
   "outputs": [],
   "source": [
    "# M = np.zeros([n_users,n_movies])\n",
    "# for iu,u in enumerate(np.sort(pd.unique(df.User))):\n",
    "#     for im,m in enumerate(np.sort(pd.unique(df.Movie))):\n",
    "#         a = (df.User==u).values\n",
    "#         b = (df.Movie==m).values\n",
    "#         ix = np.logical_and(a,b)\n",
    "#         if np.sum(ix)>0:\n",
    "#             M[iu,im] = df.Ranking[ix].values\n"
   ]
  },
  {
   "cell_type": "code",
   "execution_count": 128,
   "metadata": {
    "collapsed": false
   },
   "outputs": [],
   "source": [
    "# Create matrix M\n",
    "M = np.zeros([n_users,n_movies])\n",
    "# for i in range(df.shape[0]):\n",
    "N = 80000\n",
    "for i in range(N):\n",
    "    u = df.ix[i,\"User\"]\n",
    "    m = df.ix[i,\"Movie\"]\n",
    "    r = df.ix[i,\"Ranking\"]\n",
    "    M[u-1,m-1] = r\n",
    "# M[M==0] = np.nan"
   ]
  },
  {
   "cell_type": "code",
   "execution_count": 179,
   "metadata": {
    "collapsed": false
   },
   "outputs": [
    {
     "name": "stdout",
     "output_type": "stream",
     "text": [
      "(943, 3)\n",
      "(3, 1682)\n"
     ]
    }
   ],
   "source": [
    "# M ~= UV\n",
    "k = 3\n",
    "lam = float(N)/1.5\n",
    "## On initialise U et V (loi uniforme)\n",
    "C = 10\n",
    "U =  np.random.uniform(-C,C,size=(M.shape[0],k))\n",
    "V= np.random.uniform(-C,C,size=(k,M.shape[1]))\n",
    "\n",
    "print U.shape\n",
    "print V.shape\n"
   ]
  },
  {
   "cell_type": "code",
   "execution_count": 180,
   "metadata": {
    "collapsed": false
   },
   "outputs": [
    {
     "data": {
      "text/plain": [
       "3468.162783513877"
      ]
     },
     "execution_count": 180,
     "metadata": {},
     "output_type": "execute_result"
    }
   ],
   "source": [
    "def risque(u,v):\n",
    "    s = 0\n",
    "    for i in range(N):\n",
    "        r = df.ix[i,\"Ranking\"]\n",
    "        Ii = df.ix[i,\"User\"]-1\n",
    "        Ji = df.ix[i,\"Movie\"]-1\n",
    "        s = s + (r-u[Ii,:].dot(v[:,Ji]))**2\n",
    "#         s = s + np.abs(r-u[Ii,:].dot(v[:,Ji]))\n",
    "#         if i%10000==1:\n",
    "#             print s\n",
    "#         if np.isnan(s)==True:\n",
    "#             print i\n",
    "#             print u[Ii,:].dot(v[:,Ji])\n",
    "#             print np.sqrt(r-u[Ii,:].dot(v[:,Ji]))\n",
    "#             break\n",
    "    s = float(s)/N\n",
    "    return s\n",
    "\n",
    "def test_risque(u,v):\n",
    "    s = 0\n",
    "    for i in range(N):\n",
    "        r = df.ix[i,\"Ranking\"]\n",
    "        Ii = df.ix[i,\"User\"]-1\n",
    "        Ji = df.ix[i,\"Movie\"]-1\n",
    "        s = s + (r-u[Ii,:].dot(v[:,Ji]))**2\n",
    "#         s = s + np.abs(r-u[Ii,:].dot(v[:,Ji]))\n",
    "#         if i%10000==1:\n",
    "#             print s\n",
    "#         if np.isnan(s)==True:\n",
    "#             print i\n",
    "#             print u[Ii,:].dot(v[:,Ji])\n",
    "#             print np.sqrt(r-u[Ii,:].dot(v[:,Ji]))\n",
    "#             break\n",
    "    s = float(s)/N\n",
    "    return s\n",
    "risque(U,V)"
   ]
  },
  {
   "cell_type": "code",
   "execution_count": 182,
   "metadata": {
    "collapsed": false
   },
   "outputs": [
    {
     "name": "stdout",
     "output_type": "stream",
     "text": [
      "0\n",
      "200\n",
      "400\n",
      "600\n",
      "800\n",
      "0\n",
      "200\n",
      "400\n",
      "600\n",
      "800\n",
      "1000\n",
      "1200\n",
      "1400\n",
      "1600\n"
     ]
    },
    {
     "ename": "ValueError",
     "evalue": "operands could not be broadcast together with shapes (3,1682) (943,3) ",
     "output_type": "error",
     "traceback": [
      "\u001b[1;31m---------------------------------------------------------------------------\u001b[0m",
      "\u001b[1;31mValueError\u001b[0m                                Traceback (most recent call last)",
      "\u001b[1;32m<ipython-input-182-a65208553200>\u001b[0m in \u001b[0;36m<module>\u001b[1;34m()\u001b[0m\n\u001b[0;32m     30\u001b[0m         \u001b[1;32mprint\u001b[0m \u001b[0miv\u001b[0m\u001b[1;33m\u001b[0m\u001b[0m\n\u001b[0;32m     31\u001b[0m \u001b[1;33m\u001b[0m\u001b[0m\n\u001b[1;32m---> 32\u001b[1;33m \u001b[0mnp\u001b[0m\u001b[1;33m.\u001b[0m\u001b[0mlinalg\u001b[0m\u001b[1;33m.\u001b[0m\u001b[0mnorm\u001b[0m\u001b[1;33m(\u001b[0m\u001b[0mW\u001b[0m\u001b[1;33m-\u001b[0m\u001b[0mU\u001b[0m\u001b[1;33m)\u001b[0m\u001b[1;33m\u001b[0m\u001b[0m\n\u001b[0m",
      "\u001b[1;31mValueError\u001b[0m: operands could not be broadcast together with shapes (3,1682) (943,3) "
     ]
    }
   ],
   "source": [
    "## Mise a jour de u\n",
    "eps = 5\n",
    "# W = U.copy()\n",
    "lam = 10\n",
    "for iu in range(U.shape[0]):\n",
    "    W = U.copy()\n",
    "    W[iu,:] = W[iu,:] + np.random.uniform(-eps,eps,size=W[iu,:].shape)\n",
    "#     print risque(W,V)\n",
    "#     a = np.exp(-lam*risque(W,V))\n",
    "#     b = np.exp(-lam*risque(U,V))\n",
    "    a = lam*risque(W,V)\n",
    "    b = lam*risque(U,V)\n",
    "    u = np.random.rand()\n",
    "    if u < b-a:\n",
    "        U[iu,:] = W[iu,:]\n",
    "#         print \"change\"\n",
    "    if iu%200==0:\n",
    "        print iu\n",
    "        \n",
    "for iv in range(V.shape[1]):\n",
    "    W = V.copy()\n",
    "    W[:,iv]= W[:,iv] + np.random.uniform(-eps,eps,size= W[:,iv].shape)\n",
    "    a = -lam*risque(U,W)\n",
    "    b = lam*risque(U,V)\n",
    "    u = np.random.rand()\n",
    "    if u < b-a:\n",
    "        V[:,iv] = W[:,iv]\n",
    "#         print \"change\"\n",
    "    if iv%200==0:\n",
    "        print iv\n",
    "    \n",
    "np.linalg.norm(W-U)"
   ]
  },
  {
   "cell_type": "code",
   "execution_count": 183,
   "metadata": {
    "collapsed": false
   },
   "outputs": [
    {
     "data": {
      "text/plain": [
       "5435.700242784872"
      ]
     },
     "execution_count": 183,
     "metadata": {},
     "output_type": "execute_result"
    }
   ],
   "source": [
    "risque(U,V)"
   ]
  },
  {
   "cell_type": "code",
   "execution_count": 174,
   "metadata": {
    "collapsed": false
   },
   "outputs": [
    {
     "data": {
      "text/plain": [
       "18.950473312870173"
      ]
     },
     "execution_count": 174,
     "metadata": {},
     "output_type": "execute_result"
    }
   ],
   "source": [
    "risque(W,V)\n",
    "# np.exp(-10*risque(W,V))"
   ]
  },
  {
   "cell_type": "code",
   "execution_count": 162,
   "metadata": {
    "collapsed": false
   },
   "outputs": [
    {
     "data": {
      "text/plain": [
       "1.3838965267367376e-87"
      ]
     },
     "execution_count": 162,
     "metadata": {},
     "output_type": "execute_result"
    }
   ],
   "source": [
    "np.exp(-180)"
   ]
  },
  {
   "cell_type": "code",
   "execution_count": null,
   "metadata": {
    "collapsed": true
   },
   "outputs": [],
   "source": []
  }
 ],
 "metadata": {
  "kernelspec": {
   "display_name": "Python 2",
   "language": "python",
   "name": "python2"
  },
  "language_info": {
   "codemirror_mode": {
    "name": "ipython",
    "version": 2
   },
   "file_extension": ".py",
   "mimetype": "text/x-python",
   "name": "python",
   "nbconvert_exporter": "python",
   "pygments_lexer": "ipython2",
   "version": "2.7.12"
  }
 },
 "nbformat": 4,
 "nbformat_minor": 0
}
