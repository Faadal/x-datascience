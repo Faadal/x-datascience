{
 "metadata": {
  "name": "",
  "signature": "sha256:aec7ea47bcb9f6e7cf3df36ad9f4e9e50db52b1e45b314ec220a988f813739a5"
 },
 "nbformat": 3,
 "nbformat_minor": 0,
 "worksheets": [
  {
   "cells": [
    {
     "cell_type": "markdown",
     "metadata": {},
     "source": [
      "**CHAPTER 2 - ONLINE GRADIENT ALGORITHM**"
     ]
    },
    {
     "cell_type": "markdown",
     "metadata": {},
     "source": [
      "**Reminder on convex functions**\n",
      "\n",
      "We remind that a function $F:\\mathbb{R}^k\\rightarrow \\mathbb{R}$ is said to be convex iff $\\forall x,y\\in\\mathbb{R}^k,\\forall \\alpha\\in[0,1], F(\\alpha x + (1-\\alpha)y) \\leq \\alpha F(x) + (1-\\alpha) F(y)$.\n",
      "\n",
      "Given a function $F:\\mathbb{R}^k\\rightarrow \\mathbb{R}$ we define the sub-gradient of $F$ at $x$ as $\\partial F(x) = \\{y\\in\\mathbb{R}^k,\\forall z\\in \\mathbb{R}^k: F(z)-F(x) \\geq \\left<y,z-x\\right>\\}$. A few well-known facts: when $F$ is convex, $F(x) \\neq \\emptyset$ for any $x$; when $F$ is convex and differentiable at $x$, $\\partial F(x) = \\left\\{\\frac{{\\rm d} F}{{\\rm d}x}(x)\\right\\}$; when $F$ is convex and $L$-Lipschitz then $\\forall y \\in \\partial F(x)$, $\\|y\\|\\leq L$."
     ]
    },
    {
     "cell_type": "markdown",
     "metadata": {},
     "source": [
      "**Online gradient algorithm**\n",
      "\n",
      "Context: $f_1,\\dots,f_M$ and $\\mathcal{F}={\\rm span}(f_1,\\dots,f_M)$, that is L-type aggregation. Notation: $f(\\cdot)=(f_1(\\cdot),\\dots,f_M(\\cdot))$ so that $\\mathcal{F}=\\{\\left<\\alpha,f(\\cdot)\\right>,\\alpha\\in\\mathbb{R}^M\\}$. Also $\\mathcal{F}_B := \\{\\left<\\alpha,f(\\cdot)\\right>,\\|\\alpha\\|\\leq B\\}$. Finally $[(x_t,y_t)]_{t\\in\\mathbb{N}^*}$ any sequence in $(\\mathcal{X}\\times\\mathbb{R})^{\\mathbb{N}^*}$. Finally, any loss function $\\ell$ such that $\\forall t$, $\\ell(y_t,\\cdot)$ is a convex function.\n",
      "\n",
      "Initialization: $\\theta_1 = 0$, $\\eta>0$.\n",
      "\n",
      "Step $t$: put $\\hat{y}_t = \\left<\\theta_t,f(x_t)\\right>$. Once $y_t$ is revealed, define $g_t(\\theta)=\\ell(y_t,\\left<\\theta,f(x_t)\\right>)$, $z_t \\in \\partial g_t (\\theta_t)$ and $\\theta_{t+1} = \\theta_t - \\eta z_t$."
     ]
    },
    {
     "cell_type": "markdown",
     "metadata": {},
     "source": [
      "**Regret bound for the online gradient algorithm**\n",
      "\n",
      "_Theorem_: assume that $\\forall t$, $\\ell(y_t,\\cdot)$ is also $L$-Lipschitz. Then for any $T\\in\\mathbb{N}^*$\n",
      "$$\n",
      "\\sum_{t=1}^T \\ell(y_t,\\hat{y}_t) \\leq \\inf_{\\theta\\in\\mathbb{R}^M} \\left\\{ \\sum_{t=1}^T \\ell(y_t,\\left<\\theta,f(x_t)\\right>) + \\eta T L^2 + \\frac{\\|\\theta\\|^2}{2\\eta} \\right\\}.\n",
      "$$\n",
      "So, as a special case,\n",
      "$$\n",
      "\\mathcal{R}_T(\\mathcal{F}_B) \\leq \\eta T L^2 + \\frac{B^2}{2\\eta}\n",
      "$$\n",
      "and in this case, the choice $\\eta=\\frac{B}{L\\sqrt{2T}}$ leads to\n",
      "$$\n",
      "\\mathcal{R}_T(\\mathcal{F}_B) \\leq BL\\sqrt{2T}.\n",
      "$$\n",
      "\n",
      "_Proof_: in class, or in the references.\n",
      "\n",
      "_Remark_: if you want to win the game without having to know $T$ in advance, you can use the so-called doubling trick: use the gradient algorithm on the interval $2^{N} \\leq t < 2^{N+1}$ for each integer $N\\in\\mathbb{N}$. On each interval, the time horizon is known, it is $2^{N+1}-2^N=2^N$ and so set $\\eta=B/(2^{\\frac{N+1}{2}}L)$. Simple calculations show that this produces a sequence $\\hat{y}_t$ with $\\mathcal{R}_T(\\mathcal{F}_B) \\leq \\frac{2BL\\sqrt{T}}{\\sqrt{2}-1}$, so we only lose a constant factor."
     ]
    },
    {
     "cell_type": "markdown",
     "metadata": {},
     "source": [
      "**Example**\n",
      "\n",
      "In classification problems, all the $y_t$'s are in $\\{-1,+1\\}$, one would like to use the zero/one loss: $\\ell(y_t,\\left<\\theta,f(x_t)\\right>)=\\mathbf{1}({\\rm sign}(\\left<\\theta,f(x_t)\\right>) \\neq y_t)$ but it is not convex. It is classical to replace it by a convex surrogate. Here, we propose the hinge loss: $\\ell(y,y')=(1-yy')_+$. Consider then $g_t(\\theta)=\\ell(y_t,\\left<\\theta,f(x_t)\\right>)$. We obtain $\\partial g_t(\\theta_t) = \\{0\\}$ if $y_t\\left<\\theta_t,f(x_t)\\right> >1$, $g_t(\\theta_t) = \\{-y_t f(x_t)\\}$ if $y_t\\left<\\theta_t,f(x_t)\\right><1$. In the case $y_t\\left<\\theta_t,f(x_t)\\right>=1$, $g_t(\\theta_t)$ is the full segment $[0,-y_t f(x_t)]$. So, for the algorithm, we can simply update:\n",
      "$$ \\theta_{t+1} = \\theta_t + \\eta y_t f(x_t) \\text{ if } y_t\\left<\\theta_t,f(x_t)\\right><1 \\text{, }\n",
      "  \\theta_{t+1} = \\theta_t \\text{ otherwise.}$$\n",
      "  \n",
      "Let us now run this algorithm on a real dataset. First, set $\\eta>0$."
     ]
    },
    {
     "cell_type": "code",
     "collapsed": false,
     "input": [
      "eta = 1"
     ],
     "language": "python",
     "metadata": {},
     "outputs": [],
     "prompt_number": 1
    },
    {
     "cell_type": "markdown",
     "metadata": {},
     "source": [
      "This dataset is taken from the machine learning repository http://archive.ics.uci.edu/ml/ It is the glass dataset: the chemical composition of 214 glasses is given, and the classes (1 to 7) are the type of glass. We only focus on classes 1-4 (window) against 5-7 (non-window). Also, the data are ordered in the file, so note that we first randomized the order of the raws. We compare this result to a purely random strategy that just guess $y_t=1$ or $-1$ with probability $1/2$."
     ]
    },
    {
     "cell_type": "code",
     "collapsed": false,
     "input": [
      "from pylab import *\n",
      "from numpy import *\n",
      "from pandas import read_csv\n",
      "import matplotlib.pyplot as plt\n",
      "%matplotlib inline\n",
      "\n",
      "glass = read_csv('glass.data')\n",
      "glass = glass.values\n",
      "n,k = shape(glass)\n",
      "U = argsort(randn(n))\n",
      "x = glass[[U],1:(k-2)][0]\n",
      "x = x/mean(x,0)\n",
      "constant = ones((n,1))\n",
      "x = concatenate((x,constant),axis=1)\n",
      "y = sign(glass[[U],k-1]-4.5)[0]\n",
      "\n",
      "theta = repeat(0,k-2)\n",
      "online_grad = []\n",
      "for t in range(n):\n",
      "    u = x[t,]*y[t]\n",
      "    resultat = sum(theta*u)\n",
      "    if resultat<1:\n",
      "        list.append(online_grad,1)\n",
      "        theta = theta + eta*u\n",
      "    else:\n",
      "        list.append(online_grad,0)\n",
      "\n",
      "pure_rand = cumsum((sign(randn(n))+1)/2)\n",
      "online_grad = cumsum(online_grad)\n",
      "\n",
      "fig = plt.figure()\n",
      "ax = fig.add_subplot(111)\n",
      "#plt.xscale('log')\n",
      "#plt.yscale('log')\n",
      "plt.ylim(0,n)\n",
      "l1, = plt.plot(online_grad)\n",
      "l2, = plt.plot(pure_rand)\n",
      "plt.legend([l1,l2],['online gradient','purely random'])\n",
      "plt.grid(True,which=\"both\")\n",
      "plt.xlabel(r\"Time step $t$\")\n",
      "plt.ylabel(r\"Number of errors $L_t$\")\n",
      "plt.show()\n"
     ],
     "language": "python",
     "metadata": {},
     "outputs": [
      {
       "metadata": {},
       "output_type": "display_data",
       "png": "[encoded data removed]",
       "text": [
        "<matplotlib.figure.Figure at 0x7f068ea54f60>"
       ]
      }
     ],
     "prompt_number": 2
    },
    {
     "cell_type": "markdown",
     "metadata": {},
     "source": [
      "**Remark: online to batch bound**\n",
      "\n",
      "Assume that we have a sample $[(X_i,Y_i)]_{1\\leq i\\leq n}$ i.i.d from a probability distribution $P$. Even if we are in the batch setting, we can still run the online gradient algorithm. It will produce a sequence of predictions $\\hat{Y}_1,\\dots,\\hat{Y}_n$ but these are of course useless. However it will also produce a sequence of parameters $\\theta_1,\\dots,\\theta_n$. Let us put $\\hat{f}(\\cdot)= \\left< \\frac{1}{n}\\sum_{i=1}^n \\theta_i, f(\\cdot)\\right> $. Then we have:\n",
      "\n",
      "_Theorem_: if $\\forall y$, $\\ell(y,\\cdot)$ is $L$-Lipschitz, set $\\eta=\\frac{B}{L\\sqrt{2n}}$ and then\n",
      "$$ \\mathbb{E}\\left( R(\\hat{f}) \\right) \\leq \\inf_{f\\in\\mathcal{F}_B} R(f) + \\frac{BL\\sqrt{2}}{\\sqrt{n}} .$$\n",
      "\n",
      "_Proof_: given in class & in the references; note that the same proof can also be used for the EWA method seen in Chapter 3."
     ]
    },
    {
     "cell_type": "markdown",
     "metadata": {},
     "source": [
      "**References**\n",
      "\n",
      "This chapter is entirely based on Section 2 in\n",
      "\n",
      "S. Shalev-Shwartz, Online Learning and Online Convex Optimization, _Foundations and Trends in Machine Learning_, 4(2), pp. 107-194 (2011).\n",
      "\n",
      "To S. Shalev-Schartz: if you come to Paris in the next few months, please let me know, I  definitely owe you a beer."
     ]
    }
   ],
   "metadata": {}
  }
 ]
}