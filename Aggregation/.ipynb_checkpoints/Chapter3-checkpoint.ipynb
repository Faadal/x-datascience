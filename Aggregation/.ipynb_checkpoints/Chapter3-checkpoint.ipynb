{
 "cells": [
  {
   "cell_type": "markdown",
   "metadata": {},
   "source": [
    "**CHAPTER3 - PAC-BAYESIAN BOUNDS FOR ONLINE LEARNING**"
   ]
  },
  {
   "cell_type": "markdown",
   "metadata": {},
   "source": [
    "**Notations**\n",
    "\n",
    "Fix $f_1,\\dots,f_M$ and as in Chapter 2, $f(\\cdot)=(f_1(\\cdot),\\dots,f_M(\\cdot))$. We will possibly consider all types of aggregation (MS, C and L). Let $[(x_t,y_t)]_{t\\in\\mathbb{N}^*}$ be any sequence in $(\\mathcal{X}\\times[-B_y,B_y])^{\\mathbb{N}^*}$. We don't have to know exactly the range of $y$, but we have to know an upper bound: $B>0$ such that $B_y\\leq B$. In this case, for any $\\alpha\\in\\mathbb{R}^M$ it makes sense to define the predictor $f_{\\alpha}(\\cdot) = [\\left<\\alpha,f(\\cdot)\\right>]_B $ where $[u]_B$ is $-B$ if $u\\leq -B$, $B$ if $u\\geq B$ and $u$ otherwise (clip function). We put $\\mathcal{F}=\\{f_\\alpha,\\alpha\\in\\mathbb{R}^M\\}$. Finally, any loss function $\\ell$ such that $\\forall t$, $\\ell(y_t,\\cdot)$ is a convex function."
   ]
  },
  {
   "cell_type": "markdown",
   "metadata": {},
   "source": [
    "**Exponentially Weighted Aggregation (EWA)**\n",
    "\n",
    "Initialization: fix $p_1 = \\pi$ an arbitrary probability distribution on $\\mathbb{R}^M$ (equiped with the Borel $\\sigma$-algebra) and let $\\eta>0$.\n",
    "\n",
    "Step $t$: $\\hat{y}_t=\\int f_\\theta (x_t) p_t({\\rm d})\\theta$ and once $y_t$ is revealed,\n",
    "$$ p_{t+1}({\\rm d}\\theta) = \\frac{\n",
    "\\exp\\left(-\\eta \\ell(y_t,f_\\theta (x_t)) \\right) p_{t}({\\rm d}\\theta)\n",
    "}{\n",
    "\\int_{\\mathbb{R}^M} \\exp\\left(-\\eta \\ell(y_t,f_\\alpha (x_t)) \\right) p_{t}({\\rm d}\\alpha)\n",
    "}. $$\n",
    "\n",
    "_Remark_: by recurrence we also have\n",
    "$$ p_t({\\rm d}\\theta) = \\frac{\\exp\\left(-\\eta \\sum_{i=1}^{t-1}\\ell(y_i,f_\\theta (x_i)) \\right) \\pi({\\rm d}\\theta) }\n",
    "{\\int \\exp\\left(-\\eta \\sum_{i=1}^{t-1}\\ell(y_i,f_\\alpha (x_i)) \\right) \\pi({\\rm d}\\alpha)} =\n",
    " \\frac{\\exp\\left(-\\eta \\sum_{i=1}^{t-1}\\ell(y_i,f_\\theta (x_i)) \\right) \\pi({\\rm d}\\theta) }\n",
    "{W_t}  $$\n",
    "where we introduce the notation $W_t$ for short.\n",
    "\n",
    "_Remark 2_: in the case where the support of $\\pi$ is finite, the implementation of this method is trivial, we only have to update a finite number of weights at each step. However, in the general case, the implementation of EWA  is far from trivial, we will discuss this point in Chapter 5."
   ]
  },
  {
   "cell_type": "markdown",
   "metadata": {},
   "source": [
    "**Theoretical analysis of EWA**\n",
    "\n",
    "A reminder: the Kullback-Leibler divergence between two probability measures $\\mathcal{K}(\\mu,\\nu)=\\int \\log\\left( \\frac{{\\rm d}\\mu}{{\\rm d}\\nu}(\\theta)\\right)\\mu({\\rm d}\\theta) $ if $\\mu\\ll\\nu$ and $\\mathcal{K}(\\mu,\\nu)=+\\infty$ otherwise. Note that this it does not satisfy the definition of a distance, however we have $\\mathcal{K}(\\mu,\\nu)\\Leftrightarrow \\mu=\\nu$ and $\\mathcal{K}(\\mu,\\nu)\\geq 4\\|\\mu-\\nu\\|_{{\\rm TV}}^2 $ (Pinsker's inequality).\n",
    "\n",
    "_Theorem_:\n",
    "\n",
    "1) Assume that $\\forall t$, $\\forall u\\in[-B,B]$, $\\ell(y_t,u)\\leq C$  (bounded loss function). Then for any $T\\geq 1$,\n",
    "$$\n",
    "L_T \\leq \\inf_{\\rho}\\left\\{ \\int \\sum_{t=1}^T \\ell(y_t,f_{\\theta}(x_t)) \\rho({\\rm d}\\theta)\n",
    "       + \\frac{C^2 T\\eta}{8} + \\frac{\\mathcal{K}(\\rho,\\pi)}{\\eta} \\right\\}\n",
    "$$\n",
    "where the infimum is over all probability measures $\\rho$.\n",
    "\n",
    "2) Under the same assumption (bounded loss function),\n",
    "$$\n",
    "L_T \\leq \\frac{C\\eta}{1-\\exp(-C\\eta)} \\inf_{\\rho}\\left\\{ \\int \\sum_{t=1}^T \\ell(y_t,f_{\\theta}(x_t)) \\rho({\\rm d}\\theta)\n",
    "       + \\frac{\\mathcal{K}(\\rho,\\pi)}{\\eta} \\right\\}.\n",
    "$$\n",
    "\n",
    "3) Finally, assume that $\\eta$ and $\\ell$ are such that $\\forall t$, $\\eta \\ell(y_t,\\cdot)$ is exp-convex on $[-B,B]$ (that means that $\\exp(-\\ell(y_t,\\cdot))$ is concave. Then:\n",
    "$$\n",
    "L_T \\leq \\inf_{\\rho}\\left\\{ \\int \\sum_{t=1}^T \\ell(y_t,f_{\\theta}(x_t)) \\rho({\\rm d}\\theta)\n",
    "       + \\frac{\\mathcal{K}(\\rho,\\pi)}{\\eta} \\right\\}.\n",
    "$$\n",
    "\n",
    "Comments are in order! First: in 1) and 2) there is no restriction on $\\eta$. However, 3) requires a stringent assumption that usually implies restriction on $\\eta$. For example, simple calculus shows that when $\\ell(y,u)=|y-u|$, the exp-convexity assumption is never satisfied while, when $\\ell(y,u)=(y-u)^2$ it is satisfied iff $\\eta \\leq \\frac{1}{8B^2} $. Then, in order to understand the full power of these results, we provide a few simple applications. The proof is given at the end of the chapter."
   ]
  },
  {
   "cell_type": "markdown",
   "metadata": {},
   "source": [
    "**MS-type aggregation**\n",
    "\n",
    "In this case, we are only interested in the predictors $f_1$ to $f_M$. So, let us introduce the canonical basis of $\\mathbb{R}^M$, say $e_1,\\dots,e_M$ and take $\\pi$ as uniform on the set $\\{e_1,\\dots,e_M\\}$. Then, for any $i\\in\\{1,\\dots,M\\}$, setting $\\rho=\\delta_{e_i}$ leads to $\\mathcal{K}(\\rho,\\pi)=\\log(M)$ and $ \\int \\sum_{t=1}^T \\ell(y_t,f_{\\theta}(x_t)) \\rho({\\rm d}\\theta) =  \\sum_{t=1}^T \\ell(y_t,f_{i}(x_t))$. So 1) leads to:\n",
    "$$\n",
    "L_T \\leq \\inf_{1\\leq i\\leq M} \\sum_{t=1}^T \\ell(y_t,f_{i}(x_t) + \\frac{C^2 T\\eta}{8} + \\frac{\\log(M)}{\\eta}\n",
    "$$\n",
    "and taking $\\eta=2\\sqrt{\\frac{2\\log(M)}{T C^2}}$ leads to a regret in\n",
    "$$\n",
    "\\mathcal{R}_T(\\{f_1,\\dots,f_M\\}) \\leq C \\sqrt{\\frac{T \\log(M)}{2}}.\n",
    "$$\n",
    "So the regret is in $\\sqrt{T\\log(M)}$. This is a nice result. However, in Chapter 1, in the realizable case, we obtained with the halving algorithm a regret that does not depend on $T$. We can here mimic this, using 2). Actually, in the realizable case, 2) leads to\n",
    "$$\n",
    "L_T \\leq  \\frac{C\\eta}{1-\\exp(-C\\eta)} \\left\\{  \\underbrace{\\inf_{1\\leq i\\leq M} \\sum_{t=1}^T \\ell(y_t,f_{i}(x_t)}_{=0}\n",
    "       + \\frac{\\log(M)}{\\eta} \\right\\}\n",
    "$$\n",
    "and set, for example, $\\eta=\\frac{1}{C}$ to get:\n",
    "$$\n",
    "L_T \\leq  \\frac{C\\log(M)}{1-\\frac{1}{{\\rm e}}}\n",
    "$$\n",
    "that is, a regret that does not depend on $T$. However, note that in the general case, 2) is seen as quite weak as it does not lead to a bound on the regret - that's because $\\frac{C\\eta}{1-\\exp(-C\\eta)}>1$. Finally, _if we work with the squared loss_, 3) with $\\eta=\\frac{1}{8B^2}$ leads to\n",
    "$$\n",
    "\\mathcal{R}_T(\\{f_1,\\dots,f_M\\}) \\leq 8B^2 \\log(M).\n",
    "$$\n",
    "So, the result provided by 3) is much stronger than the one provided by 1) and 2), but, once again, it requires stronger assumptions.\n",
    "\n",
    "Finally, note that using the quadratic loss the online-to-batch trick of the previous chapter, we can define $\\hat{f}(\\cdot)= \\frac{1}{n}\\sum_{i=1}^n \\int f_{\\theta}(\\cdot) p_t({\\rm d}\\theta) $ and this leads to:\n",
    "$$ \\mathbb{E}[R(\\hat{f})] \\leq \\inf_{1\\leq i\\leq M} R(f_i) + \\frac{8B^2\\log(M)}{n}. $$\n",
    "The estimator $\\hat{f}$ is known under the name progressive mixture rule. It is known that the rate $\\log(M)/n$ cannot be improved in this case.\n",
    "\n",
    "We now illustrate the performance of the online EWA on the same example as in Chapter 1. Remind the setting: $\\mathcal{X}=\\{0,\\dots,N-1\\}$, $\\mathcal{F}=(f_0,\\dots,f_{M-1})$ where the $f_i$ will be drawn i.i.d from the set of all functions $\\{0,\\dots,N-1\\}\\rightarrow\\{-1,+1\\}$. We consider the absolute loss $\\ell(u,v)=|u-v|$. However, this time, we do not consider the realizable case: a function $i_0$ is chosen randomly, but then for all $t$, $y_t = f_{i_0}(x_t)$ with probability $1-p$ and $y_t = - f_{i_0}(x_t)$ with probability $p$, you can choose $p$ as you want between $0$ and $0.5$."
   ]
  },
  {
   "cell_type": "code",
   "execution_count": 1,
   "metadata": {
    "collapsed": false
   },
   "outputs": [],
   "source": [
    "N = 20\n",
    "M = 500\n",
    "T = 500\n",
    "p = 0.15\n",
    "eta = 10"
   ]
  },
  {
   "cell_type": "markdown",
   "metadata": {},
   "source": [
    "We compare EWA to a random guess, and to the function $f_{i_0}$ (which is not available in practice)."
   ]
  },
  {
   "cell_type": "code",
   "execution_count": 3,
   "metadata": {
    "collapsed": false
   },
   "outputs": [
    {
     "name": "stderr",
     "output_type": "stream",
     "text": [
      "/home/zapfack/tools/anaconda2/lib/python2.7/site-packages/ipykernel/__main__.py:9: DeprecationWarning: using a non-integer number instead of an integer will result in an error in the future\n",
      "/home/zapfack/tools/anaconda2/lib/python2.7/site-packages/ipykernel/__main__.py:9: DeprecationWarning: non integer (and non boolean) array-likes will not be accepted as indices in the future\n",
      "/home/zapfack/tools/anaconda2/lib/python2.7/site-packages/ipykernel/__main__.py:16: DeprecationWarning: using a non-integer number instead of an integer will result in an error in the future\n",
      "/home/zapfack/tools/anaconda2/lib/python2.7/site-packages/ipykernel/__main__.py:19: DeprecationWarning: using a non-integer number instead of an integer will result in an error in the future\n"
     ]
    },
    {
     "data": {
      "image/png": "[encoded data removed]",
      "text/plain": [
       "<matplotlib.figure.Figure at 0x7f5a0878cfd0>"
      ]
     },
     "metadata": {},
     "output_type": "display_data"
    }
   ],
   "source": [
    "from pylab import *\n",
    "from numpy import *\n",
    "import matplotlib.pyplot as plt\n",
    "%matplotlib inline\n",
    "\n",
    "x = floor(rand(T)*N)\n",
    "f = sign(randn(M,N))\n",
    "iO = floor(rand()*M)\n",
    "y = f[iO,[x]][0]*((rand(T)>p)-0.5)*2\n",
    "\n",
    "beta = 0.5\n",
    "\n",
    "\n",
    "pure_rand,EWA,fiO,WMA = [],[],[],[]\n",
    "w = repeat(1.0/M,M)\n",
    "for t in range(T):\n",
    "    pred = f[:,x[t]]\n",
    "    error = abs(y[t]-pred)\n",
    "    list.append(EWA,abs(y[t]-sum(w*pred)))\n",
    "    list.append(fiO,abs(y[t]-pred[iO]))\n",
    "    w = w*exp(-eta*error)\n",
    "    w = w/sum(w)\n",
    "\n",
    "pure_rand = cumsum((sign(randn(T))+1))\n",
    "EWA = cumsum(EWA)\n",
    "fiO = cumsum(fiO)\n",
    "\n",
    "fig = plt.figure()\n",
    "ax = fig.add_subplot(111)\n",
    "#plt.xscale('log')\n",
    "#plt.yscale('log')\n",
    "plt.ylim(0,1.2*T)\n",
    "l1, = plt.plot(EWA)\n",
    "l2, = plt.plot(pure_rand)\n",
    "l3, = plt.plot(fiO)\n",
    "plt.legend([l1,l2,l3],['EWA','purely random','$i_0$'])\n",
    "plt.grid(True,which=\"both\")\n",
    "plt.xlabel(r\"Time step $t$\")\n",
    "plt.ylabel(r\"Cumulated absolute loss $L_t$\")\n",
    "plt.show()"
   ]
  },
  {
   "cell_type": "markdown",
   "metadata": {},
   "source": [
    "**L-type aggregation (with quadratic loss)**\n",
    "\n",
    "Define $\\pi=\\mathcal{N}(0,\\sigma^2 I_M)$. Then, for $\\rho=\\mathcal{N}(\\theta_0,S^2 I_M)$, calculations show that\n",
    "$$\n",
    "\\mathcal{K}(\\rho,\\pi) = \\frac{1}{2}\\left\\{M\\left[\\frac{S^2}{\\sigma^2}-1+\\log\\left(\\frac{\\sigma^2}{S^2}\\right) \\right]+\\frac{\\|\\theta_0\\|^2}{\\sigma^2}\\right\\}.\n",
    "$$\n",
    "Then, if we assume that $\\|f_i\\|_\\infty \\leq C_f$ for any $i$, then we also can get the upper bound:\n",
    "$$\n",
    "\\int \\sum_{t=1}^T (y_t - f_\\theta (x_t))^2 \\rho({\\rm d}\\theta) \\leq \\sum_{t=1}^T (y_t - f_{\\theta_0} (x_t))^2 + T M^2 S^2 C_f^2.\n",
    "$$\n",
    "Plugging this in 3), putting $S^2 = \\frac{1}{TM^2}$, $\\sigma^2=1$, and taking $\\eta=\\frac{1}{8B^2}$, and few rough upper bounds lead to:\n",
    "$$\n",
    "L_T \\leq \\inf_{\\theta_0 \\in \\mathbb{R}^M }\\left\\{\n",
    " \\sum_{t=1}^T (y_t - f_{\\theta_0} (x_t))^2 + 4B^2 M \\log\\left( \\frac{TM \\sigma^2}{{\\rm e}}\\right) + C_f^2 + \\frac{1+\\|\\theta_0\\|^2}{\\sigma^2}\n",
    "\\right\\}\n",
    "$$\n",
    "or to a regret bound on a ball with radius $r$:\n",
    "$$\n",
    "\\mathcal{R}_T(\\{f_{\\theta}\\in\\mathcal{F},\\|\\theta\\|\\leq r\\}) \\leq\n",
    "4B^2 M \\log\\left( \\frac{TM \\sigma^2}{{\\rm e}}\\right) + C_f^2 + \\frac{1+r^2}{\\sigma^2}.\n",
    "$$\n",
    "Note that the dependence in $r$ can be improved using a heavy-tailed distribution for $\\pi$; the dependence in $M$ and $T$ cannot be improved."
   ]
  },
  {
   "cell_type": "markdown",
   "metadata": {},
   "source": [
    "**Proof of the theorem**\n",
    "\n",
    "_Lemma_: for any bounded function $h$ define $\\pi_h$ by $\\pi_h({\\rm d}\\theta) = \\frac{\\exp[h(\\theta)]\\pi({\\rm d}\\theta)}\n",
    "   {\\int \\exp[h(\\alpha)]\\pi({\\rm d}\\alpha)}$. Then:\n",
    "$$ \\sup_{\\rho}\\left[\\int h{\\rm d}\\rho - \\mathcal{K}(\\rho,\\pi)\\right] = \\log \\int \\exp[h(\\theta)] \\pi({\\rm d}\\theta) $$\n",
    "and the infimum is reached for $\\rho=\\pi_h$.\n",
    "\n",
    "_Proof of the lemma_: calculate $\\mathcal{K}(\\rho,\\pi_h)$ and use the fact that this is minimal, and null, for $\\rho=\\pi_h$.\n",
    "\n",
    "_Proof of the theorem_: the proof of 1), 2) and 3) rely on the same idea: first, we upper bound\n",
    "$$ \\prod_{t=1}^T \\int \\exp\\left(-\\eta \\ell(y_t,f_{\\theta}(x_t))\\right) p_t({\\rm d}\\theta)$$\n",
    "in terms of\n",
    "$$ \\prod_{t=1}^T  \\exp\\left(-\\eta \\int \\ell(y_t,f_{\\theta}(x_t)) p_t({\\rm d}\\theta) \\right). $$\n",
    "More precisely, we seek for a one-to-one function $F$ such that\n",
    "$$\n",
    " \\prod_{t=1}^T \\int \\exp\\left(-\\eta \\ell(y_t,f_{\\theta}(x_t))\\right) p_t({\\rm d}\\theta)\n",
    "\\leq F\\left\\{ \\prod_{t=1}^T  \\exp\\left(-\\eta \\int \\ell(y_t,f_{\\theta}(x_t)) p_t({\\rm d}\\theta) \\right) \\right\\}.\n",
    "$$\n",
    "Why? Well, it's all we need to do the job! First note that by Jensen's inequality:\n",
    "$$\n",
    "\\prod_{t=1}^T  \\exp\\left(-\\eta \\int \\ell(y_t,f_{\\theta}(x_t)) p_t({\\rm d}\\theta) \\right)\n",
    "= \\exp\\left(-\\eta \\sum_{t=1}^T \\int \\ell(y_t,f_{\\theta}(x_t)) p_t({\\rm d}\\theta) \\right)\n",
    "\\leq \\exp\\left(-\\eta \\sum_{t=1}^T  \\ell(y_t,\\hat{y}_t) \\right) = \\exp(-\\eta L_T) .\n",
    "$$\n",
    "On the other hand:\n",
    "$$\n",
    "\\prod_{t=1}^T \\int \\exp\\left(-\\eta \\ell(y_t,f_{\\theta}(x_t))\\right) p_t({\\rm d}\\theta)\n",
    "= \\prod_{t=1}^T \\int \\frac{\\exp\\left(-\\eta \\ell(y_t,f_{\\theta}(x_t))\\right) \\exp\\left(-\\eta \\sum_{i=1}^{t-1} \\ell(y_i,f_{\\theta}(x_i))\\right)}{W_t} \\pi({\\rm d}\\theta) = \\prod_{t=1}^T \\frac{W_{t+1}}{W_t} = W_{T+1}\n",
    "$$\n",
    "and thanks to the lemma,\n",
    "$$\n",
    "W_{T+1} = \\int \\exp\\left(-\\eta \\sum_{t=1}^T \\ell(y_t,f_{\\theta}(x_t)) \\right) \\pi({\\rm d}\\theta)\n",
    " = \\exp\\left[\n",
    "   -\\eta \\inf_{\\rho } \\left( \\int \\sum_{t=1}^T \\ell(y_t,f_{\\theta}(x_t)) \\rho({\\rm d}\\theta) +\n",
    "     \\frac{\\mathcal{K}(\\rho,\\pi)}{\\eta}\\right)\n",
    " \\right].\n",
    "$$\n",
    "So, if we actually manage to find the desired function $F$ we obtain:\n",
    "$$\n",
    "L_T \\leq \\frac{-1}{\\eta} \\log F^{-1} \\left\\{ \\exp\\left[\n",
    "  -\\eta \\inf_{\\rho } \\left( \\int \\sum_{t=1}^T \\ell(y_t,f_{\\theta}(x_t)) \\rho({\\rm d}\\theta) +\n",
    "     \\frac{\\mathcal{K}(\\rho,\\pi)}{\\eta}\\right)\n",
    " \\right]\\right\\}.\n",
    "$$\n",
    "\n",
    "For 1), use Hoeffding inequality to get:\n",
    "$$ \\prod_{t=1}^T \\int \\exp\\left(-\\eta \\ell(y_t,f_{\\theta}(x_t))\\right) p_t({\\rm d}\\theta)\n",
    "\\leq \\prod_{t=1}^T  \\exp\\left(-\\eta \\int \\ell(y_t,f_{\\theta}(x_t)) p_t({\\rm d}\\theta) + \\frac{C^2\\eta^2}{8} \\right). $$\n",
    "Finally, for 2), use the basic inequality $\\mathbb{E}(\\exp(sZ)) \\leq \\exp\\left[ \\frac{\\exp(sc)-1}{c} \\mathbb{E}(Z)\\right] $ for any random variable $Z$ with values in $[0,c]$ to get:\n",
    "$$ \\prod_{t=1}^T \\int \\exp\\left(-\\eta \\ell(y_t,f_{\\theta}(x_t))\\right) p_t({\\rm d}\\theta)\n",
    "\\leq \\prod_{t=1}^T  \\exp\\left( -\\eta \\frac{1-\\exp(-C \\eta)}{C\\eta } \\int \\ell(y_t,f_{\\theta}(x_t)) p_t({\\rm d}\\theta)\\right). $$\n",
    "Finally, for 3), the bound:\n",
    "$$ \\prod_{t=1}^T \\int \\exp\\left(-\\eta \\ell(y_t,f_{\\theta}(x_t))\\right) p_t({\\rm d}\\theta)\n",
    "\\leq \\exp(-\\eta L_T) $$\n",
    "holds immediately thanks to the exp-convexity assumption!\n"
   ]
  },
  {
   "cell_type": "markdown",
   "metadata": {},
   "source": [
    "**References**\n",
    "\n",
    "Most of these results are presented in:\n",
    "\n",
    "N. Cesa-Bianchi & G. Lugosi, _Prediction, Learning and Games_, Cambridge (2006).\n",
    "\n",
    "This book very good and, as usual with these authors, so well written that it's very enjoyable to read it completely, even if only Chapters 1 to 4 are related to the present material. However, the whole book focuses on what is called here MS-type aggregation: there is a finite number of predictors. The general case is covered, for example, in the first chapter of the following PhD thesis:\n",
    "\n",
    "S. Gerchinovitz, _Prediction of Individual Sequences and Prediction in the Statistical Framework: some Links around Sparse Regression and Aggregation Techniques_, PhD thesis - Université Paris Sud (2011).\n",
    "\n",
    "Note that the idea of EWA is due to two nice papers, one by Vovk, and the other Littlestone and Warmuth (the exact reference is provided in the book _Prediction, Learning and Games_ for example). Finally, the progressive mixture rule was introduced by O. Catoni, the reference is provided in the next chapter. The optimality of the rate $\\log(M)/n$ is due to Tsybakov:\n",
    "\n",
    "A. Tsybakov, Optimal Rates of Aggregation, in _Learning Theory and Kernel Machines_, Springer Lecture Notes in Computer Science 2777, pp. 303-313 (2003).\n",
    "\n",
    "However, since then, it was proven that this estimator suffers many drawbacks, and many improvements were proposed by Catoni, notably by J.-Y. Audibert and many Tsybakov's PhD student: G. Lécué, P. Rigollet, P. Bellec, but this goes beyond the scope of this course."
   ]
  }
 ],
 "metadata": {
  "kernelspec": {
   "display_name": "Python 2",
   "language": "python",
   "name": "python2"
  },
  "language_info": {
   "codemirror_mode": {
    "name": "ipython",
    "version": 2
   },
   "file_extension": ".py",
   "mimetype": "text/x-python",
   "name": "python",
   "nbconvert_exporter": "python",
   "pygments_lexer": "ipython2",
   "version": "2.7.11"
  }
 },
 "nbformat": 4,
 "nbformat_minor": 0
}
