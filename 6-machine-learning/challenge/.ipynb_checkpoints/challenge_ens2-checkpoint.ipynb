{
 "cells": [
  {
   "cell_type": "markdown",
   "metadata": {},
   "source": [
    "# Data Challenge : Prediction of stock market Volume\n",
    "By <i>Fabrice ZAPFACK</i> & <i>Basile CALDERAN</i>"
   ]
  },
  {
   "cell_type": "code",
   "execution_count": 1,
   "metadata": {
    "collapsed": true
   },
   "outputs": [],
   "source": [
    "%matplotlib inline\n",
    "import numpy as np\n",
    "import pandas as pd\n",
    "import matplotlib.pyplot as plt\n",
    "import seaborn as sns; sns.set()"
   ]
  },
  {
   "cell_type": "markdown",
   "metadata": {},
   "source": [
    "## Import Data"
   ]
  },
  {
   "cell_type": "code",
   "execution_count": 2,
   "metadata": {
    "collapsed": false
   },
   "outputs": [],
   "source": [
    "#from os import listdir\n",
    "#a=listdir('.')\n",
    "#print a\n",
    "trainDF = pd.read_csv('data/training_input.csv')\n",
    "testDF = pd.read_csv('data/testing_input.csv')\n",
    "otherDF = pd.read_csv('data/challenge_output_data_training_file_prediction_of'\n",
    "                      '_transaction_volumes_in_financial_markets.csv', sep=';')"
   ]
  },
  {
   "cell_type": "code",
   "execution_count": 3,
   "metadata": {
    "collapsed": false
   },
   "outputs": [
    {
     "data": {
      "text/html": [
       "<div>\n",
       "<table border=\"1\" class=\"dataframe\">\n",
       "  <thead>\n",
       "    <tr style=\"text-align: right;\">\n",
       "      <th></th>\n",
       "      <th>ID</th>\n",
       "      <th>TARGET</th>\n",
       "    </tr>\n",
       "  </thead>\n",
       "  <tbody>\n",
       "    <tr>\n",
       "      <th>count</th>\n",
       "      <td>613220.000000</td>\n",
       "      <td>6.132200e+05</td>\n",
       "    </tr>\n",
       "    <tr>\n",
       "      <th>mean</th>\n",
       "      <td>309493.059915</td>\n",
       "      <td>4.429088e+07</td>\n",
       "    </tr>\n",
       "    <tr>\n",
       "      <th>std</th>\n",
       "      <td>178594.790533</td>\n",
       "      <td>9.478722e+07</td>\n",
       "    </tr>\n",
       "    <tr>\n",
       "      <th>min</th>\n",
       "      <td>1.000000</td>\n",
       "      <td>3.644000e+01</td>\n",
       "    </tr>\n",
       "    <tr>\n",
       "      <th>25%</th>\n",
       "      <td>155142.750000</td>\n",
       "      <td>9.727764e+06</td>\n",
       "    </tr>\n",
       "    <tr>\n",
       "      <th>50%</th>\n",
       "      <td>309405.500000</td>\n",
       "      <td>2.127568e+07</td>\n",
       "    </tr>\n",
       "    <tr>\n",
       "      <th>75%</th>\n",
       "      <td>463904.250000</td>\n",
       "      <td>4.592445e+07</td>\n",
       "    </tr>\n",
       "    <tr>\n",
       "      <th>max</th>\n",
       "      <td>618556.000000</td>\n",
       "      <td>5.510003e+09</td>\n",
       "    </tr>\n",
       "  </tbody>\n",
       "</table>\n",
       "</div>"
      ],
      "text/plain": [
       "                  ID        TARGET\n",
       "count  613220.000000  6.132200e+05\n",
       "mean   309493.059915  4.429088e+07\n",
       "std    178594.790533  9.478722e+07\n",
       "min         1.000000  3.644000e+01\n",
       "25%    155142.750000  9.727764e+06\n",
       "50%    309405.500000  2.127568e+07\n",
       "75%    463904.250000  4.592445e+07\n",
       "max    618556.000000  5.510003e+09"
      ]
     },
     "execution_count": 3,
     "metadata": {},
     "output_type": "execute_result"
    }
   ],
   "source": [
    "otherDF.describe()"
   ]
  },
  {
   "cell_type": "markdown",
   "metadata": {},
   "source": [
    "# Interpolation"
   ]
  },
  {
   "cell_type": "code",
   "execution_count": 109,
   "metadata": {
    "collapsed": true
   },
   "outputs": [],
   "source": [
    "def interpol(trainDF,otherDF,missing_ratio):\n",
    "    ## Rename columns \n",
    "    trainDF2 = trainDF.copy()\n",
    "    cols = list(trainDF2.columns)\n",
    "    cols_new = list(trainDF2.columns)\n",
    "    cols_new[3:]=range(trainDF2.shape[1]-3)\n",
    "    trainDF2=trainDF2.rename(columns=dict(zip(cols, cols_new)))\n",
    "    \n",
    "    ## Remove negative values\n",
    "    trainDF2[trainDF2<0]=np.nan\n",
    "    \n",
    "    ## remove line with too much missing values\n",
    "    trainDF3=trainDF2.drop(['date','product_id','ID'],axis=1)\n",
    "    ratio_missing=trainDF3.isnull().sum(axis=1).div(trainDF3.shape[1])\n",
    "    missing_index=ratio_missing[ratio_missing>missing_ratio].index\n",
    "    trainDF_drop = trainDF2.drop(missing_index,axis=0)\n",
    "    \n",
    "    ## Linear interpolation\n",
    "    interpolatedDF=trainDF_drop.drop(['date','product_id','ID'],\n",
    "                                 axis=1).interpolate(method='linear', limit_direction='both',limit=54, axis=1)#54*0.1\n",
    "    \n",
    "    ## Add Target\n",
    "    interpolatedDF2 = pd.concat([trainDF_drop[['ID','product_id']],interpolatedDF],axis=1)# faut il ajouter la date et product id                           \n",
    "    interpolatedDF2 = pd.merge(interpolatedDF2,otherDF,how='left', on=['ID'])\n",
    "    \n",
    "    ## Interpolate the dropped lines\n",
    "    trainDF_missing = trainDF2.iloc[missing_index,:].reset_index(drop=True)\n",
    "    ## Compute the mean by date\n",
    "    trainDF_mean_date = trainDF2.groupby(by=[\"date\"]).median() # NaN => interpolation\n",
    "    trainDF_mean_date = trainDF_mean_date.drop(['product_id','ID'],\n",
    "                                 axis=1).interpolate(method='linear', limit_direction='both',limit=50, axis=1)\n",
    "    ## Cpmpute the mean by product\n",
    "    trainDF_mean_product = trainDF2.groupby(by=\"product_id\").median() # no NaN\n",
    "    trainDF_mean_product = trainDF_mean_product.drop(['date','ID'],axis=1)\n",
    "    \n",
    "    ## Do a linear interpolation\n",
    "    trainDF_missing_interp = trainDF_missing.drop(['date','product_id','ID'],\n",
    "                                 axis=1).interpolate(method='linear', limit_direction='both',limit=54, axis=1)\n",
    "    \n",
    "    ## Fill missing values by combinin linear interpolation mean by date and mean by product\n",
    "    trainDF_missing2 = trainDF_missing.copy()\n",
    "    for i in range(trainDF_missing2.shape[0]):\n",
    "    # for i in range(10):\n",
    "        product_id = trainDF_missing2[\"product_id\"][i]\n",
    "        mean_products = trainDF_mean_product[trainDF_mean_product.index==product_id].iloc[0,:]\n",
    "        a = trainDF_missing2.iloc[i,3:]\n",
    "        index = a.isnull()\n",
    "\n",
    "        date = trainDF_missing2[\"date\"][i]\n",
    "        mean_date = trainDF_mean_date[trainDF_mean_date.index==date].iloc[0,:]\n",
    "        \n",
    "        a[index] = mean_date[index]\n",
    "\n",
    "#         lin_interp = trainDF_missing_interp.iloc[i,:]\n",
    "#         if a.isnull().sum()<=52:\n",
    "#             coefs = [1./np.abs(lin_interp.mean()-a.mean()),1./np.abs(mean_date.mean()-a.mean()),1./np.abs(mean_products.mean()-a.mean())]\n",
    "#             coefs = coefs/np.sum(coefs)\n",
    "#             a[index] = coefs[0]*lin_interp[index]+ coefs[1]*mean_date[index]+ coefs[2]*mean_products[index]\n",
    "#         else:\n",
    "#             a = 0.5*mean_date + 0.5*mean_products\n",
    "        trainDF_missing2.iloc[i,3:] = a\n",
    "        if trainDF_missing2.iloc[i,3:].isnull().sum()!=0:\n",
    "            print i\n",
    "            \n",
    "    ## Add Target\n",
    "    trainDF_missing2 = pd.merge(trainDF_missing2,otherDF,how='left', on=['ID'])\n",
    "    \n",
    "    ## Concatenate both interpolations\n",
    "    trainingDF = interpolatedDF2.append(trainDF_missing2.drop(['date'],axis=1))\n",
    "    \n",
    "    return trainingDF"
   ]
  },
  {
   "cell_type": "code",
   "execution_count": 120,
   "metadata": {
    "collapsed": false
   },
   "outputs": [
    {
     "data": {
      "text/plain": [
       "1.0627418014833014"
      ]
     },
     "execution_count": 120,
     "metadata": {},
     "output_type": "execute_result"
    }
   ],
   "source": [
    "# MAPE\n",
    "from sklearn.utils import check_array\n",
    "def mean_absolute_percentage_error(y_true, y_pred):\n",
    "    return np.mean(np.abs((y_true - y_pred) / y_true)) * 100\n"
   ]
  },
  {
   "cell_type": "code",
   "execution_count": 115,
   "metadata": {
    "collapsed": false
   },
   "outputs": [
    {
     "name": "stdout",
     "output_type": "stream",
     "text": [
      "0\n",
      "(604066, 57)\n"
     ]
    }
   ],
   "source": [
    "for missing_ratio in np.linspace(0.1,0.6,5):\n",
    "    trainingDF=interpol(trainDF,otherDF,missing_ratio)\n",
    "    print trainingDF.isnull().sum().sum()\n",
    "    print trainingDF.shape\n",
    "    \n",
    "    features = trainingDF.drop(['ID','TARGET'], axis=1)\n",
    "    X_columns = trainingDF.columns.drop(['ID','TARGET'])\n",
    "    X = features.values\n",
    "    y = trainingDF['TARGET'].values\n",
    "    \n",
    "    from sklearn.cross_validation import train_test_split\n",
    "    from sklearn.linear_model import LinearRegression\n",
    "    from sklearn.ensemble import RandomForestRegressor\n",
    "    X_train, X_test, y_train, y_test = train_test_split(X, y, test_size=0.3, random_state=42)\n",
    "    # reg = LinearRegression()\n",
    "    reg = RandomForestRegressor(n_estimators=10,random_state=40)\n",
    "    reg.fit(X_train, (y_train-np.mean(y_train))/np.std(y_train))\n",
    "    y_predict = reg.predict(X_test)\n",
    "    score = mean_absolute_percentage_error(y_test, (y_predict*np.std(y_train))+np.mean(y_train) )\n",
    "    print score"
   ]
  }
 ],
 "metadata": {
  "kernelspec": {
   "display_name": "Python 2",
   "language": "python",
   "name": "python2"
  },
  "language_info": {
   "codemirror_mode": {
    "name": "ipython",
    "version": 2
   },
   "file_extension": ".py",
   "mimetype": "text/x-python",
   "name": "python",
   "nbconvert_exporter": "python",
   "pygments_lexer": "ipython2",
   "version": "2.7.11"
  }
 },
 "nbformat": 4,
 "nbformat_minor": 0
}
