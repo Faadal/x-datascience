{
 "cells": [
  {
   "cell_type": "markdown",
   "metadata": {},
   "source": [
    "# Data Challenge : Prediction of stock market Volume\n",
    "By <i>Fabrice ZAPFACK</i> & <i>Basile CALDERAN</i>"
   ]
  },
  {
   "cell_type": "code",
   "execution_count": 17,
   "metadata": {
    "collapsed": false
   },
   "outputs": [
    {
     "name": "stdout",
     "output_type": "stream",
     "text": [
      "Once deleted, variables cannot be recovered. Proceed (y/[n])? y\n"
     ]
    }
   ],
   "source": [
    "%reset\n",
    "%matplotlib inline\n",
    "import numpy as np\n",
    "import pandas as pd\n",
    "\n",
    "import matplotlib.pyplot as plt\n",
    "import seaborn as sns; sns.set()"
   ]
  },
  {
   "cell_type": "code",
   "execution_count": 18,
   "metadata": {
    "collapsed": false
   },
   "outputs": [],
   "source": [
    "trainDF = pd.read_csv('data/training_input.csv')\n",
    "testDF = pd.read_csv('data/testing_input.csv')\n",
    "otherDF = pd.read_csv('data/challenge_output_data_training_file_prediction_of'\n",
    "                      '_transaction_volumes_in_financial_markets.csv', sep=';')"
   ]
  },
  {
   "cell_type": "code",
   "execution_count": 19,
   "metadata": {
    "collapsed": false
   },
   "outputs": [],
   "source": [
    "trainDF[trainDF<0]=np.nan\n",
    "trainDF.ix[:,3:] = trainDF.ix[:,3:].interpolate(method='linear', limit_direction='both',limit=4, axis=1)\n",
    "\n",
    "testDF[testDF<0]=np.nan\n",
    "testDF.ix[:,3:] = testDF.ix[:,3:].interpolate(method='linear', limit_direction='both',limit=4, axis=1)"
   ]
  },
  {
   "cell_type": "code",
   "execution_count": 20,
   "metadata": {
    "collapsed": false,
    "scrolled": true
   },
   "outputs": [
    {
     "data": {
      "text/html": [
       "<div>\n",
       "<table border=\"1\" class=\"dataframe\">\n",
       "  <thead>\n",
       "    <tr style=\"text-align: right;\">\n",
       "      <th></th>\n",
       "      <th>ID</th>\n",
       "      <th>date</th>\n",
       "      <th>product_id</th>\n",
       "      <th>09:30:00</th>\n",
       "      <th>09:35:00</th>\n",
       "      <th>09:40:00</th>\n",
       "      <th>09:45:00</th>\n",
       "      <th>09:50:00</th>\n",
       "      <th>09:55:00</th>\n",
       "      <th>10:00:00</th>\n",
       "      <th>...</th>\n",
       "      <th>13:15:00</th>\n",
       "      <th>13:20:00</th>\n",
       "      <th>13:25:00</th>\n",
       "      <th>13:30:00</th>\n",
       "      <th>13:35:00</th>\n",
       "      <th>13:40:00</th>\n",
       "      <th>13:45:00</th>\n",
       "      <th>13:50:00</th>\n",
       "      <th>13:55:00</th>\n",
       "      <th>TARGET</th>\n",
       "    </tr>\n",
       "  </thead>\n",
       "  <tbody>\n",
       "    <tr>\n",
       "      <th>0</th>\n",
       "      <td>1</td>\n",
       "      <td>1</td>\n",
       "      <td>236</td>\n",
       "      <td>24138818.08</td>\n",
       "      <td>2457975.00</td>\n",
       "      <td>741777.14</td>\n",
       "      <td>973487.28</td>\n",
       "      <td>764018.92</td>\n",
       "      <td>1074769.92</td>\n",
       "      <td>3056492.88</td>\n",
       "      <td>...</td>\n",
       "      <td>818269.86</td>\n",
       "      <td>629216.64</td>\n",
       "      <td>1467907.56</td>\n",
       "      <td>984992.90</td>\n",
       "      <td>959853.30</td>\n",
       "      <td>892596.88</td>\n",
       "      <td>528573.62</td>\n",
       "      <td>973928.60</td>\n",
       "      <td>972596.43</td>\n",
       "      <td>36523251.91</td>\n",
       "    </tr>\n",
       "    <tr>\n",
       "      <th>1</th>\n",
       "      <td>2</td>\n",
       "      <td>1</td>\n",
       "      <td>238</td>\n",
       "      <td>8897508.62</td>\n",
       "      <td>104198.40</td>\n",
       "      <td>61840.92</td>\n",
       "      <td>78523.02</td>\n",
       "      <td>128729.16</td>\n",
       "      <td>60789.84</td>\n",
       "      <td>18072.62</td>\n",
       "      <td>...</td>\n",
       "      <td>12707.50</td>\n",
       "      <td>25131.87</td>\n",
       "      <td>24124.80</td>\n",
       "      <td>46132.35</td>\n",
       "      <td>51850.26</td>\n",
       "      <td>46478.41</td>\n",
       "      <td>17199.00</td>\n",
       "      <td>34500.62</td>\n",
       "      <td>37690.24</td>\n",
       "      <td>5645118.17</td>\n",
       "    </tr>\n",
       "    <tr>\n",
       "      <th>2</th>\n",
       "      <td>3</td>\n",
       "      <td>1</td>\n",
       "      <td>242</td>\n",
       "      <td>6461968.95</td>\n",
       "      <td>109497.00</td>\n",
       "      <td>152577.00</td>\n",
       "      <td>164024.00</td>\n",
       "      <td>204372.00</td>\n",
       "      <td>321545.70</td>\n",
       "      <td>346236.00</td>\n",
       "      <td>...</td>\n",
       "      <td>33978.00</td>\n",
       "      <td>239729.60</td>\n",
       "      <td>67860.00</td>\n",
       "      <td>68478.00</td>\n",
       "      <td>105222.24</td>\n",
       "      <td>101646.00</td>\n",
       "      <td>79128.00</td>\n",
       "      <td>101248.00</td>\n",
       "      <td>367120.00</td>\n",
       "      <td>8103847.53</td>\n",
       "    </tr>\n",
       "    <tr>\n",
       "      <th>3</th>\n",
       "      <td>4</td>\n",
       "      <td>1</td>\n",
       "      <td>243</td>\n",
       "      <td>6822223.20</td>\n",
       "      <td>220467.28</td>\n",
       "      <td>161594.35</td>\n",
       "      <td>264893.44</td>\n",
       "      <td>300326.20</td>\n",
       "      <td>707391.68</td>\n",
       "      <td>327428.00</td>\n",
       "      <td>...</td>\n",
       "      <td>7096.00</td>\n",
       "      <td>514560.06</td>\n",
       "      <td>1395147.39</td>\n",
       "      <td>984468.82</td>\n",
       "      <td>565263.30</td>\n",
       "      <td>286416.00</td>\n",
       "      <td>71518.14</td>\n",
       "      <td>155752.10</td>\n",
       "      <td>123690.00</td>\n",
       "      <td>20047809.46</td>\n",
       "    </tr>\n",
       "    <tr>\n",
       "      <th>4</th>\n",
       "      <td>5</td>\n",
       "      <td>1</td>\n",
       "      <td>261</td>\n",
       "      <td>36632811.84</td>\n",
       "      <td>4470974.95</td>\n",
       "      <td>1448461.05</td>\n",
       "      <td>1500694.38</td>\n",
       "      <td>944346.50</td>\n",
       "      <td>958685.76</td>\n",
       "      <td>1685234.07</td>\n",
       "      <td>...</td>\n",
       "      <td>289330.13</td>\n",
       "      <td>578565.65</td>\n",
       "      <td>358484.80</td>\n",
       "      <td>440292.16</td>\n",
       "      <td>795697.65</td>\n",
       "      <td>565374.30</td>\n",
       "      <td>832022.43</td>\n",
       "      <td>1425134.40</td>\n",
       "      <td>2310369.30</td>\n",
       "      <td>36833075.51</td>\n",
       "    </tr>\n",
       "  </tbody>\n",
       "</table>\n",
       "<p>5 rows × 58 columns</p>\n",
       "</div>"
      ],
      "text/plain": [
       "   ID  date  product_id     09:30:00    09:35:00    09:40:00    09:45:00  \\\n",
       "0   1     1         236  24138818.08  2457975.00   741777.14   973487.28   \n",
       "1   2     1         238   8897508.62   104198.40    61840.92    78523.02   \n",
       "2   3     1         242   6461968.95   109497.00   152577.00   164024.00   \n",
       "3   4     1         243   6822223.20   220467.28   161594.35   264893.44   \n",
       "4   5     1         261  36632811.84  4470974.95  1448461.05  1500694.38   \n",
       "\n",
       "    09:50:00    09:55:00    10:00:00     ...        13:15:00   13:20:00  \\\n",
       "0  764018.92  1074769.92  3056492.88     ...       818269.86  629216.64   \n",
       "1  128729.16    60789.84    18072.62     ...        12707.50   25131.87   \n",
       "2  204372.00   321545.70   346236.00     ...        33978.00  239729.60   \n",
       "3  300326.20   707391.68   327428.00     ...         7096.00  514560.06   \n",
       "4  944346.50   958685.76  1685234.07     ...       289330.13  578565.65   \n",
       "\n",
       "     13:25:00   13:30:00   13:35:00   13:40:00   13:45:00    13:50:00  \\\n",
       "0  1467907.56  984992.90  959853.30  892596.88  528573.62   973928.60   \n",
       "1    24124.80   46132.35   51850.26   46478.41   17199.00    34500.62   \n",
       "2    67860.00   68478.00  105222.24  101646.00   79128.00   101248.00   \n",
       "3  1395147.39  984468.82  565263.30  286416.00   71518.14   155752.10   \n",
       "4   358484.80  440292.16  795697.65  565374.30  832022.43  1425134.40   \n",
       "\n",
       "     13:55:00       TARGET  \n",
       "0   972596.43  36523251.91  \n",
       "1    37690.24   5645118.17  \n",
       "2   367120.00   8103847.53  \n",
       "3   123690.00  20047809.46  \n",
       "4  2310369.30  36833075.51  \n",
       "\n",
       "[5 rows x 58 columns]"
      ]
     },
     "execution_count": 20,
     "metadata": {},
     "output_type": "execute_result"
    }
   ],
   "source": [
    "trainLablledDF = pd.merge(trainDF,otherDF,how='left', on=['ID'])\n",
    "trainLablledDF.head()"
   ]
  },
  {
   "cell_type": "code",
   "execution_count": 21,
   "metadata": {
    "collapsed": false
   },
   "outputs": [
    {
     "data": {
      "text/html": [
       "<div>\n",
       "<table border=\"1\" class=\"dataframe\">\n",
       "  <thead>\n",
       "    <tr style=\"text-align: right;\">\n",
       "      <th></th>\n",
       "      <th>ID</th>\n",
       "      <th>date</th>\n",
       "      <th>product_id</th>\n",
       "      <th>09:30:00</th>\n",
       "      <th>09:35:00</th>\n",
       "      <th>09:40:00</th>\n",
       "      <th>09:45:00</th>\n",
       "      <th>09:50:00</th>\n",
       "      <th>09:55:00</th>\n",
       "      <th>10:00:00</th>\n",
       "      <th>...</th>\n",
       "      <th>13:15:00</th>\n",
       "      <th>13:20:00</th>\n",
       "      <th>13:25:00</th>\n",
       "      <th>13:30:00</th>\n",
       "      <th>13:35:00</th>\n",
       "      <th>13:40:00</th>\n",
       "      <th>13:45:00</th>\n",
       "      <th>13:50:00</th>\n",
       "      <th>13:55:00</th>\n",
       "      <th>TARGET</th>\n",
       "    </tr>\n",
       "  </thead>\n",
       "  <tbody>\n",
       "    <tr>\n",
       "      <th>count</th>\n",
       "      <td>613220.000000</td>\n",
       "      <td>613220.000000</td>\n",
       "      <td>613220.000000</td>\n",
       "      <td>6.132200e+05</td>\n",
       "      <td>6.132200e+05</td>\n",
       "      <td>6.132200e+05</td>\n",
       "      <td>6.132200e+05</td>\n",
       "      <td>6.132200e+05</td>\n",
       "      <td>6.132200e+05</td>\n",
       "      <td>6.132200e+05</td>\n",
       "      <td>...</td>\n",
       "      <td>6.132200e+05</td>\n",
       "      <td>6.132200e+05</td>\n",
       "      <td>6.132200e+05</td>\n",
       "      <td>6.132200e+05</td>\n",
       "      <td>6.132200e+05</td>\n",
       "      <td>6.132200e+05</td>\n",
       "      <td>6.132200e+05</td>\n",
       "      <td>6.132200e+05</td>\n",
       "      <td>6.132200e+05</td>\n",
       "      <td>6.132200e+05</td>\n",
       "    </tr>\n",
       "    <tr>\n",
       "      <th>mean</th>\n",
       "      <td>309493.059915</td>\n",
       "      <td>944.530661</td>\n",
       "      <td>2309.748032</td>\n",
       "      <td>5.429946e+06</td>\n",
       "      <td>2.764865e+06</td>\n",
       "      <td>2.499805e+06</td>\n",
       "      <td>2.387008e+06</td>\n",
       "      <td>2.268973e+06</td>\n",
       "      <td>2.108490e+06</td>\n",
       "      <td>2.385712e+06</td>\n",
       "      <td>...</td>\n",
       "      <td>1.008396e+06</td>\n",
       "      <td>1.008239e+06</td>\n",
       "      <td>1.006849e+06</td>\n",
       "      <td>1.064120e+06</td>\n",
       "      <td>1.047476e+06</td>\n",
       "      <td>1.040163e+06</td>\n",
       "      <td>1.058982e+06</td>\n",
       "      <td>1.075604e+06</td>\n",
       "      <td>1.080388e+06</td>\n",
       "      <td>4.429088e+07</td>\n",
       "    </tr>\n",
       "    <tr>\n",
       "      <th>std</th>\n",
       "      <td>178594.790533</td>\n",
       "      <td>543.734476</td>\n",
       "      <td>1552.608300</td>\n",
       "      <td>1.921729e+07</td>\n",
       "      <td>9.374836e+06</td>\n",
       "      <td>8.176212e+06</td>\n",
       "      <td>7.465765e+06</td>\n",
       "      <td>7.056899e+06</td>\n",
       "      <td>6.450910e+06</td>\n",
       "      <td>6.787187e+06</td>\n",
       "      <td>...</td>\n",
       "      <td>2.837244e+06</td>\n",
       "      <td>2.811123e+06</td>\n",
       "      <td>2.824000e+06</td>\n",
       "      <td>3.259811e+06</td>\n",
       "      <td>2.941520e+06</td>\n",
       "      <td>2.965746e+06</td>\n",
       "      <td>3.002029e+06</td>\n",
       "      <td>2.925841e+06</td>\n",
       "      <td>2.987920e+06</td>\n",
       "      <td>9.478722e+07</td>\n",
       "    </tr>\n",
       "    <tr>\n",
       "      <th>min</th>\n",
       "      <td>1.000000</td>\n",
       "      <td>1.000000</td>\n",
       "      <td>236.000000</td>\n",
       "      <td>6.850000e+01</td>\n",
       "      <td>1.424000e+01</td>\n",
       "      <td>2.986000e+01</td>\n",
       "      <td>2.690000e+01</td>\n",
       "      <td>2.578000e+01</td>\n",
       "      <td>3.726000e+01</td>\n",
       "      <td>1.014000e+01</td>\n",
       "      <td>...</td>\n",
       "      <td>7.600000e+00</td>\n",
       "      <td>3.096000e+01</td>\n",
       "      <td>1.288500e+01</td>\n",
       "      <td>2.658000e+01</td>\n",
       "      <td>1.950000e+00</td>\n",
       "      <td>2.721000e+01</td>\n",
       "      <td>2.062000e+01</td>\n",
       "      <td>1.289000e+01</td>\n",
       "      <td>2.062000e+01</td>\n",
       "      <td>3.644000e+01</td>\n",
       "    </tr>\n",
       "    <tr>\n",
       "      <th>25%</th>\n",
       "      <td>155142.750000</td>\n",
       "      <td>475.000000</td>\n",
       "      <td>1263.000000</td>\n",
       "      <td>5.447526e+05</td>\n",
       "      <td>2.812955e+05</td>\n",
       "      <td>2.846642e+05</td>\n",
       "      <td>2.895420e+05</td>\n",
       "      <td>2.870400e+05</td>\n",
       "      <td>2.657010e+05</td>\n",
       "      <td>3.253711e+05</td>\n",
       "      <td>...</td>\n",
       "      <td>1.457250e+05</td>\n",
       "      <td>1.457813e+05</td>\n",
       "      <td>1.425475e+05</td>\n",
       "      <td>1.576809e+05</td>\n",
       "      <td>1.533757e+05</td>\n",
       "      <td>1.526350e+05</td>\n",
       "      <td>1.566495e+05</td>\n",
       "      <td>1.601526e+05</td>\n",
       "      <td>1.597920e+05</td>\n",
       "      <td>9.727764e+06</td>\n",
       "    </tr>\n",
       "    <tr>\n",
       "      <th>50%</th>\n",
       "      <td>309405.500000</td>\n",
       "      <td>945.000000</td>\n",
       "      <td>1969.000000</td>\n",
       "      <td>1.442028e+06</td>\n",
       "      <td>8.004445e+05</td>\n",
       "      <td>7.778400e+05</td>\n",
       "      <td>7.763040e+05</td>\n",
       "      <td>7.616662e+05</td>\n",
       "      <td>7.087676e+05</td>\n",
       "      <td>8.451880e+05</td>\n",
       "      <td>...</td>\n",
       "      <td>3.800575e+05</td>\n",
       "      <td>3.800488e+05</td>\n",
       "      <td>3.736691e+05</td>\n",
       "      <td>4.086605e+05</td>\n",
       "      <td>4.002688e+05</td>\n",
       "      <td>3.984300e+05</td>\n",
       "      <td>4.066848e+05</td>\n",
       "      <td>4.138670e+05</td>\n",
       "      <td>4.140655e+05</td>\n",
       "      <td>2.127568e+07</td>\n",
       "    </tr>\n",
       "    <tr>\n",
       "      <th>75%</th>\n",
       "      <td>463904.250000</td>\n",
       "      <td>1414.000000</td>\n",
       "      <td>2705.000000</td>\n",
       "      <td>4.078241e+06</td>\n",
       "      <td>2.229652e+06</td>\n",
       "      <td>2.093195e+06</td>\n",
       "      <td>2.058595e+06</td>\n",
       "      <td>1.989953e+06</td>\n",
       "      <td>1.857234e+06</td>\n",
       "      <td>2.153994e+06</td>\n",
       "      <td>...</td>\n",
       "      <td>9.550361e+05</td>\n",
       "      <td>9.527836e+05</td>\n",
       "      <td>9.428405e+05</td>\n",
       "      <td>1.014061e+06</td>\n",
       "      <td>9.967877e+05</td>\n",
       "      <td>9.926501e+05</td>\n",
       "      <td>1.009352e+06</td>\n",
       "      <td>1.027311e+06</td>\n",
       "      <td>1.028130e+06</td>\n",
       "      <td>4.592445e+07</td>\n",
       "    </tr>\n",
       "    <tr>\n",
       "      <th>max</th>\n",
       "      <td>618556.000000</td>\n",
       "      <td>1884.000000</td>\n",
       "      <td>5775.000000</td>\n",
       "      <td>1.724119e+09</td>\n",
       "      <td>8.250823e+08</td>\n",
       "      <td>6.053558e+08</td>\n",
       "      <td>7.642142e+08</td>\n",
       "      <td>1.007602e+09</td>\n",
       "      <td>7.642142e+08</td>\n",
       "      <td>7.642142e+08</td>\n",
       "      <td>...</td>\n",
       "      <td>3.292835e+08</td>\n",
       "      <td>3.621890e+08</td>\n",
       "      <td>3.045972e+08</td>\n",
       "      <td>9.658196e+08</td>\n",
       "      <td>3.654456e+08</td>\n",
       "      <td>4.265442e+08</td>\n",
       "      <td>4.604287e+08</td>\n",
       "      <td>2.678111e+08</td>\n",
       "      <td>2.891670e+08</td>\n",
       "      <td>5.510003e+09</td>\n",
       "    </tr>\n",
       "  </tbody>\n",
       "</table>\n",
       "<p>8 rows × 58 columns</p>\n",
       "</div>"
      ],
      "text/plain": [
       "                  ID           date     product_id      09:30:00  \\\n",
       "count  613220.000000  613220.000000  613220.000000  6.132200e+05   \n",
       "mean   309493.059915     944.530661    2309.748032  5.429946e+06   \n",
       "std    178594.790533     543.734476    1552.608300  1.921729e+07   \n",
       "min         1.000000       1.000000     236.000000  6.850000e+01   \n",
       "25%    155142.750000     475.000000    1263.000000  5.447526e+05   \n",
       "50%    309405.500000     945.000000    1969.000000  1.442028e+06   \n",
       "75%    463904.250000    1414.000000    2705.000000  4.078241e+06   \n",
       "max    618556.000000    1884.000000    5775.000000  1.724119e+09   \n",
       "\n",
       "           09:35:00      09:40:00      09:45:00      09:50:00      09:55:00  \\\n",
       "count  6.132200e+05  6.132200e+05  6.132200e+05  6.132200e+05  6.132200e+05   \n",
       "mean   2.764865e+06  2.499805e+06  2.387008e+06  2.268973e+06  2.108490e+06   \n",
       "std    9.374836e+06  8.176212e+06  7.465765e+06  7.056899e+06  6.450910e+06   \n",
       "min    1.424000e+01  2.986000e+01  2.690000e+01  2.578000e+01  3.726000e+01   \n",
       "25%    2.812955e+05  2.846642e+05  2.895420e+05  2.870400e+05  2.657010e+05   \n",
       "50%    8.004445e+05  7.778400e+05  7.763040e+05  7.616662e+05  7.087676e+05   \n",
       "75%    2.229652e+06  2.093195e+06  2.058595e+06  1.989953e+06  1.857234e+06   \n",
       "max    8.250823e+08  6.053558e+08  7.642142e+08  1.007602e+09  7.642142e+08   \n",
       "\n",
       "           10:00:00      ...           13:15:00      13:20:00      13:25:00  \\\n",
       "count  6.132200e+05      ...       6.132200e+05  6.132200e+05  6.132200e+05   \n",
       "mean   2.385712e+06      ...       1.008396e+06  1.008239e+06  1.006849e+06   \n",
       "std    6.787187e+06      ...       2.837244e+06  2.811123e+06  2.824000e+06   \n",
       "min    1.014000e+01      ...       7.600000e+00  3.096000e+01  1.288500e+01   \n",
       "25%    3.253711e+05      ...       1.457250e+05  1.457813e+05  1.425475e+05   \n",
       "50%    8.451880e+05      ...       3.800575e+05  3.800488e+05  3.736691e+05   \n",
       "75%    2.153994e+06      ...       9.550361e+05  9.527836e+05  9.428405e+05   \n",
       "max    7.642142e+08      ...       3.292835e+08  3.621890e+08  3.045972e+08   \n",
       "\n",
       "           13:30:00      13:35:00      13:40:00      13:45:00      13:50:00  \\\n",
       "count  6.132200e+05  6.132200e+05  6.132200e+05  6.132200e+05  6.132200e+05   \n",
       "mean   1.064120e+06  1.047476e+06  1.040163e+06  1.058982e+06  1.075604e+06   \n",
       "std    3.259811e+06  2.941520e+06  2.965746e+06  3.002029e+06  2.925841e+06   \n",
       "min    2.658000e+01  1.950000e+00  2.721000e+01  2.062000e+01  1.289000e+01   \n",
       "25%    1.576809e+05  1.533757e+05  1.526350e+05  1.566495e+05  1.601526e+05   \n",
       "50%    4.086605e+05  4.002688e+05  3.984300e+05  4.066848e+05  4.138670e+05   \n",
       "75%    1.014061e+06  9.967877e+05  9.926501e+05  1.009352e+06  1.027311e+06   \n",
       "max    9.658196e+08  3.654456e+08  4.265442e+08  4.604287e+08  2.678111e+08   \n",
       "\n",
       "           13:55:00        TARGET  \n",
       "count  6.132200e+05  6.132200e+05  \n",
       "mean   1.080388e+06  4.429088e+07  \n",
       "std    2.987920e+06  9.478722e+07  \n",
       "min    2.062000e+01  3.644000e+01  \n",
       "25%    1.597920e+05  9.727764e+06  \n",
       "50%    4.140655e+05  2.127568e+07  \n",
       "75%    1.028130e+06  4.592445e+07  \n",
       "max    2.891670e+08  5.510003e+09  \n",
       "\n",
       "[8 rows x 58 columns]"
      ]
     },
     "execution_count": 21,
     "metadata": {},
     "output_type": "execute_result"
    }
   ],
   "source": [
    "trainLablledDF = trainLablledDF.fillna(trainLablledDF.median())\n",
    "trainLablledDF.describe()"
   ]
  },
  {
   "cell_type": "code",
   "execution_count": 22,
   "metadata": {
    "collapsed": false
   },
   "outputs": [
    {
     "data": {
      "text/html": [
       "<div>\n",
       "<table border=\"1\" class=\"dataframe\">\n",
       "  <thead>\n",
       "    <tr style=\"text-align: right;\">\n",
       "      <th></th>\n",
       "      <th>ID</th>\n",
       "      <th>date</th>\n",
       "      <th>product_id</th>\n",
       "      <th>09:30:00</th>\n",
       "      <th>09:35:00</th>\n",
       "      <th>09:40:00</th>\n",
       "      <th>09:45:00</th>\n",
       "      <th>09:50:00</th>\n",
       "      <th>09:55:00</th>\n",
       "      <th>10:00:00</th>\n",
       "      <th>...</th>\n",
       "      <th>13:10:00</th>\n",
       "      <th>13:15:00</th>\n",
       "      <th>13:20:00</th>\n",
       "      <th>13:25:00</th>\n",
       "      <th>13:30:00</th>\n",
       "      <th>13:35:00</th>\n",
       "      <th>13:40:00</th>\n",
       "      <th>13:45:00</th>\n",
       "      <th>13:50:00</th>\n",
       "      <th>13:55:00</th>\n",
       "    </tr>\n",
       "  </thead>\n",
       "  <tbody>\n",
       "    <tr>\n",
       "      <th>count</th>\n",
       "      <td>614098.000000</td>\n",
       "      <td>614098.000000</td>\n",
       "      <td>614098.000000</td>\n",
       "      <td>6.140980e+05</td>\n",
       "      <td>6.140980e+05</td>\n",
       "      <td>6.140980e+05</td>\n",
       "      <td>6.140980e+05</td>\n",
       "      <td>6.140980e+05</td>\n",
       "      <td>6.140980e+05</td>\n",
       "      <td>6.140980e+05</td>\n",
       "      <td>...</td>\n",
       "      <td>6.140980e+05</td>\n",
       "      <td>6.140980e+05</td>\n",
       "      <td>6.140980e+05</td>\n",
       "      <td>6.140980e+05</td>\n",
       "      <td>6.140980e+05</td>\n",
       "      <td>6.140980e+05</td>\n",
       "      <td>6.140980e+05</td>\n",
       "      <td>6.140980e+05</td>\n",
       "      <td>6.140980e+05</td>\n",
       "      <td>6.140980e+05</td>\n",
       "    </tr>\n",
       "    <tr>\n",
       "      <th>mean</th>\n",
       "      <td>927850.254671</td>\n",
       "      <td>2823.227841</td>\n",
       "      <td>2309.384010</td>\n",
       "      <td>5.200647e+06</td>\n",
       "      <td>2.744896e+06</td>\n",
       "      <td>2.496777e+06</td>\n",
       "      <td>2.371524e+06</td>\n",
       "      <td>2.262044e+06</td>\n",
       "      <td>2.099595e+06</td>\n",
       "      <td>2.374477e+06</td>\n",
       "      <td>...</td>\n",
       "      <td>9.925990e+05</td>\n",
       "      <td>1.006712e+06</td>\n",
       "      <td>1.003949e+06</td>\n",
       "      <td>1.002079e+06</td>\n",
       "      <td>1.056310e+06</td>\n",
       "      <td>1.040250e+06</td>\n",
       "      <td>1.054894e+06</td>\n",
       "      <td>1.064870e+06</td>\n",
       "      <td>1.072143e+06</td>\n",
       "      <td>1.074899e+06</td>\n",
       "    </tr>\n",
       "    <tr>\n",
       "      <th>std</th>\n",
       "      <td>178727.462078</td>\n",
       "      <td>544.030344</td>\n",
       "      <td>1552.518972</td>\n",
       "      <td>1.849259e+07</td>\n",
       "      <td>9.524064e+06</td>\n",
       "      <td>8.254736e+06</td>\n",
       "      <td>7.399398e+06</td>\n",
       "      <td>6.864466e+06</td>\n",
       "      <td>6.289208e+06</td>\n",
       "      <td>6.539874e+06</td>\n",
       "      <td>...</td>\n",
       "      <td>4.094444e+06</td>\n",
       "      <td>3.038590e+06</td>\n",
       "      <td>3.340865e+06</td>\n",
       "      <td>3.372803e+06</td>\n",
       "      <td>3.309986e+06</td>\n",
       "      <td>3.370219e+06</td>\n",
       "      <td>3.843402e+06</td>\n",
       "      <td>3.427583e+06</td>\n",
       "      <td>3.952071e+06</td>\n",
       "      <td>3.991982e+06</td>\n",
       "    </tr>\n",
       "    <tr>\n",
       "      <th>min</th>\n",
       "      <td>618557.000000</td>\n",
       "      <td>1885.000000</td>\n",
       "      <td>236.000000</td>\n",
       "      <td>3.954000e+01</td>\n",
       "      <td>7.220000e+00</td>\n",
       "      <td>9.860000e+00</td>\n",
       "      <td>3.491000e+01</td>\n",
       "      <td>3.861000e+01</td>\n",
       "      <td>3.277000e+01</td>\n",
       "      <td>1.459000e+01</td>\n",
       "      <td>...</td>\n",
       "      <td>5.705000e+00</td>\n",
       "      <td>5.710000e+00</td>\n",
       "      <td>6.475000e+00</td>\n",
       "      <td>2.170000e+00</td>\n",
       "      <td>1.220000e+01</td>\n",
       "      <td>1.329000e+01</td>\n",
       "      <td>1.372000e+01</td>\n",
       "      <td>4.880000e+00</td>\n",
       "      <td>2.750000e+00</td>\n",
       "      <td>1.418000e+01</td>\n",
       "    </tr>\n",
       "    <tr>\n",
       "      <th>25%</th>\n",
       "      <td>773036.250000</td>\n",
       "      <td>2351.000000</td>\n",
       "      <td>1263.000000</td>\n",
       "      <td>5.414317e+05</td>\n",
       "      <td>2.780686e+05</td>\n",
       "      <td>2.848320e+05</td>\n",
       "      <td>2.887700e+05</td>\n",
       "      <td>2.857600e+05</td>\n",
       "      <td>2.650076e+05</td>\n",
       "      <td>3.267900e+05</td>\n",
       "      <td>...</td>\n",
       "      <td>1.415505e+05</td>\n",
       "      <td>1.451510e+05</td>\n",
       "      <td>1.439233e+05</td>\n",
       "      <td>1.403643e+05</td>\n",
       "      <td>1.560782e+05</td>\n",
       "      <td>1.514240e+05</td>\n",
       "      <td>1.519852e+05</td>\n",
       "      <td>1.556427e+05</td>\n",
       "      <td>1.572144e+05</td>\n",
       "      <td>1.575724e+05</td>\n",
       "    </tr>\n",
       "    <tr>\n",
       "      <th>50%</th>\n",
       "      <td>927824.500000</td>\n",
       "      <td>2822.000000</td>\n",
       "      <td>1969.000000</td>\n",
       "      <td>1.423200e+06</td>\n",
       "      <td>7.925784e+05</td>\n",
       "      <td>7.764395e+05</td>\n",
       "      <td>7.751800e+05</td>\n",
       "      <td>7.583195e+05</td>\n",
       "      <td>7.063288e+05</td>\n",
       "      <td>8.470980e+05</td>\n",
       "      <td>...</td>\n",
       "      <td>3.707302e+05</td>\n",
       "      <td>3.785593e+05</td>\n",
       "      <td>3.765500e+05</td>\n",
       "      <td>3.695460e+05</td>\n",
       "      <td>4.058235e+05</td>\n",
       "      <td>3.946573e+05</td>\n",
       "      <td>3.973900e+05</td>\n",
       "      <td>4.036347e+05</td>\n",
       "      <td>4.086410e+05</td>\n",
       "      <td>4.093725e+05</td>\n",
       "    </tr>\n",
       "    <tr>\n",
       "      <th>75%</th>\n",
       "      <td>1082939.750000</td>\n",
       "      <td>3294.000000</td>\n",
       "      <td>2705.000000</td>\n",
       "      <td>3.957723e+06</td>\n",
       "      <td>2.193410e+06</td>\n",
       "      <td>2.080841e+06</td>\n",
       "      <td>2.043300e+06</td>\n",
       "      <td>1.978938e+06</td>\n",
       "      <td>1.844091e+06</td>\n",
       "      <td>2.154236e+06</td>\n",
       "      <td>...</td>\n",
       "      <td>9.300690e+05</td>\n",
       "      <td>9.498951e+05</td>\n",
       "      <td>9.433660e+05</td>\n",
       "      <td>9.335235e+05</td>\n",
       "      <td>1.003253e+06</td>\n",
       "      <td>9.845934e+05</td>\n",
       "      <td>9.899951e+05</td>\n",
       "      <td>1.003656e+06</td>\n",
       "      <td>1.013368e+06</td>\n",
       "      <td>1.014436e+06</td>\n",
       "    </tr>\n",
       "    <tr>\n",
       "      <th>max</th>\n",
       "      <td>1238332.000000</td>\n",
       "      <td>3771.000000</td>\n",
       "      <td>5775.000000</td>\n",
       "      <td>1.907825e+09</td>\n",
       "      <td>8.782005e+08</td>\n",
       "      <td>9.121039e+08</td>\n",
       "      <td>5.425941e+08</td>\n",
       "      <td>6.463832e+08</td>\n",
       "      <td>5.859006e+08</td>\n",
       "      <td>4.825617e+08</td>\n",
       "      <td>...</td>\n",
       "      <td>1.566694e+09</td>\n",
       "      <td>5.688718e+08</td>\n",
       "      <td>1.076798e+09</td>\n",
       "      <td>1.076798e+09</td>\n",
       "      <td>8.939414e+08</td>\n",
       "      <td>8.939414e+08</td>\n",
       "      <td>9.791838e+08</td>\n",
       "      <td>8.126740e+08</td>\n",
       "      <td>1.435730e+09</td>\n",
       "      <td>1.435730e+09</td>\n",
       "    </tr>\n",
       "  </tbody>\n",
       "</table>\n",
       "<p>8 rows × 57 columns</p>\n",
       "</div>"
      ],
      "text/plain": [
       "                   ID           date     product_id      09:30:00  \\\n",
       "count   614098.000000  614098.000000  614098.000000  6.140980e+05   \n",
       "mean    927850.254671    2823.227841    2309.384010  5.200647e+06   \n",
       "std     178727.462078     544.030344    1552.518972  1.849259e+07   \n",
       "min     618557.000000    1885.000000     236.000000  3.954000e+01   \n",
       "25%     773036.250000    2351.000000    1263.000000  5.414317e+05   \n",
       "50%     927824.500000    2822.000000    1969.000000  1.423200e+06   \n",
       "75%    1082939.750000    3294.000000    2705.000000  3.957723e+06   \n",
       "max    1238332.000000    3771.000000    5775.000000  1.907825e+09   \n",
       "\n",
       "           09:35:00      09:40:00      09:45:00      09:50:00      09:55:00  \\\n",
       "count  6.140980e+05  6.140980e+05  6.140980e+05  6.140980e+05  6.140980e+05   \n",
       "mean   2.744896e+06  2.496777e+06  2.371524e+06  2.262044e+06  2.099595e+06   \n",
       "std    9.524064e+06  8.254736e+06  7.399398e+06  6.864466e+06  6.289208e+06   \n",
       "min    7.220000e+00  9.860000e+00  3.491000e+01  3.861000e+01  3.277000e+01   \n",
       "25%    2.780686e+05  2.848320e+05  2.887700e+05  2.857600e+05  2.650076e+05   \n",
       "50%    7.925784e+05  7.764395e+05  7.751800e+05  7.583195e+05  7.063288e+05   \n",
       "75%    2.193410e+06  2.080841e+06  2.043300e+06  1.978938e+06  1.844091e+06   \n",
       "max    8.782005e+08  9.121039e+08  5.425941e+08  6.463832e+08  5.859006e+08   \n",
       "\n",
       "           10:00:00      ...           13:10:00      13:15:00      13:20:00  \\\n",
       "count  6.140980e+05      ...       6.140980e+05  6.140980e+05  6.140980e+05   \n",
       "mean   2.374477e+06      ...       9.925990e+05  1.006712e+06  1.003949e+06   \n",
       "std    6.539874e+06      ...       4.094444e+06  3.038590e+06  3.340865e+06   \n",
       "min    1.459000e+01      ...       5.705000e+00  5.710000e+00  6.475000e+00   \n",
       "25%    3.267900e+05      ...       1.415505e+05  1.451510e+05  1.439233e+05   \n",
       "50%    8.470980e+05      ...       3.707302e+05  3.785593e+05  3.765500e+05   \n",
       "75%    2.154236e+06      ...       9.300690e+05  9.498951e+05  9.433660e+05   \n",
       "max    4.825617e+08      ...       1.566694e+09  5.688718e+08  1.076798e+09   \n",
       "\n",
       "           13:25:00      13:30:00      13:35:00      13:40:00      13:45:00  \\\n",
       "count  6.140980e+05  6.140980e+05  6.140980e+05  6.140980e+05  6.140980e+05   \n",
       "mean   1.002079e+06  1.056310e+06  1.040250e+06  1.054894e+06  1.064870e+06   \n",
       "std    3.372803e+06  3.309986e+06  3.370219e+06  3.843402e+06  3.427583e+06   \n",
       "min    2.170000e+00  1.220000e+01  1.329000e+01  1.372000e+01  4.880000e+00   \n",
       "25%    1.403643e+05  1.560782e+05  1.514240e+05  1.519852e+05  1.556427e+05   \n",
       "50%    3.695460e+05  4.058235e+05  3.946573e+05  3.973900e+05  4.036347e+05   \n",
       "75%    9.335235e+05  1.003253e+06  9.845934e+05  9.899951e+05  1.003656e+06   \n",
       "max    1.076798e+09  8.939414e+08  8.939414e+08  9.791838e+08  8.126740e+08   \n",
       "\n",
       "           13:50:00      13:55:00  \n",
       "count  6.140980e+05  6.140980e+05  \n",
       "mean   1.072143e+06  1.074899e+06  \n",
       "std    3.952071e+06  3.991982e+06  \n",
       "min    2.750000e+00  1.418000e+01  \n",
       "25%    1.572144e+05  1.575724e+05  \n",
       "50%    4.086410e+05  4.093725e+05  \n",
       "75%    1.013368e+06  1.014436e+06  \n",
       "max    1.435730e+09  1.435730e+09  \n",
       "\n",
       "[8 rows x 57 columns]"
      ]
     },
     "execution_count": 22,
     "metadata": {},
     "output_type": "execute_result"
    }
   ],
   "source": [
    "trainTestDF = trainDF.append(testDF)\n",
    "trainTestDF.shape\n",
    "\n",
    "testDF = testDF.fillna(trainTestDF.median())\n",
    "testDF.describe()"
   ]
  },
  {
   "cell_type": "code",
   "execution_count": null,
   "metadata": {
    "collapsed": false
   },
   "outputs": [],
   "source": [
    "from nitime import algorithms as alg\n",
    "X = trainDF.ix[0,3:].values\n",
    "alg.AR_est_YW(X-np.mean(X), 5)\n"
   ]
  },
  {
   "cell_type": "code",
   "execution_count": null,
   "metadata": {
    "collapsed": false
   },
   "outputs": [],
   "source": [
    "# import statsmodels.tsa\n",
    "import statsmodels.api as sm\n",
    "from statsmodels.graphics.api import qqplot\n"
   ]
  },
  {
   "cell_type": "code",
   "execution_count": null,
   "metadata": {
    "collapsed": false
   },
   "outputs": [],
   "source": [
    "# plt.figure(figsize=(12,8))\n",
    "sm.graphics.tsa.plot_acf(X-np.mean(X), lags=40)\n",
    "# X.shape\n",
    "# sm.graphics.tsa.plot_pacf(X, lags=40)"
   ]
  },
  {
   "cell_type": "code",
   "execution_count": null,
   "metadata": {
    "collapsed": true
   },
   "outputs": [],
   "source": []
  },
  {
   "cell_type": "code",
   "execution_count": null,
   "metadata": {
    "collapsed": false
   },
   "outputs": [],
   "source": [
    "trainTestDF = None\n",
    "trainDF = None\n",
    "otherDF = None\n",
    "\n",
    "# del trainTestDF,trainDF,otherDF"
   ]
  },
  {
   "cell_type": "markdown",
   "metadata": {},
   "source": [
    "## Manipulate the date"
   ]
  },
  {
   "cell_type": "code",
   "execution_count": null,
   "metadata": {
    "collapsed": false
   },
   "outputs": [],
   "source": [
    "trainLablledDF['date']=pd.to_datetime(trainLablledDF['date'],unit='D')"
   ]
  },
  {
   "cell_type": "code",
   "execution_count": null,
   "metadata": {
    "collapsed": true
   },
   "outputs": [],
   "source": [
    "testDF['date']=pd.to_datetime(testDF['date'],unit='D')"
   ]
  },
  {
   "cell_type": "code",
   "execution_count": null,
   "metadata": {
    "collapsed": false
   },
   "outputs": [],
   "source": [
    "trainLablledDF['year'] = trainLablledDF['date'].dt.year\n",
    "trainLablledDF['month'] = trainLablledDF['date'].dt.month\n",
    "trainLablledDF['day'] = trainLablledDF['date'].dt.day\n",
    "trainLablledDF['weekday'] = trainLablledDF['date'].dt.weekday\n",
    "trainLablledDF['week'] = trainLablledDF['date'].dt.week\n",
    "trainLablledDF['n_days'] = trainLablledDF['date'].apply(lambda date: (date - pd.to_datetime(\"1970-01-01\")).days)\n",
    "        \n",
    "trainLablledDF = trainLablledDF.join(pd.get_dummies(trainLablledDF['year'], prefix='y'))\n",
    "trainLablledDF = trainLablledDF.join(pd.get_dummies(trainLablledDF['month'], prefix='m'))\n",
    "trainLablledDF = trainLablledDF.join(pd.get_dummies(trainLablledDF['day'], prefix='d'))\n",
    "trainLablledDF = trainLablledDF.join(pd.get_dummies(trainLablledDF['weekday'], prefix='wd'))\n",
    "trainLablledDF = trainLablledDF.join(pd.get_dummies(trainLablledDF['week'], prefix='w'))\n"
   ]
  },
  {
   "cell_type": "code",
   "execution_count": null,
   "metadata": {
    "collapsed": false
   },
   "outputs": [],
   "source": [
    "testDF['year'] = testDF['date'].dt.year\n",
    "testDF['month'] = testDF['date'].dt.month\n",
    "testDF['day'] = testDF['date'].dt.day\n",
    "testDF['weekday'] = testDF['date'].dt.weekday\n",
    "testDF['week'] = testDF['date'].dt.week\n",
    "testDF['n_days'] = testDF['date'].apply(lambda date: (date - pd.to_datetime(\"1970-01-01\")).days)\n",
    "        \n",
    "testDF = testDF.join(pd.get_dummies(testDF['year'], prefix='y'))\n",
    "testDF = testDF.join(pd.get_dummies(testDF['month'], prefix='m'))\n",
    "testDF = testDF.join(pd.get_dummies(testDF['day'], prefix='d'))\n",
    "testDF = testDF.join(pd.get_dummies(testDF['weekday'], prefix='wd'))\n",
    "testDF = testDF.join(pd.get_dummies(testDF['week'], prefix='w'))"
   ]
  },
  {
   "cell_type": "code",
   "execution_count": null,
   "metadata": {
    "collapsed": true
   },
   "outputs": [],
   "source": [
    "trainLablledDF=trainLablledDF.drop([\"year\",'month','day','weekday','week'],axis=1)"
   ]
  },
  {
   "cell_type": "code",
   "execution_count": null,
   "metadata": {
    "collapsed": true
   },
   "outputs": [],
   "source": [
    "testDF=testDF.drop([\"year\",'month','day','weekday','week'],axis=1)"
   ]
  },
  {
   "cell_type": "markdown",
   "metadata": {},
   "source": [
    "# Suite"
   ]
  },
  {
   "cell_type": "code",
   "execution_count": 23,
   "metadata": {
    "collapsed": false
   },
   "outputs": [],
   "source": [
    "# trainDF2=trainLablledDF.drop([\"ID\",'date','product_id'],axis=1)\n",
    "trainLablledDF=trainLablledDF.drop([\"ID\",'date','product_id'],axis=1)"
   ]
  },
  {
   "cell_type": "code",
   "execution_count": 24,
   "metadata": {
    "collapsed": false
   },
   "outputs": [],
   "source": [
    "#testDF=testDF.sort_values(by=[\"ID\"],axis=0)"
   ]
  },
  {
   "cell_type": "code",
   "execution_count": 25,
   "metadata": {
    "collapsed": true
   },
   "outputs": [],
   "source": [
    "idsFrame=testDF['ID']"
   ]
  },
  {
   "cell_type": "code",
   "execution_count": 26,
   "metadata": {
    "collapsed": false
   },
   "outputs": [
    {
     "data": {
      "text/plain": [
       "0    618557\n",
       "1    618558\n",
       "2    618559\n",
       "3    618560\n",
       "4    618561\n",
       "Name: ID, dtype: int64"
      ]
     },
     "execution_count": 26,
     "metadata": {},
     "output_type": "execute_result"
    }
   ],
   "source": [
    "idsFrame.head()"
   ]
  },
  {
   "cell_type": "code",
   "execution_count": 27,
   "metadata": {
    "collapsed": true
   },
   "outputs": [],
   "source": [
    "# testDF2=testDF.drop([\"ID\",'date','product_id'],axis=1)\n",
    "testDF=testDF.drop([\"ID\",'date','product_id'],axis=1)"
   ]
  },
  {
   "cell_type": "code",
   "execution_count": null,
   "metadata": {
    "collapsed": true
   },
   "outputs": [],
   "source": []
  },
  {
   "cell_type": "markdown",
   "metadata": {},
   "source": [
    "# Attention : ici pour submit"
   ]
  },
  {
   "cell_type": "code",
   "execution_count": 28,
   "metadata": {
    "collapsed": false
   },
   "outputs": [],
   "source": [
    "X_train = trainLablledDF.drop(['TARGET'], axis=1).values\n",
    "y_train = trainLablledDF['TARGET'].values\n",
    "X_test = testDF.values"
   ]
  },
  {
   "cell_type": "code",
   "execution_count": 29,
   "metadata": {
    "collapsed": false
   },
   "outputs": [
    {
     "name": "stdout",
     "output_type": "stream",
     "text": [
      "(613220, 54)\n",
      "(613220,)\n",
      "(614098, 54)\n"
     ]
    }
   ],
   "source": [
    "print X_train.shape\n",
    "print y_train.shape\n",
    "print X_test.shape\n"
   ]
  },
  {
   "cell_type": "code",
   "execution_count": 30,
   "metadata": {
    "collapsed": false
   },
   "outputs": [
    {
     "name": "stderr",
     "output_type": "stream",
     "text": [
      "[0]\ttrain-error:91.370916\n",
      "[1]\ttrain-error:83.549654\n",
      "[2]\ttrain-error:76.513451\n",
      "[3]\ttrain-error:70.192420\n",
      "[4]\ttrain-error:64.447385\n",
      "[5]\ttrain-error:59.239453\n",
      "[6]\ttrain-error:54.527318\n",
      "[7]\ttrain-error:50.244904\n",
      "[8]\ttrain-error:46.374547\n",
      "[9]\ttrain-error:42.836687\n"
     ]
    }
   ],
   "source": [
    "import xgboost as xgb\n",
    "param ={}  \n",
    "param['objective'] = 'reg:linear'\n",
    "param['eta'] = 0.09\n",
    "param['max_depth'] = 100\n",
    "param['silent'] = 1\n",
    "param['nthread'] = 4\n",
    "xg_train = xgb.DMatrix( X_train, label=y_train)\n",
    "xg_test = xgb.DMatrix(X_test)\n",
    "\n",
    "def evalerror(preds,xg_train):\n",
    "    y_test = xg_train.get_label()\n",
    "    return 'error',  np.mean(np.abs((preds-y_test ) / y_test)) * 100\n",
    "\n",
    "\n",
    "watchlist = [ (xg_train,'train') ]\n",
    "num_round = 10\n",
    "bst = xgb.train(param, xg_train, num_round, watchlist ,feval=evalerror);\n",
    "#bst = xgb.train(param, xg_train, num_round, watchlist );\n",
    "# get prediction\n",
    "y_pred = bst.predict( xg_test );\n",
    "#print np.mean(np.abs((y_pred-y_test ) / y_test)) * 100\n",
    "#nround = 50\n",
    "#bst = xgb(param=param, data = X_train, label = y_train, nrounds=nround)\n",
    "#y_pred = bst.predict( xg_test );"
   ]
  },
  {
   "cell_type": "code",
   "execution_count": 31,
   "metadata": {
    "collapsed": false
   },
   "outputs": [],
   "source": [
    "outFrame=pd.DataFrame(y_pred, columns=['TARGET'])\n",
    "outFrame=pd.concat([idsFrame, outFrame], axis=1)\n",
    "outFrame.to_csv('out.csv',index=False)"
   ]
  },
  {
   "cell_type": "markdown",
   "metadata": {},
   "source": [
    "# Attention : ici pour test"
   ]
  },
  {
   "cell_type": "code",
   "execution_count": 32,
   "metadata": {
    "collapsed": false
   },
   "outputs": [
    {
     "name": "stdout",
     "output_type": "stream",
     "text": [
      "(429254, 54)\n",
      "(429254,)\n"
     ]
    }
   ],
   "source": [
    "from sklearn.cross_validation import train_test_split\n",
    "\n",
    "X_train, X_test, y_train, y_test = train_test_split(\n",
    "    X_train, y_train, test_size=0.3, random_state=0)\n",
    "print X_train.shape\n",
    "print y_train.shape"
   ]
  },
  {
   "cell_type": "code",
   "execution_count": 33,
   "metadata": {
    "collapsed": false
   },
   "outputs": [
    {
     "name": "stderr",
     "output_type": "stream",
     "text": [
      "[0]\ttrain-error:91.582781\n",
      "[1]\ttrain-error:83.922553\n",
      "[2]\ttrain-error:77.018511\n",
      "[3]\ttrain-error:70.791203\n",
      "[4]\ttrain-error:65.129387\n",
      "[5]\ttrain-error:59.969461\n",
      "[6]\ttrain-error:55.332559\n",
      "[7]\ttrain-error:51.116717\n",
      "[8]\ttrain-error:47.311878\n",
      "[9]\ttrain-error:43.856037\n"
     ]
    }
   ],
   "source": [
    "import xgboost as xgb\n",
    "param ={}  \n",
    "param['objective'] = 'reg:linear'\n",
    "param['eta'] = 0.09\n",
    "param['max_depth'] = 100\n",
    "param['silent'] = 1\n",
    "param['nthread'] = 4\n",
    "xg_train = xgb.DMatrix( X_train, label=y_train)\n",
    "xg_test = xgb.DMatrix(X_test, label=y_test)\n",
    "\n",
    "def evalerror(preds,xg_train):\n",
    "    y_test = xg_train.get_label()\n",
    "    return 'error',  np.mean(np.abs((preds-y_test ) / y_test)) * 100\n",
    "\n",
    "\n",
    "watchlist = [ (xg_train,'train') ]\n",
    "num_round = 10\n",
    "bst = xgb.train(param, xg_train, num_round, watchlist ,feval=evalerror);\n",
    "#bst = xgb.train(param, xg_train, num_round, watchlist );\n",
    "# get prediction\n",
    "y_pred = bst.predict( xg_test );\n",
    "#print np.mean(np.abs((y_pred-y_test ) / y_test)) * 100\n",
    "#nround = 50\n",
    "#bst = xgb(param=param, data = X_train, label = y_train, nrounds=nround)\n",
    "#y_pred = bst.predict( xg_test );"
   ]
  },
  {
   "cell_type": "code",
   "execution_count": 34,
   "metadata": {
    "collapsed": false
   },
   "outputs": [
    {
     "name": "stdout",
     "output_type": "stream",
     "text": [
      "86.1092972161\n"
     ]
    }
   ],
   "source": [
    "print np.mean(np.abs((y_pred-y_test ) / y_test)) * 100"
   ]
  },
  {
   "cell_type": "code",
   "execution_count": 36,
   "metadata": {
    "collapsed": false
   },
   "outputs": [
    {
     "name": "stdout",
     "output_type": "stream",
     "text": [
      "418.426282966\n"
     ]
    }
   ],
   "source": [
    "from sklearn.ensemble import GradientBoostingRegressor\n",
    "reg = GradientBoostingRegressor(n_estimators=40,random_state=50)\n",
    "reg.fit(X_train,y_train)\n",
    "y_predict = reg.predict(X_test)\n",
    "print np.mean(np.abs((y_predict-y_test ) / y_test)) * 100"
   ]
  },
  {
   "cell_type": "code",
   "execution_count": 54,
   "metadata": {
    "collapsed": false
   },
   "outputs": [
    {
     "name": "stdout",
     "output_type": "stream",
     "text": [
      "481.723101483\n"
     ]
    },
    {
     "name": "stderr",
     "output_type": "stream",
     "text": [
      "/home/zapfack/tools/anaconda2/lib/python2.7/site-packages/sklearn/linear_model/coordinate_descent.py:466: ConvergenceWarning: Objective did not converge. You might want to increase the number of iterations\n",
      "  ConvergenceWarning)\n"
     ]
    },
    {
     "data": {
      "text/plain": [
       "(429254,)"
      ]
     },
     "execution_count": 54,
     "metadata": {},
     "output_type": "execute_result"
    }
   ],
   "source": [
    "from sklearn.ensemble import RandomForestClassifier\n",
    "reg = RandomForestClassifier(n_estimators=40,n_jobs=-1)\n",
    "from sklearn.linear_model import Ridge, Lasso\n",
    "reg =Lasso(alpha= 1)\n",
    "reg.fit(X_train,y_train)\n",
    "y_predict = reg.predict(X_test)\n",
    "print np.mean(np.abs((y_predict-y_test ) / y_test)) * 100\n",
    "y_train.shape"
   ]
  },
  {
   "cell_type": "code",
   "execution_count": null,
   "metadata": {
    "collapsed": true
   },
   "outputs": [],
   "source": []
  }
 ],
 "metadata": {
  "kernelspec": {
   "display_name": "Python 2",
   "language": "python",
   "name": "python2"
  },
  "language_info": {
   "codemirror_mode": {
    "name": "ipython",
    "version": 2
   },
   "file_extension": ".py",
   "mimetype": "text/x-python",
   "name": "python",
   "nbconvert_exporter": "python",
   "pygments_lexer": "ipython2",
   "version": "2.7.11"
  }
 },
 "nbformat": 4,
 "nbformat_minor": 0
}
