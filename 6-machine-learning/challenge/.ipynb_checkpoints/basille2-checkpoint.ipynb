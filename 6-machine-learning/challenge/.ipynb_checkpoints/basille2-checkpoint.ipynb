{
 "cells": [
  {
   "cell_type": "markdown",
   "metadata": {},
   "source": [
    "# Data Challenge : Prediction of stock market Volume\n",
    "By <i>Fabrice ZAPFACK</i> & <i>Basile CALDERAN</i>"
   ]
  },
  {
   "cell_type": "code",
   "execution_count": 1,
   "metadata": {
    "collapsed": true
   },
   "outputs": [],
   "source": [
    "%matplotlib inline\n",
    "import numpy as np\n",
    "import pandas as pd\n",
    "\n",
    "import matplotlib.pyplot as plt\n",
    "import seaborn as sns; sns.set()"
   ]
  },
  {
   "cell_type": "code",
   "execution_count": 2,
   "metadata": {
    "collapsed": false
   },
   "outputs": [
    {
     "ename": "IOError",
     "evalue": "File data/training_output.csv does not exist",
     "output_type": "error",
     "traceback": [
      "\u001b[1;31m---------------------------------------------------------------------------\u001b[0m",
      "\u001b[1;31mIOError\u001b[0m                                   Traceback (most recent call last)",
      "\u001b[1;32m<ipython-input-2-ed839d031b8b>\u001b[0m in \u001b[0;36m<module>\u001b[1;34m()\u001b[0m\n\u001b[1;32m----> 1\u001b[1;33m \u001b[0mtrainOutPut\u001b[0m\u001b[1;33m=\u001b[0m\u001b[0mpd\u001b[0m\u001b[1;33m.\u001b[0m\u001b[0mread_csv\u001b[0m\u001b[1;33m(\u001b[0m\u001b[1;34m'data/training_output.csv'\u001b[0m\u001b[1;33m,\u001b[0m\u001b[0msep\u001b[0m\u001b[1;33m=\u001b[0m\u001b[1;34m\";\"\u001b[0m\u001b[1;33m)\u001b[0m\u001b[1;33m\u001b[0m\u001b[0m\n\u001b[0m",
      "\u001b[1;32m/home/zapfack/tools/anaconda2/lib/python2.7/site-packages/pandas/io/parsers.pyc\u001b[0m in \u001b[0;36mparser_f\u001b[1;34m(filepath_or_buffer, sep, dialect, compression, doublequote, escapechar, quotechar, quoting, skipinitialspace, lineterminator, header, index_col, names, prefix, skiprows, skipfooter, skip_footer, na_values, true_values, false_values, delimiter, converters, dtype, usecols, engine, delim_whitespace, as_recarray, na_filter, compact_ints, use_unsigned, low_memory, buffer_lines, warn_bad_lines, error_bad_lines, keep_default_na, thousands, comment, decimal, parse_dates, keep_date_col, dayfirst, date_parser, memory_map, float_precision, nrows, iterator, chunksize, verbose, encoding, squeeze, mangle_dupe_cols, tupleize_cols, infer_datetime_format, skip_blank_lines)\u001b[0m\n\u001b[0;32m    489\u001b[0m                     skip_blank_lines=skip_blank_lines)\n\u001b[0;32m    490\u001b[0m \u001b[1;33m\u001b[0m\u001b[0m\n\u001b[1;32m--> 491\u001b[1;33m         \u001b[1;32mreturn\u001b[0m \u001b[0m_read\u001b[0m\u001b[1;33m(\u001b[0m\u001b[0mfilepath_or_buffer\u001b[0m\u001b[1;33m,\u001b[0m \u001b[0mkwds\u001b[0m\u001b[1;33m)\u001b[0m\u001b[1;33m\u001b[0m\u001b[0m\n\u001b[0m\u001b[0;32m    492\u001b[0m \u001b[1;33m\u001b[0m\u001b[0m\n\u001b[0;32m    493\u001b[0m     \u001b[0mparser_f\u001b[0m\u001b[1;33m.\u001b[0m\u001b[0m__name__\u001b[0m \u001b[1;33m=\u001b[0m \u001b[0mname\u001b[0m\u001b[1;33m\u001b[0m\u001b[0m\n",
      "\u001b[1;32m/home/zapfack/tools/anaconda2/lib/python2.7/site-packages/pandas/io/parsers.pyc\u001b[0m in \u001b[0;36m_read\u001b[1;34m(filepath_or_buffer, kwds)\u001b[0m\n\u001b[0;32m    266\u001b[0m \u001b[1;33m\u001b[0m\u001b[0m\n\u001b[0;32m    267\u001b[0m     \u001b[1;31m# Create the parser.\u001b[0m\u001b[1;33m\u001b[0m\u001b[1;33m\u001b[0m\u001b[0m\n\u001b[1;32m--> 268\u001b[1;33m     \u001b[0mparser\u001b[0m \u001b[1;33m=\u001b[0m \u001b[0mTextFileReader\u001b[0m\u001b[1;33m(\u001b[0m\u001b[0mfilepath_or_buffer\u001b[0m\u001b[1;33m,\u001b[0m \u001b[1;33m**\u001b[0m\u001b[0mkwds\u001b[0m\u001b[1;33m)\u001b[0m\u001b[1;33m\u001b[0m\u001b[0m\n\u001b[0m\u001b[0;32m    269\u001b[0m \u001b[1;33m\u001b[0m\u001b[0m\n\u001b[0;32m    270\u001b[0m     \u001b[1;32mif\u001b[0m \u001b[1;33m(\u001b[0m\u001b[0mnrows\u001b[0m \u001b[1;32mis\u001b[0m \u001b[1;32mnot\u001b[0m \u001b[0mNone\u001b[0m\u001b[1;33m)\u001b[0m \u001b[1;32mand\u001b[0m \u001b[1;33m(\u001b[0m\u001b[0mchunksize\u001b[0m \u001b[1;32mis\u001b[0m \u001b[1;32mnot\u001b[0m \u001b[0mNone\u001b[0m\u001b[1;33m)\u001b[0m\u001b[1;33m:\u001b[0m\u001b[1;33m\u001b[0m\u001b[0m\n",
      "\u001b[1;32m/home/zapfack/tools/anaconda2/lib/python2.7/site-packages/pandas/io/parsers.pyc\u001b[0m in \u001b[0;36m__init__\u001b[1;34m(self, f, engine, **kwds)\u001b[0m\n\u001b[0;32m    581\u001b[0m             \u001b[0mself\u001b[0m\u001b[1;33m.\u001b[0m\u001b[0moptions\u001b[0m\u001b[1;33m[\u001b[0m\u001b[1;34m'has_index_names'\u001b[0m\u001b[1;33m]\u001b[0m \u001b[1;33m=\u001b[0m \u001b[0mkwds\u001b[0m\u001b[1;33m[\u001b[0m\u001b[1;34m'has_index_names'\u001b[0m\u001b[1;33m]\u001b[0m\u001b[1;33m\u001b[0m\u001b[0m\n\u001b[0;32m    582\u001b[0m \u001b[1;33m\u001b[0m\u001b[0m\n\u001b[1;32m--> 583\u001b[1;33m         \u001b[0mself\u001b[0m\u001b[1;33m.\u001b[0m\u001b[0m_make_engine\u001b[0m\u001b[1;33m(\u001b[0m\u001b[0mself\u001b[0m\u001b[1;33m.\u001b[0m\u001b[0mengine\u001b[0m\u001b[1;33m)\u001b[0m\u001b[1;33m\u001b[0m\u001b[0m\n\u001b[0m\u001b[0;32m    584\u001b[0m \u001b[1;33m\u001b[0m\u001b[0m\n\u001b[0;32m    585\u001b[0m     \u001b[1;32mdef\u001b[0m \u001b[0m_get_options_with_defaults\u001b[0m\u001b[1;33m(\u001b[0m\u001b[0mself\u001b[0m\u001b[1;33m,\u001b[0m \u001b[0mengine\u001b[0m\u001b[1;33m)\u001b[0m\u001b[1;33m:\u001b[0m\u001b[1;33m\u001b[0m\u001b[0m\n",
      "\u001b[1;32m/home/zapfack/tools/anaconda2/lib/python2.7/site-packages/pandas/io/parsers.pyc\u001b[0m in \u001b[0;36m_make_engine\u001b[1;34m(self, engine)\u001b[0m\n\u001b[0;32m    722\u001b[0m     \u001b[1;32mdef\u001b[0m \u001b[0m_make_engine\u001b[0m\u001b[1;33m(\u001b[0m\u001b[0mself\u001b[0m\u001b[1;33m,\u001b[0m \u001b[0mengine\u001b[0m\u001b[1;33m=\u001b[0m\u001b[1;34m'c'\u001b[0m\u001b[1;33m)\u001b[0m\u001b[1;33m:\u001b[0m\u001b[1;33m\u001b[0m\u001b[0m\n\u001b[0;32m    723\u001b[0m         \u001b[1;32mif\u001b[0m \u001b[0mengine\u001b[0m \u001b[1;33m==\u001b[0m \u001b[1;34m'c'\u001b[0m\u001b[1;33m:\u001b[0m\u001b[1;33m\u001b[0m\u001b[0m\n\u001b[1;32m--> 724\u001b[1;33m             \u001b[0mself\u001b[0m\u001b[1;33m.\u001b[0m\u001b[0m_engine\u001b[0m \u001b[1;33m=\u001b[0m \u001b[0mCParserWrapper\u001b[0m\u001b[1;33m(\u001b[0m\u001b[0mself\u001b[0m\u001b[1;33m.\u001b[0m\u001b[0mf\u001b[0m\u001b[1;33m,\u001b[0m \u001b[1;33m**\u001b[0m\u001b[0mself\u001b[0m\u001b[1;33m.\u001b[0m\u001b[0moptions\u001b[0m\u001b[1;33m)\u001b[0m\u001b[1;33m\u001b[0m\u001b[0m\n\u001b[0m\u001b[0;32m    725\u001b[0m         \u001b[1;32melse\u001b[0m\u001b[1;33m:\u001b[0m\u001b[1;33m\u001b[0m\u001b[0m\n\u001b[0;32m    726\u001b[0m             \u001b[1;32mif\u001b[0m \u001b[0mengine\u001b[0m \u001b[1;33m==\u001b[0m \u001b[1;34m'python'\u001b[0m\u001b[1;33m:\u001b[0m\u001b[1;33m\u001b[0m\u001b[0m\n",
      "\u001b[1;32m/home/zapfack/tools/anaconda2/lib/python2.7/site-packages/pandas/io/parsers.pyc\u001b[0m in \u001b[0;36m__init__\u001b[1;34m(self, src, **kwds)\u001b[0m\n\u001b[0;32m   1091\u001b[0m         \u001b[0mkwds\u001b[0m\u001b[1;33m[\u001b[0m\u001b[1;34m'allow_leading_cols'\u001b[0m\u001b[1;33m]\u001b[0m \u001b[1;33m=\u001b[0m \u001b[0mself\u001b[0m\u001b[1;33m.\u001b[0m\u001b[0mindex_col\u001b[0m \u001b[1;32mis\u001b[0m \u001b[1;32mnot\u001b[0m \u001b[0mFalse\u001b[0m\u001b[1;33m\u001b[0m\u001b[0m\n\u001b[0;32m   1092\u001b[0m \u001b[1;33m\u001b[0m\u001b[0m\n\u001b[1;32m-> 1093\u001b[1;33m         \u001b[0mself\u001b[0m\u001b[1;33m.\u001b[0m\u001b[0m_reader\u001b[0m \u001b[1;33m=\u001b[0m \u001b[0m_parser\u001b[0m\u001b[1;33m.\u001b[0m\u001b[0mTextReader\u001b[0m\u001b[1;33m(\u001b[0m\u001b[0msrc\u001b[0m\u001b[1;33m,\u001b[0m \u001b[1;33m**\u001b[0m\u001b[0mkwds\u001b[0m\u001b[1;33m)\u001b[0m\u001b[1;33m\u001b[0m\u001b[0m\n\u001b[0m\u001b[0;32m   1094\u001b[0m \u001b[1;33m\u001b[0m\u001b[0m\n\u001b[0;32m   1095\u001b[0m         \u001b[1;31m# XXX\u001b[0m\u001b[1;33m\u001b[0m\u001b[1;33m\u001b[0m\u001b[0m\n",
      "\u001b[1;32mpandas/parser.pyx\u001b[0m in \u001b[0;36mpandas.parser.TextReader.__cinit__ (pandas/parser.c:3229)\u001b[1;34m()\u001b[0m\n",
      "\u001b[1;32mpandas/parser.pyx\u001b[0m in \u001b[0;36mpandas.parser.TextReader._setup_parser_source (pandas/parser.c:6042)\u001b[1;34m()\u001b[0m\n",
      "\u001b[1;31mIOError\u001b[0m: File data/training_output.csv does not exist"
     ]
    }
   ],
   "source": [
    "trainOutPut=pd.read_csv('data/training_output.csv',sep=\";\")"
   ]
  },
  {
   "cell_type": "code",
   "execution_count": null,
   "metadata": {
    "collapsed": false
   },
   "outputs": [],
   "source": [
    "trainOutPut.head()"
   ]
  },
  {
   "cell_type": "markdown",
   "metadata": {},
   "source": [
    "## Import Data"
   ]
  },
  {
   "cell_type": "code",
   "execution_count": 5,
   "metadata": {
    "collapsed": false
   },
   "outputs": [],
   "source": [
    "#from os import listdir\n",
    "#a=listdir('.')\n",
    "#print a\n",
    "\n",
    "trainDF = pd.read_csv('data/training_input.csv')\n",
    "#testDF = pd.read_csv('data/testing_input.csv')\n"
   ]
  },
  {
   "cell_type": "code",
   "execution_count": 140,
   "metadata": {
    "collapsed": false
   },
   "outputs": [],
   "source": [
    "trainDF4=trainDF.drop(['ID','product_id'],axis=1)"
   ]
  },
  {
   "cell_type": "code",
   "execution_count": 141,
   "metadata": {
    "collapsed": false
   },
   "outputs": [],
   "source": [
    "ProductMean=trainDF4.groupby(\"date\",as_index=False).sum()"
   ]
  },
  {
   "cell_type": "code",
   "execution_count": 142,
   "metadata": {
    "collapsed": true
   },
   "outputs": [],
   "source": [
    "trainDF4=pd.merge(trainDF,ProductMean,on=[\"date\"])"
   ]
  },
  {
   "cell_type": "code",
   "execution_count": 143,
   "metadata": {
    "collapsed": false
   },
   "outputs": [],
   "source": [
    "trainDF4=trainDF4.sort_values(by=\"ID\",axis=0)"
   ]
  },
  {
   "cell_type": "code",
   "execution_count": 144,
   "metadata": {
    "collapsed": false
   },
   "outputs": [],
   "source": [
    "trainDF4=trainDF4.drop([\"ID\",\"date\",\"product_id\"],axis=1)"
   ]
  },
  {
   "cell_type": "code",
   "execution_count": 145,
   "metadata": {
    "collapsed": false
   },
   "outputs": [],
   "source": [
    "trainDF3=trainDF.drop([\"ID\",\"date\",\"product_id\"],axis=1)"
   ]
  },
  {
   "cell_type": "code",
   "execution_count": 202,
   "metadata": {
    "collapsed": false
   },
   "outputs": [
    {
     "name": "stderr",
     "output_type": "stream",
     "text": [
      "/Applications/anaconda/lib/python2.7/site-packages/ipykernel/__main__.py:19: FutureWarning: in the future, boolean array-likes will be handled as a boolean array index\n"
     ]
    },
    {
     "ename": "MemoryError",
     "evalue": "",
     "output_type": "error",
     "traceback": [
      "\u001b[0;31m---------------------------------------------------------------------------\u001b[0m",
      "\u001b[0;31mMemoryError\u001b[0m                               Traceback (most recent call last)",
      "\u001b[0;32m<ipython-input-202-d08e26343110>\u001b[0m in \u001b[0;36m<module>\u001b[0;34m()\u001b[0m\n\u001b[1;32m     17\u001b[0m \u001b[0mvals\u001b[0m \u001b[0;34m=\u001b[0m \u001b[0;34m~\u001b[0m\u001b[0mnp\u001b[0m\u001b[0;34m.\u001b[0m\u001b[0misnan\u001b[0m\u001b[0;34m(\u001b[0m\u001b[0mtest\u001b[0m\u001b[0;34m)\u001b[0m\u001b[0;34m\u001b[0m\u001b[0m\n\u001b[1;32m     18\u001b[0m \u001b[0;34m\u001b[0m\u001b[0m\n\u001b[0;32m---> 19\u001b[0;31m \u001b[0mf\u001b[0m \u001b[0;34m=\u001b[0m \u001b[0minterpolate\u001b[0m\u001b[0;34m.\u001b[0m\u001b[0mRbf\u001b[0m\u001b[0;34m(\u001b[0m\u001b[0mrr\u001b[0m\u001b[0;34m[\u001b[0m\u001b[0mvals\u001b[0m\u001b[0;34m]\u001b[0m\u001b[0;34m,\u001b[0m\u001b[0mcc\u001b[0m\u001b[0;34m[\u001b[0m\u001b[0mvals\u001b[0m\u001b[0;34m]\u001b[0m\u001b[0;34m,\u001b[0m \u001b[0mtest\u001b[0m\u001b[0;34m[\u001b[0m\u001b[0mvals\u001b[0m\u001b[0;34m]\u001b[0m\u001b[0;34m,\u001b[0m \u001b[0mfunction\u001b[0m\u001b[0;34m=\u001b[0m\u001b[0;34m'linear'\u001b[0m\u001b[0;34m)\u001b[0m\u001b[0;34m\u001b[0m\u001b[0m\n\u001b[0m\u001b[1;32m     20\u001b[0m \u001b[0minterpolated\u001b[0m \u001b[0;34m=\u001b[0m \u001b[0mf\u001b[0m\u001b[0;34m(\u001b[0m\u001b[0mrr\u001b[0m\u001b[0;34m,\u001b[0m \u001b[0mcc\u001b[0m\u001b[0;34m)\u001b[0m\u001b[0;34m\u001b[0m\u001b[0m\n\u001b[1;32m     21\u001b[0m \u001b[0;34m\u001b[0m\u001b[0m\n",
      "\u001b[0;31mMemoryError\u001b[0m: "
     ]
    }
   ],
   "source": [
    "from scipy import interpolate\n",
    "test=trainDF.drop(['ID','product_id','date'],axis=1)\n",
    "test1=test.iloc[0:10000,0:]\n",
    "#test2=test.iloc[6,0:]\n",
    "#plt.subplot(121)\n",
    "#test1.plot()\n",
    "#for i in range(30):\n",
    "\n",
    "#    test2[np.random.randint(1, 52)]=np.nan\n",
    "#test2.plot()\n",
    "#val=~np.isnan(test2)\n",
    "r = np.linspace(0, 1, test1.shape[0]) \n",
    "c = np.linspace(0, 1, test1.shape[1])\n",
    "\n",
    "rr,cc = np.meshgrid(r, c)\n",
    "\n",
    "vals = ~np.isnan(test1)\n",
    "\n",
    "f = interpolate.Rbf(rr[vals],cc[vals], test1[vals], function='linear')\n",
    "interpolated = f(rr, cc)\n",
    "\n",
    "#test2=interpolate.krogh_interpolate(test1)\n",
    "\n",
    "#plt.subplot(122)\n",
    "#test2.plot()"
   ]
  },
  {
   "cell_type": "code",
   "execution_count": 188,
   "metadata": {
    "collapsed": false
   },
   "outputs": [],
   "source": [
    "trainDF3[trainDF3<0]=np.nan"
   ]
  },
  {
   "cell_type": "code",
   "execution_count": 148,
   "metadata": {
    "collapsed": false
   },
   "outputs": [
    {
     "data": {
      "text/plain": [
       "(54,)"
      ]
     },
     "execution_count": 148,
     "metadata": {},
     "output_type": "execute_result"
    }
   ],
   "source": [
    "trainDF4.iloc[49739,54:111].shape"
   ]
  },
  {
   "cell_type": "code",
   "execution_count": 149,
   "metadata": {
    "collapsed": false
   },
   "outputs": [
    {
     "data": {
      "text/plain": [
       "(54,)"
      ]
     },
     "execution_count": 149,
     "metadata": {},
     "output_type": "execute_result"
    }
   ],
   "source": [
    "trainDF3.iloc[49739,:].shape"
   ]
  },
  {
   "cell_type": "code",
   "execution_count": 27,
   "metadata": {
    "collapsed": false
   },
   "outputs": [],
   "source": [
    "trainDF3.loc[49739,:]=test.values"
   ]
  },
  {
   "cell_type": "code",
   "execution_count": 45,
   "metadata": {
    "collapsed": false
   },
   "outputs": [
    {
     "data": {
      "text/plain": [
       "True"
      ]
     },
     "execution_count": 45,
     "metadata": {},
     "output_type": "execute_result"
    }
   ],
   "source": [
    "np.isnan(trainDF3.iloc[49739,:]).sum()/53>0.3"
   ]
  },
  {
   "cell_type": "code",
   "execution_count": 150,
   "metadata": {
    "collapsed": false
   },
   "outputs": [
    {
     "data": {
      "text/plain": [
       "(613220, 54)"
      ]
     },
     "execution_count": 150,
     "metadata": {},
     "output_type": "execute_result"
    }
   ],
   "source": [
    "for i in range(trainDF3.shape[0]):\n",
    "    if np.isnan(trainDF3.iloc[i,:]).sum()/53>0.2:\n",
    "        trainDF3.loc[i,:]=trainDF4.iloc[i,54:111].values\n",
    "trainDF3.shape\n"
   ]
  },
  {
   "cell_type": "code",
   "execution_count": 137,
   "metadata": {
    "collapsed": false
   },
   "outputs": [
    {
     "data": {
      "text/plain": [
       "ID          175934.0\n",
       "TARGET    83104231.1\n",
       "Name: 174096, dtype: float64"
      ]
     },
     "execution_count": 137,
     "metadata": {},
     "output_type": "execute_result"
    }
   ],
   "source": [
    "trainOutPut.iloc[174096,:]"
   ]
  },
  {
   "cell_type": "code",
   "execution_count": 136,
   "metadata": {
    "collapsed": false
   },
   "outputs": [
    {
     "data": {
      "text/plain": [
       "523225356.0"
      ]
     },
     "execution_count": 136,
     "metadata": {},
     "output_type": "execute_result"
    }
   ],
   "source": [
    "InterpolTrain2.iloc[174096,53]"
   ]
  },
  {
   "cell_type": "code",
   "execution_count": 38,
   "metadata": {
    "collapsed": false
   },
   "outputs": [
    {
     "name": "stdout",
     "output_type": "stream",
     "text": [
      "49739\n",
      "62691\n",
      "174096\n",
      "210308\n",
      "225149\n",
      "225150\n",
      "225151\n",
      "225152\n",
      "225153\n",
      "225154\n",
      "225155\n",
      "225156\n",
      "225157\n",
      "225158\n",
      "225159\n",
      "225160\n",
      "225161\n",
      "225162\n",
      "225163\n",
      "225164\n",
      "225165\n",
      "225166\n",
      "225167\n",
      "225168\n",
      "225169\n",
      "225170\n",
      "225171\n",
      "225172\n",
      "225173\n",
      "225174\n",
      "225175\n",
      "225176\n",
      "225177\n",
      "225178\n",
      "225179\n",
      "225180\n",
      "225181\n",
      "225182\n",
      "225183\n",
      "225184\n",
      "225185\n",
      "225186\n",
      "225187\n",
      "225188\n",
      "225189\n",
      "225190\n",
      "225191\n",
      "225192\n",
      "225193\n",
      "225194\n",
      "225195\n",
      "225196\n",
      "225197\n",
      "225198\n",
      "225199\n",
      "225200\n",
      "225201\n",
      "225202\n",
      "225203\n",
      "225204\n",
      "225205\n",
      "225206\n",
      "225207\n",
      "225208\n",
      "225209\n",
      "225210\n",
      "225211\n",
      "225212\n",
      "225213\n",
      "225214\n",
      "225215\n",
      "229962\n",
      "299435\n",
      "371384\n",
      "404859\n",
      "548386\n",
      "563522\n",
      "563524\n",
      "563528\n",
      "563530\n",
      "563562\n",
      "563587\n",
      "563596\n",
      "563609\n",
      "563647\n",
      "563656\n",
      "563662\n",
      "563669\n",
      "563672\n",
      "563687\n",
      "563692\n",
      "563710\n",
      "563740\n",
      "563741\n"
     ]
    }
   ],
   "source": [
    "boollean2=InterpolTrain2.isnull()\n",
    "for i in range(boollean2.shape[0]):\n",
    "        if boollean2.iloc[i][2]==True:\n",
    "            print i"
   ]
  },
  {
   "cell_type": "code",
   "execution_count": 109,
   "metadata": {
    "collapsed": true
   },
   "outputs": [],
   "source": [
    "InterpolTrain2=trainDF3.interpolate(method='linear',limit_direction='both',limit=100000, axis=1)"
   ]
  },
  {
   "cell_type": "code",
   "execution_count": 110,
   "metadata": {
    "collapsed": true
   },
   "outputs": [],
   "source": [
    "Interpol2=pd.concat([trainOutPut[\"ID\"],InterpolTrain2],axis=1)"
   ]
  },
  {
   "cell_type": "code",
   "execution_count": 111,
   "metadata": {
    "collapsed": false
   },
   "outputs": [],
   "source": [
    "FinalInterpol2=pd.merge(Interpol2,trainOutPut,on=[\"ID\"])"
   ]
  },
  {
   "cell_type": "code",
   "execution_count": 112,
   "metadata": {
    "collapsed": true
   },
   "outputs": [],
   "source": [
    "FinalInterpol2=pd.merge(FinalInterpol2,trainDF[[\"ID\",'date','product_id']],on=[\"ID\"])"
   ]
  },
  {
   "cell_type": "code",
   "execution_count": 113,
   "metadata": {
    "collapsed": true
   },
   "outputs": [],
   "source": [
    "features = FinalInterpol2.drop(['ID','TARGET'], axis=1)\n",
    "\n",
    "X = features.values\n",
    "y = trainOutPut['TARGET'].values"
   ]
  },
  {
   "cell_type": "code",
   "execution_count": 114,
   "metadata": {
    "collapsed": false
   },
   "outputs": [
    {
     "name": "stdout",
     "output_type": "stream",
     "text": [
      "(490576, 56)\n",
      "(490576,)\n"
     ]
    }
   ],
   "source": [
    "from sklearn.cross_validation import train_test_split\n",
    "\n",
    "X_train, X_test, y_train, y_test = train_test_split(\n",
    "    X, y, test_size=0.2, random_state=0)\n",
    "print X_train.shape\n",
    "print y_train.shape"
   ]
  },
  {
   "cell_type": "code",
   "execution_count": 115,
   "metadata": {
    "collapsed": false
   },
   "outputs": [
    {
     "name": "stdout",
     "output_type": "stream",
     "text": [
      "2757.38657913\n",
      "CPU times: user 3.52 s, sys: 330 ms, total: 3.85 s\n",
      "Wall time: 3.06 s\n"
     ]
    }
   ],
   "source": [
    "%%time\n",
    "from sklearn.linear_model import LinearRegression\n",
    "from sklearn.ensemble import RandomForestRegressor\n",
    "from sklearn.ensemble import GradientBoostingRegressor\n",
    "n_estimators = 10\n",
    "max_depth = 1000\n",
    "max_features = 10\n",
    "#reg = RandomForestRegressor(n_estimators=n_estimators, max_depth=max_depth, max_features=max_features,verbose=3)\n",
    "reg = LinearRegression()\n",
    "#reg=GradientBoostingRegressor(loss='ls', learning_rate=0.1, n_estimators=1000, subsample=1.0, min_samples_split=2, min_samples_leaf=1, min_weight_fraction_leaf=0.0, max_depth=3, init=None, random_state=None, max_features=None, alpha=0.9, verbose=3,  warm_start=True)\n",
    "reg.fit(X_train,y_train)\n",
    "y_pred=reg.predict(X_test)\n",
    "#print y_pred\n",
    "#print y_test\n",
    "# MAPE\n",
    "#from sklearn.utils import check_arrays\n",
    "#def mean_absolute_percentage_error(y_true, y_pred): \n",
    "    #y_true, y_pred = check_arrays(y_true, y_pred)\n",
    "print np.mean(np.abs((y_pred-y_test ) / y_test)) * 100\n",
    "\n",
    "#mean_absolute_percentage_error(y,y_pred)"
   ]
  },
  {
   "cell_type": "code",
   "execution_count": null,
   "metadata": {
    "collapsed": true
   },
   "outputs": [],
   "source": []
  },
  {
   "cell_type": "code",
   "execution_count": null,
   "metadata": {
    "collapsed": true
   },
   "outputs": [],
   "source": []
  },
  {
   "cell_type": "code",
   "execution_count": 215,
   "metadata": {
    "collapsed": false
   },
   "outputs": [
    {
     "data": {
      "text/html": [
       "<div>\n",
       "<table border=\"1\" class=\"dataframe\">\n",
       "  <thead>\n",
       "    <tr style=\"text-align: right;\">\n",
       "      <th></th>\n",
       "      <th>ID</th>\n",
       "      <th>09:30:00</th>\n",
       "      <th>09:35:00</th>\n",
       "      <th>09:40:00</th>\n",
       "      <th>09:45:00</th>\n",
       "      <th>09:50:00</th>\n",
       "      <th>09:55:00</th>\n",
       "      <th>10:00:00</th>\n",
       "      <th>10:05:00</th>\n",
       "      <th>10:10:00</th>\n",
       "      <th>...</th>\n",
       "      <th>13:25:00</th>\n",
       "      <th>13:30:00</th>\n",
       "      <th>13:35:00</th>\n",
       "      <th>13:40:00</th>\n",
       "      <th>13:45:00</th>\n",
       "      <th>13:50:00</th>\n",
       "      <th>13:55:00</th>\n",
       "      <th>TARGET</th>\n",
       "      <th>date</th>\n",
       "      <th>product_id</th>\n",
       "    </tr>\n",
       "  </thead>\n",
       "  <tbody>\n",
       "    <tr>\n",
       "      <th>0</th>\n",
       "      <td>1</td>\n",
       "      <td>24138818.08</td>\n",
       "      <td>2457975.00</td>\n",
       "      <td>741777.14</td>\n",
       "      <td>973487.28</td>\n",
       "      <td>764018.92</td>\n",
       "      <td>1074769.92</td>\n",
       "      <td>3056492.88</td>\n",
       "      <td>1312440.80</td>\n",
       "      <td>1439664.56</td>\n",
       "      <td>...</td>\n",
       "      <td>1467907.56</td>\n",
       "      <td>984992.90</td>\n",
       "      <td>959853.30</td>\n",
       "      <td>892596.88</td>\n",
       "      <td>528573.62</td>\n",
       "      <td>973928.60</td>\n",
       "      <td>972596.43</td>\n",
       "      <td>36523251.91</td>\n",
       "      <td>1</td>\n",
       "      <td>236</td>\n",
       "    </tr>\n",
       "    <tr>\n",
       "      <th>1</th>\n",
       "      <td>2</td>\n",
       "      <td>8897508.62</td>\n",
       "      <td>104198.40</td>\n",
       "      <td>61840.92</td>\n",
       "      <td>78523.02</td>\n",
       "      <td>128729.16</td>\n",
       "      <td>60789.84</td>\n",
       "      <td>18072.62</td>\n",
       "      <td>108036.10</td>\n",
       "      <td>105709.11</td>\n",
       "      <td>...</td>\n",
       "      <td>24124.80</td>\n",
       "      <td>46132.35</td>\n",
       "      <td>51850.26</td>\n",
       "      <td>46478.41</td>\n",
       "      <td>17199.00</td>\n",
       "      <td>34500.62</td>\n",
       "      <td>37690.24</td>\n",
       "      <td>5645118.17</td>\n",
       "      <td>1</td>\n",
       "      <td>238</td>\n",
       "    </tr>\n",
       "    <tr>\n",
       "      <th>2</th>\n",
       "      <td>3</td>\n",
       "      <td>6461968.95</td>\n",
       "      <td>109497.00</td>\n",
       "      <td>152577.00</td>\n",
       "      <td>164024.00</td>\n",
       "      <td>204372.00</td>\n",
       "      <td>321545.70</td>\n",
       "      <td>346236.00</td>\n",
       "      <td>244627.00</td>\n",
       "      <td>142075.00</td>\n",
       "      <td>...</td>\n",
       "      <td>67860.00</td>\n",
       "      <td>68478.00</td>\n",
       "      <td>105222.24</td>\n",
       "      <td>101646.00</td>\n",
       "      <td>79128.00</td>\n",
       "      <td>101248.00</td>\n",
       "      <td>367120.00</td>\n",
       "      <td>8103847.53</td>\n",
       "      <td>1</td>\n",
       "      <td>242</td>\n",
       "    </tr>\n",
       "    <tr>\n",
       "      <th>3</th>\n",
       "      <td>4</td>\n",
       "      <td>6822223.20</td>\n",
       "      <td>220467.28</td>\n",
       "      <td>161594.35</td>\n",
       "      <td>264893.44</td>\n",
       "      <td>300326.20</td>\n",
       "      <td>707391.68</td>\n",
       "      <td>327428.00</td>\n",
       "      <td>470549.60</td>\n",
       "      <td>152822.00</td>\n",
       "      <td>...</td>\n",
       "      <td>1395147.39</td>\n",
       "      <td>984468.82</td>\n",
       "      <td>565263.30</td>\n",
       "      <td>286416.00</td>\n",
       "      <td>71518.14</td>\n",
       "      <td>155752.10</td>\n",
       "      <td>123690.00</td>\n",
       "      <td>20047809.46</td>\n",
       "      <td>1</td>\n",
       "      <td>243</td>\n",
       "    </tr>\n",
       "    <tr>\n",
       "      <th>4</th>\n",
       "      <td>5</td>\n",
       "      <td>36632811.84</td>\n",
       "      <td>4470974.95</td>\n",
       "      <td>1448461.05</td>\n",
       "      <td>1500694.38</td>\n",
       "      <td>944346.50</td>\n",
       "      <td>958685.76</td>\n",
       "      <td>1685234.07</td>\n",
       "      <td>782275.54</td>\n",
       "      <td>627863.60</td>\n",
       "      <td>...</td>\n",
       "      <td>358484.80</td>\n",
       "      <td>440292.16</td>\n",
       "      <td>795697.65</td>\n",
       "      <td>565374.30</td>\n",
       "      <td>832022.43</td>\n",
       "      <td>1425134.40</td>\n",
       "      <td>2310369.30</td>\n",
       "      <td>36833075.51</td>\n",
       "      <td>1</td>\n",
       "      <td>261</td>\n",
       "    </tr>\n",
       "  </tbody>\n",
       "</table>\n",
       "<p>5 rows × 58 columns</p>\n",
       "</div>"
      ],
      "text/plain": [
       "   ID     09:30:00    09:35:00    09:40:00    09:45:00   09:50:00    09:55:00  \\\n",
       "0   1  24138818.08  2457975.00   741777.14   973487.28  764018.92  1074769.92   \n",
       "1   2   8897508.62   104198.40    61840.92    78523.02  128729.16    60789.84   \n",
       "2   3   6461968.95   109497.00   152577.00   164024.00  204372.00   321545.70   \n",
       "3   4   6822223.20   220467.28   161594.35   264893.44  300326.20   707391.68   \n",
       "4   5  36632811.84  4470974.95  1448461.05  1500694.38  944346.50   958685.76   \n",
       "\n",
       "     10:00:00    10:05:00    10:10:00     ...        13:25:00   13:30:00  \\\n",
       "0  3056492.88  1312440.80  1439664.56     ...      1467907.56  984992.90   \n",
       "1    18072.62   108036.10   105709.11     ...        24124.80   46132.35   \n",
       "2   346236.00   244627.00   142075.00     ...        67860.00   68478.00   \n",
       "3   327428.00   470549.60   152822.00     ...      1395147.39  984468.82   \n",
       "4  1685234.07   782275.54   627863.60     ...       358484.80  440292.16   \n",
       "\n",
       "    13:35:00   13:40:00   13:45:00    13:50:00    13:55:00       TARGET  date  \\\n",
       "0  959853.30  892596.88  528573.62   973928.60   972596.43  36523251.91     1   \n",
       "1   51850.26   46478.41   17199.00    34500.62    37690.24   5645118.17     1   \n",
       "2  105222.24  101646.00   79128.00   101248.00   367120.00   8103847.53     1   \n",
       "3  565263.30  286416.00   71518.14   155752.10   123690.00  20047809.46     1   \n",
       "4  795697.65  565374.30  832022.43  1425134.40  2310369.30  36833075.51     1   \n",
       "\n",
       "   product_id  \n",
       "0         236  \n",
       "1         238  \n",
       "2         242  \n",
       "3         243  \n",
       "4         261  \n",
       "\n",
       "[5 rows x 58 columns]"
      ]
     },
     "execution_count": 215,
     "metadata": {},
     "output_type": "execute_result"
    }
   ],
   "source": [
    "FinalInterpol2.head()"
   ]
  },
  {
   "cell_type": "code",
   "execution_count": null,
   "metadata": {
    "collapsed": true
   },
   "outputs": [],
   "source": []
  },
  {
   "cell_type": "code",
   "execution_count": null,
   "metadata": {
    "collapsed": true
   },
   "outputs": [],
   "source": []
  },
  {
   "cell_type": "code",
   "execution_count": null,
   "metadata": {
    "collapsed": true
   },
   "outputs": [],
   "source": []
  },
  {
   "cell_type": "code",
   "execution_count": 203,
   "metadata": {
    "collapsed": false
   },
   "outputs": [],
   "source": [
    "\n",
    "trainDF2=trainDF.drop([\"ID\",'date','product_id'],axis=1)\n",
    "trainDF3=trainDF2"
   ]
  },
  {
   "cell_type": "code",
   "execution_count": 151,
   "metadata": {
    "collapsed": false
   },
   "outputs": [
    {
     "ename": "NameError",
     "evalue": "name 'trainDF2' is not defined",
     "output_type": "error",
     "traceback": [
      "\u001b[0;31m---------------------------------------------------------------------------\u001b[0m",
      "\u001b[0;31mNameError\u001b[0m                                 Traceback (most recent call last)",
      "\u001b[0;32m<ipython-input-151-ea3c728176f7>\u001b[0m in \u001b[0;36m<module>\u001b[0;34m()\u001b[0m\n\u001b[0;32m----> 1\u001b[0;31m \u001b[0mtest3\u001b[0m\u001b[0;34m=\u001b[0m\u001b[0mtrainDF2\u001b[0m\u001b[0;34m.\u001b[0m\u001b[0miloc\u001b[0m\u001b[0;34m[\u001b[0m\u001b[0;36m2\u001b[0m\u001b[0;34m,\u001b[0m\u001b[0;36m1\u001b[0m\u001b[0;34m:\u001b[0m\u001b[0;34m]\u001b[0m\u001b[0;34m\u001b[0m\u001b[0m\n\u001b[0m\u001b[1;32m      2\u001b[0m \u001b[0mtest4\u001b[0m\u001b[0;34m=\u001b[0m\u001b[0mtest3\u001b[0m\u001b[0;34m\u001b[0m\u001b[0m\n\u001b[1;32m      3\u001b[0m \u001b[0;32mfor\u001b[0m \u001b[0mi\u001b[0m \u001b[0;32min\u001b[0m \u001b[0mrange\u001b[0m\u001b[0;34m(\u001b[0m\u001b[0;36m30\u001b[0m\u001b[0;34m)\u001b[0m\u001b[0;34m:\u001b[0m\u001b[0;34m\u001b[0m\u001b[0m\n\u001b[1;32m      4\u001b[0m     \u001b[0mtest4\u001b[0m\u001b[0;34m[\u001b[0m\u001b[0mnp\u001b[0m\u001b[0;34m.\u001b[0m\u001b[0mrandom\u001b[0m\u001b[0;34m.\u001b[0m\u001b[0mrandint\u001b[0m\u001b[0;34m(\u001b[0m\u001b[0;36m1\u001b[0m\u001b[0;34m,\u001b[0m \u001b[0;36m52\u001b[0m\u001b[0;34m)\u001b[0m\u001b[0;34m]\u001b[0m\u001b[0;34m=\u001b[0m\u001b[0mnp\u001b[0m\u001b[0;34m.\u001b[0m\u001b[0mnan\u001b[0m\u001b[0;34m\u001b[0m\u001b[0m\n\u001b[1;32m      5\u001b[0m \u001b[0mtest4\u001b[0m\u001b[0;34m=\u001b[0m\u001b[0mtest4\u001b[0m\u001b[0;34m.\u001b[0m\u001b[0minterpolate\u001b[0m\u001b[0;34m(\u001b[0m\u001b[0mmethod\u001b[0m\u001b[0;34m=\u001b[0m\u001b[0;34m'linear'\u001b[0m\u001b[0;34m,\u001b[0m\u001b[0mlimit_direction\u001b[0m\u001b[0;34m=\u001b[0m\u001b[0;34m'both'\u001b[0m\u001b[0;34m,\u001b[0m\u001b[0mlimit\u001b[0m\u001b[0;34m=\u001b[0m\u001b[0;36m100000\u001b[0m\u001b[0;34m)\u001b[0m\u001b[0;34m\u001b[0m\u001b[0m\n",
      "\u001b[0;31mNameError\u001b[0m: name 'trainDF2' is not defined"
     ]
    }
   ],
   "source": [
    "test3=trainDF2.iloc[2,1:]\n",
    "test4=test3\n",
    "for i in range(30):\n",
    "    test4[np.random.randint(1, 52)]=np.nan\n",
    "test4=test4.interpolate(method='linear',limit_direction='both',limit=100000)\n",
    "plt.subplot(121)\n",
    "test3.plot()\n",
    "plt.subplot(122)\n",
    "test4.plot()"
   ]
  },
  {
   "cell_type": "code",
   "execution_count": 205,
   "metadata": {
    "collapsed": true
   },
   "outputs": [],
   "source": [
    "for i in range(trainDF3.shape[0]):\n",
    "    if np.isnan(trainDF3.iloc[i,:]).sum()/53>0.3:\n",
    "        trainDF3.iloc[i]=FinalInterpol2.iloc[i]"
   ]
  },
  {
   "cell_type": "code",
   "execution_count": 206,
   "metadata": {
    "collapsed": true
   },
   "outputs": [],
   "source": [
    "InterpolTrain2=trainDF3.interpolate(method='linear',limit_direction='both',limit=100000, axis=1)"
   ]
  },
  {
   "cell_type": "code",
   "execution_count": 213,
   "metadata": {
    "collapsed": false
   },
   "outputs": [],
   "source": [
    "boollean2=InterpolTrain2.isnull()\n",
    "for i in range(boollean2.shape[0]):\n",
    "        if boollean2.iloc[i][2]==True:\n",
    "            print i"
   ]
  },
  {
   "cell_type": "code",
   "execution_count": 145,
   "metadata": {
    "collapsed": true
   },
   "outputs": [],
   "source": [
    "InterpolTrain2=InterpolTrain2.drop([49739,174096,210308,225171,225197,229962,299435,371384,548386,563522,563524\n",
    ",563528\n",
    ",563530\n",
    ",563587\n",
    ",563656\n",
    ",563662\n",
    ",563672\n",
    ",563692\n",
    ",563710\n",
    ",563740\n",
    ",563741])"
   ]
  },
  {
   "cell_type": "code",
   "execution_count": null,
   "metadata": {
    "collapsed": true
   },
   "outputs": [],
   "source": [
    "trainOutPut=trainOutPut.drop([49739,174096,210308,225171,225197,229962,299435,371384,548386,563522,563524\n",
    ",563528\n",
    ",563530\n",
    ",563587\n",
    ",563656\n",
    ",563662\n",
    ",563672\n",
    ",563692\n",
    ",563710\n",
    ",563740\n",
    ",563741])"
   ]
  },
  {
   "cell_type": "code",
   "execution_count": 208,
   "metadata": {
    "collapsed": true
   },
   "outputs": [],
   "source": [
    "Interpol2=pd.concat([trainOutPut[\"ID\"],InterpolTrain2],axis=1)"
   ]
  },
  {
   "cell_type": "code",
   "execution_count": 209,
   "metadata": {
    "collapsed": true
   },
   "outputs": [],
   "source": [
    "FinalInterpol2=pd.merge(Interpol,trainOutPut,on=[\"ID\"])"
   ]
  },
  {
   "cell_type": "code",
   "execution_count": 210,
   "metadata": {
    "collapsed": true
   },
   "outputs": [],
   "source": [
    "FinalInterpol2=pd.merge(FinalInterpol2,trainDF[[\"ID\",'date','product_id']],on=[\"ID\"])"
   ]
  },
  {
   "cell_type": "code",
   "execution_count": 211,
   "metadata": {
    "collapsed": true
   },
   "outputs": [],
   "source": [
    "features = FinalInterpol2.drop(['ID','TARGET'], axis=1)\n",
    "\n",
    "X = features.values\n",
    "y = trainOutPut['TARGET'].values"
   ]
  },
  {
   "cell_type": "code",
   "execution_count": 212,
   "metadata": {
    "collapsed": false
   },
   "outputs": [
    {
     "ename": "ValueError",
     "evalue": "Found arrays with inconsistent numbers of samples: [613199 613220]",
     "output_type": "error",
     "traceback": [
      "\u001b[0;31m---------------------------------------------------------------------------\u001b[0m",
      "\u001b[0;31mValueError\u001b[0m                                Traceback (most recent call last)",
      "\u001b[0;32m<ipython-input-212-962da0ed0da0>\u001b[0m in \u001b[0;36m<module>\u001b[0;34m()\u001b[0m\n\u001b[1;32m      2\u001b[0m \u001b[0;34m\u001b[0m\u001b[0m\n\u001b[1;32m      3\u001b[0m X_train, X_test, y_train, y_test = train_test_split(\n\u001b[0;32m----> 4\u001b[0;31m     X, y, test_size=0.2, random_state=0)\n\u001b[0m\u001b[1;32m      5\u001b[0m \u001b[0;32mprint\u001b[0m \u001b[0mX_train\u001b[0m\u001b[0;34m.\u001b[0m\u001b[0mshape\u001b[0m\u001b[0;34m\u001b[0m\u001b[0m\n\u001b[1;32m      6\u001b[0m \u001b[0;32mprint\u001b[0m \u001b[0my_train\u001b[0m\u001b[0;34m.\u001b[0m\u001b[0mshape\u001b[0m\u001b[0;34m\u001b[0m\u001b[0m\n",
      "\u001b[0;32m/Applications/anaconda/lib/python2.7/site-packages/sklearn/cross_validation.pyc\u001b[0m in \u001b[0;36mtrain_test_split\u001b[0;34m(*arrays, **options)\u001b[0m\n\u001b[1;32m   1904\u001b[0m     \u001b[0;32mif\u001b[0m \u001b[0mtest_size\u001b[0m \u001b[0;32mis\u001b[0m \u001b[0mNone\u001b[0m \u001b[0;32mand\u001b[0m \u001b[0mtrain_size\u001b[0m \u001b[0;32mis\u001b[0m \u001b[0mNone\u001b[0m\u001b[0;34m:\u001b[0m\u001b[0;34m\u001b[0m\u001b[0m\n\u001b[1;32m   1905\u001b[0m         \u001b[0mtest_size\u001b[0m \u001b[0;34m=\u001b[0m \u001b[0;36m0.25\u001b[0m\u001b[0;34m\u001b[0m\u001b[0m\n\u001b[0;32m-> 1906\u001b[0;31m     \u001b[0marrays\u001b[0m \u001b[0;34m=\u001b[0m \u001b[0mindexable\u001b[0m\u001b[0;34m(\u001b[0m\u001b[0;34m*\u001b[0m\u001b[0marrays\u001b[0m\u001b[0;34m)\u001b[0m\u001b[0;34m\u001b[0m\u001b[0m\n\u001b[0m\u001b[1;32m   1907\u001b[0m     \u001b[0;32mif\u001b[0m \u001b[0mstratify\u001b[0m \u001b[0;32mis\u001b[0m \u001b[0;32mnot\u001b[0m \u001b[0mNone\u001b[0m\u001b[0;34m:\u001b[0m\u001b[0;34m\u001b[0m\u001b[0m\n\u001b[1;32m   1908\u001b[0m         cv = StratifiedShuffleSplit(stratify, test_size=test_size,\n",
      "\u001b[0;32m/Applications/anaconda/lib/python2.7/site-packages/sklearn/utils/validation.pyc\u001b[0m in \u001b[0;36mindexable\u001b[0;34m(*iterables)\u001b[0m\n\u001b[1;32m    199\u001b[0m         \u001b[0;32melse\u001b[0m\u001b[0;34m:\u001b[0m\u001b[0;34m\u001b[0m\u001b[0m\n\u001b[1;32m    200\u001b[0m             \u001b[0mresult\u001b[0m\u001b[0;34m.\u001b[0m\u001b[0mappend\u001b[0m\u001b[0;34m(\u001b[0m\u001b[0mnp\u001b[0m\u001b[0;34m.\u001b[0m\u001b[0marray\u001b[0m\u001b[0;34m(\u001b[0m\u001b[0mX\u001b[0m\u001b[0;34m)\u001b[0m\u001b[0;34m)\u001b[0m\u001b[0;34m\u001b[0m\u001b[0m\n\u001b[0;32m--> 201\u001b[0;31m     \u001b[0mcheck_consistent_length\u001b[0m\u001b[0;34m(\u001b[0m\u001b[0;34m*\u001b[0m\u001b[0mresult\u001b[0m\u001b[0;34m)\u001b[0m\u001b[0;34m\u001b[0m\u001b[0m\n\u001b[0m\u001b[1;32m    202\u001b[0m     \u001b[0;32mreturn\u001b[0m \u001b[0mresult\u001b[0m\u001b[0;34m\u001b[0m\u001b[0m\n\u001b[1;32m    203\u001b[0m \u001b[0;34m\u001b[0m\u001b[0m\n",
      "\u001b[0;32m/Applications/anaconda/lib/python2.7/site-packages/sklearn/utils/validation.pyc\u001b[0m in \u001b[0;36mcheck_consistent_length\u001b[0;34m(*arrays)\u001b[0m\n\u001b[1;32m    174\u001b[0m     \u001b[0;32mif\u001b[0m \u001b[0mlen\u001b[0m\u001b[0;34m(\u001b[0m\u001b[0muniques\u001b[0m\u001b[0;34m)\u001b[0m \u001b[0;34m>\u001b[0m \u001b[0;36m1\u001b[0m\u001b[0;34m:\u001b[0m\u001b[0;34m\u001b[0m\u001b[0m\n\u001b[1;32m    175\u001b[0m         raise ValueError(\"Found arrays with inconsistent numbers of samples: \"\n\u001b[0;32m--> 176\u001b[0;31m                          \"%s\" % str(uniques))\n\u001b[0m\u001b[1;32m    177\u001b[0m \u001b[0;34m\u001b[0m\u001b[0m\n\u001b[1;32m    178\u001b[0m \u001b[0;34m\u001b[0m\u001b[0m\n",
      "\u001b[0;31mValueError\u001b[0m: Found arrays with inconsistent numbers of samples: [613199 613220]"
     ]
    }
   ],
   "source": [
    "from sklearn.cross_validation import train_test_split\n",
    "\n",
    "X_train, X_test, y_train, y_test = train_test_split(\n",
    "    X, y, test_size=0.2, random_state=0)\n",
    "print X_train.shape\n",
    "print y_train.shape"
   ]
  },
  {
   "cell_type": "code",
   "execution_count": 155,
   "metadata": {
    "collapsed": false
   },
   "outputs": [
    {
     "name": "stdout",
     "output_type": "stream",
     "text": [
      "building tree 1 of 10\n",
      "building tree 2 of 10\n",
      "building tree 3 of 10\n",
      "building tree 4 of 10\n",
      "building tree 5 of 10\n",
      "building tree 6 of 10\n",
      "building tree 7 of 10\n",
      "building tree 8 of 10\n",
      "building tree 9 of 10\n",
      "building tree 10 of 10"
     ]
    },
    {
     "name": "stderr",
     "output_type": "stream",
     "text": [
      "[Parallel(n_jobs=1)]: Done  10 out of  10 | elapsed:  1.3min finished\n",
      "[Parallel(n_jobs=1)]: Done  10 out of  10 | elapsed:    1.0s finished\n"
     ]
    },
    {
     "name": "stdout",
     "output_type": "stream",
     "text": [
      "\n",
      "102.168565189\n",
      "CPU times: user 1min 20s, sys: 440 ms, total: 1min 21s\n",
      "Wall time: 1min 21s\n"
     ]
    }
   ],
   "source": [
    "%%time\n",
    "from sklearn.linear_model import LinearRegression\n",
    "from sklearn.ensemble import RandomForestRegressor\n",
    "from sklearn.ensemble import GradientBoostingRegressor\n",
    "n_estimators = 10\n",
    "max_depth = 1000\n",
    "max_features = 10\n",
    "reg = RandomForestRegressor(n_estimators=n_estimators, max_depth=max_depth, max_features=max_features,verbose=3)\n",
    "#reg = LinearRegression()\n",
    "#reg=GradientBoostingRegressor(loss='ls', learning_rate=0.1, n_estimators=1000, subsample=1.0, min_samples_split=2, min_samples_leaf=1, min_weight_fraction_leaf=0.0, max_depth=3, init=None, random_state=None, max_features=None, alpha=0.9, verbose=3,  warm_start=True)\n",
    "reg.fit(X_train,y_train)\n",
    "y_pred=reg.predict(X_test)\n",
    "#print y_pred\n",
    "#print y_test\n",
    "# MAPE\n",
    "#from sklearn.utils import check_arrays\n",
    "#def mean_absolute_percentage_error(y_true, y_pred): \n",
    "    #y_true, y_pred = check_arrays(y_true, y_pred)\n",
    "print np.mean(np.abs((y_pred-y_test ) / y_test)) * 100\n",
    "\n",
    "#mean_absolute_percentage_error(y,y_pred)"
   ]
  },
  {
   "cell_type": "code",
   "execution_count": 138,
   "metadata": {
    "collapsed": false
   },
   "outputs": [
    {
     "data": {
      "text/html": [
       "<div>\n",
       "<table border=\"1\" class=\"dataframe\">\n",
       "  <thead>\n",
       "    <tr style=\"text-align: right;\">\n",
       "      <th></th>\n",
       "      <th>09:30:00</th>\n",
       "      <th>09:35:00</th>\n",
       "      <th>09:40:00</th>\n",
       "      <th>09:45:00</th>\n",
       "      <th>09:50:00</th>\n",
       "      <th>09:55:00</th>\n",
       "      <th>10:00:00</th>\n",
       "      <th>10:05:00</th>\n",
       "      <th>10:10:00</th>\n",
       "      <th>10:15:00</th>\n",
       "      <th>...</th>\n",
       "      <th>13:10:00</th>\n",
       "      <th>13:15:00</th>\n",
       "      <th>13:20:00</th>\n",
       "      <th>13:25:00</th>\n",
       "      <th>13:30:00</th>\n",
       "      <th>13:35:00</th>\n",
       "      <th>13:40:00</th>\n",
       "      <th>13:45:00</th>\n",
       "      <th>13:50:00</th>\n",
       "      <th>13:55:00</th>\n",
       "    </tr>\n",
       "  </thead>\n",
       "  <tbody>\n",
       "    <tr>\n",
       "      <th>count</th>\n",
       "      <td>5.827940e+05</td>\n",
       "      <td>6.045290e+05</td>\n",
       "      <td>6.078030e+05</td>\n",
       "      <td>6.083740e+05</td>\n",
       "      <td>6.086530e+05</td>\n",
       "      <td>6.084740e+05</td>\n",
       "      <td>6.093750e+05</td>\n",
       "      <td>6.087500e+05</td>\n",
       "      <td>6.086740e+05</td>\n",
       "      <td>6.084240e+05</td>\n",
       "      <td>...</td>\n",
       "      <td>6.042040e+05</td>\n",
       "      <td>6.049250e+05</td>\n",
       "      <td>6.045700e+05</td>\n",
       "      <td>6.047870e+05</td>\n",
       "      <td>6.054720e+05</td>\n",
       "      <td>6.052870e+05</td>\n",
       "      <td>6.052740e+05</td>\n",
       "      <td>6.057700e+05</td>\n",
       "      <td>6.056120e+05</td>\n",
       "      <td>6.060260e+05</td>\n",
       "    </tr>\n",
       "    <tr>\n",
       "      <th>mean</th>\n",
       "      <td>5.484430e+06</td>\n",
       "      <td>2.736526e+06</td>\n",
       "      <td>2.490010e+06</td>\n",
       "      <td>2.388250e+06</td>\n",
       "      <td>2.273417e+06</td>\n",
       "      <td>2.115991e+06</td>\n",
       "      <td>2.393612e+06</td>\n",
       "      <td>2.155991e+06</td>\n",
       "      <td>2.011843e+06</td>\n",
       "      <td>1.932620e+06</td>\n",
       "      <td>...</td>\n",
       "      <td>1.018619e+06</td>\n",
       "      <td>1.019724e+06</td>\n",
       "      <td>1.020040e+06</td>\n",
       "      <td>1.018357e+06</td>\n",
       "      <td>1.075413e+06</td>\n",
       "      <td>1.058790e+06</td>\n",
       "      <td>1.051590e+06</td>\n",
       "      <td>1.069892e+06</td>\n",
       "      <td>1.087026e+06</td>\n",
       "      <td>1.091292e+06</td>\n",
       "    </tr>\n",
       "    <tr>\n",
       "      <th>std</th>\n",
       "      <td>1.949316e+07</td>\n",
       "      <td>9.223912e+06</td>\n",
       "      <td>8.060516e+06</td>\n",
       "      <td>7.340282e+06</td>\n",
       "      <td>6.922424e+06</td>\n",
       "      <td>6.331459e+06</td>\n",
       "      <td>6.685622e+06</td>\n",
       "      <td>6.236857e+06</td>\n",
       "      <td>5.788509e+06</td>\n",
       "      <td>5.442499e+06</td>\n",
       "      <td>...</td>\n",
       "      <td>2.892902e+06</td>\n",
       "      <td>2.852669e+06</td>\n",
       "      <td>2.826225e+06</td>\n",
       "      <td>2.836424e+06</td>\n",
       "      <td>3.273261e+06</td>\n",
       "      <td>2.948607e+06</td>\n",
       "      <td>2.982692e+06</td>\n",
       "      <td>3.018174e+06</td>\n",
       "      <td>2.941787e+06</td>\n",
       "      <td>3.003315e+06</td>\n",
       "    </tr>\n",
       "    <tr>\n",
       "      <th>min</th>\n",
       "      <td>0.000000e+00</td>\n",
       "      <td>0.000000e+00</td>\n",
       "      <td>0.000000e+00</td>\n",
       "      <td>0.000000e+00</td>\n",
       "      <td>0.000000e+00</td>\n",
       "      <td>0.000000e+00</td>\n",
       "      <td>0.000000e+00</td>\n",
       "      <td>0.000000e+00</td>\n",
       "      <td>3.859000e+01</td>\n",
       "      <td>0.000000e+00</td>\n",
       "      <td>...</td>\n",
       "      <td>7.470000e+00</td>\n",
       "      <td>7.600000e+00</td>\n",
       "      <td>3.096000e+01</td>\n",
       "      <td>0.000000e+00</td>\n",
       "      <td>2.658000e+01</td>\n",
       "      <td>1.950000e+00</td>\n",
       "      <td>2.721000e+01</td>\n",
       "      <td>2.062000e+01</td>\n",
       "      <td>1.289000e+01</td>\n",
       "      <td>2.337500e+01</td>\n",
       "    </tr>\n",
       "    <tr>\n",
       "      <th>25%</th>\n",
       "      <td>5.436977e+05</td>\n",
       "      <td>2.845430e+05</td>\n",
       "      <td>2.892793e+05</td>\n",
       "      <td>2.940115e+05</td>\n",
       "      <td>2.913120e+05</td>\n",
       "      <td>2.698080e+05</td>\n",
       "      <td>3.292300e+05</td>\n",
       "      <td>2.919540e+05</td>\n",
       "      <td>2.752312e+05</td>\n",
       "      <td>2.670000e+05</td>\n",
       "      <td>...</td>\n",
       "      <td>1.479731e+05</td>\n",
       "      <td>1.501420e+05</td>\n",
       "      <td>1.504422e+05</td>\n",
       "      <td>1.469962e+05</td>\n",
       "      <td>1.622325e+05</td>\n",
       "      <td>1.580470e+05</td>\n",
       "      <td>1.570800e+05</td>\n",
       "      <td>1.609608e+05</td>\n",
       "      <td>1.645970e+05</td>\n",
       "      <td>1.640100e+05</td>\n",
       "    </tr>\n",
       "    <tr>\n",
       "      <th>50%</th>\n",
       "      <td>1.445712e+06</td>\n",
       "      <td>8.034200e+05</td>\n",
       "      <td>7.840650e+05</td>\n",
       "      <td>7.832489e+05</td>\n",
       "      <td>7.682850e+05</td>\n",
       "      <td>7.157062e+05</td>\n",
       "      <td>8.511140e+05</td>\n",
       "      <td>7.607193e+05</td>\n",
       "      <td>7.162979e+05</td>\n",
       "      <td>6.904755e+05</td>\n",
       "      <td>...</td>\n",
       "      <td>3.849263e+05</td>\n",
       "      <td>3.875050e+05</td>\n",
       "      <td>3.876438e+05</td>\n",
       "      <td>3.813410e+05</td>\n",
       "      <td>4.160160e+05</td>\n",
       "      <td>4.078560e+05</td>\n",
       "      <td>4.056826e+05</td>\n",
       "      <td>4.136375e+05</td>\n",
       "      <td>4.207670e+05</td>\n",
       "      <td>4.209960e+05</td>\n",
       "    </tr>\n",
       "    <tr>\n",
       "      <th>75%</th>\n",
       "      <td>4.101696e+06</td>\n",
       "      <td>2.226048e+06</td>\n",
       "      <td>2.101197e+06</td>\n",
       "      <td>2.070323e+06</td>\n",
       "      <td>2.002595e+06</td>\n",
       "      <td>1.871804e+06</td>\n",
       "      <td>2.166669e+06</td>\n",
       "      <td>1.948932e+06</td>\n",
       "      <td>1.827475e+06</td>\n",
       "      <td>1.760211e+06</td>\n",
       "      <td>...</td>\n",
       "      <td>9.644843e+05</td>\n",
       "      <td>9.681920e+05</td>\n",
       "      <td>9.662347e+05</td>\n",
       "      <td>9.564386e+05</td>\n",
       "      <td>1.027574e+06</td>\n",
       "      <td>1.010198e+06</td>\n",
       "      <td>1.005718e+06</td>\n",
       "      <td>1.021618e+06</td>\n",
       "      <td>1.040616e+06</td>\n",
       "      <td>1.040075e+06</td>\n",
       "    </tr>\n",
       "    <tr>\n",
       "      <th>max</th>\n",
       "      <td>1.724119e+09</td>\n",
       "      <td>8.250823e+08</td>\n",
       "      <td>6.053558e+08</td>\n",
       "      <td>7.432021e+08</td>\n",
       "      <td>1.007602e+09</td>\n",
       "      <td>6.989220e+08</td>\n",
       "      <td>4.949232e+08</td>\n",
       "      <td>7.642142e+08</td>\n",
       "      <td>4.949766e+08</td>\n",
       "      <td>5.532762e+08</td>\n",
       "      <td>...</td>\n",
       "      <td>3.712108e+08</td>\n",
       "      <td>3.292835e+08</td>\n",
       "      <td>3.621890e+08</td>\n",
       "      <td>3.045972e+08</td>\n",
       "      <td>9.658196e+08</td>\n",
       "      <td>3.654456e+08</td>\n",
       "      <td>4.265442e+08</td>\n",
       "      <td>4.604287e+08</td>\n",
       "      <td>2.678111e+08</td>\n",
       "      <td>2.891670e+08</td>\n",
       "    </tr>\n",
       "  </tbody>\n",
       "</table>\n",
       "<p>8 rows × 54 columns</p>\n",
       "</div>"
      ],
      "text/plain": [
       "           09:30:00      09:35:00      09:40:00      09:45:00      09:50:00  \\\n",
       "count  5.827940e+05  6.045290e+05  6.078030e+05  6.083740e+05  6.086530e+05   \n",
       "mean   5.484430e+06  2.736526e+06  2.490010e+06  2.388250e+06  2.273417e+06   \n",
       "std    1.949316e+07  9.223912e+06  8.060516e+06  7.340282e+06  6.922424e+06   \n",
       "min    0.000000e+00  0.000000e+00  0.000000e+00  0.000000e+00  0.000000e+00   \n",
       "25%    5.436977e+05  2.845430e+05  2.892793e+05  2.940115e+05  2.913120e+05   \n",
       "50%    1.445712e+06  8.034200e+05  7.840650e+05  7.832489e+05  7.682850e+05   \n",
       "75%    4.101696e+06  2.226048e+06  2.101197e+06  2.070323e+06  2.002595e+06   \n",
       "max    1.724119e+09  8.250823e+08  6.053558e+08  7.432021e+08  1.007602e+09   \n",
       "\n",
       "           09:55:00      10:00:00      10:05:00      10:10:00      10:15:00  \\\n",
       "count  6.084740e+05  6.093750e+05  6.087500e+05  6.086740e+05  6.084240e+05   \n",
       "mean   2.115991e+06  2.393612e+06  2.155991e+06  2.011843e+06  1.932620e+06   \n",
       "std    6.331459e+06  6.685622e+06  6.236857e+06  5.788509e+06  5.442499e+06   \n",
       "min    0.000000e+00  0.000000e+00  0.000000e+00  3.859000e+01  0.000000e+00   \n",
       "25%    2.698080e+05  3.292300e+05  2.919540e+05  2.752312e+05  2.670000e+05   \n",
       "50%    7.157062e+05  8.511140e+05  7.607193e+05  7.162979e+05  6.904755e+05   \n",
       "75%    1.871804e+06  2.166669e+06  1.948932e+06  1.827475e+06  1.760211e+06   \n",
       "max    6.989220e+08  4.949232e+08  7.642142e+08  4.949766e+08  5.532762e+08   \n",
       "\n",
       "           ...           13:10:00      13:15:00      13:20:00      13:25:00  \\\n",
       "count      ...       6.042040e+05  6.049250e+05  6.045700e+05  6.047870e+05   \n",
       "mean       ...       1.018619e+06  1.019724e+06  1.020040e+06  1.018357e+06   \n",
       "std        ...       2.892902e+06  2.852669e+06  2.826225e+06  2.836424e+06   \n",
       "min        ...       7.470000e+00  7.600000e+00  3.096000e+01  0.000000e+00   \n",
       "25%        ...       1.479731e+05  1.501420e+05  1.504422e+05  1.469962e+05   \n",
       "50%        ...       3.849263e+05  3.875050e+05  3.876438e+05  3.813410e+05   \n",
       "75%        ...       9.644843e+05  9.681920e+05  9.662347e+05  9.564386e+05   \n",
       "max        ...       3.712108e+08  3.292835e+08  3.621890e+08  3.045972e+08   \n",
       "\n",
       "           13:30:00      13:35:00      13:40:00      13:45:00      13:50:00  \\\n",
       "count  6.054720e+05  6.052870e+05  6.052740e+05  6.057700e+05  6.056120e+05   \n",
       "mean   1.075413e+06  1.058790e+06  1.051590e+06  1.069892e+06  1.087026e+06   \n",
       "std    3.273261e+06  2.948607e+06  2.982692e+06  3.018174e+06  2.941787e+06   \n",
       "min    2.658000e+01  1.950000e+00  2.721000e+01  2.062000e+01  1.289000e+01   \n",
       "25%    1.622325e+05  1.580470e+05  1.570800e+05  1.609608e+05  1.645970e+05   \n",
       "50%    4.160160e+05  4.078560e+05  4.056826e+05  4.136375e+05  4.207670e+05   \n",
       "75%    1.027574e+06  1.010198e+06  1.005718e+06  1.021618e+06  1.040616e+06   \n",
       "max    9.658196e+08  3.654456e+08  4.265442e+08  4.604287e+08  2.678111e+08   \n",
       "\n",
       "           13:55:00  \n",
       "count  6.060260e+05  \n",
       "mean   1.091292e+06  \n",
       "std    3.003315e+06  \n",
       "min    2.337500e+01  \n",
       "25%    1.640100e+05  \n",
       "50%    4.209960e+05  \n",
       "75%    1.040075e+06  \n",
       "max    2.891670e+08  \n",
       "\n",
       "[8 rows x 54 columns]"
      ]
     },
     "execution_count": 138,
     "metadata": {},
     "output_type": "execute_result"
    }
   ],
   "source": [
    "trainDF2.describe()"
   ]
  },
  {
   "cell_type": "code",
   "execution_count": 71,
   "metadata": {
    "collapsed": false
   },
   "outputs": [
    {
     "data": {
      "text/plain": [
       "<matplotlib.axes._subplots.AxesSubplot at 0x110e6fad0>"
      ]
     },
     "execution_count": 71,
     "metadata": {},
     "output_type": "execute_result"
    },
    {
     "data": {
      "image/png": "[encoded data removed]",
      "text/plain": [
       "<matplotlib.figure.Figure at 0x110e6f6d0>"
      ]
     },
     "metadata": {},
     "output_type": "display_data"
    }
   ],
   "source": [
    "PlotTrainDF=trainDF.groupby(\"product_id\").mean()\n",
    "PlotTrainDF=PlotTrainDF.drop([\"ID\",'date'],axis=1)\n",
    "b=PlotTrainDF.iloc[0:200,0:]\n",
    "b=b.transpose()\n",
    "b.plot()"
   ]
  },
  {
   "cell_type": "code",
   "execution_count": 61,
   "metadata": {
    "collapsed": false
   },
   "outputs": [
    {
     "data": {
      "text/html": [
       "<div>\n",
       "<table border=\"1\" class=\"dataframe\">\n",
       "  <thead>\n",
       "    <tr style=\"text-align: right;\">\n",
       "      <th></th>\n",
       "      <th>09:30:00</th>\n",
       "      <th>09:35:00</th>\n",
       "      <th>09:40:00</th>\n",
       "      <th>09:45:00</th>\n",
       "      <th>09:50:00</th>\n",
       "      <th>09:55:00</th>\n",
       "      <th>10:00:00</th>\n",
       "      <th>10:05:00</th>\n",
       "      <th>10:10:00</th>\n",
       "      <th>10:15:00</th>\n",
       "      <th>...</th>\n",
       "      <th>13:10:00</th>\n",
       "      <th>13:15:00</th>\n",
       "      <th>13:20:00</th>\n",
       "      <th>13:25:00</th>\n",
       "      <th>13:30:00</th>\n",
       "      <th>13:35:00</th>\n",
       "      <th>13:40:00</th>\n",
       "      <th>13:45:00</th>\n",
       "      <th>13:50:00</th>\n",
       "      <th>13:55:00</th>\n",
       "    </tr>\n",
       "  </thead>\n",
       "  <tbody>\n",
       "    <tr>\n",
       "      <th>0</th>\n",
       "      <td>24138818.08</td>\n",
       "      <td>2457975.00</td>\n",
       "      <td>741777.14</td>\n",
       "      <td>973487.28</td>\n",
       "      <td>764018.92</td>\n",
       "      <td>1074769.92</td>\n",
       "      <td>3056492.88</td>\n",
       "      <td>1312440.80</td>\n",
       "      <td>1439664.56</td>\n",
       "      <td>1354772.65</td>\n",
       "      <td>...</td>\n",
       "      <td>810609.36</td>\n",
       "      <td>818269.86</td>\n",
       "      <td>629216.64</td>\n",
       "      <td>1467907.56</td>\n",
       "      <td>984992.90</td>\n",
       "      <td>959853.30</td>\n",
       "      <td>892596.88</td>\n",
       "      <td>528573.62</td>\n",
       "      <td>973928.60</td>\n",
       "      <td>972596.43</td>\n",
       "    </tr>\n",
       "    <tr>\n",
       "      <th>1</th>\n",
       "      <td>8897508.62</td>\n",
       "      <td>104198.40</td>\n",
       "      <td>61840.92</td>\n",
       "      <td>78523.02</td>\n",
       "      <td>128729.16</td>\n",
       "      <td>60789.84</td>\n",
       "      <td>18072.62</td>\n",
       "      <td>108036.10</td>\n",
       "      <td>105709.11</td>\n",
       "      <td>28800.00</td>\n",
       "      <td>...</td>\n",
       "      <td>19140.84</td>\n",
       "      <td>12707.50</td>\n",
       "      <td>25131.87</td>\n",
       "      <td>24124.80</td>\n",
       "      <td>46132.35</td>\n",
       "      <td>51850.26</td>\n",
       "      <td>46478.41</td>\n",
       "      <td>17199.00</td>\n",
       "      <td>34500.62</td>\n",
       "      <td>37690.24</td>\n",
       "    </tr>\n",
       "    <tr>\n",
       "      <th>2</th>\n",
       "      <td>6461968.95</td>\n",
       "      <td>109497.00</td>\n",
       "      <td>152577.00</td>\n",
       "      <td>164024.00</td>\n",
       "      <td>204372.00</td>\n",
       "      <td>321545.70</td>\n",
       "      <td>346236.00</td>\n",
       "      <td>244627.00</td>\n",
       "      <td>142075.00</td>\n",
       "      <td>232429.00</td>\n",
       "      <td>...</td>\n",
       "      <td>96203.00</td>\n",
       "      <td>33978.00</td>\n",
       "      <td>239729.60</td>\n",
       "      <td>67860.00</td>\n",
       "      <td>68478.00</td>\n",
       "      <td>105222.24</td>\n",
       "      <td>101646.00</td>\n",
       "      <td>79128.00</td>\n",
       "      <td>101248.00</td>\n",
       "      <td>367120.00</td>\n",
       "    </tr>\n",
       "    <tr>\n",
       "      <th>3</th>\n",
       "      <td>6822223.20</td>\n",
       "      <td>220467.28</td>\n",
       "      <td>161594.35</td>\n",
       "      <td>264893.44</td>\n",
       "      <td>300326.20</td>\n",
       "      <td>707391.68</td>\n",
       "      <td>327428.00</td>\n",
       "      <td>470549.60</td>\n",
       "      <td>152822.00</td>\n",
       "      <td>213000.00</td>\n",
       "      <td>...</td>\n",
       "      <td>437946.60</td>\n",
       "      <td>7096.00</td>\n",
       "      <td>514560.06</td>\n",
       "      <td>1395147.39</td>\n",
       "      <td>984468.82</td>\n",
       "      <td>565263.30</td>\n",
       "      <td>286416.00</td>\n",
       "      <td>71518.14</td>\n",
       "      <td>155752.10</td>\n",
       "      <td>123690.00</td>\n",
       "    </tr>\n",
       "    <tr>\n",
       "      <th>4</th>\n",
       "      <td>36632811.84</td>\n",
       "      <td>4470974.95</td>\n",
       "      <td>1448461.05</td>\n",
       "      <td>1500694.38</td>\n",
       "      <td>944346.50</td>\n",
       "      <td>958685.76</td>\n",
       "      <td>1685234.07</td>\n",
       "      <td>782275.54</td>\n",
       "      <td>627863.60</td>\n",
       "      <td>2395376.40</td>\n",
       "      <td>...</td>\n",
       "      <td>429049.72</td>\n",
       "      <td>289330.13</td>\n",
       "      <td>578565.65</td>\n",
       "      <td>358484.80</td>\n",
       "      <td>440292.16</td>\n",
       "      <td>795697.65</td>\n",
       "      <td>565374.30</td>\n",
       "      <td>832022.43</td>\n",
       "      <td>1425134.40</td>\n",
       "      <td>2310369.30</td>\n",
       "    </tr>\n",
       "  </tbody>\n",
       "</table>\n",
       "<p>5 rows × 54 columns</p>\n",
       "</div>"
      ],
      "text/plain": [
       "      09:30:00    09:35:00    09:40:00    09:45:00   09:50:00    09:55:00  \\\n",
       "0  24138818.08  2457975.00   741777.14   973487.28  764018.92  1074769.92   \n",
       "1   8897508.62   104198.40    61840.92    78523.02  128729.16    60789.84   \n",
       "2   6461968.95   109497.00   152577.00   164024.00  204372.00   321545.70   \n",
       "3   6822223.20   220467.28   161594.35   264893.44  300326.20   707391.68   \n",
       "4  36632811.84  4470974.95  1448461.05  1500694.38  944346.50   958685.76   \n",
       "\n",
       "     10:00:00    10:05:00    10:10:00    10:15:00     ...       13:10:00  \\\n",
       "0  3056492.88  1312440.80  1439664.56  1354772.65     ...      810609.36   \n",
       "1    18072.62   108036.10   105709.11    28800.00     ...       19140.84   \n",
       "2   346236.00   244627.00   142075.00   232429.00     ...       96203.00   \n",
       "3   327428.00   470549.60   152822.00   213000.00     ...      437946.60   \n",
       "4  1685234.07   782275.54   627863.60  2395376.40     ...      429049.72   \n",
       "\n",
       "    13:15:00   13:20:00    13:25:00   13:30:00   13:35:00   13:40:00  \\\n",
       "0  818269.86  629216.64  1467907.56  984992.90  959853.30  892596.88   \n",
       "1   12707.50   25131.87    24124.80   46132.35   51850.26   46478.41   \n",
       "2   33978.00  239729.60    67860.00   68478.00  105222.24  101646.00   \n",
       "3    7096.00  514560.06  1395147.39  984468.82  565263.30  286416.00   \n",
       "4  289330.13  578565.65   358484.80  440292.16  795697.65  565374.30   \n",
       "\n",
       "    13:45:00    13:50:00    13:55:00  \n",
       "0  528573.62   973928.60   972596.43  \n",
       "1   17199.00    34500.62    37690.24  \n",
       "2   79128.00   101248.00   367120.00  \n",
       "3   71518.14   155752.10   123690.00  \n",
       "4  832022.43  1425134.40  2310369.30  \n",
       "\n",
       "[5 rows x 54 columns]"
      ]
     },
     "execution_count": 61,
     "metadata": {},
     "output_type": "execute_result"
    }
   ],
   "source": [
    "trainDF2.head()"
   ]
  },
  {
   "cell_type": "code",
   "execution_count": null,
   "metadata": {
    "collapsed": false
   },
   "outputs": [],
   "source": [
    "trainDF2.describe()"
   ]
  },
  {
   "cell_type": "code",
   "execution_count": 99,
   "metadata": {
    "collapsed": false
   },
   "outputs": [
    {
     "data": {
      "text/plain": [
       "<matplotlib.axes._subplots.AxesSubplot at 0x123b66fd0>"
      ]
     },
     "execution_count": 99,
     "metadata": {},
     "output_type": "execute_result"
    },
    {
     "data": {
      "image/png": "[encoded data removed]",
      "text/plain": [
       "<matplotlib.figure.Figure at 0x123e4ee90>"
      ]
     },
     "metadata": {},
     "output_type": "display_data"
    }
   ],
   "source": [
    "traintry=trainDF.drop([\"ID\",'date','product_id'],axis=1)\n",
    "d = traintry.iloc[49738,0:]\n",
    "\n",
    "d.plot()"
   ]
  },
  {
   "cell_type": "code",
   "execution_count": 62,
   "metadata": {
    "collapsed": false
   },
   "outputs": [
    {
     "ename": "ValueError",
     "evalue": "invalid literal for float(): 13:55:00",
     "output_type": "error",
     "traceback": [
      "\u001b[0;31m---------------------------------------------------------------------------\u001b[0m",
      "\u001b[0;31mValueError\u001b[0m                                Traceback (most recent call last)",
      "\u001b[0;32m<ipython-input-62-385d08e07ad0>\u001b[0m in \u001b[0;36m<module>\u001b[0;34m()\u001b[0m\n\u001b[0;32m----> 1\u001b[0;31m \u001b[0mInterpolTrain\u001b[0m\u001b[0;34m=\u001b[0m\u001b[0mtrainDF2\u001b[0m\u001b[0;34m.\u001b[0m\u001b[0minterpolate\u001b[0m\u001b[0;34m(\u001b[0m\u001b[0mmethod\u001b[0m\u001b[0;34m=\u001b[0m\u001b[0;34m'spline'\u001b[0m\u001b[0;34m,\u001b[0m\u001b[0morder\u001b[0m\u001b[0;34m=\u001b[0m\u001b[0;36m3\u001b[0m\u001b[0;34m,\u001b[0m\u001b[0mlimit_direction\u001b[0m\u001b[0;34m=\u001b[0m\u001b[0;34m'both'\u001b[0m\u001b[0;34m,\u001b[0m\u001b[0mlimit\u001b[0m\u001b[0;34m=\u001b[0m\u001b[0;36m100000\u001b[0m\u001b[0;34m,\u001b[0m \u001b[0maxis\u001b[0m\u001b[0;34m=\u001b[0m\u001b[0;36m1\u001b[0m\u001b[0;34m)\u001b[0m\u001b[0;34m\u001b[0m\u001b[0m\n\u001b[0m",
      "\u001b[0;32m/Applications/anaconda/lib/python2.7/site-packages/pandas/core/generic.pyc\u001b[0m in \u001b[0;36minterpolate\u001b[0;34m(self, method, axis, limit, inplace, limit_direction, downcast, **kwargs)\u001b[0m\n\u001b[1;32m   3124\u001b[0m             \u001b[0minplace\u001b[0m\u001b[0;34m=\u001b[0m\u001b[0minplace\u001b[0m\u001b[0;34m,\u001b[0m\u001b[0;34m\u001b[0m\u001b[0m\n\u001b[1;32m   3125\u001b[0m             \u001b[0mdowncast\u001b[0m\u001b[0;34m=\u001b[0m\u001b[0mdowncast\u001b[0m\u001b[0;34m,\u001b[0m\u001b[0;34m\u001b[0m\u001b[0m\n\u001b[0;32m-> 3126\u001b[0;31m             \u001b[0;34m**\u001b[0m\u001b[0mkwargs\u001b[0m\u001b[0;34m\u001b[0m\u001b[0m\n\u001b[0m\u001b[1;32m   3127\u001b[0m         )\n\u001b[1;32m   3128\u001b[0m         \u001b[0;32mif\u001b[0m \u001b[0minplace\u001b[0m\u001b[0;34m:\u001b[0m\u001b[0;34m\u001b[0m\u001b[0m\n",
      "\u001b[0;32m/Applications/anaconda/lib/python2.7/site-packages/pandas/core/internals.pyc\u001b[0m in \u001b[0;36minterpolate\u001b[0;34m(self, **kwargs)\u001b[0m\n\u001b[1;32m   2741\u001b[0m \u001b[0;34m\u001b[0m\u001b[0m\n\u001b[1;32m   2742\u001b[0m     \u001b[0;32mdef\u001b[0m \u001b[0minterpolate\u001b[0m\u001b[0;34m(\u001b[0m\u001b[0mself\u001b[0m\u001b[0;34m,\u001b[0m \u001b[0;34m**\u001b[0m\u001b[0mkwargs\u001b[0m\u001b[0;34m)\u001b[0m\u001b[0;34m:\u001b[0m\u001b[0;34m\u001b[0m\u001b[0m\n\u001b[0;32m-> 2743\u001b[0;31m         \u001b[0;32mreturn\u001b[0m \u001b[0mself\u001b[0m\u001b[0;34m.\u001b[0m\u001b[0mapply\u001b[0m\u001b[0;34m(\u001b[0m\u001b[0;34m'interpolate'\u001b[0m\u001b[0;34m,\u001b[0m \u001b[0;34m**\u001b[0m\u001b[0mkwargs\u001b[0m\u001b[0;34m)\u001b[0m\u001b[0;34m\u001b[0m\u001b[0m\n\u001b[0m\u001b[1;32m   2744\u001b[0m \u001b[0;34m\u001b[0m\u001b[0m\n\u001b[1;32m   2745\u001b[0m     \u001b[0;32mdef\u001b[0m \u001b[0mshift\u001b[0m\u001b[0;34m(\u001b[0m\u001b[0mself\u001b[0m\u001b[0;34m,\u001b[0m \u001b[0;34m**\u001b[0m\u001b[0mkwargs\u001b[0m\u001b[0;34m)\u001b[0m\u001b[0;34m:\u001b[0m\u001b[0;34m\u001b[0m\u001b[0m\n",
      "\u001b[0;32m/Applications/anaconda/lib/python2.7/site-packages/pandas/core/internals.pyc\u001b[0m in \u001b[0;36mapply\u001b[0;34m(self, f, axes, filter, do_integrity_check, consolidate, **kwargs)\u001b[0m\n\u001b[1;32m   2708\u001b[0m                                                  copy=align_copy)\n\u001b[1;32m   2709\u001b[0m \u001b[0;34m\u001b[0m\u001b[0m\n\u001b[0;32m-> 2710\u001b[0;31m             \u001b[0mapplied\u001b[0m \u001b[0;34m=\u001b[0m \u001b[0mgetattr\u001b[0m\u001b[0;34m(\u001b[0m\u001b[0mb\u001b[0m\u001b[0;34m,\u001b[0m \u001b[0mf\u001b[0m\u001b[0;34m)\u001b[0m\u001b[0;34m(\u001b[0m\u001b[0;34m**\u001b[0m\u001b[0mkwargs\u001b[0m\u001b[0;34m)\u001b[0m\u001b[0;34m\u001b[0m\u001b[0m\n\u001b[0m\u001b[1;32m   2711\u001b[0m \u001b[0;34m\u001b[0m\u001b[0m\n\u001b[1;32m   2712\u001b[0m             \u001b[0;32mif\u001b[0m \u001b[0misinstance\u001b[0m\u001b[0;34m(\u001b[0m\u001b[0mapplied\u001b[0m\u001b[0;34m,\u001b[0m \u001b[0mlist\u001b[0m\u001b[0;34m)\u001b[0m\u001b[0;34m:\u001b[0m\u001b[0;34m\u001b[0m\u001b[0m\n",
      "\u001b[0;32m/Applications/anaconda/lib/python2.7/site-packages/pandas/core/internals.pyc\u001b[0m in \u001b[0;36minterpolate\u001b[0;34m(self, method, axis, index, values, inplace, limit, limit_direction, fill_value, coerce, downcast, **kwargs)\u001b[0m\n\u001b[1;32m    837\u001b[0m                                      \u001b[0minplace\u001b[0m\u001b[0;34m=\u001b[0m\u001b[0minplace\u001b[0m\u001b[0;34m,\u001b[0m\u001b[0;34m\u001b[0m\u001b[0m\n\u001b[1;32m    838\u001b[0m                                      \u001b[0mdowncast\u001b[0m\u001b[0;34m=\u001b[0m\u001b[0mdowncast\u001b[0m\u001b[0;34m,\u001b[0m\u001b[0;34m\u001b[0m\u001b[0m\n\u001b[0;32m--> 839\u001b[0;31m                                      **kwargs)\n\u001b[0m\u001b[1;32m    840\u001b[0m \u001b[0;34m\u001b[0m\u001b[0m\n\u001b[1;32m    841\u001b[0m         \u001b[0;32mraise\u001b[0m \u001b[0mValueError\u001b[0m\u001b[0;34m(\u001b[0m\u001b[0;34m\"invalid method '{0}' to interpolate.\"\u001b[0m\u001b[0;34m.\u001b[0m\u001b[0mformat\u001b[0m\u001b[0;34m(\u001b[0m\u001b[0mmethod\u001b[0m\u001b[0;34m)\u001b[0m\u001b[0;34m)\u001b[0m\u001b[0;34m\u001b[0m\u001b[0m\n",
      "\u001b[0;32m/Applications/anaconda/lib/python2.7/site-packages/pandas/core/internals.pyc\u001b[0m in \u001b[0;36m_interpolate\u001b[0;34m(self, method, index, values, fill_value, axis, limit, limit_direction, inplace, downcast, **kwargs)\u001b[0m\n\u001b[1;32m    905\u001b[0m \u001b[0;34m\u001b[0m\u001b[0m\n\u001b[1;32m    906\u001b[0m         \u001b[0;31m# interp each column independently\u001b[0m\u001b[0;34m\u001b[0m\u001b[0;34m\u001b[0m\u001b[0m\n\u001b[0;32m--> 907\u001b[0;31m         \u001b[0minterp_values\u001b[0m \u001b[0;34m=\u001b[0m \u001b[0mnp\u001b[0m\u001b[0;34m.\u001b[0m\u001b[0mapply_along_axis\u001b[0m\u001b[0;34m(\u001b[0m\u001b[0mfunc\u001b[0m\u001b[0;34m,\u001b[0m \u001b[0maxis\u001b[0m\u001b[0;34m,\u001b[0m \u001b[0mdata\u001b[0m\u001b[0;34m)\u001b[0m\u001b[0;34m\u001b[0m\u001b[0m\n\u001b[0m\u001b[1;32m    908\u001b[0m \u001b[0;34m\u001b[0m\u001b[0m\n\u001b[1;32m    909\u001b[0m         blocks = [self.make_block(interp_values,\n",
      "\u001b[0;32m/Applications/anaconda/lib/python2.7/site-packages/numpy/lib/shape_base.pyc\u001b[0m in \u001b[0;36mapply_along_axis\u001b[0;34m(func1d, axis, arr, *args, **kwargs)\u001b[0m\n\u001b[1;32m    126\u001b[0m                 \u001b[0mn\u001b[0m \u001b[0;34m-=\u001b[0m \u001b[0;36m1\u001b[0m\u001b[0;34m\u001b[0m\u001b[0m\n\u001b[1;32m    127\u001b[0m             \u001b[0mi\u001b[0m\u001b[0;34m.\u001b[0m\u001b[0mput\u001b[0m\u001b[0;34m(\u001b[0m\u001b[0mindlist\u001b[0m\u001b[0;34m,\u001b[0m \u001b[0mind\u001b[0m\u001b[0;34m)\u001b[0m\u001b[0;34m\u001b[0m\u001b[0m\n\u001b[0;32m--> 128\u001b[0;31m             \u001b[0mres\u001b[0m \u001b[0;34m=\u001b[0m \u001b[0mfunc1d\u001b[0m\u001b[0;34m(\u001b[0m\u001b[0marr\u001b[0m\u001b[0;34m[\u001b[0m\u001b[0mtuple\u001b[0m\u001b[0;34m(\u001b[0m\u001b[0mi\u001b[0m\u001b[0;34m.\u001b[0m\u001b[0mtolist\u001b[0m\u001b[0;34m(\u001b[0m\u001b[0;34m)\u001b[0m\u001b[0;34m)\u001b[0m\u001b[0;34m]\u001b[0m\u001b[0;34m,\u001b[0m \u001b[0;34m*\u001b[0m\u001b[0margs\u001b[0m\u001b[0;34m,\u001b[0m \u001b[0;34m**\u001b[0m\u001b[0mkwargs\u001b[0m\u001b[0;34m)\u001b[0m\u001b[0;34m\u001b[0m\u001b[0m\n\u001b[0m\u001b[1;32m    129\u001b[0m             \u001b[0moutarr\u001b[0m\u001b[0;34m[\u001b[0m\u001b[0mtuple\u001b[0m\u001b[0;34m(\u001b[0m\u001b[0mi\u001b[0m\u001b[0;34m.\u001b[0m\u001b[0mtolist\u001b[0m\u001b[0;34m(\u001b[0m\u001b[0;34m)\u001b[0m\u001b[0;34m)\u001b[0m\u001b[0;34m]\u001b[0m \u001b[0;34m=\u001b[0m \u001b[0mres\u001b[0m\u001b[0;34m\u001b[0m\u001b[0m\n\u001b[1;32m    130\u001b[0m             \u001b[0mk\u001b[0m \u001b[0;34m+=\u001b[0m \u001b[0;36m1\u001b[0m\u001b[0;34m\u001b[0m\u001b[0m\n",
      "\u001b[0;32m/Applications/anaconda/lib/python2.7/site-packages/pandas/core/internals.pyc\u001b[0m in \u001b[0;36mfunc\u001b[0;34m(x)\u001b[0m\n\u001b[1;32m    902\u001b[0m                                       \u001b[0mlimit_direction\u001b[0m\u001b[0;34m=\u001b[0m\u001b[0mlimit_direction\u001b[0m\u001b[0;34m,\u001b[0m\u001b[0;34m\u001b[0m\u001b[0m\n\u001b[1;32m    903\u001b[0m                                       \u001b[0mfill_value\u001b[0m\u001b[0;34m=\u001b[0m\u001b[0mfill_value\u001b[0m\u001b[0;34m,\u001b[0m\u001b[0;34m\u001b[0m\u001b[0m\n\u001b[0;32m--> 904\u001b[0;31m                                       bounds_error=False, **kwargs)\n\u001b[0m\u001b[1;32m    905\u001b[0m \u001b[0;34m\u001b[0m\u001b[0m\n\u001b[1;32m    906\u001b[0m         \u001b[0;31m# interp each column independently\u001b[0m\u001b[0;34m\u001b[0m\u001b[0;34m\u001b[0m\u001b[0m\n",
      "\u001b[0;32m/Applications/anaconda/lib/python2.7/site-packages/pandas/core/common.pyc\u001b[0m in \u001b[0;36minterpolate_1d\u001b[0;34m(xvalues, yvalues, method, limit, limit_direction, fill_value, bounds_error, order, **kwargs)\u001b[0m\n\u001b[1;32m   1653\u001b[0m             \u001b[0minds\u001b[0m\u001b[0;34m[\u001b[0m\u001b[0mvalid\u001b[0m\u001b[0;34m]\u001b[0m\u001b[0;34m,\u001b[0m \u001b[0myvalues\u001b[0m\u001b[0;34m[\u001b[0m\u001b[0mvalid\u001b[0m\u001b[0;34m]\u001b[0m\u001b[0;34m,\u001b[0m \u001b[0minds\u001b[0m\u001b[0;34m[\u001b[0m\u001b[0minvalid\u001b[0m\u001b[0;34m]\u001b[0m\u001b[0;34m,\u001b[0m \u001b[0mmethod\u001b[0m\u001b[0;34m=\u001b[0m\u001b[0mmethod\u001b[0m\u001b[0;34m,\u001b[0m\u001b[0;34m\u001b[0m\u001b[0m\n\u001b[1;32m   1654\u001b[0m             \u001b[0mfill_value\u001b[0m\u001b[0;34m=\u001b[0m\u001b[0mfill_value\u001b[0m\u001b[0;34m,\u001b[0m\u001b[0;34m\u001b[0m\u001b[0m\n\u001b[0;32m-> 1655\u001b[0;31m             bounds_error=bounds_error, order=order, **kwargs)\n\u001b[0m\u001b[1;32m   1656\u001b[0m         \u001b[0mresult\u001b[0m\u001b[0;34m[\u001b[0m\u001b[0mviolate_limit\u001b[0m\u001b[0;34m]\u001b[0m \u001b[0;34m=\u001b[0m \u001b[0mnp\u001b[0m\u001b[0;34m.\u001b[0m\u001b[0mnan\u001b[0m\u001b[0;34m\u001b[0m\u001b[0m\n\u001b[1;32m   1657\u001b[0m         \u001b[0;32mreturn\u001b[0m \u001b[0mresult\u001b[0m\u001b[0;34m\u001b[0m\u001b[0m\n",
      "\u001b[0;32m/Applications/anaconda/lib/python2.7/site-packages/pandas/core/common.pyc\u001b[0m in \u001b[0;36m_interpolate_scipy_wrapper\u001b[0;34m(x, y, new_x, method, fill_value, bounds_error, order, **kwargs)\u001b[0m\n\u001b[1;32m   1703\u001b[0m         \u001b[0;32mif\u001b[0m \u001b[0;32mnot\u001b[0m \u001b[0morder\u001b[0m\u001b[0;34m:\u001b[0m\u001b[0;34m\u001b[0m\u001b[0m\n\u001b[1;32m   1704\u001b[0m             \u001b[0;32mraise\u001b[0m \u001b[0mValueError\u001b[0m\u001b[0;34m(\u001b[0m\u001b[0;34m\"order needs to be specified and greater than 0\"\u001b[0m\u001b[0;34m)\u001b[0m\u001b[0;34m\u001b[0m\u001b[0m\n\u001b[0;32m-> 1705\u001b[0;31m         \u001b[0mterp\u001b[0m \u001b[0;34m=\u001b[0m \u001b[0minterpolate\u001b[0m\u001b[0;34m.\u001b[0m\u001b[0mUnivariateSpline\u001b[0m\u001b[0;34m(\u001b[0m\u001b[0mx\u001b[0m\u001b[0;34m,\u001b[0m \u001b[0my\u001b[0m\u001b[0;34m,\u001b[0m \u001b[0mk\u001b[0m\u001b[0;34m=\u001b[0m\u001b[0morder\u001b[0m\u001b[0;34m,\u001b[0m \u001b[0;34m**\u001b[0m\u001b[0mkwargs\u001b[0m\u001b[0;34m)\u001b[0m\u001b[0;34m\u001b[0m\u001b[0m\n\u001b[0m\u001b[1;32m   1706\u001b[0m         \u001b[0mnew_y\u001b[0m \u001b[0;34m=\u001b[0m \u001b[0mterp\u001b[0m\u001b[0;34m(\u001b[0m\u001b[0mnew_x\u001b[0m\u001b[0;34m)\u001b[0m\u001b[0;34m\u001b[0m\u001b[0m\n\u001b[1;32m   1707\u001b[0m     \u001b[0;32melse\u001b[0m\u001b[0;34m:\u001b[0m\u001b[0;34m\u001b[0m\u001b[0m\n",
      "\u001b[0;32m/Applications/anaconda/lib/python2.7/site-packages/scipy/interpolate/fitpack2.pyc\u001b[0m in \u001b[0;36m__init__\u001b[0;34m(self, x, y, w, bbox, k, s, ext, check_finite)\u001b[0m\n\u001b[1;32m    177\u001b[0m \u001b[0;34m\u001b[0m\u001b[0m\n\u001b[1;32m    178\u001b[0m         data = dfitpack.fpcurf0(x,y,k,w=w,\n\u001b[0;32m--> 179\u001b[0;31m                                 xb=bbox[0],xe=bbox[1],s=s)\n\u001b[0m\u001b[1;32m    180\u001b[0m         \u001b[0;32mif\u001b[0m \u001b[0mdata\u001b[0m\u001b[0;34m[\u001b[0m\u001b[0;34m-\u001b[0m\u001b[0;36m1\u001b[0m\u001b[0;34m]\u001b[0m \u001b[0;34m==\u001b[0m \u001b[0;36m1\u001b[0m\u001b[0;34m:\u001b[0m\u001b[0;34m\u001b[0m\u001b[0m\n\u001b[1;32m    181\u001b[0m             \u001b[0;31m# nest too small, setting to maximum bound\u001b[0m\u001b[0;34m\u001b[0m\u001b[0;34m\u001b[0m\u001b[0m\n",
      "\u001b[0;31mValueError\u001b[0m: invalid literal for float(): 13:55:00"
     ]
    }
   ],
   "source": [
    "InterpolTrain=trainDF2.interpolate(method='linear',limit_direction='both',limit=100000, axis=1)"
   ]
  },
  {
   "cell_type": "code",
   "execution_count": 8,
   "metadata": {
    "collapsed": false
   },
   "outputs": [
    {
     "name": "stdout",
     "output_type": "stream",
     "text": [
      "49739\n",
      "174096\n",
      "210308\n",
      "225171\n",
      "225197\n",
      "229962\n",
      "299435\n",
      "371384\n",
      "548386\n",
      "563522\n",
      "563524\n",
      "563528\n",
      "563530\n",
      "563587\n",
      "563656\n",
      "563662\n",
      "563672\n",
      "563692\n",
      "563710\n",
      "563740\n",
      "563741\n"
     ]
    }
   ],
   "source": [
    "boollean=InterpolTrain.isnull()\n",
    "for i in range(boollean.shape[0]):\n",
    "        if boollean.iloc[i][2]==True:\n",
    "            print i"
   ]
  },
  {
   "cell_type": "code",
   "execution_count": 9,
   "metadata": {
    "collapsed": true
   },
   "outputs": [],
   "source": [
    "InterpolTrain=InterpolTrain.drop([49739,174096,210308,225171,225197,229962,299435,371384,548386,563522,563524\n",
    ",563528\n",
    ",563530\n",
    ",563587\n",
    ",563656\n",
    ",563662\n",
    ",563672\n",
    ",563692\n",
    ",563710\n",
    ",563740\n",
    ",563741])"
   ]
  },
  {
   "cell_type": "code",
   "execution_count": 10,
   "metadata": {
    "collapsed": true
   },
   "outputs": [],
   "source": [
    "trainOutPut=trainOutPut.drop([49739,174096,210308,225171,225197,229962,299435,371384,548386,563522,563524\n",
    ",563528\n",
    ",563530\n",
    ",563587\n",
    ",563656\n",
    ",563662\n",
    ",563672\n",
    ",563692\n",
    ",563710\n",
    ",563740\n",
    ",563741])"
   ]
  },
  {
   "cell_type": "code",
   "execution_count": 107,
   "metadata": {
    "collapsed": false
   },
   "outputs": [
    {
     "data": {
      "text/html": [
       "<div>\n",
       "<table border=\"1\" class=\"dataframe\">\n",
       "  <thead>\n",
       "    <tr style=\"text-align: right;\">\n",
       "      <th></th>\n",
       "      <th>09:30:00</th>\n",
       "      <th>09:35:00</th>\n",
       "      <th>09:40:00</th>\n",
       "      <th>09:45:00</th>\n",
       "      <th>09:50:00</th>\n",
       "      <th>09:55:00</th>\n",
       "      <th>10:00:00</th>\n",
       "      <th>10:05:00</th>\n",
       "      <th>10:10:00</th>\n",
       "      <th>10:15:00</th>\n",
       "      <th>...</th>\n",
       "      <th>13:10:00</th>\n",
       "      <th>13:15:00</th>\n",
       "      <th>13:20:00</th>\n",
       "      <th>13:25:00</th>\n",
       "      <th>13:30:00</th>\n",
       "      <th>13:35:00</th>\n",
       "      <th>13:40:00</th>\n",
       "      <th>13:45:00</th>\n",
       "      <th>13:50:00</th>\n",
       "      <th>13:55:00</th>\n",
       "    </tr>\n",
       "  </thead>\n",
       "  <tbody>\n",
       "    <tr>\n",
       "      <th>count</th>\n",
       "      <td>6.131990e+05</td>\n",
       "      <td>6.131990e+05</td>\n",
       "      <td>6.131990e+05</td>\n",
       "      <td>6.131990e+05</td>\n",
       "      <td>6.131990e+05</td>\n",
       "      <td>6.131990e+05</td>\n",
       "      <td>6.131990e+05</td>\n",
       "      <td>6.131990e+05</td>\n",
       "      <td>6.131990e+05</td>\n",
       "      <td>6.131990e+05</td>\n",
       "      <td>...</td>\n",
       "      <td>6.131990e+05</td>\n",
       "      <td>6.131990e+05</td>\n",
       "      <td>6.131990e+05</td>\n",
       "      <td>6.131990e+05</td>\n",
       "      <td>6.131990e+05</td>\n",
       "      <td>6.131990e+05</td>\n",
       "      <td>6.131990e+05</td>\n",
       "      <td>6.131990e+05</td>\n",
       "      <td>6.131990e+05</td>\n",
       "      <td>6.131990e+05</td>\n",
       "    </tr>\n",
       "    <tr>\n",
       "      <th>mean</th>\n",
       "      <td>5.439798e+06</td>\n",
       "      <td>2.772141e+06</td>\n",
       "      <td>2.505034e+06</td>\n",
       "      <td>2.390345e+06</td>\n",
       "      <td>2.270776e+06</td>\n",
       "      <td>2.110366e+06</td>\n",
       "      <td>2.387346e+06</td>\n",
       "      <td>2.147510e+06</td>\n",
       "      <td>2.002487e+06</td>\n",
       "      <td>1.923029e+06</td>\n",
       "      <td>...</td>\n",
       "      <td>1.006417e+06</td>\n",
       "      <td>1.008419e+06</td>\n",
       "      <td>1.008250e+06</td>\n",
       "      <td>1.007080e+06</td>\n",
       "      <td>1.064285e+06</td>\n",
       "      <td>1.047595e+06</td>\n",
       "      <td>1.040266e+06</td>\n",
       "      <td>1.059057e+06</td>\n",
       "      <td>1.075681e+06</td>\n",
       "      <td>1.080434e+06</td>\n",
       "    </tr>\n",
       "    <tr>\n",
       "      <th>std</th>\n",
       "      <td>1.927488e+07</td>\n",
       "      <td>9.473574e+06</td>\n",
       "      <td>8.274482e+06</td>\n",
       "      <td>7.505521e+06</td>\n",
       "      <td>7.062299e+06</td>\n",
       "      <td>6.456674e+06</td>\n",
       "      <td>6.792616e+06</td>\n",
       "      <td>6.266547e+06</td>\n",
       "      <td>5.779038e+06</td>\n",
       "      <td>5.434705e+06</td>\n",
       "      <td>...</td>\n",
       "      <td>2.875702e+06</td>\n",
       "      <td>2.837464e+06</td>\n",
       "      <td>2.811327e+06</td>\n",
       "      <td>2.824742e+06</td>\n",
       "      <td>3.260450e+06</td>\n",
       "      <td>2.942163e+06</td>\n",
       "      <td>2.966388e+06</td>\n",
       "      <td>3.002672e+06</td>\n",
       "      <td>2.926550e+06</td>\n",
       "      <td>2.988638e+06</td>\n",
       "    </tr>\n",
       "    <tr>\n",
       "      <th>min</th>\n",
       "      <td>-8.681000e+03</td>\n",
       "      <td>-4.000000e+02</td>\n",
       "      <td>-3.810000e+02</td>\n",
       "      <td>-7.000000e+02</td>\n",
       "      <td>-1.000000e+02</td>\n",
       "      <td>-2.970000e+02</td>\n",
       "      <td>-6.000000e+00</td>\n",
       "      <td>-4.050000e+02</td>\n",
       "      <td>3.644000e+01</td>\n",
       "      <td>-5.700000e+01</td>\n",
       "      <td>...</td>\n",
       "      <td>7.470000e+00</td>\n",
       "      <td>7.600000e+00</td>\n",
       "      <td>3.096000e+01</td>\n",
       "      <td>-1.000000e+02</td>\n",
       "      <td>2.658000e+01</td>\n",
       "      <td>1.950000e+00</td>\n",
       "      <td>2.721000e+01</td>\n",
       "      <td>2.062000e+01</td>\n",
       "      <td>1.289000e+01</td>\n",
       "      <td>2.062000e+01</td>\n",
       "    </tr>\n",
       "    <tr>\n",
       "      <th>25%</th>\n",
       "      <td>5.430740e+05</td>\n",
       "      <td>2.806552e+05</td>\n",
       "      <td>2.840798e+05</td>\n",
       "      <td>2.889600e+05</td>\n",
       "      <td>2.864381e+05</td>\n",
       "      <td>2.651049e+05</td>\n",
       "      <td>3.243578e+05</td>\n",
       "      <td>2.871280e+05</td>\n",
       "      <td>2.707328e+05</td>\n",
       "      <td>2.624137e+05</td>\n",
       "      <td>...</td>\n",
       "      <td>1.432895e+05</td>\n",
       "      <td>1.455040e+05</td>\n",
       "      <td>1.455837e+05</td>\n",
       "      <td>1.423436e+05</td>\n",
       "      <td>1.574114e+05</td>\n",
       "      <td>1.531230e+05</td>\n",
       "      <td>1.523340e+05</td>\n",
       "      <td>1.563037e+05</td>\n",
       "      <td>1.596890e+05</td>\n",
       "      <td>1.592490e+05</td>\n",
       "    </tr>\n",
       "    <tr>\n",
       "      <th>50%</th>\n",
       "      <td>1.441071e+06</td>\n",
       "      <td>8.000000e+05</td>\n",
       "      <td>7.773600e+05</td>\n",
       "      <td>7.758060e+05</td>\n",
       "      <td>7.612113e+05</td>\n",
       "      <td>7.083650e+05</td>\n",
       "      <td>8.445500e+05</td>\n",
       "      <td>7.532605e+05</td>\n",
       "      <td>7.095924e+05</td>\n",
       "      <td>6.837800e+05</td>\n",
       "      <td>...</td>\n",
       "      <td>3.769190e+05</td>\n",
       "      <td>3.798446e+05</td>\n",
       "      <td>3.798200e+05</td>\n",
       "      <td>3.734912e+05</td>\n",
       "      <td>4.084480e+05</td>\n",
       "      <td>4.000347e+05</td>\n",
       "      <td>3.981360e+05</td>\n",
       "      <td>4.063160e+05</td>\n",
       "      <td>4.134400e+05</td>\n",
       "      <td>4.136122e+05</td>\n",
       "    </tr>\n",
       "    <tr>\n",
       "      <th>75%</th>\n",
       "      <td>4.083508e+06</td>\n",
       "      <td>2.232453e+06</td>\n",
       "      <td>2.095161e+06</td>\n",
       "      <td>2.060125e+06</td>\n",
       "      <td>1.991621e+06</td>\n",
       "      <td>1.859112e+06</td>\n",
       "      <td>2.155670e+06</td>\n",
       "      <td>1.937785e+06</td>\n",
       "      <td>1.816098e+06</td>\n",
       "      <td>1.748657e+06</td>\n",
       "      <td>...</td>\n",
       "      <td>9.511180e+05</td>\n",
       "      <td>9.551280e+05</td>\n",
       "      <td>9.529819e+05</td>\n",
       "      <td>9.431710e+05</td>\n",
       "      <td>1.014393e+06</td>\n",
       "      <td>9.970658e+05</td>\n",
       "      <td>9.929450e+05</td>\n",
       "      <td>1.009560e+06</td>\n",
       "      <td>1.027584e+06</td>\n",
       "      <td>1.028509e+06</td>\n",
       "    </tr>\n",
       "    <tr>\n",
       "      <th>max</th>\n",
       "      <td>1.724119e+09</td>\n",
       "      <td>8.250823e+08</td>\n",
       "      <td>7.642142e+08</td>\n",
       "      <td>7.642142e+08</td>\n",
       "      <td>1.007602e+09</td>\n",
       "      <td>7.642142e+08</td>\n",
       "      <td>7.642142e+08</td>\n",
       "      <td>7.642142e+08</td>\n",
       "      <td>4.949766e+08</td>\n",
       "      <td>5.532762e+08</td>\n",
       "      <td>...</td>\n",
       "      <td>3.712108e+08</td>\n",
       "      <td>3.292835e+08</td>\n",
       "      <td>3.621890e+08</td>\n",
       "      <td>3.045972e+08</td>\n",
       "      <td>9.658196e+08</td>\n",
       "      <td>3.654456e+08</td>\n",
       "      <td>4.265442e+08</td>\n",
       "      <td>4.604287e+08</td>\n",
       "      <td>2.678111e+08</td>\n",
       "      <td>2.891670e+08</td>\n",
       "    </tr>\n",
       "  </tbody>\n",
       "</table>\n",
       "<p>8 rows × 54 columns</p>\n",
       "</div>"
      ],
      "text/plain": [
       "           09:30:00      09:35:00      09:40:00      09:45:00      09:50:00  \\\n",
       "count  6.131990e+05  6.131990e+05  6.131990e+05  6.131990e+05  6.131990e+05   \n",
       "mean   5.439798e+06  2.772141e+06  2.505034e+06  2.390345e+06  2.270776e+06   \n",
       "std    1.927488e+07  9.473574e+06  8.274482e+06  7.505521e+06  7.062299e+06   \n",
       "min   -8.681000e+03 -4.000000e+02 -3.810000e+02 -7.000000e+02 -1.000000e+02   \n",
       "25%    5.430740e+05  2.806552e+05  2.840798e+05  2.889600e+05  2.864381e+05   \n",
       "50%    1.441071e+06  8.000000e+05  7.773600e+05  7.758060e+05  7.612113e+05   \n",
       "75%    4.083508e+06  2.232453e+06  2.095161e+06  2.060125e+06  1.991621e+06   \n",
       "max    1.724119e+09  8.250823e+08  7.642142e+08  7.642142e+08  1.007602e+09   \n",
       "\n",
       "           09:55:00      10:00:00      10:05:00      10:10:00      10:15:00  \\\n",
       "count  6.131990e+05  6.131990e+05  6.131990e+05  6.131990e+05  6.131990e+05   \n",
       "mean   2.110366e+06  2.387346e+06  2.147510e+06  2.002487e+06  1.923029e+06   \n",
       "std    6.456674e+06  6.792616e+06  6.266547e+06  5.779038e+06  5.434705e+06   \n",
       "min   -2.970000e+02 -6.000000e+00 -4.050000e+02  3.644000e+01 -5.700000e+01   \n",
       "25%    2.651049e+05  3.243578e+05  2.871280e+05  2.707328e+05  2.624137e+05   \n",
       "50%    7.083650e+05  8.445500e+05  7.532605e+05  7.095924e+05  6.837800e+05   \n",
       "75%    1.859112e+06  2.155670e+06  1.937785e+06  1.816098e+06  1.748657e+06   \n",
       "max    7.642142e+08  7.642142e+08  7.642142e+08  4.949766e+08  5.532762e+08   \n",
       "\n",
       "           ...           13:10:00      13:15:00      13:20:00      13:25:00  \\\n",
       "count      ...       6.131990e+05  6.131990e+05  6.131990e+05  6.131990e+05   \n",
       "mean       ...       1.006417e+06  1.008419e+06  1.008250e+06  1.007080e+06   \n",
       "std        ...       2.875702e+06  2.837464e+06  2.811327e+06  2.824742e+06   \n",
       "min        ...       7.470000e+00  7.600000e+00  3.096000e+01 -1.000000e+02   \n",
       "25%        ...       1.432895e+05  1.455040e+05  1.455837e+05  1.423436e+05   \n",
       "50%        ...       3.769190e+05  3.798446e+05  3.798200e+05  3.734912e+05   \n",
       "75%        ...       9.511180e+05  9.551280e+05  9.529819e+05  9.431710e+05   \n",
       "max        ...       3.712108e+08  3.292835e+08  3.621890e+08  3.045972e+08   \n",
       "\n",
       "           13:30:00      13:35:00      13:40:00      13:45:00      13:50:00  \\\n",
       "count  6.131990e+05  6.131990e+05  6.131990e+05  6.131990e+05  6.131990e+05   \n",
       "mean   1.064285e+06  1.047595e+06  1.040266e+06  1.059057e+06  1.075681e+06   \n",
       "std    3.260450e+06  2.942163e+06  2.966388e+06  3.002672e+06  2.926550e+06   \n",
       "min    2.658000e+01  1.950000e+00  2.721000e+01  2.062000e+01  1.289000e+01   \n",
       "25%    1.574114e+05  1.531230e+05  1.523340e+05  1.563037e+05  1.596890e+05   \n",
       "50%    4.084480e+05  4.000347e+05  3.981360e+05  4.063160e+05  4.134400e+05   \n",
       "75%    1.014393e+06  9.970658e+05  9.929450e+05  1.009560e+06  1.027584e+06   \n",
       "max    9.658196e+08  3.654456e+08  4.265442e+08  4.604287e+08  2.678111e+08   \n",
       "\n",
       "           13:55:00  \n",
       "count  6.131990e+05  \n",
       "mean   1.080434e+06  \n",
       "std    2.988638e+06  \n",
       "min    2.062000e+01  \n",
       "25%    1.592490e+05  \n",
       "50%    4.136122e+05  \n",
       "75%    1.028509e+06  \n",
       "max    2.891670e+08  \n",
       "\n",
       "[8 rows x 54 columns]"
      ]
     },
     "execution_count": 107,
     "metadata": {},
     "output_type": "execute_result"
    }
   ],
   "source": [
    "InterpolTrain.describe()"
   ]
  },
  {
   "cell_type": "code",
   "execution_count": 54,
   "metadata": {
    "collapsed": false
   },
   "outputs": [
    {
     "data": {
      "text/plain": [
       "<matplotlib.axes._subplots.AxesSubplot at 0x113d5bfd0>"
      ]
     },
     "execution_count": 54,
     "metadata": {},
     "output_type": "execute_result"
    },
    {
     "data": {
      "image/png": "[encoded data removed]",
      "text/plain": [
       "<matplotlib.figure.Figure at 0x113d0a150>"
      ]
     },
     "metadata": {},
     "output_type": "display_data"
    }
   ],
   "source": [
    "a = trainDF2.iloc[56341,0:]\n",
    "a.plot()\n",
    "#b=InterpolTrain.iloc[1124,3:]\n"
   ]
  },
  {
   "cell_type": "code",
   "execution_count": 11,
   "metadata": {
    "collapsed": false
   },
   "outputs": [],
   "source": [
    "Interpol=pd.concat([trainOutPut[\"ID\"],InterpolTrain],axis=1)\n"
   ]
  },
  {
   "cell_type": "code",
   "execution_count": 12,
   "metadata": {
    "collapsed": false
   },
   "outputs": [],
   "source": [
    "FinalInterpol=pd.merge(Interpol,trainOutPut,on=[\"ID\"])"
   ]
  },
  {
   "cell_type": "code",
   "execution_count": 13,
   "metadata": {
    "collapsed": false
   },
   "outputs": [],
   "source": [
    "FinalInterpol=pd.merge(FinalInterpol,trainDF[[\"ID\",'date','product_id']],on=[\"ID\"])"
   ]
  },
  {
   "cell_type": "code",
   "execution_count": 72,
   "metadata": {
    "collapsed": false
   },
   "outputs": [
    {
     "data": {
      "text/html": [
       "<div>\n",
       "<table border=\"1\" class=\"dataframe\">\n",
       "  <thead>\n",
       "    <tr style=\"text-align: right;\">\n",
       "      <th></th>\n",
       "      <th>ID</th>\n",
       "      <th>09:30:00</th>\n",
       "      <th>09:35:00</th>\n",
       "      <th>09:40:00</th>\n",
       "      <th>09:45:00</th>\n",
       "      <th>09:50:00</th>\n",
       "      <th>09:55:00</th>\n",
       "      <th>10:00:00</th>\n",
       "      <th>10:05:00</th>\n",
       "      <th>10:10:00</th>\n",
       "      <th>...</th>\n",
       "      <th>13:25:00</th>\n",
       "      <th>13:30:00</th>\n",
       "      <th>13:35:00</th>\n",
       "      <th>13:40:00</th>\n",
       "      <th>13:45:00</th>\n",
       "      <th>13:50:00</th>\n",
       "      <th>13:55:00</th>\n",
       "      <th>TARGET</th>\n",
       "      <th>date</th>\n",
       "      <th>product_id</th>\n",
       "    </tr>\n",
       "  </thead>\n",
       "  <tbody>\n",
       "    <tr>\n",
       "      <th>0</th>\n",
       "      <td>1</td>\n",
       "      <td>24138818.08</td>\n",
       "      <td>2457975.00</td>\n",
       "      <td>741777.14</td>\n",
       "      <td>973487.28</td>\n",
       "      <td>764018.92</td>\n",
       "      <td>1074769.92</td>\n",
       "      <td>3056492.88</td>\n",
       "      <td>1312440.80</td>\n",
       "      <td>1439664.56</td>\n",
       "      <td>...</td>\n",
       "      <td>1467907.56</td>\n",
       "      <td>984992.90</td>\n",
       "      <td>959853.30</td>\n",
       "      <td>892596.88</td>\n",
       "      <td>528573.62</td>\n",
       "      <td>973928.60</td>\n",
       "      <td>972596.43</td>\n",
       "      <td>36523251.91</td>\n",
       "      <td>1</td>\n",
       "      <td>236</td>\n",
       "    </tr>\n",
       "    <tr>\n",
       "      <th>1</th>\n",
       "      <td>2</td>\n",
       "      <td>8897508.62</td>\n",
       "      <td>104198.40</td>\n",
       "      <td>61840.92</td>\n",
       "      <td>78523.02</td>\n",
       "      <td>128729.16</td>\n",
       "      <td>60789.84</td>\n",
       "      <td>18072.62</td>\n",
       "      <td>108036.10</td>\n",
       "      <td>105709.11</td>\n",
       "      <td>...</td>\n",
       "      <td>24124.80</td>\n",
       "      <td>46132.35</td>\n",
       "      <td>51850.26</td>\n",
       "      <td>46478.41</td>\n",
       "      <td>17199.00</td>\n",
       "      <td>34500.62</td>\n",
       "      <td>37690.24</td>\n",
       "      <td>5645118.17</td>\n",
       "      <td>1</td>\n",
       "      <td>238</td>\n",
       "    </tr>\n",
       "    <tr>\n",
       "      <th>2</th>\n",
       "      <td>3</td>\n",
       "      <td>6461968.95</td>\n",
       "      <td>109497.00</td>\n",
       "      <td>152577.00</td>\n",
       "      <td>164024.00</td>\n",
       "      <td>204372.00</td>\n",
       "      <td>321545.70</td>\n",
       "      <td>346236.00</td>\n",
       "      <td>244627.00</td>\n",
       "      <td>142075.00</td>\n",
       "      <td>...</td>\n",
       "      <td>67860.00</td>\n",
       "      <td>68478.00</td>\n",
       "      <td>105222.24</td>\n",
       "      <td>101646.00</td>\n",
       "      <td>79128.00</td>\n",
       "      <td>101248.00</td>\n",
       "      <td>367120.00</td>\n",
       "      <td>8103847.53</td>\n",
       "      <td>1</td>\n",
       "      <td>242</td>\n",
       "    </tr>\n",
       "    <tr>\n",
       "      <th>3</th>\n",
       "      <td>4</td>\n",
       "      <td>6822223.20</td>\n",
       "      <td>220467.28</td>\n",
       "      <td>161594.35</td>\n",
       "      <td>264893.44</td>\n",
       "      <td>300326.20</td>\n",
       "      <td>707391.68</td>\n",
       "      <td>327428.00</td>\n",
       "      <td>470549.60</td>\n",
       "      <td>152822.00</td>\n",
       "      <td>...</td>\n",
       "      <td>1395147.39</td>\n",
       "      <td>984468.82</td>\n",
       "      <td>565263.30</td>\n",
       "      <td>286416.00</td>\n",
       "      <td>71518.14</td>\n",
       "      <td>155752.10</td>\n",
       "      <td>123690.00</td>\n",
       "      <td>20047809.46</td>\n",
       "      <td>1</td>\n",
       "      <td>243</td>\n",
       "    </tr>\n",
       "    <tr>\n",
       "      <th>4</th>\n",
       "      <td>5</td>\n",
       "      <td>36632811.84</td>\n",
       "      <td>4470974.95</td>\n",
       "      <td>1448461.05</td>\n",
       "      <td>1500694.38</td>\n",
       "      <td>944346.50</td>\n",
       "      <td>958685.76</td>\n",
       "      <td>1685234.07</td>\n",
       "      <td>782275.54</td>\n",
       "      <td>627863.60</td>\n",
       "      <td>...</td>\n",
       "      <td>358484.80</td>\n",
       "      <td>440292.16</td>\n",
       "      <td>795697.65</td>\n",
       "      <td>565374.30</td>\n",
       "      <td>832022.43</td>\n",
       "      <td>1425134.40</td>\n",
       "      <td>2310369.30</td>\n",
       "      <td>36833075.51</td>\n",
       "      <td>1</td>\n",
       "      <td>261</td>\n",
       "    </tr>\n",
       "  </tbody>\n",
       "</table>\n",
       "<p>5 rows × 58 columns</p>\n",
       "</div>"
      ],
      "text/plain": [
       "   ID     09:30:00    09:35:00    09:40:00    09:45:00   09:50:00    09:55:00  \\\n",
       "0   1  24138818.08  2457975.00   741777.14   973487.28  764018.92  1074769.92   \n",
       "1   2   8897508.62   104198.40    61840.92    78523.02  128729.16    60789.84   \n",
       "2   3   6461968.95   109497.00   152577.00   164024.00  204372.00   321545.70   \n",
       "3   4   6822223.20   220467.28   161594.35   264893.44  300326.20   707391.68   \n",
       "4   5  36632811.84  4470974.95  1448461.05  1500694.38  944346.50   958685.76   \n",
       "\n",
       "     10:00:00    10:05:00    10:10:00     ...        13:25:00   13:30:00  \\\n",
       "0  3056492.88  1312440.80  1439664.56     ...      1467907.56  984992.90   \n",
       "1    18072.62   108036.10   105709.11     ...        24124.80   46132.35   \n",
       "2   346236.00   244627.00   142075.00     ...        67860.00   68478.00   \n",
       "3   327428.00   470549.60   152822.00     ...      1395147.39  984468.82   \n",
       "4  1685234.07   782275.54   627863.60     ...       358484.80  440292.16   \n",
       "\n",
       "    13:35:00   13:40:00   13:45:00    13:50:00    13:55:00       TARGET  date  \\\n",
       "0  959853.30  892596.88  528573.62   973928.60   972596.43  36523251.91     1   \n",
       "1   51850.26   46478.41   17199.00    34500.62    37690.24   5645118.17     1   \n",
       "2  105222.24  101646.00   79128.00   101248.00   367120.00   8103847.53     1   \n",
       "3  565263.30  286416.00   71518.14   155752.10   123690.00  20047809.46     1   \n",
       "4  795697.65  565374.30  832022.43  1425134.40  2310369.30  36833075.51     1   \n",
       "\n",
       "   product_id  \n",
       "0         236  \n",
       "1         238  \n",
       "2         242  \n",
       "3         243  \n",
       "4         261  \n",
       "\n",
       "[5 rows x 58 columns]"
      ]
     },
     "execution_count": 72,
     "metadata": {},
     "output_type": "execute_result"
    }
   ],
   "source": [
    "FinalInterpol.head()"
   ]
  },
  {
   "cell_type": "code",
   "execution_count": 103,
   "metadata": {
    "collapsed": false
   },
   "outputs": [
    {
     "data": {
      "text/plain": [
       "<matplotlib.axes._subplots.AxesSubplot at 0x12496c610>"
      ]
     },
     "execution_count": 103,
     "metadata": {},
     "output_type": "execute_result"
    },
    {
     "data": {
      "image/png": "[encoded data removed]",
      "text/plain": [
       "<matplotlib.figure.Figure at 0x124975c50>"
      ]
     },
     "metadata": {},
     "output_type": "display_data"
    }
   ],
   "source": [
    "Interplot=FinalInterpol.drop([\"ID\",\"product_id\",\"date\"],axis=1)\n",
    "c=Interplot.iloc[49705:49708,0:]\n",
    "c=c.transpose()\n",
    "c.plot()"
   ]
  },
  {
   "cell_type": "code",
   "execution_count": null,
   "metadata": {
    "collapsed": false
   },
   "outputs": [],
   "source": [
    "FinalInterpol.describe()"
   ]
  },
  {
   "cell_type": "code",
   "execution_count": null,
   "metadata": {
    "collapsed": false
   },
   "outputs": [],
   "source": [
    "FinalInterpol.head()"
   ]
  },
  {
   "cell_type": "code",
   "execution_count": 218,
   "metadata": {
    "collapsed": false
   },
   "outputs": [],
   "source": [
    "FinalInterpol2=FinalInterpol.groupby(\"product_id\",as_index=False).mean()\n"
   ]
  },
  {
   "cell_type": "code",
   "execution_count": null,
   "metadata": {
    "collapsed": false
   },
   "outputs": [],
   "source": [
    "DateSum=FinalInterpol.groupby(\"date\").sum()"
   ]
  },
  {
   "cell_type": "code",
   "execution_count": 219,
   "metadata": {
    "collapsed": false
   },
   "outputs": [
    {
     "data": {
      "text/html": [
       "<div>\n",
       "<table border=\"1\" class=\"dataframe\">\n",
       "  <thead>\n",
       "    <tr style=\"text-align: right;\">\n",
       "      <th></th>\n",
       "      <th>product_id</th>\n",
       "      <th>ID</th>\n",
       "      <th>09:30:00</th>\n",
       "      <th>09:35:00</th>\n",
       "      <th>09:40:00</th>\n",
       "      <th>09:45:00</th>\n",
       "      <th>09:50:00</th>\n",
       "      <th>09:55:00</th>\n",
       "      <th>10:00:00</th>\n",
       "      <th>10:05:00</th>\n",
       "      <th>...</th>\n",
       "      <th>13:20:00</th>\n",
       "      <th>13:25:00</th>\n",
       "      <th>13:30:00</th>\n",
       "      <th>13:35:00</th>\n",
       "      <th>13:40:00</th>\n",
       "      <th>13:45:00</th>\n",
       "      <th>13:50:00</th>\n",
       "      <th>13:55:00</th>\n",
       "      <th>TARGET</th>\n",
       "      <th>date</th>\n",
       "    </tr>\n",
       "  </thead>\n",
       "  <tbody>\n",
       "    <tr>\n",
       "      <th>0</th>\n",
       "      <td>236</td>\n",
       "      <td>308957.534298</td>\n",
       "      <td>2332767.869260</td>\n",
       "      <td>1100376.167134</td>\n",
       "      <td>1031998.017440</td>\n",
       "      <td>1007163.575372</td>\n",
       "      <td>978600.872141</td>\n",
       "      <td>939798.334688</td>\n",
       "      <td>1063440.276516</td>\n",
       "      <td>945388.669035</td>\n",
       "      <td>...</td>\n",
       "      <td>521217.342828</td>\n",
       "      <td>513402.804696</td>\n",
       "      <td>558431.903444</td>\n",
       "      <td>553929.374810</td>\n",
       "      <td>550128.947742</td>\n",
       "      <td>537273.206876</td>\n",
       "      <td>573922.941682</td>\n",
       "      <td>547037.731726</td>\n",
       "      <td>24157732.043920</td>\n",
       "      <td>943.397642</td>\n",
       "    </tr>\n",
       "    <tr>\n",
       "      <th>1</th>\n",
       "      <td>238</td>\n",
       "      <td>308857.127078</td>\n",
       "      <td>521282.043402</td>\n",
       "      <td>203128.301027</td>\n",
       "      <td>165081.058300</td>\n",
       "      <td>168255.966369</td>\n",
       "      <td>171012.598059</td>\n",
       "      <td>159247.003307</td>\n",
       "      <td>192199.499687</td>\n",
       "      <td>169727.668358</td>\n",
       "      <td>...</td>\n",
       "      <td>119341.863761</td>\n",
       "      <td>114467.121346</td>\n",
       "      <td>125582.907773</td>\n",
       "      <td>123945.048120</td>\n",
       "      <td>120241.413999</td>\n",
       "      <td>124378.456557</td>\n",
       "      <td>121888.325857</td>\n",
       "      <td>128597.442617</td>\n",
       "      <td>5825229.925770</td>\n",
       "      <td>943.088472</td>\n",
       "    </tr>\n",
       "    <tr>\n",
       "      <th>2</th>\n",
       "      <td>242</td>\n",
       "      <td>311003.771269</td>\n",
       "      <td>1919118.792730</td>\n",
       "      <td>1013321.798731</td>\n",
       "      <td>936478.006390</td>\n",
       "      <td>976545.575536</td>\n",
       "      <td>884746.149547</td>\n",
       "      <td>861554.756434</td>\n",
       "      <td>965621.047892</td>\n",
       "      <td>834579.401688</td>\n",
       "      <td>...</td>\n",
       "      <td>398596.776879</td>\n",
       "      <td>393532.040809</td>\n",
       "      <td>434524.528199</td>\n",
       "      <td>432915.578405</td>\n",
       "      <td>440371.065051</td>\n",
       "      <td>434379.302031</td>\n",
       "      <td>447669.763245</td>\n",
       "      <td>453398.775782</td>\n",
       "      <td>19649724.759512</td>\n",
       "      <td>949.658298</td>\n",
       "    </tr>\n",
       "    <tr>\n",
       "      <th>3</th>\n",
       "      <td>243</td>\n",
       "      <td>308267.821487</td>\n",
       "      <td>554662.540196</td>\n",
       "      <td>238797.760452</td>\n",
       "      <td>240636.893276</td>\n",
       "      <td>245243.767852</td>\n",
       "      <td>248769.487967</td>\n",
       "      <td>235158.670966</td>\n",
       "      <td>289857.503788</td>\n",
       "      <td>257330.764160</td>\n",
       "      <td>...</td>\n",
       "      <td>162291.556237</td>\n",
       "      <td>165042.186210</td>\n",
       "      <td>179158.497325</td>\n",
       "      <td>190494.229769</td>\n",
       "      <td>175796.117061</td>\n",
       "      <td>169238.432747</td>\n",
       "      <td>182275.106282</td>\n",
       "      <td>183559.854619</td>\n",
       "      <td>8249545.655585</td>\n",
       "      <td>941.289202</td>\n",
       "    </tr>\n",
       "    <tr>\n",
       "      <th>4</th>\n",
       "      <td>261</td>\n",
       "      <td>308961.288317</td>\n",
       "      <td>3226336.256926</td>\n",
       "      <td>1345483.085893</td>\n",
       "      <td>1249178.545574</td>\n",
       "      <td>1251826.115384</td>\n",
       "      <td>1214219.159781</td>\n",
       "      <td>1176583.571464</td>\n",
       "      <td>1345311.192606</td>\n",
       "      <td>1162688.192513</td>\n",
       "      <td>...</td>\n",
       "      <td>658570.077864</td>\n",
       "      <td>617575.735830</td>\n",
       "      <td>696042.668390</td>\n",
       "      <td>709337.738683</td>\n",
       "      <td>701762.798648</td>\n",
       "      <td>673511.290018</td>\n",
       "      <td>704437.518308</td>\n",
       "      <td>682257.209278</td>\n",
       "      <td>30402004.119214</td>\n",
       "      <td>943.397642</td>\n",
       "    </tr>\n",
       "  </tbody>\n",
       "</table>\n",
       "<p>5 rows × 58 columns</p>\n",
       "</div>"
      ],
      "text/plain": [
       "   product_id             ID        09:30:00        09:35:00        09:40:00  \\\n",
       "0         236  308957.534298  2332767.869260  1100376.167134  1031998.017440   \n",
       "1         238  308857.127078   521282.043402   203128.301027   165081.058300   \n",
       "2         242  311003.771269  1919118.792730  1013321.798731   936478.006390   \n",
       "3         243  308267.821487   554662.540196   238797.760452   240636.893276   \n",
       "4         261  308961.288317  3226336.256926  1345483.085893  1249178.545574   \n",
       "\n",
       "         09:45:00        09:50:00        09:55:00        10:00:00  \\\n",
       "0  1007163.575372   978600.872141   939798.334688  1063440.276516   \n",
       "1   168255.966369   171012.598059   159247.003307   192199.499687   \n",
       "2   976545.575536   884746.149547   861554.756434   965621.047892   \n",
       "3   245243.767852   248769.487967   235158.670966   289857.503788   \n",
       "4  1251826.115384  1214219.159781  1176583.571464  1345311.192606   \n",
       "\n",
       "         10:05:00     ...           13:20:00       13:25:00       13:30:00  \\\n",
       "0   945388.669035     ...      521217.342828  513402.804696  558431.903444   \n",
       "1   169727.668358     ...      119341.863761  114467.121346  125582.907773   \n",
       "2   834579.401688     ...      398596.776879  393532.040809  434524.528199   \n",
       "3   257330.764160     ...      162291.556237  165042.186210  179158.497325   \n",
       "4  1162688.192513     ...      658570.077864  617575.735830  696042.668390   \n",
       "\n",
       "        13:35:00       13:40:00       13:45:00       13:50:00       13:55:00  \\\n",
       "0  553929.374810  550128.947742  537273.206876  573922.941682  547037.731726   \n",
       "1  123945.048120  120241.413999  124378.456557  121888.325857  128597.442617   \n",
       "2  432915.578405  440371.065051  434379.302031  447669.763245  453398.775782   \n",
       "3  190494.229769  175796.117061  169238.432747  182275.106282  183559.854619   \n",
       "4  709337.738683  701762.798648  673511.290018  704437.518308  682257.209278   \n",
       "\n",
       "            TARGET        date  \n",
       "0  24157732.043920  943.397642  \n",
       "1   5825229.925770  943.088472  \n",
       "2  19649724.759512  949.658298  \n",
       "3   8249545.655585  941.289202  \n",
       "4  30402004.119214  943.397642  \n",
       "\n",
       "[5 rows x 58 columns]"
      ]
     },
     "execution_count": 219,
     "metadata": {},
     "output_type": "execute_result"
    }
   ],
   "source": [
    "FinalInterpol2.head()"
   ]
  },
  {
   "cell_type": "code",
   "execution_count": null,
   "metadata": {
    "collapsed": false
   },
   "outputs": [],
   "source": [
    "DateSum.shape"
   ]
  },
  {
   "cell_type": "code",
   "execution_count": null,
   "metadata": {
    "collapsed": false
   },
   "outputs": [],
   "source": [
    "Toplot2=DateSum.drop([\"ID\",\"TARGET\",\"product_id\"],axis=1)\n",
    "a=Toplot2.iloc[0:200,0:]\n",
    "a=a.transpose()\n",
    "a.plot()\n",
    "\n"
   ]
  },
  {
   "cell_type": "code",
   "execution_count": 104,
   "metadata": {
    "collapsed": false
   },
   "outputs": [
    {
     "data": {
      "text/plain": [
       "<matplotlib.axes._subplots.AxesSubplot at 0x124a2c150>"
      ]
     },
     "execution_count": 104,
     "metadata": {},
     "output_type": "execute_result"
    },
    {
     "data": {
      "image/png": "[encoded data removed]",
      "text/plain": [
       "<matplotlib.figure.Figure at 0x124a43950>"
      ]
     },
     "metadata": {},
     "output_type": "display_data"
    }
   ],
   "source": [
    "Toplot=FinalInterpol2.drop([\"ID\",\"TARGET\",\"date\"],axis=1)\n",
    "a=Toplot.iloc[151:161,0:10]\n",
    "a=a.transpose()\n",
    "a.plot()"
   ]
  },
  {
   "cell_type": "code",
   "execution_count": 106,
   "metadata": {
    "collapsed": false
   },
   "outputs": [
    {
     "data": {
      "text/plain": [
       "ID                  2.00\n",
       "date                1.00\n",
       "product_id        238.00\n",
       "09:30:00      8897508.62\n",
       "09:35:00       104198.40\n",
       "09:40:00        61840.92\n",
       "09:45:00        78523.02\n",
       "09:50:00       128729.16\n",
       "09:55:00        60789.84\n",
       "10:00:00        18072.62\n",
       "10:05:00       108036.10\n",
       "10:10:00       105709.11\n",
       "10:15:00        28800.00\n",
       "10:20:00        48399.55\n",
       "10:25:00        69383.90\n",
       "10:30:00        41284.98\n",
       "10:35:00        49990.20\n",
       "10:40:00        38592.96\n",
       "10:45:00        99147.24\n",
       "10:50:00        48489.36\n",
       "10:55:00        56371.92\n",
       "11:00:00       109746.01\n",
       "11:05:00        69336.00\n",
       "11:10:00        86158.98\n",
       "11:15:00        35679.16\n",
       "11:20:00        73856.00\n",
       "11:25:00        61104.30\n",
       "11:30:00        40369.00\n",
       "11:35:00        67335.90\n",
       "11:40:00        75149.52\n",
       "11:45:00        48549.72\n",
       "11:50:00        98112.06\n",
       "11:55:00        41076.42\n",
       "12:00:00        60950.00\n",
       "12:05:00        63871.39\n",
       "12:10:00        34832.88\n",
       "12:15:00        75851.82\n",
       "12:20:00        68943.93\n",
       "12:25:00       129234.05\n",
       "12:30:00        69880.14\n",
       "12:35:00        39238.35\n",
       "12:40:00        34596.94\n",
       "12:45:00        34908.57\n",
       "12:50:00        42470.33\n",
       "12:55:00        34028.16\n",
       "13:00:00        48734.56\n",
       "13:05:00        76275.96\n",
       "13:10:00        19140.84\n",
       "13:15:00        12707.50\n",
       "13:20:00        25131.87\n",
       "13:25:00        24124.80\n",
       "13:30:00        46132.35\n",
       "13:35:00        51850.26\n",
       "13:40:00        46478.41\n",
       "13:45:00        17199.00\n",
       "13:50:00        34500.62\n",
       "13:55:00        37690.24\n",
       "Name: 1, dtype: float64"
      ]
     },
     "execution_count": 106,
     "metadata": {},
     "output_type": "execute_result"
    }
   ],
   "source": [
    "essai=trainDF.iloc[1,0:]\n",
    "essai"
   ]
  },
  {
   "cell_type": "code",
   "execution_count": 55,
   "metadata": {
    "collapsed": true
   },
   "outputs": [],
   "source": [
    "features = FinalInterpol.drop(['ID','TARGET'], axis=1)\n",
    "\n",
    "X = features.values\n",
    "y = trainOutPut['TARGET'].values"
   ]
  },
  {
   "cell_type": "code",
   "execution_count": 56,
   "metadata": {
    "collapsed": false
   },
   "outputs": [
    {
     "name": "stdout",
     "output_type": "stream",
     "text": [
      "(490559, 56)\n",
      "(490559,)\n"
     ]
    }
   ],
   "source": [
    "from sklearn.cross_validation import train_test_split\n",
    "\n",
    "X_train, X_test, y_train, y_test = train_test_split(\n",
    "    X, y, test_size=0.2, random_state=0)\n",
    "print X_train.shape\n",
    "print y_train.shape"
   ]
  },
  {
   "cell_type": "code",
   "execution_count": 67,
   "metadata": {
    "collapsed": false
   },
   "outputs": [
    {
     "name": "stdout",
     "output_type": "stream",
     "text": [
      "building tree 1 of 3\n",
      "building tree 2 of 3\n",
      "building tree 3 of 3"
     ]
    },
    {
     "name": "stderr",
     "output_type": "stream",
     "text": [
      "[Parallel(n_jobs=1)]: Done   3 out of   3 | elapsed:   25.6s finished\n",
      "[Parallel(n_jobs=1)]: Done   3 out of   3 | elapsed:    0.3s finished\n"
     ]
    },
    {
     "name": "stdout",
     "output_type": "stream",
     "text": [
      "\n",
      "104.612255497\n",
      "CPU times: user 25.6 s, sys: 258 ms, total: 25.9 s\n",
      "Wall time: 26.1 s\n"
     ]
    }
   ],
   "source": [
    "%%time\n",
    "from sklearn.linear_model import LinearRegression\n",
    "from sklearn.ensemble import RandomForestRegressor\n",
    "from sklearn.ensemble import GradientBoostingRegressor\n",
    "n_estimators = 3\n",
    "max_depth = 1000\n",
    "max_features = 10\n",
    "reg = RandomForestRegressor(n_estimators=n_estimators, max_depth=max_depth, max_features=max_features,verbose=3)\n",
    "#reg = LinearRegression()\n",
    "#reg=GradientBoostingRegressor(loss='ls', learning_rate=0.1, n_estimators=1000, subsample=1.0, min_samples_split=2, min_samples_leaf=1, min_weight_fraction_leaf=0.0, max_depth=3, init=None, random_state=None, max_features=None, alpha=0.9, verbose=3,  warm_start=True)\n",
    "reg.fit(X_train,y_train)\n",
    "y_pred=reg.predict(X_test)\n",
    "#print y_pred\n",
    "#print y_test\n",
    "# MAPE\n",
    "#from sklearn.utils import check_arrays\n",
    "#def mean_absolute_percentage_error(y_true, y_pred): \n",
    "    #y_true, y_pred = check_arrays(y_true, y_pred)\n",
    "print np.mean(np.abs((y_pred-y_test ) / y_test)) * 100\n",
    "\n",
    "#mean_absolute_percentage_error(y,y_pred)"
   ]
  },
  {
   "cell_type": "code",
   "execution_count": null,
   "metadata": {
    "collapsed": true
   },
   "outputs": [],
   "source": [
    "def train_model(X_df, y_array, skf_is):\n",
    "    fe = feature_extractor.FeatureExtractor()\n",
    "    fe.fit(X_df, y_array)\n",
    "    X_array = fe.transform(X_df)\n",
    "    # Regression\n",
    "    train_is, _ = skf_is\n",
    "    X_train_array = np.array([X_array[i] for i in train_is])\n",
    "    y_train_array = np.array([y_array[i] for i in train_is])\n",
    "    \n",
    "    reg = regressor.Regressor()\n",
    "    reg.fit(X_train_array, y_train_array)\n",
    "    return fe, reg\n",
    "\n",
    "\n",
    "def test_model(trained_model, X_df, skf_is):\n",
    "    fe, reg = trained_model\n",
    "    # Feature extraction\n",
    "    X_array = fe.transform(X_df)\n",
    "    # Regression\n",
    "    _, test_is = skf_is\n",
    "    X_test_array = np.array([X_array[i] for i in test_is])\n",
    "    y_pred_array = reg.predict(X_test_array)\n",
    "    return y_pred_array\n",
    "\n",
    "for i in range(1):\n",
    "    data = pd.read_csv(\"../data/public/public_train.csv\")\n",
    "    data['log_PAX'] = preprocessing.scale(data['log_PAX'])\n",
    "    X_df = data.drop(['log_PAX'], axis=1)\n",
    "    \n",
    "    y_array = data['log_PAX'].values\n",
    "    \n",
    "    skf = ShuffleSplit(y_array.shape[0], n_iter=2, test_size=0.2, random_state=61)\n",
    "    skf_is = list(skf)[0]\n",
    "    trained_model = train_model(X_df, y_array, skf_is)\n",
    "    y_pred_array = test_model(trained_model, X_df, skf_is)\n",
    "    _, test_is = skf_is\n",
    "    ground_truth_array = y_array[test_is]\n",
    "    \n",
    "    #x = [ date for date in range(X_df['DateOfDeparture'])]\n",
    "    #y = [ground_truth_array[i] for i in range(X_df)]\n",
    "    # plt.plot(X_df['DateOfDeparture'],round_truth_array)\n",
    "    score = np.sqrt(np.mean(np.square(ground_truth_array - y_pred_array)))"
   ]
  },
  {
   "cell_type": "code",
   "execution_count": null,
   "metadata": {
    "collapsed": false
   },
   "outputs": [],
   "source": [
    "from sklearn.utils import check_array\n",
    "from sklearn.metrics import make_scorer\n",
    "def scoring_function(y_true, y_pred):\n",
    "    y_true, y_pred = check_array(y_true, y_pred)\n",
    "\n",
    "    ## Note: does not handle mix 1d representation\n",
    "    #if _is_1d(y_true):\n",
    "    #    y_true, y_pred = _check_1d_array(y_true, y_pred)\n",
    "\n",
    "    return np.mean(np.abs((y_true - y_pred) / y_true)) * 100\n",
    "loss = make_scorer(scoring_function, greater_is_better=False)\n",
    "score = cross_val_score(reg, X_train, y_train,cv=5,scoring=loss).mean()"
   ]
  },
  {
   "cell_type": "code",
   "execution_count": null,
   "metadata": {
    "collapsed": false
   },
   "outputs": [],
   "source": [
    "from sklearn.linear_model import LinearRegression\n",
    "from sklearn.cross_validation import cross_val_score\n",
    "\n",
    "reg = LinearRegression()\n",
    "\n",
    "reg.fit(X_train,y_train)\n",
    "scores=reg.predict(X_test)\n",
    "error=scores-y_test\n",
    "print np.mean(np.abs(error/y_test))*100\n",
    "\n",
    "#scores = cross_val_score(reg, X_train, y_train, cv=5, scoring='mean_absolute_error',verbose=3)\n",
    "#print(\"log RMSE: {:.4f} +/-{:.4f}\".format(\n",
    "#    np.mean(np.sqrt(-scores)), np.std(np.sqrt(-scores))))"
   ]
  },
  {
   "cell_type": "code",
   "execution_count": null,
   "metadata": {
    "collapsed": false
   },
   "outputs": [],
   "source": [
    "#trainDF.describe()\n",
    "#testDF.describe()\n",
    "#otherDF.describe()\n",
    "#trainDF.shape\n",
    "trainDF.sort_values(by='product_id')\n",
    "trainDF.head(100)\n",
    "\n",
    "\n",
    "\n"
   ]
  },
  {
   "cell_type": "code",
   "execution_count": null,
   "metadata": {
    "collapsed": false
   },
   "outputs": [],
   "source": [
    "trainDF['product_id'].unique().shape"
   ]
  },
  {
   "cell_type": "code",
   "execution_count": null,
   "metadata": {
    "collapsed": false,
    "scrolled": true
   },
   "outputs": [],
   "source": [
    "trainDF = trainDF.set_index('ID')\n",
    "print \"Nombre de produits {}\".format(len(np.unique(trainDF.product_id)))\n",
    "productID = 236\n",
    "product = trainDF[trainDF.product_id==productID]\n",
    "print product.shape\n",
    "#print extrDF[\"date\"]\n",
    "#ax_time = a.columns[3:]\n",
    "product_jour = product[product.date % 7==1]\n",
    "product_jour = product_jour.iloc[0:5,3:].transpose()\n",
    "product_jour.plot()\n",
    "#ts = pd.Series(product.iloc[0,3:])\n",
    "\n",
    "#ts.plot()"
   ]
  },
  {
   "cell_type": "code",
   "execution_count": null,
   "metadata": {
    "collapsed": false
   },
   "outputs": [],
   "source": [
    "trainDF2 = trainDF.set_index('ID')\n",
    "print \"Nombre de produits {}\".format(len(np.unique(trainDF2.product_id)))\n",
    "trainDF2=trainDF.groupby('product_id').mean()\n",
    "plt.plot()"
   ]
  },
  {
   "cell_type": "code",
   "execution_count": null,
   "metadata": {
    "collapsed": false
   },
   "outputs": [],
   "source": [
    "trainDF2.shape"
   ]
  },
  {
   "cell_type": "code",
   "execution_count": null,
   "metadata": {
    "collapsed": false
   },
   "outputs": [],
   "source": [
    "##plot time series\n",
    "#ax_time = a.columns[3:]\n",
    "#sns.tsplot(a.iloc[-1,3:],time=\"timepoint\")\n",
    "#sns.tsplot(a.iloc[-2:,3:])\n",
    "#a.iloc[-1,3:]\n",
    "a[[2:3]]"
   ]
  },
  {
   "cell_type": "code",
   "execution_count": null,
   "metadata": {
    "collapsed": true
   },
   "outputs": [],
   "source": [
    "# MAPE\n",
    "from sklearn.utils import check_array\n",
    "def mean_absolute_percentage_error(y_true, y_pred): \n",
    "    y_true, y_pred = check_array(y_true, y_pred)\n",
    "\n",
    "    ## Note: does not handle mix 1d representation\n",
    "    #if _is_1d(y_true): \n",
    "    #    y_true, y_pred = _check_1d_array(y_true, y_pred)\n",
    "\n",
    "    return np.mean(np.abs((y_true - y_pred) / y_true)) * 100"
   ]
  }
 ],
 "metadata": {
  "kernelspec": {
   "display_name": "Python 2",
   "language": "python",
   "name": "python2"
  },
  "language_info": {
   "codemirror_mode": {
    "name": "ipython",
    "version": 2
   },
   "file_extension": ".py",
   "mimetype": "text/x-python",
   "name": "python",
   "nbconvert_exporter": "python",
   "pygments_lexer": "ipython2",
   "version": "2.7.11"
  }
 },
 "nbformat": 4,
 "nbformat_minor": 0
}
