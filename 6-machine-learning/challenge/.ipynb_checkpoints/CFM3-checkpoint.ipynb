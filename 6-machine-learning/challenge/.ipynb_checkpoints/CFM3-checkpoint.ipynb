{
 "cells": [
  {
   "cell_type": "markdown",
   "metadata": {},
   "source": [
    "# Data Challenge : Prediction of stock market Volume\n",
    "By <i>Fabrice ZAPFACK</i> & <i>Basile CALDERAN</i>"
   ]
  },
  {
   "cell_type": "code",
   "execution_count": 1,
   "metadata": {
    "collapsed": false
   },
   "outputs": [],
   "source": [
    "# %reset\n",
    "%matplotlib inline\n",
    "import numpy as np\n",
    "import pandas as pd\n",
    "\n",
    "import matplotlib.pyplot as plt\n",
    "import seaborn as sns; sns.set()"
   ]
  },
  {
   "cell_type": "code",
   "execution_count": 2,
   "metadata": {
    "collapsed": false
   },
   "outputs": [],
   "source": [
    "trainDF = pd.read_csv('data/training_input.csv')\n",
    "testDF = pd.read_csv('data/testing_input.csv')\n",
    "otherDF = pd.read_csv('data/challenge_output_data_training_file_prediction_of'\n",
    "                      '_transaction_volumes_in_financial_markets.csv', sep=';')"
   ]
  },
  {
   "cell_type": "code",
   "execution_count": 3,
   "metadata": {
    "collapsed": false
   },
   "outputs": [
    {
     "data": {
      "text/html": [
       "<div>\n",
       "<table border=\"1\" class=\"dataframe\">\n",
       "  <thead>\n",
       "    <tr style=\"text-align: right;\">\n",
       "      <th></th>\n",
       "      <th>ID</th>\n",
       "      <th>date</th>\n",
       "      <th>product_id</th>\n",
       "      <th>09:30:00</th>\n",
       "      <th>09:35:00</th>\n",
       "      <th>09:40:00</th>\n",
       "      <th>09:45:00</th>\n",
       "      <th>09:50:00</th>\n",
       "      <th>09:55:00</th>\n",
       "      <th>10:00:00</th>\n",
       "      <th>...</th>\n",
       "      <th>13:25:00</th>\n",
       "      <th>13:30:00</th>\n",
       "      <th>13:35:00</th>\n",
       "      <th>13:40:00</th>\n",
       "      <th>13:45:00</th>\n",
       "      <th>13:50:00</th>\n",
       "      <th>13:55:00</th>\n",
       "      <th>std_volume</th>\n",
       "      <th>mean_volume</th>\n",
       "      <th>median_volume</th>\n",
       "    </tr>\n",
       "  </thead>\n",
       "  <tbody>\n",
       "    <tr>\n",
       "      <th>0</th>\n",
       "      <td>1</td>\n",
       "      <td>1</td>\n",
       "      <td>236</td>\n",
       "      <td>24138818.08</td>\n",
       "      <td>2457975.00</td>\n",
       "      <td>741777.14</td>\n",
       "      <td>973487.28</td>\n",
       "      <td>764018.92</td>\n",
       "      <td>1074769.92</td>\n",
       "      <td>3056492.88</td>\n",
       "      <td>...</td>\n",
       "      <td>1467907.56</td>\n",
       "      <td>984992.90</td>\n",
       "      <td>959853.30</td>\n",
       "      <td>892596.88</td>\n",
       "      <td>528573.62</td>\n",
       "      <td>973928.60</td>\n",
       "      <td>972596.43</td>\n",
       "      <td>3190875.116566</td>\n",
       "      <td>1420790.382593</td>\n",
       "      <td>966224.865</td>\n",
       "    </tr>\n",
       "    <tr>\n",
       "      <th>1</th>\n",
       "      <td>2</td>\n",
       "      <td>1</td>\n",
       "      <td>238</td>\n",
       "      <td>8897508.62</td>\n",
       "      <td>104198.40</td>\n",
       "      <td>61840.92</td>\n",
       "      <td>78523.02</td>\n",
       "      <td>128729.16</td>\n",
       "      <td>60789.84</td>\n",
       "      <td>18072.62</td>\n",
       "      <td>...</td>\n",
       "      <td>24124.80</td>\n",
       "      <td>46132.35</td>\n",
       "      <td>51850.26</td>\n",
       "      <td>46478.41</td>\n",
       "      <td>17199.00</td>\n",
       "      <td>34500.62</td>\n",
       "      <td>37690.24</td>\n",
       "      <td>1203216.168496</td>\n",
       "      <td>221835.443333</td>\n",
       "      <td>50920.230</td>\n",
       "    </tr>\n",
       "    <tr>\n",
       "      <th>2</th>\n",
       "      <td>3</td>\n",
       "      <td>1</td>\n",
       "      <td>242</td>\n",
       "      <td>6461968.95</td>\n",
       "      <td>109497.00</td>\n",
       "      <td>152577.00</td>\n",
       "      <td>164024.00</td>\n",
       "      <td>204372.00</td>\n",
       "      <td>321545.70</td>\n",
       "      <td>346236.00</td>\n",
       "      <td>...</td>\n",
       "      <td>67860.00</td>\n",
       "      <td>68478.00</td>\n",
       "      <td>105222.24</td>\n",
       "      <td>101646.00</td>\n",
       "      <td>79128.00</td>\n",
       "      <td>101248.00</td>\n",
       "      <td>367120.00</td>\n",
       "      <td>863553.424762</td>\n",
       "      <td>275284.597407</td>\n",
       "      <td>116535.725</td>\n",
       "    </tr>\n",
       "    <tr>\n",
       "      <th>3</th>\n",
       "      <td>4</td>\n",
       "      <td>1</td>\n",
       "      <td>243</td>\n",
       "      <td>6822223.20</td>\n",
       "      <td>220467.28</td>\n",
       "      <td>161594.35</td>\n",
       "      <td>264893.44</td>\n",
       "      <td>300326.20</td>\n",
       "      <td>707391.68</td>\n",
       "      <td>327428.00</td>\n",
       "      <td>...</td>\n",
       "      <td>1395147.39</td>\n",
       "      <td>984468.82</td>\n",
       "      <td>565263.30</td>\n",
       "      <td>286416.00</td>\n",
       "      <td>71518.14</td>\n",
       "      <td>155752.10</td>\n",
       "      <td>123690.00</td>\n",
       "      <td>928089.671831</td>\n",
       "      <td>398530.703704</td>\n",
       "      <td>198443.475</td>\n",
       "    </tr>\n",
       "    <tr>\n",
       "      <th>4</th>\n",
       "      <td>5</td>\n",
       "      <td>1</td>\n",
       "      <td>261</td>\n",
       "      <td>36632811.84</td>\n",
       "      <td>4470974.95</td>\n",
       "      <td>1448461.05</td>\n",
       "      <td>1500694.38</td>\n",
       "      <td>944346.50</td>\n",
       "      <td>958685.76</td>\n",
       "      <td>1685234.07</td>\n",
       "      <td>...</td>\n",
       "      <td>358484.80</td>\n",
       "      <td>440292.16</td>\n",
       "      <td>795697.65</td>\n",
       "      <td>565374.30</td>\n",
       "      <td>832022.43</td>\n",
       "      <td>1425134.40</td>\n",
       "      <td>2310369.30</td>\n",
       "      <td>4932658.134665</td>\n",
       "      <td>1720212.302222</td>\n",
       "      <td>768828.525</td>\n",
       "    </tr>\n",
       "  </tbody>\n",
       "</table>\n",
       "<p>5 rows × 60 columns</p>\n",
       "</div>"
      ],
      "text/plain": [
       "   ID  date  product_id     09:30:00    09:35:00    09:40:00    09:45:00  \\\n",
       "0   1     1         236  24138818.08  2457975.00   741777.14   973487.28   \n",
       "1   2     1         238   8897508.62   104198.40    61840.92    78523.02   \n",
       "2   3     1         242   6461968.95   109497.00   152577.00   164024.00   \n",
       "3   4     1         243   6822223.20   220467.28   161594.35   264893.44   \n",
       "4   5     1         261  36632811.84  4470974.95  1448461.05  1500694.38   \n",
       "\n",
       "    09:50:00    09:55:00    10:00:00      ...          13:25:00   13:30:00  \\\n",
       "0  764018.92  1074769.92  3056492.88      ...        1467907.56  984992.90   \n",
       "1  128729.16    60789.84    18072.62      ...          24124.80   46132.35   \n",
       "2  204372.00   321545.70   346236.00      ...          67860.00   68478.00   \n",
       "3  300326.20   707391.68   327428.00      ...        1395147.39  984468.82   \n",
       "4  944346.50   958685.76  1685234.07      ...         358484.80  440292.16   \n",
       "\n",
       "    13:35:00   13:40:00   13:45:00    13:50:00    13:55:00      std_volume  \\\n",
       "0  959853.30  892596.88  528573.62   973928.60   972596.43  3190875.116566   \n",
       "1   51850.26   46478.41   17199.00    34500.62    37690.24  1203216.168496   \n",
       "2  105222.24  101646.00   79128.00   101248.00   367120.00   863553.424762   \n",
       "3  565263.30  286416.00   71518.14   155752.10   123690.00   928089.671831   \n",
       "4  795697.65  565374.30  832022.43  1425134.40  2310369.30  4932658.134665   \n",
       "\n",
       "      mean_volume  median_volume  \n",
       "0  1420790.382593     966224.865  \n",
       "1   221835.443333      50920.230  \n",
       "2   275284.597407     116535.725  \n",
       "3   398530.703704     198443.475  \n",
       "4  1720212.302222     768828.525  \n",
       "\n",
       "[5 rows x 60 columns]"
      ]
     },
     "execution_count": 3,
     "metadata": {},
     "output_type": "execute_result"
    }
   ],
   "source": [
    "trainDF[trainDF<0]=np.nan\n",
    "testDF[testDF<0]=np.nan\n",
    "trainDF[\"std_volume\"] = trainDF.ix[:,3:].std(axis=1)\n",
    "trainDF[\"mean_volume\"] = trainDF.ix[:,3:-1].mean(axis=1)\n",
    "trainDF[\"median_volume\"] = trainDF.ix[:,3:-2].median(axis=1)\n",
    "testDF[\"std_volume\"] = trainDF.ix[:,3:].std(axis=1)\n",
    "testDF[\"mean_volume\"] = trainDF.ix[:,3:-1].mean(axis=1)\n",
    "testDF[\"median_volume\"] = trainDF.ix[:,3:-2].median(axis=1)\n",
    "trainDF.head()"
   ]
  },
  {
   "cell_type": "code",
   "execution_count": 4,
   "metadata": {
    "collapsed": false,
    "scrolled": true
   },
   "outputs": [
    {
     "ename": "ValueError",
     "evalue": "invalid method 'linear' to interpolate.",
     "output_type": "error",
     "traceback": [
      "\u001b[1;31m---------------------------------------------------------------------------\u001b[0m",
      "\u001b[1;31mValueError\u001b[0m                                Traceback (most recent call last)",
      "\u001b[1;32m<ipython-input-4-bc39a0816ccc>\u001b[0m in \u001b[0;36m<module>\u001b[1;34m()\u001b[0m\n\u001b[1;32m----> 1\u001b[1;33m \u001b[0mtrainDF\u001b[0m\u001b[1;33m.\u001b[0m\u001b[0mix\u001b[0m\u001b[1;33m[\u001b[0m\u001b[1;33m:\u001b[0m\u001b[1;33m,\u001b[0m\u001b[1;36m3\u001b[0m\u001b[1;33m:\u001b[0m\u001b[1;33m-\u001b[0m\u001b[1;36m3\u001b[0m\u001b[1;33m]\u001b[0m \u001b[1;33m=\u001b[0m \u001b[0mtrainDF\u001b[0m\u001b[1;33m.\u001b[0m\u001b[0mix\u001b[0m\u001b[1;33m[\u001b[0m\u001b[1;33m:\u001b[0m\u001b[1;33m,\u001b[0m\u001b[1;36m3\u001b[0m\u001b[1;33m:\u001b[0m\u001b[1;33m-\u001b[0m\u001b[1;36m3\u001b[0m\u001b[1;33m]\u001b[0m\u001b[1;33m.\u001b[0m\u001b[0minterpolate\u001b[0m\u001b[1;33m(\u001b[0m\u001b[0mmethod\u001b[0m\u001b[1;33m=\u001b[0m\u001b[1;34m'linear'\u001b[0m\u001b[1;33m,\u001b[0m \u001b[0mlimit_direction\u001b[0m\u001b[1;33m=\u001b[0m\u001b[1;34m'both'\u001b[0m\u001b[1;33m,\u001b[0m\u001b[0mlimit\u001b[0m\u001b[1;33m=\u001b[0m\u001b[1;36m4\u001b[0m\u001b[1;33m,\u001b[0m \u001b[0maxis\u001b[0m\u001b[1;33m=\u001b[0m\u001b[1;36m1\u001b[0m\u001b[1;33m)\u001b[0m\u001b[1;33m\u001b[0m\u001b[0m\n\u001b[0m\u001b[0;32m      2\u001b[0m \u001b[0mtestDF\u001b[0m\u001b[1;33m.\u001b[0m\u001b[0mix\u001b[0m\u001b[1;33m[\u001b[0m\u001b[1;33m:\u001b[0m\u001b[1;33m,\u001b[0m\u001b[1;36m3\u001b[0m\u001b[1;33m:\u001b[0m\u001b[1;33m-\u001b[0m\u001b[1;36m3\u001b[0m\u001b[1;33m]\u001b[0m \u001b[1;33m=\u001b[0m \u001b[0mtestDF\u001b[0m\u001b[1;33m.\u001b[0m\u001b[0mix\u001b[0m\u001b[1;33m[\u001b[0m\u001b[1;33m:\u001b[0m\u001b[1;33m,\u001b[0m\u001b[1;36m3\u001b[0m\u001b[1;33m:\u001b[0m\u001b[1;33m-\u001b[0m\u001b[1;36m3\u001b[0m\u001b[1;33m]\u001b[0m\u001b[1;33m.\u001b[0m\u001b[0minterpolate\u001b[0m\u001b[1;33m(\u001b[0m\u001b[0mmethod\u001b[0m\u001b[1;33m=\u001b[0m\u001b[1;34m'linear'\u001b[0m\u001b[1;33m,\u001b[0m \u001b[0mlimit_direction\u001b[0m\u001b[1;33m=\u001b[0m\u001b[1;34m'both'\u001b[0m\u001b[1;33m,\u001b[0m\u001b[0mlimit\u001b[0m\u001b[1;33m=\u001b[0m\u001b[1;36m4\u001b[0m\u001b[1;33m,\u001b[0m \u001b[0maxis\u001b[0m\u001b[1;33m=\u001b[0m\u001b[1;36m1\u001b[0m\u001b[1;33m)\u001b[0m\u001b[1;33m\u001b[0m\u001b[0m\n",
      "\u001b[1;32m/home/zapfack/anaconda/lib/python2.7/site-packages/pandas/core/generic.pyc\u001b[0m in \u001b[0;36minterpolate\u001b[1;34m(self, method, axis, limit, inplace, downcast, **kwargs)\u001b[0m\n\u001b[0;32m   2960\u001b[0m                                           \u001b[0minplace\u001b[0m\u001b[1;33m=\u001b[0m\u001b[0minplace\u001b[0m\u001b[1;33m,\u001b[0m\u001b[1;33m\u001b[0m\u001b[0m\n\u001b[0;32m   2961\u001b[0m                                           \u001b[0mdowncast\u001b[0m\u001b[1;33m=\u001b[0m\u001b[0mdowncast\u001b[0m\u001b[1;33m,\u001b[0m\u001b[1;33m\u001b[0m\u001b[0m\n\u001b[1;32m-> 2962\u001b[1;33m                                           **kwargs)\n\u001b[0m\u001b[0;32m   2963\u001b[0m         \u001b[1;32mif\u001b[0m \u001b[0minplace\u001b[0m\u001b[1;33m:\u001b[0m\u001b[1;33m\u001b[0m\u001b[0m\n\u001b[0;32m   2964\u001b[0m             \u001b[1;32mif\u001b[0m \u001b[0maxis\u001b[0m \u001b[1;33m==\u001b[0m \u001b[1;36m1\u001b[0m\u001b[1;33m:\u001b[0m\u001b[1;33m\u001b[0m\u001b[0m\n",
      "\u001b[1;32m/home/zapfack/anaconda/lib/python2.7/site-packages/pandas/core/internals.pyc\u001b[0m in \u001b[0;36minterpolate\u001b[1;34m(self, **kwargs)\u001b[0m\n\u001b[0;32m   2490\u001b[0m \u001b[1;33m\u001b[0m\u001b[0m\n\u001b[0;32m   2491\u001b[0m     \u001b[1;32mdef\u001b[0m \u001b[0minterpolate\u001b[0m\u001b[1;33m(\u001b[0m\u001b[0mself\u001b[0m\u001b[1;33m,\u001b[0m \u001b[1;33m**\u001b[0m\u001b[0mkwargs\u001b[0m\u001b[1;33m)\u001b[0m\u001b[1;33m:\u001b[0m\u001b[1;33m\u001b[0m\u001b[0m\n\u001b[1;32m-> 2492\u001b[1;33m         \u001b[1;32mreturn\u001b[0m \u001b[0mself\u001b[0m\u001b[1;33m.\u001b[0m\u001b[0mapply\u001b[0m\u001b[1;33m(\u001b[0m\u001b[1;34m'interpolate'\u001b[0m\u001b[1;33m,\u001b[0m \u001b[1;33m**\u001b[0m\u001b[0mkwargs\u001b[0m\u001b[1;33m)\u001b[0m\u001b[1;33m\u001b[0m\u001b[0m\n\u001b[0m\u001b[0;32m   2493\u001b[0m \u001b[1;33m\u001b[0m\u001b[0m\n\u001b[0;32m   2494\u001b[0m     \u001b[1;32mdef\u001b[0m \u001b[0mshift\u001b[0m\u001b[1;33m(\u001b[0m\u001b[0mself\u001b[0m\u001b[1;33m,\u001b[0m \u001b[1;33m**\u001b[0m\u001b[0mkwargs\u001b[0m\u001b[1;33m)\u001b[0m\u001b[1;33m:\u001b[0m\u001b[1;33m\u001b[0m\u001b[0m\n",
      "\u001b[1;32m/home/zapfack/anaconda/lib/python2.7/site-packages/pandas/core/internals.pyc\u001b[0m in \u001b[0;36mapply\u001b[1;34m(self, f, axes, filter, do_integrity_check, **kwargs)\u001b[0m\n\u001b[0;32m   2457\u001b[0m                                                  copy=align_copy)\n\u001b[0;32m   2458\u001b[0m \u001b[1;33m\u001b[0m\u001b[0m\n\u001b[1;32m-> 2459\u001b[1;33m             \u001b[0mapplied\u001b[0m \u001b[1;33m=\u001b[0m \u001b[0mgetattr\u001b[0m\u001b[1;33m(\u001b[0m\u001b[0mb\u001b[0m\u001b[1;33m,\u001b[0m \u001b[0mf\u001b[0m\u001b[1;33m)\u001b[0m\u001b[1;33m(\u001b[0m\u001b[1;33m**\u001b[0m\u001b[0mkwargs\u001b[0m\u001b[1;33m)\u001b[0m\u001b[1;33m\u001b[0m\u001b[0m\n\u001b[0m\u001b[0;32m   2460\u001b[0m \u001b[1;33m\u001b[0m\u001b[0m\n\u001b[0;32m   2461\u001b[0m             \u001b[1;32mif\u001b[0m \u001b[0misinstance\u001b[0m\u001b[1;33m(\u001b[0m\u001b[0mapplied\u001b[0m\u001b[1;33m,\u001b[0m \u001b[0mlist\u001b[0m\u001b[1;33m)\u001b[0m\u001b[1;33m:\u001b[0m\u001b[1;33m\u001b[0m\u001b[0m\n",
      "\u001b[1;32m/home/zapfack/anaconda/lib/python2.7/site-packages/pandas/core/internals.pyc\u001b[0m in \u001b[0;36minterpolate\u001b[1;34m(self, method, axis, index, values, inplace, limit, fill_value, coerce, downcast, **kwargs)\u001b[0m\n\u001b[0;32m    772\u001b[0m                                      **kwargs)\n\u001b[0;32m    773\u001b[0m \u001b[1;33m\u001b[0m\u001b[0m\n\u001b[1;32m--> 774\u001b[1;33m         \u001b[1;32mraise\u001b[0m \u001b[0mValueError\u001b[0m\u001b[1;33m(\u001b[0m\u001b[1;34m\"invalid method '{0}' to interpolate.\"\u001b[0m\u001b[1;33m.\u001b[0m\u001b[0mformat\u001b[0m\u001b[1;33m(\u001b[0m\u001b[0mmethod\u001b[0m\u001b[1;33m)\u001b[0m\u001b[1;33m)\u001b[0m\u001b[1;33m\u001b[0m\u001b[0m\n\u001b[0m\u001b[0;32m    775\u001b[0m \u001b[1;33m\u001b[0m\u001b[0m\n\u001b[0;32m    776\u001b[0m     def _interpolate_with_fill(self, method='pad', axis=0, inplace=False,\n",
      "\u001b[1;31mValueError\u001b[0m: invalid method 'linear' to interpolate."
     ]
    }
   ],
   "source": [
    "trainDF.ix[:,3:-3] = trainDF.ix[:,3:-3].interpolate(method='linear', limit_direction='both',limit=4, axis=1)\n",
    "testDF.ix[:,3:-3] = testDF.ix[:,3:-3].interpolate(method='linear', limit_direction='both',limit=4, axis=1)"
   ]
  },
  {
   "cell_type": "code",
   "execution_count": null,
   "metadata": {
    "collapsed": false
   },
   "outputs": [],
   "source": [
    "trainDF.describe()"
   ]
  },
  {
   "cell_type": "code",
   "execution_count": null,
   "metadata": {
    "collapsed": false
   },
   "outputs": [],
   "source": [
    "trainDF = trainDF.fillna(trainDF.mean())\n",
    "trainDF.describe()\n",
    "trainTestDF = trainDF.append(testDF)\n",
    "print trainTestDF.shape\n",
    "testDF = testDF.fillna(trainTestDF.mean())\n",
    "testDF.describe()"
   ]
  },
  {
   "cell_type": "code",
   "execution_count": null,
   "metadata": {
    "collapsed": false,
    "scrolled": true
   },
   "outputs": [
    {
     "name": "stderr",
     "output_type": "stream",
     "text": [
      "/home/zapfack/tools/anaconda2/lib/python2.7/site-packages/ipykernel/__main__.py:12: SettingWithCopyWarning: \n",
      "A value is trying to be set on a copy of a slice from a DataFrame\n",
      "\n",
      "See the caveats in the documentation: http://pandas.pydata.org/pandas-docs/stable/indexing.html#indexing-view-versus-copy\n",
      "/home/zapfack/tools/anaconda2/lib/python2.7/site-packages/ipykernel/__main__.py:13: SettingWithCopyWarning: \n",
      "A value is trying to be set on a copy of a slice from a DataFrame\n",
      "\n",
      "See the caveats in the documentation: http://pandas.pydata.org/pandas-docs/stable/indexing.html#indexing-view-versus-copy\n",
      "/home/zapfack/tools/anaconda2/lib/python2.7/site-packages/ipykernel/__main__.py:17: SettingWithCopyWarning: \n",
      "A value is trying to be set on a copy of a slice from a DataFrame\n",
      "\n",
      "See the caveats in the documentation: http://pandas.pydata.org/pandas-docs/stable/indexing.html#indexing-view-versus-copy\n",
      "/home/zapfack/tools/anaconda2/lib/python2.7/site-packages/ipykernel/__main__.py:18: SettingWithCopyWarning: \n",
      "A value is trying to be set on a copy of a slice from a DataFrame\n",
      "\n",
      "See the caveats in the documentation: http://pandas.pydata.org/pandas-docs/stable/indexing.html#indexing-view-versus-copy\n",
      "/home/zapfack/tools/anaconda2/lib/python2.7/site-packages/ipykernel/__main__.py:19: SettingWithCopyWarning: \n",
      "A value is trying to be set on a copy of a slice from a DataFrame\n",
      "\n",
      "See the caveats in the documentation: http://pandas.pydata.org/pandas-docs/stable/indexing.html#indexing-view-versus-copy\n",
      "/home/zapfack/tools/anaconda2/lib/python2.7/site-packages/ipykernel/__main__.py:20: SettingWithCopyWarning: \n",
      "A value is trying to be set on a copy of a slice from a DataFrame\n",
      "\n",
      "See the caveats in the documentation: http://pandas.pydata.org/pandas-docs/stable/indexing.html#indexing-view-versus-copy\n"
     ]
    }
   ],
   "source": [
    "trainDF[\"coef1\"] = np.nan\n",
    "trainDF[\"coef2\"] = np.nan\n",
    "trainDF2 = trainDF.copy()\n",
    "trainDF2[\"coef3\"] = np.nan\n",
    "trainDF2[\"coef4\"] = np.nan\n",
    "for i in range(trainDF.shape[0]):\n",
    "#     ts = trainDF.ix[i,3:-5]\n",
    "#     x = ts.values\n",
    "#     t = np.array(range(x.shape[0]))\n",
    "#     model = np.polyfit(t, x, 1)\n",
    "#     trainDF.coef1[i] = model[0]\n",
    "#     trainDF.coef2[i] = model[1]\n",
    "    \n",
    "#     coef = np.polyfit(t,x,3)\n",
    "#     model = np.polyfit(t, x, 3)\n",
    "#     trainDF2.coef1[i] = model[0]\n",
    "#     trainDF2.coef2[i] = model[1]\n",
    "#     trainDF2.coef3[i] = model[2]\n",
    "#     trainDF2.coef4[i] = model[3]\n",
    "    if i%10000==0:\n",
    "        print i"
   ]
  },
  {
   "cell_type": "code",
   "execution_count": null,
   "metadata": {
    "collapsed": false,
    "scrolled": true
   },
   "outputs": [],
   "source": [
    "trainLablledDF = pd.merge(trainDF,otherDF,how='left', on=['ID'])\n",
    "trainLablledDF.head()"
   ]
  },
  {
   "cell_type": "code",
   "execution_count": 3,
   "metadata": {
    "collapsed": true
   },
   "outputs": [],
   "source": [
    "from statsmodels.tsa.stattools import adfuller\n",
    "def test_stationarity(timeseries):\n",
    "    \n",
    "    #Determing rolling statistics\n",
    "    rolmean = pd.rolling_mean(timeseries, window=12)\n",
    "    rolstd = pd.rolling_std(timeseries, window=12)\n",
    "\n",
    "    #Plot rolling statistics:\n",
    "    orig = plt.plot(timeseries, color='blue',label='Original')\n",
    "    mean = plt.plot(rolmean, color='red', label='Rolling Mean')\n",
    "    std = plt.plot(rolstd, color='black', label = 'Rolling Std')\n",
    "    plt.legend(loc='best')\n",
    "    plt.title('Rolling Mean & Standard Deviation')\n",
    "    plt.show(block=False)\n",
    "    \n",
    "    #Perform Dickey-Fuller test:\n",
    "    print 'Results of Dickey-Fuller Test:'\n",
    "    dftest = adfuller(timeseries, autolag='AIC')\n",
    "    dfoutput = pd.Series(dftest[0:4], index=['Test Statistic','p-value','#Lags Used','Number of Observations Used'])\n",
    "    for key,value in dftest[4].items():\n",
    "        dfoutput['Critical Value (%s)'%key] = value\n",
    "    print dfoutput"
   ]
  },
  {
   "cell_type": "code",
   "execution_count": 15,
   "metadata": {
    "collapsed": false
   },
   "outputs": [
    {
     "data": {
      "text/plain": [
       "DatetimeIndex(['2016-02-23 09:30:00', '2016-02-23 09:35:00',\n",
       "               '2016-02-23 09:40:00', '2016-02-23 09:45:00',\n",
       "               '2016-02-23 09:50:00', '2016-02-23 09:55:00',\n",
       "               '2016-02-23 10:00:00', '2016-02-23 10:05:00',\n",
       "               '2016-02-23 10:10:00', '2016-02-23 10:15:00',\n",
       "               '2016-02-23 10:20:00', '2016-02-23 10:25:00',\n",
       "               '2016-02-23 10:30:00', '2016-02-23 10:35:00',\n",
       "               '2016-02-23 10:40:00', '2016-02-23 10:45:00',\n",
       "               '2016-02-23 10:50:00', '2016-02-23 10:55:00',\n",
       "               '2016-02-23 11:00:00', '2016-02-23 11:05:00',\n",
       "               '2016-02-23 11:10:00', '2016-02-23 11:15:00',\n",
       "               '2016-02-23 11:20:00', '2016-02-23 11:25:00',\n",
       "               '2016-02-23 11:30:00', '2016-02-23 11:35:00',\n",
       "               '2016-02-23 11:40:00', '2016-02-23 11:45:00',\n",
       "               '2016-02-23 11:50:00', '2016-02-23 11:55:00',\n",
       "               '2016-02-23 12:00:00', '2016-02-23 12:05:00',\n",
       "               '2016-02-23 12:10:00', '2016-02-23 12:15:00',\n",
       "               '2016-02-23 12:20:00', '2016-02-23 12:25:00',\n",
       "               '2016-02-23 12:30:00', '2016-02-23 12:35:00',\n",
       "               '2016-02-23 12:40:00', '2016-02-23 12:45:00',\n",
       "               '2016-02-23 12:50:00', '2016-02-23 12:55:00',\n",
       "               '2016-02-23 13:00:00', '2016-02-23 13:05:00',\n",
       "               '2016-02-23 13:10:00', '2016-02-23 13:15:00',\n",
       "               '2016-02-23 13:20:00', '2016-02-23 13:25:00',\n",
       "               '2016-02-23 13:30:00', '2016-02-23 13:35:00',\n",
       "               '2016-02-23 13:40:00', '2016-02-23 13:45:00',\n",
       "               '2016-02-23 13:50:00', '2016-02-23 13:55:00'],\n",
       "              dtype='datetime64[ns]', freq=None)"
      ]
     },
     "execution_count": 15,
     "metadata": {},
     "output_type": "execute_result"
    }
   ],
   "source": [
    "# i = np.random.randint(0, trainDF.shape[0],1)#223460\n",
    "ts = trainDF.ix[0,3:]\n",
    "ts.diff()\n",
    "# print i,ts.isnull().sum(axis=1)\n",
    "\n",
    "# [datetime.strptime(str(i),\"%HH:%MM:%SS\") for i in ts.index]\n",
    "# from datetime import datetime\n",
    "# datetime.strptime(a,\"%H:%M:%S\")\n",
    "# test_stationarity(ts.diff())\n",
    "\n",
    "\n",
    "ts.index = pd.to_datetime(ts.index)\n",
    "x = ts.values\n",
    "x_diff = ts.diff().values\n",
    "# x = x-np.nanmean(x)\n",
    "\n",
    "t = np.array(range(x.shape[0]))\n",
    "# coef = np.polyfit(t,x,1)\n",
    "# model = np.polyfit(t, x, 1)\n",
    "# y = np.polyval(model, t)\n",
    "# # # y = coef[0] + coef[1]*t\n",
    "# plt.plot(t,x_diff)\n",
    "# plt.plot(t,x)\n",
    "# np.mean(x)\n",
    "# plt.plot(t,x-y)\n",
    "# model\n",
    "# print np.mean(y), np.mean(x)\n",
    "ts.index"
   ]
  },
  {
   "cell_type": "code",
   "execution_count": null,
   "metadata": {
    "collapsed": false
   },
   "outputs": [],
   "source": [
    "from nitime import algorithms as alg\n",
    "X = trainDF.ix[0,3:].values\n",
    "alg.AR_est_YW(X-np.mean(X), 5)\n"
   ]
  },
  {
   "cell_type": "code",
   "execution_count": 18,
   "metadata": {
    "collapsed": false
   },
   "outputs": [
    {
     "ename": "LinAlgError",
     "evalue": "SVD did not converge",
     "output_type": "error",
     "traceback": [
      "\u001b[1;31m---------------------------------------------------------------------------\u001b[0m",
      "\u001b[1;31mLinAlgError\u001b[0m                               Traceback (most recent call last)",
      "\u001b[1;32m<ipython-input-18-6fe6ac353dbb>\u001b[0m in \u001b[0;36m<module>\u001b[1;34m()\u001b[0m\n\u001b[0;32m      3\u001b[0m \u001b[1;31m# from statsmodels.graphics.api import qqplot\u001b[0m\u001b[1;33m\u001b[0m\u001b[1;33m\u001b[0m\u001b[0m\n\u001b[0;32m      4\u001b[0m \u001b[0marma_mod\u001b[0m \u001b[1;33m=\u001b[0m \u001b[0msm\u001b[0m\u001b[1;33m.\u001b[0m\u001b[0mtsa\u001b[0m\u001b[1;33m.\u001b[0m\u001b[0mARMA\u001b[0m\u001b[1;33m(\u001b[0m\u001b[0mts\u001b[0m\u001b[1;33m.\u001b[0m\u001b[0mdiff\u001b[0m\u001b[1;33m(\u001b[0m\u001b[1;33m)\u001b[0m\u001b[1;33m,\u001b[0m \u001b[0morder\u001b[0m\u001b[1;33m=\u001b[0m\u001b[1;33m(\u001b[0m\u001b[1;36m2\u001b[0m\u001b[1;33m,\u001b[0m \u001b[1;36m2\u001b[0m\u001b[1;33m)\u001b[0m\u001b[1;33m)\u001b[0m\u001b[1;33m\u001b[0m\u001b[0m\n\u001b[1;32m----> 5\u001b[1;33m \u001b[0marma_mod\u001b[0m\u001b[1;33m.\u001b[0m\u001b[0mfit\u001b[0m\u001b[1;33m(\u001b[0m\u001b[1;33m)\u001b[0m\u001b[1;33m\u001b[0m\u001b[0m\n\u001b[0m\u001b[0;32m      6\u001b[0m \u001b[0msm\u001b[0m\u001b[1;33m.\u001b[0m\u001b[0mtsa\u001b[0m\u001b[1;33m.\u001b[0m\u001b[0marima_model\u001b[0m\u001b[1;33m.\u001b[0m\u001b[0mARMAResults\u001b[0m\u001b[1;33m(\u001b[0m\u001b[0marma_mod\u001b[0m\u001b[1;33m)\u001b[0m\u001b[1;33m\u001b[0m\u001b[0m\n",
      "\u001b[1;32m/home/zapfack/tools/anaconda2/lib/python2.7/site-packages/statsmodels/tsa/arima_model.pyc\u001b[0m in \u001b[0;36mfit\u001b[1;34m(self, start_params, trend, method, transparams, solver, maxiter, full_output, disp, callback, **kwargs)\u001b[0m\n\u001b[0;32m    917\u001b[0m \u001b[1;33m\u001b[0m\u001b[0m\n\u001b[0;32m    918\u001b[0m         \u001b[1;32melse\u001b[0m\u001b[1;33m:\u001b[0m  \u001b[1;31m# estimate starting parameters\u001b[0m\u001b[1;33m\u001b[0m\u001b[0m\n\u001b[1;32m--> 919\u001b[1;33m             \u001b[0mstart_params\u001b[0m \u001b[1;33m=\u001b[0m \u001b[0mself\u001b[0m\u001b[1;33m.\u001b[0m\u001b[0m_fit_start_params\u001b[0m\u001b[1;33m(\u001b[0m\u001b[1;33m(\u001b[0m\u001b[0mk_ar\u001b[0m\u001b[1;33m,\u001b[0m \u001b[0mk_ma\u001b[0m\u001b[1;33m,\u001b[0m \u001b[0mk\u001b[0m\u001b[1;33m)\u001b[0m\u001b[1;33m,\u001b[0m \u001b[0mmethod\u001b[0m\u001b[1;33m)\u001b[0m\u001b[1;33m\u001b[0m\u001b[0m\n\u001b[0m\u001b[0;32m    920\u001b[0m \u001b[1;33m\u001b[0m\u001b[0m\n\u001b[0;32m    921\u001b[0m         \u001b[1;32mif\u001b[0m \u001b[0mtransparams\u001b[0m\u001b[1;33m:\u001b[0m  \u001b[1;31m# transform initial parameters to ensure invertibility\u001b[0m\u001b[1;33m\u001b[0m\u001b[0m\n",
      "\u001b[1;32m/home/zapfack/tools/anaconda2/lib/python2.7/site-packages/statsmodels/tsa/arima_model.pyc\u001b[0m in \u001b[0;36m_fit_start_params\u001b[1;34m(self, order, method)\u001b[0m\n\u001b[0;32m    554\u001b[0m             \u001b[0mfunc\u001b[0m \u001b[1;33m=\u001b[0m \u001b[1;32mlambda\u001b[0m \u001b[0mparams\u001b[0m\u001b[1;33m:\u001b[0m \u001b[1;33m-\u001b[0m\u001b[0mself\u001b[0m\u001b[1;33m.\u001b[0m\u001b[0mloglike_css\u001b[0m\u001b[1;33m(\u001b[0m\u001b[0mparams\u001b[0m\u001b[1;33m)\u001b[0m\u001b[1;33m\u001b[0m\u001b[0m\n\u001b[0;32m    555\u001b[0m             \u001b[1;31m#start_params = [.1]*(k_ar+k_ma+k_exog) # different one for k?\u001b[0m\u001b[1;33m\u001b[0m\u001b[1;33m\u001b[0m\u001b[0m\n\u001b[1;32m--> 556\u001b[1;33m             \u001b[0mstart_params\u001b[0m \u001b[1;33m=\u001b[0m \u001b[0mself\u001b[0m\u001b[1;33m.\u001b[0m\u001b[0m_fit_start_params_hr\u001b[0m\u001b[1;33m(\u001b[0m\u001b[0morder\u001b[0m\u001b[1;33m)\u001b[0m\u001b[1;33m\u001b[0m\u001b[0m\n\u001b[0m\u001b[0;32m    557\u001b[0m             \u001b[1;32mif\u001b[0m \u001b[0mself\u001b[0m\u001b[1;33m.\u001b[0m\u001b[0mtransparams\u001b[0m\u001b[1;33m:\u001b[0m\u001b[1;33m\u001b[0m\u001b[0m\n\u001b[0;32m    558\u001b[0m                 \u001b[0mstart_params\u001b[0m \u001b[1;33m=\u001b[0m \u001b[0mself\u001b[0m\u001b[1;33m.\u001b[0m\u001b[0m_invtransparams\u001b[0m\u001b[1;33m(\u001b[0m\u001b[0mstart_params\u001b[0m\u001b[1;33m)\u001b[0m\u001b[1;33m\u001b[0m\u001b[0m\n",
      "\u001b[1;32m/home/zapfack/tools/anaconda2/lib/python2.7/site-packages/statsmodels/tsa/arima_model.pyc\u001b[0m in \u001b[0;36m_fit_start_params_hr\u001b[1;34m(self, order)\u001b[0m\n\u001b[0;32m    499\u001b[0m                 \u001b[1;32mif\u001b[0m \u001b[0mmaxlag\u001b[0m \u001b[1;33m>=\u001b[0m \u001b[0mnobs\u001b[0m\u001b[1;33m:\u001b[0m\u001b[1;33m\u001b[0m\u001b[0m\n\u001b[0;32m    500\u001b[0m                     \u001b[0mmaxlag\u001b[0m \u001b[1;33m=\u001b[0m \u001b[0mnobs\u001b[0m \u001b[1;33m-\u001b[0m \u001b[1;36m1\u001b[0m\u001b[1;33m\u001b[0m\u001b[0m\n\u001b[1;32m--> 501\u001b[1;33m                 \u001b[0marmod\u001b[0m \u001b[1;33m=\u001b[0m \u001b[0mAR\u001b[0m\u001b[1;33m(\u001b[0m\u001b[0mendog\u001b[0m\u001b[1;33m)\u001b[0m\u001b[1;33m.\u001b[0m\u001b[0mfit\u001b[0m\u001b[1;33m(\u001b[0m\u001b[0mic\u001b[0m\u001b[1;33m=\u001b[0m\u001b[1;34m'bic'\u001b[0m\u001b[1;33m,\u001b[0m \u001b[0mtrend\u001b[0m\u001b[1;33m=\u001b[0m\u001b[1;34m'nc'\u001b[0m\u001b[1;33m,\u001b[0m \u001b[0mmaxlag\u001b[0m\u001b[1;33m=\u001b[0m\u001b[0mmaxlag\u001b[0m\u001b[1;33m)\u001b[0m\u001b[1;33m\u001b[0m\u001b[0m\n\u001b[0m\u001b[0;32m    502\u001b[0m                 \u001b[0marcoefs_tmp\u001b[0m \u001b[1;33m=\u001b[0m \u001b[0marmod\u001b[0m\u001b[1;33m.\u001b[0m\u001b[0mparams\u001b[0m\u001b[1;33m\u001b[0m\u001b[0m\n\u001b[0;32m    503\u001b[0m                 \u001b[0mp_tmp\u001b[0m \u001b[1;33m=\u001b[0m \u001b[0marmod\u001b[0m\u001b[1;33m.\u001b[0m\u001b[0mk_ar\u001b[0m\u001b[1;33m\u001b[0m\u001b[0m\n",
      "\u001b[1;32m/home/zapfack/tools/anaconda2/lib/python2.7/site-packages/statsmodels/tsa/ar_model.pyc\u001b[0m in \u001b[0;36mfit\u001b[1;34m(self, maxlag, method, ic, trend, transparams, start_params, solver, maxiter, full_output, disp, callback, **kwargs)\u001b[0m\n\u001b[0;32m    539\u001b[0m             \u001b[1;32mif\u001b[0m \u001b[0mic\u001b[0m \u001b[1;32mnot\u001b[0m \u001b[1;32min\u001b[0m \u001b[1;33m[\u001b[0m\u001b[1;34m'aic'\u001b[0m\u001b[1;33m,\u001b[0m \u001b[1;34m'bic'\u001b[0m\u001b[1;33m,\u001b[0m \u001b[1;34m'hqic'\u001b[0m\u001b[1;33m,\u001b[0m \u001b[1;34m't-stat'\u001b[0m\u001b[1;33m]\u001b[0m\u001b[1;33m:\u001b[0m\u001b[1;33m\u001b[0m\u001b[0m\n\u001b[0;32m    540\u001b[0m                 \u001b[1;32mraise\u001b[0m \u001b[0mValueError\u001b[0m\u001b[1;33m(\u001b[0m\u001b[1;34m\"ic option %s not understood\"\u001b[0m \u001b[1;33m%\u001b[0m \u001b[0mic\u001b[0m\u001b[1;33m)\u001b[0m\u001b[1;33m\u001b[0m\u001b[0m\n\u001b[1;32m--> 541\u001b[1;33m             \u001b[0mk_ar\u001b[0m \u001b[1;33m=\u001b[0m \u001b[0mself\u001b[0m\u001b[1;33m.\u001b[0m\u001b[0mselect_order\u001b[0m\u001b[1;33m(\u001b[0m\u001b[0mk_ar\u001b[0m\u001b[1;33m,\u001b[0m \u001b[0mic\u001b[0m\u001b[1;33m,\u001b[0m \u001b[0mtrend\u001b[0m\u001b[1;33m,\u001b[0m \u001b[0mmethod\u001b[0m\u001b[1;33m)\u001b[0m\u001b[1;33m\u001b[0m\u001b[0m\n\u001b[0m\u001b[0;32m    542\u001b[0m \u001b[1;33m\u001b[0m\u001b[0m\n\u001b[0;32m    543\u001b[0m         \u001b[0mself\u001b[0m\u001b[1;33m.\u001b[0m\u001b[0mk_ar\u001b[0m \u001b[1;33m=\u001b[0m \u001b[0mk_ar\u001b[0m  \u001b[1;31m# change to what was chosen by ic\u001b[0m\u001b[1;33m\u001b[0m\u001b[0m\n",
      "\u001b[1;32m/home/zapfack/tools/anaconda2/lib/python2.7/site-packages/statsmodels/tsa/ar_model.pyc\u001b[0m in \u001b[0;36mselect_order\u001b[1;34m(self, maxlag, ic, trend, method)\u001b[0m\n\u001b[0;32m    433\u001b[0m                 fit = AR(endog_tmp).fit(maxlag=lag, method=method,\n\u001b[0;32m    434\u001b[0m                                         \u001b[0mfull_output\u001b[0m\u001b[1;33m=\u001b[0m\u001b[1;36m0\u001b[0m\u001b[1;33m,\u001b[0m \u001b[0mtrend\u001b[0m\u001b[1;33m=\u001b[0m\u001b[0mtrend\u001b[0m\u001b[1;33m,\u001b[0m\u001b[1;33m\u001b[0m\u001b[0m\n\u001b[1;32m--> 435\u001b[1;33m                                         maxiter=100, disp=0)\n\u001b[0m\u001b[0;32m    436\u001b[0m                 \u001b[0mresults\u001b[0m\u001b[1;33m[\u001b[0m\u001b[0mlag\u001b[0m\u001b[1;33m]\u001b[0m \u001b[1;33m=\u001b[0m \u001b[0meval\u001b[0m\u001b[1;33m(\u001b[0m\u001b[1;34m'fit.'\u001b[0m\u001b[1;33m+\u001b[0m\u001b[0mic\u001b[0m\u001b[1;33m)\u001b[0m\u001b[1;33m\u001b[0m\u001b[0m\n\u001b[0;32m    437\u001b[0m             \u001b[0mbestic\u001b[0m\u001b[1;33m,\u001b[0m \u001b[0mbestlag\u001b[0m \u001b[1;33m=\u001b[0m \u001b[0mmin\u001b[0m\u001b[1;33m(\u001b[0m\u001b[1;33m(\u001b[0m\u001b[0mres\u001b[0m\u001b[1;33m,\u001b[0m \u001b[0mk\u001b[0m\u001b[1;33m)\u001b[0m \u001b[1;32mfor\u001b[0m \u001b[0mk\u001b[0m\u001b[1;33m,\u001b[0m \u001b[0mres\u001b[0m \u001b[1;32min\u001b[0m \u001b[0miteritems\u001b[0m\u001b[1;33m(\u001b[0m\u001b[0mresults\u001b[0m\u001b[1;33m)\u001b[0m\u001b[1;33m)\u001b[0m\u001b[1;33m\u001b[0m\u001b[0m\n",
      "\u001b[1;32m/home/zapfack/tools/anaconda2/lib/python2.7/site-packages/statsmodels/tsa/ar_model.pyc\u001b[0m in \u001b[0;36mfit\u001b[1;34m(self, maxlag, method, ic, trend, transparams, start_params, solver, maxiter, full_output, disp, callback, **kwargs)\u001b[0m\n\u001b[0;32m    554\u001b[0m \u001b[1;33m\u001b[0m\u001b[0m\n\u001b[0;32m    555\u001b[0m         \u001b[1;32mif\u001b[0m \u001b[0mmethod\u001b[0m \u001b[1;33m==\u001b[0m \u001b[1;34m\"cmle\"\u001b[0m\u001b[1;33m:\u001b[0m     \u001b[1;31m# do OLS\u001b[0m\u001b[1;33m\u001b[0m\u001b[0m\n\u001b[1;32m--> 556\u001b[1;33m             \u001b[0marfit\u001b[0m \u001b[1;33m=\u001b[0m \u001b[0mOLS\u001b[0m\u001b[1;33m(\u001b[0m\u001b[0mY\u001b[0m\u001b[1;33m,\u001b[0m \u001b[0mX\u001b[0m\u001b[1;33m)\u001b[0m\u001b[1;33m.\u001b[0m\u001b[0mfit\u001b[0m\u001b[1;33m(\u001b[0m\u001b[1;33m)\u001b[0m\u001b[1;33m\u001b[0m\u001b[0m\n\u001b[0m\u001b[0;32m    557\u001b[0m             \u001b[0mparams\u001b[0m \u001b[1;33m=\u001b[0m \u001b[0marfit\u001b[0m\u001b[1;33m.\u001b[0m\u001b[0mparams\u001b[0m\u001b[1;33m\u001b[0m\u001b[0m\n\u001b[0;32m    558\u001b[0m             \u001b[0mself\u001b[0m\u001b[1;33m.\u001b[0m\u001b[0mnobs\u001b[0m \u001b[1;33m=\u001b[0m \u001b[0mnobs\u001b[0m \u001b[1;33m-\u001b[0m \u001b[0mk_ar\u001b[0m\u001b[1;33m\u001b[0m\u001b[0m\n",
      "\u001b[1;32m/home/zapfack/tools/anaconda2/lib/python2.7/site-packages/statsmodels/regression/linear_model.pyc\u001b[0m in \u001b[0;36mfit\u001b[1;34m(self, method, cov_type, cov_kwds, use_t, **kwargs)\u001b[0m\n\u001b[0;32m    172\u001b[0m                 (not hasattr(self, 'rank'))):\n\u001b[0;32m    173\u001b[0m \u001b[1;33m\u001b[0m\u001b[0m\n\u001b[1;32m--> 174\u001b[1;33m                 \u001b[0mself\u001b[0m\u001b[1;33m.\u001b[0m\u001b[0mpinv_wexog\u001b[0m\u001b[1;33m,\u001b[0m \u001b[0msingular_values\u001b[0m \u001b[1;33m=\u001b[0m \u001b[0mpinv_extended\u001b[0m\u001b[1;33m(\u001b[0m\u001b[0mself\u001b[0m\u001b[1;33m.\u001b[0m\u001b[0mwexog\u001b[0m\u001b[1;33m)\u001b[0m\u001b[1;33m\u001b[0m\u001b[0m\n\u001b[0m\u001b[0;32m    175\u001b[0m                 self.normalized_cov_params = np.dot(self.pinv_wexog,\n\u001b[0;32m    176\u001b[0m                                         np.transpose(self.pinv_wexog))\n",
      "\u001b[1;32m/home/zapfack/tools/anaconda2/lib/python2.7/site-packages/statsmodels/tools/tools.pyc\u001b[0m in \u001b[0;36mpinv_extended\u001b[1;34m(X, rcond)\u001b[0m\n\u001b[0;32m    390\u001b[0m     \u001b[0mX\u001b[0m \u001b[1;33m=\u001b[0m \u001b[0mnp\u001b[0m\u001b[1;33m.\u001b[0m\u001b[0masarray\u001b[0m\u001b[1;33m(\u001b[0m\u001b[0mX\u001b[0m\u001b[1;33m)\u001b[0m\u001b[1;33m\u001b[0m\u001b[0m\n\u001b[0;32m    391\u001b[0m     \u001b[0mX\u001b[0m \u001b[1;33m=\u001b[0m \u001b[0mX\u001b[0m\u001b[1;33m.\u001b[0m\u001b[0mconjugate\u001b[0m\u001b[1;33m(\u001b[0m\u001b[1;33m)\u001b[0m\u001b[1;33m\u001b[0m\u001b[0m\n\u001b[1;32m--> 392\u001b[1;33m     \u001b[0mu\u001b[0m\u001b[1;33m,\u001b[0m \u001b[0ms\u001b[0m\u001b[1;33m,\u001b[0m \u001b[0mvt\u001b[0m \u001b[1;33m=\u001b[0m \u001b[0mnp\u001b[0m\u001b[1;33m.\u001b[0m\u001b[0mlinalg\u001b[0m\u001b[1;33m.\u001b[0m\u001b[0msvd\u001b[0m\u001b[1;33m(\u001b[0m\u001b[0mX\u001b[0m\u001b[1;33m,\u001b[0m \u001b[1;36m0\u001b[0m\u001b[1;33m)\u001b[0m\u001b[1;33m\u001b[0m\u001b[0m\n\u001b[0m\u001b[0;32m    393\u001b[0m     \u001b[0ms_orig\u001b[0m \u001b[1;33m=\u001b[0m \u001b[0mnp\u001b[0m\u001b[1;33m.\u001b[0m\u001b[0mcopy\u001b[0m\u001b[1;33m(\u001b[0m\u001b[0ms\u001b[0m\u001b[1;33m)\u001b[0m\u001b[1;33m\u001b[0m\u001b[0m\n\u001b[0;32m    394\u001b[0m     \u001b[0mm\u001b[0m \u001b[1;33m=\u001b[0m \u001b[0mu\u001b[0m\u001b[1;33m.\u001b[0m\u001b[0mshape\u001b[0m\u001b[1;33m[\u001b[0m\u001b[1;36m0\u001b[0m\u001b[1;33m]\u001b[0m\u001b[1;33m\u001b[0m\u001b[0m\n",
      "\u001b[1;32m/home/zapfack/tools/anaconda2/lib/python2.7/site-packages/numpy/linalg/linalg.pyc\u001b[0m in \u001b[0;36msvd\u001b[1;34m(a, full_matrices, compute_uv)\u001b[0m\n\u001b[0;32m   1357\u001b[0m \u001b[1;33m\u001b[0m\u001b[0m\n\u001b[0;32m   1358\u001b[0m         \u001b[0msignature\u001b[0m \u001b[1;33m=\u001b[0m \u001b[1;34m'D->DdD'\u001b[0m \u001b[1;32mif\u001b[0m \u001b[0misComplexType\u001b[0m\u001b[1;33m(\u001b[0m\u001b[0mt\u001b[0m\u001b[1;33m)\u001b[0m \u001b[1;32melse\u001b[0m \u001b[1;34m'd->ddd'\u001b[0m\u001b[1;33m\u001b[0m\u001b[0m\n\u001b[1;32m-> 1359\u001b[1;33m         \u001b[0mu\u001b[0m\u001b[1;33m,\u001b[0m \u001b[0ms\u001b[0m\u001b[1;33m,\u001b[0m \u001b[0mvt\u001b[0m \u001b[1;33m=\u001b[0m \u001b[0mgufunc\u001b[0m\u001b[1;33m(\u001b[0m\u001b[0ma\u001b[0m\u001b[1;33m,\u001b[0m \u001b[0msignature\u001b[0m\u001b[1;33m=\u001b[0m\u001b[0msignature\u001b[0m\u001b[1;33m,\u001b[0m \u001b[0mextobj\u001b[0m\u001b[1;33m=\u001b[0m\u001b[0mextobj\u001b[0m\u001b[1;33m)\u001b[0m\u001b[1;33m\u001b[0m\u001b[0m\n\u001b[0m\u001b[0;32m   1360\u001b[0m         \u001b[0mu\u001b[0m \u001b[1;33m=\u001b[0m \u001b[0mu\u001b[0m\u001b[1;33m.\u001b[0m\u001b[0mastype\u001b[0m\u001b[1;33m(\u001b[0m\u001b[0mresult_t\u001b[0m\u001b[1;33m,\u001b[0m \u001b[0mcopy\u001b[0m\u001b[1;33m=\u001b[0m\u001b[0mFalse\u001b[0m\u001b[1;33m)\u001b[0m\u001b[1;33m\u001b[0m\u001b[0m\n\u001b[0;32m   1361\u001b[0m         \u001b[0ms\u001b[0m \u001b[1;33m=\u001b[0m \u001b[0ms\u001b[0m\u001b[1;33m.\u001b[0m\u001b[0mastype\u001b[0m\u001b[1;33m(\u001b[0m\u001b[0m_realType\u001b[0m\u001b[1;33m(\u001b[0m\u001b[0mresult_t\u001b[0m\u001b[1;33m)\u001b[0m\u001b[1;33m,\u001b[0m \u001b[0mcopy\u001b[0m\u001b[1;33m=\u001b[0m\u001b[0mFalse\u001b[0m\u001b[1;33m)\u001b[0m\u001b[1;33m\u001b[0m\u001b[0m\n",
      "\u001b[1;32m/home/zapfack/tools/anaconda2/lib/python2.7/site-packages/numpy/linalg/linalg.pyc\u001b[0m in \u001b[0;36m_raise_linalgerror_svd_nonconvergence\u001b[1;34m(err, flag)\u001b[0m\n\u001b[0;32m     97\u001b[0m \u001b[1;33m\u001b[0m\u001b[0m\n\u001b[0;32m     98\u001b[0m \u001b[1;32mdef\u001b[0m \u001b[0m_raise_linalgerror_svd_nonconvergence\u001b[0m\u001b[1;33m(\u001b[0m\u001b[0merr\u001b[0m\u001b[1;33m,\u001b[0m \u001b[0mflag\u001b[0m\u001b[1;33m)\u001b[0m\u001b[1;33m:\u001b[0m\u001b[1;33m\u001b[0m\u001b[0m\n\u001b[1;32m---> 99\u001b[1;33m     \u001b[1;32mraise\u001b[0m \u001b[0mLinAlgError\u001b[0m\u001b[1;33m(\u001b[0m\u001b[1;34m\"SVD did not converge\"\u001b[0m\u001b[1;33m)\u001b[0m\u001b[1;33m\u001b[0m\u001b[0m\n\u001b[0m\u001b[0;32m    100\u001b[0m \u001b[1;33m\u001b[0m\u001b[0m\n\u001b[0;32m    101\u001b[0m \u001b[1;32mdef\u001b[0m \u001b[0mget_linalg_error_extobj\u001b[0m\u001b[1;33m(\u001b[0m\u001b[0mcallback\u001b[0m\u001b[1;33m)\u001b[0m\u001b[1;33m:\u001b[0m\u001b[1;33m\u001b[0m\u001b[0m\n",
      "\u001b[1;31mLinAlgError\u001b[0m: SVD did not converge"
     ]
    }
   ],
   "source": [
    "# import statsmodels.tsa\n",
    "import statsmodels.api as sm\n",
    "# from statsmodels.graphics.api import qqplot\n",
    "arma_mod = sm.tsa.ARMA(ts.diff(), order=(2, 2))\n",
    "arma_mod.fit()\n",
    "sm.tsa.arima_model.ARMAResults(arma_mod)\n"
   ]
  },
  {
   "cell_type": "code",
   "execution_count": null,
   "metadata": {
    "collapsed": false
   },
   "outputs": [],
   "source": [
    "# plt.figure(figsize=(12,8))\n",
    "sm.graphics.tsa.plot_acf(X-np.mean(X), lags=40)\n",
    "# X.shape\n",
    "# sm.graphics.tsa.plot_pacf(X, lags=40)"
   ]
  },
  {
   "cell_type": "code",
   "execution_count": null,
   "metadata": {
    "collapsed": true
   },
   "outputs": [],
   "source": []
  },
  {
   "cell_type": "code",
   "execution_count": null,
   "metadata": {
    "collapsed": false
   },
   "outputs": [],
   "source": [
    "trainTestDF = None\n",
    "trainDF = None\n",
    "otherDF = None\n",
    "\n",
    "# del trainTestDF,trainDF,otherDF"
   ]
  },
  {
   "cell_type": "markdown",
   "metadata": {},
   "source": [
    "## Manipulate the date"
   ]
  },
  {
   "cell_type": "code",
   "execution_count": null,
   "metadata": {
    "collapsed": false
   },
   "outputs": [],
   "source": [
    "trainLablledDF['date']=pd.to_datetime(trainLablledDF['date'],unit='D')"
   ]
  },
  {
   "cell_type": "code",
   "execution_count": null,
   "metadata": {
    "collapsed": true
   },
   "outputs": [],
   "source": [
    "testDF['date']=pd.to_datetime(testDF['date'],unit='D')"
   ]
  },
  {
   "cell_type": "code",
   "execution_count": null,
   "metadata": {
    "collapsed": false
   },
   "outputs": [],
   "source": [
    "trainLablledDF['year'] = trainLablledDF['date'].dt.year\n",
    "trainLablledDF['month'] = trainLablledDF['date'].dt.month\n",
    "trainLablledDF['day'] = trainLablledDF['date'].dt.day\n",
    "trainLablledDF['weekday'] = trainLablledDF['date'].dt.weekday\n",
    "trainLablledDF['week'] = trainLablledDF['date'].dt.week\n",
    "trainLablledDF['n_days'] = trainLablledDF['date'].apply(lambda date: (date - pd.to_datetime(\"1970-01-01\")).days)\n",
    "        \n",
    "trainLablledDF = trainLablledDF.join(pd.get_dummies(trainLablledDF['year'], prefix='y'))\n",
    "trainLablledDF = trainLablledDF.join(pd.get_dummies(trainLablledDF['month'], prefix='m'))\n",
    "trainLablledDF = trainLablledDF.join(pd.get_dummies(trainLablledDF['day'], prefix='d'))\n",
    "trainLablledDF = trainLablledDF.join(pd.get_dummies(trainLablledDF['weekday'], prefix='wd'))\n",
    "trainLablledDF = trainLablledDF.join(pd.get_dummies(trainLablledDF['week'], prefix='w'))\n"
   ]
  },
  {
   "cell_type": "code",
   "execution_count": null,
   "metadata": {
    "collapsed": false
   },
   "outputs": [],
   "source": [
    "testDF['year'] = testDF['date'].dt.year\n",
    "testDF['month'] = testDF['date'].dt.month\n",
    "testDF['day'] = testDF['date'].dt.day\n",
    "testDF['weekday'] = testDF['date'].dt.weekday\n",
    "testDF['week'] = testDF['date'].dt.week\n",
    "testDF['n_days'] = testDF['date'].apply(lambda date: (date - pd.to_datetime(\"1970-01-01\")).days)\n",
    "        \n",
    "testDF = testDF.join(pd.get_dummies(testDF['year'], prefix='y'))\n",
    "testDF = testDF.join(pd.get_dummies(testDF['month'], prefix='m'))\n",
    "testDF = testDF.join(pd.get_dummies(testDF['day'], prefix='d'))\n",
    "testDF = testDF.join(pd.get_dummies(testDF['weekday'], prefix='wd'))\n",
    "testDF = testDF.join(pd.get_dummies(testDF['week'], prefix='w'))"
   ]
  },
  {
   "cell_type": "code",
   "execution_count": null,
   "metadata": {
    "collapsed": true
   },
   "outputs": [],
   "source": [
    "trainLablledDF=trainLablledDF.drop([\"year\",'month','day','weekday','week'],axis=1)"
   ]
  },
  {
   "cell_type": "code",
   "execution_count": null,
   "metadata": {
    "collapsed": true
   },
   "outputs": [],
   "source": [
    "testDF=testDF.drop([\"year\",'month','day','weekday','week'],axis=1)"
   ]
  },
  {
   "cell_type": "markdown",
   "metadata": {},
   "source": [
    "# Suite"
   ]
  },
  {
   "cell_type": "code",
   "execution_count": null,
   "metadata": {
    "collapsed": false
   },
   "outputs": [],
   "source": [
    "# trainDF2=trainLablledDF.drop([\"ID\",'date','product_id'],axis=1)\n",
    "trainLablledDF=trainLablledDF.drop([\"ID\",'date','product_id'],axis=1)"
   ]
  },
  {
   "cell_type": "code",
   "execution_count": null,
   "metadata": {
    "collapsed": false
   },
   "outputs": [],
   "source": [
    "#testDF=testDF.sort_values(by=[\"ID\"],axis=0)"
   ]
  },
  {
   "cell_type": "code",
   "execution_count": null,
   "metadata": {
    "collapsed": true
   },
   "outputs": [],
   "source": [
    "idsFrame=testDF['ID']"
   ]
  },
  {
   "cell_type": "code",
   "execution_count": null,
   "metadata": {
    "collapsed": false
   },
   "outputs": [],
   "source": [
    "idsFrame.head()"
   ]
  },
  {
   "cell_type": "code",
   "execution_count": null,
   "metadata": {
    "collapsed": true
   },
   "outputs": [],
   "source": [
    "# testDF2=testDF.drop([\"ID\",'date','product_id'],axis=1)\n",
    "testDF=testDF.drop([\"ID\",'date','product_id'],axis=1)"
   ]
  },
  {
   "cell_type": "code",
   "execution_count": null,
   "metadata": {
    "collapsed": true
   },
   "outputs": [],
   "source": []
  },
  {
   "cell_type": "markdown",
   "metadata": {},
   "source": [
    "# Attention : ici pour submit"
   ]
  },
  {
   "cell_type": "code",
   "execution_count": 28,
   "metadata": {
    "collapsed": false
   },
   "outputs": [],
   "source": [
    "X_train = trainLablledDF.drop(['TARGET'], axis=1).values\n",
    "y_train = trainLablledDF['TARGET'].values\n",
    "X_test = testDF.values"
   ]
  },
  {
   "cell_type": "code",
   "execution_count": 29,
   "metadata": {
    "collapsed": false
   },
   "outputs": [
    {
     "name": "stdout",
     "output_type": "stream",
     "text": [
      "(613220, 54)\n",
      "(613220,)\n",
      "(614098, 54)\n"
     ]
    }
   ],
   "source": [
    "print X_train.shape\n",
    "print y_train.shape\n",
    "print X_test.shape\n"
   ]
  },
  {
   "cell_type": "code",
   "execution_count": 30,
   "metadata": {
    "collapsed": false
   },
   "outputs": [
    {
     "name": "stderr",
     "output_type": "stream",
     "text": [
      "[0]\ttrain-error:91.370916\n",
      "[1]\ttrain-error:83.549654\n",
      "[2]\ttrain-error:76.513451\n",
      "[3]\ttrain-error:70.192420\n",
      "[4]\ttrain-error:64.447385\n",
      "[5]\ttrain-error:59.239453\n",
      "[6]\ttrain-error:54.527318\n",
      "[7]\ttrain-error:50.244904\n",
      "[8]\ttrain-error:46.374547\n",
      "[9]\ttrain-error:42.836687\n"
     ]
    }
   ],
   "source": [
    "import xgboost as xgb\n",
    "param ={}  \n",
    "param['objective'] = 'reg:linear'\n",
    "param['eta'] = 0.09\n",
    "param['max_depth'] = 100\n",
    "param['silent'] = 1\n",
    "param['nthread'] = 4\n",
    "xg_train = xgb.DMatrix( X_train, label=y_train)\n",
    "xg_test = xgb.DMatrix(X_test)\n",
    "\n",
    "def evalerror(preds,xg_train):\n",
    "    y_test = xg_train.get_label()\n",
    "    return 'error',  np.mean(np.abs((preds-y_test ) / y_test)) * 100\n",
    "\n",
    "\n",
    "watchlist = [ (xg_train,'train') ]\n",
    "num_round = 10\n",
    "bst = xgb.train(param, xg_train, num_round, watchlist ,feval=evalerror);\n",
    "#bst = xgb.train(param, xg_train, num_round, watchlist );\n",
    "# get prediction\n",
    "y_pred = bst.predict( xg_test );\n",
    "#print np.mean(np.abs((y_pred-y_test ) / y_test)) * 100\n",
    "#nround = 50\n",
    "#bst = xgb(param=param, data = X_train, label = y_train, nrounds=nround)\n",
    "#y_pred = bst.predict( xg_test );"
   ]
  },
  {
   "cell_type": "code",
   "execution_count": 31,
   "metadata": {
    "collapsed": false
   },
   "outputs": [],
   "source": [
    "outFrame=pd.DataFrame(y_pred, columns=['TARGET'])\n",
    "outFrame=pd.concat([idsFrame, outFrame], axis=1)\n",
    "outFrame.to_csv('out.csv',index=False)"
   ]
  },
  {
   "cell_type": "markdown",
   "metadata": {},
   "source": [
    "# Attention : ici pour test"
   ]
  },
  {
   "cell_type": "code",
   "execution_count": null,
   "metadata": {
    "collapsed": false
   },
   "outputs": [],
   "source": [
    "from sklearn.cross_validation import train_test_split\n",
    "\n",
    "X_train, X_test, y_train, y_test = train_test_split(\n",
    "    X_train, y_train, test_size=0.3, random_state=0)\n",
    "print X_train.shape\n",
    "print y_train.shape"
   ]
  },
  {
   "cell_type": "code",
   "execution_count": null,
   "metadata": {
    "collapsed": false
   },
   "outputs": [],
   "source": [
    "import xgboost as xgb\n",
    "param ={}  \n",
    "param['objective'] = 'reg:linear'\n",
    "param['eta'] = 0.09\n",
    "param['max_depth'] = 100\n",
    "param['silent'] = 1\n",
    "param['nthread'] = 4\n",
    "xg_train = xgb.DMatrix( X_train, label=y_train)\n",
    "xg_test = xgb.DMatrix(X_test, label=y_test)\n",
    "\n",
    "def evalerror(preds,xg_train):\n",
    "    y_test = xg_train.get_label()\n",
    "    return 'error',  np.mean(np.abs((preds-y_test ) / y_test)) * 100\n",
    "\n",
    "\n",
    "watchlist = [ (xg_train,'train') ]\n",
    "num_round = 10\n",
    "bst = xgb.train(param, xg_train, num_round, watchlist ,feval=evalerror);\n",
    "#bst = xgb.train(param, xg_train, num_round, watchlist );\n",
    "# get prediction\n",
    "y_pred = bst.predict( xg_test );\n",
    "#print np.mean(np.abs((y_pred-y_test ) / y_test)) * 100\n",
    "#nround = 50\n",
    "#bst = xgb(param=param, data = X_train, label = y_train, nrounds=nround)\n",
    "#y_pred = bst.predict( xg_test );"
   ]
  },
  {
   "cell_type": "code",
   "execution_count": 34,
   "metadata": {
    "collapsed": false
   },
   "outputs": [
    {
     "name": "stdout",
     "output_type": "stream",
     "text": [
      "86.1092972161\n"
     ]
    }
   ],
   "source": [
    "print np.mean(np.abs((y_pred-y_test ) / y_test)) * 100"
   ]
  },
  {
   "cell_type": "code",
   "execution_count": 36,
   "metadata": {
    "collapsed": false
   },
   "outputs": [
    {
     "name": "stdout",
     "output_type": "stream",
     "text": [
      "418.426282966\n"
     ]
    }
   ],
   "source": [
    "from sklearn.ensemble import GradientBoostingRegressor\n",
    "reg = GradientBoostingRegressor(n_estimators=40,random_state=50)\n",
    "reg.fit(X_train,y_train)\n",
    "y_predict = reg.predict(X_test)\n",
    "print np.mean(np.abs((y_predict-y_test ) / y_test)) * 100"
   ]
  },
  {
   "cell_type": "code",
   "execution_count": 54,
   "metadata": {
    "collapsed": false
   },
   "outputs": [
    {
     "name": "stdout",
     "output_type": "stream",
     "text": [
      "481.723101483\n"
     ]
    },
    {
     "name": "stderr",
     "output_type": "stream",
     "text": [
      "/home/zapfack/tools/anaconda2/lib/python2.7/site-packages/sklearn/linear_model/coordinate_descent.py:466: ConvergenceWarning: Objective did not converge. You might want to increase the number of iterations\n",
      "  ConvergenceWarning)\n"
     ]
    },
    {
     "data": {
      "text/plain": [
       "(429254,)"
      ]
     },
     "execution_count": 54,
     "metadata": {},
     "output_type": "execute_result"
    }
   ],
   "source": [
    "from sklearn.ensemble import RandomForestClassifier\n",
    "reg = RandomForestClassifier(n_estimators=40,n_jobs=-1)\n",
    "from sklearn.linear_model import Ridge, Lasso\n",
    "reg =Lasso(alpha= 1)\n",
    "reg.fit(X_train,y_train)\n",
    "y_predict = reg.predict(X_test)\n",
    "print np.mean(np.abs((y_predict-y_test ) / y_test)) * 100\n",
    "y_train.shape"
   ]
  },
  {
   "cell_type": "code",
   "execution_count": null,
   "metadata": {
    "collapsed": true
   },
   "outputs": [],
   "source": []
  }
 ],
 "metadata": {
  "kernelspec": {
   "display_name": "Python 2",
   "language": "python",
   "name": "python2"
  },
  "language_info": {
   "codemirror_mode": {
    "name": "ipython",
    "version": 2
   },
   "file_extension": ".py",
   "mimetype": "text/x-python",
   "name": "python",
   "nbconvert_exporter": "python",
   "pygments_lexer": "ipython2",
   "version": "2.7.11"
  }
 },
 "nbformat": 4,
 "nbformat_minor": 0
}
