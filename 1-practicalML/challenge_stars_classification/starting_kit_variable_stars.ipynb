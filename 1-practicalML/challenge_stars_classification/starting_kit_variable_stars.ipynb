{
 "cells": [
  {
   "cell_type": "markdown",
   "metadata": {},
   "source": [
    "# <a href=\"http://www.datascience-paris-saclay.fr\">Paris Saclay Center for Data Science</a>\n",
    "# RAMP on variable star type prediction\n",
    "\n",
    "<i> Balázs Kégl (LAL/CNRS), Marc Moniez (LAL/CNRS), Alex Gramfort (LTCI/Telecom ParisTech), Djalel Benbouzid (UPMC), Mehdi Cherti (LAL/CNRS) </i>"
   ]
  },
  {
   "cell_type": "markdown",
   "metadata": {},
   "source": [
    "## Introduction\n",
    "\n",
    "### Variable stars\n",
    "\n",
    "Most stars emit light steadily in time, but a small fraction of them has a variable <i>light curve</i>: light emission versus time. We call them <a href = \"http://en.wikipedia.org/wiki/Variable_star\">variable stars</a>. The light curves are usually <a href=\"http://en.wikipedia.org/wiki/Periodic_function\">periodic</a> and highly regular. There are essentially two reasons why light emission can vary. First, the star itself can be <a href=\"https://www.youtube.com/watch?v=sXJBrRmHPj8\">oscillating</a>, so its light emission varies in time. Second, the star that seems a single point at Earth (because of our large distance) is actually a <a href=\"http://en.wikipedia.org/wiki/Binary_system\"><i>binary system</i></a>: two stars that <a href=\"https://www.youtube.com/watch?v=1kFFwHkxBiI\">orbit around their common center of gravity</a>. When the <a href=\"http://en.wikipedia.org/wiki/Orbital_plane_%28astronomy%29\">orbital plane</a> is parallel to our line of view, the stars <a href=\"http://csep10.phys.utk.edu/astr162/lect/binaries/eclipsing.html\">eclipse each other</a> periodically, creating a light curve with a <a href=\"http://www.dlr.de/en/desktopdefault.aspx/tabid-5170/8702_read-20474/\">charateristic signature</a>. Identifying, classifying, and analyzing variable stars are hugely important for calibrating distances, and making these analyses automatic will be crucial in the upcoming sky survey projects such as <a href=\"http://www.lsst.org/lsst/\">LSST</a>.\n",
    "\n",
    "### The EROS1 database, a catalog of light curves \n",
    "\n",
    "Our data is coming from the <a href=\"http://eros.in2p3.fr/\">EROS1 project</a> that took data between 1990 and 1994.\n",
    "400 <a href=\"http://www.atnf.csiro.au/outreach/education/senior/astrophysics/photometry_photographicastro.html\">photographic plates</a> were taken of the <a href=\"http://en.wikipedia.org/wiki/Large_Magellanic_Cloud\">Large Magellanic Cloud</a> with the <a href=\"http://www.eso.org/public/teles-instr/lasilla/1mschmidt/\">ESO-Schmidt 1m telescope</a>. Each plate covers the same $5^\\circ \\times 5^\\circ$ field, centered at $\\alpha  = 5h18m43s$, $\\delta = −69d42m17s$ in the <a href=\"http://en.wikipedia.org/wiki/Celestial_coordinate_system\">celestial coordinate system</a>. Photos were taken in two <a href = \"http://science-edu.larc.nasa.gov/EDDOCS/Wavelengths_for_Colors.html\">frequency bands</a> (red: 630nm; blue: 385nm), digitized at the <a href=\"http://en.wikipedia.org/wiki/Paris_Observatory\">Observatoire de Paris</a>, and analyzed at the <a href=\"http://cc.in2p3.fr/\">IN2P3 Computing Center</a>.\n",
    "\n",
    "### Selecting variable stars\n",
    "\n",
    "The full catalog contains 8 million objects. We estimated the probability of a star being stable using an in-house algorithm and selected the $\\simeq 1\\%$ least stable stars. The light curve of each selected star was then visually inspected, and the star was either declared stable or assigned a variability type and a quality index. The variability types are <a href=\"http://en.wikipedia.org/wiki/Binary_star#Eclipsing_binaries\">eclipsing binary</a>, <a href=\"http://en.wikipedia.org/wiki/Cepheid_variable\">Cepheid</a>, <a href=\"http://en.wikipedia.org/wiki/RR_Lyrae_variable\">RR-Lyrae</a>, <a href=\"http://en.wikipedia.org/wiki/Mira_variable\">Mira</a>, and other (the variability is clearly established, but the type is unclear). The quality index was visually estimated from 1 (lowest signal to background ratio) to 3 (best signal to background ratio). A total of 22802 variable objects were found that include 9046 RR-Lyrae, 2758 Cepheids, 1596 eclipsing binaries, 890 Miras, and 8512 unclassified objects. About 10% of the data was lost in the data archeology step that included converting the measurements from a native <a href=\"http://en.wikipedia.org/wiki/Physics_Analysis_Workstation\">PAW</a> format to csv, giving us a total of 19429 stars.\n",
    "\n",
    "### Selecting data\n",
    "\n",
    "For the RAMP, we decided to drop all instances in the \"unclassified object\" category since the interpretation of this type was unclear. We then randomly selected 30% of the data for training, giving us 3641 training instances.\n",
    "\n",
    "The data consists of two files, <a href=\"https://drive.google.com/file/d/0BzwKr6zuOkdRRWt5bnYyc2JNS0U/view?usp=sharing\">train.csv</a> contains \"static\" features in a classical row-wise csv table, and <a href=\"https://drive.google.com/file/d/0BzwKr6zuOkdRMXVuRE9FSXNjZTQ/view?usp=sharing\">train_varlength_features.csv.gz</a> is a table that contains all the time series. The contents and the format of both files are explained below."
   ]
  },
  {
   "cell_type": "markdown",
   "metadata": {},
   "source": [
    "# Exploratory data analysis"
   ]
  },
  {
   "cell_type": "code",
   "execution_count": 2,
   "metadata": {
    "collapsed": false
   },
   "outputs": [],
   "source": [
    "%matplotlib inline\n",
    "import numpy as np\n",
    "import pandas as pd\n",
    "import matplotlib.pyplot as plt\n",
    "from itertools import chain\n",
    "pd.set_option('display.max_columns', None)"
   ]
  },
  {
   "cell_type": "markdown",
   "metadata": {},
   "source": [
    "## Fetch the data and load it in pandas"
   ]
  },
  {
   "cell_type": "code",
   "execution_count": 3,
   "metadata": {
    "collapsed": false
   },
   "outputs": [],
   "source": [
    "data = pd.read_csv(\"data/public/train.csv\", index_col=0)"
   ]
  },
  {
   "cell_type": "code",
   "execution_count": 4,
   "metadata": {
    "collapsed": false
   },
   "outputs": [
    {
     "data": {
      "text/plain": [
       "(3641, 23)"
      ]
     },
     "execution_count": 4,
     "metadata": {},
     "output_type": "execute_result"
    }
   ],
   "source": [
    "data.shape"
   ]
  },
  {
   "cell_type": "markdown",
   "metadata": {},
   "source": [
    "## The static features\n",
    "\n",
    "<span style=\"color:red\">Red variables</span> are ids, labels, or other human-annotated features, so they should not be used as input in the classification. <span style=\"color:lightblue\">Light blue variables</span> are legal but not likely to contribute information to the classification. Black variables are definitely discriminative.\n",
    "\n",
    "<ul>\n",
    "    <li> <code><b><span style=\"color:red\">patch_id</span></b></code>: The catalogue is organized by tiles corresponding to $1$cm$^2$ patches on the plates, this is their id.\n",
    "    <li> <code><b><span style=\"color:red\">star_id_b, star_id_r</span></b></code>: The id of the star within the patch. <code>patch_id</code> and <code>star_id_b</code> or <code>star_id_r</code> identify the stars uniquely, and we use <code>[patch_id]_[star_id_b]</code> for indexing the stars in the pandas table.\n",
    "    <li> <code><b>magnitude_b, magnitude_r</b></code>: The average apparent luminosity of the star (in two frequency bands). <a href=\"http://www.astro-tom.com/technical_data/magnitude_scale.htm\">Magnitude</a> is a logarithmic measure, and the higher it is, the lower the apparent luminosity is.\n",
    "    <li> <code><b><span style=\"color:lightblue\">asc_d, asc_m, asc_s</span></b></code>: <a href=\"http://en.wikipedia.org/wiki/Celestial_coordinate_system\">Celestial</a> <a href=\"http://en.wikipedia.org/wiki/Right_ascension\">right ascension</a> (coordinate) of the star, measured in degrees, minutes, and seconds, respectively.\n",
    "    <li> <code><b><span style=\"color:lightblue\">dec_d, dec_m, dec_s</span></b></code>: <a href=\"http://en.wikipedia.org/wiki/Celestial_coordinate_system\">Celestial</a> <a href=\"http://en.wikipedia.org/wiki/Declination\">declination</a> (coordinate) of the star, measured in degrees, minutes, and seconds, respectively.\n",
    "    <li> <code><b><span style=\"color:black\">period</span></b></code>: the estimated period of the light curve. For the correct period, it should be divided by <code>div_period</code>\n",
    "    <li> <code><b><span style=\"color:lightblue\">frequency</span></b></code>: $1/$<code>period</code>, so it is redundant.\n",
    "    <li> <code><b><span style=\"color:lightblue\">num_points_good_b, num_points_good_r</span></b></code>: Number of good light curve measurements (some measurements can be corrupted). \n",
    "    <li> <code><b><span style=\"color:black\">asym_b, asym_r</span></b></code>: Unknown semantics.\n",
    "    <li> <code><b><span style=\"color:black\">log_p_not_variable</span></b></code>: Logarithm of the estimated probability that the star is stable.\n",
    "    <li> <code><b><span style=\"color:black\">sigma_flux_b, sigma_flux_r</span></b></code>: The square root of the total variance of the light measurements (indicating the amplitude of the variability).\n",
    "    <li> <code><b><span style=\"color:red\">type</span></b></code>: The label to predict.\n",
    "    <li> <code><b><span style=\"color:red \">quality</span></b></code>: Human-annotated measure of the quality of the time curve. The higher the better.\n",
    "    <li> <code><b><span style=\"color:black \">div_period</span></b></code>: The algorithm that estimates the <code>period</code> sometimes finds a multiple of the period. These cases were human-detected, and the divisor was recorded. In principle this variable is not available automatically as an observable, but we are confident that it could be obtained automatically, so we allow it as an input.\n",
    "</ul> "
   ]
  },
  {
   "cell_type": "code",
   "execution_count": 5,
   "metadata": {
    "collapsed": false
   },
   "outputs": [
    {
     "data": {
      "text/html": [
       "<div>\n",
       "<table border=\"1\" class=\"dataframe\">\n",
       "  <thead>\n",
       "    <tr style=\"text-align: right;\">\n",
       "      <th></th>\n",
       "      <th>patch_id</th>\n",
       "      <th>star_id_b</th>\n",
       "      <th>star_id_r</th>\n",
       "      <th>magnitude_b</th>\n",
       "      <th>magnitude_r</th>\n",
       "      <th>asc_d</th>\n",
       "      <th>asc_m</th>\n",
       "      <th>asc_s</th>\n",
       "      <th>dec_d</th>\n",
       "      <th>dec_m</th>\n",
       "      <th>dec_s</th>\n",
       "      <th>period</th>\n",
       "      <th>frequency</th>\n",
       "      <th>num_points_good_b</th>\n",
       "      <th>num_points_good_r</th>\n",
       "      <th>asym_b</th>\n",
       "      <th>asym_r</th>\n",
       "      <th>log_p_not_variable</th>\n",
       "      <th>sigma_flux_b</th>\n",
       "      <th>sigma_flux_r</th>\n",
       "      <th>type</th>\n",
       "      <th>quality</th>\n",
       "      <th>div_period</th>\n",
       "    </tr>\n",
       "  </thead>\n",
       "  <tbody>\n",
       "    <tr>\n",
       "      <th>54_3198</th>\n",
       "      <td>54</td>\n",
       "      <td>3198</td>\n",
       "      <td>3327</td>\n",
       "      <td>19.0780</td>\n",
       "      <td>18.1298</td>\n",
       "      <td>5</td>\n",
       "      <td>48</td>\n",
       "      <td>19.58</td>\n",
       "      <td>-70</td>\n",
       "      <td>36</td>\n",
       "      <td>16.84</td>\n",
       "      <td>0.610837</td>\n",
       "      <td>1.637100</td>\n",
       "      <td>123</td>\n",
       "      <td>122</td>\n",
       "      <td>2.617650</td>\n",
       "      <td>0.794118</td>\n",
       "      <td>-2.760590</td>\n",
       "      <td>41.4272</td>\n",
       "      <td>88.0977</td>\n",
       "      <td>3</td>\n",
       "      <td>2</td>\n",
       "      <td>1</td>\n",
       "    </tr>\n",
       "    <tr>\n",
       "      <th>578_2223</th>\n",
       "      <td>578</td>\n",
       "      <td>2223</td>\n",
       "      <td>2598</td>\n",
       "      <td>19.0282</td>\n",
       "      <td>18.8067</td>\n",
       "      <td>5</td>\n",
       "      <td>5</td>\n",
       "      <td>52.85</td>\n",
       "      <td>-69</td>\n",
       "      <td>8</td>\n",
       "      <td>40.12</td>\n",
       "      <td>1.913020</td>\n",
       "      <td>0.522734</td>\n",
       "      <td>119</td>\n",
       "      <td>120</td>\n",
       "      <td>1.125000</td>\n",
       "      <td>0.600000</td>\n",
       "      <td>-2.237330</td>\n",
       "      <td>39.5553</td>\n",
       "      <td>45.3581</td>\n",
       "      <td>3</td>\n",
       "      <td>2</td>\n",
       "      <td>6</td>\n",
       "    </tr>\n",
       "    <tr>\n",
       "      <th>242_3046</th>\n",
       "      <td>242</td>\n",
       "      <td>3046</td>\n",
       "      <td>3274</td>\n",
       "      <td>17.8534</td>\n",
       "      <td>15.6034</td>\n",
       "      <td>5</td>\n",
       "      <td>31</td>\n",
       "      <td>26.46</td>\n",
       "      <td>-69</td>\n",
       "      <td>14</td>\n",
       "      <td>32.21</td>\n",
       "      <td>0.996323</td>\n",
       "      <td>1.003690</td>\n",
       "      <td>102</td>\n",
       "      <td>97</td>\n",
       "      <td>1.372090</td>\n",
       "      <td>1.365850</td>\n",
       "      <td>-3.580450</td>\n",
       "      <td>118.8270</td>\n",
       "      <td>939.3540</td>\n",
       "      <td>3</td>\n",
       "      <td>1</td>\n",
       "      <td>1</td>\n",
       "    </tr>\n",
       "    <tr>\n",
       "      <th>183_521</th>\n",
       "      <td>183</td>\n",
       "      <td>521</td>\n",
       "      <td>484</td>\n",
       "      <td>19.5333</td>\n",
       "      <td>19.3503</td>\n",
       "      <td>5</td>\n",
       "      <td>36</td>\n",
       "      <td>22.17</td>\n",
       "      <td>-68</td>\n",
       "      <td>38</td>\n",
       "      <td>58.52</td>\n",
       "      <td>3.116680</td>\n",
       "      <td>0.320854</td>\n",
       "      <td>124</td>\n",
       "      <td>120</td>\n",
       "      <td>0.823529</td>\n",
       "      <td>0.518987</td>\n",
       "      <td>-1.928280</td>\n",
       "      <td>23.8917</td>\n",
       "      <td>26.5069</td>\n",
       "      <td>3</td>\n",
       "      <td>1</td>\n",
       "      <td>8</td>\n",
       "    </tr>\n",
       "    <tr>\n",
       "      <th>78_8616</th>\n",
       "      <td>78</td>\n",
       "      <td>8616</td>\n",
       "      <td>8899</td>\n",
       "      <td>19.3348</td>\n",
       "      <td>18.4437</td>\n",
       "      <td>5</td>\n",
       "      <td>45</td>\n",
       "      <td>26.50</td>\n",
       "      <td>-70</td>\n",
       "      <td>1</td>\n",
       "      <td>24.55</td>\n",
       "      <td>0.621602</td>\n",
       "      <td>1.608750</td>\n",
       "      <td>122</td>\n",
       "      <td>122</td>\n",
       "      <td>0.648649</td>\n",
       "      <td>1.000000</td>\n",
       "      <td>-0.007193</td>\n",
       "      <td>28.7311</td>\n",
       "      <td>66.2163</td>\n",
       "      <td>1</td>\n",
       "      <td>0</td>\n",
       "      <td>1</td>\n",
       "    </tr>\n",
       "  </tbody>\n",
       "</table>\n",
       "</div>"
      ],
      "text/plain": [
       "          patch_id  star_id_b  star_id_r  magnitude_b  magnitude_r  asc_d  \\\n",
       "54_3198         54       3198       3327      19.0780      18.1298      5   \n",
       "578_2223       578       2223       2598      19.0282      18.8067      5   \n",
       "242_3046       242       3046       3274      17.8534      15.6034      5   \n",
       "183_521        183        521        484      19.5333      19.3503      5   \n",
       "78_8616         78       8616       8899      19.3348      18.4437      5   \n",
       "\n",
       "          asc_m  asc_s  dec_d  dec_m  dec_s    period  frequency  \\\n",
       "54_3198      48  19.58    -70     36  16.84  0.610837   1.637100   \n",
       "578_2223      5  52.85    -69      8  40.12  1.913020   0.522734   \n",
       "242_3046     31  26.46    -69     14  32.21  0.996323   1.003690   \n",
       "183_521      36  22.17    -68     38  58.52  3.116680   0.320854   \n",
       "78_8616      45  26.50    -70      1  24.55  0.621602   1.608750   \n",
       "\n",
       "          num_points_good_b  num_points_good_r    asym_b    asym_r  \\\n",
       "54_3198                 123                122  2.617650  0.794118   \n",
       "578_2223                119                120  1.125000  0.600000   \n",
       "242_3046                102                 97  1.372090  1.365850   \n",
       "183_521                 124                120  0.823529  0.518987   \n",
       "78_8616                 122                122  0.648649  1.000000   \n",
       "\n",
       "          log_p_not_variable  sigma_flux_b  sigma_flux_r  type  quality  \\\n",
       "54_3198            -2.760590       41.4272       88.0977     3        2   \n",
       "578_2223           -2.237330       39.5553       45.3581     3        2   \n",
       "242_3046           -3.580450      118.8270      939.3540     3        1   \n",
       "183_521            -1.928280       23.8917       26.5069     3        1   \n",
       "78_8616            -0.007193       28.7311       66.2163     1        0   \n",
       "\n",
       "          div_period  \n",
       "54_3198            1  \n",
       "578_2223           6  \n",
       "242_3046           1  \n",
       "183_521            8  \n",
       "78_8616            1  "
      ]
     },
     "execution_count": 5,
     "metadata": {},
     "output_type": "execute_result"
    }
   ],
   "source": [
    "data.head()"
   ]
  },
  {
   "cell_type": "markdown",
   "metadata": {},
   "source": [
    "## The labels"
   ]
  },
  {
   "cell_type": "code",
   "execution_count": 6,
   "metadata": {
    "collapsed": false
   },
   "outputs": [
    {
     "data": {
      "text/html": [
       "<div>\n",
       "<table border=\"1\" class=\"dataframe\">\n",
       "  <thead>\n",
       "    <tr style=\"text-align: right;\">\n",
       "      <th></th>\n",
       "      <th>binary</th>\n",
       "      <th>cepheid</th>\n",
       "      <th>rr_lyrae</th>\n",
       "      <th>mira</th>\n",
       "    </tr>\n",
       "  </thead>\n",
       "  <tbody>\n",
       "    <tr>\n",
       "      <th>labels</th>\n",
       "      <td>1</td>\n",
       "      <td>2</td>\n",
       "      <td>3</td>\n",
       "      <td>4</td>\n",
       "    </tr>\n",
       "    <tr>\n",
       "      <th>num_instances</th>\n",
       "      <td>439</td>\n",
       "      <td>736</td>\n",
       "      <td>2231</td>\n",
       "      <td>235</td>\n",
       "    </tr>\n",
       "  </tbody>\n",
       "</table>\n",
       "</div>"
      ],
      "text/plain": [
       "               binary  cepheid  rr_lyrae  mira\n",
       "labels              1        2         3     4\n",
       "num_instances     439      736      2231   235"
      ]
     },
     "execution_count": 6,
     "metadata": {},
     "output_type": "execute_result"
    }
   ],
   "source": [
    "labels = np.sort(data['type'].unique())\n",
    "label_names = ['binary', 'cepheid', 'rr_lyrae', 'mira']\n",
    "pd.DataFrame([labels, [data[data['type'] == label].shape[0] for label in labels]], \n",
    "             columns=label_names, \n",
    "             index=[\"labels\", \"num_instances\"])"
   ]
  },
  {
   "cell_type": "markdown",
   "metadata": {},
   "source": [
    "## Some classwise histograms and scatterplots"
   ]
  },
  {
   "cell_type": "code",
   "execution_count": 7,
   "metadata": {
    "collapsed": false
   },
   "outputs": [],
   "source": [
    "colors = ['r', 'b', 'g', 'm']\n",
    "def plot_classwise_normalized(feature, bins=[]):\n",
    "    if bins == []:\n",
    "        bins = np.linspace(data[feature].min(), data[feature].max(), 15)\n",
    "    for label, color in zip(labels, colors):\n",
    "        plt.hist(data[data['type'] == label][feature].values, normed=True, bins=bins, \n",
    "                 alpha = 0.5, color = color)"
   ]
  },
  {
   "cell_type": "code",
   "execution_count": 8,
   "metadata": {
    "collapsed": false
   },
   "outputs": [
    {
     "data": {
      "image/png": "[encoded data removed]",
      "text/plain": [
       "<matplotlib.figure.Figure at 0x109193bd0>"
      ]
     },
     "metadata": {},
     "output_type": "display_data"
    }
   ],
   "source": [
    "plot_classwise_normalized('period')"
   ]
  },
  {
   "cell_type": "code",
   "execution_count": 9,
   "metadata": {
    "collapsed": false
   },
   "outputs": [
    {
     "data": {
      "image/png": "[encoded data removed]",
      "text/plain": [
       "<matplotlib.figure.Figure at 0x109193e10>"
      ]
     },
     "metadata": {},
     "output_type": "display_data"
    }
   ],
   "source": [
    "plot_classwise_normalized('period', bins=np.linspace(0, 50, 15))"
   ]
  },
  {
   "cell_type": "markdown",
   "metadata": {},
   "source": [
    "Observe the aliasing below."
   ]
  },
  {
   "cell_type": "code",
   "execution_count": 10,
   "metadata": {
    "collapsed": false
   },
   "outputs": [
    {
     "data": {
      "image/png": "[encoded data removed]",
      "text/plain": [
       "<matplotlib.figure.Figure at 0x109acde50>"
      ]
     },
     "metadata": {},
     "output_type": "display_data"
    }
   ],
   "source": [
    "plot_classwise_normalized('period', bins=np.linspace(0, 5, 15))"
   ]
  },
  {
   "cell_type": "code",
   "execution_count": 11,
   "metadata": {
    "collapsed": true
   },
   "outputs": [],
   "source": [
    "data['real_period'] = data['period'] / data['div_period']"
   ]
  },
  {
   "cell_type": "code",
   "execution_count": 12,
   "metadata": {
    "collapsed": false
   },
   "outputs": [
    {
     "data": {
      "image/png": "[encoded data removed]",
      "text/plain": [
       "<matplotlib.figure.Figure at 0x109817550>"
      ]
     },
     "metadata": {},
     "output_type": "display_data"
    }
   ],
   "source": [
    "plot_classwise_normalized('real_period')"
   ]
  },
  {
   "cell_type": "code",
   "execution_count": 13,
   "metadata": {
    "collapsed": false
   },
   "outputs": [
    {
     "data": {
      "image/png": "[encoded data removed]",
      "text/plain": [
       "<matplotlib.figure.Figure at 0x10a62d050>"
      ]
     },
     "metadata": {},
     "output_type": "display_data"
    }
   ],
   "source": [
    "plot_classwise_normalized('real_period', bins=np.linspace(0, 50, 15))"
   ]
  },
  {
   "cell_type": "code",
   "execution_count": 14,
   "metadata": {
    "collapsed": false
   },
   "outputs": [
    {
     "data": {
      "image/png": "[encoded data removed]",
      "text/plain": [
       "<matplotlib.figure.Figure at 0x10a80fd90>"
      ]
     },
     "metadata": {},
     "output_type": "display_data"
    }
   ],
   "source": [
    "plot_classwise_normalized('real_period', bins=np.linspace(0, 5, 15))"
   ]
  },
  {
   "cell_type": "code",
   "execution_count": 15,
   "metadata": {
    "collapsed": false
   },
   "outputs": [
    {
     "data": {
      "image/png": "[encoded data removed]",
      "text/plain": [
       "<matplotlib.figure.Figure at 0x10a712210>"
      ]
     },
     "metadata": {},
     "output_type": "display_data"
    }
   ],
   "source": [
    "plot_classwise_normalized('magnitude_b')"
   ]
  },
  {
   "cell_type": "code",
   "execution_count": 16,
   "metadata": {
    "collapsed": false
   },
   "outputs": [
    {
     "data": {
      "image/png": "[encoded data removed]",
      "text/plain": [
       "<matplotlib.figure.Figure at 0x10a15ae90>"
      ]
     },
     "metadata": {},
     "output_type": "display_data"
    }
   ],
   "source": [
    "plot_classwise_normalized('magnitude_r')"
   ]
  },
  {
   "cell_type": "code",
   "execution_count": 17,
   "metadata": {
    "collapsed": false
   },
   "outputs": [
    {
     "data": {
      "image/png": "[encoded data removed]",
      "text/plain": [
       "<matplotlib.figure.Figure at 0x10394c090>"
      ]
     },
     "metadata": {},
     "output_type": "display_data"
    }
   ],
   "source": [
    "plot_classwise_normalized('asym_b')"
   ]
  },
  {
   "cell_type": "code",
   "execution_count": 18,
   "metadata": {
    "collapsed": false
   },
   "outputs": [
    {
     "data": {
      "image/png": "[encoded data removed]",
      "text/plain": [
       "<matplotlib.figure.Figure at 0x10a720f90>"
      ]
     },
     "metadata": {},
     "output_type": "display_data"
    }
   ],
   "source": [
    "plot_classwise_normalized('asym_r')"
   ]
  },
  {
   "cell_type": "code",
   "execution_count": 19,
   "metadata": {
    "collapsed": false
   },
   "outputs": [
    {
     "data": {
      "image/png": "[encoded data removed]",
      "text/plain": [
       "<matplotlib.figure.Figure at 0x109cbb050>"
      ]
     },
     "metadata": {},
     "output_type": "display_data"
    }
   ],
   "source": [
    "plot_classwise_normalized('sigma_flux_b')"
   ]
  },
  {
   "cell_type": "code",
   "execution_count": 20,
   "metadata": {
    "collapsed": false
   },
   "outputs": [
    {
     "data": {
      "image/png": "[encoded data removed]",
      "text/plain": [
       "<matplotlib.figure.Figure at 0x109c30ad0>"
      ]
     },
     "metadata": {},
     "output_type": "display_data"
    }
   ],
   "source": [
    "plot_classwise_normalized('sigma_flux_b', bins=np.linspace(0, 1000, 15))"
   ]
  },
  {
   "cell_type": "code",
   "execution_count": 21,
   "metadata": {
    "collapsed": false
   },
   "outputs": [
    {
     "data": {
      "image/png": "[encoded data removed]",
      "text/plain": [
       "<matplotlib.figure.Figure at 0x109f87d50>"
      ]
     },
     "metadata": {},
     "output_type": "display_data"
    }
   ],
   "source": [
    "plot_classwise_normalized('sigma_flux_b', bins=np.linspace(0, 100, 15))"
   ]
  },
  {
   "cell_type": "code",
   "execution_count": 22,
   "metadata": {
    "collapsed": false
   },
   "outputs": [
    {
     "data": {
      "image/png": "[encoded data removed]",
      "text/plain": [
       "<matplotlib.figure.Figure at 0x109f90950>"
      ]
     },
     "metadata": {},
     "output_type": "display_data"
    }
   ],
   "source": [
    "plot_classwise_normalized('sigma_flux_r')"
   ]
  },
  {
   "cell_type": "code",
   "execution_count": 23,
   "metadata": {
    "collapsed": false
   },
   "outputs": [
    {
     "data": {
      "image/png": "[encoded data removed]",
      "text/plain": [
       "<matplotlib.figure.Figure at 0x109f40950>"
      ]
     },
     "metadata": {},
     "output_type": "display_data"
    }
   ],
   "source": [
    "plot_classwise_normalized('sigma_flux_r', bins=np.linspace(0, 1000, 15))"
   ]
  },
  {
   "cell_type": "code",
   "execution_count": 24,
   "metadata": {
    "collapsed": false
   },
   "outputs": [
    {
     "data": {
      "image/png": "[encoded data removed]",
      "text/plain": [
       "<matplotlib.figure.Figure at 0x1097adb10>"
      ]
     },
     "metadata": {},
     "output_type": "display_data"
    }
   ],
   "source": [
    "plot_classwise_normalized('sigma_flux_r', bins=np.linspace(0, 100, 15))"
   ]
  },
  {
   "cell_type": "code",
   "execution_count": 25,
   "metadata": {
    "collapsed": false
   },
   "outputs": [
    {
     "data": {
      "image/png": "[encoded data removed]",
      "text/plain": [
       "<matplotlib.figure.Figure at 0x109ce6a10>"
      ]
     },
     "metadata": {},
     "output_type": "display_data"
    }
   ],
   "source": [
    "plot_classwise_normalized('log_p_not_variable')"
   ]
  },
  {
   "cell_type": "code",
   "execution_count": 26,
   "metadata": {
    "collapsed": false
   },
   "outputs": [],
   "source": [
    "colors = ['r', 'b', 'g', 'm']\n",
    "def plot_classwise_scatter(feature1, feature2, range1=None, range2=None):\n",
    "    if range1 == None:\n",
    "        range1 = [data[feature1].min(), data[feature1].max()]\n",
    "    if range2 == None:\n",
    "        range2 = [data[feature2].min(), data[feature2].max()]\n",
    "    for label, color in zip(labels, colors):\n",
    "        plt.xlim(range1[0], range1[1])\n",
    "        plt.ylim(range2[0], range2[1])\n",
    "        plt.scatter(data[data['type'] == label][feature1], \n",
    "                    data[data['type'] == label][feature2],\n",
    "            alpha=0.3, s=80, c=color, marker='.');"
   ]
  },
  {
   "cell_type": "code",
   "execution_count": 27,
   "metadata": {
    "collapsed": false
   },
   "outputs": [
    {
     "name": "stderr",
     "output_type": "stream",
     "text": [
      "/Users/kegl/anaconda/lib/python2.7/site-packages/matplotlib/collections.py:590: FutureWarning: elementwise comparison failed; returning scalar instead, but in the future will perform elementwise comparison\n",
      "  if self._edgecolors == str('face'):\n"
     ]
    },
    {
     "data": {
      "image/png": "[encoded data removed]",
      "text/plain": [
       "<matplotlib.figure.Figure at 0x10a4c4550>"
      ]
     },
     "metadata": {},
     "output_type": "display_data"
    }
   ],
   "source": [
    "plot_classwise_scatter('magnitude_b', 'magnitude_r')"
   ]
  },
  {
   "cell_type": "code",
   "execution_count": 28,
   "metadata": {
    "collapsed": false
   },
   "outputs": [
    {
     "data": {
      "image/png": "[encoded data removed]",
      "text/plain": [
       "<matplotlib.figure.Figure at 0x109d22210>"
      ]
     },
     "metadata": {},
     "output_type": "display_data"
    }
   ],
   "source": [
    "plot_classwise_scatter('magnitude_b', 'real_period', range1=None, range2=[0,10])"
   ]
  },
  {
   "cell_type": "markdown",
   "metadata": {},
   "source": [
    "## The time series"
   ]
  },
  {
   "cell_type": "code",
   "execution_count": 29,
   "metadata": {
    "collapsed": true
   },
   "outputs": [],
   "source": [
    "def star_key(slab_id, star_id_b):\n",
    "    return str(slab_id) + '_' + str(star_id_b)\n",
    "\n",
    "def csv_array_to_float(csv_array_string):\n",
    "    return map(float, csv_array_string[1:-1].split(\",\"))"
   ]
  },
  {
   "cell_type": "code",
   "execution_count": 30,
   "metadata": {
    "collapsed": false
   },
   "outputs": [],
   "source": [
    "raw_time_series = pd.read_csv(\"data/public/train_varlength_features.csv.gz\", index_col=0, compression='gzip')\n",
    "time_series = raw_time_series.applymap(csv_array_to_float)"
   ]
  },
  {
   "cell_type": "markdown",
   "metadata": {},
   "source": [
    "The time series table contains ten time series per star: five of each frequency bands. Photos were taken once per night on selected days during a four-year period, measuring the majority of the stars about 120 times."
   ]
  },
  {
   "cell_type": "code",
   "execution_count": 31,
   "metadata": {
    "collapsed": false
   },
   "outputs": [
    {
     "name": "stdout",
     "output_type": "stream",
     "text": [
      "33.0\n",
      "124.0\n",
      "11.0\n",
      "125.0\n"
     ]
    },
    {
     "data": {
      "image/png": "[encoded data removed]",
      "text/plain": [
       "<matplotlib.figure.Figure at 0x10a4fbb10>"
      ]
     },
     "metadata": {},
     "output_type": "display_data"
    }
   ],
   "source": [
    "data.hist('num_points_good_r')\n",
    "print(min(data['num_points_good_b']))\n",
    "print(max(data['num_points_good_b']))\n",
    "print(min(data['num_points_good_r']))\n",
    "print(max(data['num_points_good_r']))"
   ]
  },
  {
   "cell_type": "code",
   "execution_count": 32,
   "metadata": {
    "collapsed": false
   },
   "outputs": [
    {
     "data": {
      "text/html": [
       "<div>\n",
       "<table border=\"1\" class=\"dataframe\">\n",
       "  <thead>\n",
       "    <tr style=\"text-align: right;\">\n",
       "      <th></th>\n",
       "      <th>time_points_b</th>\n",
       "      <th>time_points_r</th>\n",
       "      <th>light_points_b</th>\n",
       "      <th>light_points_r</th>\n",
       "      <th>error_points_b</th>\n",
       "      <th>error_points_r</th>\n",
       "      <th>bkg_points_b</th>\n",
       "      <th>bkg_points_r</th>\n",
       "      <th>polltn_points_b</th>\n",
       "      <th>polltn_points_r</th>\n",
       "    </tr>\n",
       "  </thead>\n",
       "  <tbody>\n",
       "    <tr>\n",
       "      <th>54_3198</th>\n",
       "      <td>[290.3, 291.35, 322.25, 326.24, 345.18, 347.23...</td>\n",
       "      <td>[290.34, 291.31, 322.29, 326.28, 345.23, 347.1...</td>\n",
       "      <td>[18.71, 19.29, 19.27, 19.67, 19.68, 19.02, 18....</td>\n",
       "      <td>[17.96, 18.2, 18.06, 17.98, 18.11, 18.04, 18.1...</td>\n",
       "      <td>[0.12, 0.13, 0.12, 0.17, 0.23, 0.11, 0.11, 0.1...</td>\n",
       "      <td>[0.11, 0.16, 0.1, 0.1, 0.11, 0.15, 0.09, 0.09,...</td>\n",
       "      <td>[0.0, 0.0, 0.0, 0.0, 0.0, 0.0, 0.0, 0.0, 0.0, ...</td>\n",
       "      <td>[0.0, 0.0, 0.0, 0.0, 0.0, 0.0, 0.0, 0.0, 0.0, ...</td>\n",
       "      <td>[0.02, 0.08, 0.03, 0.05, 0.1, 0.05, 0.03, 0.03...</td>\n",
       "      <td>[0.02, 0.02, 0.02, 0.0, 0.02, 0.03, 0.0, 0.0, ...</td>\n",
       "    </tr>\n",
       "    <tr>\n",
       "      <th>578_2223</th>\n",
       "      <td>[290.3, 291.35, 322.25, 326.24, 345.18, 350.15...</td>\n",
       "      <td>[290.34, 291.31, 322.29, 347.17, 348.23, 353.1...</td>\n",
       "      <td>[19.12, 18.66, 18.94, 19.0, 19.0, 19.26, 19.27...</td>\n",
       "      <td>[18.54, 18.32, 18.52, 18.58, 18.95, 18.43, 18....</td>\n",
       "      <td>[0.15, 0.13, 0.16, 0.16, 0.17, 0.19, 0.15, 0.2...</td>\n",
       "      <td>[0.21, 0.24, 0.15, 0.28, 0.19, 0.14, 0.18, 0.1...</td>\n",
       "      <td>[0.0, 0.0, 0.0, 0.0, 0.0, 0.0, 0.0, 0.0, 0.0, ...</td>\n",
       "      <td>[0.0, 0.01, 0.0, 0.01, 0.0, 0.0, 0.0, 0.0, 0.0...</td>\n",
       "      <td>[0.03, 0.03, 0.02, 0.02, 0.03, 0.06, 0.03, 0.0...</td>\n",
       "      <td>[0.02, 0.03, 0.0, 0.05, 0.02, 0.0, 0.02, 0.0, ...</td>\n",
       "    </tr>\n",
       "    <tr>\n",
       "      <th>242_3046</th>\n",
       "      <td>[290.3, 291.35, 322.25, 326.24, 345.18, 347.23...</td>\n",
       "      <td>[290.34, 322.29, 326.28, 347.17, 348.23, 353.1...</td>\n",
       "      <td>[17.78, 17.96, 17.88, 17.87, 17.82, 18.0, 17.6...</td>\n",
       "      <td>[15.63, 15.97, 15.97, 15.71, 15.72, 15.82, 15....</td>\n",
       "      <td>[0.1, 0.11, 0.08, 0.12, 0.12, 0.1, 0.11, 0.16,...</td>\n",
       "      <td>[0.12, 0.1, 0.1, 0.1, 0.07, 0.07, 0.07, 0.07, ...</td>\n",
       "      <td>[0.0, 0.0, 0.0, 0.0, 0.0, 0.0, 0.0, 0.0, 0.0, ...</td>\n",
       "      <td>[0.0, 0.0, 0.0, 0.0, 0.0, 0.0, 0.0, 0.0, 0.0, ...</td>\n",
       "      <td>[0.0, 0.0, 0.0, 0.0, 0.0, 0.0, 0.0, 0.0, 0.0, ...</td>\n",
       "      <td>[0.0, 0.0, 0.0, 0.02, 0.0, 0.0, 0.0, 0.0, 0.0,...</td>\n",
       "    </tr>\n",
       "    <tr>\n",
       "      <th>183_521</th>\n",
       "      <td>[290.3, 291.35, 322.25, 326.24, 345.18, 347.23...</td>\n",
       "      <td>[290.34, 291.31, 322.29, 326.28, 345.23, 347.1...</td>\n",
       "      <td>[19.26, 19.77, 19.22, 19.67, 19.48, 19.43, 20....</td>\n",
       "      <td>[19.51, 19.16, 18.94, 19.16, 18.84, 19.55, 19....</td>\n",
       "      <td>[0.13, 0.2, 0.12, 0.16, 0.17, 0.14, 0.32, 0.19...</td>\n",
       "      <td>[0.3, 0.32, 0.16, 0.2, 0.16, 0.4, 0.23, 0.27, ...</td>\n",
       "      <td>[0.0, 0.0, 0.0, 0.0, 0.0, 0.0, 0.01, 0.0, 0.0,...</td>\n",
       "      <td>[0.01, 0.01, 0.0, 0.0, 0.0, 0.01, 0.0, 0.0, 0....</td>\n",
       "      <td>[0.02, 0.06, 0.02, 0.03, 0.05, 0.05, 0.11, 0.0...</td>\n",
       "      <td>[0.35, 0.21, 0.1, 0.08, 0.08, 0.44, 0.08, 0.11...</td>\n",
       "    </tr>\n",
       "    <tr>\n",
       "      <th>78_8616</th>\n",
       "      <td>[290.3, 291.35, 322.25, 326.24, 345.18, 347.23...</td>\n",
       "      <td>[290.34, 291.31, 322.29, 326.28, 345.23, 347.1...</td>\n",
       "      <td>[19.36, 19.16, 19.74, 19.23, 19.5, 19.3, 19.58...</td>\n",
       "      <td>[18.46, 18.63, 18.49, 18.38, 18.62, 18.41, 18....</td>\n",
       "      <td>[0.14, 0.13, 0.18, 0.11, 0.18, 0.12, 0.18, 0.1...</td>\n",
       "      <td>[0.1, 0.19, 0.1, 0.1, 0.14, 0.16, 0.1, 0.09, 0...</td>\n",
       "      <td>[0.0, 0.0, 0.0, 0.0, 0.0, 0.0, 0.0, 0.0, 0.0, ...</td>\n",
       "      <td>[0.0, 0.0, 0.0, 0.0, 0.0, 0.0, 0.0, 0.0, 0.0, ...</td>\n",
       "      <td>[0.02, 0.02, 0.02, 0.0, 0.02, 0.02, 0.02, 0.02...</td>\n",
       "      <td>[0.0, 0.0, 0.0, 0.0, 0.0, 0.0, 0.0, 0.0, 0.0, ...</td>\n",
       "    </tr>\n",
       "  </tbody>\n",
       "</table>\n",
       "</div>"
      ],
      "text/plain": [
       "                                              time_points_b  \\\n",
       "54_3198   [290.3, 291.35, 322.25, 326.24, 345.18, 347.23...   \n",
       "578_2223  [290.3, 291.35, 322.25, 326.24, 345.18, 350.15...   \n",
       "242_3046  [290.3, 291.35, 322.25, 326.24, 345.18, 347.23...   \n",
       "183_521   [290.3, 291.35, 322.25, 326.24, 345.18, 347.23...   \n",
       "78_8616   [290.3, 291.35, 322.25, 326.24, 345.18, 347.23...   \n",
       "\n",
       "                                              time_points_r  \\\n",
       "54_3198   [290.34, 291.31, 322.29, 326.28, 345.23, 347.1...   \n",
       "578_2223  [290.34, 291.31, 322.29, 347.17, 348.23, 353.1...   \n",
       "242_3046  [290.34, 322.29, 326.28, 347.17, 348.23, 353.1...   \n",
       "183_521   [290.34, 291.31, 322.29, 326.28, 345.23, 347.1...   \n",
       "78_8616   [290.34, 291.31, 322.29, 326.28, 345.23, 347.1...   \n",
       "\n",
       "                                             light_points_b  \\\n",
       "54_3198   [18.71, 19.29, 19.27, 19.67, 19.68, 19.02, 18....   \n",
       "578_2223  [19.12, 18.66, 18.94, 19.0, 19.0, 19.26, 19.27...   \n",
       "242_3046  [17.78, 17.96, 17.88, 17.87, 17.82, 18.0, 17.6...   \n",
       "183_521   [19.26, 19.77, 19.22, 19.67, 19.48, 19.43, 20....   \n",
       "78_8616   [19.36, 19.16, 19.74, 19.23, 19.5, 19.3, 19.58...   \n",
       "\n",
       "                                             light_points_r  \\\n",
       "54_3198   [17.96, 18.2, 18.06, 17.98, 18.11, 18.04, 18.1...   \n",
       "578_2223  [18.54, 18.32, 18.52, 18.58, 18.95, 18.43, 18....   \n",
       "242_3046  [15.63, 15.97, 15.97, 15.71, 15.72, 15.82, 15....   \n",
       "183_521   [19.51, 19.16, 18.94, 19.16, 18.84, 19.55, 19....   \n",
       "78_8616   [18.46, 18.63, 18.49, 18.38, 18.62, 18.41, 18....   \n",
       "\n",
       "                                             error_points_b  \\\n",
       "54_3198   [0.12, 0.13, 0.12, 0.17, 0.23, 0.11, 0.11, 0.1...   \n",
       "578_2223  [0.15, 0.13, 0.16, 0.16, 0.17, 0.19, 0.15, 0.2...   \n",
       "242_3046  [0.1, 0.11, 0.08, 0.12, 0.12, 0.1, 0.11, 0.16,...   \n",
       "183_521   [0.13, 0.2, 0.12, 0.16, 0.17, 0.14, 0.32, 0.19...   \n",
       "78_8616   [0.14, 0.13, 0.18, 0.11, 0.18, 0.12, 0.18, 0.1...   \n",
       "\n",
       "                                             error_points_r  \\\n",
       "54_3198   [0.11, 0.16, 0.1, 0.1, 0.11, 0.15, 0.09, 0.09,...   \n",
       "578_2223  [0.21, 0.24, 0.15, 0.28, 0.19, 0.14, 0.18, 0.1...   \n",
       "242_3046  [0.12, 0.1, 0.1, 0.1, 0.07, 0.07, 0.07, 0.07, ...   \n",
       "183_521   [0.3, 0.32, 0.16, 0.2, 0.16, 0.4, 0.23, 0.27, ...   \n",
       "78_8616   [0.1, 0.19, 0.1, 0.1, 0.14, 0.16, 0.1, 0.09, 0...   \n",
       "\n",
       "                                               bkg_points_b  \\\n",
       "54_3198   [0.0, 0.0, 0.0, 0.0, 0.0, 0.0, 0.0, 0.0, 0.0, ...   \n",
       "578_2223  [0.0, 0.0, 0.0, 0.0, 0.0, 0.0, 0.0, 0.0, 0.0, ...   \n",
       "242_3046  [0.0, 0.0, 0.0, 0.0, 0.0, 0.0, 0.0, 0.0, 0.0, ...   \n",
       "183_521   [0.0, 0.0, 0.0, 0.0, 0.0, 0.0, 0.01, 0.0, 0.0,...   \n",
       "78_8616   [0.0, 0.0, 0.0, 0.0, 0.0, 0.0, 0.0, 0.0, 0.0, ...   \n",
       "\n",
       "                                               bkg_points_r  \\\n",
       "54_3198   [0.0, 0.0, 0.0, 0.0, 0.0, 0.0, 0.0, 0.0, 0.0, ...   \n",
       "578_2223  [0.0, 0.01, 0.0, 0.01, 0.0, 0.0, 0.0, 0.0, 0.0...   \n",
       "242_3046  [0.0, 0.0, 0.0, 0.0, 0.0, 0.0, 0.0, 0.0, 0.0, ...   \n",
       "183_521   [0.01, 0.01, 0.0, 0.0, 0.0, 0.01, 0.0, 0.0, 0....   \n",
       "78_8616   [0.0, 0.0, 0.0, 0.0, 0.0, 0.0, 0.0, 0.0, 0.0, ...   \n",
       "\n",
       "                                            polltn_points_b  \\\n",
       "54_3198   [0.02, 0.08, 0.03, 0.05, 0.1, 0.05, 0.03, 0.03...   \n",
       "578_2223  [0.03, 0.03, 0.02, 0.02, 0.03, 0.06, 0.03, 0.0...   \n",
       "242_3046  [0.0, 0.0, 0.0, 0.0, 0.0, 0.0, 0.0, 0.0, 0.0, ...   \n",
       "183_521   [0.02, 0.06, 0.02, 0.03, 0.05, 0.05, 0.11, 0.0...   \n",
       "78_8616   [0.02, 0.02, 0.02, 0.0, 0.02, 0.02, 0.02, 0.02...   \n",
       "\n",
       "                                            polltn_points_r  \n",
       "54_3198   [0.02, 0.02, 0.02, 0.0, 0.02, 0.03, 0.0, 0.0, ...  \n",
       "578_2223  [0.02, 0.03, 0.0, 0.05, 0.02, 0.0, 0.02, 0.0, ...  \n",
       "242_3046  [0.0, 0.0, 0.0, 0.02, 0.0, 0.0, 0.0, 0.0, 0.0,...  \n",
       "183_521   [0.35, 0.21, 0.1, 0.08, 0.08, 0.44, 0.08, 0.11...  \n",
       "78_8616   [0.0, 0.0, 0.0, 0.0, 0.0, 0.0, 0.0, 0.0, 0.0, ...  "
      ]
     },
     "execution_count": 32,
     "metadata": {},
     "output_type": "execute_result"
    }
   ],
   "source": [
    "time_series.head()"
   ]
  },
  {
   "cell_type": "markdown",
   "metadata": {},
   "source": [
    "Each column contains a list of floating point numbers.\n",
    "\n",
    "<ul>\n",
    "    <li> <code><b><span style=\"color:black\">time_points_b, time_points_r</span></b></code>: The time (in unit of days) when the photos were taken. Note that the filters had to be changed so the time points of the blue and red frequency band are slighty different.\n",
    "    <li> <code><b><span style=\"color:black\">light_points_b, light_points_r</span></b></code>: The light points measured at the time points.\n",
    "    <li> <code><b><span style=\"color:black\">error_points_b, error_points_r</span></b></code>: Uncertainties (error bars) on the light measurements.\n",
    "    <li> <code><b><span style=\"color:lightblue\">bkg_points_, bkg_points_r</span></b></code>: Background noise measured at the time points.\n",
    "    <li> <code><b><span style=\"color:lightblue\">polltn_points_b, polltn_points_r</span></b></code>: Pollution noise measured at the time points.\n",
    "</ul> "
   ]
  },
  {
   "cell_type": "markdown",
   "metadata": {},
   "source": [
    "### Plotting time curves\n",
    "\n",
    "Set the patch id and star id below."
   ]
  },
  {
   "cell_type": "code",
   "execution_count": 33,
   "metadata": {
    "collapsed": false
   },
   "outputs": [],
   "source": [
    "patch_id = 98\n",
    "star_id_b = 477"
   ]
  },
  {
   "cell_type": "code",
   "execution_count": 34,
   "metadata": {
    "collapsed": false
   },
   "outputs": [
    {
     "data": {
      "image/png": "[encoded data removed]",
      "text/plain": [
       "<matplotlib.figure.Figure at 0x109c88950>"
      ]
     },
     "metadata": {},
     "output_type": "display_data"
    }
   ],
   "source": [
    "time_points = np.array(time_series.loc[star_key(patch_id, star_id_b)]['time_points_b'])\n",
    "light_points = np.array(time_series.loc[star_key(patch_id, star_id_b)]['light_points_b'])\n",
    "error_points = np.array(time_series.loc[star_key(patch_id, star_id_b)]['error_points_b'])\n",
    "plt.errorbar(time_points, light_points, yerr=error_points, fmt='o');"
   ]
  },
  {
   "cell_type": "markdown",
   "metadata": {},
   "source": [
    "The raw measurements seem rather messy. The scatter of the plots is visibly larger than the measurement uncertainty (which makes it, by definition, a variable star), but there is no visible periodicity. We can use the estimated period to overplot several periods of the curve (\"fold\" the time series) using the following function."
   ]
  },
  {
   "cell_type": "code",
   "execution_count": 35,
   "metadata": {
    "collapsed": true
   },
   "outputs": [],
   "source": [
    "def fold_time_series(time_point, period, div_period):\n",
    "    real_period = period / div_period\n",
    "    return time_point % real_period  # modulo real_period"
   ]
  },
  {
   "cell_type": "code",
   "execution_count": 36,
   "metadata": {
    "collapsed": false
   },
   "outputs": [
    {
     "name": "stdout",
     "output_type": "stream",
     "text": [
      "1.41875 1.0\n"
     ]
    }
   ],
   "source": [
    "period = data.loc[star_key(patch_id, star_id_b)]['period']\n",
    "div_period = data.loc[star_key(patch_id, star_id_b)]['div_period']\n",
    "print period, div_period"
   ]
  },
  {
   "cell_type": "code",
   "execution_count": 37,
   "metadata": {
    "collapsed": false
   },
   "outputs": [],
   "source": [
    "time_points_folded = np.array([fold_time_series(time_point, period, div_period) \n",
    "                      for time_point in time_points])"
   ]
  },
  {
   "cell_type": "markdown",
   "metadata": {},
   "source": [
    "The resulting curve has a characteristic signature. "
   ]
  },
  {
   "cell_type": "code",
   "execution_count": 38,
   "metadata": {
    "collapsed": false
   },
   "outputs": [
    {
     "data": {
      "image/png": "[encoded data removed]",
      "text/plain": [
       "<matplotlib.figure.Figure at 0x10a6cff90>"
      ]
     },
     "metadata": {},
     "output_type": "display_data"
    }
   ],
   "source": [
    "plt.gca().invert_yaxis()\n",
    "plt.errorbar(time_points_folded, light_points, yerr=error_points, fmt='o');"
   ]
  },
  {
   "cell_type": "markdown",
   "metadata": {},
   "source": [
    "#Submission\n",
    "\n",
    "The goal of the RAMP is to classify the stars into one of the four types. In your code you will have access both to the static features and the time series. You will have to define two classes in two separate files. The submission site will have several examples that you can start from."
   ]
  },
  {
   "cell_type": "markdown",
   "metadata": {},
   "source": [
    "## The feature extractor\n",
    "\n",
    "In <a href=\"https://drive.google.com/open?id=0BzwKr6zuOkdRdW8xWktSbVhTR1U&authuser=0\"><code>feature_extractor.py</code></a> you will define a class called <code>FeatureExtractor</code>. Its main <code>transform</code> method takes a <b>list of dictionaries</b> and outputs a <b>numpy array</b>. Each dictionary of the list corresponds to one star. You can access features of that star using the notation <code>X_dict[i][feature_name]</code>, where <code>feature_name</code> can correspond to any of the features, both in <code>data</code> and <code>time_series</code>. In the following cell we transform our data files in this format, so you can access <code>X_dict</code> here and play with it."
   ]
  },
  {
   "cell_type": "code",
   "execution_count": 39,
   "metadata": {
    "collapsed": false
   },
   "outputs": [],
   "source": [
    "def merge_two_dicts(x, y):\n",
    "    '''Given two dicts, merge them into a new dict as a shallow copy.'''\n",
    "    z = x.copy()\n",
    "    z.update(y)\n",
    "    return z\n",
    "\n",
    "X_dict = data.drop('type', axis=1).to_dict(orient='records')\n",
    "vf_dict = time_series.to_dict(orient='records')\n",
    "X_dict = [merge_two_dicts(d_inst, v_inst) for d_inst, v_inst in zip(X_dict, vf_dict)]"
   ]
  },
  {
   "cell_type": "code",
   "execution_count": 40,
   "metadata": {
    "collapsed": false
   },
   "outputs": [
    {
     "data": {
      "text/plain": [
       "{'asc_d': 5.0,\n",
       " 'asc_m': 48.0,\n",
       " 'asc_s': 19.579999999999998,\n",
       " 'asym_b': 2.6176499999999998,\n",
       " 'asym_r': 0.79411799999999999,\n",
       " 'bkg_points_b': [0.0,\n",
       "  0.0,\n",
       "  0.0,\n",
       "  0.0,\n",
       "  0.0,\n",
       "  0.0,\n",
       "  0.0,\n",
       "  0.0,\n",
       "  0.0,\n",
       "  0.0,\n",
       "  0.0,\n",
       "  0.0,\n",
       "  0.0,\n",
       "  0.0,\n",
       "  0.0,\n",
       "  0.0,\n",
       "  0.0,\n",
       "  0.0,\n",
       "  0.0,\n",
       "  0.0,\n",
       "  0.0,\n",
       "  0.0,\n",
       "  0.0,\n",
       "  0.0,\n",
       "  0.0,\n",
       "  0.0,\n",
       "  0.0,\n",
       "  0.0,\n",
       "  0.0,\n",
       "  0.0,\n",
       "  0.0,\n",
       "  0.0,\n",
       "  0.0,\n",
       "  0.0,\n",
       "  0.0,\n",
       "  0.0,\n",
       "  0.0,\n",
       "  0.0,\n",
       "  0.0,\n",
       "  0.0,\n",
       "  0.0,\n",
       "  0.0,\n",
       "  0.0,\n",
       "  0.0,\n",
       "  0.0,\n",
       "  0.0,\n",
       "  0.0,\n",
       "  0.0,\n",
       "  0.0,\n",
       "  0.0,\n",
       "  0.0,\n",
       "  0.0,\n",
       "  0.0,\n",
       "  0.0,\n",
       "  0.0,\n",
       "  0.0,\n",
       "  0.0,\n",
       "  0.0,\n",
       "  0.0,\n",
       "  0.0,\n",
       "  0.0,\n",
       "  0.0,\n",
       "  0.0,\n",
       "  0.0,\n",
       "  0.0,\n",
       "  0.0,\n",
       "  0.0,\n",
       "  0.0,\n",
       "  0.0,\n",
       "  0.0,\n",
       "  0.0,\n",
       "  0.0,\n",
       "  0.0,\n",
       "  0.0,\n",
       "  0.0,\n",
       "  0.0,\n",
       "  0.0,\n",
       "  0.0,\n",
       "  0.0,\n",
       "  0.0,\n",
       "  0.0,\n",
       "  0.0,\n",
       "  0.0,\n",
       "  0.0,\n",
       "  0.0,\n",
       "  0.0,\n",
       "  0.0,\n",
       "  0.0,\n",
       "  0.0,\n",
       "  0.0,\n",
       "  0.0,\n",
       "  0.0,\n",
       "  0.0,\n",
       "  0.0,\n",
       "  0.0,\n",
       "  0.0,\n",
       "  0.0,\n",
       "  0.0,\n",
       "  0.0,\n",
       "  0.0,\n",
       "  0.0,\n",
       "  0.0,\n",
       "  0.0,\n",
       "  0.0,\n",
       "  0.0,\n",
       "  0.0,\n",
       "  0.0,\n",
       "  0.0,\n",
       "  0.0,\n",
       "  0.0,\n",
       "  0.0,\n",
       "  0.0,\n",
       "  0.0,\n",
       "  0.0,\n",
       "  0.0,\n",
       "  0.0,\n",
       "  0.0,\n",
       "  0.0,\n",
       "  0.0,\n",
       "  0.0,\n",
       "  0.0,\n",
       "  0.0,\n",
       "  0.0],\n",
       " 'bkg_points_r': [0.0,\n",
       "  0.0,\n",
       "  0.0,\n",
       "  0.0,\n",
       "  0.0,\n",
       "  0.0,\n",
       "  0.0,\n",
       "  0.0,\n",
       "  0.0,\n",
       "  0.0,\n",
       "  0.0,\n",
       "  0.0,\n",
       "  0.0,\n",
       "  0.0,\n",
       "  0.0,\n",
       "  0.0,\n",
       "  0.0,\n",
       "  0.0,\n",
       "  0.0,\n",
       "  0.0,\n",
       "  0.0,\n",
       "  0.0,\n",
       "  0.0,\n",
       "  0.0,\n",
       "  0.0,\n",
       "  0.0,\n",
       "  0.0,\n",
       "  0.0,\n",
       "  0.0,\n",
       "  0.01,\n",
       "  0.01,\n",
       "  0.0,\n",
       "  0.0,\n",
       "  0.0,\n",
       "  0.0,\n",
       "  0.0,\n",
       "  0.0,\n",
       "  0.0,\n",
       "  0.0,\n",
       "  0.0,\n",
       "  0.0,\n",
       "  0.0,\n",
       "  0.0,\n",
       "  0.0,\n",
       "  0.0,\n",
       "  0.0,\n",
       "  0.0,\n",
       "  0.0,\n",
       "  0.0,\n",
       "  0.0,\n",
       "  0.0,\n",
       "  0.0,\n",
       "  0.0,\n",
       "  0.0,\n",
       "  0.0,\n",
       "  0.0,\n",
       "  0.0,\n",
       "  0.0,\n",
       "  0.0,\n",
       "  0.0,\n",
       "  0.0,\n",
       "  0.0,\n",
       "  0.0,\n",
       "  0.0,\n",
       "  0.0,\n",
       "  0.0,\n",
       "  0.0,\n",
       "  0.0,\n",
       "  0.0,\n",
       "  0.0,\n",
       "  0.0,\n",
       "  0.0,\n",
       "  0.0,\n",
       "  0.0,\n",
       "  0.0,\n",
       "  0.0,\n",
       "  0.0,\n",
       "  0.0,\n",
       "  0.0,\n",
       "  0.0,\n",
       "  0.0,\n",
       "  0.0,\n",
       "  0.0,\n",
       "  0.0,\n",
       "  0.0,\n",
       "  0.0,\n",
       "  0.0,\n",
       "  0.0,\n",
       "  0.0,\n",
       "  0.0,\n",
       "  0.0,\n",
       "  0.0,\n",
       "  0.0,\n",
       "  0.0,\n",
       "  0.0,\n",
       "  0.0,\n",
       "  0.0,\n",
       "  0.0,\n",
       "  0.0,\n",
       "  0.0,\n",
       "  0.0,\n",
       "  0.0,\n",
       "  0.0,\n",
       "  0.0,\n",
       "  0.0,\n",
       "  0.0,\n",
       "  0.0,\n",
       "  0.0,\n",
       "  0.0,\n",
       "  0.0,\n",
       "  0.0,\n",
       "  0.0,\n",
       "  0.0,\n",
       "  0.0,\n",
       "  0.0,\n",
       "  0.0,\n",
       "  0.0,\n",
       "  0.0,\n",
       "  0.0,\n",
       "  0.0,\n",
       "  0.0,\n",
       "  0.0],\n",
       " 'dec_d': -70.0,\n",
       " 'dec_m': 36.0,\n",
       " 'dec_s': 16.84,\n",
       " 'div_period': 1.0,\n",
       " 'error_points_b': [0.12,\n",
       "  0.13,\n",
       "  0.12,\n",
       "  0.17,\n",
       "  0.23,\n",
       "  0.11,\n",
       "  0.11,\n",
       "  0.15,\n",
       "  0.12,\n",
       "  0.1,\n",
       "  0.15,\n",
       "  0.1,\n",
       "  0.12,\n",
       "  0.08,\n",
       "  0.11,\n",
       "  0.09,\n",
       "  0.1,\n",
       "  0.11,\n",
       "  0.09,\n",
       "  0.12,\n",
       "  0.11,\n",
       "  0.15,\n",
       "  0.13,\n",
       "  0.19,\n",
       "  0.2,\n",
       "  0.19,\n",
       "  0.15,\n",
       "  0.15,\n",
       "  0.15,\n",
       "  0.17,\n",
       "  0.14,\n",
       "  0.19,\n",
       "  0.13,\n",
       "  0.11,\n",
       "  0.12,\n",
       "  0.09,\n",
       "  0.12,\n",
       "  0.11,\n",
       "  0.12,\n",
       "  0.2,\n",
       "  0.15,\n",
       "  0.13,\n",
       "  0.14,\n",
       "  0.15,\n",
       "  0.1,\n",
       "  0.12,\n",
       "  0.12,\n",
       "  0.12,\n",
       "  0.23,\n",
       "  0.24,\n",
       "  0.15,\n",
       "  0.12,\n",
       "  0.18,\n",
       "  0.11,\n",
       "  0.18,\n",
       "  0.12,\n",
       "  0.13,\n",
       "  0.15,\n",
       "  0.14,\n",
       "  0.13,\n",
       "  0.14,\n",
       "  0.15,\n",
       "  0.12,\n",
       "  0.14,\n",
       "  0.17,\n",
       "  0.13,\n",
       "  0.12,\n",
       "  0.13,\n",
       "  0.21,\n",
       "  0.1,\n",
       "  0.2,\n",
       "  0.12,\n",
       "  0.11,\n",
       "  0.18,\n",
       "  0.16,\n",
       "  0.19,\n",
       "  0.18,\n",
       "  0.12,\n",
       "  0.15,\n",
       "  0.12,\n",
       "  0.14,\n",
       "  0.21,\n",
       "  0.12,\n",
       "  0.09,\n",
       "  0.12,\n",
       "  0.11,\n",
       "  0.14,\n",
       "  0.12,\n",
       "  0.12,\n",
       "  0.14,\n",
       "  0.1,\n",
       "  0.12,\n",
       "  0.12,\n",
       "  0.11,\n",
       "  0.15,\n",
       "  0.11,\n",
       "  0.15,\n",
       "  0.1,\n",
       "  0.14,\n",
       "  0.15,\n",
       "  0.12,\n",
       "  0.1,\n",
       "  0.1,\n",
       "  0.11,\n",
       "  0.11,\n",
       "  0.1,\n",
       "  0.14,\n",
       "  0.12,\n",
       "  0.14,\n",
       "  0.12,\n",
       "  0.12,\n",
       "  0.16,\n",
       "  0.12,\n",
       "  0.14,\n",
       "  0.16,\n",
       "  0.14,\n",
       "  0.14,\n",
       "  0.11,\n",
       "  0.13,\n",
       "  0.13,\n",
       "  0.11,\n",
       "  0.16,\n",
       "  0.11],\n",
       " 'error_points_r': [0.11,\n",
       "  0.16,\n",
       "  0.1,\n",
       "  0.1,\n",
       "  0.11,\n",
       "  0.15,\n",
       "  0.09,\n",
       "  0.09,\n",
       "  0.1,\n",
       "  0.09,\n",
       "  0.09,\n",
       "  0.12,\n",
       "  0.09,\n",
       "  0.11,\n",
       "  0.12,\n",
       "  0.08,\n",
       "  0.09,\n",
       "  0.08,\n",
       "  0.09,\n",
       "  0.12,\n",
       "  0.08,\n",
       "  0.11,\n",
       "  0.09,\n",
       "  0.08,\n",
       "  0.09,\n",
       "  0.11,\n",
       "  0.09,\n",
       "  0.1,\n",
       "  0.08,\n",
       "  0.35,\n",
       "  0.26,\n",
       "  0.2,\n",
       "  0.23,\n",
       "  0.17,\n",
       "  0.19,\n",
       "  0.25,\n",
       "  0.17,\n",
       "  0.18,\n",
       "  0.15,\n",
       "  0.2,\n",
       "  0.18,\n",
       "  0.23,\n",
       "  0.25,\n",
       "  0.2,\n",
       "  0.14,\n",
       "  0.16,\n",
       "  0.13,\n",
       "  0.13,\n",
       "  0.14,\n",
       "  0.13,\n",
       "  0.16,\n",
       "  0.13,\n",
       "  0.16,\n",
       "  0.12,\n",
       "  0.16,\n",
       "  0.13,\n",
       "  0.17,\n",
       "  0.15,\n",
       "  0.12,\n",
       "  0.12,\n",
       "  0.14,\n",
       "  0.16,\n",
       "  0.17,\n",
       "  0.1,\n",
       "  0.09,\n",
       "  0.1,\n",
       "  0.11,\n",
       "  0.13,\n",
       "  0.16,\n",
       "  0.16,\n",
       "  0.12,\n",
       "  0.19,\n",
       "  0.15,\n",
       "  0.19,\n",
       "  0.1,\n",
       "  0.11,\n",
       "  0.18,\n",
       "  0.18,\n",
       "  0.12,\n",
       "  0.09,\n",
       "  0.11,\n",
       "  0.11,\n",
       "  0.11,\n",
       "  0.21,\n",
       "  0.14,\n",
       "  0.14,\n",
       "  0.2,\n",
       "  0.19,\n",
       "  0.14,\n",
       "  0.12,\n",
       "  0.1,\n",
       "  0.14,\n",
       "  0.11,\n",
       "  0.11,\n",
       "  0.1,\n",
       "  0.11,\n",
       "  0.12,\n",
       "  0.11,\n",
       "  0.13,\n",
       "  0.16,\n",
       "  0.11,\n",
       "  0.13,\n",
       "  0.11,\n",
       "  0.13,\n",
       "  0.12,\n",
       "  0.13,\n",
       "  0.15,\n",
       "  0.13,\n",
       "  0.1,\n",
       "  0.12,\n",
       "  0.12,\n",
       "  0.13,\n",
       "  0.11,\n",
       "  0.13,\n",
       "  0.14,\n",
       "  0.2,\n",
       "  0.12,\n",
       "  0.12,\n",
       "  0.14,\n",
       "  0.13,\n",
       "  0.15,\n",
       "  0.13],\n",
       " 'frequency': 1.6371,\n",
       " 'light_points_b': [18.71,\n",
       "  19.29,\n",
       "  19.27,\n",
       "  19.67,\n",
       "  19.68,\n",
       "  19.02,\n",
       "  18.59,\n",
       "  19.08,\n",
       "  19.42,\n",
       "  19.0,\n",
       "  19.46,\n",
       "  19.04,\n",
       "  19.06,\n",
       "  18.3,\n",
       "  19.27,\n",
       "  19.11,\n",
       "  19.22,\n",
       "  19.07,\n",
       "  18.62,\n",
       "  19.3,\n",
       "  19.02,\n",
       "  19.54,\n",
       "  19.18,\n",
       "  19.29,\n",
       "  19.1,\n",
       "  18.81,\n",
       "  19.31,\n",
       "  19.15,\n",
       "  19.06,\n",
       "  19.18,\n",
       "  18.41,\n",
       "  19.22,\n",
       "  19.06,\n",
       "  19.04,\n",
       "  19.11,\n",
       "  18.56,\n",
       "  19.23,\n",
       "  18.94,\n",
       "  19.09,\n",
       "  18.87,\n",
       "  19.43,\n",
       "  18.97,\n",
       "  19.34,\n",
       "  19.11,\n",
       "  18.78,\n",
       "  19.08,\n",
       "  18.81,\n",
       "  18.69,\n",
       "  19.69,\n",
       "  19.41,\n",
       "  19.25,\n",
       "  18.88,\n",
       "  19.25,\n",
       "  18.56,\n",
       "  19.37,\n",
       "  19.06,\n",
       "  19.27,\n",
       "  19.32,\n",
       "  19.38,\n",
       "  19.02,\n",
       "  19.4,\n",
       "  19.38,\n",
       "  18.66,\n",
       "  19.47,\n",
       "  19.58,\n",
       "  19.18,\n",
       "  18.65,\n",
       "  19.39,\n",
       "  19.74,\n",
       "  18.75,\n",
       "  19.66,\n",
       "  19.15,\n",
       "  18.68,\n",
       "  19.48,\n",
       "  19.1,\n",
       "  19.48,\n",
       "  19.49,\n",
       "  18.7,\n",
       "  19.3,\n",
       "  18.85,\n",
       "  19.33,\n",
       "  18.75,\n",
       "  19.3,\n",
       "  18.6,\n",
       "  19.3,\n",
       "  19.13,\n",
       "  19.4,\n",
       "  19.02,\n",
       "  19.31,\n",
       "  19.34,\n",
       "  18.62,\n",
       "  19.27,\n",
       "  19.3,\n",
       "  18.63,\n",
       "  19.45,\n",
       "  19.1,\n",
       "  19.33,\n",
       "  18.69,\n",
       "  19.45,\n",
       "  18.52,\n",
       "  19.37,\n",
       "  18.53,\n",
       "  19.2,\n",
       "  18.85,\n",
       "  18.79,\n",
       "  18.77,\n",
       "  18.86,\n",
       "  19.15,\n",
       "  19.22,\n",
       "  19.24,\n",
       "  19.08,\n",
       "  19.21,\n",
       "  19.24,\n",
       "  19.49,\n",
       "  19.22,\n",
       "  19.39,\n",
       "  19.35,\n",
       "  19.1,\n",
       "  19.34,\n",
       "  19.05,\n",
       "  18.98,\n",
       "  19.51,\n",
       "  19.1],\n",
       " 'light_points_r': [17.96,\n",
       "  18.2,\n",
       "  18.06,\n",
       "  17.98,\n",
       "  18.11,\n",
       "  18.04,\n",
       "  18.14,\n",
       "  18.07,\n",
       "  18.35,\n",
       "  18.26,\n",
       "  18.16,\n",
       "  18.38,\n",
       "  18.23,\n",
       "  18.11,\n",
       "  18.41,\n",
       "  18.09,\n",
       "  18.23,\n",
       "  18.15,\n",
       "  18.24,\n",
       "  18.17,\n",
       "  18.11,\n",
       "  18.13,\n",
       "  18.21,\n",
       "  18.05,\n",
       "  18.12,\n",
       "  18.08,\n",
       "  18.13,\n",
       "  17.99,\n",
       "  18.11,\n",
       "  18.0,\n",
       "  18.27,\n",
       "  18.45,\n",
       "  17.87,\n",
       "  18.16,\n",
       "  18.09,\n",
       "  18.12,\n",
       "  18.07,\n",
       "  18.03,\n",
       "  18.17,\n",
       "  18.07,\n",
       "  18.0,\n",
       "  18.31,\n",
       "  18.04,\n",
       "  18.01,\n",
       "  18.23,\n",
       "  18.04,\n",
       "  18.06,\n",
       "  18.03,\n",
       "  18.07,\n",
       "  18.01,\n",
       "  18.25,\n",
       "  18.04,\n",
       "  18.11,\n",
       "  18.26,\n",
       "  18.11,\n",
       "  18.08,\n",
       "  18.15,\n",
       "  18.41,\n",
       "  18.09,\n",
       "  18.06,\n",
       "  18.11,\n",
       "  17.91,\n",
       "  18.22,\n",
       "  18.14,\n",
       "  18.04,\n",
       "  18.1,\n",
       "  18.18,\n",
       "  18.19,\n",
       "  17.87,\n",
       "  18.16,\n",
       "  18.15,\n",
       "  18.49,\n",
       "  18.15,\n",
       "  18.42,\n",
       "  18.14,\n",
       "  18.4,\n",
       "  17.97,\n",
       "  18.33,\n",
       "  18.19,\n",
       "  18.01,\n",
       "  18.26,\n",
       "  18.21,\n",
       "  18.16,\n",
       "  17.98,\n",
       "  18.19,\n",
       "  18.12,\n",
       "  18.15,\n",
       "  18.25,\n",
       "  18.15,\n",
       "  18.17,\n",
       "  18.05,\n",
       "  18.11,\n",
       "  18.17,\n",
       "  18.19,\n",
       "  18.1,\n",
       "  18.27,\n",
       "  18.36,\n",
       "  18.02,\n",
       "  18.15,\n",
       "  18.05,\n",
       "  17.93,\n",
       "  18.12,\n",
       "  18.1,\n",
       "  18.09,\n",
       "  17.94,\n",
       "  18.01,\n",
       "  18.01,\n",
       "  18.15,\n",
       "  18.1,\n",
       "  17.95,\n",
       "  17.92,\n",
       "  18.1,\n",
       "  18.2,\n",
       "  18.24,\n",
       "  18.19,\n",
       "  18.05,\n",
       "  18.26,\n",
       "  18.28,\n",
       "  18.35,\n",
       "  18.11,\n",
       "  18.11,\n",
       "  18.24],\n",
       " 'log_p_not_variable': -2.7605900000000001,\n",
       " 'magnitude_b': 19.077999999999999,\n",
       " 'magnitude_r': 18.129799999999999,\n",
       " 'num_points_good_b': 123.0,\n",
       " 'num_points_good_r': 122.0,\n",
       " 'patch_id': 54.0,\n",
       " 'period': 0.61083699999999996,\n",
       " 'polltn_points_b': [0.02,\n",
       "  0.08,\n",
       "  0.03,\n",
       "  0.05,\n",
       "  0.1,\n",
       "  0.05,\n",
       "  0.03,\n",
       "  0.03,\n",
       "  0.05,\n",
       "  0.03,\n",
       "  0.05,\n",
       "  0.03,\n",
       "  0.05,\n",
       "  0.02,\n",
       "  0.03,\n",
       "  0.03,\n",
       "  0.06,\n",
       "  0.03,\n",
       "  0.05,\n",
       "  0.06,\n",
       "  0.03,\n",
       "  0.05,\n",
       "  0.05,\n",
       "  0.06,\n",
       "  0.03,\n",
       "  0.06,\n",
       "  0.06,\n",
       "  0.05,\n",
       "  0.05,\n",
       "  0.05,\n",
       "  0.05,\n",
       "  0.13,\n",
       "  0.05,\n",
       "  0.03,\n",
       "  0.03,\n",
       "  0.02,\n",
       "  0.03,\n",
       "  0.05,\n",
       "  0.05,\n",
       "  0.03,\n",
       "  0.03,\n",
       "  0.02,\n",
       "  0.03,\n",
       "  0.02,\n",
       "  0.03,\n",
       "  0.03,\n",
       "  0.03,\n",
       "  0.02,\n",
       "  0.06,\n",
       "  0.21,\n",
       "  0.02,\n",
       "  0.03,\n",
       "  0.06,\n",
       "  0.02,\n",
       "  0.08,\n",
       "  0.03,\n",
       "  0.05,\n",
       "  0.05,\n",
       "  0.05,\n",
       "  0.03,\n",
       "  0.03,\n",
       "  0.03,\n",
       "  0.02,\n",
       "  0.03,\n",
       "  0.03,\n",
       "  0.03,\n",
       "  0.02,\n",
       "  0.03,\n",
       "  0.05,\n",
       "  0.02,\n",
       "  0.06,\n",
       "  0.03,\n",
       "  0.02,\n",
       "  0.1,\n",
       "  0.02,\n",
       "  0.03,\n",
       "  0.03,\n",
       "  0.02,\n",
       "  0.06,\n",
       "  0.03,\n",
       "  0.06,\n",
       "  0.02,\n",
       "  0.03,\n",
       "  0.02,\n",
       "  0.03,\n",
       "  0.02,\n",
       "  0.03,\n",
       "  0.02,\n",
       "  0.03,\n",
       "  0.03,\n",
       "  0.02,\n",
       "  0.03,\n",
       "  0.03,\n",
       "  0.02,\n",
       "  0.03,\n",
       "  0.03,\n",
       "  0.05,\n",
       "  0.02,\n",
       "  0.06,\n",
       "  0.02,\n",
       "  0.03,\n",
       "  0.02,\n",
       "  0.03,\n",
       "  0.02,\n",
       "  0.02,\n",
       "  0.03,\n",
       "  0.06,\n",
       "  0.05,\n",
       "  0.06,\n",
       "  0.03,\n",
       "  0.03,\n",
       "  0.08,\n",
       "  0.03,\n",
       "  0.03,\n",
       "  0.08,\n",
       "  0.05,\n",
       "  0.02,\n",
       "  0.03,\n",
       "  0.03,\n",
       "  0.02,\n",
       "  0.02,\n",
       "  0.05,\n",
       "  0.03],\n",
       " 'polltn_points_r': [0.02,\n",
       "  0.02,\n",
       "  0.02,\n",
       "  0.0,\n",
       "  0.02,\n",
       "  0.03,\n",
       "  0.0,\n",
       "  0.0,\n",
       "  0.02,\n",
       "  0.0,\n",
       "  0.0,\n",
       "  0.0,\n",
       "  0.0,\n",
       "  0.02,\n",
       "  0.0,\n",
       "  0.0,\n",
       "  0.0,\n",
       "  0.0,\n",
       "  0.02,\n",
       "  0.0,\n",
       "  0.0,\n",
       "  0.02,\n",
       "  0.0,\n",
       "  0.0,\n",
       "  0.0,\n",
       "  0.02,\n",
       "  0.0,\n",
       "  0.0,\n",
       "  0.0,\n",
       "  0.02,\n",
       "  0.02,\n",
       "  0.03,\n",
       "  0.03,\n",
       "  0.02,\n",
       "  0.02,\n",
       "  0.02,\n",
       "  0.03,\n",
       "  0.02,\n",
       "  0.02,\n",
       "  0.02,\n",
       "  0.0,\n",
       "  0.02,\n",
       "  0.0,\n",
       "  0.0,\n",
       "  0.02,\n",
       "  0.02,\n",
       "  0.02,\n",
       "  0.0,\n",
       "  0.02,\n",
       "  0.0,\n",
       "  0.0,\n",
       "  0.0,\n",
       "  0.02,\n",
       "  0.02,\n",
       "  0.02,\n",
       "  0.0,\n",
       "  0.02,\n",
       "  0.02,\n",
       "  0.0,\n",
       "  0.0,\n",
       "  0.02,\n",
       "  0.02,\n",
       "  0.02,\n",
       "  0.02,\n",
       "  0.0,\n",
       "  0.0,\n",
       "  0.0,\n",
       "  0.0,\n",
       "  0.0,\n",
       "  0.0,\n",
       "  0.0,\n",
       "  0.0,\n",
       "  0.0,\n",
       "  0.0,\n",
       "  0.0,\n",
       "  0.0,\n",
       "  0.0,\n",
       "  0.02,\n",
       "  0.02,\n",
       "  0.0,\n",
       "  0.0,\n",
       "  0.0,\n",
       "  0.02,\n",
       "  0.02,\n",
       "  0.02,\n",
       "  0.0,\n",
       "  0.02,\n",
       "  0.0,\n",
       "  0.0,\n",
       "  0.0,\n",
       "  0.0,\n",
       "  0.0,\n",
       "  0.0,\n",
       "  0.0,\n",
       "  0.0,\n",
       "  0.0,\n",
       "  0.02,\n",
       "  0.0,\n",
       "  0.02,\n",
       "  0.0,\n",
       "  0.0,\n",
       "  0.02,\n",
       "  0.02,\n",
       "  0.0,\n",
       "  0.0,\n",
       "  0.0,\n",
       "  0.02,\n",
       "  0.0,\n",
       "  0.0,\n",
       "  0.0,\n",
       "  0.0,\n",
       "  0.02,\n",
       "  0.0,\n",
       "  0.0,\n",
       "  0.0,\n",
       "  0.02,\n",
       "  0.0,\n",
       "  0.0,\n",
       "  0.0,\n",
       "  0.0,\n",
       "  0.02,\n",
       "  0.0],\n",
       " 'quality': 2.0,\n",
       " 'real_period': 0.61083699999999996,\n",
       " 'sigma_flux_b': 41.427199999999999,\n",
       " 'sigma_flux_r': 88.097700000000003,\n",
       " 'star_id_b': 3198.0,\n",
       " 'star_id_r': 3327.0,\n",
       " 'time_points_b': [290.3,\n",
       "  291.35,\n",
       "  322.25,\n",
       "  326.24,\n",
       "  345.18,\n",
       "  347.23,\n",
       "  350.15,\n",
       "  352.22,\n",
       "  354.17,\n",
       "  356.21,\n",
       "  373.15,\n",
       "  374.09,\n",
       "  379.07,\n",
       "  380.06,\n",
       "  381.14,\n",
       "  382.07,\n",
       "  384.12,\n",
       "  401.05,\n",
       "  402.11,\n",
       "  403.05,\n",
       "  404.05,\n",
       "  405.05,\n",
       "  406.05,\n",
       "  626.39,\n",
       "  628.36,\n",
       "  640.31,\n",
       "  641.31,\n",
       "  644.36,\n",
       "  646.35,\n",
       "  647.36,\n",
       "  651.31,\n",
       "  652.34,\n",
       "  655.33,\n",
       "  656.32,\n",
       "  669.23,\n",
       "  670.27,\n",
       "  671.28,\n",
       "  672.27,\n",
       "  675.26,\n",
       "  676.26,\n",
       "  677.26,\n",
       "  678.26,\n",
       "  679.26,\n",
       "  680.24,\n",
       "  681.27,\n",
       "  710.14,\n",
       "  711.19,\n",
       "  714.26,\n",
       "  715.25,\n",
       "  725.06,\n",
       "  726.1,\n",
       "  727.11,\n",
       "  729.07,\n",
       "  730.17,\n",
       "  731.08,\n",
       "  732.1,\n",
       "  734.21,\n",
       "  735.15,\n",
       "  737.13,\n",
       "  738.13,\n",
       "  739.13,\n",
       "  740.12,\n",
       "  741.12,\n",
       "  742.15,\n",
       "  743.16,\n",
       "  754.06,\n",
       "  755.11,\n",
       "  756.1,\n",
       "  758.11,\n",
       "  760.06,\n",
       "  761.05,\n",
       "  762.1,\n",
       "  763.1,\n",
       "  764.1,\n",
       "  765.05,\n",
       "  766.05,\n",
       "  767.05,\n",
       "  768.05,\n",
       "  769.05,\n",
       "  771.1,\n",
       "  772.16,\n",
       "  773.06,\n",
       "  784.05,\n",
       "  785.1,\n",
       "  786.05,\n",
       "  787.1,\n",
       "  789.04,\n",
       "  790.03,\n",
       "  791.04,\n",
       "  792.03,\n",
       "  793.03,\n",
       "  794.03,\n",
       "  795.03,\n",
       "  796.99,\n",
       "  797.03,\n",
       "  798.03,\n",
       "  799.03,\n",
       "  1001.35,\n",
       "  1005.36,\n",
       "  1023.28,\n",
       "  1026.28,\n",
       "  1031.27,\n",
       "  1036.31,\n",
       "  1039.26,\n",
       "  1053.19,\n",
       "  1058.19,\n",
       "  1064.26,\n",
       "  1068.24,\n",
       "  1081.11,\n",
       "  1085.21,\n",
       "  1090.09,\n",
       "  1112.1,\n",
       "  1117.07,\n",
       "  1122.06,\n",
       "  1126.21,\n",
       "  1129.24,\n",
       "  1141.1,\n",
       "  1145.05,\n",
       "  1150.1,\n",
       "  1154.1,\n",
       "  1168.02,\n",
       "  1174.02,\n",
       "  1178.02],\n",
       " 'time_points_r': [290.34,\n",
       "  291.31,\n",
       "  322.29,\n",
       "  326.28,\n",
       "  345.23,\n",
       "  347.17,\n",
       "  348.23,\n",
       "  353.17,\n",
       "  354.23,\n",
       "  355.22,\n",
       "  356.16,\n",
       "  373.09,\n",
       "  374.14,\n",
       "  378.1,\n",
       "  379.12,\n",
       "  380.11,\n",
       "  381.09,\n",
       "  382.12,\n",
       "  384.07,\n",
       "  399.08,\n",
       "  401.1,\n",
       "  402.06,\n",
       "  403.06,\n",
       "  405.1,\n",
       "  406.1,\n",
       "  407.05,\n",
       "  409.14,\n",
       "  410.1,\n",
       "  627.38,\n",
       "  637.31,\n",
       "  638.32,\n",
       "  639.32,\n",
       "  640.36,\n",
       "  641.37,\n",
       "  644.3,\n",
       "  645.37,\n",
       "  648.32,\n",
       "  651.36,\n",
       "  652.28,\n",
       "  655.27,\n",
       "  656.27,\n",
       "  657.29,\n",
       "  666.31,\n",
       "  669.3,\n",
       "  670.33,\n",
       "  672.32,\n",
       "  675.31,\n",
       "  676.31,\n",
       "  677.32,\n",
       "  678.31,\n",
       "  679.31,\n",
       "  680.29,\n",
       "  681.33,\n",
       "  710.22,\n",
       "  711.14,\n",
       "  714.21,\n",
       "  725.11,\n",
       "  727.16,\n",
       "  729.12,\n",
       "  730.12,\n",
       "  732.15,\n",
       "  734.16,\n",
       "  735.1,\n",
       "  736.09,\n",
       "  737.16,\n",
       "  738.18,\n",
       "  739.18,\n",
       "  740.07,\n",
       "  741.06,\n",
       "  742.07,\n",
       "  743.11,\n",
       "  754.11,\n",
       "  755.06,\n",
       "  756.06,\n",
       "  760.11,\n",
       "  761.1,\n",
       "  762.05,\n",
       "  764.05,\n",
       "  765.09,\n",
       "  766.09,\n",
       "  767.1,\n",
       "  768.1,\n",
       "  769.1,\n",
       "  771.05,\n",
       "  772.11,\n",
       "  773.11,\n",
       "  774.11,\n",
       "  775.06,\n",
       "  784.1,\n",
       "  785.05,\n",
       "  786.1,\n",
       "  787.04,\n",
       "  788.09,\n",
       "  789.09,\n",
       "  790.08,\n",
       "  791.08,\n",
       "  792.08,\n",
       "  1000.33,\n",
       "  1005.31,\n",
       "  1023.33,\n",
       "  1026.33,\n",
       "  1031.32,\n",
       "  1036.24,\n",
       "  1039.32,\n",
       "  1053.24,\n",
       "  1058.25,\n",
       "  1064.21,\n",
       "  1068.29,\n",
       "  1080.12,\n",
       "  1085.16,\n",
       "  1090.15,\n",
       "  1112.15,\n",
       "  1118.08,\n",
       "  1122.12,\n",
       "  1126.16,\n",
       "  1130.27,\n",
       "  1141.05,\n",
       "  1145.1,\n",
       "  1150.04,\n",
       "  1154.06,\n",
       "  1168.08,\n",
       "  1174.07]}"
      ]
     },
     "execution_count": 40,
     "metadata": {},
     "output_type": "execute_result"
    }
   ],
   "source": [
    "X_dict[0]"
   ]
  },
  {
   "cell_type": "code",
   "execution_count": 41,
   "metadata": {
    "collapsed": false
   },
   "outputs": [
    {
     "data": {
      "text/plain": [
       "19.077999999999999"
      ]
     },
     "execution_count": 41,
     "metadata": {},
     "output_type": "execute_result"
    }
   ],
   "source": [
    "X_dict[0]['magnitude_b']"
   ]
  },
  {
   "cell_type": "markdown",
   "metadata": {},
   "source": [
    "The following cell gives you an example in which we extract some of the features from <code>X_dict</code> and convert it into a numpy array."
   ]
  },
  {
   "cell_type": "code",
   "execution_count": 42,
   "metadata": {
    "collapsed": true
   },
   "outputs": [],
   "source": [
    "cols = [\n",
    "    'magnitude_b', \n",
    "    'magnitude_r',\n",
    "    'period',\n",
    "    'asym_b', \n",
    "    'asym_r', \n",
    "    'log_p_not_variable', \n",
    "    'sigma_flux_b', \n",
    "    'sigma_flux_r', \n",
    "    'quality', \n",
    "    'div_period',\n",
    "]\n",
    "X_array = np.array([[instance[col] for col in cols] for instance in X_dict])"
   ]
  },
  {
   "cell_type": "code",
   "execution_count": 43,
   "metadata": {
    "collapsed": false
   },
   "outputs": [
    {
     "data": {
      "text/plain": [
       "array([[  1.90780000e+01,   1.81298000e+01,   6.10837000e-01, ...,\n",
       "          8.80977000e+01,   2.00000000e+00,   1.00000000e+00],\n",
       "       [  1.90282000e+01,   1.88067000e+01,   1.91302000e+00, ...,\n",
       "          4.53581000e+01,   2.00000000e+00,   6.00000000e+00],\n",
       "       [  1.78534000e+01,   1.56034000e+01,   9.96323000e-01, ...,\n",
       "          9.39354000e+02,   1.00000000e+00,   1.00000000e+00],\n",
       "       ..., \n",
       "       [  2.00662000e+01,   1.96090000e+01,   7.44748000e-01, ...,\n",
       "          2.20585000e+01,   0.00000000e+00,   1.00000000e+00],\n",
       "       [  1.66903000e+01,   1.61105000e+01,   4.01878000e+00, ...,\n",
       "          5.22704000e+02,   2.00000000e+00,   1.00000000e+00],\n",
       "       [  1.48700000e+01,   1.53560000e+01,   3.02924000e+00, ...,\n",
       "          1.22825000e+03,   0.00000000e+00,   3.00000000e+00]])"
      ]
     },
     "execution_count": 43,
     "metadata": {},
     "output_type": "execute_result"
    }
   ],
   "source": [
    "X_array"
   ]
  },
  {
   "cell_type": "markdown",
   "metadata": {},
   "source": [
    "Finally, here is the full <a href=\"https://drive.google.com/open?id=0BzwKr6zuOkdRdW8xWktSbVhTR1U&authuser=0\"><code>feature_extractor.py</code></a>. The transformation takes place in the <code>transform</code> function. If it does not depend on the training data (only the given instances to be transformed), this is all you have to fill out. If some operations depend on the training data (for example, you go for a PCA), it should be implemented in the <code>fit</code> function."
   ]
  },
  {
   "cell_type": "code",
   "execution_count": 44,
   "metadata": {
    "collapsed": true
   },
   "outputs": [],
   "source": [
    "import numpy as np\n",
    "\n",
    "class FeatureExtractor(object):\n",
    "\n",
    "    def __init__(self):\n",
    "        pass\n",
    "\n",
    "    def fit(self, X_dict, y):\n",
    "        pass\n",
    "\n",
    "    def transform(self, X_dict):\n",
    "        #print X_dict.keys()\n",
    "        cols = [\n",
    "            'magnitude_b',\n",
    "            'magnitude_r',\n",
    "            'period',\n",
    "            'asym_b', \n",
    "            'asym_r', \n",
    "            'log_p_not_variable', \n",
    "            'sigma_flux_b', \n",
    "            'sigma_flux_r', \n",
    "            'quality', \n",
    "            'div_period',\n",
    "        ]\n",
    "        return np.array([[instance[col] for col in cols] for instance in X_dict])"
   ]
  },
  {
   "cell_type": "markdown",
   "metadata": {},
   "source": [
    "The following feaure extractor does not use any of the static features. It takes the light curve, bins it into <code>num_bins</code> bins, and return the bin means (blue and red bands concatenated)."
   ]
  },
  {
   "cell_type": "code",
   "execution_count": 45,
   "metadata": {
    "collapsed": true
   },
   "outputs": [],
   "source": [
    "def fold_time_series(time_point, period, div_period):\n",
    "    return time_point % (period / div_period)\n",
    "\n",
    "def get_bin_means(instance, num_bins):\n",
    "    period = instance['period']\n",
    "    div_period = instance['div_period']\n",
    "    real_period = period / div_period\n",
    "    bins = [i * real_period / num_bins for i in range(num_bins + 1)]\n",
    "    feature_array = np.empty(2 * num_bins)\n",
    "    for band in ['b', 'r']:\n",
    "        time_points = np.array(instance['time_points_' + band])\n",
    "        light_points = np.array(instance['light_points_' + band])\n",
    "        time_points_folded = np.array([fold_time_series(time_point, period, div_period) \n",
    "                                       for time_point in time_points])\n",
    "        time_points_folded_digitized = np.digitize(time_points_folded, bins) - 1\n",
    "        binned_means = np.array([light_points[time_points_folded_digitized == i].mean()\n",
    "                                for i in range(num_bins)])\n",
    "        if band == 'b':\n",
    "            feature_array[:num_bins] = binned_means\n",
    "        else:\n",
    "            feature_array[num_bins:] = binned_means\n",
    "    return feature_array\n",
    "\n",
    "import numpy as np\n",
    "\n",
    "class FeatureExtractor(object):\n",
    "\n",
    "    def __init__(self):\n",
    "        pass\n",
    "\n",
    "    def fit(self, X_dict, y):\n",
    "        pass\n",
    "\n",
    "    def transform(self, X_dict):\n",
    "        num_bins = 15\n",
    "        return np.array([get_bin_means(instance, num_bins) for instance in X_dict])"
   ]
  },
  {
   "cell_type": "markdown",
   "metadata": {},
   "source": [
    "This feature extractor combines bin means from the time series with three of the best static features."
   ]
  },
  {
   "cell_type": "code",
   "execution_count": 46,
   "metadata": {
    "collapsed": true
   },
   "outputs": [],
   "source": [
    "def fold_time_series(time_point, period, div_period):\n",
    "    return time_point % (period / div_period)\n",
    "\n",
    "def get_bin_means(instance, num_bins):\n",
    "    period = instance['period']\n",
    "    div_period = instance['div_period']\n",
    "    real_period = period / div_period\n",
    "    bins = [i * real_period / num_bins for i in range(num_bins + 1)]\n",
    "    feature_array = np.empty(2 * num_bins)\n",
    "    for band in ['b', 'r']:\n",
    "        time_points = np.array(instance['time_points_' + band])\n",
    "        light_points = np.array(instance['light_points_' + band])\n",
    "        time_points_folded = np.array([fold_time_series(time_point, period, div_period) \n",
    "                                       for time_point in time_points])\n",
    "        time_points_folded_digitized = np.digitize(time_points_folded, bins) - 1\n",
    "        binned_means = np.array([light_points[time_points_folded_digitized == i].mean()\n",
    "                                for i in range(num_bins)])\n",
    "        if band == 'b':\n",
    "            feature_array[:num_bins] = binned_means\n",
    "        else:\n",
    "            feature_array[num_bins:] = binned_means\n",
    "    return feature_array\n",
    "\n",
    "import numpy as np\n",
    "\n",
    "class FeatureExtractor(object):\n",
    "\n",
    "    def __init__(self):\n",
    "        pass\n",
    "\n",
    "    def fit(self, X_dict, y):\n",
    "        pass\n",
    "\n",
    "    def transform(self, X_dict):\n",
    "        cols = [\n",
    "            'magnitude_b', \n",
    "            'magnitude_r'\n",
    "        ]\n",
    "        X_array = np.array([[instance[col] for col in cols] for instance in X_dict])\n",
    "        real_period = np.array([instance['period'] / instance['div_period']\n",
    "            for instance in X_dict])\n",
    "        X_array = np.concatenate((X_array.T, [real_period])).T\n",
    "        num_bins = 5\n",
    "        X_array_variable_features = np.array([get_bin_means(instance, num_bins) for instance in X_dict])\n",
    "        X_array = np.concatenate((X_array.T, X_array_variable_features.T)).T\n",
    "        return X_array"
   ]
  },
  {
   "cell_type": "markdown",
   "metadata": {},
   "source": [
    "## Classification\n",
    "\n",
    "The classifier follows a classical scikit-learn classifier template. It should be placed in the file <a href=\"https://drive.google.com/open?id=0BzwKr6zuOkdRbXk1aTlQRll1dWc&authuser=0\"><code>classifier.py</code></a>. In its simplest form it takes a scikit-learn pipeline and assignes it to <code>self.clf</code> in <code>__init__</code>."
   ]
  },
  {
   "cell_type": "code",
   "execution_count": 47,
   "metadata": {
    "collapsed": true
   },
   "outputs": [],
   "source": [
    "from sklearn.ensemble import RandomForestClassifier, AdaBoostClassifier\n",
    "from sklearn.preprocessing import Imputer\n",
    "from sklearn.pipeline import Pipeline\n",
    "from sklearn.base import BaseEstimator\n",
    "\n",
    "class Classifier(BaseEstimator):\n",
    "    def __init__(self):\n",
    "        self.clf = Pipeline([\n",
    "            ('imputer', Imputer(strategy='most_frequent')),\n",
    "            ('rf', RandomForestClassifier(max_depth=2, n_estimators=10, random_state=42))\n",
    "        ])\n",
    "\n",
    "    def fit(self, X, y):\n",
    "        self.clf.fit(X, y)\n",
    "\n",
    "    def predict(self, X):\n",
    "        return self.clf.predict(X)\n",
    "\n",
    "    def predict_proba(self, X):\n",
    "        return self.clf.predict_proba(X)"
   ]
  },
  {
   "cell_type": "markdown",
   "metadata": {},
   "source": [
    "Let's put it together and run the chain."
   ]
  },
  {
   "cell_type": "code",
   "execution_count": 48,
   "metadata": {
    "collapsed": false
   },
   "outputs": [
    {
     "name": "stdout",
     "output_type": "stream",
     "text": [
      "Training file ...\n",
      "accuracy =  0.813940724479\n",
      "accuracy =  0.815038419319\n"
     ]
    },
    {
     "name": "stderr",
     "output_type": "stream",
     "text": [
      "/Users/kegl/anaconda/lib/python2.7/site-packages/numpy/core/_methods.py:59: RuntimeWarning: Mean of empty slice.\n",
      "  warnings.warn(\"Mean of empty slice.\", RuntimeWarning)\n"
     ]
    }
   ],
   "source": [
    "from sklearn.cross_validation import StratifiedShuffleSplit\n",
    "from sklearn.calibration import CalibratedClassifierCV\n",
    "from sklearn.metrics import accuracy_score\n",
    "\n",
    "y_array = data['type'].values\n",
    "skf = StratifiedShuffleSplit(y_array, n_iter=2, test_size=0.5, random_state=57)\n",
    "\n",
    "print(\"Training file ...\")\n",
    "for valid_train_is, valid_test_is in skf:\n",
    "    # Feature extraction\n",
    "    X_valid_train_dict = [X_dict[i] for i in valid_train_is]\n",
    "    y_valid_train = y_array[valid_train_is]\n",
    "    X_valid_test_dict = [X_dict[i] for i in valid_test_is]\n",
    "    y_valid_test = y_array[valid_test_is]\n",
    "    fe = FeatureExtractor()\n",
    "    fe.fit(X_valid_train_dict, y_valid_train)\n",
    "    X_valid_train_array = fe.transform(X_valid_train_dict)\n",
    "    X_valid_test_array = fe.transform(X_valid_test_dict)\n",
    "    # Classification\n",
    "    clf = Classifier()\n",
    "    clf_c = CalibratedClassifierCV(clf, cv=2, method='isotonic')\n",
    "    clf_c.fit(X_valid_train_array, y_valid_train)\n",
    "    y_valid_pred = clf_c.predict(X_valid_test_array)\n",
    "    y_valid_proba = clf_c.predict_proba(X_valid_test_array)\n",
    "    print 'accuracy = ', accuracy_score(y_valid_pred, y_valid_test)"
   ]
  },
  {
   "cell_type": "markdown",
   "metadata": {},
   "source": [
    "## Unit testing\n",
    "\n",
    "It is <b><span style=\"color:red\">important that you test your submission files before submitting them</span></b>. For this we provide a unit test. Place the python files <code>classifier.py</code>, <code>feature_extractor.py</code>, <a href = \"https://drive.google.com/file/d/0BzwKr6zuOkdRSFJsR19EYVBranM/view?usp=sharing\"><code>user_test_model.py</code></a> in a directory, set the paths to the data files in <code>user_test_model.py</code>, and run \n",
    "\n",
    "<code>python user_test_model.py</code>\n",
    "\n",
    "If it runs and prints \n",
    "<code>\n",
    "Training file ...\n",
    "accuracy = [some_number_between_0_and_1]\n",
    "accuracy = [some_number_between_0_and_1]\n",
    "</code>\n",
    "you can submit the code."
   ]
  },
  {
   "cell_type": "code",
   "execution_count": null,
   "metadata": {
    "collapsed": true
   },
   "outputs": [],
   "source": []
  }
 ],
 "metadata": {
  "kernelspec": {
   "display_name": "Python 2",
   "language": "python",
   "name": "python2"
  },
  "language_info": {
   "codemirror_mode": {
    "name": "ipython",
    "version": 2
   },
   "file_extension": ".py",
   "mimetype": "text/x-python",
   "name": "python",
   "nbconvert_exporter": "python",
   "pygments_lexer": "ipython2",
   "version": "2.7.12"
  }
 },
 "nbformat": 4,
 "nbformat_minor": 0
}
