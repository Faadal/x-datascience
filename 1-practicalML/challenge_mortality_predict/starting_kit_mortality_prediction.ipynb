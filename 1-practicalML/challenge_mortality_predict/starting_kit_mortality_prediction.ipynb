{
 "cells": [
  {
   "cell_type": "markdown",
   "metadata": {},
   "source": [
    "# <a href=\"http://www.datascience-paris-saclay.fr\">Paris Saclay Center for Data Science</a>\n",
    "# <a href=http://www.datascience-paris-saclay.fr/en/site/newsView/12>RAMP</a> on mortality prediction of septic patients\n",
    "\n",
    "<i> Balázs Kégl (LAL/CNRS), Alex Gramfort (LTCI/Telecom ParisTech), Djalel Benbouzid (UPMC), Mehdi Cherti (LAL/CNRS) </i>"
   ]
  },
  {
   "cell_type": "markdown",
   "metadata": {},
   "source": [
    "## Introduction\n",
    "\n",
    "The data used here were used in the following doctoral work.\n",
    "\n",
    "<i>Prediction of mortality in septic patients with hypotension,</i>\n",
    "Louis Mayaud, PhD, Dept. of Engineering Science, University of Oxford\n",
    "https://www.dropbox.com/s/co8tb3l2dtovl5j/LMayaud_Thesis.pdf?dl=0\n",
    "\n",
    "These data are extracted from the MIMIC II Database kindly opened by MIT.\n",
    "\n",
    "The MIMIC-II research database (Multiparameter Intelligent Monitoring in Intensive Care) is notable for three factors: it is publicly and freely available; it encompasses a diverse and very large population of intensive care unit (ICU) patients; and it contains high temporal resolution data including lab results, electronic documentation, and bedside monitor trends and waveforms. The database can support a diverse range of analytic studies spanning epidemiology, clinical decision-rule improvement, and electronic tool development.\n",
    "\n",
    "https://mimic.physionet.org/database.html\n",
    "\n",
    "The Multi-parameter Intelligent Monitoring in the Intensive Care II (MIMIC-II) database is the result of a collaborative project between the Laboratory of Computational Physiology (Harvard-MIT, Health Science and Technology), Philips Medical Systems and Beth Israel Deaconess Medical Centre (BIDMC) aiming at the development and evaluation of advanced ICU monitoring systems.\n",
    "\n",
    "The data analyzed today is only a fraction of the full database that you're invited to explore in parallel or after the course.\n",
    "\n",
    "### Objective: \n",
    "\n",
    "The objective of this bootcamp is to develop a system to predict the mortality of a septic patient in ICU given some data obtained at the hospital.\n",
    "\n",
    "Info on sepsis : http://en.wikipedia.org/wiki/Sepsis\n",
    "\n",
    "### Description of the available data\n",
    "\n",
    "The dataset contains data from 1713 patients described by 753 variables\n",
    "\n",
    "\n",
    "The number of variables in the MIMIC-II database is vast: about five thousand are available in the chart events table and more than seven hundred in the laboratory events table. Many of these variables have similar meanings and could be merged while others are present in too few patients to be useful. Yet, the amount of available covariates constitutes a typical challenge of clinical data-mining. Information available in MIMIC-II generally includes :\n",
    "\n",
    "* Demographics age, gender, admission type and source, ethnicity, religion and, social security group (at admission)\n",
    "* Laboratory results results from all the blood samples (a few times a day)\n",
    "* Vital signs nurse-verified values entered in bedside monitors including HR, ABP, Arterial Oxygen Saturation (SpO2), and Breathing Rate (BR) – approximately sampled once an hour\n",
    "* Medication given to patients and mode of administration\n",
    "* Administrative data used for billing and administrative monitoring (at discharge)\n",
    "* Free text notes that comprise nurse notes, radiology reports and discharge summary; \n",
    "* Outcome In-hospital mortality, in-ICU mortality and date of death (outside the hospital) when applicable.\n",
    "* The population of interest here are all adult patients with severe sepsis presenting hypotension for which adequate interventions were found.\n",
    "\n",
    "\n",
    "#### Variables available in the dataset:\n",
    "\n",
    "Variables are either boolean, categorical, or continuous. There are some missing data. Variables of the form AAA_BBB_CCC are an ICD9 boolean code. A variable of the form VAR-0->24-mean corresponds to the mean of a variable during the first 24 hours after admission in the careunit. Same for VAR-0->24-min, VAR-0->24-max, VAR-0->24-std.\n",
    "\n",
    "Now a partial list of variables:\n",
    "\n",
    "* ADMISSION_SOURCE_DESCR: admission type and source\n",
    "* AGE: The age of the patient\n",
    "* AIDS: True if patient suffered from Acute Immune Dysfunction Syndrome.\n",
    "* ALCOHOL_ABUSE : True if patient suffered from alcohol abuse.\n",
    "* ALP: blood test result, level of Alkaline phosphatase protein\n",
    "* AST: blood test result, level of aspartate aminotransferase protein\n",
    "* Albumin: blood test result, level of albumin\n",
    "* BLOOD_LOSS_ANEMIA: binary, code ICD9 (comorbidité) van val raven score\n",
    "* BUN:  Blood Urea Nitrogen\n",
    "* Bilirubin: blood test level\n",
    "* Bypass: True if bypass surgery was performed.\n",
    "* CARDIAC_ARRHYTHMIAS: True if patient suffers from cardiac arrhythmia\n",
    "* CHRONIC_PULMONARY: True if patient suffers from chronic pulmonary problem\n",
    "* CO: cardiooutput. Amount of blood going out of the heart.\n",
    "* HC03: bicarbonate, diluation gaz dans le sang\n",
    "* CONGESTIVE_HEART_FAILURE: binary ICD9\n",
    "* Cirrhosis: True if suffers from cirrhosis\n",
    "* Creatinine: creatinine is filtered out by the kidneys\n",
    "* D5Saline: liquid of type D5Saline injected in the blood\n",
    "* DEFICIENCY_ANEMIAS: True if patient suffers from complicated anemia\n",
    "* DEPRESSION: True if patient suffers from depression\n",
    "* DIABETES_COMPLICATED: True if patient suffers from complicated diabetes\n",
    "* DIABETES_UNCOMPLICATED: True if patient suffers from uncomplicated diabetes\n",
    "* DRUG_ABUSE: True if patient suffered from drug abuse\n",
    "* ETHNICITY: variable from 1 to 5 describing the ethnic origin of the patient.\n",
    "* EyeOpen: did open eye\n",
    "* FIRST_CAREUNIT: True if patient admitted in first careunit\n",
    "* FiO2: FiO2 is a measure of the fraction (%) of oxygen present in the air inspired by the patient\n",
    "* GCS: Glasgow Coma Scale.\n",
    "* GENDER: Gender of the patient\n",
    "* Glucose: blood glucose value\n",
    "* Graft: number of grafts used for cardiac surgery"
   ]
  },
  {
   "cell_type": "code",
   "execution_count": 1,
   "metadata": {
    "collapsed": false
   },
   "outputs": [],
   "source": [
    "%matplotlib inline\n",
    "import numpy as np\n",
    "import pandas as pd\n",
    "import matplotlib.pyplot as plt"
   ]
  },
  {
   "cell_type": "markdown",
   "metadata": {},
   "source": [
    "## Fetch the data and load it in pandas"
   ]
  },
  {
   "cell_type": "code",
   "execution_count": 2,
   "metadata": {
    "collapsed": false
   },
   "outputs": [],
   "source": [
    "import os\n",
    "from urllib import urlretrieve\n",
    "\n",
    "url = (\"https://archive.ics.uci.edu/ml/machine-learning-databases\"\n",
    "       \"/adult/adult.data\")\n",
    "local_filename = os.path.basename(url)\n",
    "if not os.path.exists(local_filename):\n",
    "    print(\"Downloading Adult Census datasets from UCI\")\n",
    "    urlretrieve(url, local_filename)"
   ]
  },
  {
   "cell_type": "code",
   "execution_count": 3,
   "metadata": {
    "collapsed": true
   },
   "outputs": [],
   "source": [
    "urlretrieve?"
   ]
  },
  {
   "cell_type": "code",
   "execution_count": 11,
   "metadata": {
    "collapsed": false
   },
   "outputs": [],
   "source": [
    "local_filename = 'data/public/train.csv'\n",
    "data = pd.read_csv(local_filename, index_col=0)"
   ]
  },
  {
   "cell_type": "code",
   "execution_count": 5,
   "metadata": {
    "collapsed": false
   },
   "outputs": [
    {
     "data": {
      "text/plain": [
       "array(['TARGET', 'ADMISSION_SOURCE_DESCR', 'ADMISSION_TYPE_DESCR', 'AGE',\n",
       "       'AIDS', 'ALCOHOL_ABUSE', 'ALP-0->24-mean', 'ALP-0->24-min',\n",
       "       'ALP-0->24-max', 'ALP-0->24-std', 'ALT-0->24-mean', 'ALT-0->24-min',\n",
       "       'ALT-0->24-max', 'ALT-0->24-std', 'AST-0->24-mean', 'AST-0->24-min',\n",
       "       'AST-0->24-max', 'AST-0->24-std', 'Albumin-0->24-mean',\n",
       "       'Albumin-0->24-min', 'Albumin-0->24-max', 'Albumin-0->24-std',\n",
       "       'BLOOD_LOSS_ANEMIA', 'BUN-0->24-mean', 'BUN-0->24-min',\n",
       "       'BUN-0->24-max', 'BUN-0->24-std', 'Bilirubin-0->24-mean',\n",
       "       'Bilirubin-0->24-min', 'Bilirubin-0->24-max', 'Bilirubin-0->24-std',\n",
       "       'Bypass-0->24-mean', 'Bypass-0->24-min', 'Bypass-0->24-max',\n",
       "       'Bypass-0->24-std', 'CARDIAC_ARRHYTHMIAS', 'CHRONIC_PULMONARY',\n",
       "       'CO-0->24-mean', 'CO-0->24-min', 'CO-0->24-max', 'CO-0->24-std',\n",
       "       'COAGULOPATHY', 'CONGESTIVE_HEART_FAILURE', 'CVP-0->24-mean',\n",
       "       'CVP-0->24-min', 'CVP-0->24-max', 'CVP-0->24-std',\n",
       "       'Calcium-0->24-mean', 'Calcium-0->24-min', 'Calcium-0->24-max',\n",
       "       'Calcium-0->24-std', 'Chloride-0->24-mean', 'Chloride-0->24-min',\n",
       "       'Chloride-0->24-max', 'Chloride-0->24-std',\n",
       "       'Cholesterol-0->24-mean', 'Cholesterol-0->24-min',\n",
       "       'Cholesterol-0->24-max', 'Cholesterol-0->24-std', 'Cirrhosis',\n",
       "       'Coloids-0->24-mean', 'Creatinine-0->24-mean',\n",
       "       'Creatinine-0->24-min', 'Creatinine-0->24-max',\n",
       "       'Creatinine-0->24-std', 'D5Saline-0->24-mean', 'D5Saline-0->24-min',\n",
       "       'D5Saline-0->24-max', 'D5Saline-0->24-std', 'DEFICIENCY_ANEMIAS',\n",
       "       'DEPRESSION', 'DIABETES_COMPLICATED', 'DIABETES_UNCOMPLICATED',\n",
       "       'DRUG_ABUSE', 'DiasABP-0->24-mean', 'DiasABP-0->24-min',\n",
       "       'DiasABP-0->24-max', 'DiasABP-0->24-std', 'ETHNICITY',\n",
       "       'EyeOpen-0->24-mean', 'EyeOpen-0->24-min', 'EyeOpen-0->24-max',\n",
       "       'EyeOpen-0->24-std', 'FIRST_CAREUNIT', 'FLUID_ELECTROLYTE',\n",
       "       'FiO2-0->24-mean', 'FiO2-0->24-min', 'FiO2-0->24-max',\n",
       "       'FiO2-0->24-std', 'GCS-0->24-mean', 'GCS-0->24-min',\n",
       "       'GCS-0->24-max', 'GCS-0->24-std', 'GENDER', 'Glucose-0->24-mean',\n",
       "       'Glucose-0->24-min', 'Glucose-0->24-max', 'Glucose-0->24-std',\n",
       "       'Graft-0->24-mean', 'Graft-0->24-min', 'Graft-0->24-max',\n",
       "       'Graft-0->24-std', 'HCO3-0->24-mean', 'HCO3-0->24-min',\n",
       "       'HCO3-0->24-max', 'HCO3-0->24-std', 'HCT-0->24-mean',\n",
       "       'HCT-0->24-min', 'HCT-0->24-max', 'HCT-0->24-std',\n",
       "       'HEPFAIL_SEQUENCE', 'HE_LENGTH_MIN', 'HR-0->24-mean',\n",
       "       'HR-0->24-min', 'HR-0->24-max', 'HR-0->24-std', 'HYPERTENSION',\n",
       "       'HYPOTHYROIDISM', 'Haemoglobin-0->24-mean', 'Haemoglobin-0->24-min',\n",
       "       'Haemoglobin-0->24-max', 'Haemoglobin-0->24-std',\n",
       "       'HalfSaline-0->24-mean', 'HemSOFA-0->24-mean', 'HemSOFA-0->24-min',\n",
       "       'HemSOFA-0->24-max', 'HemSOFA-0->24-std', 'HepSOFA-0->24-mean',\n",
       "       'HepSOFA-0->24-min', 'HepSOFA-0->24-max', 'HepSOFA-0->24-std',\n",
       "       'INR-0->24-mean', 'INR-0->24-min', 'INR-0->24-max', 'INR-0->24-std',\n",
       "       'Insuline-0->24-mean', 'Insuline-0->24-min', 'Insuline-0->24-max',\n",
       "       'Insuline-0->24-std', 'Intub-0->24-mean', 'Intub-0->24-min',\n",
       "       'Intub-0->24-max', 'Intub-0->24-std', 'LIVER_DISEASE', 'LYMPHOMA',\n",
       "       'Lactate-0->24-mean', 'Lactate-0->24-min', 'Lactate-0->24-max',\n",
       "       'Lactate-0->24-std', 'MAP-0->24-mean', 'MAP-0->24-min',\n",
       "       'MAP-0->24-max', 'MAP-0->24-std', 'METASTATIC_CANCER', 'Metcan',\n",
       "       'Mg-0->24-mean', 'Mg-0->24-min', 'Mg-0->24-max', 'Mg-0->24-std',\n",
       "       'MotorResp-0->24-mean', 'MotorResp-0->24-min',\n",
       "       'MotorResp-0->24-max', 'MotorResp-0->24-std',\n",
       "       'NIDiasABP-0->24-mean', 'NIDiasABP-0->24-min',\n",
       "       'NIDiasABP-0->24-max', 'NIDiasABP-0->24-std', 'NIMAP-0->24-mean',\n",
       "       'NIMAP-0->24-min', 'NIMAP-0->24-max', 'NIMAP-0->24-std',\n",
       "       'NISysABP-0->24-mean', 'NISysABP-0->24-min', 'NISysABP-0->24-max',\n",
       "       'NISysABP-0->24-std', 'Na-0->24-mean', 'Na-0->24-min',\n",
       "       'Na-0->24-max', 'Na-0->24-std', 'NeuroSOFA-0->24-mean',\n",
       "       'NeuroSOFA-0->24-min', 'NeuroSOFA-0->24-max', 'NeuroSOFA-0->24-std',\n",
       "       'OBESITY', 'ONSET_TIME_HR', 'OTHER_NEUROLOGICAL',\n",
       "       'Org_Ecoli-0->24-mean', 'Org_Ecoli-0->24-min',\n",
       "       'Org_Ecoli-0->24-max', 'Org_Ecoli-0->24-std',\n",
       "       'Org_EnteroBactCloac-0->24-mean', 'Org_EnterocoFaecium-0->24-mean',\n",
       "       'Org_EnterocoSP-0->24-mean', 'Org_KlemsielPneumo-0->24-mean',\n",
       "       'Org_PseudomonasAeru-0->24-mean', 'Org_StaphAurCoag-0->24-mean',\n",
       "       'Org_StaphCoag-0->24-mean', 'PARALYSIS', 'PEPTIC_ULCER',\n",
       "       'PERIPHERAL_VASCULAR', 'PRE_LOS_DAY', 'PSYCHOSES',\n",
       "       'PULMONARY_CIRCULATION', 'PaCO2-0->24-mean', 'PaCO2-0->24-min',\n",
       "       'PaCO2-0->24-max', 'PaCO2-0->24-std', 'PaO2-0->24-mean',\n",
       "       'PaO2-0->24-min', 'PaO2-0->24-max', 'PaO2-0->24-std',\n",
       "       'Platelets-0->24-mean', 'Platelets-0->24-min',\n",
       "       'Platelets-0->24-max', 'Platelets-0->24-std',\n",
       "       'PrCardSOFA-0->24-mean', 'PrCardSOFA-0->24-min',\n",
       "       'PrCardSOFA-0->24-max', 'PrCardSOFA-0->24-std',\n",
       "       'Pressors-0->24-mean', 'Pressors-0->24-min', 'Pressors-0->24-max',\n",
       "       'Pressors-0->24-std', 'RENAL_FAILURE', 'RHEUMATOID_ARTHRITIS',\n",
       "       'RRT_TEXT', 'RTT-0->24-mean', 'RespRate-0->24-mean',\n",
       "       'RespRate-0->24-min', 'RespRate-0->24-max', 'RespRate-0->24-std',\n",
       "       'RespSOFA-0->24-mean', 'RespSOFA-0->24-min', 'RespSOFA-0->24-max',\n",
       "       'RespSOFA-0->24-std', 'RikersScale-0->24-mean',\n",
       "       'RikersScale-0->24-min', 'RikersScale-0->24-max',\n",
       "       'RikersScale-0->24-std', 'Ringers-0->24-mean', 'Ringers-0->24-min',\n",
       "       'Ringers-0->24-max', 'Ringers-0->24-std', 'SAPSI_FIRST',\n",
       "       'SOLID_TUMOR', 'SaO2-0->24-mean', 'SaO2-0->24-min',\n",
       "       'SaO2-0->24-max', 'SaO2-0->24-std', 'Saline-0->24-mean',\n",
       "       'Saline-0->24-min', 'Saline-0->24-max', 'Saline-0->24-std',\n",
       "       'Sedatives-0->24-mean', 'Sedatives-0->24-min',\n",
       "       'Sedatives-0->24-max', 'Sedatives-0->24-std',\n",
       "       'Site_blood-0->24-mean', 'Site_blood-0->24-min',\n",
       "       'Site_blood-0->24-max', 'Site_blood-0->24-std',\n",
       "       'Site_iv-0->24-mean', 'Site_swab-0->24-mean', 'SpO2-0->24-mean',\n",
       "       'SpO2-0->24-min', 'SpO2-0->24-max', 'SpO2-0->24-std',\n",
       "       'SysABP-0->24-mean', 'SysABP-0->24-min', 'SysABP-0->24-max',\n",
       "       'SysABP-0->24-std', 'Temp-0->24-mean', 'Temp-0->24-min',\n",
       "       'Temp-0->24-max', 'Temp-0->24-std', 'TropI-0->24-mean',\n",
       "       'TropI-0->24-min', 'TropI-0->24-max', 'TropI-0->24-std',\n",
       "       'TropT-0->24-mean', 'TropT-0->24-min', 'TropT-0->24-max',\n",
       "       'TropT-0->24-std', 'Urine-0->24-mean', 'Urine-0->24-min',\n",
       "       'Urine-0->24-max', 'Urine-0->24-std', 'VALVULAR_DISEASE',\n",
       "       'VerbalResp-0->24-mean', 'VerbalResp-0->24-min',\n",
       "       'VerbalResp-0->24-max', 'VerbalResp-0->24-std', 'WBC-0->24-mean',\n",
       "       'WBC-0->24-min', 'WBC-0->24-max', 'WBC-0->24-std', 'WEIGHT_LOSS',\n",
       "       'aids', 'cirrhosis', 'hepfail', 'immunosuppr', 'lymph', 'metcan',\n",
       "       'myeloma', 'pH-0->24-mean', 'pH-0->24-min', 'pH-0->24-max',\n",
       "       'pH-0->24-std', 'vent', 'SSRI', 'SNRI', 'EthnIsWhite',\n",
       "       'EthnIsBlack', 'EthnIsAsian', 'EthnIsOther', 'AdmTypeIsUrgent',\n",
       "       'AdmTypeIsElec', 'AdmTypeIsEmer', 'AdmTypeIsOther', 'AdmOrgIsTrans',\n",
       "       'AdmOrgIsEMR', 'AdmOrgIsRef', 'DAaO2-0->24-mean', 'DAaO2-0->24-min',\n",
       "       'DAaO2-0->24-max', 'DAaO2-0->24-std', 'PaFiO2-0->24-mean',\n",
       "       'PaFiO2-0->24-min', 'PaFiO2-0->24-max', 'PaFiO2-0->24-std',\n",
       "       'BUNCreatR-0->24-mean', 'BUNCreatR-0->24-min',\n",
       "       'BUNCreatR-0->24-max', 'BUNCreatR-0->24-std', 'ABPm-0->24-mean',\n",
       "       'ABPm-0->24-min', 'ABPm-0->24-max', 'ABPm-0->24-std',\n",
       "       'ABPd-0->24-mean', 'ABPd-0->24-min', 'ABPd-0->24-max',\n",
       "       'ABPd-0->24-std', 'ABPs-0->24-mean', 'ABPs-0->24-min',\n",
       "       'ABPs-0->24-max', 'ABPs-0->24-std', 'PP-0->24-mean', 'PP-0->24-min',\n",
       "       'PP-0->24-max', 'PP-0->24-std', 'ECO-0->24-mean', 'ECO-0->24-min',\n",
       "       'ECO-0->24-max', 'ECO-0->24-std', 'DP-0->24-mean', 'DP-0->24-min',\n",
       "       'DP-0->24-max', 'DP-0->24-std', 'ShockIndex-0->24-mean',\n",
       "       'ShockIndex-0->24-min', 'ShockIndex-0->24-max',\n",
       "       'ShockIndex-0->24-std', 'SEV-0->24-mean', 'SEV-0->24-min',\n",
       "       'SEV-0->24-max', 'SEV-0->24-std', 'ESEV-0->24-mean',\n",
       "       'ESEV-0->24-min', 'ESEV-0->24-max', 'ESEV-0->24-std',\n",
       "       'Pressors-0->24-sum', 'Urine-0->24-sum', 'Saline-0->24-sum',\n",
       "       'Ringers-0->24-sum', 'Coloids-0->24-sum', 'Insuline-0->24-sum',\n",
       "       'Sedatives-0->24-sum', 'ADMISSION_SOURCE_DESCR_mv',\n",
       "       'ADMISSION_TYPE_DESCR_mv', 'AGE_mv', 'AIDS_mv', 'ALCOHOL_ABUSE_mv',\n",
       "       'ALP-0->24-mean_mv', 'ALP-0->24-min_mv', 'ALP-0->24-max_mv',\n",
       "       'ALP-0->24-std_mv', 'ALT-0->24-mean_mv', 'ALT-0->24-min_mv',\n",
       "       'ALT-0->24-max_mv', 'ALT-0->24-std_mv', 'AST-0->24-mean_mv',\n",
       "       'AST-0->24-min_mv', 'AST-0->24-max_mv', 'AST-0->24-std_mv',\n",
       "       'Albumin-0->24-mean_mv', 'Albumin-0->24-min_mv',\n",
       "       'Albumin-0->24-max_mv', 'Albumin-0->24-std_mv',\n",
       "       'BLOOD_LOSS_ANEMIA_mv', 'BUN-0->24-mean_mv', 'BUN-0->24-min_mv',\n",
       "       'BUN-0->24-max_mv', 'BUN-0->24-std_mv', 'Bilirubin-0->24-mean_mv',\n",
       "       'Bilirubin-0->24-min_mv', 'Bilirubin-0->24-max_mv',\n",
       "       'Bilirubin-0->24-std_mv', 'Bypass-0->24-mean_mv',\n",
       "       'Bypass-0->24-min_mv', 'Bypass-0->24-max_mv', 'Bypass-0->24-std_mv',\n",
       "       'CARDIAC_ARRHYTHMIAS_mv', 'CHRONIC_PULMONARY_mv',\n",
       "       'CO-0->24-mean_mv', 'CO-0->24-min_mv', 'CO-0->24-max_mv',\n",
       "       'CO-0->24-std_mv', 'COAGULOPATHY_mv', 'CONGESTIVE_HEART_FAILURE_mv',\n",
       "       'CVP-0->24-mean_mv', 'CVP-0->24-min_mv', 'CVP-0->24-max_mv',\n",
       "       'CVP-0->24-std_mv', 'Calcium-0->24-mean_mv', 'Calcium-0->24-min_mv',\n",
       "       'Calcium-0->24-max_mv', 'Calcium-0->24-std_mv',\n",
       "       'Chloride-0->24-mean_mv', 'Chloride-0->24-min_mv',\n",
       "       'Chloride-0->24-max_mv', 'Chloride-0->24-std_mv',\n",
       "       'Cholesterol-0->24-mean_mv', 'Cholesterol-0->24-min_mv',\n",
       "       'Cholesterol-0->24-max_mv', 'Cholesterol-0->24-std_mv',\n",
       "       'Cirrhosis_mv', 'Coloids-0->24-mean_mv', 'Creatinine-0->24-mean_mv',\n",
       "       'Creatinine-0->24-min_mv', 'Creatinine-0->24-max_mv',\n",
       "       'Creatinine-0->24-std_mv', 'D5Saline-0->24-mean_mv',\n",
       "       'D5Saline-0->24-min_mv', 'D5Saline-0->24-max_mv',\n",
       "       'D5Saline-0->24-std_mv', 'DEFICIENCY_ANEMIAS_mv', 'DEPRESSION_mv',\n",
       "       'DIABETES_COMPLICATED_mv', 'DIABETES_UNCOMPLICATED_mv',\n",
       "       'DRUG_ABUSE_mv', 'DiasABP-0->24-mean_mv', 'DiasABP-0->24-min_mv',\n",
       "       'DiasABP-0->24-max_mv', 'DiasABP-0->24-std_mv', 'ETHNICITY_mv',\n",
       "       'EyeOpen-0->24-mean_mv', 'EyeOpen-0->24-min_mv',\n",
       "       'EyeOpen-0->24-max_mv', 'EyeOpen-0->24-std_mv', 'FIRST_CAREUNIT_mv',\n",
       "       'FLUID_ELECTROLYTE_mv', 'FiO2-0->24-mean_mv', 'FiO2-0->24-min_mv',\n",
       "       'FiO2-0->24-max_mv', 'FiO2-0->24-std_mv', 'GCS-0->24-mean_mv',\n",
       "       'GCS-0->24-min_mv', 'GCS-0->24-max_mv', 'GCS-0->24-std_mv',\n",
       "       'GENDER_mv', 'Glucose-0->24-mean_mv', 'Glucose-0->24-min_mv',\n",
       "       'Glucose-0->24-max_mv', 'Glucose-0->24-std_mv',\n",
       "       'Graft-0->24-mean_mv', 'Graft-0->24-min_mv', 'Graft-0->24-max_mv',\n",
       "       'Graft-0->24-std_mv', 'HCO3-0->24-mean_mv', 'HCO3-0->24-min_mv',\n",
       "       'HCO3-0->24-max_mv', 'HCO3-0->24-std_mv', 'HCT-0->24-mean_mv',\n",
       "       'HCT-0->24-min_mv', 'HCT-0->24-max_mv', 'HCT-0->24-std_mv',\n",
       "       'HEPFAIL_SEQUENCE_mv', 'HE_LENGTH_MIN_mv', 'HR-0->24-mean_mv',\n",
       "       'HR-0->24-min_mv', 'HR-0->24-max_mv', 'HR-0->24-std_mv',\n",
       "       'HYPERTENSION_mv', 'HYPOTHYROIDISM_mv', 'Haemoglobin-0->24-mean_mv',\n",
       "       'Haemoglobin-0->24-min_mv', 'Haemoglobin-0->24-max_mv',\n",
       "       'Haemoglobin-0->24-std_mv', 'HalfSaline-0->24-mean_mv',\n",
       "       'HemSOFA-0->24-mean_mv', 'HemSOFA-0->24-min_mv',\n",
       "       'HemSOFA-0->24-max_mv', 'HemSOFA-0->24-std_mv',\n",
       "       'HepSOFA-0->24-mean_mv', 'HepSOFA-0->24-min_mv',\n",
       "       'HepSOFA-0->24-max_mv', 'HepSOFA-0->24-std_mv', 'INR-0->24-mean_mv',\n",
       "       'INR-0->24-min_mv', 'INR-0->24-max_mv', 'INR-0->24-std_mv',\n",
       "       'Insuline-0->24-mean_mv', 'Insuline-0->24-min_mv',\n",
       "       'Insuline-0->24-max_mv', 'Insuline-0->24-std_mv',\n",
       "       'Intub-0->24-mean_mv', 'Intub-0->24-min_mv', 'Intub-0->24-max_mv',\n",
       "       'Intub-0->24-std_mv', 'LIVER_DISEASE_mv', 'LYMPHOMA_mv',\n",
       "       'Lactate-0->24-mean_mv', 'Lactate-0->24-min_mv',\n",
       "       'Lactate-0->24-max_mv', 'Lactate-0->24-std_mv', 'MAP-0->24-mean_mv',\n",
       "       'MAP-0->24-min_mv', 'MAP-0->24-max_mv', 'MAP-0->24-std_mv',\n",
       "       'METASTATIC_CANCER_mv', 'Metcan_mv', 'Mg-0->24-mean_mv',\n",
       "       'Mg-0->24-min_mv', 'Mg-0->24-max_mv', 'Mg-0->24-std_mv',\n",
       "       'MotorResp-0->24-mean_mv', 'MotorResp-0->24-min_mv',\n",
       "       'MotorResp-0->24-max_mv', 'MotorResp-0->24-std_mv',\n",
       "       'NIDiasABP-0->24-mean_mv', 'NIDiasABP-0->24-min_mv',\n",
       "       'NIDiasABP-0->24-max_mv', 'NIDiasABP-0->24-std_mv',\n",
       "       'NIMAP-0->24-mean_mv', 'NIMAP-0->24-min_mv', 'NIMAP-0->24-max_mv',\n",
       "       'NIMAP-0->24-std_mv', 'NISysABP-0->24-mean_mv',\n",
       "       'NISysABP-0->24-min_mv', 'NISysABP-0->24-max_mv',\n",
       "       'NISysABP-0->24-std_mv', 'Na-0->24-mean_mv', 'Na-0->24-min_mv',\n",
       "       'Na-0->24-max_mv', 'Na-0->24-std_mv', 'NeuroSOFA-0->24-mean_mv',\n",
       "       'NeuroSOFA-0->24-min_mv', 'NeuroSOFA-0->24-max_mv',\n",
       "       'NeuroSOFA-0->24-std_mv', 'OBESITY_mv', 'ONSET_TIME_HR_mv',\n",
       "       'OTHER_NEUROLOGICAL_mv', 'Org_Ecoli-0->24-mean_mv',\n",
       "       'Org_Ecoli-0->24-min_mv', 'Org_Ecoli-0->24-max_mv',\n",
       "       'Org_Ecoli-0->24-std_mv', 'Org_EnteroBactCloac-0->24-mean_mv',\n",
       "       'Org_EnterocoFaecium-0->24-mean_mv', 'Org_EnterocoSP-0->24-mean_mv',\n",
       "       'Org_KlemsielPneumo-0->24-mean_mv',\n",
       "       'Org_PseudomonasAeru-0->24-mean_mv',\n",
       "       'Org_StaphAurCoag-0->24-mean_mv', 'Org_StaphCoag-0->24-mean_mv',\n",
       "       'PARALYSIS_mv', 'PEPTIC_ULCER_mv', 'PERIPHERAL_VASCULAR_mv',\n",
       "       'PRE_LOS_DAY_mv', 'PSYCHOSES_mv', 'PULMONARY_CIRCULATION_mv',\n",
       "       'PaCO2-0->24-mean_mv', 'PaCO2-0->24-min_mv', 'PaCO2-0->24-max_mv',\n",
       "       'PaCO2-0->24-std_mv', 'PaO2-0->24-mean_mv', 'PaO2-0->24-min_mv',\n",
       "       'PaO2-0->24-max_mv', 'PaO2-0->24-std_mv', 'Platelets-0->24-mean_mv',\n",
       "       'Platelets-0->24-min_mv', 'Platelets-0->24-max_mv',\n",
       "       'Platelets-0->24-std_mv', 'PrCardSOFA-0->24-mean_mv',\n",
       "       'PrCardSOFA-0->24-min_mv', 'PrCardSOFA-0->24-max_mv',\n",
       "       'PrCardSOFA-0->24-std_mv', 'Pressors-0->24-mean_mv',\n",
       "       'Pressors-0->24-min_mv', 'Pressors-0->24-max_mv',\n",
       "       'Pressors-0->24-std_mv', 'RENAL_FAILURE_mv',\n",
       "       'RHEUMATOID_ARTHRITIS_mv', 'RRT_TEXT_mv', 'RTT-0->24-mean_mv',\n",
       "       'RespRate-0->24-mean_mv', 'RespRate-0->24-min_mv',\n",
       "       'RespRate-0->24-max_mv', 'RespRate-0->24-std_mv',\n",
       "       'RespSOFA-0->24-mean_mv', 'RespSOFA-0->24-min_mv',\n",
       "       'RespSOFA-0->24-max_mv', 'RespSOFA-0->24-std_mv',\n",
       "       'RikersScale-0->24-mean_mv', 'RikersScale-0->24-min_mv',\n",
       "       'RikersScale-0->24-max_mv', 'RikersScale-0->24-std_mv',\n",
       "       'Ringers-0->24-mean_mv', 'Ringers-0->24-min_mv',\n",
       "       'Ringers-0->24-max_mv', 'Ringers-0->24-std_mv', 'SAPSI_FIRST_mv',\n",
       "       'SOLID_TUMOR_mv', 'SaO2-0->24-mean_mv', 'SaO2-0->24-min_mv',\n",
       "       'SaO2-0->24-max_mv', 'SaO2-0->24-std_mv', 'Saline-0->24-mean_mv',\n",
       "       'Saline-0->24-min_mv', 'Saline-0->24-max_mv', 'Saline-0->24-std_mv',\n",
       "       'Sedatives-0->24-mean_mv', 'Sedatives-0->24-min_mv',\n",
       "       'Sedatives-0->24-max_mv', 'Sedatives-0->24-std_mv',\n",
       "       'Site_blood-0->24-mean_mv', 'Site_blood-0->24-min_mv',\n",
       "       'Site_blood-0->24-max_mv', 'Site_blood-0->24-std_mv',\n",
       "       'Site_iv-0->24-mean_mv', 'Site_swab-0->24-mean_mv',\n",
       "       'SpO2-0->24-mean_mv', 'SpO2-0->24-min_mv', 'SpO2-0->24-max_mv',\n",
       "       'SpO2-0->24-std_mv', 'SysABP-0->24-mean_mv', 'SysABP-0->24-min_mv',\n",
       "       'SysABP-0->24-max_mv', 'SysABP-0->24-std_mv', 'Temp-0->24-mean_mv',\n",
       "       'Temp-0->24-min_mv', 'Temp-0->24-max_mv', 'Temp-0->24-std_mv',\n",
       "       'TropI-0->24-mean_mv', 'TropI-0->24-min_mv', 'TropI-0->24-max_mv',\n",
       "       'TropI-0->24-std_mv', 'TropT-0->24-mean_mv', 'TropT-0->24-min_mv',\n",
       "       'TropT-0->24-max_mv', 'TropT-0->24-std_mv', 'Urine-0->24-mean_mv',\n",
       "       'Urine-0->24-min_mv', 'Urine-0->24-max_mv', 'Urine-0->24-std_mv',\n",
       "       'VALVULAR_DISEASE_mv', 'VerbalResp-0->24-mean_mv',\n",
       "       'VerbalResp-0->24-min_mv', 'VerbalResp-0->24-max_mv',\n",
       "       'VerbalResp-0->24-std_mv', 'WBC-0->24-mean_mv', 'WBC-0->24-min_mv',\n",
       "       'WBC-0->24-max_mv', 'WBC-0->24-std_mv', 'WEIGHT_LOSS_mv', 'aids_mv',\n",
       "       'cirrhosis_mv', 'hepfail_mv', 'immunosuppr_mv', 'lymph_mv',\n",
       "       'metcan_mv', 'myeloma_mv', 'pH-0->24-mean_mv', 'pH-0->24-min_mv',\n",
       "       'pH-0->24-max_mv', 'pH-0->24-std_mv', 'vent_mv', 'SSRI_mv',\n",
       "       'SNRI_mv', 'EthnIsWhite_mv', 'EthnIsBlack_mv', 'EthnIsAsian_mv',\n",
       "       'EthnIsOther_mv', 'AdmTypeIsUrgent_mv', 'AdmTypeIsElec_mv',\n",
       "       'AdmTypeIsEmer_mv', 'AdmTypeIsOther_mv', 'AdmOrgIsTrans_mv',\n",
       "       'AdmOrgIsEMR_mv', 'AdmOrgIsRef_mv', 'DAaO2-0->24-mean_mv',\n",
       "       'DAaO2-0->24-min_mv', 'DAaO2-0->24-max_mv', 'DAaO2-0->24-std_mv',\n",
       "       'PaFiO2-0->24-mean_mv', 'PaFiO2-0->24-min_mv',\n",
       "       'PaFiO2-0->24-max_mv', 'PaFiO2-0->24-std_mv',\n",
       "       'BUNCreatR-0->24-mean_mv', 'BUNCreatR-0->24-min_mv',\n",
       "       'BUNCreatR-0->24-max_mv', 'BUNCreatR-0->24-std_mv',\n",
       "       'ABPm-0->24-mean_mv', 'ABPm-0->24-min_mv', 'ABPm-0->24-max_mv',\n",
       "       'ABPm-0->24-std_mv', 'ABPd-0->24-mean_mv', 'ABPd-0->24-min_mv',\n",
       "       'ABPd-0->24-max_mv', 'ABPd-0->24-std_mv', 'ABPs-0->24-mean_mv',\n",
       "       'ABPs-0->24-min_mv', 'ABPs-0->24-max_mv', 'ABPs-0->24-std_mv',\n",
       "       'PP-0->24-mean_mv', 'PP-0->24-min_mv', 'PP-0->24-max_mv',\n",
       "       'PP-0->24-std_mv', 'ECO-0->24-mean_mv', 'ECO-0->24-min_mv',\n",
       "       'ECO-0->24-max_mv', 'ECO-0->24-std_mv', 'DP-0->24-mean_mv',\n",
       "       'DP-0->24-min_mv', 'DP-0->24-max_mv', 'DP-0->24-std_mv',\n",
       "       'ShockIndex-0->24-mean_mv', 'ShockIndex-0->24-min_mv',\n",
       "       'ShockIndex-0->24-max_mv', 'ShockIndex-0->24-std_mv',\n",
       "       'SEV-0->24-mean_mv', 'SEV-0->24-min_mv', 'SEV-0->24-max_mv',\n",
       "       'SEV-0->24-std_mv', 'ESEV-0->24-mean_mv', 'ESEV-0->24-min_mv',\n",
       "       'ESEV-0->24-max_mv', 'ESEV-0->24-std_mv', 'Pressors-0->24-sum_mv',\n",
       "       'Urine-0->24-sum_mv', 'Saline-0->24-sum_mv', 'Ringers-0->24-sum_mv',\n",
       "       'Coloids-0->24-sum_mv', 'Insuline-0->24-sum_mv',\n",
       "       'Sedatives-0->24-sum_mv'], dtype=object)"
      ]
     },
     "execution_count": 5,
     "metadata": {},
     "output_type": "execute_result"
    }
   ],
   "source": [
    "data.columns.values"
   ]
  },
  {
   "cell_type": "code",
   "execution_count": 6,
   "metadata": {
    "collapsed": false
   },
   "outputs": [
    {
     "data": {
      "text/html": [
       "<div>\n",
       "<table border=\"1\" class=\"dataframe\">\n",
       "  <thead>\n",
       "    <tr style=\"text-align: right;\">\n",
       "      <th></th>\n",
       "      <th>TARGET</th>\n",
       "      <th>ADMISSION_SOURCE_DESCR</th>\n",
       "      <th>ADMISSION_TYPE_DESCR</th>\n",
       "      <th>AGE</th>\n",
       "      <th>AIDS</th>\n",
       "      <th>ALCOHOL_ABUSE</th>\n",
       "      <th>ALP-0-&gt;24-mean</th>\n",
       "      <th>ALP-0-&gt;24-min</th>\n",
       "      <th>ALP-0-&gt;24-max</th>\n",
       "      <th>ALP-0-&gt;24-std</th>\n",
       "      <th>...</th>\n",
       "      <th>ESEV-0-&gt;24-min_mv</th>\n",
       "      <th>ESEV-0-&gt;24-max_mv</th>\n",
       "      <th>ESEV-0-&gt;24-std_mv</th>\n",
       "      <th>Pressors-0-&gt;24-sum_mv</th>\n",
       "      <th>Urine-0-&gt;24-sum_mv</th>\n",
       "      <th>Saline-0-&gt;24-sum_mv</th>\n",
       "      <th>Ringers-0-&gt;24-sum_mv</th>\n",
       "      <th>Coloids-0-&gt;24-sum_mv</th>\n",
       "      <th>Insuline-0-&gt;24-sum_mv</th>\n",
       "      <th>Sedatives-0-&gt;24-sum_mv</th>\n",
       "    </tr>\n",
       "  </thead>\n",
       "  <tbody>\n",
       "    <tr>\n",
       "      <th>35</th>\n",
       "      <td>0</td>\n",
       "      <td>1</td>\n",
       "      <td>3</td>\n",
       "      <td>48.12</td>\n",
       "      <td>0</td>\n",
       "      <td>0</td>\n",
       "      <td>NaN</td>\n",
       "      <td>NaN</td>\n",
       "      <td>NaN</td>\n",
       "      <td>NaN</td>\n",
       "      <td>...</td>\n",
       "      <td>0</td>\n",
       "      <td>0</td>\n",
       "      <td>0</td>\n",
       "      <td>0</td>\n",
       "      <td>0</td>\n",
       "      <td>0</td>\n",
       "      <td>0</td>\n",
       "      <td>0</td>\n",
       "      <td>0</td>\n",
       "      <td>0</td>\n",
       "    </tr>\n",
       "    <tr>\n",
       "      <th>407</th>\n",
       "      <td>1</td>\n",
       "      <td>1</td>\n",
       "      <td>3</td>\n",
       "      <td>77.56</td>\n",
       "      <td>0</td>\n",
       "      <td>0</td>\n",
       "      <td>175.0</td>\n",
       "      <td>175</td>\n",
       "      <td>175</td>\n",
       "      <td>0.000000</td>\n",
       "      <td>...</td>\n",
       "      <td>0</td>\n",
       "      <td>0</td>\n",
       "      <td>0</td>\n",
       "      <td>0</td>\n",
       "      <td>0</td>\n",
       "      <td>0</td>\n",
       "      <td>0</td>\n",
       "      <td>0</td>\n",
       "      <td>0</td>\n",
       "      <td>0</td>\n",
       "    </tr>\n",
       "    <tr>\n",
       "      <th>1512</th>\n",
       "      <td>0</td>\n",
       "      <td>1</td>\n",
       "      <td>3</td>\n",
       "      <td>64.37</td>\n",
       "      <td>0</td>\n",
       "      <td>0</td>\n",
       "      <td>NaN</td>\n",
       "      <td>NaN</td>\n",
       "      <td>NaN</td>\n",
       "      <td>NaN</td>\n",
       "      <td>...</td>\n",
       "      <td>0</td>\n",
       "      <td>0</td>\n",
       "      <td>0</td>\n",
       "      <td>0</td>\n",
       "      <td>0</td>\n",
       "      <td>0</td>\n",
       "      <td>0</td>\n",
       "      <td>0</td>\n",
       "      <td>0</td>\n",
       "      <td>0</td>\n",
       "    </tr>\n",
       "    <tr>\n",
       "      <th>355</th>\n",
       "      <td>0</td>\n",
       "      <td>1</td>\n",
       "      <td>3</td>\n",
       "      <td>76.04</td>\n",
       "      <td>0</td>\n",
       "      <td>0</td>\n",
       "      <td>53.5</td>\n",
       "      <td>47</td>\n",
       "      <td>60</td>\n",
       "      <td>9.192388</td>\n",
       "      <td>...</td>\n",
       "      <td>0</td>\n",
       "      <td>0</td>\n",
       "      <td>0</td>\n",
       "      <td>0</td>\n",
       "      <td>0</td>\n",
       "      <td>0</td>\n",
       "      <td>0</td>\n",
       "      <td>0</td>\n",
       "      <td>0</td>\n",
       "      <td>0</td>\n",
       "    </tr>\n",
       "    <tr>\n",
       "      <th>1758</th>\n",
       "      <td>0</td>\n",
       "      <td>1</td>\n",
       "      <td>3</td>\n",
       "      <td>81.84</td>\n",
       "      <td>0</td>\n",
       "      <td>0</td>\n",
       "      <td>NaN</td>\n",
       "      <td>NaN</td>\n",
       "      <td>NaN</td>\n",
       "      <td>NaN</td>\n",
       "      <td>...</td>\n",
       "      <td>0</td>\n",
       "      <td>0</td>\n",
       "      <td>0</td>\n",
       "      <td>0</td>\n",
       "      <td>0</td>\n",
       "      <td>0</td>\n",
       "      <td>0</td>\n",
       "      <td>0</td>\n",
       "      <td>0</td>\n",
       "      <td>0</td>\n",
       "    </tr>\n",
       "  </tbody>\n",
       "</table>\n",
       "<p>5 rows × 753 columns</p>\n",
       "</div>"
      ],
      "text/plain": [
       "      TARGET  ADMISSION_SOURCE_DESCR  ADMISSION_TYPE_DESCR    AGE  AIDS  \\\n",
       "35         0                       1                     3  48.12     0   \n",
       "407        1                       1                     3  77.56     0   \n",
       "1512       0                       1                     3  64.37     0   \n",
       "355        0                       1                     3  76.04     0   \n",
       "1758       0                       1                     3  81.84     0   \n",
       "\n",
       "      ALCOHOL_ABUSE  ALP-0->24-mean  ALP-0->24-min  ALP-0->24-max  \\\n",
       "35                0             NaN            NaN            NaN   \n",
       "407               0           175.0            175            175   \n",
       "1512              0             NaN            NaN            NaN   \n",
       "355               0            53.5             47             60   \n",
       "1758              0             NaN            NaN            NaN   \n",
       "\n",
       "      ALP-0->24-std           ...            ESEV-0->24-min_mv  \\\n",
       "35              NaN           ...                            0   \n",
       "407        0.000000           ...                            0   \n",
       "1512            NaN           ...                            0   \n",
       "355        9.192388           ...                            0   \n",
       "1758            NaN           ...                            0   \n",
       "\n",
       "      ESEV-0->24-max_mv  ESEV-0->24-std_mv  Pressors-0->24-sum_mv  \\\n",
       "35                    0                  0                      0   \n",
       "407                   0                  0                      0   \n",
       "1512                  0                  0                      0   \n",
       "355                   0                  0                      0   \n",
       "1758                  0                  0                      0   \n",
       "\n",
       "      Urine-0->24-sum_mv  Saline-0->24-sum_mv  Ringers-0->24-sum_mv  \\\n",
       "35                     0                    0                     0   \n",
       "407                    0                    0                     0   \n",
       "1512                   0                    0                     0   \n",
       "355                    0                    0                     0   \n",
       "1758                   0                    0                     0   \n",
       "\n",
       "      Coloids-0->24-sum_mv  Insuline-0->24-sum_mv  Sedatives-0->24-sum_mv  \n",
       "35                       0                      0                       0  \n",
       "407                      0                      0                       0  \n",
       "1512                     0                      0                       0  \n",
       "355                      0                      0                       0  \n",
       "1758                     0                      0                       0  \n",
       "\n",
       "[5 rows x 753 columns]"
      ]
     },
     "execution_count": 6,
     "metadata": {},
     "output_type": "execute_result"
    }
   ],
   "source": [
    "data.head()"
   ]
  },
  {
   "cell_type": "code",
   "execution_count": 7,
   "metadata": {
    "collapsed": false
   },
   "outputs": [
    {
     "data": {
      "image/png": "[encoded data removed]",
      "text/plain": [
       "<matplotlib.figure.Figure at 0x7fba9fdb6910>"
      ]
     },
     "metadata": {},
     "output_type": "display_data"
    }
   ],
   "source": [
    "data.hist(column='AGE', bins=15);"
   ]
  },
  {
   "cell_type": "code",
   "execution_count": 8,
   "metadata": {
    "collapsed": false
   },
   "outputs": [
    {
     "data": {
      "image/png": "[encoded data removed]",
      "text/plain": [
       "<matplotlib.figure.Figure at 0x7fba86ff0e50>"
      ]
     },
     "metadata": {},
     "output_type": "display_data"
    }
   ],
   "source": [
    "data.hist(column='ALCOHOL_ABUSE', bins=15);"
   ]
  },
  {
   "cell_type": "code",
   "execution_count": 9,
   "metadata": {
    "collapsed": false
   },
   "outputs": [
    {
     "data": {
      "image/png": "[encoded data removed]",
      "text/plain": [
       "<matplotlib.figure.Figure at 0x7fba85e6b0d0>"
      ]
     },
     "metadata": {},
     "output_type": "display_data"
    }
   ],
   "source": [
    "data.hist('ETHNICITY', bins=15);"
   ]
  },
  {
   "cell_type": "code",
   "execution_count": 10,
   "metadata": {
    "collapsed": false
   },
   "outputs": [
    {
     "data": {
      "image/png": "[encoded data removed]",
      "text/plain": [
       "<matplotlib.figure.Figure at 0x7fba82bfe4d0>"
      ]
     },
     "metadata": {},
     "output_type": "display_data"
    }
   ],
   "source": [
    "plt.hist(data['TARGET'].values * 10., bins=10, normed=True);"
   ]
  },
  {
   "cell_type": "code",
   "execution_count": 11,
   "metadata": {
    "collapsed": false
   },
   "outputs": [
    {
     "data": {
      "image/png": "[encoded data removed]",
      "text/plain": [
       "<matplotlib.figure.Figure at 0x7fba85e88890>"
      ]
     },
     "metadata": {},
     "output_type": "display_data"
    }
   ],
   "source": [
    "age = data['AGE']\n",
    "bins = 10\n",
    "\n",
    "younger = data[age < 25]\n",
    "middle = data[(age > 25) & (age < 50)]\n",
    "older = data[age > 50]\n",
    "\n",
    "plt.hist(younger['TARGET'].values * bins,\n",
    "         bins=bins, label=\"younger\", alpha=0.2, normed=True)\n",
    "plt.hist(middle['TARGET'].values *  bins,\n",
    "         bins=bins, label=\"middle age\", alpha=0.2, normed=True)\n",
    "plt.hist(older['TARGET'].values *  bins,\n",
    "         bins=bins, label=\"older\", alpha=0.2, normed=True)\n",
    "plt.legend();"
   ]
  },
  {
   "cell_type": "code",
   "execution_count": 41,
   "metadata": {
    "collapsed": false
   },
   "outputs": [
    {
     "data": {
      "image/png": "[encoded data removed]",
      "text/plain": [
       "<matplotlib.figure.Figure at 0x7fba7a904310>"
      ]
     },
     "metadata": {},
     "output_type": "display_data"
    }
   ],
   "source": [
    "target = data['TARGET']\n",
    "plt.scatter(x=data.AGE[target==1], y=data['ALP-0->24-max'][target==1],\n",
    "          alpha=0.1, s=50, c='b');\n",
    "plt.scatter(x=data.AGE[target==0], y=data['ALP-0->24-max'][target==0],\n",
    "          alpha=0.1, s=50, c='r');"
   ]
  },
  {
   "cell_type": "code",
   "execution_count": 18,
   "metadata": {
    "collapsed": false
   },
   "outputs": [
    {
     "data": {
      "image/png": "[encoded data removed]",
      "text/plain": [
       "<matplotlib.figure.Figure at 0x7fba7abb4450>"
      ]
     },
     "metadata": {},
     "output_type": "display_data"
    },
    {
     "data": {
      "image/png": "[encoded data removed]",
      "text/plain": [
       "<matplotlib.figure.Figure at 0x7fba7abb4810>"
      ]
     },
     "metadata": {},
     "output_type": "display_data"
    }
   ],
   "source": [
    "target = data['TARGET']\n",
    "data[target==1].plot(x='AGE', y='ALP-0->24-max', kind='scatter',\n",
    "          alpha=0.02, s=50,hold=);"
   ]
  },
  {
   "cell_type": "markdown",
   "metadata": {},
   "source": [
    "## Building predictive models"
   ]
  },
  {
   "cell_type": "code",
   "execution_count": 43,
   "metadata": {
    "collapsed": false
   },
   "outputs": [
    {
     "data": {
      "text/html": [
       "<div>\n",
       "<table border=\"1\" class=\"dataframe\">\n",
       "  <thead>\n",
       "    <tr style=\"text-align: right;\">\n",
       "      <th></th>\n",
       "      <th>TARGET</th>\n",
       "      <th>ADMISSION_SOURCE_DESCR</th>\n",
       "      <th>ADMISSION_TYPE_DESCR</th>\n",
       "      <th>AGE</th>\n",
       "      <th>AIDS</th>\n",
       "      <th>ALCOHOL_ABUSE</th>\n",
       "      <th>ALP-0-&gt;24-mean</th>\n",
       "      <th>ALP-0-&gt;24-min</th>\n",
       "      <th>ALP-0-&gt;24-max</th>\n",
       "      <th>ALP-0-&gt;24-std</th>\n",
       "      <th>...</th>\n",
       "      <th>ESEV-0-&gt;24-min_mv</th>\n",
       "      <th>ESEV-0-&gt;24-max_mv</th>\n",
       "      <th>ESEV-0-&gt;24-std_mv</th>\n",
       "      <th>Pressors-0-&gt;24-sum_mv</th>\n",
       "      <th>Urine-0-&gt;24-sum_mv</th>\n",
       "      <th>Saline-0-&gt;24-sum_mv</th>\n",
       "      <th>Ringers-0-&gt;24-sum_mv</th>\n",
       "      <th>Coloids-0-&gt;24-sum_mv</th>\n",
       "      <th>Insuline-0-&gt;24-sum_mv</th>\n",
       "      <th>Sedatives-0-&gt;24-sum_mv</th>\n",
       "    </tr>\n",
       "  </thead>\n",
       "  <tbody>\n",
       "    <tr>\n",
       "      <th>35</th>\n",
       "      <td>0</td>\n",
       "      <td>0</td>\n",
       "      <td>0</td>\n",
       "      <td>0</td>\n",
       "      <td>0</td>\n",
       "      <td>0</td>\n",
       "      <td>-1</td>\n",
       "      <td>-1</td>\n",
       "      <td>-1</td>\n",
       "      <td>-1</td>\n",
       "      <td>...</td>\n",
       "      <td>0</td>\n",
       "      <td>0</td>\n",
       "      <td>0</td>\n",
       "      <td>0</td>\n",
       "      <td>0</td>\n",
       "      <td>0</td>\n",
       "      <td>0</td>\n",
       "      <td>0</td>\n",
       "      <td>0</td>\n",
       "      <td>0</td>\n",
       "    </tr>\n",
       "    <tr>\n",
       "      <th>407</th>\n",
       "      <td>1</td>\n",
       "      <td>0</td>\n",
       "      <td>0</td>\n",
       "      <td>1</td>\n",
       "      <td>0</td>\n",
       "      <td>0</td>\n",
       "      <td>0</td>\n",
       "      <td>0</td>\n",
       "      <td>0</td>\n",
       "      <td>0</td>\n",
       "      <td>...</td>\n",
       "      <td>0</td>\n",
       "      <td>0</td>\n",
       "      <td>0</td>\n",
       "      <td>0</td>\n",
       "      <td>0</td>\n",
       "      <td>0</td>\n",
       "      <td>0</td>\n",
       "      <td>0</td>\n",
       "      <td>0</td>\n",
       "      <td>0</td>\n",
       "    </tr>\n",
       "    <tr>\n",
       "      <th>1512</th>\n",
       "      <td>0</td>\n",
       "      <td>0</td>\n",
       "      <td>0</td>\n",
       "      <td>2</td>\n",
       "      <td>0</td>\n",
       "      <td>0</td>\n",
       "      <td>-1</td>\n",
       "      <td>-1</td>\n",
       "      <td>-1</td>\n",
       "      <td>-1</td>\n",
       "      <td>...</td>\n",
       "      <td>0</td>\n",
       "      <td>0</td>\n",
       "      <td>0</td>\n",
       "      <td>0</td>\n",
       "      <td>0</td>\n",
       "      <td>0</td>\n",
       "      <td>0</td>\n",
       "      <td>0</td>\n",
       "      <td>0</td>\n",
       "      <td>0</td>\n",
       "    </tr>\n",
       "    <tr>\n",
       "      <th>355</th>\n",
       "      <td>0</td>\n",
       "      <td>0</td>\n",
       "      <td>0</td>\n",
       "      <td>3</td>\n",
       "      <td>0</td>\n",
       "      <td>0</td>\n",
       "      <td>1</td>\n",
       "      <td>1</td>\n",
       "      <td>1</td>\n",
       "      <td>1</td>\n",
       "      <td>...</td>\n",
       "      <td>0</td>\n",
       "      <td>0</td>\n",
       "      <td>0</td>\n",
       "      <td>0</td>\n",
       "      <td>0</td>\n",
       "      <td>0</td>\n",
       "      <td>0</td>\n",
       "      <td>0</td>\n",
       "      <td>0</td>\n",
       "      <td>0</td>\n",
       "    </tr>\n",
       "    <tr>\n",
       "      <th>1758</th>\n",
       "      <td>0</td>\n",
       "      <td>0</td>\n",
       "      <td>0</td>\n",
       "      <td>4</td>\n",
       "      <td>0</td>\n",
       "      <td>0</td>\n",
       "      <td>-1</td>\n",
       "      <td>-1</td>\n",
       "      <td>-1</td>\n",
       "      <td>-1</td>\n",
       "      <td>...</td>\n",
       "      <td>0</td>\n",
       "      <td>0</td>\n",
       "      <td>0</td>\n",
       "      <td>0</td>\n",
       "      <td>0</td>\n",
       "      <td>0</td>\n",
       "      <td>0</td>\n",
       "      <td>0</td>\n",
       "      <td>0</td>\n",
       "      <td>0</td>\n",
       "    </tr>\n",
       "  </tbody>\n",
       "</table>\n",
       "<p>5 rows × 753 columns</p>\n",
       "</div>"
      ],
      "text/plain": [
       "      TARGET  ADMISSION_SOURCE_DESCR  ADMISSION_TYPE_DESCR  AGE  AIDS  \\\n",
       "35         0                       0                     0    0     0   \n",
       "407        1                       0                     0    1     0   \n",
       "1512       0                       0                     0    2     0   \n",
       "355        0                       0                     0    3     0   \n",
       "1758       0                       0                     0    4     0   \n",
       "\n",
       "      ALCOHOL_ABUSE  ALP-0->24-mean  ALP-0->24-min  ALP-0->24-max  \\\n",
       "35                0              -1             -1             -1   \n",
       "407               0               0              0              0   \n",
       "1512              0              -1             -1             -1   \n",
       "355               0               1              1              1   \n",
       "1758              0              -1             -1             -1   \n",
       "\n",
       "      ALP-0->24-std           ...            ESEV-0->24-min_mv  \\\n",
       "35               -1           ...                            0   \n",
       "407               0           ...                            0   \n",
       "1512             -1           ...                            0   \n",
       "355               1           ...                            0   \n",
       "1758             -1           ...                            0   \n",
       "\n",
       "      ESEV-0->24-max_mv  ESEV-0->24-std_mv  Pressors-0->24-sum_mv  \\\n",
       "35                    0                  0                      0   \n",
       "407                   0                  0                      0   \n",
       "1512                  0                  0                      0   \n",
       "355                   0                  0                      0   \n",
       "1758                  0                  0                      0   \n",
       "\n",
       "      Urine-0->24-sum_mv  Saline-0->24-sum_mv  Ringers-0->24-sum_mv  \\\n",
       "35                     0                    0                     0   \n",
       "407                    0                    0                     0   \n",
       "1512                   0                    0                     0   \n",
       "355                    0                    0                     0   \n",
       "1758                   0                    0                     0   \n",
       "\n",
       "      Coloids-0->24-sum_mv  Insuline-0->24-sum_mv  Sedatives-0->24-sum_mv  \n",
       "35                       0                      0                       0  \n",
       "407                      0                      0                       0  \n",
       "1512                     0                      0                       0  \n",
       "355                      0                      0                       0  \n",
       "1758                     0                      0                       0  \n",
       "\n",
       "[5 rows x 753 columns]"
      ]
     },
     "execution_count": 43,
     "metadata": {},
     "output_type": "execute_result"
    }
   ],
   "source": [
    "data_encoded = data.apply(lambda x: pd.factorize(x)[0])\n",
    "data_encoded.head(5)"
   ]
  },
  {
   "cell_type": "code",
   "execution_count": 62,
   "metadata": {
    "collapsed": false
   },
   "outputs": [],
   "source": [
    "features = data_encoded.drop('TARGET', axis=1)\n",
    "X = features.values.astype(np.float32)\n",
    "y = data['TARGET'].values.astype(np.int32)"
   ]
  },
  {
   "cell_type": "code",
   "execution_count": 63,
   "metadata": {
    "collapsed": false
   },
   "outputs": [
    {
     "data": {
      "text/plain": [
       "0.28488032691185056"
      ]
     },
     "execution_count": 63,
     "metadata": {},
     "output_type": "execute_result"
    }
   ],
   "source": [
    "np.mean(y)"
   ]
  },
  {
   "cell_type": "code",
   "execution_count": 64,
   "metadata": {
    "collapsed": false
   },
   "outputs": [],
   "source": [
    "from sklearn.cross_validation import train_test_split\n",
    "\n",
    "X_train, X_test, y_train, y_test = train_test_split(\n",
    "    X, y, test_size=0.2, random_state=0)"
   ]
  },
  {
   "cell_type": "code",
   "execution_count": 65,
   "metadata": {
    "collapsed": false
   },
   "outputs": [
    {
     "name": "stdout",
     "output_type": "stream",
     "text": [
      "Accuracy: 0.7321 +/-0.0123\n"
     ]
    }
   ],
   "source": [
    "from sklearn.ensemble import RandomForestClassifier\n",
    "from sklearn.cross_validation import cross_val_score\n",
    "\n",
    "clf = RandomForestClassifier(n_estimators=30)\n",
    "\n",
    "scores = cross_val_score(clf, X_train, y_train, cv=5, scoring='accuracy')\n",
    "print(\"Accuracy: {:.4f} +/-{:.4f}\".format(\n",
    "    np.mean(scores), np.std(scores)))"
   ]
  },
  {
   "cell_type": "markdown",
   "metadata": {},
   "source": [
    "## Model error analysis"
   ]
  },
  {
   "cell_type": "code",
   "execution_count": 68,
   "metadata": {
    "collapsed": true
   },
   "outputs": [],
   "source": [
    "learning_curve?"
   ]
  },
  {
   "cell_type": "code",
   "execution_count": 71,
   "metadata": {
    "collapsed": false
   },
   "outputs": [],
   "source": [
    "from sklearn.learning_curve import learning_curve\n",
    "\n",
    "\n",
    "def plot_learning_curve(estimator, X, y, ylim=(0, 1.1), cv=5,\n",
    "                        n_jobs=-1, train_sizes=np.linspace(.1, 1.0, 5),\n",
    "                        scoring=None):\n",
    "    plt.title(\"Learning curves for %s\" % type(estimator).__name__)\n",
    "    plt.ylim(*ylim); plt.grid()\n",
    "    plt.xlabel(\"Training examples\")\n",
    "    plt.ylabel(\"Score\")\n",
    "    train_sizes, train_scores, test_scores = learning_curve(\n",
    "        estimator, X, y, cv=cv, n_jobs=n_jobs, train_sizes=train_sizes,\n",
    "        scoring=scoring)\n",
    "    train_scores_mean = np.mean(train_scores, axis=1)\n",
    "    test_scores_mean = np.mean(test_scores, axis=1)\n",
    "\n",
    "    plt.plot(train_sizes, train_scores_mean, 'o-', color=\"r\",\n",
    "             label=\"Training score\")\n",
    "    plt.plot(train_sizes, test_scores_mean, 'o-', color=\"g\",\n",
    "             label=\"Cross-validation score\")\n",
    "    plt.legend(loc=\"best\")\n",
    "    print(\"Best test score: {:.4f}\".format(test_scores_mean[-1]))"
   ]
  },
  {
   "cell_type": "code",
   "execution_count": 93,
   "metadata": {
    "collapsed": false
   },
   "outputs": [
    {
     "name": "stdout",
     "output_type": "stream",
     "text": [
      "Best test score: 0.5531\n"
     ]
    },
    {
     "data": {
      "image/png": "[encoded data removed]",
      "text/plain": [
       "<matplotlib.figure.Figure at 0x7fba7a77b850>"
      ]
     },
     "metadata": {},
     "output_type": "display_data"
    }
   ],
   "source": [
    "from sklearn.tree import DecisionTreeClassifier\n",
    "\n",
    "clf = DecisionTreeClassifier(max_depth=30)\n",
    "plot_learning_curve(clf, X_train, y_train, scoring='roc_auc')"
   ]
  },
  {
   "cell_type": "code",
   "execution_count": 94,
   "metadata": {
    "collapsed": false
   },
   "outputs": [
    {
     "name": "stdout",
     "output_type": "stream",
     "text": [
      "Best test score: 0.5184\n"
     ]
    },
    {
     "data": {
      "image/png": "[encoded data removed]",
      "text/plain": [
       "<matplotlib.figure.Figure at 0x7fba7a82ce90>"
      ]
     },
     "metadata": {},
     "output_type": "display_data"
    }
   ],
   "source": [
    "clf = DecisionTreeClassifier(max_depth=15)\n",
    "plot_learning_curve(clf, X_train, y_train, scoring='roc_auc')"
   ]
  },
  {
   "cell_type": "code",
   "execution_count": 95,
   "metadata": {
    "collapsed": false
   },
   "outputs": [
    {
     "name": "stdout",
     "output_type": "stream",
     "text": [
      "Best test score: 0.5916\n"
     ]
    },
    {
     "data": {
      "image/png": "[encoded data removed]",
      "text/plain": [
       "<matplotlib.figure.Figure at 0x7fba7a7167d0>"
      ]
     },
     "metadata": {},
     "output_type": "display_data"
    }
   ],
   "source": [
    "clf = DecisionTreeClassifier(max_depth=2)\n",
    "plot_learning_curve(clf, X_train, y_train, scoring='roc_auc')"
   ]
  },
  {
   "cell_type": "code",
   "execution_count": 25,
   "metadata": {
    "collapsed": false
   },
   "outputs": [],
   "source": [
    "from sklearn.learning_curve import validation_curve\n",
    "\n",
    "\n",
    "def plot_validation_curve(estimator, X, y, param_name, param_range,\n",
    "                          ylim=(0, 1.1), cv=5, n_jobs=-1, scoring=None):\n",
    "    estimator_name = type(estimator).__name__\n",
    "    plt.title(\"Validation curves for %s on %s\"\n",
    "              % (param_name, estimator_name))\n",
    "    plt.ylim(*ylim); plt.grid()\n",
    "    plt.xlim(min(param_range), max(param_range))\n",
    "    plt.xlabel(param_name)\n",
    "    plt.ylabel(\"Score\")\n",
    "\n",
    "    train_scores, test_scores = validation_curve(\n",
    "        estimator, X, y, param_name, param_range,\n",
    "        cv=cv, n_jobs=n_jobs, scoring=scoring)\n",
    "\n",
    "    train_scores_mean = np.mean(train_scores, axis=1)\n",
    "    test_scores_mean = np.mean(test_scores, axis=1)\n",
    "    plt.semilogx(param_range, train_scores_mean, 'o-', color=\"r\",\n",
    "                 label=\"Training score\")\n",
    "    plt.semilogx(param_range, test_scores_mean, 'o-', color=\"g\",\n",
    "                 label=\"Cross-validation score\")\n",
    "    plt.legend(loc=\"best\")\n",
    "    print(\"Best test score: {:.4f}\".format(test_scores_mean[-1]))"
   ]
  },
  {
   "cell_type": "code",
   "execution_count": 76,
   "metadata": {
    "collapsed": true
   },
   "outputs": [],
   "source": [
    "*ylim?"
   ]
  },
  {
   "cell_type": "code",
   "execution_count": 26,
   "metadata": {
    "collapsed": false
   },
   "outputs": [
    {
     "name": "stdout",
     "output_type": "stream",
     "text": [
      "Best test score: 0.5797\n"
     ]
    },
    {
     "data": {
      "image/png": "[encoded data removed]",
      "text/plain": [
       "<matplotlib.figure.Figure at 0x111e84590>"
      ]
     },
     "metadata": {},
     "output_type": "display_data"
    }
   ],
   "source": [
    "clf = DecisionTreeClassifier(max_depth=8)\n",
    "param_name = 'max_depth'\n",
    "param_range = [1, 2, 4, 8, 16, 32]\n",
    "\n",
    "plot_validation_curve(clf, X_train, y_train,\n",
    "                      param_name, param_range, scoring='roc_auc')"
   ]
  },
  {
   "cell_type": "markdown",
   "metadata": {},
   "source": [
    "## Random forests, Gradient Boosted Decision Trees"
   ]
  },
  {
   "cell_type": "code",
   "execution_count": 27,
   "metadata": {
    "collapsed": false
   },
   "outputs": [
    {
     "name": "stdout",
     "output_type": "stream",
     "text": [
      "ROC Random Forest: 0.7176 +/-0.0171\n"
     ]
    }
   ],
   "source": [
    "from sklearn.ensemble import RandomForestClassifier\n",
    "\n",
    "clf = RandomForestClassifier(n_estimators=30, max_features=10,\n",
    "                             max_depth=10)\n",
    "\n",
    "scores = cross_val_score(clf, X_train, y_train, cv=5, scoring='roc_auc',\n",
    "                         n_jobs=-1)\n",
    "print(\"ROC Random Forest: {:.4f} +/-{:.4f}\".format(\n",
    "    np.mean(scores), np.std(scores)))"
   ]
  },
  {
   "cell_type": "code",
   "execution_count": 28,
   "metadata": {
    "collapsed": false
   },
   "outputs": [
    {
     "name": "stdout",
     "output_type": "stream",
     "text": [
      "ROC AUC Gradient Boosted Trees: 0.7417 +/-0.0123\n"
     ]
    }
   ],
   "source": [
    "from sklearn.ensemble import GradientBoostingClassifier\n",
    "\n",
    "clf = GradientBoostingClassifier(max_leaf_nodes=5, learning_rate=0.1,\n",
    "                                 n_estimators=30)\n",
    "\n",
    "scores = cross_val_score(clf, X_train, y_train, cv=5, scoring='roc_auc',\n",
    "                         n_jobs=-1)\n",
    "print(\"ROC AUC Gradient Boosted Trees: {:.4f} +/-{:.4f}\".format(\n",
    "    np.mean(scores), np.std(scores)))"
   ]
  },
  {
   "cell_type": "markdown",
   "metadata": {},
   "source": [
    "## Evaluation of the best model"
   ]
  },
  {
   "cell_type": "code",
   "execution_count": 29,
   "metadata": {
    "collapsed": false
   },
   "outputs": [
    {
     "name": "stdout",
     "output_type": "stream",
     "text": [
      "CPU times: user 3.05 s, sys: 56.3 ms, total: 3.11 s\n",
      "Wall time: 3.11 s\n"
     ]
    }
   ],
   "source": [
    "%%time\n",
    "_ = clf.fit(X_train, y_train)"
   ]
  },
  {
   "cell_type": "code",
   "execution_count": 30,
   "metadata": {
    "collapsed": false
   },
   "outputs": [
    {
     "name": "stdout",
     "output_type": "stream",
     "text": [
      "ROC AUC: 0.7604\n"
     ]
    }
   ],
   "source": [
    "from sklearn.metrics import roc_auc_score\n",
    "\n",
    "y_pred_proba = clf.predict_proba(X_test)[:, 1]\n",
    "print(\"ROC AUC: %0.4f\" % roc_auc_score(y_test, y_pred_proba))"
   ]
  },
  {
   "cell_type": "code",
   "execution_count": 31,
   "metadata": {
    "collapsed": false
   },
   "outputs": [
    {
     "name": "stdout",
     "output_type": "stream",
     "text": [
      "             precision    recall  f1-score   support\n",
      "\n",
      "          T       0.74      0.96      0.84       238\n",
      "          A       0.73      0.23      0.35       105\n",
      "\n",
      "avg / total       0.74      0.74      0.69       343\n",
      "\n"
     ]
    }
   ],
   "source": [
    "from sklearn.metrics import classification_report\n",
    "\n",
    "y_pred = clf.predict(X_test)\n",
    "print(classification_report(y_test, y_pred, target_names='TARGET'))"
   ]
  },
  {
   "cell_type": "code",
   "execution_count": 32,
   "metadata": {
    "collapsed": false
   },
   "outputs": [
    {
     "data": {
      "image/png": "[encoded data removed]",
      "text/plain": [
       "<matplotlib.figure.Figure at 0x111e9f8d0>"
      ]
     },
     "metadata": {},
     "output_type": "display_data"
    }
   ],
   "source": [
    "from sklearn.metrics import precision_recall_curve\n",
    "\n",
    "precision_gb, recall_gb, _ = precision_recall_curve(y_test, y_pred_proba)\n",
    "\n",
    "plt.plot(precision_gb, recall_gb)\n",
    "plt.xlabel('precision')\n",
    "plt.ylabel('recall')\n",
    "plt.title('Precision / Recall curve');"
   ]
  },
  {
   "cell_type": "markdown",
   "metadata": {},
   "source": [
    "## Variable importances"
   ]
  },
  {
   "cell_type": "code",
   "execution_count": 33,
   "metadata": {
    "collapsed": false
   },
   "outputs": [
    {
     "data": {
      "image/png": "[encoded data removed]",
      "text/plain": [
       "<matplotlib.figure.Figure at 0x111e928d0>"
      ]
     },
     "metadata": {},
     "output_type": "display_data"
    }
   ],
   "source": [
    "plt.figure(figsize=(10, 5))\n",
    "\n",
    "ordering = np.argsort(clf.feature_importances_)[::-1][:30]\n",
    "\n",
    "importances = clf.feature_importances_[ordering]\n",
    "feature_names = features.columns[ordering]\n",
    "\n",
    "x = np.arange(len(feature_names))\n",
    "plt.bar(x, importances)\n",
    "plt.xticks(x + 0.5, feature_names, rotation=90, fontsize=15);"
   ]
  },
  {
   "cell_type": "markdown",
   "metadata": {},
   "source": [
    "## Imputation"
   ]
  },
  {
   "cell_type": "code",
   "execution_count": 34,
   "metadata": {
    "collapsed": true
   },
   "outputs": [],
   "source": [
    "features = data.drop('TARGET', axis=1)\n",
    "X = features.values.astype(np.float32)\n",
    "y = data['TARGET'].values.astype(np.int32)"
   ]
  },
  {
   "cell_type": "code",
   "execution_count": 35,
   "metadata": {
    "collapsed": false
   },
   "outputs": [],
   "source": [
    "from sklearn.cross_validation import train_test_split\n",
    "\n",
    "X_train, X_test, y_train, y_test = train_test_split(\n",
    "    X, y, test_size=0.2, random_state=0)"
   ]
  },
  {
   "cell_type": "code",
   "execution_count": 36,
   "metadata": {
    "collapsed": false
   },
   "outputs": [
    {
     "name": "stdout",
     "output_type": "stream",
     "text": [
      "Accuracy: 0.7569 +/-0.0096\n"
     ]
    }
   ],
   "source": [
    "from sklearn.ensemble import RandomForestClassifier\n",
    "from sklearn.cross_validation import cross_val_score\n",
    "from sklearn.preprocessing import Imputer\n",
    "from sklearn.pipeline import Pipeline\n",
    "\n",
    "clf = Pipeline([('imputer', Imputer(strategy='mean')),\n",
    "                ('rf', RandomForestClassifier(n_estimators=30))])\n",
    "\n",
    "scores = cross_val_score(clf, X_train, y_train, cv=5, scoring='accuracy')\n",
    "print(\"Accuracy: {:.4f} +/-{:.4f}\".format(\n",
    "    np.mean(scores), np.std(scores)))"
   ]
  },
  {
   "cell_type": "markdown",
   "metadata": {
    "collapsed": true
   },
   "source": [
    "## Unit testing\n",
    "\n",
    "It is <b><span style=\"color:red\">important that you test your submission files before submitting them</span></b>. For this we provide a unit test. Place the python file <code>classifier.py</code>, <a href = \"https://drive.google.com/file/d/0BzwKr6zuOkdROWpnUUE0Z1paZms/view?usp=sharing\"><code>user_test_submission.py</code></a> in a directory, set the paths to the data files in <code>user_test_submission.py</code>, and run \n",
    "\n",
    "<code>python user_test_submission.py</code>\n",
    "\n",
    "If it runs and prints \n",
    "<code>\n",
    "auc =  [some_number_between_0_and_1]\n",
    "accuracy =  [some_number_between_0_and_1]\n",
    "auc =  [some_number_between_0_and_1]\n",
    "accuracy =  [some_number_between_0_and_1]\n",
    "</code>\n",
    "you can submit the code."
   ]
  },
  {
   "cell_type": "code",
   "execution_count": 15,
   "metadata": {
    "collapsed": false
   },
   "outputs": [],
   "source": [
    "def missing(X):\n",
    "    X2 = X\n",
    "    for i in range(X.shape[1]):\n",
    "        a = np.nanmax(X[:,i])\n",
    "        X2[np.isnan(X[:,i]),i] = a\n",
    "    return X2"
   ]
  },
  {
   "cell_type": "code",
   "execution_count": 16,
   "metadata": {
    "collapsed": false
   },
   "outputs": [
    {
     "data": {
      "text/plain": [
       "(1713, 752)"
      ]
     },
     "execution_count": 16,
     "metadata": {},
     "output_type": "execute_result"
    }
   ],
   "source": [
    "x=data.values\n",
    "x=x[:,1:]\n",
    "x.shape"
   ]
  },
  {
   "cell_type": "code",
   "execution_count": 19,
   "metadata": {
    "collapsed": false
   },
   "outputs": [
    {
     "name": "stdout",
     "output_type": "stream",
     "text": [
      "0\n",
      "0\n"
     ]
    },
    {
     "data": {
      "text/plain": [
       "(1713, 752)"
      ]
     },
     "execution_count": 19,
     "metadata": {},
     "output_type": "execute_result"
    }
   ],
   "source": [
    "print np.sum(np.isnan(x))\n",
    "print np.sum(np.isnan(missing(x)))\n",
    "missing(x).shape"
   ]
  },
  {
   "cell_type": "code",
   "execution_count": 99,
   "metadata": {
    "collapsed": false
   },
   "outputs": [
    {
     "data": {
      "text/plain": [
       "array([[ 5.,  5.,  0.,  5.,  5.],\n",
       "       [-1., -1., -1., -1., -1.],\n",
       "       [-1., -1., -1., -1., -1.],\n",
       "       [-1., -1., -1., -1., -1.],\n",
       "       [ 6.,  6.,  0.,  6.,  6.]], dtype=float32)"
      ]
     },
     "execution_count": 99,
     "metadata": {},
     "output_type": "execute_result"
    }
   ],
   "source": [
    "X2[10:15,10:15]"
   ]
  },
  {
   "cell_type": "code",
   "execution_count": 26,
   "metadata": {
    "collapsed": false
   },
   "outputs": [
    {
     "data": {
      "text/plain": [
       "array([ True,  True,  True, ...,  True,  True,  True], dtype=bool)"
      ]
     },
     "execution_count": 26,
     "metadata": {},
     "output_type": "execute_result"
    }
   ],
   "source": [
    "np.isfinite(x[:,1])"
   ]
  },
  {
   "cell_type": "code",
   "execution_count": 2,
   "metadata": {
    "collapsed": false
   },
   "outputs": [
    {
     "data": {
      "text/plain": [
       "{'lr': 3, 'md': 2, 'msl': 3, 'mss': 3, 'ne': 1, 'ss': 3}"
      ]
     },
     "execution_count": 2,
     "metadata": {},
     "output_type": "execute_result"
    }
   ],
   "source": [
    "dict(ne=1, md=2, lr=3, mss=3, msl=3, ss=3)"
   ]
  }
 ],
 "metadata": {
  "anaconda-cloud": {},
  "kernelspec": {
   "display_name": "Python 2",
   "language": "python",
   "name": "python2"
  },
  "language_info": {
   "codemirror_mode": {
    "name": "ipython",
    "version": 2
   },
   "file_extension": ".py",
   "mimetype": "text/x-python",
   "name": "python",
   "nbconvert_exporter": "python",
   "pygments_lexer": "ipython2",
   "version": "2.7.12"
  }
 },
 "nbformat": 4,
 "nbformat_minor": 0
}
