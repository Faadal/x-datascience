{
 "cells": [
  {
   "cell_type": "code",
   "execution_count": null,
   "metadata": {
    "Rmd_chunk_options": "Knitr_Global_Options, include=FALSE",
    "autoscroll": false,
    "collapsed": true
   },
   "outputs": [],
   "source": [
    "library(knitr)\n",
    "opts_chunk$set(warning = FALSE, message = FALSE, cache = TRUE, autodep = TRUE, tidy = FALSE)\n",
    "library(\"rgl\")\n",
    "knit_hooks$set(webgl = hook_webgl)\n"
   ]
  },
  {
   "cell_type": "markdown",
   "metadata": {},
   "source": [
    "\n",
    "# Dimension Reduction\n",
    "\n",
    "As soon as the dimension is larger than 3, it becomes hard to visualize the raw data. Dimension reduction technique can be used to alleviate this issue by *projecting* the data in a low dimensional space, typically a 2D space. Note that those dimension reduction ideas can also be used a preprocessing step for any learning task.\n",
    "\n",
    "\n",
    "\n",
    "## Principal Component Analysis\n",
    "\n",
    "We will start by the most classical dimension reduction algorithm, the Principal Component Analysis one. The idea is to find a subspace spanned by $d'$ orthonormal columns $V^{(l)}$ such that the reconstruction error between the data and its projection on this subspace\n",
    "\\[\n",
    "\\sum_{i=1}^n \\| \\textbf{X}_i - m + V^t (\\textbf{X}_i -m) V\\|^2\n",
    "\\]\n",
    " is as small as possible. An explicit solution to this problem is given by the space spanned by the $d'$ eigenvectors of the $d \\times d$ empirical covariance matrix of the observations.\n",
    "\n",
    "The ACP is available in many package and will use the one provided by __FactoMineR__.\n",
    "\n",
    "### Decathlon dataset\n",
    "\n",
    "We will first consider a _classical_ dataset __decathlon__. It contains the performance of several athlets during two decathlons in 2004 the Decastar and the Olympic Game. Each observations consists of\n",
    "\n",
    "- the 10 raw performance in the 10 events,\n",
    "- the ranking in the event,\n",
    "- the total number of points,\n",
    "- the name of the event.\n",
    "\n",
    "During this lab, we will mainly focus on the 10 first columns.\n",
    "\n"
   ]
  },
  {
   "cell_type": "code",
   "execution_count": null,
   "metadata": {
    "Rmd_chunk_options": "Decathlon",
    "autoscroll": false,
    "collapsed": true
   },
   "outputs": [],
   "source": [
    "library(\"FactoMineR\")\n",
    "library(\"dplyr\")\n",
    "data(decathlon)\n",
    "colnames(decathlon)\n",
    "glimpse(decathlon)\n",
    "summary(decathlon)\n"
   ]
  },
  {
   "cell_type": "markdown",
   "metadata": {},
   "source": [
    "\n",
    "\n",
    "### Pairwise analysis\n",
    "\n",
    "1. We may plot the two first coordinates (__100m__ and __Long.jump__) adding the __Points__ information as a color.\n",
    "\n"
   ]
  },
  {
   "cell_type": "code",
   "execution_count": null,
   "metadata": {
    "Rmd_chunk_options": "Decathlon_2D",
    "autoscroll": false,
    "collapsed": true
   },
   "outputs": [],
   "source": [
    "library(\"ggplot2\")\n",
    "decathlon2 <- decathlon\n",
    "names(decathlon2) <- paste(\"P\", names(decathlon), sep = \"\") #Fix for the column names starting by a number...\n",
    "ggplot(data= decathlon2, aes(x = P100m, y = PLong.jump, color = PPoints)) + geom_point(size = 5) +\n",
    "  geom_text(label = row.names(decathlon), vjust = -1.25)\n",
    "  guides(color = FALSE)\n"
   ]
  },
  {
   "cell_type": "markdown",
   "metadata": {},
   "source": [
    "\n",
    "Do you think those values are correlated?\n",
    "\n",
    "2. Let's have a first look on the data by computing the correlation matrix between the 10 first variables.\n",
    "\n"
   ]
  },
  {
   "cell_type": "code",
   "execution_count": null,
   "metadata": {
    "Rmd_chunk_options": "Decathlon_Cor",
    "autoscroll": false,
    "collapsed": true
   },
   "outputs": [],
   "source": [
    "cor(decathlon[,1:10])\n"
   ]
  },
  {
   "cell_type": "markdown",
   "metadata": {},
   "source": [
    "\n",
    "Can you pick the most correlated variables and the least ones?\n",
    "\n",
    "3. We may look at the pairwise scatterplot to confirm those findings.\n",
    "\n"
   ]
  },
  {
   "cell_type": "code",
   "execution_count": null,
   "metadata": {
    "Rmd_chunk_options": "Pairwise",
    "autoscroll": false,
    "collapsed": true
   },
   "outputs": [],
   "source": [
    "library(GGally)\n",
    "ggpairs(decathlon2[,1:10])\n",
    "ggpairs(decathlon2, columns = c(1,2,6,10))\n"
   ]
  },
  {
   "cell_type": "markdown",
   "metadata": {},
   "source": [
    "\n",
    "### 3D plot\n",
    "\n",
    "Now that we have visualize, our dataset in 2D we can try to explore it in 3D using the __rgl__ package.\n",
    "\n",
    "4. Use `plot3d` to display the 3D scatterplot of the first three variables. The plot is interactive and you can play with it.\n",
    "\n"
   ]
  },
  {
   "cell_type": "code",
   "execution_count": null,
   "metadata": {
    "Rmd_chunk_options": "Plot3D, webgl = TRUE",
    "autoscroll": false,
    "collapsed": true
   },
   "outputs": [],
   "source": [
    "library(rgl)\n",
    "library(scales)\n",
    "plot3d(as.matrix(decathlon[,1:3]), type = \"s\", size = 5,\n",
    "       col = cscale(decathlon$Points,seq_gradient_pal(\"#132B43\", high = \"#56B1F7\")))\n"
   ]
  },
  {
   "cell_type": "markdown",
   "metadata": {},
   "source": [
    "\n",
    "Can you find the projection that appears to lose the less information?\n",
    "\n",
    "5. This task is similar to the PCA where we look a the subspace that minimizes the error between the data and its projection. We can draw the ellipse corresponding to the eigenvectors and the eigenvalues of the covariance matrix to verify this.\n",
    "\n"
   ]
  },
  {
   "cell_type": "code",
   "execution_count": null,
   "metadata": {
    "Rmd_chunk_options": "Plot3DEllipse, webgl = TRUE",
    "autoscroll": false,
    "collapsed": true
   },
   "outputs": [],
   "source": [
    "plot3d(as.matrix(decathlon[,1:3]), type = \"s\", size = 5,\n",
    "       col = cscale(decathlon$Points,seq_gradient_pal(\"#132B43\", high = \"#56B1F7\")))\n",
    "plot3d(ellipse3d(cov(decathlon[,1:3]), centre = colMeans(decathlon[,1:3])), col=\"grey\", alpha=0.25, add = TRUE)\n",
    "par3d(FOV=1)\n"
   ]
  },
  {
   "cell_type": "markdown",
   "metadata": {},
   "source": [
    "\n",
    "Can you verify that the best subspace is defined by the direction of the eigenvectors with the largest eigenvalues?\n",
    "\n",
    "### Scaling?\n",
    "\n",
    "So far, we have use the raw performance. That is we compare duration with length as well as 100m time with 1500m time. Obviously, this is not a good idea. All those values should be measured in a common scale. The most classical technique is to _rescale_ by substracting its mean and dividing by the standard deviation. We may repeat all the previous experiments with those rescaled data.\n",
    "\n"
   ]
  },
  {
   "cell_type": "code",
   "execution_count": null,
   "metadata": {
    "Rmd_chunk_options": "DecathlonR_2D",
    "autoscroll": false,
    "collapsed": true
   },
   "outputs": [],
   "source": [
    "decathlonR <- decathlon\n",
    "decathlonR[1:10] <- scale(decathlonR[1:10])\n",
    "decathlonR2 <- decathlonR\n",
    "names(decathlonR2) <- paste(\"P\", names(decathlon), sep = \"\") #Fix for the column names starting by a number...\n",
    "ggplot(data= decathlonR2, aes(x = P100m, y = PLong.jump, color = PPoints)) + geom_point(size = 5) +\n",
    "  geom_text(label = row.names(decathlon), vjust = -1.25) +\n",
    "  guides(color = FALSE)\n"
   ]
  },
  {
   "cell_type": "code",
   "execution_count": null,
   "metadata": {
    "Rmd_chunk_options": "DecathlonR_Cor",
    "autoscroll": false,
    "collapsed": true
   },
   "outputs": [],
   "source": [
    "cor(decathlonR[,1:10])\n"
   ]
  },
  {
   "cell_type": "code",
   "execution_count": null,
   "metadata": {
    "Rmd_chunk_options": "RPairwise",
    "autoscroll": false,
    "collapsed": true
   },
   "outputs": [],
   "source": [
    "ggpairs(decathlonR2[,1:10])\n",
    "ggpairs(decathlonR2, columns = c(1,2,6,10))\n"
   ]
  },
  {
   "cell_type": "code",
   "execution_count": null,
   "metadata": {
    "Rmd_chunk_options": "RPlot3DEllipse, webgl = TRUE",
    "autoscroll": false,
    "collapsed": true
   },
   "outputs": [],
   "source": [
    "plot3d(as.matrix(decathlonR[,1:3]), type = \"s\", size = 5,\n",
    "       col = cscale(decathlon$Points,seq_gradient_pal(\"#132B43\", high = \"#56B1F7\")))\n",
    "plot3d(ellipse3d(cov(decathlonR[,1:3]), centre = colMeans(decathlonR[,1:3])), col=\"grey\", alpha=0.25, add = TRUE)\n",
    "par3d(FOV=1)\n"
   ]
  },
  {
   "cell_type": "markdown",
   "metadata": {},
   "source": [
    "\n",
    "6. Which results are similar and which are different? Why?\n",
    "\n",
    "### Principal Component Analysis\n",
    "\n",
    "7. The package __FactoMineR__ contains a PCA function that we are going to use.\n"
   ]
  },
  {
   "cell_type": "code",
   "execution_count": null,
   "metadata": {
    "Rmd_chunk_options": "PCA",
    "autoscroll": false,
    "collapsed": true
   },
   "outputs": [],
   "source": [
    "library(\"FactoMineR\")\n",
    "PCADecathlonR <- PCA(decathlonR[1:10], graph = FALSE)\n",
    "str(PCADecathlonR)\n"
   ]
  },
  {
   "cell_type": "markdown",
   "metadata": {},
   "source": [
    "\n",
    "Let's look at those results:\n",
    "\n",
    "- __eig__ contains the eigenvalues (as well as the percentage of variance and the cumulative variance)\n",
    "- __ind__ contains the new coordinates $V^{(l)t} \\textbf{X}$ (as well as related information)\n",
    "- __var__ contains the projection of the original axis in the new ones (as well as related information)\n",
    "- __svd__ contains the SVD decomposition of $\\textbf{X}_{(n)}$ ($\\textbf{X}_{(n)} = U D(\\lambda) V^t$)\n",
    "\n",
    "Can you check that the new coordinates are given by $U D(\\lambda)$  and the new basis vectors by $V D(\\lambda)$?\n",
    "\n",
    "7. For those interested, can you recover the PCA using only linear algebra?\n",
    "\n"
   ]
  },
  {
   "cell_type": "code",
   "execution_count": null,
   "metadata": {
    "Rmd_chunk_options": "PCA_Linear_Algebra",
    "autoscroll": false,
    "collapsed": true
   },
   "outputs": [],
   "source": [
    "CDecathlonR <- cov(as.matrix(decathlonR[1:10]))\n",
    "EDecathlonR <- eigen(CDecathlonR)\n",
    "UDecathlonR <- EDecathlonR$vectors\n",
    "LambdaDecathlonR <- EDecathlonR$values\n",
    "\n",
    "PCADecathlonR2 <- as.matrix(decathlonR[1:10]) %*% UDecathlonR\n"
   ]
  },
  {
   "cell_type": "markdown",
   "metadata": {},
   "source": [
    "\n",
    "8. Plot the points in the new coordinates\n",
    "\n"
   ]
  },
  {
   "cell_type": "code",
   "execution_count": null,
   "metadata": {
    "Rmd_chunk_options": "PCA_Plot",
    "autoscroll": false,
    "collapsed": true
   },
   "outputs": [],
   "source": [
    "ggplot(data= data.frame(X1 = PCADecathlonR$ind$coord[,1], X2 = PCADecathlonR$ind$coord[,2], Col = decathlon$Points),\n",
    "       aes(x = X1, y = X2, color = Col)) + geom_point(size = 5) +\n",
    "  geom_text(label = row.names(decathlon), vjust = -1.25) +\n",
    "  scale_x_continuous(expand = c(.15,0)) + scale_y_continuous(expand = c(.1,0)) +\n",
    "  guides(color = FALSE)\n"
   ]
  },
  {
   "cell_type": "markdown",
   "metadata": {},
   "source": [
    "\n",
    "9. We are now interested in the interpretation of the axis themselves. We can compute the projection of those axis on the new ones, the ones made from the new coordinates $U D(\\lambda)$. By construction, they are orthogonomal but no necessarily normalized. This however the case for $U$ so that the projection  of $\\textbf{X}_{(n)}$ is given by $P_{(n)} = U^t \\textbf{X}_{(n)} U$\n",
    "\n",
    "Verify that indeed the __coords__ of var are given by $U^t \\textbf{X}_{(n)}$ up to a scaling...\n",
    "\n"
   ]
  },
  {
   "cell_type": "code",
   "execution_count": null,
   "metadata": {
    "Rmd_chunk_options": "CoordsVar",
    "autoscroll": false,
    "collapsed": true
   },
   "outputs": [],
   "source": [
    "t(PCADecathlonR$svd$U) %*% as.matrix(decathlonR[,1:10]) / 40\n",
    "PCADecathlonR$var$coord\n"
   ]
  },
  {
   "cell_type": "markdown",
   "metadata": {},
   "source": [
    "\n",
    "Note that because, we use a _rescaled_ version of we know that all the coordinates have a variance $1$,\n",
    "we can plot them in the plane spanned by the two first vectors and verify that they remains within the unit circle. The variables that are well represented within this plane would be close to reach the circle whereas the badly represented ones will remain close to $0$.\n",
    "\n"
   ]
  },
  {
   "cell_type": "code",
   "execution_count": null,
   "metadata": {
    "Rmd_chunk_options": "CirclePlot",
    "autoscroll": false,
    "collapsed": true
   },
   "outputs": [],
   "source": [
    "circle <- function(center = c(0, 0), npoints = 100) {\n",
    "    r = 1\n",
    "    tt = seq(0, 2 * pi, length = npoints)\n",
    "    xx = center[1] + r * cos(tt)\n",
    "    yy = center[1] + r * sin(tt)\n",
    "    return(data.frame(X1 = xx, X2 = yy))\n",
    "}\n",
    "corcir = circle(c(0, 0), npoints = 100)\n",
    "\n",
    "ggplot(data.frame(X1 = PCADecathlonR$var$coord[,1], X2 = PCADecathlonR$var$coord[,2]))+\n",
    "  geom_path(data = corcir, aes(x = X1, y = X2), color = \"gray\") +\n",
    "  geom_segment(aes(xend = X1, yend = X2), x = 0 , y = 0, arrow = grid::arrow()) +\n",
    "  geom_text(aes(x = X1, y = X2), label = names(decathlonR[1:10]), vjust = -1.25)\n"
   ]
  },
  {
   "cell_type": "markdown",
   "metadata": {},
   "source": [
    "\n",
    "Which variables are well captured? Can you interpret the new axes (the horizontal and the vertical ones)?\n",
    "Can you explain why the long jump appears to be the opposite of the 100m?\n",
    "\n",
    "10. Now, we may use PCA without the `graph = FALSE` option... and be able to understand the graphs.\n",
    "\n"
   ]
  },
  {
   "cell_type": "code",
   "execution_count": null,
   "metadata": {
    "Rmd_chunk_options": "RPCAGraph",
    "autoscroll": false,
    "collapsed": true
   },
   "outputs": [],
   "source": [
    "PCADecathlonR <- PCA(decathlonR[1:10])\n"
   ]
  },
  {
   "cell_type": "markdown",
   "metadata": {},
   "source": [
    "\n",
    "\n",
    "11. We may check whether we need more dimensions by looking at the eigenvalues or rather the cumulative percentage of variance.\n",
    "\n"
   ]
  },
  {
   "cell_type": "code",
   "execution_count": null,
   "metadata": {
    "Rmd_chunk_options": "CumVariance",
    "autoscroll": false,
    "collapsed": true
   },
   "outputs": [],
   "source": [
    "ggplot(data = data.frame(dim = factor(1:length(PCADecathlonR$eig$`cumulative percentage of variance`)),\n",
    "                         cum = PCADecathlonR$eig$`cumulative percentage of variance`), aes(x = dim, y = cum)) +\n",
    "  geom_bar(stat = 'identity')\n"
   ]
  },
  {
   "cell_type": "markdown",
   "metadata": {},
   "source": [
    "\n",
    "Do you think 2 dimensions is enough here?\n",
    "\n",
    "## Multiple Factor Analysis\n",
    "\n",
    "We consider an extension of the PCA in which one can use qualitative variable and also group variables.\n",
    "\n",
    "### Data\n",
    "\n",
    "We will use a dataset made of a sample of 21 red wine from the Loire region. Several attributes are recorded\n",
    "\n",
    "- 2 qualitative ones:\n",
    "  + __Label__: _Saumur_, _Chinon_, _Bourgueil_\n",
    "  + __Soil__: _Reference_, _Env1_, _Env2_, _Env4_\n",
    "- 29 quantitative ones classified by groups:\n",
    "  + Odor (5 variables)\n",
    "  + Visual (3 variables)\n",
    "  + Odor after shaking (10 variables)\n",
    "  + Taste (9 variables)\n",
    "  + Ocerall (2 variables)\n",
    "\n"
   ]
  },
  {
   "cell_type": "code",
   "execution_count": null,
   "metadata": {
    "Rmd_chunk_options": "Wine",
    "autoscroll": false,
    "collapsed": true
   },
   "outputs": [],
   "source": [
    "data(wine)\n",
    "colnames(wine)\n",
    "glimpse(wine)\n"
   ]
  },
  {
   "cell_type": "markdown",
   "metadata": {},
   "source": [
    "\n",
    "### MFA\n",
    "\n",
    "10. Can you guess what MFA is doing?\n",
    "\n"
   ]
  },
  {
   "cell_type": "code",
   "execution_count": null,
   "metadata": {
    "Rmd_chunk_options": "MFA",
    "autoscroll": false,
    "collapsed": true
   },
   "outputs": [],
   "source": [
    "res.mfa = MFA(wine, group = c(2, 5, 3, 10, 9, 2), type = c(\"n\", rep(\"s\",5)), ncp = 5,\n",
    "              name.group = c(\"origin\", \"odor\", \"visual\", \"odor.after.shaking\", \"taste\", \"overall\"),\n",
    "              num.group.sup=c(1,6))\n"
   ]
  },
  {
   "cell_type": "markdown",
   "metadata": {},
   "source": [
    "\n",
    "\n",
    "11. The _strange_ lines in the individual factor map is an attempt to view the contribution of each group. It corresponds to the barycenter of the contributions of the given group. By default, only the two most dispersed and concentrated groups are plotted. We can ask MFA to plot them all.\n",
    "\n"
   ]
  },
  {
   "cell_type": "code",
   "execution_count": null,
   "metadata": {
    "Rmd_chunk_options": "MFA_All",
    "autoscroll": false,
    "collapsed": true
   },
   "outputs": [],
   "source": [
    "plot(res.mfa, choix = \"ind\", partial = \"all\")\n"
   ]
  },
  {
   "cell_type": "markdown",
   "metadata": {},
   "source": [
    "\n",
    "## MDS\n",
    "\n",
    "We will apply the MultiDimensional Scaling available in __R__ `cmdscale` to an interesting dataset of the monthly average temperature for 35 cities in Europe. We will try to apply the MDS methodology to visualize those cities in a plane according to their temperature profiles.\n",
    "\n",
    "12. Read the data and apply the MDS algorithm.\n",
    "\n"
   ]
  },
  {
   "cell_type": "code",
   "execution_count": null,
   "metadata": {
    "Rmd_chunk_options": "TemperatureMDS",
    "autoscroll": false,
    "collapsed": true
   },
   "outputs": [],
   "source": [
    "temperature <- read.csv(\"temperature.csv\", row.names = 1)\n",
    "temperature[1:12] <- scale(temperature[1:12])\n",
    "\n",
    "DistTemperature <- dist(temperature[1:12])\n",
    "TemperatureMDS <- cmdscale(DistTemperature)\n",
    "\n",
    "ggplot(data = data.frame(X1 = TemperatureMDS[,1], X2 = TemperatureMDS[,2]), aes(x = X1, y = X2)) +\n",
    "  geom_point() + geom_text(label = row.names(temperature), vjust = -1.25)\n"
   ]
  },
  {
   "cell_type": "markdown",
   "metadata": {},
   "source": [
    "\n",
    "13. Can you obtain a better fit with the geography by swapping the axis?\n",
    "\n"
   ]
  },
  {
   "cell_type": "code",
   "execution_count": null,
   "metadata": {
    "Rmd_chunk_options": "TemepratureMDS2",
    "autoscroll": false,
    "collapsed": true
   },
   "outputs": [],
   "source": [
    "ggplot(data = data.frame(X1 = TemperatureMDS[,1], X2 = TemperatureMDS[,2]), aes(x = -X2, y = X1)) +\n",
    "  geom_point() + geom_text(label = row.names(temperature), vjust = -1.25)\n"
   ]
  },
  {
   "cell_type": "markdown",
   "metadata": {},
   "source": [
    "\n",
    "14. Compare with the results obtain with the PCA. Is this a suprise?\n",
    "\n"
   ]
  },
  {
   "cell_type": "code",
   "execution_count": null,
   "metadata": {
    "Rmd_chunk_options": "TemperaturePCA",
    "autoscroll": false,
    "collapsed": true
   },
   "outputs": [],
   "source": [
    "TemperaturePCA <- PCA(temperature[1:12], graph = FALSE)\n",
    "ggplot(data = data.frame(X1 = TemperaturePCA$ind$coord[,1], X2 = TemperaturePCA$ind$coord[,2]), aes(x = X1, y = X2)) +\n",
    "  geom_point() + geom_text(label = row.names(temperature), vjust = -1.25)\n",
    "\n",
    "ggplot(data = data.frame(X1 = TemperaturePCA$ind$coord[,1], X2 = TemperaturePCA$ind$coord[,2]), aes(x = X2, y = -X1)) +\n",
    "  geom_point() + geom_text(label = row.names(temperature), vjust = -1.25)\n"
   ]
  },
  {
   "cell_type": "markdown",
   "metadata": {},
   "source": [
    "\n",
    "\n",
    "15. Use the __igraph__ package to perform a graph Laplacian based dimension reduction.\n"
   ]
  }
 ],
 "metadata": {
  "Rmd_header": {
   "author": "Erwan Le Pennec",
   "date": "Fall 2015",
   "output": "pdf_document",
   "title": "Dimension Reduction"
  },
  "kernelspec": {
   "display_name": "R",
   "language": "R",
   "name": "ir"
  },
  "language_info": {
   "codemirror_mode": "r",
   "file_extension": ".r",
   "mimetype": "text/x-r-source",
   "name": "R",
   "pygments_lexer": "r"
  }
 },
 "nbformat": 4,
 "nbformat_minor": 0
}
