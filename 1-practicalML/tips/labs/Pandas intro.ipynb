{
 "cells": [
  {
   "cell_type": "code",
   "execution_count": null,
   "metadata": {
    "collapsed": true
   },
   "outputs": [],
   "source": [
    "Credit : Jeremy Chen\n",
    "\n",
    "Source : doesn't exist anymore :("
   ]
  },
  {
   "cell_type": "code",
   "execution_count": null,
   "metadata": {
    "collapsed": true
   },
   "outputs": [],
   "source": []
  },
  {
   "cell_type": "code",
   "execution_count": 1,
   "metadata": {
    "collapsed": false
   },
   "outputs": [],
   "source": [
    "import pandas as pd\n",
    "import numpy as np\n",
    "from pandas import DataFrame, Series"
   ]
  },
  {
   "cell_type": "markdown",
   "metadata": {},
   "source": [
    "# Let's Make Some Data Frames"
   ]
  },
  {
   "cell_type": "code",
   "execution_count": 2,
   "metadata": {
    "collapsed": false
   },
   "outputs": [
    {
     "data": {
      "text/html": [
       "<div>\n",
       "<table border=\"1\" class=\"dataframe\">\n",
       "  <thead>\n",
       "    <tr style=\"text-align: right;\">\n",
       "      <th></th>\n",
       "      <th>int_col</th>\n",
       "      <th>list_col</th>\n",
       "    </tr>\n",
       "  </thead>\n",
       "  <tbody>\n",
       "    <tr>\n",
       "      <th>0</th>\n",
       "      <td>8</td>\n",
       "      <td>[-0.6888508028, -0.389340621085]</td>\n",
       "    </tr>\n",
       "    <tr>\n",
       "      <th>1</th>\n",
       "      <td>2</td>\n",
       "      <td>[0.432146743894, 0.589708650022, 0.296884711575]</td>\n",
       "    </tr>\n",
       "    <tr>\n",
       "      <th>2</th>\n",
       "      <td>12</td>\n",
       "      <td>NaN</td>\n",
       "    </tr>\n",
       "    <tr>\n",
       "      <th>3</th>\n",
       "      <td>4</td>\n",
       "      <td>[0.570945634048, 0.0885092843012]</td>\n",
       "    </tr>\n",
       "    <tr>\n",
       "      <th>4</th>\n",
       "      <td>9</td>\n",
       "      <td>[0.264123033823, -1.4520969971, -0.439393746037]</td>\n",
       "    </tr>\n",
       "  </tbody>\n",
       "</table>\n",
       "</div>"
      ],
      "text/plain": [
       "   int_col                                          list_col\n",
       "0        8                  [-0.6888508028, -0.389340621085]\n",
       "1        2  [0.432146743894, 0.589708650022, 0.296884711575]\n",
       "2       12                                               NaN\n",
       "3        4                 [0.570945634048, 0.0885092843012]\n",
       "4        9  [0.264123033823, -1.4520969971, -0.439393746037]"
      ]
     },
     "execution_count": 2,
     "metadata": {},
     "output_type": "execute_result"
    }
   ],
   "source": [
    "# DataFrame from list of row (dictionaries)\n",
    "df = DataFrame([ \n",
    "                {'int_col' : np.random.binomial(20,0.5), 'list_col' : np.random.normal(0,1,(2)) }, \n",
    "                {'int_col' : 2, 'list_col' : np.random.normal(0,1,(3)) }, \\\n",
    "                {'int_col' : np.random.binomial(20,0.5) }, \n",
    "                {'int_col' : 4, 'list_col' : np.random.normal(0,1,(2)) }, \n",
    "                {'int_col' : np.random.binomial(20,0.5), 'list_col' : np.random.normal(0,1,(3)) }\n",
    "                ])\n",
    "df"
   ]
  },
  {
   "cell_type": "code",
   "execution_count": 3,
   "metadata": {
    "collapsed": false
   },
   "outputs": [
    {
     "data": {
      "text/html": [
       "<div>\n",
       "<table border=\"1\" class=\"dataframe\">\n",
       "  <thead>\n",
       "    <tr style=\"text-align: right;\">\n",
       "      <th></th>\n",
       "      <th>float_col</th>\n",
       "      <th>group</th>\n",
       "      <th>int_col</th>\n",
       "      <th>str_col</th>\n",
       "    </tr>\n",
       "  </thead>\n",
       "  <tbody>\n",
       "    <tr>\n",
       "      <th>0</th>\n",
       "      <td>0.1</td>\n",
       "      <td>Red</td>\n",
       "      <td>1</td>\n",
       "      <td>a</td>\n",
       "    </tr>\n",
       "    <tr>\n",
       "      <th>1</th>\n",
       "      <td>0.2</td>\n",
       "      <td>Red</td>\n",
       "      <td>2</td>\n",
       "      <td>bb</td>\n",
       "    </tr>\n",
       "    <tr>\n",
       "      <th>2</th>\n",
       "      <td>0.2</td>\n",
       "      <td>Green</td>\n",
       "      <td>6</td>\n",
       "      <td>None</td>\n",
       "    </tr>\n",
       "    <tr>\n",
       "      <th>3</th>\n",
       "      <td>9.5</td>\n",
       "      <td>Green</td>\n",
       "      <td>8</td>\n",
       "      <td>ccc</td>\n",
       "    </tr>\n",
       "    <tr>\n",
       "      <th>4</th>\n",
       "      <td>NaN</td>\n",
       "      <td>Red</td>\n",
       "      <td>-1</td>\n",
       "      <td>a</td>\n",
       "    </tr>\n",
       "  </tbody>\n",
       "</table>\n",
       "</div>"
      ],
      "text/plain": [
       "   float_col  group  int_col str_col\n",
       "0        0.1    Red        1       a\n",
       "1        0.2    Red        2      bb\n",
       "2        0.2  Green        6    None\n",
       "3        9.5  Green        8     ccc\n",
       "4        NaN    Red       -1       a"
      ]
     },
     "execution_count": 3,
     "metadata": {},
     "output_type": "execute_result"
    }
   ],
   "source": [
    "# DataFrame from dictionary of columns (lists)\n",
    "df = DataFrame({'int_col' : [1,2,6,8,-1], \\\n",
    "                'float_col' : [0.1, 0.2,0.2,9.5,np.NaN], \\\n",
    "                'str_col' : ['a','bb',None,'ccc','a'], \\\n",
    "                'group' : ['Red', 'Red', 'Green', 'Green', 'Red'] })\n",
    "df"
   ]
  },
  {
   "cell_type": "code",
   "execution_count": 6,
   "metadata": {
    "collapsed": false
   },
   "outputs": [
    {
     "data": {
      "text/html": [
       "<div>\n",
       "<table border=\"1\" class=\"dataframe\">\n",
       "  <thead>\n",
       "    <tr style=\"text-align: right;\">\n",
       "      <th></th>\n",
       "      <th>float_col</th>\n",
       "      <th>group</th>\n",
       "      <th>int_col</th>\n",
       "      <th>str_col</th>\n",
       "    </tr>\n",
       "  </thead>\n",
       "  <tbody>\n",
       "    <tr>\n",
       "      <th>0</th>\n",
       "      <td>0.1</td>\n",
       "      <td>Red</td>\n",
       "      <td>1</td>\n",
       "      <td>a</td>\n",
       "    </tr>\n",
       "    <tr>\n",
       "      <th>1</th>\n",
       "      <td>0.2</td>\n",
       "      <td>Red</td>\n",
       "      <td>2</td>\n",
       "      <td>bb</td>\n",
       "    </tr>\n",
       "    <tr>\n",
       "      <th>2</th>\n",
       "      <td>0.2</td>\n",
       "      <td>Green</td>\n",
       "      <td>6</td>\n",
       "      <td>None</td>\n",
       "    </tr>\n",
       "  </tbody>\n",
       "</table>\n",
       "</div>"
      ],
      "text/plain": [
       "   float_col  group  int_col str_col\n",
       "0        0.1    Red        1       a\n",
       "1        0.2    Red        2      bb\n",
       "2        0.2  Green        6    None"
      ]
     },
     "execution_count": 6,
     "metadata": {},
     "output_type": "execute_result"
    }
   ],
   "source": [
    "df[:3]"
   ]
  },
  {
   "cell_type": "code",
   "execution_count": 7,
   "metadata": {
    "collapsed": false
   },
   "outputs": [
    {
     "data": {
      "text/html": [
       "<div>\n",
       "<table border=\"1\" class=\"dataframe\">\n",
       "  <thead>\n",
       "    <tr style=\"text-align: right;\">\n",
       "      <th></th>\n",
       "      <th>float_col</th>\n",
       "      <th>group</th>\n",
       "      <th>int_col</th>\n",
       "      <th>str_col</th>\n",
       "    </tr>\n",
       "  </thead>\n",
       "  <tbody>\n",
       "    <tr>\n",
       "      <th>2</th>\n",
       "      <td>0.2</td>\n",
       "      <td>Green</td>\n",
       "      <td>6</td>\n",
       "      <td>None</td>\n",
       "    </tr>\n",
       "    <tr>\n",
       "      <th>3</th>\n",
       "      <td>9.5</td>\n",
       "      <td>Green</td>\n",
       "      <td>8</td>\n",
       "      <td>ccc</td>\n",
       "    </tr>\n",
       "    <tr>\n",
       "      <th>4</th>\n",
       "      <td>NaN</td>\n",
       "      <td>Red</td>\n",
       "      <td>-1</td>\n",
       "      <td>a</td>\n",
       "    </tr>\n",
       "  </tbody>\n",
       "</table>\n",
       "</div>"
      ],
      "text/plain": [
       "   float_col  group  int_col str_col\n",
       "2        0.2  Green        6    None\n",
       "3        9.5  Green        8     ccc\n",
       "4        NaN    Red       -1       a"
      ]
     },
     "execution_count": 7,
     "metadata": {},
     "output_type": "execute_result"
    }
   ],
   "source": [
    "df[-3:]"
   ]
  },
  {
   "cell_type": "code",
   "execution_count": 8,
   "metadata": {
    "collapsed": false
   },
   "outputs": [
    {
     "data": {
      "text/html": [
       "<div>\n",
       "<table border=\"1\" class=\"dataframe\">\n",
       "  <thead>\n",
       "    <tr style=\"text-align: right;\">\n",
       "      <th></th>\n",
       "      <th>float_col</th>\n",
       "      <th>group</th>\n",
       "      <th>int_col</th>\n",
       "      <th>str_col</th>\n",
       "    </tr>\n",
       "  </thead>\n",
       "  <tbody>\n",
       "    <tr>\n",
       "      <th>0</th>\n",
       "      <td>0.1</td>\n",
       "      <td>Red</td>\n",
       "      <td>1</td>\n",
       "      <td>a</td>\n",
       "    </tr>\n",
       "    <tr>\n",
       "      <th>1</th>\n",
       "      <td>0.2</td>\n",
       "      <td>Red</td>\n",
       "      <td>2</td>\n",
       "      <td>bb</td>\n",
       "    </tr>\n",
       "    <tr>\n",
       "      <th>2</th>\n",
       "      <td>0.2</td>\n",
       "      <td>Green</td>\n",
       "      <td>6</td>\n",
       "      <td>None</td>\n",
       "    </tr>\n",
       "    <tr>\n",
       "      <th>3</th>\n",
       "      <td>9.5</td>\n",
       "      <td>Green</td>\n",
       "      <td>8</td>\n",
       "      <td>ccc</td>\n",
       "    </tr>\n",
       "    <tr>\n",
       "      <th>4</th>\n",
       "      <td>NaN</td>\n",
       "      <td>Red</td>\n",
       "      <td>-1</td>\n",
       "      <td>a</td>\n",
       "    </tr>\n",
       "  </tbody>\n",
       "</table>\n",
       "</div>"
      ],
      "text/plain": [
       "   float_col  group  int_col str_col\n",
       "0        0.1    Red        1       a\n",
       "1        0.2    Red        2      bb\n",
       "2        0.2  Green        6    None\n",
       "3        9.5  Green        8     ccc\n",
       "4        NaN    Red       -1       a"
      ]
     },
     "execution_count": 8,
     "metadata": {},
     "output_type": "execute_result"
    }
   ],
   "source": [
    "df.head() # This DataFrame is not long enough... Shows \"head\"."
   ]
  },
  {
   "cell_type": "code",
   "execution_count": 9,
   "metadata": {
    "collapsed": false
   },
   "outputs": [
    {
     "data": {
      "text/html": [
       "<div>\n",
       "<table border=\"1\" class=\"dataframe\">\n",
       "  <thead>\n",
       "    <tr style=\"text-align: right;\">\n",
       "      <th></th>\n",
       "      <th>float_col</th>\n",
       "      <th>group</th>\n",
       "      <th>int_col</th>\n",
       "      <th>str_col</th>\n",
       "    </tr>\n",
       "  </thead>\n",
       "  <tbody>\n",
       "    <tr>\n",
       "      <th>0</th>\n",
       "      <td>0.1</td>\n",
       "      <td>Red</td>\n",
       "      <td>1</td>\n",
       "      <td>a</td>\n",
       "    </tr>\n",
       "    <tr>\n",
       "      <th>1</th>\n",
       "      <td>0.2</td>\n",
       "      <td>Red</td>\n",
       "      <td>2</td>\n",
       "      <td>bb</td>\n",
       "    </tr>\n",
       "    <tr>\n",
       "      <th>2</th>\n",
       "      <td>0.2</td>\n",
       "      <td>Green</td>\n",
       "      <td>6</td>\n",
       "      <td>None</td>\n",
       "    </tr>\n",
       "    <tr>\n",
       "      <th>3</th>\n",
       "      <td>9.5</td>\n",
       "      <td>Green</td>\n",
       "      <td>8</td>\n",
       "      <td>ccc</td>\n",
       "    </tr>\n",
       "    <tr>\n",
       "      <th>4</th>\n",
       "      <td>NaN</td>\n",
       "      <td>Red</td>\n",
       "      <td>-1</td>\n",
       "      <td>a</td>\n",
       "    </tr>\n",
       "  </tbody>\n",
       "</table>\n",
       "</div>"
      ],
      "text/plain": [
       "   float_col  group  int_col str_col\n",
       "0        0.1    Red        1       a\n",
       "1        0.2    Red        2      bb\n",
       "2        0.2  Green        6    None\n",
       "3        9.5  Green        8     ccc\n",
       "4        NaN    Red       -1       a"
      ]
     },
     "execution_count": 9,
     "metadata": {},
     "output_type": "execute_result"
    }
   ],
   "source": [
    "df.tail() # This DataFrame is not long enough... Shows \"tail\"."
   ]
  },
  {
   "cell_type": "markdown",
   "metadata": {},
   "source": [
    "# Some Important Properties and Operations"
   ]
  },
  {
   "cell_type": "markdown",
   "metadata": {},
   "source": [
    "### Indexes"
   ]
  },
  {
   "cell_type": "code",
   "execution_count": 10,
   "metadata": {
    "collapsed": false
   },
   "outputs": [
    {
     "data": {
      "text/plain": [
       "Int64Index([0, 1, 2, 3, 4], dtype='int64')"
      ]
     },
     "execution_count": 10,
     "metadata": {},
     "output_type": "execute_result"
    }
   ],
   "source": [
    "# Get index\n",
    "df.index"
   ]
  },
  {
   "cell_type": "code",
   "execution_count": 11,
   "metadata": {
    "collapsed": false
   },
   "outputs": [
    {
     "data": {
      "text/plain": [
       "Index(['float_col', 'group', 'int_col', 'str_col'], dtype='object')"
      ]
     },
     "execution_count": 11,
     "metadata": {},
     "output_type": "execute_result"
    }
   ],
   "source": [
    "# Get columns\n",
    "df.columns"
   ]
  },
  {
   "cell_type": "code",
   "execution_count": 12,
   "metadata": {
    "collapsed": false
   },
   "outputs": [
    {
     "data": {
      "text/html": [
       "<div>\n",
       "<table border=\"1\" class=\"dataframe\">\n",
       "  <thead>\n",
       "    <tr style=\"text-align: right;\">\n",
       "      <th></th>\n",
       "      <th>0</th>\n",
       "      <th>1</th>\n",
       "      <th>2</th>\n",
       "      <th>3</th>\n",
       "      <th>4</th>\n",
       "    </tr>\n",
       "  </thead>\n",
       "  <tbody>\n",
       "    <tr>\n",
       "      <th>float_col</th>\n",
       "      <td>0.1</td>\n",
       "      <td>0.2</td>\n",
       "      <td>0.2</td>\n",
       "      <td>9.5</td>\n",
       "      <td>NaN</td>\n",
       "    </tr>\n",
       "    <tr>\n",
       "      <th>group</th>\n",
       "      <td>Red</td>\n",
       "      <td>Red</td>\n",
       "      <td>Green</td>\n",
       "      <td>Green</td>\n",
       "      <td>Red</td>\n",
       "    </tr>\n",
       "    <tr>\n",
       "      <th>int_col</th>\n",
       "      <td>1</td>\n",
       "      <td>2</td>\n",
       "      <td>6</td>\n",
       "      <td>8</td>\n",
       "      <td>-1</td>\n",
       "    </tr>\n",
       "    <tr>\n",
       "      <th>str_col</th>\n",
       "      <td>a</td>\n",
       "      <td>bb</td>\n",
       "      <td>None</td>\n",
       "      <td>ccc</td>\n",
       "      <td>a</td>\n",
       "    </tr>\n",
       "  </tbody>\n",
       "</table>\n",
       "</div>"
      ],
      "text/plain": [
       "             0    1      2      3    4\n",
       "float_col  0.1  0.2    0.2    9.5  NaN\n",
       "group      Red  Red  Green  Green  Red\n",
       "int_col      1    2      6      8   -1\n",
       "str_col      a   bb   None    ccc    a"
      ]
     },
     "execution_count": 12,
     "metadata": {},
     "output_type": "execute_result"
    }
   ],
   "source": [
    "# Transpose\n",
    "df.T"
   ]
  },
  {
   "cell_type": "code",
   "execution_count": 13,
   "metadata": {
    "collapsed": false
   },
   "outputs": [
    {
     "data": {
      "text/plain": [
       "Index(['float_col', 'group', 'int_col', 'str_col'], dtype='object')"
      ]
     },
     "execution_count": 13,
     "metadata": {},
     "output_type": "execute_result"
    }
   ],
   "source": [
    "df.T.index"
   ]
  },
  {
   "cell_type": "code",
   "execution_count": 14,
   "metadata": {
    "collapsed": false
   },
   "outputs": [
    {
     "data": {
      "text/plain": [
       "Int64Index([0, 1, 2, 3, 4], dtype='int64')"
      ]
     },
     "execution_count": 14,
     "metadata": {},
     "output_type": "execute_result"
    }
   ],
   "source": [
    "df.T.columns"
   ]
  },
  {
   "cell_type": "markdown",
   "metadata": {},
   "source": [
    "### Sorting and Ranking"
   ]
  },
  {
   "cell_type": "code",
   "execution_count": 16,
   "metadata": {
    "collapsed": false
   },
   "outputs": [
    {
     "data": {
      "text/html": [
       "<div>\n",
       "<table border=\"1\" class=\"dataframe\">\n",
       "  <thead>\n",
       "    <tr style=\"text-align: right;\">\n",
       "      <th></th>\n",
       "      <th>float_col</th>\n",
       "      <th>group</th>\n",
       "      <th>int_col</th>\n",
       "      <th>str_col</th>\n",
       "    </tr>\n",
       "  </thead>\n",
       "  <tbody>\n",
       "    <tr>\n",
       "      <th>2</th>\n",
       "      <td>0.2</td>\n",
       "      <td>Green</td>\n",
       "      <td>6</td>\n",
       "      <td>None</td>\n",
       "    </tr>\n",
       "    <tr>\n",
       "      <th>3</th>\n",
       "      <td>9.5</td>\n",
       "      <td>Green</td>\n",
       "      <td>8</td>\n",
       "      <td>ccc</td>\n",
       "    </tr>\n",
       "    <tr>\n",
       "      <th>0</th>\n",
       "      <td>0.1</td>\n",
       "      <td>Red</td>\n",
       "      <td>1</td>\n",
       "      <td>a</td>\n",
       "    </tr>\n",
       "    <tr>\n",
       "      <th>1</th>\n",
       "      <td>0.2</td>\n",
       "      <td>Red</td>\n",
       "      <td>2</td>\n",
       "      <td>bb</td>\n",
       "    </tr>\n",
       "    <tr>\n",
       "      <th>4</th>\n",
       "      <td>NaN</td>\n",
       "      <td>Red</td>\n",
       "      <td>-1</td>\n",
       "      <td>a</td>\n",
       "    </tr>\n",
       "  </tbody>\n",
       "</table>\n",
       "</div>"
      ],
      "text/plain": [
       "   float_col  group  int_col str_col\n",
       "2        0.2  Green        6    None\n",
       "3        9.5  Green        8     ccc\n",
       "0        0.1    Red        1       a\n",
       "1        0.2    Red        2      bb\n",
       "4        NaN    Red       -1       a"
      ]
     },
     "execution_count": 16,
     "metadata": {},
     "output_type": "execute_result"
    }
   ],
   "source": [
    "df.sort_values(by='group')"
   ]
  },
  {
   "cell_type": "code",
   "execution_count": 17,
   "metadata": {
    "collapsed": false
   },
   "outputs": [
    {
     "data": {
      "text/html": [
       "<div>\n",
       "<table border=\"1\" class=\"dataframe\">\n",
       "  <thead>\n",
       "    <tr style=\"text-align: right;\">\n",
       "      <th></th>\n",
       "      <th>float_col</th>\n",
       "      <th>group</th>\n",
       "      <th>int_col</th>\n",
       "      <th>str_col</th>\n",
       "    </tr>\n",
       "  </thead>\n",
       "  <tbody>\n",
       "    <tr>\n",
       "      <th>0</th>\n",
       "      <td>0.1</td>\n",
       "      <td>Red</td>\n",
       "      <td>1</td>\n",
       "      <td>a</td>\n",
       "    </tr>\n",
       "    <tr>\n",
       "      <th>1</th>\n",
       "      <td>0.2</td>\n",
       "      <td>Red</td>\n",
       "      <td>2</td>\n",
       "      <td>bb</td>\n",
       "    </tr>\n",
       "    <tr>\n",
       "      <th>2</th>\n",
       "      <td>0.2</td>\n",
       "      <td>Green</td>\n",
       "      <td>6</td>\n",
       "      <td>None</td>\n",
       "    </tr>\n",
       "    <tr>\n",
       "      <th>3</th>\n",
       "      <td>9.5</td>\n",
       "      <td>Green</td>\n",
       "      <td>8</td>\n",
       "      <td>ccc</td>\n",
       "    </tr>\n",
       "    <tr>\n",
       "      <th>4</th>\n",
       "      <td>NaN</td>\n",
       "      <td>Red</td>\n",
       "      <td>-1</td>\n",
       "      <td>a</td>\n",
       "    </tr>\n",
       "  </tbody>\n",
       "</table>\n",
       "</div>"
      ],
      "text/plain": [
       "   float_col  group  int_col str_col\n",
       "0        0.1    Red        1       a\n",
       "1        0.2    Red        2      bb\n",
       "2        0.2  Green        6    None\n",
       "3        9.5  Green        8     ccc\n",
       "4        NaN    Red       -1       a"
      ]
     },
     "execution_count": 17,
     "metadata": {},
     "output_type": "execute_result"
    }
   ],
   "source": [
    "df # Opps... a new DataFrame was returned"
   ]
  },
  {
   "cell_type": "code",
   "execution_count": 18,
   "metadata": {
    "collapsed": false
   },
   "outputs": [
    {
     "data": {
      "text/html": [
       "<div>\n",
       "<table border=\"1\" class=\"dataframe\">\n",
       "  <thead>\n",
       "    <tr style=\"text-align: right;\">\n",
       "      <th></th>\n",
       "      <th>float_col</th>\n",
       "      <th>group</th>\n",
       "      <th>int_col</th>\n",
       "      <th>str_col</th>\n",
       "    </tr>\n",
       "  </thead>\n",
       "  <tbody>\n",
       "    <tr>\n",
       "      <th>4</th>\n",
       "      <td>NaN</td>\n",
       "      <td>Red</td>\n",
       "      <td>-1</td>\n",
       "      <td>a</td>\n",
       "    </tr>\n",
       "    <tr>\n",
       "      <th>3</th>\n",
       "      <td>9.5</td>\n",
       "      <td>Green</td>\n",
       "      <td>8</td>\n",
       "      <td>ccc</td>\n",
       "    </tr>\n",
       "    <tr>\n",
       "      <th>2</th>\n",
       "      <td>0.2</td>\n",
       "      <td>Green</td>\n",
       "      <td>6</td>\n",
       "      <td>None</td>\n",
       "    </tr>\n",
       "    <tr>\n",
       "      <th>1</th>\n",
       "      <td>0.2</td>\n",
       "      <td>Red</td>\n",
       "      <td>2</td>\n",
       "      <td>bb</td>\n",
       "    </tr>\n",
       "    <tr>\n",
       "      <th>0</th>\n",
       "      <td>0.1</td>\n",
       "      <td>Red</td>\n",
       "      <td>1</td>\n",
       "      <td>a</td>\n",
       "    </tr>\n",
       "  </tbody>\n",
       "</table>\n",
       "</div>"
      ],
      "text/plain": [
       "   float_col  group  int_col str_col\n",
       "4        NaN    Red       -1       a\n",
       "3        9.5  Green        8     ccc\n",
       "2        0.2  Green        6    None\n",
       "1        0.2    Red        2      bb\n",
       "0        0.1    Red        1       a"
      ]
     },
     "execution_count": 18,
     "metadata": {},
     "output_type": "execute_result"
    }
   ],
   "source": [
    "df.sort_index(ascending=False) # Sort by group then do it again by index (a little pointless)"
   ]
  },
  {
   "cell_type": "code",
   "execution_count": 19,
   "metadata": {
    "collapsed": false
   },
   "outputs": [
    {
     "data": {
      "text/html": [
       "<div>\n",
       "<table border=\"1\" class=\"dataframe\">\n",
       "  <thead>\n",
       "    <tr style=\"text-align: right;\">\n",
       "      <th></th>\n",
       "      <th>str_col</th>\n",
       "      <th>int_col</th>\n",
       "      <th>group</th>\n",
       "      <th>float_col</th>\n",
       "    </tr>\n",
       "  </thead>\n",
       "  <tbody>\n",
       "    <tr>\n",
       "      <th>0</th>\n",
       "      <td>a</td>\n",
       "      <td>1</td>\n",
       "      <td>Red</td>\n",
       "      <td>0.1</td>\n",
       "    </tr>\n",
       "    <tr>\n",
       "      <th>1</th>\n",
       "      <td>bb</td>\n",
       "      <td>2</td>\n",
       "      <td>Red</td>\n",
       "      <td>0.2</td>\n",
       "    </tr>\n",
       "    <tr>\n",
       "      <th>2</th>\n",
       "      <td>None</td>\n",
       "      <td>6</td>\n",
       "      <td>Green</td>\n",
       "      <td>0.2</td>\n",
       "    </tr>\n",
       "    <tr>\n",
       "      <th>3</th>\n",
       "      <td>ccc</td>\n",
       "      <td>8</td>\n",
       "      <td>Green</td>\n",
       "      <td>9.5</td>\n",
       "    </tr>\n",
       "    <tr>\n",
       "      <th>4</th>\n",
       "      <td>a</td>\n",
       "      <td>-1</td>\n",
       "      <td>Red</td>\n",
       "      <td>NaN</td>\n",
       "    </tr>\n",
       "  </tbody>\n",
       "</table>\n",
       "</div>"
      ],
      "text/plain": [
       "  str_col  int_col  group  float_col\n",
       "0       a        1    Red        0.1\n",
       "1      bb        2    Red        0.2\n",
       "2    None        6  Green        0.2\n",
       "3     ccc        8  Green        9.5\n",
       "4       a       -1    Red        NaN"
      ]
     },
     "execution_count": 19,
     "metadata": {},
     "output_type": "execute_result"
    }
   ],
   "source": [
    "df.sort_index(axis=1, ascending=False) # Sort columns (axis=1; axis=0 for rows)..."
   ]
  },
  {
   "cell_type": "code",
   "execution_count": 20,
   "metadata": {
    "collapsed": false
   },
   "outputs": [
    {
     "data": {
      "text/plain": [
       "0    2\n",
       "1    3\n",
       "2    4\n",
       "3    5\n",
       "4    1\n",
       "Name: int_col, dtype: float64"
      ]
     },
     "execution_count": 20,
     "metadata": {},
     "output_type": "execute_result"
    }
   ],
   "source": [
    "# Where there is sorting, there is ranking...\n",
    "df['int_col'].rank()"
   ]
  },
  {
   "cell_type": "code",
   "execution_count": 21,
   "metadata": {
    "collapsed": false
   },
   "outputs": [
    {
     "data": {
      "text/html": [
       "<div>\n",
       "<table border=\"1\" class=\"dataframe\">\n",
       "  <thead>\n",
       "    <tr style=\"text-align: right;\">\n",
       "      <th></th>\n",
       "      <th>float_col</th>\n",
       "      <th>group</th>\n",
       "      <th>int_col</th>\n",
       "      <th>str_col</th>\n",
       "    </tr>\n",
       "  </thead>\n",
       "  <tbody>\n",
       "    <tr>\n",
       "      <th>0</th>\n",
       "      <td>1.0</td>\n",
       "      <td>4.0</td>\n",
       "      <td>2</td>\n",
       "      <td>1.5</td>\n",
       "    </tr>\n",
       "    <tr>\n",
       "      <th>1</th>\n",
       "      <td>2.5</td>\n",
       "      <td>4.0</td>\n",
       "      <td>3</td>\n",
       "      <td>3.0</td>\n",
       "    </tr>\n",
       "    <tr>\n",
       "      <th>2</th>\n",
       "      <td>2.5</td>\n",
       "      <td>1.5</td>\n",
       "      <td>4</td>\n",
       "      <td>NaN</td>\n",
       "    </tr>\n",
       "    <tr>\n",
       "      <th>3</th>\n",
       "      <td>4.0</td>\n",
       "      <td>1.5</td>\n",
       "      <td>5</td>\n",
       "      <td>4.0</td>\n",
       "    </tr>\n",
       "    <tr>\n",
       "      <th>4</th>\n",
       "      <td>NaN</td>\n",
       "      <td>4.0</td>\n",
       "      <td>1</td>\n",
       "      <td>1.5</td>\n",
       "    </tr>\n",
       "  </tbody>\n",
       "</table>\n",
       "</div>"
      ],
      "text/plain": [
       "   float_col  group  int_col  str_col\n",
       "0        1.0    4.0        2      1.5\n",
       "1        2.5    4.0        3      3.0\n",
       "2        2.5    1.5        4      NaN\n",
       "3        4.0    1.5        5      4.0\n",
       "4        NaN    4.0        1      1.5"
      ]
     },
     "execution_count": 21,
     "metadata": {},
     "output_type": "execute_result"
    }
   ],
   "source": [
    "df.rank()"
   ]
  },
  {
   "cell_type": "code",
   "execution_count": 22,
   "metadata": {
    "collapsed": false
   },
   "outputs": [
    {
     "data": {
      "text/plain": [
       "(   float_col  group  int_col  str_col\n",
       " 0        1.0    4.0        2      1.5\n",
       " 1        2.5    4.0        3      3.0\n",
       " 2        2.5    1.5        4      NaN\n",
       " 3        4.0    1.5        5      4.0\n",
       " 4        NaN    4.0        1      1.5,    float_col  group  int_col  str_col\n",
       " 0          1      3        2        1\n",
       " 1          2      3        3        3\n",
       " 2          2      1        4      NaN\n",
       " 3          4      1        5        4\n",
       " 4        NaN      3        1        1,    float_col  group  int_col  str_col\n",
       " 0          1      5        2        2\n",
       " 1          3      5        3        3\n",
       " 2          3      2        4      NaN\n",
       " 3          4      2        5        4\n",
       " 4        NaN      5        1        2)"
      ]
     },
     "execution_count": 22,
     "metadata": {},
     "output_type": "execute_result"
    }
   ],
   "source": [
    "df.rank(method='average'), df.rank(method='min'), df.rank(method='max')"
   ]
  },
  {
   "cell_type": "code",
   "execution_count": 23,
   "metadata": {
    "collapsed": false
   },
   "outputs": [
    {
     "ename": "ValueError",
     "evalue": "first not supported for non-numeric data",
     "output_type": "error",
     "traceback": [
      "\u001b[0;31m---------------------------------------------------------------------------\u001b[0m",
      "\u001b[0;31mValueError\u001b[0m                                Traceback (most recent call last)",
      "\u001b[0;32m<ipython-input-23-ba96120d3771>\u001b[0m in \u001b[0;36m<module>\u001b[0;34m()\u001b[0m\n\u001b[0;32m----> 1\u001b[0;31m \u001b[0mdf\u001b[0m\u001b[0;34m.\u001b[0m\u001b[0mrank\u001b[0m\u001b[0;34m(\u001b[0m\u001b[0mmethod\u001b[0m\u001b[0;34m=\u001b[0m\u001b[0;34m'first'\u001b[0m\u001b[0;34m)\u001b[0m \u001b[0;31m# ValueError: first not supported for non-numeric data\u001b[0m\u001b[0;34m\u001b[0m\u001b[0m\n\u001b[0m",
      "\u001b[0;32m/usr/local/lib/python3.5/site-packages/pandas/core/frame.py\u001b[0m in \u001b[0;36mrank\u001b[0;34m(self, axis, numeric_only, method, na_option, ascending, pct)\u001b[0m\n\u001b[1;32m   4866\u001b[0m                 ranks = algos.rank(self.values, axis=axis, method=method,\n\u001b[1;32m   4867\u001b[0m                                    \u001b[0mascending\u001b[0m\u001b[0;34m=\u001b[0m\u001b[0mascending\u001b[0m\u001b[0;34m,\u001b[0m \u001b[0mna_option\u001b[0m\u001b[0;34m=\u001b[0m\u001b[0mna_option\u001b[0m\u001b[0;34m,\u001b[0m\u001b[0;34m\u001b[0m\u001b[0m\n\u001b[0;32m-> 4868\u001b[0;31m                                    pct=pct)\n\u001b[0m\u001b[1;32m   4869\u001b[0m                 return self._constructor(ranks, index=self.index,\n\u001b[1;32m   4870\u001b[0m                                          columns=self.columns)\n",
      "\u001b[0;32m/usr/local/lib/python3.5/site-packages/pandas/core/algorithms.py\u001b[0m in \u001b[0;36mrank\u001b[0;34m(values, axis, method, na_option, ascending, pct)\u001b[0m\n\u001b[1;32m    384\u001b[0m         \u001b[0mf\u001b[0m\u001b[0;34m,\u001b[0m \u001b[0mvalues\u001b[0m \u001b[0;34m=\u001b[0m \u001b[0m_get_data_algo\u001b[0m\u001b[0;34m(\u001b[0m\u001b[0mvalues\u001b[0m\u001b[0;34m,\u001b[0m \u001b[0m_rank2d_functions\u001b[0m\u001b[0;34m)\u001b[0m\u001b[0;34m\u001b[0m\u001b[0m\n\u001b[1;32m    385\u001b[0m         ranks = f(values, axis=axis, ties_method=method,\n\u001b[0;32m--> 386\u001b[0;31m                   ascending=ascending, na_option=na_option, pct=pct)\n\u001b[0m\u001b[1;32m    387\u001b[0m \u001b[0;34m\u001b[0m\u001b[0m\n\u001b[1;32m    388\u001b[0m     \u001b[0;32mreturn\u001b[0m \u001b[0mranks\u001b[0m\u001b[0;34m\u001b[0m\u001b[0m\n",
      "\u001b[0;32mpandas/algos.pyx\u001b[0m in \u001b[0;36mpandas.algos.rank_2d_generic (pandas/algos.c:17674)\u001b[0;34m()\u001b[0m\n",
      "\u001b[0;31mValueError\u001b[0m: first not supported for non-numeric data"
     ]
    }
   ],
   "source": [
    "df.rank(method='first') # ValueError: first not supported for non-numeric data"
   ]
  },
  {
   "cell_type": "code",
   "execution_count": 24,
   "metadata": {
    "collapsed": false
   },
   "outputs": [
    {
     "data": {
      "text/plain": [
       "0     1\n",
       "1     2\n",
       "2     3\n",
       "3     4\n",
       "4   NaN\n",
       "Name: float_col, dtype: float64"
      ]
     },
     "execution_count": 24,
     "metadata": {},
     "output_type": "execute_result"
    }
   ],
   "source": [
    "df['float_col'].rank(method='first')"
   ]
  },
  {
   "cell_type": "code",
   "execution_count": 25,
   "metadata": {
    "collapsed": false
   },
   "outputs": [
    {
     "data": {
      "text/html": [
       "<div>\n",
       "<table border=\"1\" class=\"dataframe\">\n",
       "  <thead>\n",
       "    <tr style=\"text-align: right;\">\n",
       "      <th></th>\n",
       "      <th>float_col</th>\n",
       "      <th>int_col</th>\n",
       "    </tr>\n",
       "  </thead>\n",
       "  <tbody>\n",
       "    <tr>\n",
       "      <th>0</th>\n",
       "      <td>1</td>\n",
       "      <td>2</td>\n",
       "    </tr>\n",
       "    <tr>\n",
       "      <th>1</th>\n",
       "      <td>1</td>\n",
       "      <td>2</td>\n",
       "    </tr>\n",
       "    <tr>\n",
       "      <th>2</th>\n",
       "      <td>1</td>\n",
       "      <td>2</td>\n",
       "    </tr>\n",
       "    <tr>\n",
       "      <th>3</th>\n",
       "      <td>2</td>\n",
       "      <td>1</td>\n",
       "    </tr>\n",
       "    <tr>\n",
       "      <th>4</th>\n",
       "      <td>NaN</td>\n",
       "      <td>1</td>\n",
       "    </tr>\n",
       "  </tbody>\n",
       "</table>\n",
       "</div>"
      ],
      "text/plain": [
       "   float_col  int_col\n",
       "0          1        2\n",
       "1          1        2\n",
       "2          1        2\n",
       "3          2        1\n",
       "4        NaN        1"
      ]
     },
     "execution_count": 25,
     "metadata": {},
     "output_type": "execute_result"
    }
   ],
   "source": [
    "df.rank(axis=1)"
   ]
  },
  {
   "cell_type": "markdown",
   "metadata": {},
   "source": [
    "# Indexing"
   ]
  },
  {
   "cell_type": "markdown",
   "metadata": {},
   "source": [
    "#### Selecting a Column"
   ]
  },
  {
   "cell_type": "code",
   "execution_count": 26,
   "metadata": {
    "collapsed": false
   },
   "outputs": [
    {
     "data": {
      "text/plain": [
       "0    0.1\n",
       "1    0.2\n",
       "2    0.2\n",
       "3    9.5\n",
       "4    NaN\n",
       "Name: float_col, dtype: float64"
      ]
     },
     "execution_count": 26,
     "metadata": {},
     "output_type": "execute_result"
    }
   ],
   "source": [
    "df['float_col']"
   ]
  },
  {
   "cell_type": "code",
   "execution_count": 27,
   "metadata": {
    "collapsed": false
   },
   "outputs": [
    {
     "data": {
      "text/plain": [
       "0    0.1\n",
       "1    0.2\n",
       "2    0.2\n",
       "3    9.5\n",
       "4    NaN\n",
       "Name: float_col, dtype: float64"
      ]
     },
     "execution_count": 27,
     "metadata": {},
     "output_type": "execute_result"
    }
   ],
   "source": [
    "df.float_col"
   ]
  },
  {
   "cell_type": "markdown",
   "metadata": {},
   "source": [
    "### Selecting a Subset of Columns"
   ]
  },
  {
   "cell_type": "code",
   "execution_count": 6,
   "metadata": {
    "collapsed": false
   },
   "outputs": [
    {
     "data": {
      "text/html": [
       "<div>\n",
       "<table border=\"1\" class=\"dataframe\">\n",
       "  <thead>\n",
       "    <tr style=\"text-align: right;\">\n",
       "      <th></th>\n",
       "      <th>float_col</th>\n",
       "      <th>int_col</th>\n",
       "    </tr>\n",
       "  </thead>\n",
       "  <tbody>\n",
       "    <tr>\n",
       "      <th>0</th>\n",
       "      <td>0.1</td>\n",
       "      <td>1</td>\n",
       "    </tr>\n",
       "    <tr>\n",
       "      <th>1</th>\n",
       "      <td>0.2</td>\n",
       "      <td>2</td>\n",
       "    </tr>\n",
       "    <tr>\n",
       "      <th>2</th>\n",
       "      <td>0.2</td>\n",
       "      <td>6</td>\n",
       "    </tr>\n",
       "    <tr>\n",
       "      <th>3</th>\n",
       "      <td>9.5</td>\n",
       "      <td>8</td>\n",
       "    </tr>\n",
       "    <tr>\n",
       "      <th>4</th>\n",
       "      <td>NaN</td>\n",
       "      <td>-1</td>\n",
       "    </tr>\n",
       "  </tbody>\n",
       "</table>\n",
       "</div>"
      ],
      "text/plain": [
       "   float_col  int_col\n",
       "0        0.1        1\n",
       "1        0.2        2\n",
       "2        0.2        6\n",
       "3        9.5        8\n",
       "4        NaN       -1"
      ]
     },
     "execution_count": 6,
     "metadata": {},
     "output_type": "execute_result"
    }
   ],
   "source": [
    "# Selecting a subset of columns (a dataframe)\n",
    "df[['float_col','int_col']]"
   ]
  },
  {
   "cell_type": "code",
   "execution_count": 7,
   "metadata": {
    "collapsed": false
   },
   "outputs": [
    {
     "data": {
      "text/plain": [
       "pandas.core.frame.DataFrame"
      ]
     },
     "execution_count": 7,
     "metadata": {},
     "output_type": "execute_result"
    }
   ],
   "source": [
    "tmpDF = df[['float_col','int_col']]\n",
    "type(tmpDF)"
   ]
  },
  {
   "cell_type": "code",
   "execution_count": 8,
   "metadata": {
    "collapsed": false
   },
   "outputs": [
    {
     "data": {
      "text/plain": [
       "0    1\n",
       "1    2\n",
       "2    6\n",
       "3    8\n",
       "4   -1\n",
       "Name: int_col, dtype: int64"
      ]
     },
     "execution_count": 8,
     "metadata": {},
     "output_type": "execute_result"
    }
   ],
   "source": [
    "# Selecting a column (a Series)\n",
    "df['int_col']"
   ]
  },
  {
   "cell_type": "code",
   "execution_count": 9,
   "metadata": {
    "collapsed": false
   },
   "outputs": [
    {
     "data": {
      "text/plain": [
       "pandas.core.series.Series"
      ]
     },
     "execution_count": 9,
     "metadata": {},
     "output_type": "execute_result"
    }
   ],
   "source": [
    "tmpSeries = df['int_col'] # This is a Series\n",
    "type(tmpSeries)"
   ]
  },
  {
   "cell_type": "code",
   "execution_count": 10,
   "metadata": {
    "collapsed": false
   },
   "outputs": [
    {
     "data": {
      "text/plain": [
       "pandas.core.frame.DataFrame"
      ]
     },
     "execution_count": 10,
     "metadata": {},
     "output_type": "execute_result"
    }
   ],
   "source": [
    "tmpDF = df[['int_col']] # This is a DataFrame\n",
    "type(tmpDF)"
   ]
  },
  {
   "cell_type": "markdown",
   "metadata": {},
   "source": [
    "### Getting (and Setting) Entries"
   ]
  },
  {
   "cell_type": "code",
   "execution_count": 11,
   "metadata": {
    "collapsed": false
   },
   "outputs": [
    {
     "data": {
      "text/plain": [
       "2"
      ]
     },
     "execution_count": 11,
     "metadata": {},
     "output_type": "execute_result"
    }
   ],
   "source": [
    "df.ix[1, 'int_col']"
   ]
  },
  {
   "cell_type": "code",
   "execution_count": 12,
   "metadata": {
    "collapsed": false
   },
   "outputs": [],
   "source": [
    "df.ix[1, 'int_col'] = 9"
   ]
  },
  {
   "cell_type": "code",
   "execution_count": 13,
   "metadata": {
    "collapsed": false
   },
   "outputs": [
    {
     "data": {
      "text/plain": [
       "9"
      ]
     },
     "execution_count": 13,
     "metadata": {},
     "output_type": "execute_result"
    }
   ],
   "source": [
    "df.ix[1, 'int_col'] # !?"
   ]
  },
  {
   "cell_type": "code",
   "execution_count": 14,
   "metadata": {
    "collapsed": false
   },
   "outputs": [
    {
     "data": {
      "text/plain": [
       "9"
      ]
     },
     "execution_count": 14,
     "metadata": {},
     "output_type": "execute_result"
    }
   ],
   "source": [
    "df.ix[1, 'int_col']"
   ]
  },
  {
   "cell_type": "code",
   "execution_count": 15,
   "metadata": {
    "collapsed": false
   },
   "outputs": [
    {
     "data": {
      "text/plain": [
       "(10, 10)"
      ]
     },
     "execution_count": 15,
     "metadata": {},
     "output_type": "execute_result"
    }
   ],
   "source": [
    "df.ix[1, 'int_col'] += 1\n",
    "(df.ix[1]['int_col'], df.ix[1, 'int_col'])"
   ]
  },
  {
   "cell_type": "code",
   "execution_count": 16,
   "metadata": {
    "collapsed": false
   },
   "outputs": [
    {
     "data": {
      "text/plain": [
       "(11, 11)"
      ]
     },
     "execution_count": 16,
     "metadata": {},
     "output_type": "execute_result"
    }
   ],
   "source": [
    "df.ix[1, 'int_col'] += 1\n",
    "(df.ix[1]['int_col'], df.ix[1, 'int_col'])"
   ]
  },
  {
   "cell_type": "code",
   "execution_count": 17,
   "metadata": {
    "collapsed": false
   },
   "outputs": [
    {
     "data": {
      "text/plain": [
       "float_col    0.2\n",
       "group        Red\n",
       "int_col       11\n",
       "str_col       bb\n",
       "Name: 1, dtype: object"
      ]
     },
     "execution_count": 17,
     "metadata": {},
     "output_type": "execute_result"
    }
   ],
   "source": [
    "# Oh... df.ix[1] is a copied series\n",
    "df.ix[1]"
   ]
  },
  {
   "cell_type": "code",
   "execution_count": 18,
   "metadata": {
    "collapsed": false
   },
   "outputs": [
    {
     "data": {
      "text/plain": [
       "13"
      ]
     },
     "execution_count": 18,
     "metadata": {},
     "output_type": "execute_result"
    }
   ],
   "source": [
    "df.at[1, 'int_col'] += 2 # Works too, and is faster for scalar access\n",
    "df.at[1, 'int_col']"
   ]
  },
  {
   "cell_type": "code",
   "execution_count": 19,
   "metadata": {
    "collapsed": false
   },
   "outputs": [
    {
     "data": {
      "text/html": [
       "<div>\n",
       "<table border=\"1\" class=\"dataframe\">\n",
       "  <thead>\n",
       "    <tr style=\"text-align: right;\">\n",
       "      <th></th>\n",
       "      <th>int_col</th>\n",
       "      <th>float_col</th>\n",
       "    </tr>\n",
       "  </thead>\n",
       "  <tbody>\n",
       "    <tr>\n",
       "      <th>1</th>\n",
       "      <td>13</td>\n",
       "      <td>0.2</td>\n",
       "    </tr>\n",
       "    <tr>\n",
       "      <th>3</th>\n",
       "      <td>8</td>\n",
       "      <td>9.5</td>\n",
       "    </tr>\n",
       "  </tbody>\n",
       "</table>\n",
       "</div>"
      ],
      "text/plain": [
       "   int_col  float_col\n",
       "1       13        0.2\n",
       "3        8        9.5"
      ]
     },
     "execution_count": 19,
     "metadata": {},
     "output_type": "execute_result"
    }
   ],
   "source": [
    "df.ix[[1,3], ['int_col', 'float_col']] # Getting Blocks"
   ]
  },
  {
   "cell_type": "code",
   "execution_count": 20,
   "metadata": {
    "collapsed": false
   },
   "outputs": [
    {
     "data": {
      "text/html": [
       "<div>\n",
       "<table border=\"1\" class=\"dataframe\">\n",
       "  <thead>\n",
       "    <tr style=\"text-align: right;\">\n",
       "      <th></th>\n",
       "      <th>float_col</th>\n",
       "      <th>group</th>\n",
       "      <th>int_col</th>\n",
       "      <th>str_col</th>\n",
       "    </tr>\n",
       "  </thead>\n",
       "  <tbody>\n",
       "    <tr>\n",
       "      <th>0</th>\n",
       "      <td>0.10</td>\n",
       "      <td>Red</td>\n",
       "      <td>1</td>\n",
       "      <td>a</td>\n",
       "    </tr>\n",
       "    <tr>\n",
       "      <th>1</th>\n",
       "      <td>1.85</td>\n",
       "      <td>Red</td>\n",
       "      <td>13</td>\n",
       "      <td>1.85</td>\n",
       "    </tr>\n",
       "    <tr>\n",
       "      <th>2</th>\n",
       "      <td>0.20</td>\n",
       "      <td>Green</td>\n",
       "      <td>6</td>\n",
       "      <td>None</td>\n",
       "    </tr>\n",
       "    <tr>\n",
       "      <th>3</th>\n",
       "      <td>1.85</td>\n",
       "      <td>Green</td>\n",
       "      <td>8</td>\n",
       "      <td>1.85</td>\n",
       "    </tr>\n",
       "    <tr>\n",
       "      <th>4</th>\n",
       "      <td>NaN</td>\n",
       "      <td>Red</td>\n",
       "      <td>-1</td>\n",
       "      <td>a</td>\n",
       "    </tr>\n",
       "  </tbody>\n",
       "</table>\n",
       "</div>"
      ],
      "text/plain": [
       "   float_col  group  int_col str_col\n",
       "0       0.10    Red        1       a\n",
       "1       1.85    Red       13    1.85\n",
       "2       0.20  Green        6    None\n",
       "3       1.85  Green        8    1.85\n",
       "4        NaN    Red       -1       a"
      ]
     },
     "execution_count": 20,
     "metadata": {},
     "output_type": "execute_result"
    }
   ],
   "source": [
    "df.ix[[1,3], ['str_col', 'float_col']] = 1.85 # Setting Blocks\n",
    "df"
   ]
  },
  {
   "cell_type": "code",
   "execution_count": 21,
   "metadata": {
    "collapsed": false
   },
   "outputs": [
    {
     "data": {
      "text/html": [
       "<div>\n",
       "<table border=\"1\" class=\"dataframe\">\n",
       "  <thead>\n",
       "    <tr style=\"text-align: right;\">\n",
       "      <th></th>\n",
       "      <th>float_col</th>\n",
       "      <th>group</th>\n",
       "      <th>int_col</th>\n",
       "      <th>str_col</th>\n",
       "    </tr>\n",
       "  </thead>\n",
       "  <tbody>\n",
       "    <tr>\n",
       "      <th>0</th>\n",
       "      <td>0.10</td>\n",
       "      <td>Red</td>\n",
       "      <td>1</td>\n",
       "      <td>a</td>\n",
       "    </tr>\n",
       "    <tr>\n",
       "      <th>1</th>\n",
       "      <td>1.85</td>\n",
       "      <td>Red</td>\n",
       "      <td>13</td>\n",
       "      <td>bb</td>\n",
       "    </tr>\n",
       "    <tr>\n",
       "      <th>2</th>\n",
       "      <td>0.20</td>\n",
       "      <td>Green</td>\n",
       "      <td>6</td>\n",
       "      <td>None</td>\n",
       "    </tr>\n",
       "    <tr>\n",
       "      <th>3</th>\n",
       "      <td>1.85</td>\n",
       "      <td>Green</td>\n",
       "      <td>8</td>\n",
       "      <td>bb</td>\n",
       "    </tr>\n",
       "    <tr>\n",
       "      <th>4</th>\n",
       "      <td>NaN</td>\n",
       "      <td>Red</td>\n",
       "      <td>-1</td>\n",
       "      <td>a</td>\n",
       "    </tr>\n",
       "  </tbody>\n",
       "</table>\n",
       "</div>"
      ],
      "text/plain": [
       "   float_col  group  int_col str_col\n",
       "0       0.10    Red        1       a\n",
       "1       1.85    Red       13      bb\n",
       "2       0.20  Green        6    None\n",
       "3       1.85  Green        8      bb\n",
       "4        NaN    Red       -1       a"
      ]
     },
     "execution_count": 21,
     "metadata": {},
     "output_type": "execute_result"
    }
   ],
   "source": [
    "df.ix[[1,3], ['str_col']] = 'bb' # Getting Blocks\n",
    "df"
   ]
  },
  {
   "cell_type": "markdown",
   "metadata": {},
   "source": [
    "### Boolean Indexing (SELECT WHERE)"
   ]
  },
  {
   "cell_type": "code",
   "execution_count": 22,
   "metadata": {
    "collapsed": false
   },
   "outputs": [
    {
     "data": {
      "text/html": [
       "<div>\n",
       "<table border=\"1\" class=\"dataframe\">\n",
       "  <thead>\n",
       "    <tr style=\"text-align: right;\">\n",
       "      <th></th>\n",
       "      <th>float_col</th>\n",
       "      <th>group</th>\n",
       "      <th>int_col</th>\n",
       "      <th>str_col</th>\n",
       "    </tr>\n",
       "  </thead>\n",
       "  <tbody>\n",
       "    <tr>\n",
       "      <th>1</th>\n",
       "      <td>1.85</td>\n",
       "      <td>Red</td>\n",
       "      <td>13</td>\n",
       "      <td>bb</td>\n",
       "    </tr>\n",
       "    <tr>\n",
       "      <th>2</th>\n",
       "      <td>0.20</td>\n",
       "      <td>Green</td>\n",
       "      <td>6</td>\n",
       "      <td>None</td>\n",
       "    </tr>\n",
       "    <tr>\n",
       "      <th>3</th>\n",
       "      <td>1.85</td>\n",
       "      <td>Green</td>\n",
       "      <td>8</td>\n",
       "      <td>bb</td>\n",
       "    </tr>\n",
       "  </tbody>\n",
       "</table>\n",
       "</div>"
      ],
      "text/plain": [
       "   float_col  group  int_col str_col\n",
       "1       1.85    Red       13      bb\n",
       "2       0.20  Green        6    None\n",
       "3       1.85  Green        8      bb"
      ]
     },
     "execution_count": 22,
     "metadata": {},
     "output_type": "execute_result"
    }
   ],
   "source": [
    "df[(df['float_col'] > 0.1) & (df['int_col']>2)]"
   ]
  },
  {
   "cell_type": "code",
   "execution_count": 23,
   "metadata": {
    "collapsed": false
   },
   "outputs": [
    {
     "data": {
      "text/html": [
       "<div>\n",
       "<table border=\"1\" class=\"dataframe\">\n",
       "  <thead>\n",
       "    <tr style=\"text-align: right;\">\n",
       "      <th></th>\n",
       "      <th>float_col</th>\n",
       "      <th>group</th>\n",
       "      <th>int_col</th>\n",
       "      <th>str_col</th>\n",
       "    </tr>\n",
       "  </thead>\n",
       "  <tbody>\n",
       "    <tr>\n",
       "      <th>1</th>\n",
       "      <td>1.85</td>\n",
       "      <td>Red</td>\n",
       "      <td>13</td>\n",
       "      <td>bb</td>\n",
       "    </tr>\n",
       "    <tr>\n",
       "      <th>2</th>\n",
       "      <td>0.20</td>\n",
       "      <td>Green</td>\n",
       "      <td>6</td>\n",
       "      <td>None</td>\n",
       "    </tr>\n",
       "    <tr>\n",
       "      <th>3</th>\n",
       "      <td>1.85</td>\n",
       "      <td>Green</td>\n",
       "      <td>8</td>\n",
       "      <td>bb</td>\n",
       "    </tr>\n",
       "  </tbody>\n",
       "</table>\n",
       "</div>"
      ],
      "text/plain": [
       "   float_col  group  int_col str_col\n",
       "1       1.85    Red       13      bb\n",
       "2       0.20  Green        6    None\n",
       "3       1.85  Green        8      bb"
      ]
     },
     "execution_count": 23,
     "metadata": {},
     "output_type": "execute_result"
    }
   ],
   "source": [
    "df[(df['float_col'] > 0.1) | (df['int_col']>2)]"
   ]
  },
  {
   "cell_type": "code",
   "execution_count": 24,
   "metadata": {
    "collapsed": false
   },
   "outputs": [
    {
     "data": {
      "text/html": [
       "<div>\n",
       "<table border=\"1\" class=\"dataframe\">\n",
       "  <thead>\n",
       "    <tr style=\"text-align: right;\">\n",
       "      <th></th>\n",
       "      <th>float_col</th>\n",
       "      <th>group</th>\n",
       "      <th>int_col</th>\n",
       "      <th>str_col</th>\n",
       "    </tr>\n",
       "  </thead>\n",
       "  <tbody>\n",
       "    <tr>\n",
       "      <th>0</th>\n",
       "      <td>0.1</td>\n",
       "      <td>Red</td>\n",
       "      <td>1</td>\n",
       "      <td>a</td>\n",
       "    </tr>\n",
       "    <tr>\n",
       "      <th>4</th>\n",
       "      <td>NaN</td>\n",
       "      <td>Red</td>\n",
       "      <td>-1</td>\n",
       "      <td>a</td>\n",
       "    </tr>\n",
       "  </tbody>\n",
       "</table>\n",
       "</div>"
      ],
      "text/plain": [
       "   float_col group  int_col str_col\n",
       "0        0.1   Red        1       a\n",
       "4        NaN   Red       -1       a"
      ]
     },
     "execution_count": 24,
     "metadata": {},
     "output_type": "execute_result"
    }
   ],
   "source": [
    "df[~(df['float_col'] > 0.1)]"
   ]
  },
  {
   "cell_type": "markdown",
   "metadata": {},
   "source": [
    "# Indexes"
   ]
  },
  {
   "cell_type": "code",
   "execution_count": 17,
   "metadata": {
    "collapsed": false
   },
   "outputs": [
    {
     "data": {
      "text/html": [
       "<div>\n",
       "<table border=\"1\" class=\"dataframe\">\n",
       "  <thead>\n",
       "    <tr style=\"text-align: right;\">\n",
       "      <th></th>\n",
       "      <th>float_col</th>\n",
       "      <th>group</th>\n",
       "      <th>int_col</th>\n",
       "      <th>str_col</th>\n",
       "      <th>myIndex</th>\n",
       "    </tr>\n",
       "  </thead>\n",
       "  <tbody>\n",
       "    <tr>\n",
       "      <th>0</th>\n",
       "      <td>0.1</td>\n",
       "      <td>Red</td>\n",
       "      <td>1</td>\n",
       "      <td>a</td>\n",
       "      <td>one</td>\n",
       "    </tr>\n",
       "    <tr>\n",
       "      <th>1</th>\n",
       "      <td>0.2</td>\n",
       "      <td>Red</td>\n",
       "      <td>2</td>\n",
       "      <td>bb</td>\n",
       "      <td>two</td>\n",
       "    </tr>\n",
       "    <tr>\n",
       "      <th>2</th>\n",
       "      <td>0.2</td>\n",
       "      <td>Green</td>\n",
       "      <td>6</td>\n",
       "      <td>None</td>\n",
       "      <td>three</td>\n",
       "    </tr>\n",
       "    <tr>\n",
       "      <th>3</th>\n",
       "      <td>9.5</td>\n",
       "      <td>Green</td>\n",
       "      <td>8</td>\n",
       "      <td>ccc</td>\n",
       "      <td>four</td>\n",
       "    </tr>\n",
       "    <tr>\n",
       "      <th>4</th>\n",
       "      <td>NaN</td>\n",
       "      <td>Red</td>\n",
       "      <td>-1</td>\n",
       "      <td>a</td>\n",
       "      <td>42</td>\n",
       "    </tr>\n",
       "  </tbody>\n",
       "</table>\n",
       "</div>"
      ],
      "text/plain": [
       "   float_col  group  int_col str_col myIndex\n",
       "0        0.1    Red        1       a     one\n",
       "1        0.2    Red        2      bb     two\n",
       "2        0.2  Green        6    None   three\n",
       "3        9.5  Green        8     ccc    four\n",
       "4        NaN    Red       -1       a      42"
      ]
     },
     "execution_count": 17,
     "metadata": {},
     "output_type": "execute_result"
    }
   ],
   "source": [
    "df1 = df.copy()\n",
    "df1['myIndex'] = ['one', 'two', 'three', 'four', 42] # Make sure this is of the same length as existing index\n",
    "df1"
   ]
  },
  {
   "cell_type": "code",
   "execution_count": 18,
   "metadata": {
    "collapsed": false
   },
   "outputs": [
    {
     "data": {
      "text/html": [
       "<div>\n",
       "<table border=\"1\" class=\"dataframe\">\n",
       "  <thead>\n",
       "    <tr style=\"text-align: right;\">\n",
       "      <th></th>\n",
       "      <th>float_col</th>\n",
       "      <th>group</th>\n",
       "      <th>int_col</th>\n",
       "      <th>str_col</th>\n",
       "    </tr>\n",
       "    <tr>\n",
       "      <th>myIndex</th>\n",
       "      <th></th>\n",
       "      <th></th>\n",
       "      <th></th>\n",
       "      <th></th>\n",
       "    </tr>\n",
       "  </thead>\n",
       "  <tbody>\n",
       "    <tr>\n",
       "      <th>one</th>\n",
       "      <td>0.1</td>\n",
       "      <td>Red</td>\n",
       "      <td>1</td>\n",
       "      <td>a</td>\n",
       "    </tr>\n",
       "    <tr>\n",
       "      <th>two</th>\n",
       "      <td>0.2</td>\n",
       "      <td>Red</td>\n",
       "      <td>2</td>\n",
       "      <td>bb</td>\n",
       "    </tr>\n",
       "    <tr>\n",
       "      <th>three</th>\n",
       "      <td>0.2</td>\n",
       "      <td>Green</td>\n",
       "      <td>6</td>\n",
       "      <td>None</td>\n",
       "    </tr>\n",
       "    <tr>\n",
       "      <th>four</th>\n",
       "      <td>9.5</td>\n",
       "      <td>Green</td>\n",
       "      <td>8</td>\n",
       "      <td>ccc</td>\n",
       "    </tr>\n",
       "    <tr>\n",
       "      <th>42</th>\n",
       "      <td>NaN</td>\n",
       "      <td>Red</td>\n",
       "      <td>-1</td>\n",
       "      <td>a</td>\n",
       "    </tr>\n",
       "  </tbody>\n",
       "</table>\n",
       "</div>"
      ],
      "text/plain": [
       "         float_col  group  int_col str_col\n",
       "myIndex                                   \n",
       "one            0.1    Red        1       a\n",
       "two            0.2    Red        2      bb\n",
       "three          0.2  Green        6    None\n",
       "four           9.5  Green        8     ccc\n",
       "42             NaN    Red       -1       a"
      ]
     },
     "execution_count": 18,
     "metadata": {},
     "output_type": "execute_result"
    }
   ],
   "source": [
    "df1.set_index(['myIndex']) # Returns a new DataFrame unless inplace=True"
   ]
  },
  {
   "cell_type": "code",
   "execution_count": 19,
   "metadata": {
    "collapsed": false
   },
   "outputs": [
    {
     "data": {
      "text/html": [
       "<div>\n",
       "<table border=\"1\" class=\"dataframe\">\n",
       "  <thead>\n",
       "    <tr style=\"text-align: right;\">\n",
       "      <th></th>\n",
       "      <th>float_col</th>\n",
       "      <th>group</th>\n",
       "      <th>int_col</th>\n",
       "      <th>str_col</th>\n",
       "      <th>myIndex</th>\n",
       "    </tr>\n",
       "  </thead>\n",
       "  <tbody>\n",
       "    <tr>\n",
       "      <th>0</th>\n",
       "      <td>0.1</td>\n",
       "      <td>Red</td>\n",
       "      <td>1</td>\n",
       "      <td>a</td>\n",
       "      <td>one</td>\n",
       "    </tr>\n",
       "    <tr>\n",
       "      <th>1</th>\n",
       "      <td>0.2</td>\n",
       "      <td>Red</td>\n",
       "      <td>2</td>\n",
       "      <td>bb</td>\n",
       "      <td>two</td>\n",
       "    </tr>\n",
       "    <tr>\n",
       "      <th>2</th>\n",
       "      <td>0.2</td>\n",
       "      <td>Green</td>\n",
       "      <td>6</td>\n",
       "      <td>None</td>\n",
       "      <td>three</td>\n",
       "    </tr>\n",
       "    <tr>\n",
       "      <th>3</th>\n",
       "      <td>9.5</td>\n",
       "      <td>Green</td>\n",
       "      <td>8</td>\n",
       "      <td>ccc</td>\n",
       "      <td>four</td>\n",
       "    </tr>\n",
       "    <tr>\n",
       "      <th>4</th>\n",
       "      <td>NaN</td>\n",
       "      <td>Red</td>\n",
       "      <td>-1</td>\n",
       "      <td>a</td>\n",
       "      <td>42</td>\n",
       "    </tr>\n",
       "  </tbody>\n",
       "</table>\n",
       "</div>"
      ],
      "text/plain": [
       "   float_col  group  int_col str_col myIndex\n",
       "0        0.1    Red        1       a     one\n",
       "1        0.2    Red        2      bb     two\n",
       "2        0.2  Green        6    None   three\n",
       "3        9.5  Green        8     ccc    four\n",
       "4        NaN    Red       -1       a      42"
      ]
     },
     "execution_count": 19,
     "metadata": {},
     "output_type": "execute_result"
    }
   ],
   "source": [
    "df1"
   ]
  },
  {
   "cell_type": "code",
   "execution_count": 20,
   "metadata": {
    "collapsed": false
   },
   "outputs": [
    {
     "data": {
      "text/html": [
       "<div>\n",
       "<table border=\"1\" class=\"dataframe\">\n",
       "  <thead>\n",
       "    <tr style=\"text-align: right;\">\n",
       "      <th></th>\n",
       "      <th>float_col</th>\n",
       "      <th>group</th>\n",
       "      <th>int_col</th>\n",
       "      <th>str_col</th>\n",
       "    </tr>\n",
       "    <tr>\n",
       "      <th>myIndex</th>\n",
       "      <th></th>\n",
       "      <th></th>\n",
       "      <th></th>\n",
       "      <th></th>\n",
       "    </tr>\n",
       "  </thead>\n",
       "  <tbody>\n",
       "    <tr>\n",
       "      <th>one</th>\n",
       "      <td>0.1</td>\n",
       "      <td>Red</td>\n",
       "      <td>1</td>\n",
       "      <td>a</td>\n",
       "    </tr>\n",
       "    <tr>\n",
       "      <th>two</th>\n",
       "      <td>0.2</td>\n",
       "      <td>Red</td>\n",
       "      <td>2</td>\n",
       "      <td>bb</td>\n",
       "    </tr>\n",
       "    <tr>\n",
       "      <th>three</th>\n",
       "      <td>0.2</td>\n",
       "      <td>Green</td>\n",
       "      <td>6</td>\n",
       "      <td>None</td>\n",
       "    </tr>\n",
       "    <tr>\n",
       "      <th>four</th>\n",
       "      <td>9.5</td>\n",
       "      <td>Green</td>\n",
       "      <td>8</td>\n",
       "      <td>ccc</td>\n",
       "    </tr>\n",
       "    <tr>\n",
       "      <th>42</th>\n",
       "      <td>NaN</td>\n",
       "      <td>Red</td>\n",
       "      <td>-1</td>\n",
       "      <td>a</td>\n",
       "    </tr>\n",
       "  </tbody>\n",
       "</table>\n",
       "</div>"
      ],
      "text/plain": [
       "         float_col  group  int_col str_col\n",
       "myIndex                                   \n",
       "one            0.1    Red        1       a\n",
       "two            0.2    Red        2      bb\n",
       "three          0.2  Green        6    None\n",
       "four           9.5  Green        8     ccc\n",
       "42             NaN    Red       -1       a"
      ]
     },
     "execution_count": 20,
     "metadata": {},
     "output_type": "execute_result"
    }
   ],
   "source": [
    "df1.set_index(['myIndex'], inplace=True)\n",
    "df1"
   ]
  },
  {
   "cell_type": "code",
   "execution_count": 21,
   "metadata": {
    "collapsed": false
   },
   "outputs": [
    {
     "data": {
      "text/html": [
       "<div>\n",
       "<table border=\"1\" class=\"dataframe\">\n",
       "  <thead>\n",
       "    <tr style=\"text-align: right;\">\n",
       "      <th></th>\n",
       "      <th>float_col</th>\n",
       "      <th>group</th>\n",
       "      <th>int_col</th>\n",
       "      <th>str_col</th>\n",
       "    </tr>\n",
       "    <tr>\n",
       "      <th>myIndex</th>\n",
       "      <th></th>\n",
       "      <th></th>\n",
       "      <th></th>\n",
       "      <th></th>\n",
       "    </tr>\n",
       "  </thead>\n",
       "  <tbody>\n",
       "    <tr>\n",
       "      <th>one</th>\n",
       "      <td>0.1</td>\n",
       "      <td>Red</td>\n",
       "      <td>1</td>\n",
       "      <td>a</td>\n",
       "    </tr>\n",
       "    <tr>\n",
       "      <th>three</th>\n",
       "      <td>0.2</td>\n",
       "      <td>Green</td>\n",
       "      <td>6</td>\n",
       "      <td>None</td>\n",
       "    </tr>\n",
       "  </tbody>\n",
       "</table>\n",
       "</div>"
      ],
      "text/plain": [
       "         float_col  group  int_col str_col\n",
       "myIndex                                   \n",
       "one            0.1    Red        1       a\n",
       "three          0.2  Green        6    None"
      ]
     },
     "execution_count": 21,
     "metadata": {},
     "output_type": "execute_result"
    }
   ],
   "source": [
    "df1.ix[['one','three']]"
   ]
  },
  {
   "cell_type": "code",
   "execution_count": 22,
   "metadata": {
    "collapsed": false
   },
   "outputs": [
    {
     "data": {
      "text/html": [
       "<div>\n",
       "<table border=\"1\" class=\"dataframe\">\n",
       "  <thead>\n",
       "    <tr style=\"text-align: right;\">\n",
       "      <th></th>\n",
       "      <th>float_col</th>\n",
       "      <th>group</th>\n",
       "      <th>int_col</th>\n",
       "      <th>str_col</th>\n",
       "    </tr>\n",
       "    <tr>\n",
       "      <th>myIndex</th>\n",
       "      <th></th>\n",
       "      <th></th>\n",
       "      <th></th>\n",
       "      <th></th>\n",
       "    </tr>\n",
       "  </thead>\n",
       "  <tbody>\n",
       "    <tr>\n",
       "      <th>one</th>\n",
       "      <td>0.1</td>\n",
       "      <td>Red</td>\n",
       "      <td>1</td>\n",
       "      <td>a</td>\n",
       "    </tr>\n",
       "    <tr>\n",
       "      <th>two</th>\n",
       "      <td>0.2</td>\n",
       "      <td>Red</td>\n",
       "      <td>2</td>\n",
       "      <td>bb</td>\n",
       "    </tr>\n",
       "    <tr>\n",
       "      <th>three</th>\n",
       "      <td>0.2</td>\n",
       "      <td>Green</td>\n",
       "      <td>6</td>\n",
       "      <td>None</td>\n",
       "    </tr>\n",
       "  </tbody>\n",
       "</table>\n",
       "</div>"
      ],
      "text/plain": [
       "         float_col  group  int_col str_col\n",
       "myIndex                                   \n",
       "one            0.1    Red        1       a\n",
       "two            0.2    Red        2      bb\n",
       "three          0.2  Green        6    None"
      ]
     },
     "execution_count": 22,
     "metadata": {},
     "output_type": "execute_result"
    }
   ],
   "source": [
    "df1['one':'three'] # What sorcery is this!? (Endpoints inclusive, btw.)"
   ]
  },
  {
   "cell_type": "code",
   "execution_count": 30,
   "metadata": {
    "collapsed": false
   },
   "outputs": [
    {
     "data": {
      "text/plain": [
       "myIndex\n",
       "one        Red\n",
       "two        Red\n",
       "three    Green\n",
       "four     Green\n",
       "42         Red\n",
       "Name: group, dtype: object"
      ]
     },
     "execution_count": 30,
     "metadata": {},
     "output_type": "execute_result"
    }
   ],
   "source": [
    "df1.group['two'] # Can't do df1.group.two (df1.group is a Series)"
   ]
  },
  {
   "cell_type": "code",
   "execution_count": 62,
   "metadata": {
    "collapsed": false
   },
   "outputs": [
    {
     "ename": "AttributeError",
     "evalue": "'Series' object has no attribute 'two'",
     "output_type": "error",
     "traceback": [
      "\u001b[1;31m---------------------------------------------------------------------------\u001b[0m\n\u001b[1;31mAttributeError\u001b[0m                            Traceback (most recent call last)",
      "\u001b[1;32m<ipython-input-62-0a7bf04a8df2>\u001b[0m in \u001b[0;36m<module>\u001b[1;34m()\u001b[0m\n\u001b[1;32m----> 1\u001b[1;33m \u001b[0mdf1\u001b[0m\u001b[1;33m.\u001b[0m\u001b[0mgroup\u001b[0m\u001b[1;33m.\u001b[0m\u001b[0mtwo\u001b[0m \u001b[1;31m# Can't do this (df1.group is a Series)\u001b[0m\u001b[1;33m\u001b[0m\u001b[0m\n\u001b[0m",
      "\u001b[1;31mAttributeError\u001b[0m: 'Series' object has no attribute 'two'"
     ]
    }
   ],
   "source": [
    "df1.group.two # Can't do this (df1.group is a Series)"
   ]
  },
  {
   "cell_type": "markdown",
   "metadata": {},
   "source": [
    "### Stacking, Unstacking and Index Reorganization"
   ]
  },
  {
   "cell_type": "code",
   "execution_count": 63,
   "metadata": {
    "collapsed": false
   },
   "outputs": [
    {
     "data": {
      "text/html": [
       "<div style=\"max-height:1000px;max-width:1500px;overflow:auto;\">\n",
       "<table border=\"1\" class=\"dataframe\">\n",
       "  <thead>\n",
       "    <tr style=\"text-align: right;\">\n",
       "      <th></th>\n",
       "      <th>float_col</th>\n",
       "      <th>group</th>\n",
       "      <th>int_col</th>\n",
       "      <th>str_col</th>\n",
       "    </tr>\n",
       "    <tr>\n",
       "      <th>myIndex</th>\n",
       "      <th></th>\n",
       "      <th></th>\n",
       "      <th></th>\n",
       "      <th></th>\n",
       "    </tr>\n",
       "  </thead>\n",
       "  <tbody>\n",
       "    <tr>\n",
       "      <th>one</th>\n",
       "      <td> 0.10</td>\n",
       "      <td>   Red</td>\n",
       "      <td>  1</td>\n",
       "      <td>    a</td>\n",
       "    </tr>\n",
       "    <tr>\n",
       "      <th>two</th>\n",
       "      <td> 1.85</td>\n",
       "      <td>   Red</td>\n",
       "      <td> 11</td>\n",
       "      <td> 1.85</td>\n",
       "    </tr>\n",
       "    <tr>\n",
       "      <th>three</th>\n",
       "      <td> 0.20</td>\n",
       "      <td> Green</td>\n",
       "      <td>  6</td>\n",
       "      <td> None</td>\n",
       "    </tr>\n",
       "    <tr>\n",
       "      <th>four</th>\n",
       "      <td> 1.85</td>\n",
       "      <td> Green</td>\n",
       "      <td>  8</td>\n",
       "      <td> 1.85</td>\n",
       "    </tr>\n",
       "    <tr>\n",
       "      <th>42</th>\n",
       "      <td>  NaN</td>\n",
       "      <td>   Red</td>\n",
       "      <td> -1</td>\n",
       "      <td>    a</td>\n",
       "    </tr>\n",
       "  </tbody>\n",
       "</table>\n",
       "</div>"
      ],
      "text/plain": [
       "         float_col  group  int_col str_col\n",
       "myIndex                                   \n",
       "one           0.10    Red        1       a\n",
       "two           1.85    Red       11    1.85\n",
       "three         0.20  Green        6    None\n",
       "four          1.85  Green        8    1.85\n",
       "42             NaN    Red       -1       a"
      ]
     },
     "execution_count": 63,
     "metadata": {},
     "output_type": "execute_result"
    }
   ],
   "source": [
    "df1"
   ]
  },
  {
   "cell_type": "code",
   "execution_count": 32,
   "metadata": {
    "collapsed": false
   },
   "outputs": [
    {
     "data": {
      "text/plain": [
       "myIndex           \n",
       "one      float_col      0.1\n",
       "         group          Red\n",
       "         int_col          1\n",
       "         str_col          a\n",
       "two      float_col     1.85\n",
       "         group          Red\n",
       "         int_col         13\n",
       "         str_col         bb\n",
       "three    float_col      0.2\n",
       "         group        Green\n",
       "         int_col          6\n",
       "four     float_col     1.85\n",
       "         group        Green\n",
       "         int_col          8\n",
       "         str_col         bb\n",
       "42       group          Red\n",
       "         int_col         -1\n",
       "         str_col          a\n",
       "dtype: object"
      ]
     },
     "execution_count": 32,
     "metadata": {},
     "output_type": "execute_result"
    }
   ],
   "source": [
    "dfStack = df1.stack()\n",
    "dfStack"
   ]
  },
  {
   "cell_type": "code",
   "execution_count": 33,
   "metadata": {
    "collapsed": false
   },
   "outputs": [
    {
     "data": {
      "text/plain": [
       "pandas.core.series.Series"
      ]
     },
     "execution_count": 33,
     "metadata": {},
     "output_type": "execute_result"
    }
   ],
   "source": [
    "type(dfStack['one']) # Converts a DataFrame with a single index into a series of series"
   ]
  },
  {
   "cell_type": "code",
   "execution_count": 34,
   "metadata": {
    "collapsed": false
   },
   "outputs": [
    {
     "data": {
      "text/plain": [
       "myIndex           \n",
       "one      float_col     0.1\n",
       "         group         Red\n",
       "         int_col         1\n",
       "         str_col         a\n",
       "two      float_col    1.85\n",
       "dtype: object"
      ]
     },
     "execution_count": 34,
     "metadata": {},
     "output_type": "execute_result"
    }
   ],
   "source": [
    "dfStack[0:5] # What is this??? (Are you as confused as I am? I guess this is probably pointless.)"
   ]
  },
  {
   "cell_type": "code",
   "execution_count": 23,
   "metadata": {
    "collapsed": false
   },
   "outputs": [
    {
     "data": {
      "text/html": [
       "<div>\n",
       "<table border=\"1\" class=\"dataframe\">\n",
       "  <thead>\n",
       "    <tr style=\"text-align: right;\">\n",
       "      <th></th>\n",
       "      <th></th>\n",
       "      <th>float_col</th>\n",
       "      <th>int_col</th>\n",
       "      <th>str_col</th>\n",
       "    </tr>\n",
       "    <tr>\n",
       "      <th>group</th>\n",
       "      <th>myIndex</th>\n",
       "      <th></th>\n",
       "      <th></th>\n",
       "      <th></th>\n",
       "    </tr>\n",
       "  </thead>\n",
       "  <tbody>\n",
       "    <tr>\n",
       "      <th rowspan=\"2\" valign=\"top\">Red</th>\n",
       "      <th>one</th>\n",
       "      <td>0.1</td>\n",
       "      <td>1</td>\n",
       "      <td>a</td>\n",
       "    </tr>\n",
       "    <tr>\n",
       "      <th>two</th>\n",
       "      <td>0.2</td>\n",
       "      <td>2</td>\n",
       "      <td>bb</td>\n",
       "    </tr>\n",
       "    <tr>\n",
       "      <th rowspan=\"2\" valign=\"top\">Green</th>\n",
       "      <th>three</th>\n",
       "      <td>0.2</td>\n",
       "      <td>6</td>\n",
       "      <td>None</td>\n",
       "    </tr>\n",
       "    <tr>\n",
       "      <th>four</th>\n",
       "      <td>9.5</td>\n",
       "      <td>8</td>\n",
       "      <td>ccc</td>\n",
       "    </tr>\n",
       "    <tr>\n",
       "      <th>Red</th>\n",
       "      <th>42</th>\n",
       "      <td>NaN</td>\n",
       "      <td>-1</td>\n",
       "      <td>a</td>\n",
       "    </tr>\n",
       "  </tbody>\n",
       "</table>\n",
       "</div>"
      ],
      "text/plain": [
       "               float_col  int_col str_col\n",
       "group myIndex                            \n",
       "Red   one            0.1        1       a\n",
       "      two            0.2        2      bb\n",
       "Green three          0.2        6    None\n",
       "      four           9.5        8     ccc\n",
       "Red   42             NaN       -1       a"
      ]
     },
     "execution_count": 23,
     "metadata": {},
     "output_type": "execute_result"
    }
   ],
   "source": [
    "df1 = df.copy()\n",
    "df1['myIndex'] = ['one', 'two', 'three', 'four', 42] # Make sure this is of the same length as existing index\n",
    "df1.set_index(['group', 'myIndex'], inplace=True)\n",
    "df1"
   ]
  },
  {
   "cell_type": "code",
   "execution_count": 70,
   "metadata": {
    "collapsed": false
   },
   "outputs": [
    {
     "ename": "KeyError",
     "evalue": "'MultiIndex lexsort depth 0, key was length 1'",
     "output_type": "error",
     "traceback": [
      "\u001b[1;31m---------------------------------------------------------------------------\u001b[0m\n\u001b[1;31mKeyError\u001b[0m                                  Traceback (most recent call last)",
      "\u001b[1;32m<ipython-input-70-47e1ac049770>\u001b[0m in \u001b[0;36m<module>\u001b[1;34m()\u001b[0m\n\u001b[1;32m----> 1\u001b[1;33m \u001b[0mdf1\u001b[0m\u001b[1;33m.\u001b[0m\u001b[0mix\u001b[0m\u001b[1;33m[\u001b[0m\u001b[1;33m[\u001b[0m\u001b[1;34m'Red'\u001b[0m\u001b[1;33m,\u001b[0m\u001b[1;34m'one'\u001b[0m\u001b[1;33m]\u001b[0m\u001b[1;33m:\u001b[0m\u001b[1;33m[\u001b[0m\u001b[1;34m'Green'\u001b[0m\u001b[1;33m,\u001b[0m\u001b[1;34m'three'\u001b[0m\u001b[1;33m]\u001b[0m\u001b[1;33m]\u001b[0m \u001b[1;31m# Doesn't work... But why would you want to do this?\u001b[0m\u001b[1;33m\u001b[0m\u001b[0m\n\u001b[0m",
      "\u001b[1;32mC:\\Python27\\lib\\site-packages\\pandas\\core\\indexing.pyc\u001b[0m in \u001b[0;36m__getitem__\u001b[1;34m(self, key)\u001b[0m\n\u001b[0;32m     47\u001b[0m             \u001b[1;32mreturn\u001b[0m \u001b[0mself\u001b[0m\u001b[1;33m.\u001b[0m\u001b[0m_getitem_tuple\u001b[0m\u001b[1;33m(\u001b[0m\u001b[0mkey\u001b[0m\u001b[1;33m)\u001b[0m\u001b[1;33m\u001b[0m\u001b[0m\n\u001b[0;32m     48\u001b[0m         \u001b[1;32melse\u001b[0m\u001b[1;33m:\u001b[0m\u001b[1;33m\u001b[0m\u001b[0m\n\u001b[1;32m---> 49\u001b[1;33m             \u001b[1;32mreturn\u001b[0m \u001b[0mself\u001b[0m\u001b[1;33m.\u001b[0m\u001b[0m_getitem_axis\u001b[0m\u001b[1;33m(\u001b[0m\u001b[0mkey\u001b[0m\u001b[1;33m,\u001b[0m \u001b[0maxis\u001b[0m\u001b[1;33m=\u001b[0m\u001b[1;36m0\u001b[0m\u001b[1;33m)\u001b[0m\u001b[1;33m\u001b[0m\u001b[0m\n\u001b[0m\u001b[0;32m     50\u001b[0m \u001b[1;33m\u001b[0m\u001b[0m\n\u001b[0;32m     51\u001b[0m     \u001b[1;32mdef\u001b[0m \u001b[0m_get_label\u001b[0m\u001b[1;33m(\u001b[0m\u001b[0mself\u001b[0m\u001b[1;33m,\u001b[0m \u001b[0mlabel\u001b[0m\u001b[1;33m,\u001b[0m \u001b[0maxis\u001b[0m\u001b[1;33m=\u001b[0m\u001b[1;36m0\u001b[0m\u001b[1;33m)\u001b[0m\u001b[1;33m:\u001b[0m\u001b[1;33m\u001b[0m\u001b[0m\n",
      "\u001b[1;32mC:\\Python27\\lib\\site-packages\\pandas\\core\\indexing.pyc\u001b[0m in \u001b[0;36m_getitem_axis\u001b[1;34m(self, key, axis)\u001b[0m\n\u001b[0;32m    391\u001b[0m         \u001b[0mlabels\u001b[0m \u001b[1;33m=\u001b[0m \u001b[0mself\u001b[0m\u001b[1;33m.\u001b[0m\u001b[0mobj\u001b[0m\u001b[1;33m.\u001b[0m\u001b[0m_get_axis\u001b[0m\u001b[1;33m(\u001b[0m\u001b[0maxis\u001b[0m\u001b[1;33m)\u001b[0m\u001b[1;33m\u001b[0m\u001b[0m\n\u001b[0;32m    392\u001b[0m         \u001b[1;32mif\u001b[0m \u001b[0misinstance\u001b[0m\u001b[1;33m(\u001b[0m\u001b[0mkey\u001b[0m\u001b[1;33m,\u001b[0m \u001b[0mslice\u001b[0m\u001b[1;33m)\u001b[0m\u001b[1;33m:\u001b[0m\u001b[1;33m\u001b[0m\u001b[0m\n\u001b[1;32m--> 393\u001b[1;33m             \u001b[1;32mreturn\u001b[0m \u001b[0mself\u001b[0m\u001b[1;33m.\u001b[0m\u001b[0m_get_slice_axis\u001b[0m\u001b[1;33m(\u001b[0m\u001b[0mkey\u001b[0m\u001b[1;33m,\u001b[0m \u001b[0maxis\u001b[0m\u001b[1;33m=\u001b[0m\u001b[0maxis\u001b[0m\u001b[1;33m)\u001b[0m\u001b[1;33m\u001b[0m\u001b[0m\n\u001b[0m\u001b[0;32m    394\u001b[0m         elif _is_list_like(key) and not (isinstance(key, tuple) and\n\u001b[0;32m    395\u001b[0m                                          isinstance(labels, MultiIndex)):\n",
      "\u001b[1;32mC:\\Python27\\lib\\site-packages\\pandas\\core\\indexing.pyc\u001b[0m in \u001b[0;36m_get_slice_axis\u001b[1;34m(self, slice_obj, axis)\u001b[0m\n\u001b[0;32m    664\u001b[0m         \u001b[1;32melse\u001b[0m\u001b[1;33m:\u001b[0m\u001b[1;33m\u001b[0m\u001b[0m\n\u001b[0;32m    665\u001b[0m             \u001b[1;32mtry\u001b[0m\u001b[1;33m:\u001b[0m\u001b[1;33m\u001b[0m\u001b[0m\n\u001b[1;32m--> 666\u001b[1;33m                 \u001b[0mindexer\u001b[0m \u001b[1;33m=\u001b[0m \u001b[0mlabels\u001b[0m\u001b[1;33m.\u001b[0m\u001b[0mslice_indexer\u001b[0m\u001b[1;33m(\u001b[0m\u001b[0mstart\u001b[0m\u001b[1;33m,\u001b[0m \u001b[0mstop\u001b[0m\u001b[1;33m,\u001b[0m \u001b[0mslice_obj\u001b[0m\u001b[1;33m.\u001b[0m\u001b[0mstep\u001b[0m\u001b[1;33m)\u001b[0m\u001b[1;33m\u001b[0m\u001b[0m\n\u001b[0m\u001b[0;32m    667\u001b[0m             \u001b[1;32mexcept\u001b[0m \u001b[0mException\u001b[0m\u001b[1;33m:\u001b[0m\u001b[1;33m\u001b[0m\u001b[0m\n\u001b[0;32m    668\u001b[0m                 \u001b[1;32mif\u001b[0m \u001b[0m_is_index_slice\u001b[0m\u001b[1;33m(\u001b[0m\u001b[0mslice_obj\u001b[0m\u001b[1;33m)\u001b[0m\u001b[1;33m:\u001b[0m\u001b[1;33m\u001b[0m\u001b[0m\n",
      "\u001b[1;32mC:\\Python27\\lib\\site-packages\\pandas\\core\\index.pyc\u001b[0m in \u001b[0;36mslice_indexer\u001b[1;34m(self, start, end, step)\u001b[0m\n\u001b[0;32m   1180\u001b[0m         \u001b[0mThis\u001b[0m \u001b[0mfunction\u001b[0m \u001b[0massumes\u001b[0m \u001b[0mthat\u001b[0m \u001b[0mthe\u001b[0m \u001b[0mdata\u001b[0m \u001b[1;32mis\u001b[0m \u001b[0msorted\u001b[0m\u001b[1;33m,\u001b[0m \u001b[0mso\u001b[0m \u001b[0muse\u001b[0m \u001b[0mat\u001b[0m \u001b[0myour\u001b[0m \u001b[0mown\u001b[0m \u001b[0mperil\u001b[0m\u001b[1;33m\u001b[0m\u001b[0m\n\u001b[0;32m   1181\u001b[0m         \"\"\"\n\u001b[1;32m-> 1182\u001b[1;33m         \u001b[0mstart_slice\u001b[0m\u001b[1;33m,\u001b[0m \u001b[0mend_slice\u001b[0m \u001b[1;33m=\u001b[0m \u001b[0mself\u001b[0m\u001b[1;33m.\u001b[0m\u001b[0mslice_locs\u001b[0m\u001b[1;33m(\u001b[0m\u001b[0mstart\u001b[0m\u001b[1;33m,\u001b[0m \u001b[0mend\u001b[0m\u001b[1;33m)\u001b[0m\u001b[1;33m\u001b[0m\u001b[0m\n\u001b[0m\u001b[0;32m   1183\u001b[0m \u001b[1;33m\u001b[0m\u001b[0m\n\u001b[0;32m   1184\u001b[0m         \u001b[1;31m# return a slice\u001b[0m\u001b[1;33m\u001b[0m\u001b[1;33m\u001b[0m\u001b[0m\n",
      "\u001b[1;32mC:\\Python27\\lib\\site-packages\\pandas\\core\\index.pyc\u001b[0m in \u001b[0;36mslice_locs\u001b[1;34m(self, start, end, strict)\u001b[0m\n\u001b[0;32m   2219\u001b[0m             \u001b[1;32mif\u001b[0m \u001b[1;32mnot\u001b[0m \u001b[0misinstance\u001b[0m\u001b[1;33m(\u001b[0m\u001b[0mstart\u001b[0m\u001b[1;33m,\u001b[0m \u001b[0mtuple\u001b[0m\u001b[1;33m)\u001b[0m\u001b[1;33m:\u001b[0m\u001b[1;33m\u001b[0m\u001b[0m\n\u001b[0;32m   2220\u001b[0m                 \u001b[0mstart\u001b[0m \u001b[1;33m=\u001b[0m \u001b[0mstart\u001b[0m\u001b[1;33m,\u001b[0m\u001b[1;33m\u001b[0m\u001b[0m\n\u001b[1;32m-> 2221\u001b[1;33m             \u001b[0mstart_slice\u001b[0m \u001b[1;33m=\u001b[0m \u001b[0mself\u001b[0m\u001b[1;33m.\u001b[0m\u001b[0m_partial_tup_index\u001b[0m\u001b[1;33m(\u001b[0m\u001b[0mstart\u001b[0m\u001b[1;33m,\u001b[0m \u001b[0mside\u001b[0m\u001b[1;33m=\u001b[0m\u001b[1;34m'left'\u001b[0m\u001b[1;33m)\u001b[0m\u001b[1;33m\u001b[0m\u001b[0m\n\u001b[0m\u001b[0;32m   2222\u001b[0m \u001b[1;33m\u001b[0m\u001b[0m\n\u001b[0;32m   2223\u001b[0m         \u001b[1;32mif\u001b[0m \u001b[0mend\u001b[0m \u001b[1;32mis\u001b[0m \u001b[0mNone\u001b[0m\u001b[1;33m:\u001b[0m\u001b[1;33m\u001b[0m\u001b[0m\n",
      "\u001b[1;32mC:\\Python27\\lib\\site-packages\\pandas\\core\\index.pyc\u001b[0m in \u001b[0;36m_partial_tup_index\u001b[1;34m(self, tup, side)\u001b[0m\n\u001b[0;32m   2233\u001b[0m         \u001b[1;32mif\u001b[0m \u001b[0mlen\u001b[0m\u001b[1;33m(\u001b[0m\u001b[0mtup\u001b[0m\u001b[1;33m)\u001b[0m \u001b[1;33m>\u001b[0m \u001b[0mself\u001b[0m\u001b[1;33m.\u001b[0m\u001b[0mlexsort_depth\u001b[0m\u001b[1;33m:\u001b[0m\u001b[1;33m\u001b[0m\u001b[0m\n\u001b[0;32m   2234\u001b[0m             raise KeyError('MultiIndex lexsort depth %d, key was length %d' %\n\u001b[1;32m-> 2235\u001b[1;33m                            (self.lexsort_depth, len(tup)))\n\u001b[0m\u001b[0;32m   2236\u001b[0m \u001b[1;33m\u001b[0m\u001b[0m\n\u001b[0;32m   2237\u001b[0m         \u001b[0mn\u001b[0m \u001b[1;33m=\u001b[0m \u001b[0mlen\u001b[0m\u001b[1;33m(\u001b[0m\u001b[0mtup\u001b[0m\u001b[1;33m)\u001b[0m\u001b[1;33m\u001b[0m\u001b[0m\n",
      "\u001b[1;31mKeyError\u001b[0m: 'MultiIndex lexsort depth 0, key was length 1'"
     ]
    }
   ],
   "source": [
    "df1.ix[['Red','one']:['Green','three']] # Doesn't work... But why would you want to do this?"
   ]
  },
  {
   "cell_type": "code",
   "execution_count": 24,
   "metadata": {
    "collapsed": false
   },
   "outputs": [
    {
     "data": {
      "text/plain": [
       "group  myIndex           \n",
       "Red    one      float_col    0.1\n",
       "                int_col        1\n",
       "                str_col        a\n",
       "       two      float_col    0.2\n",
       "                int_col        2\n",
       "                str_col       bb\n",
       "Green  three    float_col    0.2\n",
       "                int_col        6\n",
       "       four     float_col    9.5\n",
       "                int_col        8\n",
       "                str_col      ccc\n",
       "Red    42       int_col       -1\n",
       "                str_col        a\n",
       "dtype: object"
      ]
     },
     "execution_count": 24,
     "metadata": {},
     "output_type": "execute_result"
    }
   ],
   "source": [
    "dfStack = df1.stack()\n",
    "dfStack"
   ]
  },
  {
   "cell_type": "code",
   "execution_count": 72,
   "metadata": {
    "collapsed": false
   },
   "outputs": [
    {
     "data": {
      "text/plain": [
       "group  myIndex           \n",
       "Red    one      float_col     0.1\n",
       "                int_col         1\n",
       "                str_col         a\n",
       "       two      float_col    1.85\n",
       "                int_col        11\n",
       "dtype: object"
      ]
     },
     "execution_count": 72,
     "metadata": {},
     "output_type": "execute_result"
    }
   ],
   "source": [
    "dfStack[0:5] # Again... (Note again, this is probably pointless.)"
   ]
  },
  {
   "cell_type": "code",
   "execution_count": 25,
   "metadata": {
    "collapsed": false
   },
   "outputs": [
    {
     "data": {
      "text/plain": [
       "myIndex           \n",
       "one      float_col    0.1\n",
       "         int_col        1\n",
       "         str_col        a\n",
       "two      float_col    0.2\n",
       "         int_col        2\n",
       "         str_col       bb\n",
       "42       int_col       -1\n",
       "         str_col        a\n",
       "dtype: object"
      ]
     },
     "execution_count": 25,
     "metadata": {},
     "output_type": "execute_result"
    }
   ],
   "source": [
    "dfStack['Red']"
   ]
  },
  {
   "cell_type": "code",
   "execution_count": 26,
   "metadata": {
    "collapsed": false
   },
   "outputs": [
    {
     "data": {
      "text/plain": [
       "pandas.core.series.Series"
      ]
     },
     "execution_count": 26,
     "metadata": {},
     "output_type": "execute_result"
    }
   ],
   "source": [
    "type(dfStack)"
   ]
  },
  {
   "cell_type": "code",
   "execution_count": 27,
   "metadata": {
    "collapsed": false
   },
   "outputs": [
    {
     "data": {
      "text/plain": [
       "group  myIndex           \n",
       "Red    one      float_col    0.1\n",
       "                int_col        1\n",
       "                str_col        a\n",
       "       two      float_col    0.2\n",
       "                int_col        2\n",
       "                str_col       bb\n",
       "       42       int_col       -1\n",
       "                str_col        a\n",
       "dtype: object"
      ]
     },
     "execution_count": 27,
     "metadata": {},
     "output_type": "execute_result"
    }
   ],
   "source": [
    "dfStack[['Red', 'two']] # Fail"
   ]
  },
  {
   "cell_type": "code",
   "execution_count": 75,
   "metadata": {
    "collapsed": false
   },
   "outputs": [
    {
     "data": {
      "text/plain": [
       "float_col    1.85\n",
       "int_col        11\n",
       "str_col      1.85\n",
       "dtype: object"
      ]
     },
     "execution_count": 75,
     "metadata": {},
     "output_type": "execute_result"
    }
   ],
   "source": [
    "dfStack['Red']['two']"
   ]
  },
  {
   "cell_type": "code",
   "execution_count": 76,
   "metadata": {
    "collapsed": false
   },
   "outputs": [
    {
     "data": {
      "text/plain": [
       "group  myIndex           \n",
       "Red    one      float_col     0.1\n",
       "                int_col         1\n",
       "                str_col         a\n",
       "       two      float_col    1.85\n",
       "                int_col        11\n",
       "                str_col      1.85\n",
       "Green  three    float_col     0.2\n",
       "                int_col         6\n",
       "       four     float_col    1.85\n",
       "                int_col         8\n",
       "                str_col      1.85\n",
       "Red    42       int_col        -1\n",
       "                str_col         a\n",
       "dtype: object"
      ]
     },
     "execution_count": 76,
     "metadata": {},
     "output_type": "execute_result"
    }
   ],
   "source": [
    "dfStack"
   ]
  },
  {
   "cell_type": "code",
   "execution_count": 77,
   "metadata": {
    "collapsed": false
   },
   "outputs": [
    {
     "data": {
      "text/html": [
       "<div style=\"max-height:1000px;max-width:1500px;overflow:auto;\">\n",
       "<table border=\"1\" class=\"dataframe\">\n",
       "  <thead>\n",
       "    <tr style=\"text-align: right;\">\n",
       "      <th></th>\n",
       "      <th></th>\n",
       "      <th>float_col</th>\n",
       "      <th>int_col</th>\n",
       "      <th>str_col</th>\n",
       "    </tr>\n",
       "    <tr>\n",
       "      <th>group</th>\n",
       "      <th>myIndex</th>\n",
       "      <th></th>\n",
       "      <th></th>\n",
       "      <th></th>\n",
       "    </tr>\n",
       "  </thead>\n",
       "  <tbody>\n",
       "    <tr>\n",
       "      <th rowspan=\"2\" valign=\"top\">Green</th>\n",
       "      <th>four</th>\n",
       "      <td> 1.85</td>\n",
       "      <td>  8</td>\n",
       "      <td> 1.85</td>\n",
       "    </tr>\n",
       "    <tr>\n",
       "      <th>three</th>\n",
       "      <td>  0.2</td>\n",
       "      <td>  6</td>\n",
       "      <td>  NaN</td>\n",
       "    </tr>\n",
       "    <tr>\n",
       "      <th rowspan=\"3\" valign=\"top\">Red</th>\n",
       "      <th>42</th>\n",
       "      <td>  NaN</td>\n",
       "      <td> -1</td>\n",
       "      <td>    a</td>\n",
       "    </tr>\n",
       "    <tr>\n",
       "      <th>one</th>\n",
       "      <td>  0.1</td>\n",
       "      <td>  1</td>\n",
       "      <td>    a</td>\n",
       "    </tr>\n",
       "    <tr>\n",
       "      <th>two</th>\n",
       "      <td> 1.85</td>\n",
       "      <td> 11</td>\n",
       "      <td> 1.85</td>\n",
       "    </tr>\n",
       "  </tbody>\n",
       "</table>\n",
       "</div>"
      ],
      "text/plain": [
       "              float_col int_col str_col\n",
       "group myIndex                          \n",
       "Green four         1.85       8    1.85\n",
       "      three         0.2       6     NaN\n",
       "Red   42            NaN      -1       a\n",
       "      one           0.1       1       a\n",
       "      two          1.85      11    1.85"
      ]
     },
     "execution_count": 77,
     "metadata": {},
     "output_type": "execute_result"
    }
   ],
   "source": [
    "dfStack.unstack()"
   ]
  },
  {
   "cell_type": "code",
   "execution_count": 79,
   "metadata": {
    "collapsed": false
   },
   "outputs": [
    {
     "data": {
      "text/html": [
       "<div style=\"max-height:1000px;max-width:1500px;overflow:auto;\">\n",
       "<table border=\"1\" class=\"dataframe\">\n",
       "  <thead>\n",
       "    <tr style=\"text-align: right;\">\n",
       "      <th></th>\n",
       "      <th>group</th>\n",
       "      <th>Green</th>\n",
       "      <th>Red</th>\n",
       "    </tr>\n",
       "    <tr>\n",
       "      <th>myIndex</th>\n",
       "      <th></th>\n",
       "      <th></th>\n",
       "      <th></th>\n",
       "    </tr>\n",
       "  </thead>\n",
       "  <tbody>\n",
       "    <tr>\n",
       "      <th rowspan=\"2\" valign=\"top\">42</th>\n",
       "      <th>int_col</th>\n",
       "      <td>  NaN</td>\n",
       "      <td>   -1</td>\n",
       "    </tr>\n",
       "    <tr>\n",
       "      <th>str_col</th>\n",
       "      <td>  NaN</td>\n",
       "      <td>    a</td>\n",
       "    </tr>\n",
       "    <tr>\n",
       "      <th rowspan=\"3\" valign=\"top\">four</th>\n",
       "      <th>float_col</th>\n",
       "      <td> 1.85</td>\n",
       "      <td>  NaN</td>\n",
       "    </tr>\n",
       "    <tr>\n",
       "      <th>int_col</th>\n",
       "      <td>    8</td>\n",
       "      <td>  NaN</td>\n",
       "    </tr>\n",
       "    <tr>\n",
       "      <th>str_col</th>\n",
       "      <td> 1.85</td>\n",
       "      <td>  NaN</td>\n",
       "    </tr>\n",
       "    <tr>\n",
       "      <th rowspan=\"3\" valign=\"top\">one</th>\n",
       "      <th>float_col</th>\n",
       "      <td>  NaN</td>\n",
       "      <td>  0.1</td>\n",
       "    </tr>\n",
       "    <tr>\n",
       "      <th>int_col</th>\n",
       "      <td>  NaN</td>\n",
       "      <td>    1</td>\n",
       "    </tr>\n",
       "    <tr>\n",
       "      <th>str_col</th>\n",
       "      <td>  NaN</td>\n",
       "      <td>    a</td>\n",
       "    </tr>\n",
       "    <tr>\n",
       "      <th rowspan=\"2\" valign=\"top\">three</th>\n",
       "      <th>float_col</th>\n",
       "      <td>  0.2</td>\n",
       "      <td>  NaN</td>\n",
       "    </tr>\n",
       "    <tr>\n",
       "      <th>int_col</th>\n",
       "      <td>    6</td>\n",
       "      <td>  NaN</td>\n",
       "    </tr>\n",
       "    <tr>\n",
       "      <th rowspan=\"3\" valign=\"top\">two</th>\n",
       "      <th>float_col</th>\n",
       "      <td>  NaN</td>\n",
       "      <td> 1.85</td>\n",
       "    </tr>\n",
       "    <tr>\n",
       "      <th>int_col</th>\n",
       "      <td>  NaN</td>\n",
       "      <td>   11</td>\n",
       "    </tr>\n",
       "    <tr>\n",
       "      <th>str_col</th>\n",
       "      <td>  NaN</td>\n",
       "      <td> 1.85</td>\n",
       "    </tr>\n",
       "  </tbody>\n",
       "</table>\n",
       "</div>"
      ],
      "text/plain": [
       "group             Green   Red\n",
       "myIndex                      \n",
       "42      int_col     NaN    -1\n",
       "        str_col     NaN     a\n",
       "four    float_col  1.85   NaN\n",
       "        int_col       8   NaN\n",
       "        str_col    1.85   NaN\n",
       "one     float_col   NaN   0.1\n",
       "        int_col     NaN     1\n",
       "        str_col     NaN     a\n",
       "three   float_col   0.2   NaN\n",
       "        int_col       6   NaN\n",
       "two     float_col   NaN  1.85\n",
       "        int_col     NaN    11\n",
       "        str_col     NaN  1.85"
      ]
     },
     "execution_count": 79,
     "metadata": {},
     "output_type": "execute_result"
    }
   ],
   "source": [
    "dfStack.unstack(0) # Convert stack to DataFrame with columns corresponding to \"the level 0 index\""
   ]
  },
  {
   "cell_type": "code",
   "execution_count": 80,
   "metadata": {
    "collapsed": false
   },
   "outputs": [
    {
     "data": {
      "text/html": [
       "<div style=\"max-height:1000px;max-width:1500px;overflow:auto;\">\n",
       "<table border=\"1\" class=\"dataframe\">\n",
       "  <thead>\n",
       "    <tr style=\"text-align: right;\">\n",
       "      <th></th>\n",
       "      <th>myIndex</th>\n",
       "      <th>42</th>\n",
       "      <th>four</th>\n",
       "      <th>one</th>\n",
       "      <th>three</th>\n",
       "      <th>two</th>\n",
       "    </tr>\n",
       "    <tr>\n",
       "      <th>group</th>\n",
       "      <th></th>\n",
       "      <th></th>\n",
       "      <th></th>\n",
       "      <th></th>\n",
       "      <th></th>\n",
       "      <th></th>\n",
       "    </tr>\n",
       "  </thead>\n",
       "  <tbody>\n",
       "    <tr>\n",
       "      <th rowspan=\"3\" valign=\"top\">Green</th>\n",
       "      <th>float_col</th>\n",
       "      <td> NaN</td>\n",
       "      <td> 1.85</td>\n",
       "      <td> NaN</td>\n",
       "      <td> 0.2</td>\n",
       "      <td>  NaN</td>\n",
       "    </tr>\n",
       "    <tr>\n",
       "      <th>int_col</th>\n",
       "      <td> NaN</td>\n",
       "      <td>    8</td>\n",
       "      <td> NaN</td>\n",
       "      <td>   6</td>\n",
       "      <td>  NaN</td>\n",
       "    </tr>\n",
       "    <tr>\n",
       "      <th>str_col</th>\n",
       "      <td> NaN</td>\n",
       "      <td> 1.85</td>\n",
       "      <td> NaN</td>\n",
       "      <td> NaN</td>\n",
       "      <td>  NaN</td>\n",
       "    </tr>\n",
       "    <tr>\n",
       "      <th rowspan=\"3\" valign=\"top\">Red</th>\n",
       "      <th>float_col</th>\n",
       "      <td> NaN</td>\n",
       "      <td>  NaN</td>\n",
       "      <td> 0.1</td>\n",
       "      <td> NaN</td>\n",
       "      <td> 1.85</td>\n",
       "    </tr>\n",
       "    <tr>\n",
       "      <th>int_col</th>\n",
       "      <td>  -1</td>\n",
       "      <td>  NaN</td>\n",
       "      <td>   1</td>\n",
       "      <td> NaN</td>\n",
       "      <td>   11</td>\n",
       "    </tr>\n",
       "    <tr>\n",
       "      <th>str_col</th>\n",
       "      <td>   a</td>\n",
       "      <td>  NaN</td>\n",
       "      <td>   a</td>\n",
       "      <td> NaN</td>\n",
       "      <td> 1.85</td>\n",
       "    </tr>\n",
       "  </tbody>\n",
       "</table>\n",
       "</div>"
      ],
      "text/plain": [
       "myIndex           42  four  one three   two\n",
       "group                                      \n",
       "Green float_col  NaN  1.85  NaN   0.2   NaN\n",
       "      int_col    NaN     8  NaN     6   NaN\n",
       "      str_col    NaN  1.85  NaN   NaN   NaN\n",
       "Red   float_col  NaN   NaN  0.1   NaN  1.85\n",
       "      int_col     -1   NaN    1   NaN    11\n",
       "      str_col      a   NaN    a   NaN  1.85"
      ]
     },
     "execution_count": 80,
     "metadata": {},
     "output_type": "execute_result"
    }
   ],
   "source": [
    "dfStack.unstack(1) # Convert stack to DataFrame with columns corresponding to \"the level 1 index\""
   ]
  },
  {
   "cell_type": "code",
   "execution_count": 81,
   "metadata": {
    "collapsed": false
   },
   "outputs": [
    {
     "data": {
      "text/html": [
       "<div style=\"max-height:1000px;max-width:1500px;overflow:auto;\">\n",
       "<table border=\"1\" class=\"dataframe\">\n",
       "  <thead>\n",
       "    <tr style=\"text-align: right;\">\n",
       "      <th></th>\n",
       "      <th></th>\n",
       "      <th>float_col</th>\n",
       "      <th>int_col</th>\n",
       "      <th>str_col</th>\n",
       "    </tr>\n",
       "    <tr>\n",
       "      <th>group</th>\n",
       "      <th>myIndex</th>\n",
       "      <th></th>\n",
       "      <th></th>\n",
       "      <th></th>\n",
       "    </tr>\n",
       "  </thead>\n",
       "  <tbody>\n",
       "    <tr>\n",
       "      <th rowspan=\"2\" valign=\"top\">Green</th>\n",
       "      <th>four</th>\n",
       "      <td> 1.85</td>\n",
       "      <td>  8</td>\n",
       "      <td> 1.85</td>\n",
       "    </tr>\n",
       "    <tr>\n",
       "      <th>three</th>\n",
       "      <td>  0.2</td>\n",
       "      <td>  6</td>\n",
       "      <td>  NaN</td>\n",
       "    </tr>\n",
       "    <tr>\n",
       "      <th rowspan=\"3\" valign=\"top\">Red</th>\n",
       "      <th>42</th>\n",
       "      <td>  NaN</td>\n",
       "      <td> -1</td>\n",
       "      <td>    a</td>\n",
       "    </tr>\n",
       "    <tr>\n",
       "      <th>one</th>\n",
       "      <td>  0.1</td>\n",
       "      <td>  1</td>\n",
       "      <td>    a</td>\n",
       "    </tr>\n",
       "    <tr>\n",
       "      <th>two</th>\n",
       "      <td> 1.85</td>\n",
       "      <td> 11</td>\n",
       "      <td> 1.85</td>\n",
       "    </tr>\n",
       "  </tbody>\n",
       "</table>\n",
       "</div>"
      ],
      "text/plain": [
       "              float_col int_col str_col\n",
       "group myIndex                          \n",
       "Green four         1.85       8    1.85\n",
       "      three         0.2       6     NaN\n",
       "Red   42            NaN      -1       a\n",
       "      one           0.1       1       a\n",
       "      two          1.85      11    1.85"
      ]
     },
     "execution_count": 81,
     "metadata": {},
     "output_type": "execute_result"
    }
   ],
   "source": [
    "dfStack.unstack(2) # Convert stack to DataFrame with columns corresponding to \"the level 2 index\""
   ]
  },
  {
   "cell_type": "code",
   "execution_count": 82,
   "metadata": {
    "collapsed": false
   },
   "outputs": [
    {
     "data": {
      "text/html": [
       "<div style=\"max-height:1000px;max-width:1500px;overflow:auto;\">\n",
       "<table border=\"1\" class=\"dataframe\">\n",
       "  <thead>\n",
       "    <tr>\n",
       "      <th></th>\n",
       "      <th colspan=\"2\" halign=\"left\">float_col</th>\n",
       "      <th colspan=\"2\" halign=\"left\">int_col</th>\n",
       "      <th colspan=\"2\" halign=\"left\">str_col</th>\n",
       "    </tr>\n",
       "    <tr>\n",
       "      <th>group</th>\n",
       "      <th>Green</th>\n",
       "      <th>Red</th>\n",
       "      <th>Green</th>\n",
       "      <th>Red</th>\n",
       "      <th>Green</th>\n",
       "      <th>Red</th>\n",
       "    </tr>\n",
       "    <tr>\n",
       "      <th>myIndex</th>\n",
       "      <th></th>\n",
       "      <th></th>\n",
       "      <th></th>\n",
       "      <th></th>\n",
       "      <th></th>\n",
       "      <th></th>\n",
       "    </tr>\n",
       "  </thead>\n",
       "  <tbody>\n",
       "    <tr>\n",
       "      <th>42</th>\n",
       "      <td>  NaN</td>\n",
       "      <td>  NaN</td>\n",
       "      <td> NaN</td>\n",
       "      <td>  -1</td>\n",
       "      <td>  NaN</td>\n",
       "      <td>    a</td>\n",
       "    </tr>\n",
       "    <tr>\n",
       "      <th>four</th>\n",
       "      <td> 1.85</td>\n",
       "      <td>  NaN</td>\n",
       "      <td>   8</td>\n",
       "      <td> NaN</td>\n",
       "      <td> 1.85</td>\n",
       "      <td>  NaN</td>\n",
       "    </tr>\n",
       "    <tr>\n",
       "      <th>one</th>\n",
       "      <td>  NaN</td>\n",
       "      <td>  0.1</td>\n",
       "      <td> NaN</td>\n",
       "      <td>   1</td>\n",
       "      <td>  NaN</td>\n",
       "      <td>    a</td>\n",
       "    </tr>\n",
       "    <tr>\n",
       "      <th>three</th>\n",
       "      <td>  0.2</td>\n",
       "      <td>  NaN</td>\n",
       "      <td>   6</td>\n",
       "      <td> NaN</td>\n",
       "      <td>  NaN</td>\n",
       "      <td>  NaN</td>\n",
       "    </tr>\n",
       "    <tr>\n",
       "      <th>two</th>\n",
       "      <td>  NaN</td>\n",
       "      <td> 1.85</td>\n",
       "      <td> NaN</td>\n",
       "      <td>  11</td>\n",
       "      <td>  NaN</td>\n",
       "      <td> 1.85</td>\n",
       "    </tr>\n",
       "  </tbody>\n",
       "</table>\n",
       "</div>"
      ],
      "text/plain": [
       "        float_col       int_col      str_col      \n",
       "group       Green   Red   Green  Red   Green   Red\n",
       "myIndex                                           \n",
       "42            NaN   NaN     NaN   -1     NaN     a\n",
       "four         1.85   NaN       8  NaN    1.85   NaN\n",
       "one           NaN   0.1     NaN    1     NaN     a\n",
       "three         0.2   NaN       6  NaN     NaN   NaN\n",
       "two           NaN  1.85     NaN   11     NaN  1.85"
      ]
     },
     "execution_count": 82,
     "metadata": {},
     "output_type": "execute_result"
    }
   ],
   "source": [
    "dfUnstacked = dfStack.unstack(2).unstack(0)\n",
    "# Note that 'float_col', 'int_col', and 'str_col' were unstacked first then 'Green' and 'Red'\n",
    "dfUnstacked"
   ]
  },
  {
   "cell_type": "code",
   "execution_count": 83,
   "metadata": {
    "collapsed": false
   },
   "outputs": [
    {
     "data": {
      "text/html": [
       "<div style=\"max-height:1000px;max-width:1500px;overflow:auto;\">\n",
       "<table border=\"1\" class=\"dataframe\">\n",
       "  <thead>\n",
       "    <tr style=\"text-align: right;\">\n",
       "      <th>group</th>\n",
       "      <th>Green</th>\n",
       "      <th>Red</th>\n",
       "    </tr>\n",
       "    <tr>\n",
       "      <th>myIndex</th>\n",
       "      <th></th>\n",
       "      <th></th>\n",
       "    </tr>\n",
       "  </thead>\n",
       "  <tbody>\n",
       "    <tr>\n",
       "      <th>42</th>\n",
       "      <td>  NaN</td>\n",
       "      <td>  NaN</td>\n",
       "    </tr>\n",
       "    <tr>\n",
       "      <th>four</th>\n",
       "      <td> 1.85</td>\n",
       "      <td>  NaN</td>\n",
       "    </tr>\n",
       "    <tr>\n",
       "      <th>one</th>\n",
       "      <td>  NaN</td>\n",
       "      <td>  0.1</td>\n",
       "    </tr>\n",
       "    <tr>\n",
       "      <th>three</th>\n",
       "      <td>  0.2</td>\n",
       "      <td>  NaN</td>\n",
       "    </tr>\n",
       "    <tr>\n",
       "      <th>two</th>\n",
       "      <td>  NaN</td>\n",
       "      <td> 1.85</td>\n",
       "    </tr>\n",
       "  </tbody>\n",
       "</table>\n",
       "</div>"
      ],
      "text/plain": [
       "group   Green   Red\n",
       "myIndex            \n",
       "42        NaN   NaN\n",
       "four     1.85   NaN\n",
       "one       NaN   0.1\n",
       "three     0.2   NaN\n",
       "two       NaN  1.85"
      ]
     },
     "execution_count": 83,
     "metadata": {},
     "output_type": "execute_result"
    }
   ],
   "source": [
    "dfUnstacked['float_col']"
   ]
  },
  {
   "cell_type": "code",
   "execution_count": 84,
   "metadata": {
    "collapsed": false
   },
   "outputs": [
    {
     "ename": "KeyError",
     "evalue": "'Green'",
     "output_type": "error",
     "traceback": [
      "\u001b[1;31m---------------------------------------------------------------------------\u001b[0m\n\u001b[1;31mKeyError\u001b[0m                                  Traceback (most recent call last)",
      "\u001b[1;32m<ipython-input-84-2fceb7026a04>\u001b[0m in \u001b[0;36m<module>\u001b[1;34m()\u001b[0m\n\u001b[1;32m----> 1\u001b[1;33m \u001b[0mdfUnstacked\u001b[0m\u001b[1;33m[\u001b[0m\u001b[1;34m'Green'\u001b[0m\u001b[1;33m]\u001b[0m \u001b[1;31m# Have to do it outside in...\u001b[0m\u001b[1;33m\u001b[0m\u001b[0m\n\u001b[0m",
      "\u001b[1;32mC:\\Python27\\lib\\site-packages\\pandas\\core\\frame.pyc\u001b[0m in \u001b[0;36m__getitem__\u001b[1;34m(self, key)\u001b[0m\n\u001b[0;32m   1997\u001b[0m             \u001b[1;32mreturn\u001b[0m \u001b[0mself\u001b[0m\u001b[1;33m.\u001b[0m\u001b[0m_getitem_frame\u001b[0m\u001b[1;33m(\u001b[0m\u001b[0mkey\u001b[0m\u001b[1;33m)\u001b[0m\u001b[1;33m\u001b[0m\u001b[0m\n\u001b[0;32m   1998\u001b[0m         \u001b[1;32melif\u001b[0m \u001b[0misinstance\u001b[0m\u001b[1;33m(\u001b[0m\u001b[0mself\u001b[0m\u001b[1;33m.\u001b[0m\u001b[0mcolumns\u001b[0m\u001b[1;33m,\u001b[0m \u001b[0mMultiIndex\u001b[0m\u001b[1;33m)\u001b[0m\u001b[1;33m:\u001b[0m\u001b[1;33m\u001b[0m\u001b[0m\n\u001b[1;32m-> 1999\u001b[1;33m             \u001b[1;32mreturn\u001b[0m \u001b[0mself\u001b[0m\u001b[1;33m.\u001b[0m\u001b[0m_getitem_multilevel\u001b[0m\u001b[1;33m(\u001b[0m\u001b[0mkey\u001b[0m\u001b[1;33m)\u001b[0m\u001b[1;33m\u001b[0m\u001b[0m\n\u001b[0m\u001b[0;32m   2000\u001b[0m         \u001b[1;32melse\u001b[0m\u001b[1;33m:\u001b[0m\u001b[1;33m\u001b[0m\u001b[0m\n\u001b[0;32m   2001\u001b[0m             \u001b[1;31m# get column\u001b[0m\u001b[1;33m\u001b[0m\u001b[1;33m\u001b[0m\u001b[0m\n",
      "\u001b[1;32mC:\\Python27\\lib\\site-packages\\pandas\\core\\frame.pyc\u001b[0m in \u001b[0;36m_getitem_multilevel\u001b[1;34m(self, key)\u001b[0m\n\u001b[0;32m   2033\u001b[0m \u001b[1;33m\u001b[0m\u001b[0m\n\u001b[0;32m   2034\u001b[0m     \u001b[1;32mdef\u001b[0m \u001b[0m_getitem_multilevel\u001b[0m\u001b[1;33m(\u001b[0m\u001b[0mself\u001b[0m\u001b[1;33m,\u001b[0m \u001b[0mkey\u001b[0m\u001b[1;33m)\u001b[0m\u001b[1;33m:\u001b[0m\u001b[1;33m\u001b[0m\u001b[0m\n\u001b[1;32m-> 2035\u001b[1;33m         \u001b[0mloc\u001b[0m \u001b[1;33m=\u001b[0m \u001b[0mself\u001b[0m\u001b[1;33m.\u001b[0m\u001b[0mcolumns\u001b[0m\u001b[1;33m.\u001b[0m\u001b[0mget_loc\u001b[0m\u001b[1;33m(\u001b[0m\u001b[0mkey\u001b[0m\u001b[1;33m)\u001b[0m\u001b[1;33m\u001b[0m\u001b[0m\n\u001b[0m\u001b[0;32m   2036\u001b[0m         \u001b[1;32mif\u001b[0m \u001b[0misinstance\u001b[0m\u001b[1;33m(\u001b[0m\u001b[0mloc\u001b[0m\u001b[1;33m,\u001b[0m \u001b[1;33m(\u001b[0m\u001b[0mslice\u001b[0m\u001b[1;33m,\u001b[0m \u001b[0mnp\u001b[0m\u001b[1;33m.\u001b[0m\u001b[0mndarray\u001b[0m\u001b[1;33m)\u001b[0m\u001b[1;33m)\u001b[0m\u001b[1;33m:\u001b[0m\u001b[1;33m\u001b[0m\u001b[0m\n\u001b[0;32m   2037\u001b[0m             \u001b[0mnew_columns\u001b[0m \u001b[1;33m=\u001b[0m \u001b[0mself\u001b[0m\u001b[1;33m.\u001b[0m\u001b[0mcolumns\u001b[0m\u001b[1;33m[\u001b[0m\u001b[0mloc\u001b[0m\u001b[1;33m]\u001b[0m\u001b[1;33m\u001b[0m\u001b[0m\n",
      "\u001b[1;32mC:\\Python27\\lib\\site-packages\\pandas\\core\\index.pyc\u001b[0m in \u001b[0;36mget_loc\u001b[1;34m(self, key)\u001b[0m\n\u001b[0;32m   2283\u001b[0m                 \u001b[1;32mreturn\u001b[0m \u001b[0mresult\u001b[0m\u001b[1;33m\u001b[0m\u001b[0m\n\u001b[0;32m   2284\u001b[0m         \u001b[1;32melse\u001b[0m\u001b[1;33m:\u001b[0m\u001b[1;33m\u001b[0m\u001b[0m\n\u001b[1;32m-> 2285\u001b[1;33m             \u001b[1;32mreturn\u001b[0m \u001b[0mself\u001b[0m\u001b[1;33m.\u001b[0m\u001b[0m_get_level_indexer\u001b[0m\u001b[1;33m(\u001b[0m\u001b[0mkey\u001b[0m\u001b[1;33m,\u001b[0m \u001b[0mlevel\u001b[0m\u001b[1;33m=\u001b[0m\u001b[1;36m0\u001b[0m\u001b[1;33m)\u001b[0m\u001b[1;33m\u001b[0m\u001b[0m\n\u001b[0m\u001b[0;32m   2286\u001b[0m \u001b[1;33m\u001b[0m\u001b[0m\n\u001b[0;32m   2287\u001b[0m     \u001b[1;32mdef\u001b[0m \u001b[0mget_loc_level\u001b[0m\u001b[1;33m(\u001b[0m\u001b[0mself\u001b[0m\u001b[1;33m,\u001b[0m \u001b[0mkey\u001b[0m\u001b[1;33m,\u001b[0m \u001b[0mlevel\u001b[0m\u001b[1;33m=\u001b[0m\u001b[1;36m0\u001b[0m\u001b[1;33m)\u001b[0m\u001b[1;33m:\u001b[0m\u001b[1;33m\u001b[0m\u001b[0m\n",
      "\u001b[1;32mC:\\Python27\\lib\\site-packages\\pandas\\core\\index.pyc\u001b[0m in \u001b[0;36m_get_level_indexer\u001b[1;34m(self, key, level)\u001b[0m\n\u001b[0;32m   2385\u001b[0m     \u001b[1;32mdef\u001b[0m \u001b[0m_get_level_indexer\u001b[0m\u001b[1;33m(\u001b[0m\u001b[0mself\u001b[0m\u001b[1;33m,\u001b[0m \u001b[0mkey\u001b[0m\u001b[1;33m,\u001b[0m \u001b[0mlevel\u001b[0m\u001b[1;33m=\u001b[0m\u001b[1;36m0\u001b[0m\u001b[1;33m)\u001b[0m\u001b[1;33m:\u001b[0m\u001b[1;33m\u001b[0m\u001b[0m\n\u001b[0;32m   2386\u001b[0m         \u001b[0mlevel_index\u001b[0m \u001b[1;33m=\u001b[0m \u001b[0mself\u001b[0m\u001b[1;33m.\u001b[0m\u001b[0mlevels\u001b[0m\u001b[1;33m[\u001b[0m\u001b[0mlevel\u001b[0m\u001b[1;33m]\u001b[0m\u001b[1;33m\u001b[0m\u001b[0m\n\u001b[1;32m-> 2387\u001b[1;33m         \u001b[0mloc\u001b[0m \u001b[1;33m=\u001b[0m \u001b[0mlevel_index\u001b[0m\u001b[1;33m.\u001b[0m\u001b[0mget_loc\u001b[0m\u001b[1;33m(\u001b[0m\u001b[0mkey\u001b[0m\u001b[1;33m)\u001b[0m\u001b[1;33m\u001b[0m\u001b[0m\n\u001b[0m\u001b[0;32m   2388\u001b[0m         \u001b[0mlabels\u001b[0m \u001b[1;33m=\u001b[0m \u001b[0mself\u001b[0m\u001b[1;33m.\u001b[0m\u001b[0mlabels\u001b[0m\u001b[1;33m[\u001b[0m\u001b[0mlevel\u001b[0m\u001b[1;33m]\u001b[0m\u001b[1;33m\u001b[0m\u001b[0m\n\u001b[0;32m   2389\u001b[0m \u001b[1;33m\u001b[0m\u001b[0m\n",
      "\u001b[1;32mC:\\Python27\\lib\\site-packages\\pandas\\core\\index.pyc\u001b[0m in \u001b[0;36mget_loc\u001b[1;34m(self, key)\u001b[0m\n\u001b[0;32m    714\u001b[0m         \u001b[0mloc\u001b[0m \u001b[1;33m:\u001b[0m \u001b[0mint\u001b[0m \u001b[1;32mif\u001b[0m \u001b[0munique\u001b[0m \u001b[0mindex\u001b[0m\u001b[1;33m,\u001b[0m \u001b[0mpossibly\u001b[0m \u001b[0mslice\u001b[0m \u001b[1;32mor\u001b[0m \u001b[0mmask\u001b[0m \u001b[1;32mif\u001b[0m \u001b[1;32mnot\u001b[0m\u001b[1;33m\u001b[0m\u001b[0m\n\u001b[0;32m    715\u001b[0m         \"\"\"\n\u001b[1;32m--> 716\u001b[1;33m         \u001b[1;32mreturn\u001b[0m \u001b[0mself\u001b[0m\u001b[1;33m.\u001b[0m\u001b[0m_engine\u001b[0m\u001b[1;33m.\u001b[0m\u001b[0mget_loc\u001b[0m\u001b[1;33m(\u001b[0m\u001b[0mkey\u001b[0m\u001b[1;33m)\u001b[0m\u001b[1;33m\u001b[0m\u001b[0m\n\u001b[0m\u001b[0;32m    717\u001b[0m \u001b[1;33m\u001b[0m\u001b[0m\n\u001b[0;32m    718\u001b[0m     \u001b[1;32mdef\u001b[0m \u001b[0mget_value\u001b[0m\u001b[1;33m(\u001b[0m\u001b[0mself\u001b[0m\u001b[1;33m,\u001b[0m \u001b[0mseries\u001b[0m\u001b[1;33m,\u001b[0m \u001b[0mkey\u001b[0m\u001b[1;33m)\u001b[0m\u001b[1;33m:\u001b[0m\u001b[1;33m\u001b[0m\u001b[0m\n",
      "\u001b[1;32mC:\\Python27\\lib\\site-packages\\pandas\\index.pyd\u001b[0m in \u001b[0;36mpandas.index.IndexEngine.get_loc (pandas\\index.c:3542)\u001b[1;34m()\u001b[0m\n",
      "\u001b[1;32mC:\\Python27\\lib\\site-packages\\pandas\\index.pyd\u001b[0m in \u001b[0;36mpandas.index.IndexEngine.get_loc (pandas\\index.c:3422)\u001b[1;34m()\u001b[0m\n",
      "\u001b[1;32mC:\\Python27\\lib\\site-packages\\pandas\\hashtable.pyd\u001b[0m in \u001b[0;36mpandas.hashtable.PyObjectHashTable.get_item (pandas\\hashtable.c:10682)\u001b[1;34m()\u001b[0m\n",
      "\u001b[1;32mC:\\Python27\\lib\\site-packages\\pandas\\hashtable.pyd\u001b[0m in \u001b[0;36mpandas.hashtable.PyObjectHashTable.get_item (pandas\\hashtable.c:10636)\u001b[1;34m()\u001b[0m\n",
      "\u001b[1;31mKeyError\u001b[0m: 'Green'"
     ]
    }
   ],
   "source": [
    "dfUnstacked['Green'] # Have to do it outside in..."
   ]
  },
  {
   "cell_type": "code",
   "execution_count": 85,
   "metadata": {
    "collapsed": false
   },
   "outputs": [
    {
     "data": {
      "text/html": [
       "<div style=\"max-height:1000px;max-width:1500px;overflow:auto;\">\n",
       "<table border=\"1\" class=\"dataframe\">\n",
       "  <thead>\n",
       "    <tr>\n",
       "      <th>group</th>\n",
       "      <th colspan=\"3\" halign=\"left\">Green</th>\n",
       "      <th colspan=\"3\" halign=\"left\">Red</th>\n",
       "    </tr>\n",
       "    <tr>\n",
       "      <th></th>\n",
       "      <th>float_col</th>\n",
       "      <th>int_col</th>\n",
       "      <th>str_col</th>\n",
       "      <th>float_col</th>\n",
       "      <th>int_col</th>\n",
       "      <th>str_col</th>\n",
       "    </tr>\n",
       "    <tr>\n",
       "      <th>myIndex</th>\n",
       "      <th></th>\n",
       "      <th></th>\n",
       "      <th></th>\n",
       "      <th></th>\n",
       "      <th></th>\n",
       "      <th></th>\n",
       "    </tr>\n",
       "  </thead>\n",
       "  <tbody>\n",
       "    <tr>\n",
       "      <th>42</th>\n",
       "      <td>  NaN</td>\n",
       "      <td> NaN</td>\n",
       "      <td>  NaN</td>\n",
       "      <td>  NaN</td>\n",
       "      <td>  -1</td>\n",
       "      <td>    a</td>\n",
       "    </tr>\n",
       "    <tr>\n",
       "      <th>four</th>\n",
       "      <td> 1.85</td>\n",
       "      <td>   8</td>\n",
       "      <td> 1.85</td>\n",
       "      <td>  NaN</td>\n",
       "      <td> NaN</td>\n",
       "      <td>  NaN</td>\n",
       "    </tr>\n",
       "    <tr>\n",
       "      <th>one</th>\n",
       "      <td>  NaN</td>\n",
       "      <td> NaN</td>\n",
       "      <td>  NaN</td>\n",
       "      <td>  0.1</td>\n",
       "      <td>   1</td>\n",
       "      <td>    a</td>\n",
       "    </tr>\n",
       "    <tr>\n",
       "      <th>three</th>\n",
       "      <td>  0.2</td>\n",
       "      <td>   6</td>\n",
       "      <td>  NaN</td>\n",
       "      <td>  NaN</td>\n",
       "      <td> NaN</td>\n",
       "      <td>  NaN</td>\n",
       "    </tr>\n",
       "    <tr>\n",
       "      <th>two</th>\n",
       "      <td>  NaN</td>\n",
       "      <td> NaN</td>\n",
       "      <td>  NaN</td>\n",
       "      <td> 1.85</td>\n",
       "      <td>  11</td>\n",
       "      <td> 1.85</td>\n",
       "    </tr>\n",
       "  </tbody>\n",
       "</table>\n",
       "</div>"
      ],
      "text/plain": [
       "group       Green                       Red                \n",
       "        float_col int_col str_col float_col int_col str_col\n",
       "myIndex                                                    \n",
       "42            NaN     NaN     NaN       NaN      -1       a\n",
       "four         1.85       8    1.85       NaN     NaN     NaN\n",
       "one           NaN     NaN     NaN       0.1       1       a\n",
       "three         0.2       6     NaN       NaN     NaN     NaN\n",
       "two           NaN     NaN     NaN      1.85      11    1.85"
      ]
     },
     "execution_count": 85,
     "metadata": {},
     "output_type": "execute_result"
    }
   ],
   "source": [
    "dfUnstacked = dfStack.unstack(0).unstack()\n",
    "# This time 'Green' and 'Red' were unstacked first, then 'float_col', 'int_col', and 'str_col'\n",
    "dfUnstacked"
   ]
  },
  {
   "cell_type": "code",
   "execution_count": 86,
   "metadata": {
    "collapsed": false
   },
   "outputs": [
    {
     "data": {
      "text/html": [
       "<div style=\"max-height:1000px;max-width:1500px;overflow:auto;\">\n",
       "<table border=\"1\" class=\"dataframe\">\n",
       "  <thead>\n",
       "    <tr style=\"text-align: right;\">\n",
       "      <th></th>\n",
       "      <th>float_col</th>\n",
       "      <th>int_col</th>\n",
       "      <th>str_col</th>\n",
       "    </tr>\n",
       "    <tr>\n",
       "      <th>myIndex</th>\n",
       "      <th></th>\n",
       "      <th></th>\n",
       "      <th></th>\n",
       "    </tr>\n",
       "  </thead>\n",
       "  <tbody>\n",
       "    <tr>\n",
       "      <th>42</th>\n",
       "      <td>  NaN</td>\n",
       "      <td> NaN</td>\n",
       "      <td>  NaN</td>\n",
       "    </tr>\n",
       "    <tr>\n",
       "      <th>four</th>\n",
       "      <td> 1.85</td>\n",
       "      <td>   8</td>\n",
       "      <td> 1.85</td>\n",
       "    </tr>\n",
       "    <tr>\n",
       "      <th>one</th>\n",
       "      <td>  NaN</td>\n",
       "      <td> NaN</td>\n",
       "      <td>  NaN</td>\n",
       "    </tr>\n",
       "    <tr>\n",
       "      <th>three</th>\n",
       "      <td>  0.2</td>\n",
       "      <td>   6</td>\n",
       "      <td>  NaN</td>\n",
       "    </tr>\n",
       "    <tr>\n",
       "      <th>two</th>\n",
       "      <td>  NaN</td>\n",
       "      <td> NaN</td>\n",
       "      <td>  NaN</td>\n",
       "    </tr>\n",
       "  </tbody>\n",
       "</table>\n",
       "</div>"
      ],
      "text/plain": [
       "        float_col int_col str_col\n",
       "myIndex                          \n",
       "42            NaN     NaN     NaN\n",
       "four         1.85       8    1.85\n",
       "one           NaN     NaN     NaN\n",
       "three         0.2       6     NaN\n",
       "two           NaN     NaN     NaN"
      ]
     },
     "execution_count": 86,
     "metadata": {},
     "output_type": "execute_result"
    }
   ],
   "source": [
    "dfUnstacked['Green'] # Yes, do it outside in..."
   ]
  },
  {
   "cell_type": "markdown",
   "metadata": {},
   "source": [
    "# Renaming"
   ]
  },
  {
   "cell_type": "markdown",
   "metadata": {},
   "source": [
    "For a less silly example, see: 1.USA.gov Data Download example."
   ]
  },
  {
   "cell_type": "code",
   "execution_count": 87,
   "metadata": {
    "collapsed": false
   },
   "outputs": [],
   "source": [
    "df2 = df.rename(columns={'int_col' : 'some_other_name'})"
   ]
  },
  {
   "cell_type": "code",
   "execution_count": 88,
   "metadata": {
    "collapsed": false
   },
   "outputs": [
    {
     "data": {
      "text/html": [
       "<div style=\"max-height:1000px;max-width:1500px;overflow:auto;\">\n",
       "<table border=\"1\" class=\"dataframe\">\n",
       "  <thead>\n",
       "    <tr style=\"text-align: right;\">\n",
       "      <th></th>\n",
       "      <th>float_col</th>\n",
       "      <th>group</th>\n",
       "      <th>int_col</th>\n",
       "      <th>str_col</th>\n",
       "    </tr>\n",
       "  </thead>\n",
       "  <tbody>\n",
       "    <tr>\n",
       "      <th>0</th>\n",
       "      <td> 0.10</td>\n",
       "      <td>   Red</td>\n",
       "      <td>  1</td>\n",
       "      <td>    a</td>\n",
       "    </tr>\n",
       "    <tr>\n",
       "      <th>1</th>\n",
       "      <td> 1.85</td>\n",
       "      <td>   Red</td>\n",
       "      <td> 11</td>\n",
       "      <td> 1.85</td>\n",
       "    </tr>\n",
       "    <tr>\n",
       "      <th>2</th>\n",
       "      <td> 0.20</td>\n",
       "      <td> Green</td>\n",
       "      <td>  6</td>\n",
       "      <td> None</td>\n",
       "    </tr>\n",
       "    <tr>\n",
       "      <th>3</th>\n",
       "      <td> 1.85</td>\n",
       "      <td> Green</td>\n",
       "      <td>  8</td>\n",
       "      <td> 1.85</td>\n",
       "    </tr>\n",
       "    <tr>\n",
       "      <th>4</th>\n",
       "      <td>  NaN</td>\n",
       "      <td>   Red</td>\n",
       "      <td> -1</td>\n",
       "      <td>    a</td>\n",
       "    </tr>\n",
       "  </tbody>\n",
       "</table>\n",
       "</div>"
      ],
      "text/plain": [
       "   float_col  group  int_col str_col\n",
       "0       0.10    Red        1       a\n",
       "1       1.85    Red       11    1.85\n",
       "2       0.20  Green        6    None\n",
       "3       1.85  Green        8    1.85\n",
       "4        NaN    Red       -1       a"
      ]
     },
     "execution_count": 88,
     "metadata": {},
     "output_type": "execute_result"
    }
   ],
   "source": [
    "df # No change here"
   ]
  },
  {
   "cell_type": "code",
   "execution_count": 89,
   "metadata": {
    "collapsed": false
   },
   "outputs": [
    {
     "data": {
      "text/html": [
       "<div style=\"max-height:1000px;max-width:1500px;overflow:auto;\">\n",
       "<table border=\"1\" class=\"dataframe\">\n",
       "  <thead>\n",
       "    <tr style=\"text-align: right;\">\n",
       "      <th></th>\n",
       "      <th>float_col</th>\n",
       "      <th>group</th>\n",
       "      <th>some_other_name</th>\n",
       "      <th>str_col</th>\n",
       "    </tr>\n",
       "  </thead>\n",
       "  <tbody>\n",
       "    <tr>\n",
       "      <th>0</th>\n",
       "      <td> 0.10</td>\n",
       "      <td>   Red</td>\n",
       "      <td>  1</td>\n",
       "      <td>    a</td>\n",
       "    </tr>\n",
       "    <tr>\n",
       "      <th>1</th>\n",
       "      <td> 1.85</td>\n",
       "      <td>   Red</td>\n",
       "      <td> 11</td>\n",
       "      <td> 1.85</td>\n",
       "    </tr>\n",
       "    <tr>\n",
       "      <th>2</th>\n",
       "      <td> 0.20</td>\n",
       "      <td> Green</td>\n",
       "      <td>  6</td>\n",
       "      <td> None</td>\n",
       "    </tr>\n",
       "    <tr>\n",
       "      <th>3</th>\n",
       "      <td> 1.85</td>\n",
       "      <td> Green</td>\n",
       "      <td>  8</td>\n",
       "      <td> 1.85</td>\n",
       "    </tr>\n",
       "    <tr>\n",
       "      <th>4</th>\n",
       "      <td>  NaN</td>\n",
       "      <td>   Red</td>\n",
       "      <td> -1</td>\n",
       "      <td>    a</td>\n",
       "    </tr>\n",
       "  </tbody>\n",
       "</table>\n",
       "</div>"
      ],
      "text/plain": [
       "   float_col  group  some_other_name str_col\n",
       "0       0.10    Red                1       a\n",
       "1       1.85    Red               11    1.85\n",
       "2       0.20  Green                6    None\n",
       "3       1.85  Green                8    1.85\n",
       "4        NaN    Red               -1       a"
      ]
     },
     "execution_count": 89,
     "metadata": {},
     "output_type": "execute_result"
    }
   ],
   "source": [
    "df2 # Rename creates a new DataFrame"
   ]
  },
  {
   "cell_type": "code",
   "execution_count": 90,
   "metadata": {
    "collapsed": false
   },
   "outputs": [
    {
     "data": {
      "text/html": [
       "<div style=\"max-height:1000px;max-width:1500px;overflow:auto;\">\n",
       "<table border=\"1\" class=\"dataframe\">\n",
       "  <thead>\n",
       "    <tr style=\"text-align: right;\">\n",
       "      <th></th>\n",
       "      <th>float_col</th>\n",
       "      <th>group</th>\n",
       "      <th>int_col2</th>\n",
       "      <th>str_col</th>\n",
       "    </tr>\n",
       "  </thead>\n",
       "  <tbody>\n",
       "    <tr>\n",
       "      <th>0</th>\n",
       "      <td> 0.10</td>\n",
       "      <td>   Red</td>\n",
       "      <td>  1</td>\n",
       "      <td>    a</td>\n",
       "    </tr>\n",
       "    <tr>\n",
       "      <th>1</th>\n",
       "      <td> 1.85</td>\n",
       "      <td>   Red</td>\n",
       "      <td> 11</td>\n",
       "      <td> 1.85</td>\n",
       "    </tr>\n",
       "    <tr>\n",
       "      <th>2</th>\n",
       "      <td> 0.20</td>\n",
       "      <td> Green</td>\n",
       "      <td>  6</td>\n",
       "      <td> None</td>\n",
       "    </tr>\n",
       "    <tr>\n",
       "      <th>3</th>\n",
       "      <td> 1.85</td>\n",
       "      <td> Green</td>\n",
       "      <td>  8</td>\n",
       "      <td> 1.85</td>\n",
       "    </tr>\n",
       "    <tr>\n",
       "      <th>4</th>\n",
       "      <td>  NaN</td>\n",
       "      <td>   Red</td>\n",
       "      <td> -1</td>\n",
       "      <td>    a</td>\n",
       "    </tr>\n",
       "  </tbody>\n",
       "</table>\n",
       "</div>"
      ],
      "text/plain": [
       "   float_col  group  int_col2 str_col\n",
       "0       0.10    Red         1       a\n",
       "1       1.85    Red        11    1.85\n",
       "2       0.20  Green         6    None\n",
       "3       1.85  Green         8    1.85\n",
       "4        NaN    Red        -1       a"
      ]
     },
     "execution_count": 90,
     "metadata": {},
     "output_type": "execute_result"
    }
   ],
   "source": [
    "df2.rename(columns={'some_other_name' : 'int_col2'}, inplace = True)\n",
    "df2 # ... unless the rename is done \"in place\""
   ]
  },
  {
   "cell_type": "markdown",
   "metadata": {},
   "source": [
    "# Handling missing values"
   ]
  },
  {
   "cell_type": "markdown",
   "metadata": {},
   "source": [
    "### Drop missing values"
   ]
  },
  {
   "cell_type": "code",
   "execution_count": 92,
   "metadata": {
    "collapsed": false
   },
   "outputs": [
    {
     "data": {
      "text/html": [
       "<div style=\"max-height:1000px;max-width:1500px;overflow:auto;\">\n",
       "<table border=\"1\" class=\"dataframe\">\n",
       "  <thead>\n",
       "    <tr style=\"text-align: right;\">\n",
       "      <th></th>\n",
       "      <th>float_col</th>\n",
       "      <th>group</th>\n",
       "      <th>int_col2</th>\n",
       "      <th>str_col</th>\n",
       "    </tr>\n",
       "  </thead>\n",
       "  <tbody>\n",
       "    <tr>\n",
       "      <th>0</th>\n",
       "      <td> 0.10</td>\n",
       "      <td>   Red</td>\n",
       "      <td>  1</td>\n",
       "      <td>    a</td>\n",
       "    </tr>\n",
       "    <tr>\n",
       "      <th>1</th>\n",
       "      <td> 1.85</td>\n",
       "      <td>   Red</td>\n",
       "      <td> 11</td>\n",
       "      <td> 1.85</td>\n",
       "    </tr>\n",
       "    <tr>\n",
       "      <th>2</th>\n",
       "      <td> 0.20</td>\n",
       "      <td> Green</td>\n",
       "      <td>  6</td>\n",
       "      <td> None</td>\n",
       "    </tr>\n",
       "    <tr>\n",
       "      <th>3</th>\n",
       "      <td> 1.85</td>\n",
       "      <td> Green</td>\n",
       "      <td>  8</td>\n",
       "      <td> 1.85</td>\n",
       "    </tr>\n",
       "    <tr>\n",
       "      <th>4</th>\n",
       "      <td>  NaN</td>\n",
       "      <td>   Red</td>\n",
       "      <td> -1</td>\n",
       "      <td>    a</td>\n",
       "    </tr>\n",
       "  </tbody>\n",
       "</table>\n",
       "</div>"
      ],
      "text/plain": [
       "   float_col  group  int_col2 str_col\n",
       "0       0.10    Red         1       a\n",
       "1       1.85    Red        11    1.85\n",
       "2       0.20  Green         6    None\n",
       "3       1.85  Green         8    1.85\n",
       "4        NaN    Red        -1       a"
      ]
     },
     "execution_count": 92,
     "metadata": {},
     "output_type": "execute_result"
    }
   ],
   "source": [
    "df2"
   ]
  },
  {
   "cell_type": "code",
   "execution_count": 93,
   "metadata": {
    "collapsed": false
   },
   "outputs": [
    {
     "data": {
      "text/html": [
       "<div style=\"max-height:1000px;max-width:1500px;overflow:auto;\">\n",
       "<table border=\"1\" class=\"dataframe\">\n",
       "  <thead>\n",
       "    <tr style=\"text-align: right;\">\n",
       "      <th></th>\n",
       "      <th>float_col</th>\n",
       "      <th>group</th>\n",
       "      <th>int_col2</th>\n",
       "      <th>str_col</th>\n",
       "    </tr>\n",
       "  </thead>\n",
       "  <tbody>\n",
       "    <tr>\n",
       "      <th>0</th>\n",
       "      <td> 0.10</td>\n",
       "      <td>   Red</td>\n",
       "      <td>  1</td>\n",
       "      <td>    a</td>\n",
       "    </tr>\n",
       "    <tr>\n",
       "      <th>1</th>\n",
       "      <td> 1.85</td>\n",
       "      <td>   Red</td>\n",
       "      <td> 11</td>\n",
       "      <td> 1.85</td>\n",
       "    </tr>\n",
       "    <tr>\n",
       "      <th>3</th>\n",
       "      <td> 1.85</td>\n",
       "      <td> Green</td>\n",
       "      <td>  8</td>\n",
       "      <td> 1.85</td>\n",
       "    </tr>\n",
       "  </tbody>\n",
       "</table>\n",
       "</div>"
      ],
      "text/plain": [
       "   float_col  group  int_col2 str_col\n",
       "0       0.10    Red         1       a\n",
       "1       1.85    Red        11    1.85\n",
       "3       1.85  Green         8    1.85"
      ]
     },
     "execution_count": 93,
     "metadata": {},
     "output_type": "execute_result"
    }
   ],
   "source": [
    "df3 = df2.dropna()\n",
    "df3"
   ]
  },
  {
   "cell_type": "code",
   "execution_count": 94,
   "metadata": {
    "collapsed": false
   },
   "outputs": [
    {
     "data": {
      "text/html": [
       "<div style=\"max-height:1000px;max-width:1500px;overflow:auto;\">\n",
       "<table border=\"1\" class=\"dataframe\">\n",
       "  <thead>\n",
       "    <tr style=\"text-align: right;\">\n",
       "      <th></th>\n",
       "      <th>float_col</th>\n",
       "      <th>group</th>\n",
       "      <th>int_col2</th>\n",
       "      <th>str_col</th>\n",
       "    </tr>\n",
       "  </thead>\n",
       "  <tbody>\n",
       "    <tr>\n",
       "      <th>0</th>\n",
       "      <td> 0.10</td>\n",
       "      <td>   Red</td>\n",
       "      <td>  1</td>\n",
       "      <td>    a</td>\n",
       "    </tr>\n",
       "    <tr>\n",
       "      <th>1</th>\n",
       "      <td> 1.85</td>\n",
       "      <td>   Red</td>\n",
       "      <td> 11</td>\n",
       "      <td> 1.85</td>\n",
       "    </tr>\n",
       "    <tr>\n",
       "      <th>2</th>\n",
       "      <td> 0.20</td>\n",
       "      <td> Green</td>\n",
       "      <td>  6</td>\n",
       "      <td> None</td>\n",
       "    </tr>\n",
       "    <tr>\n",
       "      <th>3</th>\n",
       "      <td> 1.85</td>\n",
       "      <td> Green</td>\n",
       "      <td>  8</td>\n",
       "      <td> 1.85</td>\n",
       "    </tr>\n",
       "    <tr>\n",
       "      <th>4</th>\n",
       "      <td>  NaN</td>\n",
       "      <td>   Red</td>\n",
       "      <td> -1</td>\n",
       "      <td>    a</td>\n",
       "    </tr>\n",
       "  </tbody>\n",
       "</table>\n",
       "</div>"
      ],
      "text/plain": [
       "   float_col  group  int_col2 str_col\n",
       "0       0.10    Red         1       a\n",
       "1       1.85    Red        11    1.85\n",
       "2       0.20  Green         6    None\n",
       "3       1.85  Green         8    1.85\n",
       "4        NaN    Red        -1       a"
      ]
     },
     "execution_count": 94,
     "metadata": {},
     "output_type": "execute_result"
    }
   ],
   "source": [
    "df2 # dropna is not in place"
   ]
  },
  {
   "cell_type": "code",
   "execution_count": 95,
   "metadata": {
    "collapsed": false
   },
   "outputs": [
    {
     "data": {
      "text/html": [
       "<div style=\"max-height:1000px;max-width:1500px;overflow:auto;\">\n",
       "<table border=\"1\" class=\"dataframe\">\n",
       "  <thead>\n",
       "    <tr style=\"text-align: right;\">\n",
       "      <th></th>\n",
       "      <th>float_col</th>\n",
       "      <th>group</th>\n",
       "      <th>int_col2</th>\n",
       "      <th>str_col</th>\n",
       "    </tr>\n",
       "  </thead>\n",
       "  <tbody>\n",
       "    <tr>\n",
       "      <th>0</th>\n",
       "      <td> 0.10</td>\n",
       "      <td>   Red</td>\n",
       "      <td>  1</td>\n",
       "      <td>    a</td>\n",
       "    </tr>\n",
       "    <tr>\n",
       "      <th>1</th>\n",
       "      <td> 1.85</td>\n",
       "      <td>   Red</td>\n",
       "      <td> 11</td>\n",
       "      <td> 1.85</td>\n",
       "    </tr>\n",
       "    <tr>\n",
       "      <th>2</th>\n",
       "      <td> 0.20</td>\n",
       "      <td> Green</td>\n",
       "      <td>  6</td>\n",
       "      <td> None</td>\n",
       "    </tr>\n",
       "    <tr>\n",
       "      <th>3</th>\n",
       "      <td> 1.85</td>\n",
       "      <td> Green</td>\n",
       "      <td>  8</td>\n",
       "      <td> 1.85</td>\n",
       "    </tr>\n",
       "    <tr>\n",
       "      <th>4</th>\n",
       "      <td>  NaN</td>\n",
       "      <td>   Red</td>\n",
       "      <td> -1</td>\n",
       "      <td>    a</td>\n",
       "    </tr>\n",
       "  </tbody>\n",
       "</table>\n",
       "</div>"
      ],
      "text/plain": [
       "   float_col  group  int_col2 str_col\n",
       "0       0.10    Red         1       a\n",
       "1       1.85    Red        11    1.85\n",
       "2       0.20  Green         6    None\n",
       "3       1.85  Green         8    1.85\n",
       "4        NaN    Red        -1       a"
      ]
     },
     "execution_count": 95,
     "metadata": {},
     "output_type": "execute_result"
    }
   ],
   "source": [
    "df2.dropna(how = 'all') # Drop if whole row is NA"
   ]
  },
  {
   "cell_type": "code",
   "execution_count": 96,
   "metadata": {
    "collapsed": false
   },
   "outputs": [
    {
     "data": {
      "text/html": [
       "<div style=\"max-height:1000px;max-width:1500px;overflow:auto;\">\n",
       "<table border=\"1\" class=\"dataframe\">\n",
       "  <thead>\n",
       "    <tr style=\"text-align: right;\">\n",
       "      <th></th>\n",
       "      <th>float_col</th>\n",
       "      <th>group</th>\n",
       "      <th>int_col2</th>\n",
       "      <th>str_col</th>\n",
       "    </tr>\n",
       "  </thead>\n",
       "  <tbody>\n",
       "    <tr>\n",
       "      <th>0</th>\n",
       "      <td> 0.10</td>\n",
       "      <td>   Red</td>\n",
       "      <td>  1</td>\n",
       "      <td>    a</td>\n",
       "    </tr>\n",
       "    <tr>\n",
       "      <th>1</th>\n",
       "      <td> 1.85</td>\n",
       "      <td>   Red</td>\n",
       "      <td> 11</td>\n",
       "      <td> 1.85</td>\n",
       "    </tr>\n",
       "    <tr>\n",
       "      <th>3</th>\n",
       "      <td> 1.85</td>\n",
       "      <td> Green</td>\n",
       "      <td>  8</td>\n",
       "      <td> 1.85</td>\n",
       "    </tr>\n",
       "  </tbody>\n",
       "</table>\n",
       "</div>"
      ],
      "text/plain": [
       "   float_col  group  int_col2 str_col\n",
       "0       0.10    Red         1       a\n",
       "1       1.85    Red        11    1.85\n",
       "3       1.85  Green         8    1.85"
      ]
     },
     "execution_count": 96,
     "metadata": {},
     "output_type": "execute_result"
    }
   ],
   "source": [
    "df2.dropna(how = 'any') # Like just now"
   ]
  },
  {
   "cell_type": "code",
   "execution_count": 97,
   "metadata": {
    "collapsed": false
   },
   "outputs": [
    {
     "data": {
      "text/html": [
       "<div style=\"max-height:1000px;max-width:1500px;overflow:auto;\">\n",
       "<table border=\"1\" class=\"dataframe\">\n",
       "  <thead>\n",
       "    <tr style=\"text-align: right;\">\n",
       "      <th></th>\n",
       "      <th>group</th>\n",
       "      <th>int_col2</th>\n",
       "    </tr>\n",
       "  </thead>\n",
       "  <tbody>\n",
       "    <tr>\n",
       "      <th>0</th>\n",
       "      <td>   Red</td>\n",
       "      <td>  1</td>\n",
       "    </tr>\n",
       "    <tr>\n",
       "      <th>1</th>\n",
       "      <td>   Red</td>\n",
       "      <td> 11</td>\n",
       "    </tr>\n",
       "    <tr>\n",
       "      <th>2</th>\n",
       "      <td> Green</td>\n",
       "      <td>  6</td>\n",
       "    </tr>\n",
       "    <tr>\n",
       "      <th>3</th>\n",
       "      <td> Green</td>\n",
       "      <td>  8</td>\n",
       "    </tr>\n",
       "    <tr>\n",
       "      <th>4</th>\n",
       "      <td>   Red</td>\n",
       "      <td> -1</td>\n",
       "    </tr>\n",
       "  </tbody>\n",
       "</table>\n",
       "</div>"
      ],
      "text/plain": [
       "   group  int_col2\n",
       "0    Red         1\n",
       "1    Red        11\n",
       "2  Green         6\n",
       "3  Green         8\n",
       "4    Red        -1"
      ]
     },
     "execution_count": 97,
     "metadata": {},
     "output_type": "execute_result"
    }
   ],
   "source": [
    "df2.dropna(axis=1) # Drop columns with an NA value somewhere; not so useful =P"
   ]
  },
  {
   "cell_type": "code",
   "execution_count": 98,
   "metadata": {
    "collapsed": false
   },
   "outputs": [
    {
     "data": {
      "text/html": [
       "<div style=\"max-height:1000px;max-width:1500px;overflow:auto;\">\n",
       "<table border=\"1\" class=\"dataframe\">\n",
       "  <thead>\n",
       "    <tr style=\"text-align: right;\">\n",
       "      <th></th>\n",
       "      <th>float_col</th>\n",
       "      <th>group</th>\n",
       "      <th>int_col2</th>\n",
       "      <th>str_col</th>\n",
       "    </tr>\n",
       "  </thead>\n",
       "  <tbody>\n",
       "    <tr>\n",
       "      <th>0</th>\n",
       "      <td> 0.10</td>\n",
       "      <td>   Red</td>\n",
       "      <td>  1</td>\n",
       "      <td>    a</td>\n",
       "    </tr>\n",
       "    <tr>\n",
       "      <th>1</th>\n",
       "      <td> 1.85</td>\n",
       "      <td>   Red</td>\n",
       "      <td> 11</td>\n",
       "      <td> 1.85</td>\n",
       "    </tr>\n",
       "    <tr>\n",
       "      <th>2</th>\n",
       "      <td> 0.20</td>\n",
       "      <td> Green</td>\n",
       "      <td>  6</td>\n",
       "      <td> None</td>\n",
       "    </tr>\n",
       "    <tr>\n",
       "      <th>3</th>\n",
       "      <td> 1.85</td>\n",
       "      <td> Green</td>\n",
       "      <td>  8</td>\n",
       "      <td> 1.85</td>\n",
       "    </tr>\n",
       "  </tbody>\n",
       "</table>\n",
       "</div>"
      ],
      "text/plain": [
       "   float_col  group  int_col2 str_col\n",
       "0       0.10    Red         1       a\n",
       "1       1.85    Red        11    1.85\n",
       "2       0.20  Green         6    None\n",
       "3       1.85  Green         8    1.85"
      ]
     },
     "execution_count": 98,
     "metadata": {},
     "output_type": "execute_result"
    }
   ],
   "source": [
    "df2.dropna(subset=['float_col', 'int_col2']) # Drop rows if NAs appear in any of the stated columns"
   ]
  },
  {
   "cell_type": "markdown",
   "metadata": {},
   "source": [
    "### Fill missing values"
   ]
  },
  {
   "cell_type": "code",
   "execution_count": 99,
   "metadata": {
    "collapsed": false
   },
   "outputs": [
    {
     "data": {
      "text/html": [
       "<div style=\"max-height:1000px;max-width:1500px;overflow:auto;\">\n",
       "<table border=\"1\" class=\"dataframe\">\n",
       "  <thead>\n",
       "    <tr style=\"text-align: right;\">\n",
       "      <th></th>\n",
       "      <th>float_col</th>\n",
       "      <th>group</th>\n",
       "      <th>int_col</th>\n",
       "      <th>str_col</th>\n",
       "    </tr>\n",
       "  </thead>\n",
       "  <tbody>\n",
       "    <tr>\n",
       "      <th>0</th>\n",
       "      <td> 0.10</td>\n",
       "      <td>   Red</td>\n",
       "      <td>  1</td>\n",
       "      <td>    a</td>\n",
       "    </tr>\n",
       "    <tr>\n",
       "      <th>1</th>\n",
       "      <td> 1.85</td>\n",
       "      <td>   Red</td>\n",
       "      <td> 11</td>\n",
       "      <td> 1.85</td>\n",
       "    </tr>\n",
       "    <tr>\n",
       "      <th>2</th>\n",
       "      <td> 0.20</td>\n",
       "      <td> Green</td>\n",
       "      <td>  6</td>\n",
       "      <td> None</td>\n",
       "    </tr>\n",
       "    <tr>\n",
       "      <th>3</th>\n",
       "      <td> 1.85</td>\n",
       "      <td> Green</td>\n",
       "      <td>  8</td>\n",
       "      <td> 1.85</td>\n",
       "    </tr>\n",
       "    <tr>\n",
       "      <th>4</th>\n",
       "      <td>  NaN</td>\n",
       "      <td>   Red</td>\n",
       "      <td> -1</td>\n",
       "      <td>    a</td>\n",
       "    </tr>\n",
       "  </tbody>\n",
       "</table>\n",
       "</div>"
      ],
      "text/plain": [
       "   float_col  group  int_col str_col\n",
       "0       0.10    Red        1       a\n",
       "1       1.85    Red       11    1.85\n",
       "2       0.20  Green        6    None\n",
       "3       1.85  Green        8    1.85\n",
       "4        NaN    Red       -1       a"
      ]
     },
     "execution_count": 99,
     "metadata": {},
     "output_type": "execute_result"
    }
   ],
   "source": [
    "df3 = df.copy()\n",
    "df3"
   ]
  },
  {
   "cell_type": "code",
   "execution_count": 100,
   "metadata": {
    "collapsed": false
   },
   "outputs": [
    {
     "data": {
      "text/plain": [
       "1.0"
      ]
     },
     "execution_count": 100,
     "metadata": {},
     "output_type": "execute_result"
    }
   ],
   "source": [
    "mean = df3['float_col'].mean() # Calculated over non-NA values\n",
    "mean"
   ]
  },
  {
   "cell_type": "code",
   "execution_count": 102,
   "metadata": {
    "collapsed": false
   },
   "outputs": [
    {
     "data": {
      "text/plain": [
       "0     0.10\n",
       "1     1.85\n",
       "2     0.20\n",
       "3     1.85\n",
       "4    99.00\n",
       "Name: float_col, dtype: float64"
      ]
     },
     "execution_count": 102,
     "metadata": {},
     "output_type": "execute_result"
    }
   ],
   "source": [
    "df3['float_col'].fillna(99)"
   ]
  },
  {
   "cell_type": "code",
   "execution_count": 103,
   "metadata": {
    "collapsed": false
   },
   "outputs": [
    {
     "data": {
      "text/html": [
       "<div style=\"max-height:1000px;max-width:1500px;overflow:auto;\">\n",
       "<table border=\"1\" class=\"dataframe\">\n",
       "  <thead>\n",
       "    <tr style=\"text-align: right;\">\n",
       "      <th></th>\n",
       "      <th>float_col</th>\n",
       "      <th>group</th>\n",
       "      <th>int_col</th>\n",
       "      <th>str_col</th>\n",
       "    </tr>\n",
       "  </thead>\n",
       "  <tbody>\n",
       "    <tr>\n",
       "      <th>0</th>\n",
       "      <td> 0.10</td>\n",
       "      <td>   Red</td>\n",
       "      <td>  1</td>\n",
       "      <td>    a</td>\n",
       "    </tr>\n",
       "    <tr>\n",
       "      <th>1</th>\n",
       "      <td> 1.85</td>\n",
       "      <td>   Red</td>\n",
       "      <td> 11</td>\n",
       "      <td> 1.85</td>\n",
       "    </tr>\n",
       "    <tr>\n",
       "      <th>2</th>\n",
       "      <td> 0.20</td>\n",
       "      <td> Green</td>\n",
       "      <td>  6</td>\n",
       "      <td> None</td>\n",
       "    </tr>\n",
       "    <tr>\n",
       "      <th>3</th>\n",
       "      <td> 1.85</td>\n",
       "      <td> Green</td>\n",
       "      <td>  8</td>\n",
       "      <td> 1.85</td>\n",
       "    </tr>\n",
       "    <tr>\n",
       "      <th>4</th>\n",
       "      <td>  NaN</td>\n",
       "      <td>   Red</td>\n",
       "      <td> -1</td>\n",
       "      <td>    a</td>\n",
       "    </tr>\n",
       "  </tbody>\n",
       "</table>\n",
       "</div>"
      ],
      "text/plain": [
       "   float_col  group  int_col str_col\n",
       "0       0.10    Red        1       a\n",
       "1       1.85    Red       11    1.85\n",
       "2       0.20  Green        6    None\n",
       "3       1.85  Green        8    1.85\n",
       "4        NaN    Red       -1       a"
      ]
     },
     "execution_count": 103,
     "metadata": {},
     "output_type": "execute_result"
    }
   ],
   "source": [
    "df3 # No change here..."
   ]
  },
  {
   "cell_type": "code",
   "execution_count": 104,
   "metadata": {
    "collapsed": false
   },
   "outputs": [
    {
     "data": {
      "text/html": [
       "<div style=\"max-height:1000px;max-width:1500px;overflow:auto;\">\n",
       "<table border=\"1\" class=\"dataframe\">\n",
       "  <thead>\n",
       "    <tr style=\"text-align: right;\">\n",
       "      <th></th>\n",
       "      <th>float_col</th>\n",
       "      <th>group</th>\n",
       "      <th>int_col</th>\n",
       "      <th>str_col</th>\n",
       "    </tr>\n",
       "  </thead>\n",
       "  <tbody>\n",
       "    <tr>\n",
       "      <th>0</th>\n",
       "      <td> 0.10</td>\n",
       "      <td>   Red</td>\n",
       "      <td>  1</td>\n",
       "      <td>    a</td>\n",
       "    </tr>\n",
       "    <tr>\n",
       "      <th>1</th>\n",
       "      <td> 1.85</td>\n",
       "      <td>   Red</td>\n",
       "      <td> 11</td>\n",
       "      <td> 1.85</td>\n",
       "    </tr>\n",
       "    <tr>\n",
       "      <th>2</th>\n",
       "      <td> 0.20</td>\n",
       "      <td> Green</td>\n",
       "      <td>  6</td>\n",
       "      <td> None</td>\n",
       "    </tr>\n",
       "    <tr>\n",
       "      <th>3</th>\n",
       "      <td> 1.85</td>\n",
       "      <td> Green</td>\n",
       "      <td>  8</td>\n",
       "      <td> 1.85</td>\n",
       "    </tr>\n",
       "    <tr>\n",
       "      <th>4</th>\n",
       "      <td> 1.00</td>\n",
       "      <td>   Red</td>\n",
       "      <td> -1</td>\n",
       "      <td>    a</td>\n",
       "    </tr>\n",
       "  </tbody>\n",
       "</table>\n",
       "</div>"
      ],
      "text/plain": [
       "   float_col  group  int_col str_col\n",
       "0       0.10    Red        1       a\n",
       "1       1.85    Red       11    1.85\n",
       "2       0.20  Green        6    None\n",
       "3       1.85  Green        8    1.85\n",
       "4       1.00    Red       -1       a"
      ]
     },
     "execution_count": 104,
     "metadata": {},
     "output_type": "execute_result"
    }
   ],
   "source": [
    "df3['float_col'].fillna(mean, inplace = True)\n",
    "df3"
   ]
  },
  {
   "cell_type": "code",
   "execution_count": 105,
   "metadata": {
    "collapsed": false
   },
   "outputs": [
    {
     "data": {
      "text/plain": [
       "0             a\n",
       "1          1.85\n",
       "2    Zzzzzzzzzz\n",
       "3          1.85\n",
       "4             a\n",
       "Name: str_col, dtype: object"
      ]
     },
     "execution_count": 105,
     "metadata": {},
     "output_type": "execute_result"
    }
   ],
   "source": [
    "df3['str_col'].fillna(\"Zzzzzzzzzz\")"
   ]
  },
  {
   "cell_type": "markdown",
   "metadata": {},
   "source": [
    "# map(), apply(), applymap()"
   ]
  },
  {
   "cell_type": "markdown",
   "metadata": {},
   "source": [
    "### map(): Functions on elements (of a Series)"
   ]
  },
  {
   "cell_type": "code",
   "execution_count": 113,
   "metadata": {
    "collapsed": false
   },
   "outputs": [
    {
     "data": {
      "text/plain": [
       "0         Length of a is <type 'str'>\n",
       "1    Length of 1.85 is <type 'float'>\n",
       "2    Length of Zzzzzz is <type 'str'>\n",
       "3    Length of 1.85 is <type 'float'>\n",
       "4         Length of a is <type 'str'>\n",
       "Name: str_col, dtype: object"
      ]
     },
     "execution_count": 113,
     "metadata": {},
     "output_type": "execute_result"
    }
   ],
   "source": [
    "# The map operation operates over each element of a Series.\n",
    "df['str_col'].fillna('Zzzzzz').map(lambda x : 'Length of {0} is {1}'.format(x, type(x)) ) # len(None) gives errors."
   ]
  },
  {
   "cell_type": "code",
   "execution_count": 114,
   "metadata": {
    "collapsed": false
   },
   "outputs": [
    {
     "ename": "AttributeError",
     "evalue": "'DataFrame' object has no attribute 'map'",
     "output_type": "error",
     "traceback": [
      "\u001b[1;31m---------------------------------------------------------------------------\u001b[0m\n\u001b[1;31mAttributeError\u001b[0m                            Traceback (most recent call last)",
      "\u001b[1;32m<ipython-input-114-ee0fad105919>\u001b[0m in \u001b[0;36m<module>\u001b[1;34m()\u001b[0m\n\u001b[1;32m----> 1\u001b[1;33m \u001b[0mdf\u001b[0m\u001b[1;33m[\u001b[0m\u001b[1;33m[\u001b[0m\u001b[1;34m'str_col'\u001b[0m\u001b[1;33m]\u001b[0m\u001b[1;33m]\u001b[0m\u001b[1;33m.\u001b[0m\u001b[0mfillna\u001b[0m\u001b[1;33m(\u001b[0m\u001b[1;34m'Zzzzzz'\u001b[0m\u001b[1;33m)\u001b[0m\u001b[1;33m.\u001b[0m\u001b[0mmap\u001b[0m\u001b[1;33m(\u001b[0m\u001b[1;32mlambda\u001b[0m \u001b[0mx\u001b[0m \u001b[1;33m:\u001b[0m \u001b[1;34m'Length of {0} is {1}'\u001b[0m\u001b[1;33m.\u001b[0m\u001b[0mformat\u001b[0m\u001b[1;33m(\u001b[0m\u001b[0mx\u001b[0m\u001b[1;33m,\u001b[0m \u001b[0mtype\u001b[0m\u001b[1;33m(\u001b[0m\u001b[0mx\u001b[0m\u001b[1;33m)\u001b[0m\u001b[1;33m)\u001b[0m \u001b[1;33m)\u001b[0m \u001b[1;31m# It's for series\u001b[0m\u001b[1;33m\u001b[0m\u001b[0m\n\u001b[0m",
      "\u001b[1;32mC:\\Python27\\lib\\site-packages\\pandas\\core\\frame.pyc\u001b[0m in \u001b[0;36m__getattr__\u001b[1;34m(self, name)\u001b[0m\n\u001b[0;32m   2086\u001b[0m             \u001b[1;32mreturn\u001b[0m \u001b[0mself\u001b[0m\u001b[1;33m[\u001b[0m\u001b[0mname\u001b[0m\u001b[1;33m]\u001b[0m\u001b[1;33m\u001b[0m\u001b[0m\n\u001b[0;32m   2087\u001b[0m         raise AttributeError(\"'%s' object has no attribute '%s'\" %\n\u001b[1;32m-> 2088\u001b[1;33m                              (type(self).__name__, name))\n\u001b[0m\u001b[0;32m   2089\u001b[0m \u001b[1;33m\u001b[0m\u001b[0m\n\u001b[0;32m   2090\u001b[0m     \u001b[1;32mdef\u001b[0m \u001b[0m__setattr__\u001b[0m\u001b[1;33m(\u001b[0m\u001b[0mself\u001b[0m\u001b[1;33m,\u001b[0m \u001b[0mname\u001b[0m\u001b[1;33m,\u001b[0m \u001b[0mvalue\u001b[0m\u001b[1;33m)\u001b[0m\u001b[1;33m:\u001b[0m\u001b[1;33m\u001b[0m\u001b[0m\n",
      "\u001b[1;31mAttributeError\u001b[0m: 'DataFrame' object has no attribute 'map'"
     ]
    }
   ],
   "source": [
    "df[['str_col']].fillna('Zzzzzz').map(lambda x : 'Length of {0} is {1}'.format(x, type(x)) ) # It's for series"
   ]
  },
  {
   "cell_type": "markdown",
   "metadata": {},
   "source": [
    "### apply(): Functions on Series"
   ]
  },
  {
   "cell_type": "code",
   "execution_count": 115,
   "metadata": {
    "collapsed": false
   },
   "outputs": [
    {
     "data": {
      "text/plain": [
       "int_col      25\n",
       "float_col     4\n",
       "dtype: float64"
      ]
     },
     "execution_count": 115,
     "metadata": {},
     "output_type": "execute_result"
    }
   ],
   "source": [
    "df[['int_col', 'float_col']].apply(np.sum) # Passes in columns (axis = 0)"
   ]
  },
  {
   "cell_type": "code",
   "execution_count": 116,
   "metadata": {
    "collapsed": false
   },
   "outputs": [
    {
     "data": {
      "text/html": [
       "<div style=\"max-height:1000px;max-width:1500px;overflow:auto;\">\n",
       "<table border=\"1\" class=\"dataframe\">\n",
       "  <thead>\n",
       "    <tr style=\"text-align: right;\">\n",
       "      <th></th>\n",
       "      <th>int_col</th>\n",
       "      <th>float_col</th>\n",
       "    </tr>\n",
       "  </thead>\n",
       "  <tbody>\n",
       "    <tr>\n",
       "      <th>0</th>\n",
       "      <td> 1.000000</td>\n",
       "      <td> 0.316228</td>\n",
       "    </tr>\n",
       "    <tr>\n",
       "      <th>1</th>\n",
       "      <td> 3.316625</td>\n",
       "      <td> 1.360147</td>\n",
       "    </tr>\n",
       "    <tr>\n",
       "      <th>2</th>\n",
       "      <td> 2.449490</td>\n",
       "      <td> 0.447214</td>\n",
       "    </tr>\n",
       "    <tr>\n",
       "      <th>3</th>\n",
       "      <td> 2.828427</td>\n",
       "      <td> 1.360147</td>\n",
       "    </tr>\n",
       "    <tr>\n",
       "      <th>4</th>\n",
       "      <td>      NaN</td>\n",
       "      <td>      NaN</td>\n",
       "    </tr>\n",
       "  </tbody>\n",
       "</table>\n",
       "</div>"
      ],
      "text/plain": [
       "    int_col  float_col\n",
       "0  1.000000   0.316228\n",
       "1  3.316625   1.360147\n",
       "2  2.449490   0.447214\n",
       "3  2.828427   1.360147\n",
       "4       NaN        NaN"
      ]
     },
     "execution_count": 116,
     "metadata": {},
     "output_type": "execute_result"
    }
   ],
   "source": [
    "df[['int_col', 'float_col']].apply(np.sqrt) # Passes in columns (axis = 0)"
   ]
  },
  {
   "cell_type": "code",
   "execution_count": 117,
   "metadata": {
    "collapsed": false
   },
   "outputs": [
    {
     "data": {
      "text/plain": [
       "0         a: 1 and 0.1\n",
       "1    1.85: 11 and 1.85\n",
       "2      None: 6 and 0.2\n",
       "3     1.85: 8 and 1.85\n",
       "4        a: -1 and nan\n",
       "dtype: object"
      ]
     },
     "execution_count": 117,
     "metadata": {},
     "output_type": "execute_result"
    }
   ],
   "source": [
    "# This passes in rows (axis = 1)\n",
    "df.apply(lambda row: \"{0}: {1} and {2}\".format(row['str_col'], row['int_col'], row['float_col']), axis = 1)"
   ]
  },
  {
   "cell_type": "markdown",
   "metadata": {},
   "source": [
    "### applymap(): Functions on elements of a DataFrame (But usually a Column)"
   ]
  },
  {
   "cell_type": "code",
   "execution_count": 118,
   "metadata": {
    "collapsed": false
   },
   "outputs": [
    {
     "data": {
      "text/html": [
       "<div style=\"max-height:1000px;max-width:1500px;overflow:auto;\">\n",
       "<table border=\"1\" class=\"dataframe\">\n",
       "  <thead>\n",
       "    <tr style=\"text-align: right;\">\n",
       "      <th></th>\n",
       "      <th>float_col</th>\n",
       "      <th>group</th>\n",
       "      <th>int_col</th>\n",
       "      <th>str_col</th>\n",
       "    </tr>\n",
       "  </thead>\n",
       "  <tbody>\n",
       "    <tr>\n",
       "      <th>0</th>\n",
       "      <td> &lt;type 'numpy.float64'&gt;</td>\n",
       "      <td> &lt;type 'str'&gt;</td>\n",
       "      <td> &lt;type 'numpy.int64'&gt;</td>\n",
       "      <td>      &lt;type 'str'&gt;</td>\n",
       "    </tr>\n",
       "    <tr>\n",
       "      <th>1</th>\n",
       "      <td> &lt;type 'numpy.float64'&gt;</td>\n",
       "      <td> &lt;type 'str'&gt;</td>\n",
       "      <td> &lt;type 'numpy.int64'&gt;</td>\n",
       "      <td>    &lt;type 'float'&gt;</td>\n",
       "    </tr>\n",
       "    <tr>\n",
       "      <th>2</th>\n",
       "      <td> &lt;type 'numpy.float64'&gt;</td>\n",
       "      <td> &lt;type 'str'&gt;</td>\n",
       "      <td> &lt;type 'numpy.int64'&gt;</td>\n",
       "      <td> &lt;type 'NoneType'&gt;</td>\n",
       "    </tr>\n",
       "    <tr>\n",
       "      <th>3</th>\n",
       "      <td> &lt;type 'numpy.float64'&gt;</td>\n",
       "      <td> &lt;type 'str'&gt;</td>\n",
       "      <td> &lt;type 'numpy.int64'&gt;</td>\n",
       "      <td>    &lt;type 'float'&gt;</td>\n",
       "    </tr>\n",
       "    <tr>\n",
       "      <th>4</th>\n",
       "      <td> &lt;type 'numpy.float64'&gt;</td>\n",
       "      <td> &lt;type 'str'&gt;</td>\n",
       "      <td> &lt;type 'numpy.int64'&gt;</td>\n",
       "      <td>      &lt;type 'str'&gt;</td>\n",
       "    </tr>\n",
       "  </tbody>\n",
       "</table>\n",
       "</div>"
      ],
      "text/plain": [
       "                float_col         group               int_col            str_col\n",
       "0  <type 'numpy.float64'>  <type 'str'>  <type 'numpy.int64'>       <type 'str'>\n",
       "1  <type 'numpy.float64'>  <type 'str'>  <type 'numpy.int64'>     <type 'float'>\n",
       "2  <type 'numpy.float64'>  <type 'str'>  <type 'numpy.int64'>  <type 'NoneType'>\n",
       "3  <type 'numpy.float64'>  <type 'str'>  <type 'numpy.int64'>     <type 'float'>\n",
       "4  <type 'numpy.float64'>  <type 'str'>  <type 'numpy.int64'>       <type 'str'>"
      ]
     },
     "execution_count": 118,
     "metadata": {},
     "output_type": "execute_result"
    }
   ],
   "source": [
    "df.applymap(lambda x: type(x))"
   ]
  },
  {
   "cell_type": "code",
   "execution_count": 119,
   "metadata": {
    "collapsed": false
   },
   "outputs": [
    {
     "data": {
      "text/html": [
       "<div style=\"max-height:1000px;max-width:1500px;overflow:auto;\">\n",
       "<table border=\"1\" class=\"dataframe\">\n",
       "  <thead>\n",
       "    <tr style=\"text-align: right;\">\n",
       "      <th></th>\n",
       "      <th>float_col</th>\n",
       "      <th>group</th>\n",
       "      <th>int_col</th>\n",
       "      <th>str_col</th>\n",
       "    </tr>\n",
       "  </thead>\n",
       "  <tbody>\n",
       "    <tr>\n",
       "      <th>0</th>\n",
       "      <td> 16</td>\n",
       "      <td> 24</td>\n",
       "      <td> 16</td>\n",
       "      <td> 22</td>\n",
       "    </tr>\n",
       "    <tr>\n",
       "      <th>1</th>\n",
       "      <td> 16</td>\n",
       "      <td> 24</td>\n",
       "      <td> 16</td>\n",
       "      <td> 16</td>\n",
       "    </tr>\n",
       "    <tr>\n",
       "      <th>2</th>\n",
       "      <td> 16</td>\n",
       "      <td> 26</td>\n",
       "      <td> 16</td>\n",
       "      <td>  8</td>\n",
       "    </tr>\n",
       "    <tr>\n",
       "      <th>3</th>\n",
       "      <td> 16</td>\n",
       "      <td> 26</td>\n",
       "      <td> 16</td>\n",
       "      <td> 16</td>\n",
       "    </tr>\n",
       "    <tr>\n",
       "      <th>4</th>\n",
       "      <td> 16</td>\n",
       "      <td> 24</td>\n",
       "      <td> 16</td>\n",
       "      <td> 22</td>\n",
       "    </tr>\n",
       "  </tbody>\n",
       "</table>\n",
       "</div>"
      ],
      "text/plain": [
       "   float_col  group  int_col  str_col\n",
       "0         16     24       16       22\n",
       "1         16     24       16       16\n",
       "2         16     26       16        8\n",
       "3         16     26       16       16\n",
       "4         16     24       16       22"
      ]
     },
     "execution_count": 119,
     "metadata": {},
     "output_type": "execute_result"
    }
   ],
   "source": [
    "import sys\n",
    "df.applymap(lambda x: sys.getsizeof(x))"
   ]
  },
  {
   "cell_type": "markdown",
   "metadata": {},
   "source": [
    "# groupby(): Aggregation"
   ]
  },
  {
   "cell_type": "markdown",
   "metadata": {},
   "source": [
    "### Basic Training"
   ]
  },
  {
   "cell_type": "code",
   "execution_count": 120,
   "metadata": {
    "collapsed": false
   },
   "outputs": [
    {
     "data": {
      "text/plain": [
       "<pandas.core.groupby.SeriesGroupBy object at 0x0A09CD70>"
      ]
     },
     "execution_count": 120,
     "metadata": {},
     "output_type": "execute_result"
    }
   ],
   "source": [
    "# Grouping elements of a Series\n",
    "grouped = df['float_col'].groupby(df['group'])\n",
    "grouped # Yucks!"
   ]
  },
  {
   "cell_type": "code",
   "execution_count": 122,
   "metadata": {
    "collapsed": false
   },
   "outputs": [
    {
     "data": {
      "text/plain": [
       "group\n",
       "Green    1.025\n",
       "Red      0.975\n",
       "dtype: float64"
      ]
     },
     "execution_count": 122,
     "metadata": {},
     "output_type": "execute_result"
    }
   ],
   "source": [
    "grouped.mean()"
   ]
  },
  {
   "cell_type": "code",
   "execution_count": 123,
   "metadata": {
    "collapsed": false
   },
   "outputs": [
    {
     "data": {
      "text/plain": [
       "<pandas.core.groupby.DataFrameGroupBy object at 0x0A09C770>"
      ]
     },
     "execution_count": 123,
     "metadata": {},
     "output_type": "execute_result"
    }
   ],
   "source": [
    "# Grouping elements of a DataFrame\n",
    "grouped = df[['int_col', 'float_col']].groupby(df['group'])\n",
    "grouped"
   ]
  },
  {
   "cell_type": "code",
   "execution_count": 124,
   "metadata": {
    "collapsed": false
   },
   "outputs": [
    {
     "data": {
      "text/html": [
       "<div style=\"max-height:1000px;max-width:1500px;overflow:auto;\">\n",
       "<table border=\"1\" class=\"dataframe\">\n",
       "  <thead>\n",
       "    <tr style=\"text-align: right;\">\n",
       "      <th></th>\n",
       "      <th>int_col</th>\n",
       "      <th>float_col</th>\n",
       "    </tr>\n",
       "    <tr>\n",
       "      <th>group</th>\n",
       "      <th></th>\n",
       "      <th></th>\n",
       "    </tr>\n",
       "  </thead>\n",
       "  <tbody>\n",
       "    <tr>\n",
       "      <th>Green</th>\n",
       "      <td> 1.414214</td>\n",
       "      <td> 1.166726</td>\n",
       "    </tr>\n",
       "    <tr>\n",
       "      <th>Red</th>\n",
       "      <td> 6.429101</td>\n",
       "      <td> 1.237437</td>\n",
       "    </tr>\n",
       "  </tbody>\n",
       "</table>\n",
       "</div>"
      ],
      "text/plain": [
       "        int_col  float_col\n",
       "group                     \n",
       "Green  1.414214   1.166726\n",
       "Red    6.429101   1.237437"
      ]
     },
     "execution_count": 124,
     "metadata": {},
     "output_type": "execute_result"
    }
   ],
   "source": [
    "grouped.std()"
   ]
  },
  {
   "cell_type": "code",
   "execution_count": 125,
   "metadata": {
    "collapsed": false
   },
   "outputs": [
    {
     "data": {
      "text/html": [
       "<div style=\"max-height:1000px;max-width:1500px;overflow:auto;\">\n",
       "<table border=\"1\" class=\"dataframe\">\n",
       "  <thead>\n",
       "    <tr>\n",
       "      <th></th>\n",
       "      <th colspan=\"3\" halign=\"left\">int_col</th>\n",
       "      <th colspan=\"3\" halign=\"left\">float_col</th>\n",
       "    </tr>\n",
       "    <tr>\n",
       "      <th></th>\n",
       "      <th>mean</th>\n",
       "      <th>std</th>\n",
       "      <th>&lt;lambda&gt;</th>\n",
       "      <th>mean</th>\n",
       "      <th>std</th>\n",
       "      <th>&lt;lambda&gt;</th>\n",
       "    </tr>\n",
       "    <tr>\n",
       "      <th>group</th>\n",
       "      <th></th>\n",
       "      <th></th>\n",
       "      <th></th>\n",
       "      <th></th>\n",
       "      <th></th>\n",
       "      <th></th>\n",
       "    </tr>\n",
       "  </thead>\n",
       "  <tbody>\n",
       "    <tr>\n",
       "      <th>Green</th>\n",
       "      <td> 7.000000</td>\n",
       "      <td> 1.414214</td>\n",
       "      <td> 14</td>\n",
       "      <td> 1.025</td>\n",
       "      <td> 1.166726</td>\n",
       "      <td> 1.85</td>\n",
       "    </tr>\n",
       "    <tr>\n",
       "      <th>Red</th>\n",
       "      <td> 3.666667</td>\n",
       "      <td> 6.429101</td>\n",
       "      <td> 11</td>\n",
       "      <td> 0.975</td>\n",
       "      <td> 1.237437</td>\n",
       "      <td> 1.85</td>\n",
       "    </tr>\n",
       "  </tbody>\n",
       "</table>\n",
       "</div>"
      ],
      "text/plain": [
       "        int_col                      float_col                    \n",
       "           mean       std  <lambda>       mean       std  <lambda>\n",
       "group                                                             \n",
       "Green  7.000000  1.414214        14      1.025  1.166726      1.85\n",
       "Red    3.666667  6.429101        11      0.975  1.237437      1.85"
      ]
     },
     "execution_count": 125,
     "metadata": {},
     "output_type": "execute_result"
    }
   ],
   "source": [
    "grouped.agg(['mean','std', lambda seq: sum(map(lambda x: x if x > 1 else 0, seq)) ])"
   ]
  },
  {
   "cell_type": "markdown",
   "metadata": {},
   "source": [
    "### Intermediate Training: dict / series / function Groups"
   ]
  },
  {
   "cell_type": "code",
   "execution_count": 29,
   "metadata": {
    "collapsed": false
   },
   "outputs": [
    {
     "data": {
      "text/html": [
       "<div>\n",
       "<table border=\"1\" class=\"dataframe\">\n",
       "  <thead>\n",
       "    <tr style=\"text-align: right;\">\n",
       "      <th></th>\n",
       "      <th>Justin Bieber</th>\n",
       "      <th>Kayne West</th>\n",
       "      <th>Timber</th>\n",
       "      <th>Pharrell Williams</th>\n",
       "    </tr>\n",
       "  </thead>\n",
       "  <tbody>\n",
       "    <tr>\n",
       "      <th>Madison</th>\n",
       "      <td>0.988235</td>\n",
       "      <td>0.183723</td>\n",
       "      <td>0.191343</td>\n",
       "      <td>0.117947</td>\n",
       "    </tr>\n",
       "    <tr>\n",
       "      <th>Ashley</th>\n",
       "      <td>0.936945</td>\n",
       "      <td>0.230509</td>\n",
       "      <td>0.559091</td>\n",
       "      <td>0.956306</td>\n",
       "    </tr>\n",
       "    <tr>\n",
       "      <th>Zoe</th>\n",
       "      <td>0.202454</td>\n",
       "      <td>0.075604</td>\n",
       "      <td>0.133405</td>\n",
       "      <td>0.644307</td>\n",
       "    </tr>\n",
       "    <tr>\n",
       "      <th>Chloe</th>\n",
       "      <td>0.503277</td>\n",
       "      <td>0.043384</td>\n",
       "      <td>0.217463</td>\n",
       "      <td>0.874210</td>\n",
       "    </tr>\n",
       "    <tr>\n",
       "      <th>Riley</th>\n",
       "      <td>0.738604</td>\n",
       "      <td>0.881630</td>\n",
       "      <td>0.127277</td>\n",
       "      <td>0.090009</td>\n",
       "    </tr>\n",
       "    <tr>\n",
       "      <th>Prudence</th>\n",
       "      <td>0.817338</td>\n",
       "      <td>0.559425</td>\n",
       "      <td>0.790462</td>\n",
       "      <td>0.450914</td>\n",
       "    </tr>\n",
       "  </tbody>\n",
       "</table>\n",
       "</div>"
      ],
      "text/plain": [
       "          Justin Bieber  Kayne West    Timber  Pharrell Williams\n",
       "Madison        0.988235    0.183723  0.191343           0.117947\n",
       "Ashley         0.936945    0.230509  0.559091           0.956306\n",
       "Zoe            0.202454    0.075604  0.133405           0.644307\n",
       "Chloe          0.503277    0.043384  0.217463           0.874210\n",
       "Riley          0.738604    0.881630  0.127277           0.090009\n",
       "Prudence       0.817338    0.559425  0.790462           0.450914"
      ]
     },
     "execution_count": 29,
     "metadata": {},
     "output_type": "execute_result"
    }
   ],
   "source": [
    "dfGroupies = DataFrame(np.random.rand(6, 4),\n",
    "                       columns=['Justin Bieber', 'Kayne West', 'Timber', 'Pharrell Williams'],\n",
    "                       index=['Madison', 'Ashley', 'Zoe', 'Chloe', 'Riley', 'Prudence']\n",
    "                       )\n",
    "wwC = r\"I got that off-black Cadillac, midnight drive; Got that gas pedal, leaned back, taking my time; I’m rollin' out, roof off, letting in sky; I shine, the city never looked so bright\".split('; ')\n",
    "wwFn = lambda seq : wwC[int(sum(seq)*1000) % len(wwC)]; wwFn.func_name = 'WW'\n",
    "dfGroupies"
   ]
  },
  {
   "cell_type": "code",
   "execution_count": 127,
   "metadata": {
    "collapsed": false
   },
   "outputs": [
    {
     "ename": "NotImplementedError",
     "evalue": "",
     "output_type": "error",
     "traceback": [
      "\u001b[1;31m---------------------------------------------------------------------------\u001b[0m\n\u001b[1;31mNotImplementedError\u001b[0m                       Traceback (most recent call last)",
      "\u001b[1;32m<ipython-input-127-82c75e216ec6>\u001b[0m in \u001b[0;36m<module>\u001b[1;34m()\u001b[0m\n\u001b[0;32m      1\u001b[0m \u001b[1;31m# Groups via a dict\u001b[0m\u001b[1;33m\u001b[0m\u001b[1;33m\u001b[0m\u001b[0m\n\u001b[0;32m      2\u001b[0m \u001b[0mgroupieGroups\u001b[0m \u001b[1;33m=\u001b[0m \u001b[0mdfGroupies\u001b[0m\u001b[1;33m.\u001b[0m\u001b[0mgroupby\u001b[0m\u001b[1;33m(\u001b[0m\u001b[1;33m{\u001b[0m\u001b[1;34m'Justin Bieber'\u001b[0m\u001b[1;33m:\u001b[0m\u001b[1;34m'DB'\u001b[0m\u001b[1;33m,\u001b[0m \u001b[1;34m'Kayne West'\u001b[0m\u001b[1;33m:\u001b[0m\u001b[1;34m'DB'\u001b[0m\u001b[1;33m,\u001b[0m \u001b[1;34m'Timber'\u001b[0m\u001b[1;33m:\u001b[0m\u001b[1;34m'R&B'\u001b[0m\u001b[1;33m,\u001b[0m \u001b[1;34m'Pharrell Williams'\u001b[0m\u001b[1;33m:\u001b[0m\u001b[1;34m'R&B'\u001b[0m\u001b[1;33m}\u001b[0m\u001b[1;33m,\u001b[0m \u001b[0maxis\u001b[0m\u001b[1;33m=\u001b[0m\u001b[1;36m1\u001b[0m\u001b[1;33m)\u001b[0m\u001b[1;33m\u001b[0m\u001b[0m\n\u001b[1;32m----> 3\u001b[1;33m \u001b[0mgroupieGroups\u001b[0m\u001b[1;33m.\u001b[0m\u001b[0magg\u001b[0m\u001b[1;33m(\u001b[0m\u001b[1;33m[\u001b[0m\u001b[0mnp\u001b[0m\u001b[1;33m.\u001b[0m\u001b[0msum\u001b[0m\u001b[1;33m,\u001b[0m \u001b[0mwwFn\u001b[0m\u001b[1;33m]\u001b[0m\u001b[1;33m,\u001b[0m \u001b[0maxis\u001b[0m\u001b[1;33m=\u001b[0m\u001b[1;36m1\u001b[0m\u001b[1;33m)\u001b[0m\u001b[1;33m\u001b[0m\u001b[0m\n\u001b[0m\u001b[0;32m      4\u001b[0m \u001b[1;33m\u001b[0m\u001b[0m\n\u001b[0;32m      5\u001b[0m \u001b[1;31m# Apparently, multiple function application does not work if the aggregation axis is not 0\u001b[0m\u001b[1;33m\u001b[0m\u001b[1;33m\u001b[0m\u001b[0m\n",
      "\u001b[1;32mC:\\Python27\\lib\\site-packages\\pandas\\core\\groupby.pyc\u001b[0m in \u001b[0;36magg\u001b[1;34m(self, func, *args, **kwargs)\u001b[0m\n\u001b[0;32m    342\u001b[0m     \u001b[1;33m@\u001b[0m\u001b[0mAppender\u001b[0m\u001b[1;33m(\u001b[0m\u001b[0m_agg_doc\u001b[0m\u001b[1;33m)\u001b[0m\u001b[1;33m\u001b[0m\u001b[0m\n\u001b[0;32m    343\u001b[0m     \u001b[1;32mdef\u001b[0m \u001b[0magg\u001b[0m\u001b[1;33m(\u001b[0m\u001b[0mself\u001b[0m\u001b[1;33m,\u001b[0m \u001b[0mfunc\u001b[0m\u001b[1;33m,\u001b[0m \u001b[1;33m*\u001b[0m\u001b[0margs\u001b[0m\u001b[1;33m,\u001b[0m \u001b[1;33m**\u001b[0m\u001b[0mkwargs\u001b[0m\u001b[1;33m)\u001b[0m\u001b[1;33m:\u001b[0m\u001b[1;33m\u001b[0m\u001b[0m\n\u001b[1;32m--> 344\u001b[1;33m         \u001b[1;32mreturn\u001b[0m \u001b[0mself\u001b[0m\u001b[1;33m.\u001b[0m\u001b[0maggregate\u001b[0m\u001b[1;33m(\u001b[0m\u001b[0mfunc\u001b[0m\u001b[1;33m,\u001b[0m \u001b[1;33m*\u001b[0m\u001b[0margs\u001b[0m\u001b[1;33m,\u001b[0m \u001b[1;33m**\u001b[0m\u001b[0mkwargs\u001b[0m\u001b[1;33m)\u001b[0m\u001b[1;33m\u001b[0m\u001b[0m\n\u001b[0m\u001b[0;32m    345\u001b[0m \u001b[1;33m\u001b[0m\u001b[0m\n\u001b[0;32m    346\u001b[0m     \u001b[1;32mdef\u001b[0m \u001b[0m_iterate_slices\u001b[0m\u001b[1;33m(\u001b[0m\u001b[0mself\u001b[0m\u001b[1;33m)\u001b[0m\u001b[1;33m:\u001b[0m\u001b[1;33m\u001b[0m\u001b[0m\n",
      "\u001b[1;32mC:\\Python27\\lib\\site-packages\\pandas\\core\\groupby.pyc\u001b[0m in \u001b[0;36maggregate\u001b[1;34m(self, arg, *args, **kwargs)\u001b[0m\n\u001b[0;32m   1734\u001b[0m                 \u001b[0mresult\u001b[0m \u001b[1;33m=\u001b[0m \u001b[0mDataFrame\u001b[0m\u001b[1;33m(\u001b[0m\u001b[0mresult\u001b[0m\u001b[1;33m)\u001b[0m\u001b[1;33m\u001b[0m\u001b[0m\n\u001b[0;32m   1735\u001b[0m         \u001b[1;32melif\u001b[0m \u001b[0misinstance\u001b[0m\u001b[1;33m(\u001b[0m\u001b[0marg\u001b[0m\u001b[1;33m,\u001b[0m \u001b[0mlist\u001b[0m\u001b[1;33m)\u001b[0m\u001b[1;33m:\u001b[0m\u001b[1;33m\u001b[0m\u001b[0m\n\u001b[1;32m-> 1736\u001b[1;33m             \u001b[1;32mreturn\u001b[0m \u001b[0mself\u001b[0m\u001b[1;33m.\u001b[0m\u001b[0m_aggregate_multiple_funcs\u001b[0m\u001b[1;33m(\u001b[0m\u001b[0marg\u001b[0m\u001b[1;33m)\u001b[0m\u001b[1;33m\u001b[0m\u001b[0m\n\u001b[0m\u001b[0;32m   1737\u001b[0m         \u001b[1;32melse\u001b[0m\u001b[1;33m:\u001b[0m\u001b[1;33m\u001b[0m\u001b[0m\n\u001b[0;32m   1738\u001b[0m             \u001b[0mcyfunc\u001b[0m \u001b[1;33m=\u001b[0m \u001b[0m_intercept_cython\u001b[0m\u001b[1;33m(\u001b[0m\u001b[0marg\u001b[0m\u001b[1;33m)\u001b[0m\u001b[1;33m\u001b[0m\u001b[0m\n",
      "\u001b[1;32mC:\\Python27\\lib\\site-packages\\pandas\\core\\groupby.pyc\u001b[0m in \u001b[0;36m_aggregate_multiple_funcs\u001b[1;34m(self, arg)\u001b[0m\n\u001b[0;32m   1766\u001b[0m \u001b[1;33m\u001b[0m\u001b[0m\n\u001b[0;32m   1767\u001b[0m         \u001b[1;32mif\u001b[0m \u001b[0mself\u001b[0m\u001b[1;33m.\u001b[0m\u001b[0maxis\u001b[0m \u001b[1;33m!=\u001b[0m \u001b[1;36m0\u001b[0m\u001b[1;33m:\u001b[0m\u001b[1;33m\u001b[0m\u001b[0m\n\u001b[1;32m-> 1768\u001b[1;33m             \u001b[1;32mraise\u001b[0m \u001b[0mNotImplementedError\u001b[0m\u001b[1;33m\u001b[0m\u001b[0m\n\u001b[0m\u001b[0;32m   1769\u001b[0m \u001b[1;33m\u001b[0m\u001b[0m\n\u001b[0;32m   1770\u001b[0m         \u001b[0mobj\u001b[0m \u001b[1;33m=\u001b[0m \u001b[0mself\u001b[0m\u001b[1;33m.\u001b[0m\u001b[0m_obj_with_exclusions\u001b[0m\u001b[1;33m\u001b[0m\u001b[0m\n",
      "\u001b[1;31mNotImplementedError\u001b[0m: "
     ]
    }
   ],
   "source": [
    "# Groups via a dict\n",
    "groupieGroups = dfGroupies.groupby({'Justin Bieber':'DB', 'Kayne West':'DB', 'Timber':'R&B', 'Pharrell Williams':'R&B'}, axis=1)\n",
    "groupieGroups.agg([np.sum, wwFn], axis=1)\n",
    "\n",
    "# Apparently, multiple function application does not work if the aggregation axis is not 0\n",
    "#   1767         if self.axis != 0:\n",
    "#-> 1768             raise NotImplementedError"
   ]
  },
  {
   "cell_type": "code",
   "execution_count": 130,
   "metadata": {
    "collapsed": false
   },
   "outputs": [
    {
     "data": {
      "text/html": [
       "<div style=\"max-height:1000px;max-width:1500px;overflow:auto;\">\n",
       "<table border=\"1\" class=\"dataframe\">\n",
       "  <thead>\n",
       "    <tr style=\"text-align: right;\">\n",
       "      <th></th>\n",
       "      <th></th>\n",
       "      <th>DB</th>\n",
       "      <th>R&amp;B</th>\n",
       "    </tr>\n",
       "  </thead>\n",
       "  <tbody>\n",
       "    <tr>\n",
       "      <th rowspan=\"2\" valign=\"top\">Madison</th>\n",
       "      <th>sum</th>\n",
       "      <td>                                        1.033591</td>\n",
       "      <td>                                      1.490669</td>\n",
       "    </tr>\n",
       "    <tr>\n",
       "      <th>WW</th>\n",
       "      <td> Got that gas pedal, leaned back, taking my time</td>\n",
       "      <td>     I’m rollin' out, roof off, letting in sky</td>\n",
       "    </tr>\n",
       "    <tr>\n",
       "      <th rowspan=\"2\" valign=\"top\">Ashley</th>\n",
       "      <th>sum</th>\n",
       "      <td>                                       0.7312087</td>\n",
       "      <td>                                      0.139502</td>\n",
       "    </tr>\n",
       "    <tr>\n",
       "      <th>WW</th>\n",
       "      <td>        I shine, the city never looked so bright</td>\n",
       "      <td>      I shine, the city never looked so bright</td>\n",
       "    </tr>\n",
       "    <tr>\n",
       "      <th rowspan=\"2\" valign=\"top\">Zoe</th>\n",
       "      <th>sum</th>\n",
       "      <td>                                        1.450482</td>\n",
       "      <td>                                      1.231027</td>\n",
       "    </tr>\n",
       "    <tr>\n",
       "      <th>WW</th>\n",
       "      <td>       I’m rollin' out, roof off, letting in sky</td>\n",
       "      <td>      I shine, the city never looked so bright</td>\n",
       "    </tr>\n",
       "    <tr>\n",
       "      <th rowspan=\"2\" valign=\"top\">Chloe</th>\n",
       "      <th>sum</th>\n",
       "      <td>                                       0.9498591</td>\n",
       "      <td>                                      0.926957</td>\n",
       "    </tr>\n",
       "    <tr>\n",
       "      <th>WW</th>\n",
       "      <td> Got that gas pedal, leaned back, taking my time</td>\n",
       "      <td>     I’m rollin' out, roof off, letting in sky</td>\n",
       "    </tr>\n",
       "    <tr>\n",
       "      <th rowspan=\"2\" valign=\"top\">Riley</th>\n",
       "      <th>sum</th>\n",
       "      <td>                                        1.480733</td>\n",
       "      <td>                                      0.758325</td>\n",
       "    </tr>\n",
       "    <tr>\n",
       "      <th>WW</th>\n",
       "      <td>   I got that off-black Cadillac, midnight drive</td>\n",
       "      <td>     I’m rollin' out, roof off, letting in sky</td>\n",
       "    </tr>\n",
       "    <tr>\n",
       "      <th rowspan=\"2\" valign=\"top\">Prudence</th>\n",
       "      <th>sum</th>\n",
       "      <td>                                       0.7288672</td>\n",
       "      <td>                                      0.976094</td>\n",
       "    </tr>\n",
       "    <tr>\n",
       "      <th>WW</th>\n",
       "      <td>   I got that off-black Cadillac, midnight drive</td>\n",
       "      <td> I got that off-black Cadillac, midnight drive</td>\n",
       "    </tr>\n",
       "  </tbody>\n",
       "</table>\n",
       "</div>"
      ],
      "text/plain": [
       "                                                           DB                                            R&B\n",
       "Madison  sum                                         1.033591                                       1.490669\n",
       "         WW   Got that gas pedal, leaned back, taking my time      I’m rollin' out, roof off, letting in sky\n",
       "Ashley   sum                                        0.7312087                                       0.139502\n",
       "         WW          I shine, the city never looked so bright       I shine, the city never looked so bright\n",
       "Zoe      sum                                         1.450482                                       1.231027\n",
       "         WW         I’m rollin' out, roof off, letting in sky       I shine, the city never looked so bright\n",
       "Chloe    sum                                        0.9498591                                       0.926957\n",
       "         WW   Got that gas pedal, leaned back, taking my time      I’m rollin' out, roof off, letting in sky\n",
       "Riley    sum                                         1.480733                                       0.758325\n",
       "         WW     I got that off-black Cadillac, midnight drive      I’m rollin' out, roof off, letting in sky\n",
       "Prudence sum                                        0.7288672                                       0.976094\n",
       "         WW     I got that off-black Cadillac, midnight drive  I got that off-black Cadillac, midnight drive"
      ]
     },
     "execution_count": 130,
     "metadata": {},
     "output_type": "execute_result"
    }
   ],
   "source": [
    "groupieGroups = dfGroupies.T.groupby({'Justin Bieber':'DB', 'Kayne West':'DB', 'Timber':'R&B', 'Pharrell Williams':'R&B'}, axis=0)\n",
    "groupieGroups.agg([np.sum, wwFn]).T # Note the transposes"
   ]
  },
  {
   "cell_type": "code",
   "execution_count": 131,
   "metadata": {
    "collapsed": false
   },
   "outputs": [
    {
     "data": {
      "text/html": [
       "<div style=\"max-height:1000px;max-width:1500px;overflow:auto;\">\n",
       "<table border=\"1\" class=\"dataframe\">\n",
       "  <thead>\n",
       "    <tr style=\"text-align: right;\">\n",
       "      <th></th>\n",
       "      <th></th>\n",
       "      <th>DB</th>\n",
       "      <th>R&amp;B</th>\n",
       "    </tr>\n",
       "  </thead>\n",
       "  <tbody>\n",
       "    <tr>\n",
       "      <th rowspan=\"2\" valign=\"top\">Madison</th>\n",
       "      <th>sum</th>\n",
       "      <td>                                        1.033591</td>\n",
       "      <td>                                      1.490669</td>\n",
       "    </tr>\n",
       "    <tr>\n",
       "      <th>WW</th>\n",
       "      <td> Got that gas pedal, leaned back, taking my time</td>\n",
       "      <td>     I’m rollin' out, roof off, letting in sky</td>\n",
       "    </tr>\n",
       "    <tr>\n",
       "      <th rowspan=\"2\" valign=\"top\">Ashley</th>\n",
       "      <th>sum</th>\n",
       "      <td>                                       0.7312087</td>\n",
       "      <td>                                      0.139502</td>\n",
       "    </tr>\n",
       "    <tr>\n",
       "      <th>WW</th>\n",
       "      <td>        I shine, the city never looked so bright</td>\n",
       "      <td>      I shine, the city never looked so bright</td>\n",
       "    </tr>\n",
       "    <tr>\n",
       "      <th rowspan=\"2\" valign=\"top\">Zoe</th>\n",
       "      <th>sum</th>\n",
       "      <td>                                        1.450482</td>\n",
       "      <td>                                      1.231027</td>\n",
       "    </tr>\n",
       "    <tr>\n",
       "      <th>WW</th>\n",
       "      <td>       I’m rollin' out, roof off, letting in sky</td>\n",
       "      <td>      I shine, the city never looked so bright</td>\n",
       "    </tr>\n",
       "    <tr>\n",
       "      <th rowspan=\"2\" valign=\"top\">Chloe</th>\n",
       "      <th>sum</th>\n",
       "      <td>                                       0.9498591</td>\n",
       "      <td>                                      0.926957</td>\n",
       "    </tr>\n",
       "    <tr>\n",
       "      <th>WW</th>\n",
       "      <td> Got that gas pedal, leaned back, taking my time</td>\n",
       "      <td>     I’m rollin' out, roof off, letting in sky</td>\n",
       "    </tr>\n",
       "    <tr>\n",
       "      <th rowspan=\"2\" valign=\"top\">Riley</th>\n",
       "      <th>sum</th>\n",
       "      <td>                                        1.480733</td>\n",
       "      <td>                                      0.758325</td>\n",
       "    </tr>\n",
       "    <tr>\n",
       "      <th>WW</th>\n",
       "      <td>   I got that off-black Cadillac, midnight drive</td>\n",
       "      <td>     I’m rollin' out, roof off, letting in sky</td>\n",
       "    </tr>\n",
       "    <tr>\n",
       "      <th rowspan=\"2\" valign=\"top\">Prudence</th>\n",
       "      <th>sum</th>\n",
       "      <td>                                       0.7288672</td>\n",
       "      <td>                                      0.976094</td>\n",
       "    </tr>\n",
       "    <tr>\n",
       "      <th>WW</th>\n",
       "      <td>   I got that off-black Cadillac, midnight drive</td>\n",
       "      <td> I got that off-black Cadillac, midnight drive</td>\n",
       "    </tr>\n",
       "  </tbody>\n",
       "</table>\n",
       "</div>"
      ],
      "text/plain": [
       "                                                           DB                                            R&B\n",
       "Madison  sum                                         1.033591                                       1.490669\n",
       "         WW   Got that gas pedal, leaned back, taking my time      I’m rollin' out, roof off, letting in sky\n",
       "Ashley   sum                                        0.7312087                                       0.139502\n",
       "         WW          I shine, the city never looked so bright       I shine, the city never looked so bright\n",
       "Zoe      sum                                         1.450482                                       1.231027\n",
       "         WW         I’m rollin' out, roof off, letting in sky       I shine, the city never looked so bright\n",
       "Chloe    sum                                        0.9498591                                       0.926957\n",
       "         WW   Got that gas pedal, leaned back, taking my time      I’m rollin' out, roof off, letting in sky\n",
       "Riley    sum                                         1.480733                                       0.758325\n",
       "         WW     I got that off-black Cadillac, midnight drive      I’m rollin' out, roof off, letting in sky\n",
       "Prudence sum                                        0.7288672                                       0.976094\n",
       "         WW     I got that off-black Cadillac, midnight drive  I got that off-black Cadillac, midnight drive"
      ]
     },
     "execution_count": 131,
     "metadata": {},
     "output_type": "execute_result"
    }
   ],
   "source": [
    "# Groups via a series\n",
    "groupieGroups = dfGroupies.T.groupby(pd.Series({'Justin Bieber':'DB', 'Kayne West':'DB', 'Timber':'R&B', 'Pharrell Williams':'R&B'}), axis=0)\n",
    "groupieGroups.agg([np.sum, wwFn], axis = 0).T # Same issue as above"
   ]
  },
  {
   "cell_type": "code",
   "execution_count": 132,
   "metadata": {
    "collapsed": false
   },
   "outputs": [
    {
     "data": {
      "text/html": [
       "<div style=\"max-height:1000px;max-width:1500px;overflow:auto;\">\n",
       "<table border=\"1\" class=\"dataframe\">\n",
       "  <thead>\n",
       "    <tr style=\"text-align: right;\">\n",
       "      <th></th>\n",
       "      <th></th>\n",
       "      <th>DB</th>\n",
       "      <th>R&amp;B</th>\n",
       "    </tr>\n",
       "  </thead>\n",
       "  <tbody>\n",
       "    <tr>\n",
       "      <th rowspan=\"2\" valign=\"top\">Madison</th>\n",
       "      <th>sum</th>\n",
       "      <td>                                        1.033591</td>\n",
       "      <td>                                      1.490669</td>\n",
       "    </tr>\n",
       "    <tr>\n",
       "      <th>WW</th>\n",
       "      <td> Got that gas pedal, leaned back, taking my time</td>\n",
       "      <td>     I’m rollin' out, roof off, letting in sky</td>\n",
       "    </tr>\n",
       "    <tr>\n",
       "      <th rowspan=\"2\" valign=\"top\">Ashley</th>\n",
       "      <th>sum</th>\n",
       "      <td>                                       0.7312087</td>\n",
       "      <td>                                      0.139502</td>\n",
       "    </tr>\n",
       "    <tr>\n",
       "      <th>WW</th>\n",
       "      <td>        I shine, the city never looked so bright</td>\n",
       "      <td>      I shine, the city never looked so bright</td>\n",
       "    </tr>\n",
       "    <tr>\n",
       "      <th rowspan=\"2\" valign=\"top\">Zoe</th>\n",
       "      <th>sum</th>\n",
       "      <td>                                        1.450482</td>\n",
       "      <td>                                      1.231027</td>\n",
       "    </tr>\n",
       "    <tr>\n",
       "      <th>WW</th>\n",
       "      <td>       I’m rollin' out, roof off, letting in sky</td>\n",
       "      <td>      I shine, the city never looked so bright</td>\n",
       "    </tr>\n",
       "    <tr>\n",
       "      <th rowspan=\"2\" valign=\"top\">Chloe</th>\n",
       "      <th>sum</th>\n",
       "      <td>                                       0.9498591</td>\n",
       "      <td>                                      0.926957</td>\n",
       "    </tr>\n",
       "    <tr>\n",
       "      <th>WW</th>\n",
       "      <td> Got that gas pedal, leaned back, taking my time</td>\n",
       "      <td>     I’m rollin' out, roof off, letting in sky</td>\n",
       "    </tr>\n",
       "    <tr>\n",
       "      <th rowspan=\"2\" valign=\"top\">Riley</th>\n",
       "      <th>sum</th>\n",
       "      <td>                                        1.480733</td>\n",
       "      <td>                                      0.758325</td>\n",
       "    </tr>\n",
       "    <tr>\n",
       "      <th>WW</th>\n",
       "      <td>   I got that off-black Cadillac, midnight drive</td>\n",
       "      <td>     I’m rollin' out, roof off, letting in sky</td>\n",
       "    </tr>\n",
       "    <tr>\n",
       "      <th rowspan=\"2\" valign=\"top\">Prudence</th>\n",
       "      <th>sum</th>\n",
       "      <td>                                       0.7288672</td>\n",
       "      <td>                                      0.976094</td>\n",
       "    </tr>\n",
       "    <tr>\n",
       "      <th>WW</th>\n",
       "      <td>   I got that off-black Cadillac, midnight drive</td>\n",
       "      <td> I got that off-black Cadillac, midnight drive</td>\n",
       "    </tr>\n",
       "  </tbody>\n",
       "</table>\n",
       "</div>"
      ],
      "text/plain": [
       "                                                           DB                                            R&B\n",
       "Madison  sum                                         1.033591                                       1.490669\n",
       "         WW   Got that gas pedal, leaned back, taking my time      I’m rollin' out, roof off, letting in sky\n",
       "Ashley   sum                                        0.7312087                                       0.139502\n",
       "         WW          I shine, the city never looked so bright       I shine, the city never looked so bright\n",
       "Zoe      sum                                         1.450482                                       1.231027\n",
       "         WW         I’m rollin' out, roof off, letting in sky       I shine, the city never looked so bright\n",
       "Chloe    sum                                        0.9498591                                       0.926957\n",
       "         WW   Got that gas pedal, leaned back, taking my time      I’m rollin' out, roof off, letting in sky\n",
       "Riley    sum                                         1.480733                                       0.758325\n",
       "         WW     I got that off-black Cadillac, midnight drive      I’m rollin' out, roof off, letting in sky\n",
       "Prudence sum                                        0.7288672                                       0.976094\n",
       "         WW     I got that off-black Cadillac, midnight drive  I got that off-black Cadillac, midnight drive"
      ]
     },
     "execution_count": 132,
     "metadata": {},
     "output_type": "execute_result"
    }
   ],
   "source": [
    "# Groups via Functions\n",
    "gFn = lambda x: 'DB' if x[0]<'L' else 'R&B'\n",
    "groupieGroups = dfGroupies.T.groupby(gFn, axis=0)\n",
    "groupieGroups.agg([np.sum, wwFn], axis=0).T # Same issue as above"
   ]
  },
  {
   "cell_type": "markdown",
   "metadata": {},
   "source": [
    "### \"Group Apply\": Multicolumn Functions in Groups"
   ]
  },
  {
   "cell_type": "markdown",
   "metadata": {},
   "source": [
    "##### A Simple Weighted Average"
   ]
  },
  {
   "cell_type": "code",
   "execution_count": 133,
   "metadata": {
    "collapsed": false
   },
   "outputs": [
    {
     "data": {
      "text/html": [
       "<div style=\"max-height:1000px;max-width:1500px;overflow:auto;\">\n",
       "<table border=\"1\" class=\"dataframe\">\n",
       "  <thead>\n",
       "    <tr style=\"text-align: right;\">\n",
       "      <th></th>\n",
       "      <th>category</th>\n",
       "      <th>data</th>\n",
       "      <th>weights</th>\n",
       "    </tr>\n",
       "  </thead>\n",
       "  <tbody>\n",
       "    <tr>\n",
       "      <th>0</th>\n",
       "      <td> G1</td>\n",
       "      <td> 0.816024</td>\n",
       "      <td> 0.989102</td>\n",
       "    </tr>\n",
       "    <tr>\n",
       "      <th>1</th>\n",
       "      <td> G1</td>\n",
       "      <td>-0.643835</td>\n",
       "      <td> 0.112359</td>\n",
       "    </tr>\n",
       "    <tr>\n",
       "      <th>2</th>\n",
       "      <td> G1</td>\n",
       "      <td> 0.439370</td>\n",
       "      <td> 0.143807</td>\n",
       "    </tr>\n",
       "    <tr>\n",
       "      <th>3</th>\n",
       "      <td> G2</td>\n",
       "      <td>-0.208202</td>\n",
       "      <td> 0.371729</td>\n",
       "    </tr>\n",
       "    <tr>\n",
       "      <th>4</th>\n",
       "      <td> G2</td>\n",
       "      <td>-0.877284</td>\n",
       "      <td> 0.425562</td>\n",
       "    </tr>\n",
       "    <tr>\n",
       "      <th>5</th>\n",
       "      <td> G2</td>\n",
       "      <td>-1.135883</td>\n",
       "      <td> 0.359169</td>\n",
       "    </tr>\n",
       "    <tr>\n",
       "      <th>6</th>\n",
       "      <td> G1</td>\n",
       "      <td>-0.441136</td>\n",
       "      <td> 0.897092</td>\n",
       "    </tr>\n",
       "    <tr>\n",
       "      <th>7</th>\n",
       "      <td> G1</td>\n",
       "      <td>-2.262061</td>\n",
       "      <td> 0.379309</td>\n",
       "    </tr>\n",
       "    <tr>\n",
       "      <th>8</th>\n",
       "      <td> G2</td>\n",
       "      <td> 0.202547</td>\n",
       "      <td> 0.062038</td>\n",
       "    </tr>\n",
       "    <tr>\n",
       "      <th>9</th>\n",
       "      <td> G2</td>\n",
       "      <td>-0.059073</td>\n",
       "      <td> 0.732414</td>\n",
       "    </tr>\n",
       "  </tbody>\n",
       "</table>\n",
       "</div>"
      ],
      "text/plain": [
       "  category      data   weights\n",
       "0       G1  0.816024  0.989102\n",
       "1       G1 -0.643835  0.112359\n",
       "2       G1  0.439370  0.143807\n",
       "3       G2 -0.208202  0.371729\n",
       "4       G2 -0.877284  0.425562\n",
       "5       G2 -1.135883  0.359169\n",
       "6       G1 -0.441136  0.897092\n",
       "7       G1 -2.262061  0.379309\n",
       "8       G2  0.202547  0.062038\n",
       "9       G2 -0.059073  0.732414"
      ]
     },
     "execution_count": 133,
     "metadata": {},
     "output_type": "execute_result"
    }
   ],
   "source": [
    "dfReadings = DataFrame({'category': ['G1']*3 + ['G2']*3 + ['G1']*2 + ['G2']*2,\n",
    "                        'data': np.random.randn(10),\n",
    "                        'weights': np.random.rand(10)})\n",
    "wtMeanDF = lambda df : np.average(df['data'], weights=df['weights'])\n",
    "dfReadings"
   ]
  },
  {
   "cell_type": "code",
   "execution_count": 134,
   "metadata": {
    "collapsed": false
   },
   "outputs": [
    {
     "data": {
      "text/plain": [
       "category\n",
       "G1         -0.180747\n",
       "G2         -0.455893\n",
       "dtype: float64"
      ]
     },
     "execution_count": 134,
     "metadata": {},
     "output_type": "execute_result"
    }
   ],
   "source": [
    "dfReadings.groupby('category').apply(wtMeanDF)"
   ]
  },
  {
   "cell_type": "markdown",
   "metadata": {},
   "source": [
    "##### Linear Regression on Groups"
   ]
  },
  {
   "cell_type": "code",
   "execution_count": 135,
   "metadata": {
    "collapsed": false
   },
   "outputs": [
    {
     "data": {
      "text/html": [
       "<div style=\"max-height:1000px;max-width:1500px;overflow:auto;\">\n",
       "<table border=\"1\" class=\"dataframe\">\n",
       "  <thead>\n",
       "    <tr style=\"text-align: right;\">\n",
       "      <th></th>\n",
       "      <th>AAPL</th>\n",
       "      <th>AMGN</th>\n",
       "      <th>BRK.B</th>\n",
       "      <th>COST</th>\n",
       "      <th>GPS</th>\n",
       "      <th>IBM</th>\n",
       "      <th>SPLS</th>\n",
       "      <th>^GSPC</th>\n",
       "    </tr>\n",
       "  </thead>\n",
       "  <tbody>\n",
       "    <tr>\n",
       "      <th>2001</th>\n",
       "      <td> 248</td>\n",
       "      <td> 248</td>\n",
       "      <td> 248</td>\n",
       "      <td> 248</td>\n",
       "      <td> 248</td>\n",
       "      <td> 248</td>\n",
       "      <td> 248</td>\n",
       "      <td> 248</td>\n",
       "    </tr>\n",
       "    <tr>\n",
       "      <th>2002</th>\n",
       "      <td> 252</td>\n",
       "      <td> 252</td>\n",
       "      <td> 252</td>\n",
       "      <td> 252</td>\n",
       "      <td> 252</td>\n",
       "      <td> 252</td>\n",
       "      <td> 251</td>\n",
       "      <td> 252</td>\n",
       "    </tr>\n",
       "    <tr>\n",
       "      <th>2003</th>\n",
       "      <td> 252</td>\n",
       "      <td> 252</td>\n",
       "      <td> 252</td>\n",
       "      <td> 252</td>\n",
       "      <td> 252</td>\n",
       "      <td> 252</td>\n",
       "      <td> 252</td>\n",
       "      <td> 252</td>\n",
       "    </tr>\n",
       "    <tr>\n",
       "      <th>2004</th>\n",
       "      <td> 252</td>\n",
       "      <td> 252</td>\n",
       "      <td> 252</td>\n",
       "      <td> 252</td>\n",
       "      <td> 252</td>\n",
       "      <td> 252</td>\n",
       "      <td> 252</td>\n",
       "      <td> 252</td>\n",
       "    </tr>\n",
       "    <tr>\n",
       "      <th>2005</th>\n",
       "      <td> 252</td>\n",
       "      <td> 252</td>\n",
       "      <td> 252</td>\n",
       "      <td> 252</td>\n",
       "      <td> 252</td>\n",
       "      <td> 252</td>\n",
       "      <td> 252</td>\n",
       "      <td> 252</td>\n",
       "    </tr>\n",
       "    <tr>\n",
       "      <th>2006</th>\n",
       "      <td> 251</td>\n",
       "      <td> 251</td>\n",
       "      <td> 251</td>\n",
       "      <td> 251</td>\n",
       "      <td> 251</td>\n",
       "      <td> 251</td>\n",
       "      <td> 251</td>\n",
       "      <td> 251</td>\n",
       "    </tr>\n",
       "    <tr>\n",
       "      <th>2007</th>\n",
       "      <td> 251</td>\n",
       "      <td> 251</td>\n",
       "      <td> 251</td>\n",
       "      <td> 251</td>\n",
       "      <td> 251</td>\n",
       "      <td> 251</td>\n",
       "      <td> 251</td>\n",
       "      <td> 251</td>\n",
       "    </tr>\n",
       "    <tr>\n",
       "      <th>2008</th>\n",
       "      <td> 253</td>\n",
       "      <td> 253</td>\n",
       "      <td> 253</td>\n",
       "      <td> 253</td>\n",
       "      <td> 253</td>\n",
       "      <td> 253</td>\n",
       "      <td> 253</td>\n",
       "      <td> 253</td>\n",
       "    </tr>\n",
       "    <tr>\n",
       "      <th>2009</th>\n",
       "      <td> 252</td>\n",
       "      <td> 252</td>\n",
       "      <td> 252</td>\n",
       "      <td> 252</td>\n",
       "      <td> 252</td>\n",
       "      <td> 252</td>\n",
       "      <td> 252</td>\n",
       "      <td> 252</td>\n",
       "    </tr>\n",
       "    <tr>\n",
       "      <th>2010</th>\n",
       "      <td> 252</td>\n",
       "      <td> 252</td>\n",
       "      <td> 252</td>\n",
       "      <td> 252</td>\n",
       "      <td> 252</td>\n",
       "      <td> 252</td>\n",
       "      <td> 252</td>\n",
       "      <td> 252</td>\n",
       "    </tr>\n",
       "    <tr>\n",
       "      <th>2011</th>\n",
       "      <td> 252</td>\n",
       "      <td> 252</td>\n",
       "      <td> 252</td>\n",
       "      <td> 252</td>\n",
       "      <td> 252</td>\n",
       "      <td> 252</td>\n",
       "      <td> 252</td>\n",
       "      <td> 252</td>\n",
       "    </tr>\n",
       "    <tr>\n",
       "      <th>2012</th>\n",
       "      <td> 250</td>\n",
       "      <td> 250</td>\n",
       "      <td> 250</td>\n",
       "      <td> 250</td>\n",
       "      <td> 250</td>\n",
       "      <td> 250</td>\n",
       "      <td> 250</td>\n",
       "      <td> 250</td>\n",
       "    </tr>\n",
       "    <tr>\n",
       "      <th>2013</th>\n",
       "      <td> 252</td>\n",
       "      <td> 252</td>\n",
       "      <td> 252</td>\n",
       "      <td> 252</td>\n",
       "      <td> 252</td>\n",
       "      <td> 252</td>\n",
       "      <td> 252</td>\n",
       "      <td> 252</td>\n",
       "    </tr>\n",
       "  </tbody>\n",
       "</table>\n",
       "</div>"
      ],
      "text/plain": [
       "      AAPL  AMGN  BRK.B  COST  GPS  IBM  SPLS  ^GSPC\n",
       "2001   248   248    248   248  248  248   248    248\n",
       "2002   252   252    252   252  252  252   251    252\n",
       "2003   252   252    252   252  252  252   252    252\n",
       "2004   252   252    252   252  252  252   252    252\n",
       "2005   252   252    252   252  252  252   252    252\n",
       "2006   251   251    251   251  251  251   251    251\n",
       "2007   251   251    251   251  251  251   251    251\n",
       "2008   253   253    253   253  253  253   253    253\n",
       "2009   252   252    252   252  252  252   252    252\n",
       "2010   252   252    252   252  252  252   252    252\n",
       "2011   252   252    252   252  252  252   252    252\n",
       "2012   250   250    250   250  250  250   250    250\n",
       "2013   252   252    252   252  252  252   252    252"
      ]
     },
     "execution_count": 135,
     "metadata": {},
     "output_type": "execute_result"
    }
   ],
   "source": [
    "stock_ticker_list = ['AAPL', 'COST', 'SPLS', 'GPS', 'IBM', 'AMGN', 'BRK.B']\n",
    "some_stock_data = {}\n",
    "for ticker in ['^GSPC']+stock_ticker_list: # Stuff I can see now: Why do I have \"assorted rubber bands (gomitas surtidos)\" from SPLS??\n",
    "    some_stock_data[ticker] = pd.read_csv('S&P500\\\\S&P500_Data_%s.csv' % ticker, index_col=0, parse_dates=True)\n",
    "stock_prices = DataFrame({tic: data['Adj Close']\n",
    "                   for tic, data in some_stock_data.iteritems()})\n",
    "stocks_gropuped_by_year = stock_prices.ix[datetime.date(2001,1,1):datetime.date(2013,12,31)].groupby(lambda x: x.year)\n",
    "stocks_gropuped_by_year.count()"
   ]
  },
  {
   "cell_type": "code",
   "execution_count": 136,
   "metadata": {
    "collapsed": false
   },
   "outputs": [],
   "source": [
    "stock_prices.ffill(inplace=True)\n",
    "stock_prices.bfill(inplace=True)"
   ]
  },
  {
   "cell_type": "code",
   "execution_count": 137,
   "metadata": {
    "collapsed": false
   },
   "outputs": [
    {
     "data": {
      "text/html": [
       "<div style=\"max-height:1000px;max-width:1500px;overflow:auto;\">\n",
       "<table border=\"1\" class=\"dataframe\">\n",
       "  <thead>\n",
       "    <tr style=\"text-align: right;\">\n",
       "      <th></th>\n",
       "      <th>AAPL</th>\n",
       "      <th>AMGN</th>\n",
       "      <th>BRK.B</th>\n",
       "      <th>COST</th>\n",
       "      <th>GPS</th>\n",
       "      <th>IBM</th>\n",
       "      <th>SPLS</th>\n",
       "      <th>^GSPC</th>\n",
       "    </tr>\n",
       "  </thead>\n",
       "  <tbody>\n",
       "    <tr>\n",
       "      <th>2001</th>\n",
       "      <td> 248</td>\n",
       "      <td> 248</td>\n",
       "      <td> 248</td>\n",
       "      <td> 248</td>\n",
       "      <td> 248</td>\n",
       "      <td> 248</td>\n",
       "      <td> 248</td>\n",
       "      <td> 248</td>\n",
       "    </tr>\n",
       "    <tr>\n",
       "      <th>2002</th>\n",
       "      <td> 252</td>\n",
       "      <td> 252</td>\n",
       "      <td> 252</td>\n",
       "      <td> 252</td>\n",
       "      <td> 252</td>\n",
       "      <td> 252</td>\n",
       "      <td> 252</td>\n",
       "      <td> 252</td>\n",
       "    </tr>\n",
       "    <tr>\n",
       "      <th>2003</th>\n",
       "      <td> 252</td>\n",
       "      <td> 252</td>\n",
       "      <td> 252</td>\n",
       "      <td> 252</td>\n",
       "      <td> 252</td>\n",
       "      <td> 252</td>\n",
       "      <td> 252</td>\n",
       "      <td> 252</td>\n",
       "    </tr>\n",
       "    <tr>\n",
       "      <th>2004</th>\n",
       "      <td> 252</td>\n",
       "      <td> 252</td>\n",
       "      <td> 252</td>\n",
       "      <td> 252</td>\n",
       "      <td> 252</td>\n",
       "      <td> 252</td>\n",
       "      <td> 252</td>\n",
       "      <td> 252</td>\n",
       "    </tr>\n",
       "    <tr>\n",
       "      <th>2005</th>\n",
       "      <td> 252</td>\n",
       "      <td> 252</td>\n",
       "      <td> 252</td>\n",
       "      <td> 252</td>\n",
       "      <td> 252</td>\n",
       "      <td> 252</td>\n",
       "      <td> 252</td>\n",
       "      <td> 252</td>\n",
       "    </tr>\n",
       "    <tr>\n",
       "      <th>2006</th>\n",
       "      <td> 251</td>\n",
       "      <td> 251</td>\n",
       "      <td> 251</td>\n",
       "      <td> 251</td>\n",
       "      <td> 251</td>\n",
       "      <td> 251</td>\n",
       "      <td> 251</td>\n",
       "      <td> 251</td>\n",
       "    </tr>\n",
       "    <tr>\n",
       "      <th>2007</th>\n",
       "      <td> 251</td>\n",
       "      <td> 251</td>\n",
       "      <td> 251</td>\n",
       "      <td> 251</td>\n",
       "      <td> 251</td>\n",
       "      <td> 251</td>\n",
       "      <td> 251</td>\n",
       "      <td> 251</td>\n",
       "    </tr>\n",
       "    <tr>\n",
       "      <th>2008</th>\n",
       "      <td> 253</td>\n",
       "      <td> 253</td>\n",
       "      <td> 253</td>\n",
       "      <td> 253</td>\n",
       "      <td> 253</td>\n",
       "      <td> 253</td>\n",
       "      <td> 253</td>\n",
       "      <td> 253</td>\n",
       "    </tr>\n",
       "    <tr>\n",
       "      <th>2009</th>\n",
       "      <td> 252</td>\n",
       "      <td> 252</td>\n",
       "      <td> 252</td>\n",
       "      <td> 252</td>\n",
       "      <td> 252</td>\n",
       "      <td> 252</td>\n",
       "      <td> 252</td>\n",
       "      <td> 252</td>\n",
       "    </tr>\n",
       "    <tr>\n",
       "      <th>2010</th>\n",
       "      <td> 252</td>\n",
       "      <td> 252</td>\n",
       "      <td> 252</td>\n",
       "      <td> 252</td>\n",
       "      <td> 252</td>\n",
       "      <td> 252</td>\n",
       "      <td> 252</td>\n",
       "      <td> 252</td>\n",
       "    </tr>\n",
       "    <tr>\n",
       "      <th>2011</th>\n",
       "      <td> 252</td>\n",
       "      <td> 252</td>\n",
       "      <td> 252</td>\n",
       "      <td> 252</td>\n",
       "      <td> 252</td>\n",
       "      <td> 252</td>\n",
       "      <td> 252</td>\n",
       "      <td> 252</td>\n",
       "    </tr>\n",
       "    <tr>\n",
       "      <th>2012</th>\n",
       "      <td> 250</td>\n",
       "      <td> 250</td>\n",
       "      <td> 250</td>\n",
       "      <td> 250</td>\n",
       "      <td> 250</td>\n",
       "      <td> 250</td>\n",
       "      <td> 250</td>\n",
       "      <td> 250</td>\n",
       "    </tr>\n",
       "    <tr>\n",
       "      <th>2013</th>\n",
       "      <td> 252</td>\n",
       "      <td> 252</td>\n",
       "      <td> 252</td>\n",
       "      <td> 252</td>\n",
       "      <td> 252</td>\n",
       "      <td> 252</td>\n",
       "      <td> 252</td>\n",
       "      <td> 252</td>\n",
       "    </tr>\n",
       "  </tbody>\n",
       "</table>\n",
       "</div>"
      ],
      "text/plain": [
       "      AAPL  AMGN  BRK.B  COST  GPS  IBM  SPLS  ^GSPC\n",
       "2001   248   248    248   248  248  248   248    248\n",
       "2002   252   252    252   252  252  252   252    252\n",
       "2003   252   252    252   252  252  252   252    252\n",
       "2004   252   252    252   252  252  252   252    252\n",
       "2005   252   252    252   252  252  252   252    252\n",
       "2006   251   251    251   251  251  251   251    251\n",
       "2007   251   251    251   251  251  251   251    251\n",
       "2008   253   253    253   253  253  253   253    253\n",
       "2009   252   252    252   252  252  252   252    252\n",
       "2010   252   252    252   252  252  252   252    252\n",
       "2011   252   252    252   252  252  252   252    252\n",
       "2012   250   250    250   250  250  250   250    250\n",
       "2013   252   252    252   252  252  252   252    252"
      ]
     },
     "execution_count": 137,
     "metadata": {},
     "output_type": "execute_result"
    }
   ],
   "source": [
    "stocks_gropuped_by_year.count()"
   ]
  },
  {
   "cell_type": "code",
   "execution_count": 138,
   "metadata": {
    "collapsed": false
   },
   "outputs": [
    {
     "data": {
      "text/html": [
       "<div style=\"max-height:1000px;max-width:1500px;overflow:auto;\">\n",
       "<table border=\"1\" class=\"dataframe\">\n",
       "  <thead>\n",
       "    <tr style=\"text-align: right;\">\n",
       "      <th></th>\n",
       "      <th>AAPL</th>\n",
       "      <th>AMGN</th>\n",
       "      <th>BRK.B</th>\n",
       "      <th>COST</th>\n",
       "      <th>GPS</th>\n",
       "      <th>IBM</th>\n",
       "      <th>SPLS</th>\n",
       "      <th>^GSPC</th>\n",
       "    </tr>\n",
       "  </thead>\n",
       "  <tbody>\n",
       "    <tr>\n",
       "      <th>2001</th>\n",
       "      <td> 0.393230</td>\n",
       "      <td> 0.592460</td>\n",
       "      <td>-0.152291</td>\n",
       "      <td> 0.427374</td>\n",
       "      <td> 0.844933</td>\n",
       "      <td> 0.312341</td>\n",
       "      <td> 0.076358</td>\n",
       "      <td> 1</td>\n",
       "    </tr>\n",
       "    <tr>\n",
       "      <th>2002</th>\n",
       "      <td> 0.945934</td>\n",
       "      <td> 0.732072</td>\n",
       "      <td> 0.298002</td>\n",
       "      <td> 0.875640</td>\n",
       "      <td> 0.530216</td>\n",
       "      <td> 0.840643</td>\n",
       "      <td> 0.762041</td>\n",
       "      <td> 1</td>\n",
       "    </tr>\n",
       "    <tr>\n",
       "      <th>2003</th>\n",
       "      <td> 0.882700</td>\n",
       "      <td> 0.581888</td>\n",
       "      <td> 0.916359</td>\n",
       "      <td> 0.634316</td>\n",
       "      <td> 0.927290</td>\n",
       "      <td> 0.842941</td>\n",
       "      <td> 0.868161</td>\n",
       "      <td> 1</td>\n",
       "    </tr>\n",
       "    <tr>\n",
       "      <th>2004</th>\n",
       "      <td> 0.638094</td>\n",
       "      <td> 0.609980</td>\n",
       "      <td>-0.044215</td>\n",
       "      <td> 0.549656</td>\n",
       "      <td> 0.120240</td>\n",
       "      <td> 0.784015</td>\n",
       "      <td> 0.568585</td>\n",
       "      <td> 1</td>\n",
       "    </tr>\n",
       "    <tr>\n",
       "      <th>2005</th>\n",
       "      <td> 0.743265</td>\n",
       "      <td> 0.754484</td>\n",
       "      <td> 0.183083</td>\n",
       "      <td> 0.500665</td>\n",
       "      <td>-0.430450</td>\n",
       "      <td> 0.124470</td>\n",
       "      <td> 0.807563</td>\n",
       "      <td> 1</td>\n",
       "    </tr>\n",
       "    <tr>\n",
       "      <th>2006</th>\n",
       "      <td> 0.838226</td>\n",
       "      <td> 0.260556</td>\n",
       "      <td> 0.875795</td>\n",
       "      <td> 0.060913</td>\n",
       "      <td> 0.833992</td>\n",
       "      <td> 0.949364</td>\n",
       "      <td> 0.725999</td>\n",
       "      <td> 1</td>\n",
       "    </tr>\n",
       "    <tr>\n",
       "      <th>2007</th>\n",
       "      <td> 0.483095</td>\n",
       "      <td>-0.317536</td>\n",
       "      <td> 0.171108</td>\n",
       "      <td> 0.357574</td>\n",
       "      <td> 0.083473</td>\n",
       "      <td> 0.674539</td>\n",
       "      <td>-0.315136</td>\n",
       "      <td> 1</td>\n",
       "    </tr>\n",
       "    <tr>\n",
       "      <th>2008</th>\n",
       "      <td> 0.829410</td>\n",
       "      <td>-0.543443</td>\n",
       "      <td> 0.802490</td>\n",
       "      <td> 0.879629</td>\n",
       "      <td> 0.888149</td>\n",
       "      <td> 0.824474</td>\n",
       "      <td> 0.838396</td>\n",
       "      <td> 1</td>\n",
       "    </tr>\n",
       "    <tr>\n",
       "      <th>2009</th>\n",
       "      <td> 0.952896</td>\n",
       "      <td> 0.575831</td>\n",
       "      <td> 0.894488</td>\n",
       "      <td> 0.925054</td>\n",
       "      <td> 0.952086</td>\n",
       "      <td> 0.944735</td>\n",
       "      <td> 0.931335</td>\n",
       "      <td> 1</td>\n",
       "    </tr>\n",
       "    <tr>\n",
       "      <th>2010</th>\n",
       "      <td> 0.617888</td>\n",
       "      <td> 0.453919</td>\n",
       "      <td> 0.368787</td>\n",
       "      <td> 0.821140</td>\n",
       "      <td> 0.522107</td>\n",
       "      <td> 0.782999</td>\n",
       "      <td> 0.367165</td>\n",
       "      <td> 1</td>\n",
       "    </tr>\n",
       "    <tr>\n",
       "      <th>2011</th>\n",
       "      <td>-0.535327</td>\n",
       "      <td> 0.117975</td>\n",
       "      <td> 0.799468</td>\n",
       "      <td>-0.220874</td>\n",
       "      <td> 0.790171</td>\n",
       "      <td>-0.270537</td>\n",
       "      <td> 0.671625</td>\n",
       "      <td> 1</td>\n",
       "    </tr>\n",
       "    <tr>\n",
       "      <th>2012</th>\n",
       "      <td> 0.696708</td>\n",
       "      <td> 0.706448</td>\n",
       "      <td> 0.811663</td>\n",
       "      <td> 0.779611</td>\n",
       "      <td> 0.799444</td>\n",
       "      <td> 0.670722</td>\n",
       "      <td>-0.394370</td>\n",
       "      <td> 1</td>\n",
       "    </tr>\n",
       "    <tr>\n",
       "      <th>2013</th>\n",
       "      <td> 0.603379</td>\n",
       "      <td> 0.870489</td>\n",
       "      <td> 0.889056</td>\n",
       "      <td> 0.959139</td>\n",
       "      <td> 0.648825</td>\n",
       "      <td>-0.638432</td>\n",
       "      <td> 0.799895</td>\n",
       "      <td> 1</td>\n",
       "    </tr>\n",
       "  </tbody>\n",
       "</table>\n",
       "</div>"
      ],
      "text/plain": [
       "          AAPL      AMGN     BRK.B      COST       GPS       IBM      SPLS  ^GSPC\n",
       "2001  0.393230  0.592460 -0.152291  0.427374  0.844933  0.312341  0.076358      1\n",
       "2002  0.945934  0.732072  0.298002  0.875640  0.530216  0.840643  0.762041      1\n",
       "2003  0.882700  0.581888  0.916359  0.634316  0.927290  0.842941  0.868161      1\n",
       "2004  0.638094  0.609980 -0.044215  0.549656  0.120240  0.784015  0.568585      1\n",
       "2005  0.743265  0.754484  0.183083  0.500665 -0.430450  0.124470  0.807563      1\n",
       "2006  0.838226  0.260556  0.875795  0.060913  0.833992  0.949364  0.725999      1\n",
       "2007  0.483095 -0.317536  0.171108  0.357574  0.083473  0.674539 -0.315136      1\n",
       "2008  0.829410 -0.543443  0.802490  0.879629  0.888149  0.824474  0.838396      1\n",
       "2009  0.952896  0.575831  0.894488  0.925054  0.952086  0.944735  0.931335      1\n",
       "2010  0.617888  0.453919  0.368787  0.821140  0.522107  0.782999  0.367165      1\n",
       "2011 -0.535327  0.117975  0.799468 -0.220874  0.790171 -0.270537  0.671625      1\n",
       "2012  0.696708  0.706448  0.811663  0.779611  0.799444  0.670722 -0.394370      1\n",
       "2013  0.603379  0.870489  0.889056  0.959139  0.648825 -0.638432  0.799895      1"
      ]
     },
     "execution_count": 138,
     "metadata": {},
     "output_type": "execute_result"
    }
   ],
   "source": [
    "# Correlation with S&P500\n",
    "gspc_corr = lambda x: x.corrwith(x['^GSPC'])\n",
    "stocks_gropuped_by_year.apply(gspc_corr)"
   ]
  },
  {
   "cell_type": "code",
   "execution_count": 139,
   "metadata": {
    "collapsed": false
   },
   "outputs": [
    {
     "data": {
      "text/html": [
       "<div style=\"max-height:1000px;max-width:1500px;overflow:auto;\">\n",
       "<table border=\"1\" class=\"dataframe\">\n",
       "  <thead>\n",
       "    <tr style=\"text-align: right;\">\n",
       "      <th></th>\n",
       "      <th>AAPL</th>\n",
       "      <th>COST</th>\n",
       "      <th>SPLS</th>\n",
       "      <th>GPS</th>\n",
       "      <th>IBM</th>\n",
       "      <th>AMGN</th>\n",
       "      <th>BRK.B</th>\n",
       "      <th>intercept</th>\n",
       "    </tr>\n",
       "  </thead>\n",
       "  <tbody>\n",
       "    <tr>\n",
       "      <th>2001</th>\n",
       "      <td> -7.113784</td>\n",
       "      <td> 4.075206</td>\n",
       "      <td> 24.911547</td>\n",
       "      <td> 12.322108</td>\n",
       "      <td> 0.273146</td>\n",
       "      <td> 3.087762</td>\n",
       "      <td> 1.068989</td>\n",
       "      <td> 417.024316</td>\n",
       "    </tr>\n",
       "    <tr>\n",
       "      <th>2002</th>\n",
       "      <td> 18.226878</td>\n",
       "      <td> 6.691863</td>\n",
       "      <td> 17.903775</td>\n",
       "      <td> -0.048720</td>\n",
       "      <td> 2.527420</td>\n",
       "      <td> 0.615444</td>\n",
       "      <td> 1.718474</td>\n",
       "      <td> 149.150079</td>\n",
       "    </tr>\n",
       "    <tr>\n",
       "      <th>2003</th>\n",
       "      <td> 14.787312</td>\n",
       "      <td> 1.355782</td>\n",
       "      <td> -0.874019</td>\n",
       "      <td> 10.579500</td>\n",
       "      <td> 3.486531</td>\n",
       "      <td> 0.970614</td>\n",
       "      <td> 5.659728</td>\n",
       "      <td>  62.245463</td>\n",
       "    </tr>\n",
       "    <tr>\n",
       "      <th>2004</th>\n",
       "      <td>  1.301335</td>\n",
       "      <td>-0.670930</td>\n",
       "      <td> 10.976931</td>\n",
       "      <td>  4.150836</td>\n",
       "      <td> 3.706253</td>\n",
       "      <td> 2.374479</td>\n",
       "      <td> 2.087117</td>\n",
       "      <td> 338.049663</td>\n",
       "    </tr>\n",
       "    <tr>\n",
       "      <th>2005</th>\n",
       "      <td>  1.678864</td>\n",
       "      <td>-1.856986</td>\n",
       "      <td> 15.276463</td>\n",
       "      <td>  7.843098</td>\n",
       "      <td> 0.259193</td>\n",
       "      <td> 1.084332</td>\n",
       "      <td>-0.277721</td>\n",
       "      <td> 713.028616</td>\n",
       "    </tr>\n",
       "    <tr>\n",
       "      <th>2006</th>\n",
       "      <td>  1.530741</td>\n",
       "      <td>-0.848646</td>\n",
       "      <td>  9.618957</td>\n",
       "      <td>  3.482137</td>\n",
       "      <td> 2.609406</td>\n",
       "      <td>-0.294227</td>\n",
       "      <td> 2.997083</td>\n",
       "      <td> 628.327932</td>\n",
       "    </tr>\n",
       "    <tr>\n",
       "      <th>2007</th>\n",
       "      <td>  1.940077</td>\n",
       "      <td>-4.645959</td>\n",
       "      <td> 13.301635</td>\n",
       "      <td>  8.355223</td>\n",
       "      <td> 3.720405</td>\n",
       "      <td> 0.689895</td>\n",
       "      <td>-4.222925</td>\n",
       "      <td> 999.392678</td>\n",
       "    </tr>\n",
       "    <tr>\n",
       "      <th>2008</th>\n",
       "      <td>  2.720482</td>\n",
       "      <td>-3.913315</td>\n",
       "      <td> 10.457686</td>\n",
       "      <td> 22.407705</td>\n",
       "      <td> 0.557759</td>\n",
       "      <td>-4.228364</td>\n",
       "      <td> 5.936557</td>\n",
       "      <td> 191.087517</td>\n",
       "    </tr>\n",
       "    <tr>\n",
       "      <th>2009</th>\n",
       "      <td>  0.559075</td>\n",
       "      <td> 4.108979</td>\n",
       "      <td>  9.746394</td>\n",
       "      <td>  3.327866</td>\n",
       "      <td> 0.967153</td>\n",
       "      <td> 3.199484</td>\n",
       "      <td> 3.673072</td>\n",
       "      <td> -34.111982</td>\n",
       "    </tr>\n",
       "    <tr>\n",
       "      <th>2010</th>\n",
       "      <td>  0.147600</td>\n",
       "      <td> 2.130864</td>\n",
       "      <td>  2.290478</td>\n",
       "      <td>  8.346748</td>\n",
       "      <td> 4.292317</td>\n",
       "      <td> 6.176385</td>\n",
       "      <td> 0.347496</td>\n",
       "      <td>-101.086855</td>\n",
       "    </tr>\n",
       "    <tr>\n",
       "      <th>2011</th>\n",
       "      <td> -0.849081</td>\n",
       "      <td> 2.766150</td>\n",
       "      <td>  1.884526</td>\n",
       "      <td>  8.388549</td>\n",
       "      <td> 0.646917</td>\n",
       "      <td> 1.763027</td>\n",
       "      <td> 5.867324</td>\n",
       "      <td> 528.145785</td>\n",
       "    </tr>\n",
       "    <tr>\n",
       "      <th>2012</th>\n",
       "      <td>  0.120139</td>\n",
       "      <td> 1.370385</td>\n",
       "      <td> 15.241855</td>\n",
       "      <td> -0.484236</td>\n",
       "      <td> 2.294094</td>\n",
       "      <td> 3.711593</td>\n",
       "      <td> 2.876701</td>\n",
       "      <td>  66.828690</td>\n",
       "    </tr>\n",
       "    <tr>\n",
       "      <th>2013</th>\n",
       "      <td>  0.487188</td>\n",
       "      <td> 6.769512</td>\n",
       "      <td>  6.541689</td>\n",
       "      <td> -6.327821</td>\n",
       "      <td> 1.292201</td>\n",
       "      <td> 1.088944</td>\n",
       "      <td> 6.684371</td>\n",
       "      <td>-280.132203</td>\n",
       "    </tr>\n",
       "  </tbody>\n",
       "</table>\n",
       "</div>"
      ],
      "text/plain": [
       "           AAPL      COST       SPLS        GPS       IBM      AMGN     BRK.B  \\\n",
       "2001  -7.113784  4.075206  24.911547  12.322108  0.273146  3.087762  1.068989   \n",
       "2002  18.226878  6.691863  17.903775  -0.048720  2.527420  0.615444  1.718474   \n",
       "2003  14.787312  1.355782  -0.874019  10.579500  3.486531  0.970614  5.659728   \n",
       "2004   1.301335 -0.670930  10.976931   4.150836  3.706253  2.374479  2.087117   \n",
       "2005   1.678864 -1.856986  15.276463   7.843098  0.259193  1.084332 -0.277721   \n",
       "2006   1.530741 -0.848646   9.618957   3.482137  2.609406 -0.294227  2.997083   \n",
       "2007   1.940077 -4.645959  13.301635   8.355223  3.720405  0.689895 -4.222925   \n",
       "2008   2.720482 -3.913315  10.457686  22.407705  0.557759 -4.228364  5.936557   \n",
       "2009   0.559075  4.108979   9.746394   3.327866  0.967153  3.199484  3.673072   \n",
       "2010   0.147600  2.130864   2.290478   8.346748  4.292317  6.176385  0.347496   \n",
       "2011  -0.849081  2.766150   1.884526   8.388549  0.646917  1.763027  5.867324   \n",
       "2012   0.120139  1.370385  15.241855  -0.484236  2.294094  3.711593  2.876701   \n",
       "2013   0.487188  6.769512   6.541689  -6.327821  1.292201  1.088944  6.684371   \n",
       "\n",
       "       intercept  \n",
       "2001  417.024316  \n",
       "2002  149.150079  \n",
       "2003   62.245463  \n",
       "2004  338.049663  \n",
       "2005  713.028616  \n",
       "2006  628.327932  \n",
       "2007  999.392678  \n",
       "2008  191.087517  \n",
       "2009  -34.111982  \n",
       "2010 -101.086855  \n",
       "2011  528.145785  \n",
       "2012   66.828690  \n",
       "2013 -280.132203  "
      ]
     },
     "execution_count": 139,
     "metadata": {},
     "output_type": "execute_result"
    }
   ],
   "source": [
    "# Linear Regression Simple Version\n",
    "\n",
    "import statsmodels.api as sm\n",
    "def linreg(df, yvar, xvars):\n",
    "    Y = df[yvar]\n",
    "    X = df[xvars]\n",
    "    X['intercept'] = 1.\n",
    "    result = sm.OLS(Y, X).fit()\n",
    "    return result.params\n",
    "\n",
    "stocks_gropuped_by_year.apply(linreg, '^GSPC', stock_ticker_list)"
   ]
  },
  {
   "cell_type": "code",
   "execution_count": 140,
   "metadata": {
    "collapsed": false
   },
   "outputs": [
    {
     "data": {
      "text/html": [
       "<div style=\"max-height:1000px;max-width:1500px;overflow:auto;\">\n",
       "<table border=\"1\" class=\"dataframe\">\n",
       "  <thead>\n",
       "    <tr style=\"text-align: right;\">\n",
       "      <th></th>\n",
       "      <th></th>\n",
       "      <th>Coeffs</th>\n",
       "      <th>p-values</th>\n",
       "    </tr>\n",
       "  </thead>\n",
       "  <tbody>\n",
       "    <tr>\n",
       "      <th rowspan=\"8\" valign=\"top\">2001</th>\n",
       "      <th>AAPL</th>\n",
       "      <td>  -7.113784</td>\n",
       "      <td> 2.660620e-02</td>\n",
       "    </tr>\n",
       "    <tr>\n",
       "      <th>COST</th>\n",
       "      <td>   4.075206</td>\n",
       "      <td> 8.528365e-05</td>\n",
       "    </tr>\n",
       "    <tr>\n",
       "      <th>SPLS</th>\n",
       "      <td>  24.911547</td>\n",
       "      <td> 7.215682e-09</td>\n",
       "    </tr>\n",
       "    <tr>\n",
       "      <th>GPS</th>\n",
       "      <td>  12.322108</td>\n",
       "      <td> 5.305803e-53</td>\n",
       "    </tr>\n",
       "    <tr>\n",
       "      <th>IBM</th>\n",
       "      <td>   0.273146</td>\n",
       "      <td> 5.538955e-01</td>\n",
       "    </tr>\n",
       "    <tr>\n",
       "      <th>AMGN</th>\n",
       "      <td>   3.087762</td>\n",
       "      <td> 3.173930e-07</td>\n",
       "    </tr>\n",
       "    <tr>\n",
       "      <th>BRK.B</th>\n",
       "      <td>   1.068989</td>\n",
       "      <td> 4.789842e-01</td>\n",
       "    </tr>\n",
       "    <tr>\n",
       "      <th>intercept</th>\n",
       "      <td> 417.024316</td>\n",
       "      <td> 1.708504e-08</td>\n",
       "    </tr>\n",
       "    <tr>\n",
       "      <th rowspan=\"8\" valign=\"top\">2002</th>\n",
       "      <th>AAPL</th>\n",
       "      <td>  18.226878</td>\n",
       "      <td> 2.043610e-20</td>\n",
       "    </tr>\n",
       "    <tr>\n",
       "      <th>COST</th>\n",
       "      <td>   6.691863</td>\n",
       "      <td> 1.865627e-16</td>\n",
       "    </tr>\n",
       "    <tr>\n",
       "      <th>SPLS</th>\n",
       "      <td>  17.903775</td>\n",
       "      <td> 5.286304e-16</td>\n",
       "    </tr>\n",
       "    <tr>\n",
       "      <th>GPS</th>\n",
       "      <td>  -0.048720</td>\n",
       "      <td> 9.776568e-01</td>\n",
       "    </tr>\n",
       "    <tr>\n",
       "      <th>IBM</th>\n",
       "      <td>   2.527420</td>\n",
       "      <td> 8.246642e-25</td>\n",
       "    </tr>\n",
       "    <tr>\n",
       "      <th>AMGN</th>\n",
       "      <td>   0.615444</td>\n",
       "      <td> 1.225842e-01</td>\n",
       "    </tr>\n",
       "    <tr>\n",
       "      <th>BRK.B</th>\n",
       "      <td>   1.718474</td>\n",
       "      <td> 1.903366e-02</td>\n",
       "    </tr>\n",
       "    <tr>\n",
       "      <th>intercept</th>\n",
       "      <td> 149.150079</td>\n",
       "      <td> 7.348010e-05</td>\n",
       "    </tr>\n",
       "    <tr>\n",
       "      <th rowspan=\"8\" valign=\"top\">2003</th>\n",
       "      <th>AAPL</th>\n",
       "      <td>  14.787312</td>\n",
       "      <td> 2.474757e-17</td>\n",
       "    </tr>\n",
       "    <tr>\n",
       "      <th>COST</th>\n",
       "      <td>   1.355782</td>\n",
       "      <td> 4.692480e-02</td>\n",
       "    </tr>\n",
       "    <tr>\n",
       "      <th>SPLS</th>\n",
       "      <td>  -0.874019</td>\n",
       "      <td> 5.936141e-01</td>\n",
       "    </tr>\n",
       "    <tr>\n",
       "      <th>GPS</th>\n",
       "      <td>  10.579500</td>\n",
       "      <td> 2.085581e-12</td>\n",
       "    </tr>\n",
       "    <tr>\n",
       "      <th>IBM</th>\n",
       "      <td>   3.486531</td>\n",
       "      <td> 7.813588e-11</td>\n",
       "    </tr>\n",
       "    <tr>\n",
       "      <th>AMGN</th>\n",
       "      <td>   0.970614</td>\n",
       "      <td> 2.409013e-03</td>\n",
       "    </tr>\n",
       "    <tr>\n",
       "      <th>BRK.B</th>\n",
       "      <td>   5.659728</td>\n",
       "      <td> 2.127361e-09</td>\n",
       "    </tr>\n",
       "    <tr>\n",
       "      <th>intercept</th>\n",
       "      <td>  62.245463</td>\n",
       "      <td> 3.165603e-02</td>\n",
       "    </tr>\n",
       "  </tbody>\n",
       "</table>\n",
       "</div>"
      ],
      "text/plain": [
       "                    Coeffs      p-values\n",
       "2001 AAPL        -7.113784  2.660620e-02\n",
       "     COST         4.075206  8.528365e-05\n",
       "     SPLS        24.911547  7.215682e-09\n",
       "     GPS         12.322108  5.305803e-53\n",
       "     IBM          0.273146  5.538955e-01\n",
       "     AMGN         3.087762  3.173930e-07\n",
       "     BRK.B        1.068989  4.789842e-01\n",
       "     intercept  417.024316  1.708504e-08\n",
       "2002 AAPL        18.226878  2.043610e-20\n",
       "     COST         6.691863  1.865627e-16\n",
       "     SPLS        17.903775  5.286304e-16\n",
       "     GPS         -0.048720  9.776568e-01\n",
       "     IBM          2.527420  8.246642e-25\n",
       "     AMGN         0.615444  1.225842e-01\n",
       "     BRK.B        1.718474  1.903366e-02\n",
       "     intercept  149.150079  7.348010e-05\n",
       "2003 AAPL        14.787312  2.474757e-17\n",
       "     COST         1.355782  4.692480e-02\n",
       "     SPLS        -0.874019  5.936141e-01\n",
       "     GPS         10.579500  2.085581e-12\n",
       "     IBM          3.486531  7.813588e-11\n",
       "     AMGN         0.970614  2.409013e-03\n",
       "     BRK.B        5.659728  2.127361e-09\n",
       "     intercept   62.245463  3.165603e-02"
      ]
     },
     "execution_count": 140,
     "metadata": {},
     "output_type": "execute_result"
    }
   ],
   "source": [
    "# Linear Regression Fun Version\n",
    "\n",
    "import statsmodels.api as sm\n",
    "def linreg(df, yvar, xvars):\n",
    "    Y = df[yvar]\n",
    "    X = df[xvars]\n",
    "    X['intercept'] = 1.\n",
    "    result = sm.OLS(Y, X).fit()\n",
    "    return pd.DataFrame({ 'Coeffs': result.params, 'p-values': result.pvalues })\n",
    "\n",
    "LR = stocks_gropuped_by_year.apply(linreg, '^GSPC', stock_ticker_list)\n",
    "LR[:24]"
   ]
  },
  {
   "cell_type": "code",
   "execution_count": 141,
   "metadata": {
    "collapsed": false
   },
   "outputs": [
    {
     "data": {
      "text/html": [
       "<div style=\"max-height:1000px;max-width:1500px;overflow:auto;\">\n",
       "<table border=\"1\" class=\"dataframe\">\n",
       "  <thead>\n",
       "    <tr>\n",
       "      <th></th>\n",
       "      <th colspan=\"2\" halign=\"left\">AAPL</th>\n",
       "      <th colspan=\"2\" halign=\"left\">COST</th>\n",
       "      <th colspan=\"2\" halign=\"left\">SPLS</th>\n",
       "      <th colspan=\"2\" halign=\"left\">GPS</th>\n",
       "      <th colspan=\"2\" halign=\"left\">IBM</th>\n",
       "      <th colspan=\"2\" halign=\"left\">AMGN</th>\n",
       "      <th colspan=\"2\" halign=\"left\">BRK.B</th>\n",
       "      <th colspan=\"2\" halign=\"left\">intercept</th>\n",
       "    </tr>\n",
       "    <tr>\n",
       "      <th></th>\n",
       "      <th>Coeffs</th>\n",
       "      <th>p-values</th>\n",
       "      <th>Coeffs</th>\n",
       "      <th>p-values</th>\n",
       "      <th>Coeffs</th>\n",
       "      <th>p-values</th>\n",
       "      <th>Coeffs</th>\n",
       "      <th>p-values</th>\n",
       "      <th>Coeffs</th>\n",
       "      <th>p-values</th>\n",
       "      <th>Coeffs</th>\n",
       "      <th>p-values</th>\n",
       "      <th>Coeffs</th>\n",
       "      <th>p-values</th>\n",
       "      <th>Coeffs</th>\n",
       "      <th>p-values</th>\n",
       "    </tr>\n",
       "  </thead>\n",
       "  <tbody>\n",
       "    <tr>\n",
       "      <th>2001</th>\n",
       "      <td> -7.113784</td>\n",
       "      <td> 2.660620e-02</td>\n",
       "      <td> 4.075206</td>\n",
       "      <td> 8.528365e-05</td>\n",
       "      <td> 24.911547</td>\n",
       "      <td> 7.215682e-09</td>\n",
       "      <td> 12.322108</td>\n",
       "      <td> 5.305803e-53</td>\n",
       "      <td> 0.273146</td>\n",
       "      <td> 5.538955e-01</td>\n",
       "      <td> 3.087762</td>\n",
       "      <td> 3.173930e-07</td>\n",
       "      <td> 1.068989</td>\n",
       "      <td> 4.789842e-01</td>\n",
       "      <td> 417.024316</td>\n",
       "      <td> 1.708504e-08</td>\n",
       "    </tr>\n",
       "    <tr>\n",
       "      <th>2002</th>\n",
       "      <td> 18.226878</td>\n",
       "      <td> 2.043610e-20</td>\n",
       "      <td> 6.691863</td>\n",
       "      <td> 1.865627e-16</td>\n",
       "      <td> 17.903775</td>\n",
       "      <td> 5.286304e-16</td>\n",
       "      <td> -0.048720</td>\n",
       "      <td> 9.776568e-01</td>\n",
       "      <td> 2.527420</td>\n",
       "      <td> 8.246642e-25</td>\n",
       "      <td> 0.615444</td>\n",
       "      <td> 1.225842e-01</td>\n",
       "      <td> 1.718474</td>\n",
       "      <td> 1.903366e-02</td>\n",
       "      <td> 149.150079</td>\n",
       "      <td> 7.348010e-05</td>\n",
       "    </tr>\n",
       "    <tr>\n",
       "      <th>2003</th>\n",
       "      <td> 14.787312</td>\n",
       "      <td> 2.474757e-17</td>\n",
       "      <td> 1.355782</td>\n",
       "      <td> 4.692480e-02</td>\n",
       "      <td> -0.874019</td>\n",
       "      <td> 5.936141e-01</td>\n",
       "      <td> 10.579500</td>\n",
       "      <td> 2.085581e-12</td>\n",
       "      <td> 3.486531</td>\n",
       "      <td> 7.813588e-11</td>\n",
       "      <td> 0.970614</td>\n",
       "      <td> 2.409013e-03</td>\n",
       "      <td> 5.659728</td>\n",
       "      <td> 2.127361e-09</td>\n",
       "      <td>  62.245463</td>\n",
       "      <td> 3.165603e-02</td>\n",
       "    </tr>\n",
       "    <tr>\n",
       "      <th>2004</th>\n",
       "      <td>  1.301335</td>\n",
       "      <td> 4.122901e-06</td>\n",
       "      <td>-0.670930</td>\n",
       "      <td> 2.014807e-01</td>\n",
       "      <td> 10.976931</td>\n",
       "      <td> 6.922522e-23</td>\n",
       "      <td>  4.150836</td>\n",
       "      <td> 3.101741e-14</td>\n",
       "      <td> 3.706253</td>\n",
       "      <td> 3.313281e-28</td>\n",
       "      <td> 2.374479</td>\n",
       "      <td> 7.270512e-10</td>\n",
       "      <td> 2.087117</td>\n",
       "      <td> 1.859440e-08</td>\n",
       "      <td> 338.049663</td>\n",
       "      <td> 1.100075e-25</td>\n",
       "    </tr>\n",
       "    <tr>\n",
       "      <th>2005</th>\n",
       "      <td>  1.678864</td>\n",
       "      <td> 1.643512e-19</td>\n",
       "      <td>-1.856986</td>\n",
       "      <td> 3.712925e-02</td>\n",
       "      <td> 15.276463</td>\n",
       "      <td> 6.082728e-14</td>\n",
       "      <td>  7.843098</td>\n",
       "      <td> 1.469004e-11</td>\n",
       "      <td> 0.259193</td>\n",
       "      <td> 2.668748e-01</td>\n",
       "      <td> 1.084332</td>\n",
       "      <td> 7.165491e-07</td>\n",
       "      <td>-0.277721</td>\n",
       "      <td> 7.539176e-01</td>\n",
       "      <td> 713.028616</td>\n",
       "      <td> 2.174339e-51</td>\n",
       "    </tr>\n",
       "    <tr>\n",
       "      <th>2006</th>\n",
       "      <td>  1.530741</td>\n",
       "      <td> 4.555147e-14</td>\n",
       "      <td>-0.848646</td>\n",
       "      <td> 1.210896e-01</td>\n",
       "      <td>  9.618957</td>\n",
       "      <td> 1.751582e-15</td>\n",
       "      <td>  3.482137</td>\n",
       "      <td> 4.351811e-02</td>\n",
       "      <td> 2.609406</td>\n",
       "      <td> 1.586081e-06</td>\n",
       "      <td>-0.294227</td>\n",
       "      <td> 4.205149e-01</td>\n",
       "      <td> 2.997083</td>\n",
       "      <td> 4.539529e-14</td>\n",
       "      <td> 628.327932</td>\n",
       "      <td> 1.241423e-48</td>\n",
       "    </tr>\n",
       "    <tr>\n",
       "      <th>2007</th>\n",
       "      <td>  1.940077</td>\n",
       "      <td> 9.299696e-17</td>\n",
       "      <td>-4.645959</td>\n",
       "      <td> 7.866242e-05</td>\n",
       "      <td> 13.301635</td>\n",
       "      <td> 2.606458e-08</td>\n",
       "      <td>  8.355223</td>\n",
       "      <td> 1.393656e-03</td>\n",
       "      <td> 3.720405</td>\n",
       "      <td> 1.727903e-13</td>\n",
       "      <td> 0.689895</td>\n",
       "      <td> 8.870549e-02</td>\n",
       "      <td>-4.222925</td>\n",
       "      <td> 1.109055e-09</td>\n",
       "      <td> 999.392678</td>\n",
       "      <td> 5.289867e-24</td>\n",
       "    </tr>\n",
       "    <tr>\n",
       "      <th>2008</th>\n",
       "      <td>  2.720482</td>\n",
       "      <td> 6.025280e-40</td>\n",
       "      <td>-3.913315</td>\n",
       "      <td> 8.336770e-04</td>\n",
       "      <td> 10.457686</td>\n",
       "      <td> 1.421165e-04</td>\n",
       "      <td> 22.407705</td>\n",
       "      <td> 3.821233e-19</td>\n",
       "      <td> 0.557759</td>\n",
       "      <td> 1.530472e-01</td>\n",
       "      <td>-4.228364</td>\n",
       "      <td> 3.813945e-20</td>\n",
       "      <td> 5.936557</td>\n",
       "      <td> 4.675414e-26</td>\n",
       "      <td> 191.087517</td>\n",
       "      <td> 1.629492e-05</td>\n",
       "    </tr>\n",
       "    <tr>\n",
       "      <th>2009</th>\n",
       "      <td>  0.559075</td>\n",
       "      <td> 1.238028e-02</td>\n",
       "      <td> 4.108979</td>\n",
       "      <td> 3.454003e-12</td>\n",
       "      <td>  9.746394</td>\n",
       "      <td> 1.740047e-09</td>\n",
       "      <td>  3.327866</td>\n",
       "      <td> 2.629264e-02</td>\n",
       "      <td> 0.967153</td>\n",
       "      <td> 6.223719e-02</td>\n",
       "      <td> 3.199484</td>\n",
       "      <td> 5.167058e-18</td>\n",
       "      <td> 3.673072</td>\n",
       "      <td> 5.193423e-12</td>\n",
       "      <td> -34.111982</td>\n",
       "      <td> 2.727188e-01</td>\n",
       "    </tr>\n",
       "    <tr>\n",
       "      <th>2010</th>\n",
       "      <td>  0.147600</td>\n",
       "      <td> 1.764131e-01</td>\n",
       "      <td> 2.130864</td>\n",
       "      <td> 8.850068e-04</td>\n",
       "      <td>  2.290478</td>\n",
       "      <td> 2.064753e-01</td>\n",
       "      <td>  8.346748</td>\n",
       "      <td> 2.218997e-17</td>\n",
       "      <td> 4.292317</td>\n",
       "      <td> 2.017333e-16</td>\n",
       "      <td> 6.176385</td>\n",
       "      <td> 2.798605e-15</td>\n",
       "      <td> 0.347496</td>\n",
       "      <td> 3.122093e-01</td>\n",
       "      <td>-101.086855</td>\n",
       "      <td> 4.939951e-03</td>\n",
       "    </tr>\n",
       "    <tr>\n",
       "      <th>2011</th>\n",
       "      <td> -0.849081</td>\n",
       "      <td> 6.277554e-09</td>\n",
       "      <td> 2.766150</td>\n",
       "      <td> 2.453580e-02</td>\n",
       "      <td>  1.884526</td>\n",
       "      <td> 3.503703e-01</td>\n",
       "      <td>  8.388549</td>\n",
       "      <td> 4.474798e-04</td>\n",
       "      <td> 0.646917</td>\n",
       "      <td> 1.883549e-01</td>\n",
       "      <td> 1.763027</td>\n",
       "      <td> 1.216243e-01</td>\n",
       "      <td> 5.867324</td>\n",
       "      <td> 1.567559e-07</td>\n",
       "      <td> 528.145785</td>\n",
       "      <td> 9.838666e-11</td>\n",
       "    </tr>\n",
       "    <tr>\n",
       "      <th>2012</th>\n",
       "      <td>  0.120139</td>\n",
       "      <td> 6.362260e-04</td>\n",
       "      <td> 1.370385</td>\n",
       "      <td> 2.498082e-04</td>\n",
       "      <td> 15.241855</td>\n",
       "      <td> 8.677440e-29</td>\n",
       "      <td> -0.484236</td>\n",
       "      <td> 5.364719e-01</td>\n",
       "      <td> 2.294094</td>\n",
       "      <td> 3.890246e-18</td>\n",
       "      <td> 3.711593</td>\n",
       "      <td> 1.236646e-09</td>\n",
       "      <td> 2.876701</td>\n",
       "      <td> 1.782896e-03</td>\n",
       "      <td>  66.828690</td>\n",
       "      <td> 1.519108e-01</td>\n",
       "    </tr>\n",
       "    <tr>\n",
       "      <th>2013</th>\n",
       "      <td>  0.487188</td>\n",
       "      <td> 8.907976e-26</td>\n",
       "      <td> 6.769512</td>\n",
       "      <td> 9.798477e-33</td>\n",
       "      <td>  6.541689</td>\n",
       "      <td> 1.102007e-03</td>\n",
       "      <td> -6.327821</td>\n",
       "      <td> 2.618105e-19</td>\n",
       "      <td> 1.292201</td>\n",
       "      <td> 4.678064e-13</td>\n",
       "      <td> 1.088944</td>\n",
       "      <td> 4.551097e-05</td>\n",
       "      <td> 6.684371</td>\n",
       "      <td> 5.375649e-22</td>\n",
       "      <td>-280.132203</td>\n",
       "      <td> 6.169435e-07</td>\n",
       "    </tr>\n",
       "  </tbody>\n",
       "</table>\n",
       "</div>"
      ],
      "text/plain": [
       "           AAPL                    COST                     SPLS  \\\n",
       "         Coeffs      p-values    Coeffs      p-values     Coeffs   \n",
       "2001  -7.113784  2.660620e-02  4.075206  8.528365e-05  24.911547   \n",
       "2002  18.226878  2.043610e-20  6.691863  1.865627e-16  17.903775   \n",
       "2003  14.787312  2.474757e-17  1.355782  4.692480e-02  -0.874019   \n",
       "2004   1.301335  4.122901e-06 -0.670930  2.014807e-01  10.976931   \n",
       "2005   1.678864  1.643512e-19 -1.856986  3.712925e-02  15.276463   \n",
       "2006   1.530741  4.555147e-14 -0.848646  1.210896e-01   9.618957   \n",
       "2007   1.940077  9.299696e-17 -4.645959  7.866242e-05  13.301635   \n",
       "2008   2.720482  6.025280e-40 -3.913315  8.336770e-04  10.457686   \n",
       "2009   0.559075  1.238028e-02  4.108979  3.454003e-12   9.746394   \n",
       "2010   0.147600  1.764131e-01  2.130864  8.850068e-04   2.290478   \n",
       "2011  -0.849081  6.277554e-09  2.766150  2.453580e-02   1.884526   \n",
       "2012   0.120139  6.362260e-04  1.370385  2.498082e-04  15.241855   \n",
       "2013   0.487188  8.907976e-26  6.769512  9.798477e-33   6.541689   \n",
       "\n",
       "                          GPS                     IBM                    AMGN  \\\n",
       "          p-values     Coeffs      p-values    Coeffs      p-values    Coeffs   \n",
       "2001  7.215682e-09  12.322108  5.305803e-53  0.273146  5.538955e-01  3.087762   \n",
       "2002  5.286304e-16  -0.048720  9.776568e-01  2.527420  8.246642e-25  0.615444   \n",
       "2003  5.936141e-01  10.579500  2.085581e-12  3.486531  7.813588e-11  0.970614   \n",
       "2004  6.922522e-23   4.150836  3.101741e-14  3.706253  3.313281e-28  2.374479   \n",
       "2005  6.082728e-14   7.843098  1.469004e-11  0.259193  2.668748e-01  1.084332   \n",
       "2006  1.751582e-15   3.482137  4.351811e-02  2.609406  1.586081e-06 -0.294227   \n",
       "2007  2.606458e-08   8.355223  1.393656e-03  3.720405  1.727903e-13  0.689895   \n",
       "2008  1.421165e-04  22.407705  3.821233e-19  0.557759  1.530472e-01 -4.228364   \n",
       "2009  1.740047e-09   3.327866  2.629264e-02  0.967153  6.223719e-02  3.199484   \n",
       "2010  2.064753e-01   8.346748  2.218997e-17  4.292317  2.017333e-16  6.176385   \n",
       "2011  3.503703e-01   8.388549  4.474798e-04  0.646917  1.883549e-01  1.763027   \n",
       "2012  8.677440e-29  -0.484236  5.364719e-01  2.294094  3.890246e-18  3.711593   \n",
       "2013  1.102007e-03  -6.327821  2.618105e-19  1.292201  4.678064e-13  1.088944   \n",
       "\n",
       "                       BRK.B                 intercept                \n",
       "          p-values    Coeffs      p-values      Coeffs      p-values  \n",
       "2001  3.173930e-07  1.068989  4.789842e-01  417.024316  1.708504e-08  \n",
       "2002  1.225842e-01  1.718474  1.903366e-02  149.150079  7.348010e-05  \n",
       "2003  2.409013e-03  5.659728  2.127361e-09   62.245463  3.165603e-02  \n",
       "2004  7.270512e-10  2.087117  1.859440e-08  338.049663  1.100075e-25  \n",
       "2005  7.165491e-07 -0.277721  7.539176e-01  713.028616  2.174339e-51  \n",
       "2006  4.205149e-01  2.997083  4.539529e-14  628.327932  1.241423e-48  \n",
       "2007  8.870549e-02 -4.222925  1.109055e-09  999.392678  5.289867e-24  \n",
       "2008  3.813945e-20  5.936557  4.675414e-26  191.087517  1.629492e-05  \n",
       "2009  5.167058e-18  3.673072  5.193423e-12  -34.111982  2.727188e-01  \n",
       "2010  2.798605e-15  0.347496  3.122093e-01 -101.086855  4.939951e-03  \n",
       "2011  1.216243e-01  5.867324  1.567559e-07  528.145785  9.838666e-11  \n",
       "2012  1.236646e-09  2.876701  1.782896e-03   66.828690  1.519108e-01  \n",
       "2013  4.551097e-05  6.684371  5.375649e-22 -280.132203  6.169435e-07  "
      ]
     },
     "execution_count": 141,
     "metadata": {},
     "output_type": "execute_result"
    }
   ],
   "source": [
    "LR.stack().unstack(1).unstack()"
   ]
  },
  {
   "cell_type": "markdown",
   "metadata": {},
   "source": [
    "# Calculated Columns: New Columns = f(Existing Columns)"
   ]
  },
  {
   "cell_type": "code",
   "execution_count": 142,
   "metadata": {
    "collapsed": false
   },
   "outputs": [
    {
     "data": {
      "text/html": [
       "<div style=\"max-height:1000px;max-width:1500px;overflow:auto;\">\n",
       "<table border=\"1\" class=\"dataframe\">\n",
       "  <thead>\n",
       "    <tr style=\"text-align: right;\">\n",
       "      <th></th>\n",
       "      <th>float_col</th>\n",
       "      <th>group</th>\n",
       "      <th>int_col</th>\n",
       "      <th>str_col</th>\n",
       "    </tr>\n",
       "  </thead>\n",
       "  <tbody>\n",
       "    <tr>\n",
       "      <th>0</th>\n",
       "      <td> 0.10</td>\n",
       "      <td>   Red</td>\n",
       "      <td>  1</td>\n",
       "      <td>    a</td>\n",
       "    </tr>\n",
       "    <tr>\n",
       "      <th>1</th>\n",
       "      <td> 1.85</td>\n",
       "      <td>   Red</td>\n",
       "      <td> 11</td>\n",
       "      <td> 1.85</td>\n",
       "    </tr>\n",
       "    <tr>\n",
       "      <th>2</th>\n",
       "      <td> 0.20</td>\n",
       "      <td> Green</td>\n",
       "      <td>  6</td>\n",
       "      <td> None</td>\n",
       "    </tr>\n",
       "    <tr>\n",
       "      <th>3</th>\n",
       "      <td> 1.85</td>\n",
       "      <td> Green</td>\n",
       "      <td>  8</td>\n",
       "      <td> 1.85</td>\n",
       "    </tr>\n",
       "    <tr>\n",
       "      <th>4</th>\n",
       "      <td>  NaN</td>\n",
       "      <td>   Red</td>\n",
       "      <td> -1</td>\n",
       "      <td>    a</td>\n",
       "    </tr>\n",
       "  </tbody>\n",
       "</table>\n",
       "</div>"
      ],
      "text/plain": [
       "   float_col  group  int_col str_col\n",
       "0       0.10    Red        1       a\n",
       "1       1.85    Red       11    1.85\n",
       "2       0.20  Green        6    None\n",
       "3       1.85  Green        8    1.85\n",
       "4        NaN    Red       -1       a"
      ]
     },
     "execution_count": 142,
     "metadata": {},
     "output_type": "execute_result"
    }
   ],
   "source": [
    "df4 = df.copy()\n",
    "df4"
   ]
  },
  {
   "cell_type": "markdown",
   "metadata": {},
   "source": [
    "### Series/Column to Column: map() and applymap()"
   ]
  },
  {
   "cell_type": "code",
   "execution_count": 143,
   "metadata": {
    "collapsed": false
   },
   "outputs": [],
   "source": [
    "df4['Type of str_col'] = df4['str_col'].map(lambda x: type(x))"
   ]
  },
  {
   "cell_type": "code",
   "execution_count": 144,
   "metadata": {
    "collapsed": false
   },
   "outputs": [],
   "source": [
    "df4['Size of str_col'] = df4[['str_col']].applymap(lambda x: sys.getsizeof(x))"
   ]
  },
  {
   "cell_type": "code",
   "execution_count": 145,
   "metadata": {
    "collapsed": false
   },
   "outputs": [
    {
     "data": {
      "text/html": [
       "<div style=\"max-height:1000px;max-width:1500px;overflow:auto;\">\n",
       "<table border=\"1\" class=\"dataframe\">\n",
       "  <thead>\n",
       "    <tr style=\"text-align: right;\">\n",
       "      <th></th>\n",
       "      <th>float_col</th>\n",
       "      <th>group</th>\n",
       "      <th>int_col</th>\n",
       "      <th>str_col</th>\n",
       "      <th>Type of str_col</th>\n",
       "      <th>Size of str_col</th>\n",
       "    </tr>\n",
       "  </thead>\n",
       "  <tbody>\n",
       "    <tr>\n",
       "      <th>0</th>\n",
       "      <td> 0.10</td>\n",
       "      <td>   Red</td>\n",
       "      <td>  1</td>\n",
       "      <td>    a</td>\n",
       "      <td>      &lt;type 'str'&gt;</td>\n",
       "      <td> 22</td>\n",
       "    </tr>\n",
       "    <tr>\n",
       "      <th>1</th>\n",
       "      <td> 1.85</td>\n",
       "      <td>   Red</td>\n",
       "      <td> 11</td>\n",
       "      <td> 1.85</td>\n",
       "      <td>    &lt;type 'float'&gt;</td>\n",
       "      <td> 16</td>\n",
       "    </tr>\n",
       "    <tr>\n",
       "      <th>2</th>\n",
       "      <td> 0.20</td>\n",
       "      <td> Green</td>\n",
       "      <td>  6</td>\n",
       "      <td> None</td>\n",
       "      <td> &lt;type 'NoneType'&gt;</td>\n",
       "      <td>  8</td>\n",
       "    </tr>\n",
       "    <tr>\n",
       "      <th>3</th>\n",
       "      <td> 1.85</td>\n",
       "      <td> Green</td>\n",
       "      <td>  8</td>\n",
       "      <td> 1.85</td>\n",
       "      <td>    &lt;type 'float'&gt;</td>\n",
       "      <td> 16</td>\n",
       "    </tr>\n",
       "    <tr>\n",
       "      <th>4</th>\n",
       "      <td>  NaN</td>\n",
       "      <td>   Red</td>\n",
       "      <td> -1</td>\n",
       "      <td>    a</td>\n",
       "      <td>      &lt;type 'str'&gt;</td>\n",
       "      <td> 22</td>\n",
       "    </tr>\n",
       "  </tbody>\n",
       "</table>\n",
       "</div>"
      ],
      "text/plain": [
       "   float_col  group  int_col str_col    Type of str_col  Size of str_col\n",
       "0       0.10    Red        1       a       <type 'str'>               22\n",
       "1       1.85    Red       11    1.85     <type 'float'>               16\n",
       "2       0.20  Green        6    None  <type 'NoneType'>                8\n",
       "3       1.85  Green        8    1.85     <type 'float'>               16\n",
       "4        NaN    Red       -1       a       <type 'str'>               22"
      ]
     },
     "execution_count": 145,
     "metadata": {},
     "output_type": "execute_result"
    }
   ],
   "source": [
    "df4"
   ]
  },
  {
   "cell_type": "markdown",
   "metadata": {},
   "source": [
    "### Column to Column(s): zippy"
   ]
  },
  {
   "cell_type": "code",
   "execution_count": 146,
   "metadata": {
    "collapsed": false
   },
   "outputs": [
    {
     "data": {
      "text/plain": [
       "[(1, 'a', 1.2), (2, 'b', 1.4), (3, 'c', 1.8)]"
      ]
     },
     "execution_count": 146,
     "metadata": {},
     "output_type": "execute_result"
    }
   ],
   "source": [
    "# Preliminary: zip\n",
    "zip([1,2,3], ['a', 'b', 'c'], [1.2, 1.4, 1.8])"
   ]
  },
  {
   "cell_type": "code",
   "execution_count": 147,
   "metadata": {
    "collapsed": false
   },
   "outputs": [
    {
     "ename": "IndexError",
     "evalue": "tuple index out of range",
     "output_type": "error",
     "traceback": [
      "\u001b[1;31m---------------------------------------------------------------------------\u001b[0m\n\u001b[1;31mIndexError\u001b[0m                                Traceback (most recent call last)",
      "\u001b[1;32m<ipython-input-147-bf540dfa3314>\u001b[0m in \u001b[0;36m<module>\u001b[1;34m()\u001b[0m\n\u001b[0;32m      1\u001b[0m \u001b[1;31m# Preliminary: *SPLAT*\u001b[0m\u001b[1;33m\u001b[0m\u001b[1;33m\u001b[0m\u001b[0m\n\u001b[1;32m----> 2\u001b[1;33m \u001b[1;34m\"{0}|{1}|{2}|{3}\"\u001b[0m\u001b[1;33m.\u001b[0m\u001b[0mformat\u001b[0m\u001b[1;33m(\u001b[0m\u001b[1;33m[\u001b[0m\u001b[1;36m1\u001b[0m\u001b[1;33m,\u001b[0m\u001b[1;36m2\u001b[0m\u001b[1;33m,\u001b[0m\u001b[1;36m3\u001b[0m\u001b[1;33m,\u001b[0m\u001b[1;36m4\u001b[0m\u001b[1;33m]\u001b[0m\u001b[1;33m)\u001b[0m \u001b[1;31m# Does not work\u001b[0m\u001b[1;33m\u001b[0m\u001b[0m\n\u001b[0m",
      "\u001b[1;31mIndexError\u001b[0m: tuple index out of range"
     ]
    }
   ],
   "source": [
    "# Preliminary: *SPLAT*\n",
    "\"{0}|{1}|{2}|{3}\".format([1,2,3,4]) # Does not work"
   ]
  },
  {
   "cell_type": "code",
   "execution_count": 148,
   "metadata": {
    "collapsed": false
   },
   "outputs": [
    {
     "data": {
      "text/plain": [
       "'1|2|3|4'"
      ]
     },
     "execution_count": 148,
     "metadata": {},
     "output_type": "execute_result"
    }
   ],
   "source": [
    "\"{0}|{1}|{2}|{3}\".format(*[1,2,3,4]) # The splat operator (*) expands a list into a sequence of arguments"
   ]
  },
  {
   "cell_type": "code",
   "execution_count": 149,
   "metadata": {
    "collapsed": false
   },
   "outputs": [
    {
     "ename": "SyntaxError",
     "evalue": "invalid syntax (<ipython-input-149-bcd70721281d>, line 1)",
     "output_type": "error",
     "traceback": [
      "\u001b[1;36m  File \u001b[1;32m\"<ipython-input-149-bcd70721281d>\"\u001b[1;36m, line \u001b[1;32m1\u001b[0m\n\u001b[1;33m    *[1,2,3,4] # ... only for arguments\u001b[0m\n\u001b[1;37m    ^\u001b[0m\n\u001b[1;31mSyntaxError\u001b[0m\u001b[1;31m:\u001b[0m invalid syntax\n"
     ]
    }
   ],
   "source": [
    "*[1,2,3,4] # ... only for arguments"
   ]
  },
  {
   "cell_type": "code",
   "execution_count": 150,
   "metadata": {
    "collapsed": false
   },
   "outputs": [
    {
     "data": {
      "text/plain": [
       "0      (2, 3)\n",
       "1    (22, 33)\n",
       "2    (12, 18)\n",
       "3    (16, 24)\n",
       "4    (-2, -3)\n",
       "Name: int_col, dtype: object"
      ]
     },
     "execution_count": 150,
     "metadata": {},
     "output_type": "execute_result"
    }
   ],
   "source": [
    "df4['int_col'].map(lambda x: (2*x, 3*x))"
   ]
  },
  {
   "cell_type": "code",
   "execution_count": 151,
   "metadata": {
    "collapsed": false
   },
   "outputs": [
    {
     "data": {
      "text/plain": [
       "[(2, 22, 12, 16, -2), (3, 33, 18, 24, -3)]"
      ]
     },
     "execution_count": 151,
     "metadata": {},
     "output_type": "execute_result"
    }
   ],
   "source": [
    "zip(*df4['int_col'].map(lambda x: (2*x, 3*x)))"
   ]
  },
  {
   "cell_type": "code",
   "execution_count": 152,
   "metadata": {
    "collapsed": false
   },
   "outputs": [
    {
     "data": {
      "text/html": [
       "<div style=\"max-height:1000px;max-width:1500px;overflow:auto;\">\n",
       "<table border=\"1\" class=\"dataframe\">\n",
       "  <thead>\n",
       "    <tr style=\"text-align: right;\">\n",
       "      <th></th>\n",
       "      <th>float_col</th>\n",
       "      <th>group</th>\n",
       "      <th>int_col</th>\n",
       "      <th>str_col</th>\n",
       "      <th>Type of str_col</th>\n",
       "      <th>Size of str_col</th>\n",
       "      <th>2x int_col</th>\n",
       "      <th>3x int_col</th>\n",
       "    </tr>\n",
       "  </thead>\n",
       "  <tbody>\n",
       "    <tr>\n",
       "      <th>0</th>\n",
       "      <td> 0.10</td>\n",
       "      <td>   Red</td>\n",
       "      <td>  1</td>\n",
       "      <td>    a</td>\n",
       "      <td>      &lt;type 'str'&gt;</td>\n",
       "      <td> 22</td>\n",
       "      <td>  2</td>\n",
       "      <td>  3</td>\n",
       "    </tr>\n",
       "    <tr>\n",
       "      <th>1</th>\n",
       "      <td> 1.85</td>\n",
       "      <td>   Red</td>\n",
       "      <td> 11</td>\n",
       "      <td> 1.85</td>\n",
       "      <td>    &lt;type 'float'&gt;</td>\n",
       "      <td> 16</td>\n",
       "      <td> 22</td>\n",
       "      <td> 33</td>\n",
       "    </tr>\n",
       "    <tr>\n",
       "      <th>2</th>\n",
       "      <td> 0.20</td>\n",
       "      <td> Green</td>\n",
       "      <td>  6</td>\n",
       "      <td> None</td>\n",
       "      <td> &lt;type 'NoneType'&gt;</td>\n",
       "      <td>  8</td>\n",
       "      <td> 12</td>\n",
       "      <td> 18</td>\n",
       "    </tr>\n",
       "    <tr>\n",
       "      <th>3</th>\n",
       "      <td> 1.85</td>\n",
       "      <td> Green</td>\n",
       "      <td>  8</td>\n",
       "      <td> 1.85</td>\n",
       "      <td>    &lt;type 'float'&gt;</td>\n",
       "      <td> 16</td>\n",
       "      <td> 16</td>\n",
       "      <td> 24</td>\n",
       "    </tr>\n",
       "    <tr>\n",
       "      <th>4</th>\n",
       "      <td>  NaN</td>\n",
       "      <td>   Red</td>\n",
       "      <td> -1</td>\n",
       "      <td>    a</td>\n",
       "      <td>      &lt;type 'str'&gt;</td>\n",
       "      <td> 22</td>\n",
       "      <td> -2</td>\n",
       "      <td> -3</td>\n",
       "    </tr>\n",
       "  </tbody>\n",
       "</table>\n",
       "</div>"
      ],
      "text/plain": [
       "   float_col  group  int_col str_col    Type of str_col  Size of str_col  \\\n",
       "0       0.10    Red        1       a       <type 'str'>               22   \n",
       "1       1.85    Red       11    1.85     <type 'float'>               16   \n",
       "2       0.20  Green        6    None  <type 'NoneType'>                8   \n",
       "3       1.85  Green        8    1.85     <type 'float'>               16   \n",
       "4        NaN    Red       -1       a       <type 'str'>               22   \n",
       "\n",
       "   2x int_col  3x int_col  \n",
       "0           2           3  \n",
       "1          22          33  \n",
       "2          12          18  \n",
       "3          16          24  \n",
       "4          -2          -3  "
      ]
     },
     "execution_count": 152,
     "metadata": {},
     "output_type": "execute_result"
    }
   ],
   "source": [
    "df4['2x int_col'],df4['3x int_col'] = zip(*df4['int_col'].map(lambda x: (2*x, 3*x)))\n",
    "df4"
   ]
  },
  {
   "cell_type": "code",
   "execution_count": 153,
   "metadata": {
    "collapsed": false
   },
   "outputs": [
    {
     "data": {
      "text/html": [
       "<div style=\"max-height:1000px;max-width:1500px;overflow:auto;\">\n",
       "<table border=\"1\" class=\"dataframe\">\n",
       "  <thead>\n",
       "    <tr style=\"text-align: right;\">\n",
       "      <th></th>\n",
       "      <th>float_col</th>\n",
       "      <th>group</th>\n",
       "      <th>int_col</th>\n",
       "      <th>str_col</th>\n",
       "      <th>Type of str_col</th>\n",
       "      <th>Size of str_col</th>\n",
       "      <th>2x int_col</th>\n",
       "      <th>3x int_col</th>\n",
       "      <th>2x int_col (again)</th>\n",
       "      <th>3x int_col (again)</th>\n",
       "    </tr>\n",
       "  </thead>\n",
       "  <tbody>\n",
       "    <tr>\n",
       "      <th>0</th>\n",
       "      <td> 0.10</td>\n",
       "      <td>   Red</td>\n",
       "      <td>  1</td>\n",
       "      <td>    a</td>\n",
       "      <td>      &lt;type 'str'&gt;</td>\n",
       "      <td> 22</td>\n",
       "      <td>  2</td>\n",
       "      <td>  3</td>\n",
       "      <td>  2</td>\n",
       "      <td>  3</td>\n",
       "    </tr>\n",
       "    <tr>\n",
       "      <th>1</th>\n",
       "      <td> 1.85</td>\n",
       "      <td>   Red</td>\n",
       "      <td> 11</td>\n",
       "      <td> 1.85</td>\n",
       "      <td>    &lt;type 'float'&gt;</td>\n",
       "      <td> 16</td>\n",
       "      <td> 22</td>\n",
       "      <td> 33</td>\n",
       "      <td>  4</td>\n",
       "      <td>  6</td>\n",
       "    </tr>\n",
       "    <tr>\n",
       "      <th>2</th>\n",
       "      <td> 0.20</td>\n",
       "      <td> Green</td>\n",
       "      <td>  6</td>\n",
       "      <td> None</td>\n",
       "      <td> &lt;type 'NoneType'&gt;</td>\n",
       "      <td>  8</td>\n",
       "      <td> 12</td>\n",
       "      <td> 18</td>\n",
       "      <td> 12</td>\n",
       "      <td> 18</td>\n",
       "    </tr>\n",
       "    <tr>\n",
       "      <th>3</th>\n",
       "      <td> 1.85</td>\n",
       "      <td> Green</td>\n",
       "      <td>  8</td>\n",
       "      <td> 1.85</td>\n",
       "      <td>    &lt;type 'float'&gt;</td>\n",
       "      <td> 16</td>\n",
       "      <td> 16</td>\n",
       "      <td> 24</td>\n",
       "      <td> 16</td>\n",
       "      <td> 24</td>\n",
       "    </tr>\n",
       "    <tr>\n",
       "      <th>4</th>\n",
       "      <td>  NaN</td>\n",
       "      <td>   Red</td>\n",
       "      <td> -1</td>\n",
       "      <td>    a</td>\n",
       "      <td>      &lt;type 'str'&gt;</td>\n",
       "      <td> 22</td>\n",
       "      <td> -2</td>\n",
       "      <td> -3</td>\n",
       "      <td> -2</td>\n",
       "      <td> -3</td>\n",
       "    </tr>\n",
       "  </tbody>\n",
       "</table>\n",
       "</div>"
      ],
      "text/plain": [
       "   float_col  group  int_col str_col    Type of str_col  Size of str_col  \\\n",
       "0       0.10    Red        1       a       <type 'str'>               22   \n",
       "1       1.85    Red       11    1.85     <type 'float'>               16   \n",
       "2       0.20  Green        6    None  <type 'NoneType'>                8   \n",
       "3       1.85  Green        8    1.85     <type 'float'>               16   \n",
       "4        NaN    Red       -1       a       <type 'str'>               22   \n",
       "\n",
       "   2x int_col  3x int_col  2x int_col (again)  3x int_col (again)  \n",
       "0           2           3                   2                   3  \n",
       "1          22          33                   4                   6  \n",
       "2          12          18                  12                  18  \n",
       "3          16          24                  16                  24  \n",
       "4          -2          -3                  -2                  -3  "
      ]
     },
     "execution_count": 153,
     "metadata": {},
     "output_type": "execute_result"
    }
   ],
   "source": [
    "# Notice that this works too...\n",
    "df4['2x int_col (again)'],df4['3x int_col (again)'] = ([2, 4, 12, 16, -2], [3, 6, 18, 24, -3])\n",
    "df4"
   ]
  },
  {
   "cell_type": "markdown",
   "metadata": {},
   "source": [
    "### Column(s) to Column: apply() (with axis = 1)"
   ]
  },
  {
   "cell_type": "code",
   "execution_count": 154,
   "metadata": {
    "collapsed": false
   },
   "outputs": [
    {
     "data": {
      "text/html": [
       "<div style=\"max-height:1000px;max-width:1500px;overflow:auto;\">\n",
       "<table border=\"1\" class=\"dataframe\">\n",
       "  <thead>\n",
       "    <tr style=\"text-align: right;\">\n",
       "      <th></th>\n",
       "      <th>float_col</th>\n",
       "      <th>group</th>\n",
       "      <th>int_col</th>\n",
       "      <th>str_col</th>\n",
       "      <th>Something New</th>\n",
       "    </tr>\n",
       "  </thead>\n",
       "  <tbody>\n",
       "    <tr>\n",
       "      <th>0</th>\n",
       "      <td> 0.10</td>\n",
       "      <td>   Red</td>\n",
       "      <td>  1</td>\n",
       "      <td>    a</td>\n",
       "      <td>      a: 1 and 0.1</td>\n",
       "    </tr>\n",
       "    <tr>\n",
       "      <th>1</th>\n",
       "      <td> 1.85</td>\n",
       "      <td>   Red</td>\n",
       "      <td> 11</td>\n",
       "      <td> 1.85</td>\n",
       "      <td> 1.85: 11 and 1.85</td>\n",
       "    </tr>\n",
       "    <tr>\n",
       "      <th>2</th>\n",
       "      <td> 0.20</td>\n",
       "      <td> Green</td>\n",
       "      <td>  6</td>\n",
       "      <td> None</td>\n",
       "      <td>   None: 6 and 0.2</td>\n",
       "    </tr>\n",
       "    <tr>\n",
       "      <th>3</th>\n",
       "      <td> 1.85</td>\n",
       "      <td> Green</td>\n",
       "      <td>  8</td>\n",
       "      <td> 1.85</td>\n",
       "      <td>  1.85: 8 and 1.85</td>\n",
       "    </tr>\n",
       "    <tr>\n",
       "      <th>4</th>\n",
       "      <td>  NaN</td>\n",
       "      <td>   Red</td>\n",
       "      <td> -1</td>\n",
       "      <td>    a</td>\n",
       "      <td>     a: -1 and nan</td>\n",
       "    </tr>\n",
       "  </tbody>\n",
       "</table>\n",
       "</div>"
      ],
      "text/plain": [
       "   float_col  group  int_col str_col      Something New\n",
       "0       0.10    Red        1       a       a: 1 and 0.1\n",
       "1       1.85    Red       11    1.85  1.85: 11 and 1.85\n",
       "2       0.20  Green        6    None    None: 6 and 0.2\n",
       "3       1.85  Green        8    1.85   1.85: 8 and 1.85\n",
       "4        NaN    Red       -1       a      a: -1 and nan"
      ]
     },
     "execution_count": 154,
     "metadata": {},
     "output_type": "execute_result"
    }
   ],
   "source": [
    "df4 = df.copy()\n",
    "df4['Something New'] = df.apply(lambda row: \"{0}: {1} and {2}\".format(row['str_col'], row['int_col'], row['float_col']), axis = 1)\n",
    "df4"
   ]
  },
  {
   "cell_type": "markdown",
   "metadata": {},
   "source": [
    "### Column(s) to Column(s)"
   ]
  },
  {
   "cell_type": "code",
   "execution_count": 155,
   "metadata": {
    "collapsed": false
   },
   "outputs": [
    {
     "data": {
      "text/html": [
       "<div style=\"max-height:1000px;max-width:1500px;overflow:auto;\">\n",
       "<table border=\"1\" class=\"dataframe\">\n",
       "  <thead>\n",
       "    <tr style=\"text-align: right;\">\n",
       "      <th></th>\n",
       "      <th>float_col</th>\n",
       "      <th>group</th>\n",
       "      <th>int_col</th>\n",
       "      <th>str_col</th>\n",
       "    </tr>\n",
       "  </thead>\n",
       "  <tbody>\n",
       "    <tr>\n",
       "      <th>0</th>\n",
       "      <td> 0.10</td>\n",
       "      <td>   Red</td>\n",
       "      <td>  1</td>\n",
       "      <td>    a</td>\n",
       "    </tr>\n",
       "    <tr>\n",
       "      <th>1</th>\n",
       "      <td> 1.85</td>\n",
       "      <td>   Red</td>\n",
       "      <td> 11</td>\n",
       "      <td> 1.85</td>\n",
       "    </tr>\n",
       "    <tr>\n",
       "      <th>2</th>\n",
       "      <td> 0.20</td>\n",
       "      <td> Green</td>\n",
       "      <td>  6</td>\n",
       "      <td> None</td>\n",
       "    </tr>\n",
       "    <tr>\n",
       "      <th>3</th>\n",
       "      <td> 1.85</td>\n",
       "      <td> Green</td>\n",
       "      <td>  8</td>\n",
       "      <td> 1.85</td>\n",
       "    </tr>\n",
       "    <tr>\n",
       "      <th>4</th>\n",
       "      <td>  NaN</td>\n",
       "      <td>   Red</td>\n",
       "      <td> -1</td>\n",
       "      <td>    a</td>\n",
       "    </tr>\n",
       "  </tbody>\n",
       "</table>\n",
       "</div>"
      ],
      "text/plain": [
       "   float_col  group  int_col str_col\n",
       "0       0.10    Red        1       a\n",
       "1       1.85    Red       11    1.85\n",
       "2       0.20  Green        6    None\n",
       "3       1.85  Green        8    1.85\n",
       "4        NaN    Red       -1       a"
      ]
     },
     "execution_count": 155,
     "metadata": {},
     "output_type": "execute_result"
    }
   ],
   "source": [
    "df4 = df.copy()\n",
    "df4"
   ]
  },
  {
   "cell_type": "code",
   "execution_count": 156,
   "metadata": {
    "collapsed": false
   },
   "outputs": [
    {
     "data": {
      "text/html": [
       "<div style=\"max-height:1000px;max-width:1500px;overflow:auto;\">\n",
       "<table border=\"1\" class=\"dataframe\">\n",
       "  <thead>\n",
       "    <tr style=\"text-align: right;\">\n",
       "      <th></th>\n",
       "      <th>x</th>\n",
       "      <th>y</th>\n",
       "    </tr>\n",
       "  </thead>\n",
       "  <tbody>\n",
       "    <tr>\n",
       "      <th>0</th>\n",
       "      <td> 0.90</td>\n",
       "      <td>  1.10</td>\n",
       "    </tr>\n",
       "    <tr>\n",
       "      <th>1</th>\n",
       "      <td> 9.15</td>\n",
       "      <td> 12.85</td>\n",
       "    </tr>\n",
       "    <tr>\n",
       "      <th>2</th>\n",
       "      <td> 5.80</td>\n",
       "      <td>  6.20</td>\n",
       "    </tr>\n",
       "    <tr>\n",
       "      <th>3</th>\n",
       "      <td> 6.15</td>\n",
       "      <td>  9.85</td>\n",
       "    </tr>\n",
       "    <tr>\n",
       "      <th>4</th>\n",
       "      <td>  NaN</td>\n",
       "      <td>   NaN</td>\n",
       "    </tr>\n",
       "  </tbody>\n",
       "</table>\n",
       "</div>"
      ],
      "text/plain": [
       "      x      y\n",
       "0  0.90   1.10\n",
       "1  9.15  12.85\n",
       "2  5.80   6.20\n",
       "3  6.15   9.85\n",
       "4   NaN    NaN"
      ]
     },
     "execution_count": 156,
     "metadata": {},
     "output_type": "execute_result"
    }
   ],
   "source": [
    "dfMoreCols = df4.apply(lambda row: Series({ \\\n",
    "                                           'x' : row['int_col']-row['float_col'], \\\n",
    "                                           'y' : row['int_col']+row['float_col'] \\\n",
    "                                           }), axis = 1)\n",
    "dfMoreCols"
   ]
  },
  {
   "cell_type": "code",
   "execution_count": 157,
   "metadata": {
    "collapsed": false
   },
   "outputs": [
    {
     "data": {
      "text/html": [
       "<div style=\"max-height:1000px;max-width:1500px;overflow:auto;\">\n",
       "<table border=\"1\" class=\"dataframe\">\n",
       "  <thead>\n",
       "    <tr style=\"text-align: right;\">\n",
       "      <th></th>\n",
       "      <th>float_col</th>\n",
       "      <th>group</th>\n",
       "      <th>int_col</th>\n",
       "      <th>str_col</th>\n",
       "      <th>x</th>\n",
       "      <th>y</th>\n",
       "    </tr>\n",
       "  </thead>\n",
       "  <tbody>\n",
       "    <tr>\n",
       "      <th>0</th>\n",
       "      <td> 0.10</td>\n",
       "      <td>   Red</td>\n",
       "      <td>  1</td>\n",
       "      <td>    a</td>\n",
       "      <td>  NaN</td>\n",
       "      <td>   NaN</td>\n",
       "    </tr>\n",
       "    <tr>\n",
       "      <th>1</th>\n",
       "      <td> 1.85</td>\n",
       "      <td>   Red</td>\n",
       "      <td> 11</td>\n",
       "      <td> 1.85</td>\n",
       "      <td>  NaN</td>\n",
       "      <td>   NaN</td>\n",
       "    </tr>\n",
       "    <tr>\n",
       "      <th>2</th>\n",
       "      <td> 0.20</td>\n",
       "      <td> Green</td>\n",
       "      <td>  6</td>\n",
       "      <td> None</td>\n",
       "      <td>  NaN</td>\n",
       "      <td>   NaN</td>\n",
       "    </tr>\n",
       "    <tr>\n",
       "      <th>3</th>\n",
       "      <td> 1.85</td>\n",
       "      <td> Green</td>\n",
       "      <td>  8</td>\n",
       "      <td> 1.85</td>\n",
       "      <td>  NaN</td>\n",
       "      <td>   NaN</td>\n",
       "    </tr>\n",
       "    <tr>\n",
       "      <th>4</th>\n",
       "      <td>  NaN</td>\n",
       "      <td>   Red</td>\n",
       "      <td> -1</td>\n",
       "      <td>    a</td>\n",
       "      <td>  NaN</td>\n",
       "      <td>   NaN</td>\n",
       "    </tr>\n",
       "    <tr>\n",
       "      <th>0</th>\n",
       "      <td>  NaN</td>\n",
       "      <td>   NaN</td>\n",
       "      <td>NaN</td>\n",
       "      <td>  NaN</td>\n",
       "      <td> 0.90</td>\n",
       "      <td>  1.10</td>\n",
       "    </tr>\n",
       "    <tr>\n",
       "      <th>1</th>\n",
       "      <td>  NaN</td>\n",
       "      <td>   NaN</td>\n",
       "      <td>NaN</td>\n",
       "      <td>  NaN</td>\n",
       "      <td> 9.15</td>\n",
       "      <td> 12.85</td>\n",
       "    </tr>\n",
       "    <tr>\n",
       "      <th>2</th>\n",
       "      <td>  NaN</td>\n",
       "      <td>   NaN</td>\n",
       "      <td>NaN</td>\n",
       "      <td>  NaN</td>\n",
       "      <td> 5.80</td>\n",
       "      <td>  6.20</td>\n",
       "    </tr>\n",
       "    <tr>\n",
       "      <th>3</th>\n",
       "      <td>  NaN</td>\n",
       "      <td>   NaN</td>\n",
       "      <td>NaN</td>\n",
       "      <td>  NaN</td>\n",
       "      <td> 6.15</td>\n",
       "      <td>  9.85</td>\n",
       "    </tr>\n",
       "    <tr>\n",
       "      <th>4</th>\n",
       "      <td>  NaN</td>\n",
       "      <td>   NaN</td>\n",
       "      <td>NaN</td>\n",
       "      <td>  NaN</td>\n",
       "      <td>  NaN</td>\n",
       "      <td>   NaN</td>\n",
       "    </tr>\n",
       "  </tbody>\n",
       "</table>\n",
       "</div>"
      ],
      "text/plain": [
       "   float_col  group  int_col str_col     x      y\n",
       "0       0.10    Red        1       a   NaN    NaN\n",
       "1       1.85    Red       11    1.85   NaN    NaN\n",
       "2       0.20  Green        6    None   NaN    NaN\n",
       "3       1.85  Green        8    1.85   NaN    NaN\n",
       "4        NaN    Red       -1       a   NaN    NaN\n",
       "0        NaN    NaN      NaN     NaN  0.90   1.10\n",
       "1        NaN    NaN      NaN     NaN  9.15  12.85\n",
       "2        NaN    NaN      NaN     NaN  5.80   6.20\n",
       "3        NaN    NaN      NaN     NaN  6.15   9.85\n",
       "4        NaN    NaN      NaN     NaN   NaN    NaN"
      ]
     },
     "execution_count": 157,
     "metadata": {},
     "output_type": "execute_result"
    }
   ],
   "source": [
    "df4.append(dfMoreCols) # Opps. That's for rows"
   ]
  },
  {
   "cell_type": "code",
   "execution_count": 158,
   "metadata": {
    "collapsed": false
   },
   "outputs": [
    {
     "data": {
      "text/html": [
       "<div style=\"max-height:1000px;max-width:1500px;overflow:auto;\">\n",
       "<table border=\"1\" class=\"dataframe\">\n",
       "  <thead>\n",
       "    <tr style=\"text-align: right;\">\n",
       "      <th></th>\n",
       "      <th>float_col</th>\n",
       "      <th>group</th>\n",
       "      <th>int_col</th>\n",
       "      <th>str_col</th>\n",
       "      <th>x</th>\n",
       "      <th>y</th>\n",
       "    </tr>\n",
       "  </thead>\n",
       "  <tbody>\n",
       "    <tr>\n",
       "      <th>0</th>\n",
       "      <td>  0.1</td>\n",
       "      <td>   Red</td>\n",
       "      <td>  1</td>\n",
       "      <td>    a</td>\n",
       "      <td>  0.9</td>\n",
       "      <td>   1.1</td>\n",
       "    </tr>\n",
       "    <tr>\n",
       "      <th>1</th>\n",
       "      <td> 1.85</td>\n",
       "      <td>   Red</td>\n",
       "      <td> 11</td>\n",
       "      <td> 1.85</td>\n",
       "      <td> 9.15</td>\n",
       "      <td> 12.85</td>\n",
       "    </tr>\n",
       "    <tr>\n",
       "      <th>2</th>\n",
       "      <td>  0.2</td>\n",
       "      <td> Green</td>\n",
       "      <td>  6</td>\n",
       "      <td> None</td>\n",
       "      <td>  5.8</td>\n",
       "      <td>   6.2</td>\n",
       "    </tr>\n",
       "    <tr>\n",
       "      <th>3</th>\n",
       "      <td> 1.85</td>\n",
       "      <td> Green</td>\n",
       "      <td>  8</td>\n",
       "      <td> 1.85</td>\n",
       "      <td> 6.15</td>\n",
       "      <td>  9.85</td>\n",
       "    </tr>\n",
       "    <tr>\n",
       "      <th>4</th>\n",
       "      <td>  NaN</td>\n",
       "      <td>   Red</td>\n",
       "      <td> -1</td>\n",
       "      <td>    a</td>\n",
       "      <td>  NaN</td>\n",
       "      <td>   NaN</td>\n",
       "    </tr>\n",
       "  </tbody>\n",
       "</table>\n",
       "</div>"
      ],
      "text/plain": [
       "  float_col  group int_col str_col     x      y\n",
       "0       0.1    Red       1       a   0.9    1.1\n",
       "1      1.85    Red      11    1.85  9.15  12.85\n",
       "2       0.2  Green       6    None   5.8    6.2\n",
       "3      1.85  Green       8    1.85  6.15   9.85\n",
       "4       NaN    Red      -1       a   NaN    NaN"
      ]
     },
     "execution_count": 158,
     "metadata": {},
     "output_type": "execute_result"
    }
   ],
   "source": [
    "df4.T.append(dfMoreCols.T).T # Somehow this works (Lame...)"
   ]
  },
  {
   "cell_type": "code",
   "execution_count": 159,
   "metadata": {
    "collapsed": false
   },
   "outputs": [
    {
     "data": {
      "text/html": [
       "<div style=\"max-height:1000px;max-width:1500px;overflow:auto;\">\n",
       "<table border=\"1\" class=\"dataframe\">\n",
       "  <thead>\n",
       "    <tr style=\"text-align: right;\">\n",
       "      <th></th>\n",
       "      <th>float_col</th>\n",
       "      <th>group</th>\n",
       "      <th>int_col</th>\n",
       "      <th>str_col</th>\n",
       "      <th>x</th>\n",
       "      <th>y</th>\n",
       "    </tr>\n",
       "  </thead>\n",
       "  <tbody>\n",
       "    <tr>\n",
       "      <th>0</th>\n",
       "      <td> 0.10</td>\n",
       "      <td>   Red</td>\n",
       "      <td>  1</td>\n",
       "      <td>    a</td>\n",
       "      <td> x</td>\n",
       "      <td> y</td>\n",
       "    </tr>\n",
       "    <tr>\n",
       "      <th>1</th>\n",
       "      <td> 1.85</td>\n",
       "      <td>   Red</td>\n",
       "      <td> 11</td>\n",
       "      <td> 1.85</td>\n",
       "      <td> x</td>\n",
       "      <td> y</td>\n",
       "    </tr>\n",
       "    <tr>\n",
       "      <th>2</th>\n",
       "      <td> 0.20</td>\n",
       "      <td> Green</td>\n",
       "      <td>  6</td>\n",
       "      <td> None</td>\n",
       "      <td> x</td>\n",
       "      <td> y</td>\n",
       "    </tr>\n",
       "    <tr>\n",
       "      <th>3</th>\n",
       "      <td> 1.85</td>\n",
       "      <td> Green</td>\n",
       "      <td>  8</td>\n",
       "      <td> 1.85</td>\n",
       "      <td> x</td>\n",
       "      <td> y</td>\n",
       "    </tr>\n",
       "    <tr>\n",
       "      <th>4</th>\n",
       "      <td>  NaN</td>\n",
       "      <td>   Red</td>\n",
       "      <td> -1</td>\n",
       "      <td>    a</td>\n",
       "      <td> x</td>\n",
       "      <td> y</td>\n",
       "    </tr>\n",
       "  </tbody>\n",
       "</table>\n",
       "</div>"
      ],
      "text/plain": [
       "   float_col  group  int_col str_col  x  y\n",
       "0       0.10    Red        1       a  x  y\n",
       "1       1.85    Red       11    1.85  x  y\n",
       "2       0.20  Green        6    None  x  y\n",
       "3       1.85  Green        8    1.85  x  y\n",
       "4        NaN    Red       -1       a  x  y"
      ]
     },
     "execution_count": 159,
     "metadata": {},
     "output_type": "execute_result"
    }
   ],
   "source": [
    "df4['x'],df4['y'] = dfMoreCols\n",
    "df4 # Eeeeeeks!"
   ]
  },
  {
   "cell_type": "code",
   "execution_count": 160,
   "metadata": {
    "collapsed": false
   },
   "outputs": [
    {
     "data": {
      "text/html": [
       "<div style=\"max-height:1000px;max-width:1500px;overflow:auto;\">\n",
       "<table border=\"1\" class=\"dataframe\">\n",
       "  <thead>\n",
       "    <tr style=\"text-align: right;\">\n",
       "      <th></th>\n",
       "      <th>float_col</th>\n",
       "      <th>group</th>\n",
       "      <th>int_col</th>\n",
       "      <th>str_col</th>\n",
       "      <th>x</th>\n",
       "      <th>y</th>\n",
       "    </tr>\n",
       "  </thead>\n",
       "  <tbody>\n",
       "    <tr>\n",
       "      <th>0</th>\n",
       "      <td> 0.10</td>\n",
       "      <td>   Red</td>\n",
       "      <td>  1</td>\n",
       "      <td>    a</td>\n",
       "      <td> 0.90</td>\n",
       "      <td>  1.10</td>\n",
       "    </tr>\n",
       "    <tr>\n",
       "      <th>1</th>\n",
       "      <td> 1.85</td>\n",
       "      <td>   Red</td>\n",
       "      <td> 11</td>\n",
       "      <td> 1.85</td>\n",
       "      <td> 9.15</td>\n",
       "      <td> 12.85</td>\n",
       "    </tr>\n",
       "    <tr>\n",
       "      <th>2</th>\n",
       "      <td> 0.20</td>\n",
       "      <td> Green</td>\n",
       "      <td>  6</td>\n",
       "      <td> None</td>\n",
       "      <td> 5.80</td>\n",
       "      <td>  6.20</td>\n",
       "    </tr>\n",
       "    <tr>\n",
       "      <th>3</th>\n",
       "      <td> 1.85</td>\n",
       "      <td> Green</td>\n",
       "      <td>  8</td>\n",
       "      <td> 1.85</td>\n",
       "      <td> 6.15</td>\n",
       "      <td>  9.85</td>\n",
       "    </tr>\n",
       "    <tr>\n",
       "      <th>4</th>\n",
       "      <td>  NaN</td>\n",
       "      <td>   Red</td>\n",
       "      <td> -1</td>\n",
       "      <td>    a</td>\n",
       "      <td>  NaN</td>\n",
       "      <td>   NaN</td>\n",
       "    </tr>\n",
       "  </tbody>\n",
       "</table>\n",
       "</div>"
      ],
      "text/plain": [
       "   float_col  group  int_col str_col     x      y\n",
       "0       0.10    Red        1       a  0.90   1.10\n",
       "1       1.85    Red       11    1.85  9.15  12.85\n",
       "2       0.20  Green        6    None  5.80   6.20\n",
       "3       1.85  Green        8    1.85  6.15   9.85\n",
       "4        NaN    Red       -1       a   NaN    NaN"
      ]
     },
     "execution_count": 160,
     "metadata": {},
     "output_type": "execute_result"
    }
   ],
   "source": [
    "df4['x'],df4['y'] = dfMoreCols['x'],dfMoreCols['y']\n",
    "df4"
   ]
  },
  {
   "cell_type": "code",
   "execution_count": 161,
   "metadata": {
    "collapsed": false
   },
   "outputs": [
    {
     "data": {
      "text/html": [
       "<div style=\"max-height:1000px;max-width:1500px;overflow:auto;\">\n",
       "<table border=\"1\" class=\"dataframe\">\n",
       "  <thead>\n",
       "    <tr style=\"text-align: right;\">\n",
       "      <th></th>\n",
       "      <th>float_col</th>\n",
       "      <th>group</th>\n",
       "      <th>int_col</th>\n",
       "      <th>str_col</th>\n",
       "      <th>x</th>\n",
       "      <th>y</th>\n",
       "    </tr>\n",
       "  </thead>\n",
       "  <tbody>\n",
       "    <tr>\n",
       "      <th>0</th>\n",
       "      <td> 0.10</td>\n",
       "      <td>   Red</td>\n",
       "      <td>  1</td>\n",
       "      <td>    a</td>\n",
       "      <td> 0.90</td>\n",
       "      <td>  1.10</td>\n",
       "    </tr>\n",
       "    <tr>\n",
       "      <th>1</th>\n",
       "      <td> 1.85</td>\n",
       "      <td>   Red</td>\n",
       "      <td> 11</td>\n",
       "      <td> 1.85</td>\n",
       "      <td> 9.15</td>\n",
       "      <td> 12.85</td>\n",
       "    </tr>\n",
       "    <tr>\n",
       "      <th>2</th>\n",
       "      <td> 0.20</td>\n",
       "      <td> Green</td>\n",
       "      <td>  6</td>\n",
       "      <td> None</td>\n",
       "      <td> 5.80</td>\n",
       "      <td>  6.20</td>\n",
       "    </tr>\n",
       "    <tr>\n",
       "      <th>3</th>\n",
       "      <td> 1.85</td>\n",
       "      <td> Green</td>\n",
       "      <td>  8</td>\n",
       "      <td> 1.85</td>\n",
       "      <td> 6.15</td>\n",
       "      <td>  9.85</td>\n",
       "    </tr>\n",
       "    <tr>\n",
       "      <th>4</th>\n",
       "      <td>  NaN</td>\n",
       "      <td>   Red</td>\n",
       "      <td> -1</td>\n",
       "      <td>    a</td>\n",
       "      <td>  NaN</td>\n",
       "      <td>   NaN</td>\n",
       "    </tr>\n",
       "  </tbody>\n",
       "</table>\n",
       "</div>"
      ],
      "text/plain": [
       "   float_col  group  int_col str_col     x      y\n",
       "0       0.10    Red        1       a  0.90   1.10\n",
       "1       1.85    Red       11    1.85  9.15  12.85\n",
       "2       0.20  Green        6    None  5.80   6.20\n",
       "3       1.85  Green        8    1.85  6.15   9.85\n",
       "4        NaN    Red       -1       a   NaN    NaN"
      ]
     },
     "execution_count": 161,
     "metadata": {},
     "output_type": "execute_result"
    }
   ],
   "source": [
    "for col_name in dfMoreCols.columns:\n",
    "    df4[col_name] = dfMoreCols[col_name]\n",
    "df4"
   ]
  },
  {
   "cell_type": "markdown",
   "metadata": {},
   "source": [
    "# Data From Files"
   ]
  },
  {
   "cell_type": "markdown",
   "metadata": {},
   "source": [
    "My recommendation: See <a href=http://pandas.pydata.org/pandas-docs/stable/io.html>documentation</a>."
   ]
  },
  {
   "cell_type": "markdown",
   "metadata": {},
   "source": [
    "### Loading from Excel"
   ]
  },
  {
   "cell_type": "code",
   "execution_count": 162,
   "metadata": {
    "collapsed": false
   },
   "outputs": [
    {
     "data": {
      "text/html": [
       "<div style=\"max-height:1000px;max-width:1500px;overflow:auto;\">\n",
       "<table border=\"1\" class=\"dataframe\">\n",
       "  <thead>\n",
       "    <tr style=\"text-align: right;\">\n",
       "      <th></th>\n",
       "      <th>Ticker symbol</th>\n",
       "      <th>Company</th>\n",
       "      <th>SEC filings</th>\n",
       "      <th>GICS Sector</th>\n",
       "      <th>GICS Sub Industry</th>\n",
       "      <th>Address of Headquarters</th>\n",
       "      <th>Date first added</th>\n",
       "    </tr>\n",
       "  </thead>\n",
       "  <tbody>\n",
       "    <tr>\n",
       "      <th>0</th>\n",
       "      <td>  MMM</td>\n",
       "      <td>          3M Company</td>\n",
       "      <td> reports</td>\n",
       "      <td>            Industrials</td>\n",
       "      <td>         Industrial Conglomerates</td>\n",
       "      <td>      St Paul, Minnesota</td>\n",
       "      <td>                 NaN</td>\n",
       "    </tr>\n",
       "    <tr>\n",
       "      <th>1</th>\n",
       "      <td>  ABT</td>\n",
       "      <td> Abbott Laboratories</td>\n",
       "      <td> reports</td>\n",
       "      <td>            Health Care</td>\n",
       "      <td> Health Care Equipment &amp; Services</td>\n",
       "      <td> North Chicago, Illinois</td>\n",
       "      <td>                 NaN</td>\n",
       "    </tr>\n",
       "    <tr>\n",
       "      <th>2</th>\n",
       "      <td> ABBV</td>\n",
       "      <td>              AbbVie</td>\n",
       "      <td> reports</td>\n",
       "      <td>            Health Care</td>\n",
       "      <td>                  Pharmaceuticals</td>\n",
       "      <td> North Chicago, Illinois</td>\n",
       "      <td> 2012-12-31 00:00:00</td>\n",
       "    </tr>\n",
       "    <tr>\n",
       "      <th>3</th>\n",
       "      <td>  ACE</td>\n",
       "      <td>         ACE Limited</td>\n",
       "      <td> reports</td>\n",
       "      <td>             Financials</td>\n",
       "      <td>    Property &amp; Casualty Insurance</td>\n",
       "      <td>     Zurich, Switzerland</td>\n",
       "      <td>                 NaN</td>\n",
       "    </tr>\n",
       "    <tr>\n",
       "      <th>4</th>\n",
       "      <td>  ACN</td>\n",
       "      <td>       Accenture plc</td>\n",
       "      <td> reports</td>\n",
       "      <td> Information Technology</td>\n",
       "      <td>         IT Consulting &amp; Services</td>\n",
       "      <td>         Dublin, Ireland</td>\n",
       "      <td>                 NaN</td>\n",
       "    </tr>\n",
       "  </tbody>\n",
       "</table>\n",
       "</div>"
      ],
      "text/plain": [
       "  Ticker symbol              Company SEC filings             GICS Sector  \\\n",
       "0           MMM           3M Company     reports             Industrials   \n",
       "1           ABT  Abbott Laboratories     reports             Health Care   \n",
       "2          ABBV               AbbVie     reports             Health Care   \n",
       "3           ACE          ACE Limited     reports              Financials   \n",
       "4           ACN        Accenture plc     reports  Information Technology   \n",
       "\n",
       "                  GICS Sub Industry  Address of Headquarters  \\\n",
       "0          Industrial Conglomerates       St Paul, Minnesota   \n",
       "1  Health Care Equipment & Services  North Chicago, Illinois   \n",
       "2                   Pharmaceuticals  North Chicago, Illinois   \n",
       "3     Property & Casualty Insurance      Zurich, Switzerland   \n",
       "4          IT Consulting & Services          Dublin, Ireland   \n",
       "\n",
       "      Date first added  \n",
       "0                  NaN  \n",
       "1                  NaN  \n",
       "2  2012-12-31 00:00:00  \n",
       "3                  NaN  \n",
       "4                  NaN  "
      ]
     },
     "execution_count": 162,
     "metadata": {},
     "output_type": "execute_result"
    }
   ],
   "source": [
    "SnP500_tbl = pd.ExcelFile('S&P500\\\\S&P500_Feb2014.xlsx').parse('S&P500')\n",
    "SnP500_tbl.head()"
   ]
  },
  {
   "cell_type": "markdown",
   "metadata": {},
   "source": [
    "Saving to Excel (But why would you do that with Pandas?): See <a href=http://pandas.pydata.org/pandas-docs/stable/io.html#io-excel>documentation</a>. For something that looks a lot better for Excel writes, check out <a href=\"http://pythonhosted.org/openpyxl/\">OpenPyXL</a>."
   ]
  },
  {
   "cell_type": "markdown",
   "metadata": {},
   "source": [
    "### Loading CSV"
   ]
  },
  {
   "cell_type": "code",
   "execution_count": 163,
   "metadata": {
    "collapsed": false
   },
   "outputs": [],
   "source": [
    "SnP500_Index = pd.read_csv('S&P500\\\\S&P500_Data_^GSPC.csv', index_col=0, parse_dates=True) # Reading from CSV takes away the index"
   ]
  },
  {
   "cell_type": "markdown",
   "metadata": {},
   "source": [
    "Saving to CSV: See S&P500 Example or <a href=http://pandas.pydata.org/pandas-docs/stable/io.html#io-store-in-csv>documentation</a>. (I just don't want to create another file.)"
   ]
  },
  {
   "cell_type": "markdown",
   "metadata": {},
   "source": [
    "# Basic Descriptive Statistics"
   ]
  },
  {
   "cell_type": "code",
   "execution_count": 164,
   "metadata": {
    "collapsed": false
   },
   "outputs": [
    {
     "data": {
      "text/html": [
       "<div style=\"max-height:1000px;max-width:1500px;overflow:auto;\">\n",
       "<table border=\"1\" class=\"dataframe\">\n",
       "  <thead>\n",
       "    <tr style=\"text-align: right;\">\n",
       "      <th></th>\n",
       "      <th>Open</th>\n",
       "      <th>High</th>\n",
       "      <th>Low</th>\n",
       "      <th>Close</th>\n",
       "      <th>Volume</th>\n",
       "      <th>Adj Close</th>\n",
       "    </tr>\n",
       "  </thead>\n",
       "  <tbody>\n",
       "    <tr>\n",
       "      <th>count</th>\n",
       "      <td>  252.000000</td>\n",
       "      <td>  252.000000</td>\n",
       "      <td>  252.000000</td>\n",
       "      <td>  252.000000</td>\n",
       "      <td> 2.520000e+02</td>\n",
       "      <td>  252.000000</td>\n",
       "    </tr>\n",
       "    <tr>\n",
       "      <th>mean</th>\n",
       "      <td> 1642.298651</td>\n",
       "      <td> 1649.615714</td>\n",
       "      <td> 1635.740159</td>\n",
       "      <td> 1643.798968</td>\n",
       "      <td> 3.349864e+09</td>\n",
       "      <td> 1643.798968</td>\n",
       "    </tr>\n",
       "    <tr>\n",
       "      <th>std</th>\n",
       "      <td>   99.472830</td>\n",
       "      <td>   99.103795</td>\n",
       "      <td>   99.700937</td>\n",
       "      <td>   99.235110</td>\n",
       "      <td> 5.778670e+08</td>\n",
       "      <td>   99.235110</td>\n",
       "    </tr>\n",
       "    <tr>\n",
       "      <th>min</th>\n",
       "      <td> 1426.190000</td>\n",
       "      <td> 1461.890000</td>\n",
       "      <td> 1426.190000</td>\n",
       "      <td> 1457.150000</td>\n",
       "      <td> 0.000000e+00</td>\n",
       "      <td> 1457.150000</td>\n",
       "    </tr>\n",
       "    <tr>\n",
       "      <th>25%</th>\n",
       "      <td> 1560.520000</td>\n",
       "      <td> 1564.700000</td>\n",
       "      <td> 1551.847500</td>\n",
       "      <td> 1561.802500</td>\n",
       "      <td> 3.085280e+09</td>\n",
       "      <td> 1561.802500</td>\n",
       "    </tr>\n",
       "    <tr>\n",
       "      <th>50%</th>\n",
       "      <td> 1649.135000</td>\n",
       "      <td> 1656.145000</td>\n",
       "      <td> 1639.600000</td>\n",
       "      <td> 1650.405000</td>\n",
       "      <td> 3.331930e+09</td>\n",
       "      <td> 1650.405000</td>\n",
       "    </tr>\n",
       "    <tr>\n",
       "      <th>75%</th>\n",
       "      <td> 1698.480000</td>\n",
       "      <td> 1706.250000</td>\n",
       "      <td> 1693.155000</td>\n",
       "      <td> 1699.462500</td>\n",
       "      <td> 3.612322e+09</td>\n",
       "      <td> 1699.462500</td>\n",
       "    </tr>\n",
       "    <tr>\n",
       "      <th>max</th>\n",
       "      <td> 1842.970000</td>\n",
       "      <td> 1849.440000</td>\n",
       "      <td> 1842.410000</td>\n",
       "      <td> 1848.360000</td>\n",
       "      <td> 5.797280e+09</td>\n",
       "      <td> 1848.360000</td>\n",
       "    </tr>\n",
       "  </tbody>\n",
       "</table>\n",
       "</div>"
      ],
      "text/plain": [
       "              Open         High          Low        Close        Volume    Adj Close\n",
       "count   252.000000   252.000000   252.000000   252.000000  2.520000e+02   252.000000\n",
       "mean   1642.298651  1649.615714  1635.740159  1643.798968  3.349864e+09  1643.798968\n",
       "std      99.472830    99.103795    99.700937    99.235110  5.778670e+08    99.235110\n",
       "min    1426.190000  1461.890000  1426.190000  1457.150000  0.000000e+00  1457.150000\n",
       "25%    1560.520000  1564.700000  1551.847500  1561.802500  3.085280e+09  1561.802500\n",
       "50%    1649.135000  1656.145000  1639.600000  1650.405000  3.331930e+09  1650.405000\n",
       "75%    1698.480000  1706.250000  1693.155000  1699.462500  3.612322e+09  1699.462500\n",
       "max    1842.970000  1849.440000  1842.410000  1848.360000  5.797280e+09  1848.360000"
      ]
     },
     "execution_count": 164,
     "metadata": {},
     "output_type": "execute_result"
    }
   ],
   "source": [
    "SnP500_Index_2013 = SnP500_Index.ix[datetime.datetime(2013,1,1):datetime.datetime(2013,12,31)]\n",
    "SnP500_Index_2013.describe()"
   ]
  },
  {
   "cell_type": "code",
   "execution_count": 165,
   "metadata": {
    "collapsed": false
   },
   "outputs": [
    {
     "data": {
      "text/html": [
       "<div style=\"max-height:1000px;max-width:1500px;overflow:auto;\">\n",
       "<table border=\"1\" class=\"dataframe\">\n",
       "  <thead>\n",
       "    <tr style=\"text-align: right;\">\n",
       "      <th></th>\n",
       "      <th>float_col</th>\n",
       "      <th>int_col</th>\n",
       "    </tr>\n",
       "  </thead>\n",
       "  <tbody>\n",
       "    <tr>\n",
       "      <th>count</th>\n",
       "      <td> 4.000000</td>\n",
       "      <td>  5.000000</td>\n",
       "    </tr>\n",
       "    <tr>\n",
       "      <th>mean</th>\n",
       "      <td> 1.000000</td>\n",
       "      <td>  5.000000</td>\n",
       "    </tr>\n",
       "    <tr>\n",
       "      <th>std</th>\n",
       "      <td> 0.982344</td>\n",
       "      <td>  4.949747</td>\n",
       "    </tr>\n",
       "    <tr>\n",
       "      <th>min</th>\n",
       "      <td> 0.100000</td>\n",
       "      <td> -1.000000</td>\n",
       "    </tr>\n",
       "    <tr>\n",
       "      <th>25%</th>\n",
       "      <td> 0.175000</td>\n",
       "      <td>  1.000000</td>\n",
       "    </tr>\n",
       "    <tr>\n",
       "      <th>50%</th>\n",
       "      <td> 1.025000</td>\n",
       "      <td>  6.000000</td>\n",
       "    </tr>\n",
       "    <tr>\n",
       "      <th>75%</th>\n",
       "      <td> 1.850000</td>\n",
       "      <td>  8.000000</td>\n",
       "    </tr>\n",
       "    <tr>\n",
       "      <th>max</th>\n",
       "      <td> 1.850000</td>\n",
       "      <td> 11.000000</td>\n",
       "    </tr>\n",
       "  </tbody>\n",
       "</table>\n",
       "</div>"
      ],
      "text/plain": [
       "       float_col    int_col\n",
       "count   4.000000   5.000000\n",
       "mean    1.000000   5.000000\n",
       "std     0.982344   4.949747\n",
       "min     0.100000  -1.000000\n",
       "25%     0.175000   1.000000\n",
       "50%     1.025000   6.000000\n",
       "75%     1.850000   8.000000\n",
       "max     1.850000  11.000000"
      ]
     },
     "execution_count": 165,
     "metadata": {},
     "output_type": "execute_result"
    }
   ],
   "source": [
    "df.describe()"
   ]
  },
  {
   "cell_type": "code",
   "execution_count": 167,
   "metadata": {
    "collapsed": false
   },
   "outputs": [
    {
     "data": {
      "text/html": [
       "<div style=\"max-height:1000px;max-width:1500px;overflow:auto;\">\n",
       "<table border=\"1\" class=\"dataframe\">\n",
       "  <thead>\n",
       "    <tr style=\"text-align: right;\">\n",
       "      <th></th>\n",
       "      <th>float_col</th>\n",
       "      <th>group</th>\n",
       "      <th>int_col</th>\n",
       "      <th>str_col</th>\n",
       "    </tr>\n",
       "  </thead>\n",
       "  <tbody>\n",
       "    <tr>\n",
       "      <th>0</th>\n",
       "      <td> 0.10</td>\n",
       "      <td>   Red</td>\n",
       "      <td>  1</td>\n",
       "      <td>    a</td>\n",
       "    </tr>\n",
       "    <tr>\n",
       "      <th>1</th>\n",
       "      <td> 1.85</td>\n",
       "      <td>   Red</td>\n",
       "      <td> 11</td>\n",
       "      <td> 1.85</td>\n",
       "    </tr>\n",
       "    <tr>\n",
       "      <th>2</th>\n",
       "      <td> 0.20</td>\n",
       "      <td> Green</td>\n",
       "      <td>  6</td>\n",
       "      <td> None</td>\n",
       "    </tr>\n",
       "    <tr>\n",
       "      <th>3</th>\n",
       "      <td> 1.85</td>\n",
       "      <td> Green</td>\n",
       "      <td>  8</td>\n",
       "      <td> 1.85</td>\n",
       "    </tr>\n",
       "    <tr>\n",
       "      <th>4</th>\n",
       "      <td>  NaN</td>\n",
       "      <td>   Red</td>\n",
       "      <td> -1</td>\n",
       "      <td>    a</td>\n",
       "    </tr>\n",
       "  </tbody>\n",
       "</table>\n",
       "</div>"
      ],
      "text/plain": [
       "   float_col  group  int_col str_col\n",
       "0       0.10    Red        1       a\n",
       "1       1.85    Red       11    1.85\n",
       "2       0.20  Green        6    None\n",
       "3       1.85  Green        8    1.85\n",
       "4        NaN    Red       -1       a"
      ]
     },
     "execution_count": 167,
     "metadata": {},
     "output_type": "execute_result"
    }
   ],
   "source": [
    "df"
   ]
  },
  {
   "cell_type": "code",
   "execution_count": 168,
   "metadata": {
    "collapsed": false
   },
   "outputs": [
    {
     "data": {
      "text/plain": [
       "Red      3\n",
       "Green    2\n",
       "dtype: int64"
      ]
     },
     "execution_count": 168,
     "metadata": {},
     "output_type": "execute_result"
    }
   ],
   "source": [
    "df['group'].value_counts()"
   ]
  },
  {
   "cell_type": "code",
   "execution_count": 169,
   "metadata": {
    "collapsed": false
   },
   "outputs": [
    {
     "data": {
      "text/plain": [
       "1.85    2\n",
       "a       2\n",
       "dtype: int64"
      ]
     },
     "execution_count": 169,
     "metadata": {},
     "output_type": "execute_result"
    }
   ],
   "source": [
    "df['str_col'].value_counts()"
   ]
  },
  {
   "cell_type": "code",
   "execution_count": 170,
   "metadata": {
    "collapsed": false
   },
   "outputs": [
    {
     "data": {
      "text/html": [
       "<div style=\"max-height:1000px;max-width:1500px;overflow:auto;\">\n",
       "<table border=\"1\" class=\"dataframe\">\n",
       "  <thead>\n",
       "    <tr style=\"text-align: right;\">\n",
       "      <th></th>\n",
       "      <th>float_col</th>\n",
       "      <th>int_col</th>\n",
       "    </tr>\n",
       "  </thead>\n",
       "  <tbody>\n",
       "    <tr>\n",
       "      <th>float_col</th>\n",
       "      <td> 0.965000</td>\n",
       "      <td>  3.483333</td>\n",
       "    </tr>\n",
       "    <tr>\n",
       "      <th>int_col</th>\n",
       "      <td> 3.483333</td>\n",
       "      <td> 24.500000</td>\n",
       "    </tr>\n",
       "  </tbody>\n",
       "</table>\n",
       "</div>"
      ],
      "text/plain": [
       "           float_col    int_col\n",
       "float_col   0.965000   3.483333\n",
       "int_col     3.483333  24.500000"
      ]
     },
     "execution_count": 170,
     "metadata": {},
     "output_type": "execute_result"
    }
   ],
   "source": [
    "df.cov()"
   ]
  },
  {
   "cell_type": "code",
   "execution_count": 171,
   "metadata": {
    "collapsed": false
   },
   "outputs": [
    {
     "data": {
      "text/html": [
       "<div style=\"max-height:1000px;max-width:1500px;overflow:auto;\">\n",
       "<table border=\"1\" class=\"dataframe\">\n",
       "  <thead>\n",
       "    <tr style=\"text-align: right;\">\n",
       "      <th></th>\n",
       "      <th>float_col</th>\n",
       "      <th>int_col</th>\n",
       "    </tr>\n",
       "  </thead>\n",
       "  <tbody>\n",
       "    <tr>\n",
       "      <th>float_col</th>\n",
       "      <td> 1.000000</td>\n",
       "      <td> 0.843634</td>\n",
       "    </tr>\n",
       "    <tr>\n",
       "      <th>int_col</th>\n",
       "      <td> 0.843634</td>\n",
       "      <td> 1.000000</td>\n",
       "    </tr>\n",
       "  </tbody>\n",
       "</table>\n",
       "</div>"
      ],
      "text/plain": [
       "           float_col   int_col\n",
       "float_col   1.000000  0.843634\n",
       "int_col     0.843634  1.000000"
      ]
     },
     "execution_count": 171,
     "metadata": {},
     "output_type": "execute_result"
    }
   ],
   "source": [
    "df.corr()"
   ]
  },
  {
   "cell_type": "markdown",
   "metadata": {},
   "source": [
    "<h3>Useful Functions</h3>\n",
    "<table border=\"1\">\n",
    "<colgroup>\n",
    "<col width=\"20%\">\n",
    "<col width=\"80%\">\n",
    "</colgroup>\n",
    "<thead valign=\"bottom\">\n",
    "<tr><th class=\"head\">Function</th>\n",
    "<th class=\"head\">Description</th>\n",
    "</tr>\n",
    "</thead>\n",
    "<tbody valign=\"top\">\n",
    "<tr><td><tt><span class=\"pre\">count</span></tt></td>\n",
    "<td>Number of non-null observations</td>\n",
    "</tr>\n",
    "<tr><td><tt><span class=\"pre\">sum</span></tt></td>\n",
    "<td>Sum of values</td>\n",
    "</tr>\n",
    "<tr><td><tt><span class=\"pre\">mean</span></tt></td>\n",
    "<td>Mean of values</td>\n",
    "</tr>\n",
    "<tr><td><tt><span class=\"pre\">mad</span></tt></td>\n",
    "<td>Mean absolute deviation</td>\n",
    "</tr>\n",
    "<tr><td><tt><span class=\"pre\">median</span></tt></td>\n",
    "<td>Arithmetic median of values</td>\n",
    "</tr>\n",
    "<tr><td><tt><span class=\"pre\">min</span></tt></td>\n",
    "<td>Minimum</td>\n",
    "</tr>\n",
    "<tr><td><tt><span class=\"pre\">max</span></tt></td>\n",
    "<td>Maximum</td>\n",
    "</tr>\n",
    "<tr><td><tt><span class=\"pre\">mode</span></tt></td>\n",
    "<td>Mode</td>\n",
    "</tr>\n",
    "<tr><td><tt><span class=\"pre\">abs</span></tt></td>\n",
    "<td>Absolute Value</td>\n",
    "</tr>\n",
    "<tr><td><tt><span class=\"pre\">prod</span></tt></td>\n",
    "<td>Product of values</td>\n",
    "</tr>\n",
    "<tr><td><tt><span class=\"pre\">std</span></tt></td>\n",
    "<td>Unbiased standard deviation</td>\n",
    "</tr>\n",
    "<tr><td><tt><span class=\"pre\">var</span></tt></td>\n",
    "<td>Unbiased variance</td>\n",
    "</tr>\n",
    "<tr><td><tt><span class=\"pre\">skew</span></tt></td>\n",
    "<td>Unbiased skewness (3rd moment)</td>\n",
    "</tr>\n",
    "<tr><td><tt><span class=\"pre\">kurt</span></tt></td>\n",
    "<td>Unbiased kurtosis (4th moment)</td>\n",
    "</tr>\n",
    "<tr><td><tt><span class=\"pre\">quantile</span></tt></td>\n",
    "<td>Sample quantile (value at %)</td>\n",
    "</tr>\n",
    "<tr><td><tt><span class=\"pre\">cumsum</span></tt></td>\n",
    "<td>Cumulative sum</td>\n",
    "</tr>\n",
    "<tr><td><tt><span class=\"pre\">cumprod</span></tt></td>\n",
    "<td>Cumulative product</td>\n",
    "</tr>\n",
    "<tr><td><tt><span class=\"pre\">cummax</span></tt></td>\n",
    "<td>Cumulative maximum</td>\n",
    "</tr>\n",
    "<tr><td><tt><span class=\"pre\">cummin</span></tt></td>\n",
    "<td>Cumulative minimum</td>\n",
    "</tr>\n",
    "</tbody>\n",
    "</table>"
   ]
  },
  {
   "cell_type": "markdown",
   "metadata": {},
   "source": [
    "### Doing Things By Level"
   ]
  },
  {
   "cell_type": "code",
   "execution_count": 172,
   "metadata": {
    "collapsed": false
   },
   "outputs": [
    {
     "data": {
      "text/html": [
       "<div style=\"max-height:1000px;max-width:1500px;overflow:auto;\">\n",
       "<table border=\"1\" class=\"dataframe\">\n",
       "  <thead>\n",
       "    <tr style=\"text-align: right;\">\n",
       "      <th></th>\n",
       "      <th></th>\n",
       "      <th>float_col</th>\n",
       "      <th>int_col</th>\n",
       "      <th>str_col</th>\n",
       "    </tr>\n",
       "    <tr>\n",
       "      <th>group</th>\n",
       "      <th>myIndex</th>\n",
       "      <th></th>\n",
       "      <th></th>\n",
       "      <th></th>\n",
       "    </tr>\n",
       "  </thead>\n",
       "  <tbody>\n",
       "    <tr>\n",
       "      <th rowspan=\"2\" valign=\"top\">Red</th>\n",
       "      <th>one</th>\n",
       "      <td> 0.10</td>\n",
       "      <td>  1</td>\n",
       "      <td>    a</td>\n",
       "    </tr>\n",
       "    <tr>\n",
       "      <th>two</th>\n",
       "      <td> 1.85</td>\n",
       "      <td> 11</td>\n",
       "      <td> 1.85</td>\n",
       "    </tr>\n",
       "    <tr>\n",
       "      <th rowspan=\"2\" valign=\"top\">Green</th>\n",
       "      <th>three</th>\n",
       "      <td> 0.20</td>\n",
       "      <td>  6</td>\n",
       "      <td> None</td>\n",
       "    </tr>\n",
       "    <tr>\n",
       "      <th>four</th>\n",
       "      <td> 1.85</td>\n",
       "      <td>  8</td>\n",
       "      <td> 1.85</td>\n",
       "    </tr>\n",
       "    <tr>\n",
       "      <th>Red</th>\n",
       "      <th>42</th>\n",
       "      <td>  NaN</td>\n",
       "      <td> -1</td>\n",
       "      <td>    a</td>\n",
       "    </tr>\n",
       "  </tbody>\n",
       "</table>\n",
       "</div>"
      ],
      "text/plain": [
       "               float_col  int_col str_col\n",
       "group myIndex                            \n",
       "Red   one           0.10        1       a\n",
       "      two           1.85       11    1.85\n",
       "Green three         0.20        6    None\n",
       "      four          1.85        8    1.85\n",
       "Red   42             NaN       -1       a"
      ]
     },
     "execution_count": 172,
     "metadata": {},
     "output_type": "execute_result"
    }
   ],
   "source": [
    "df1 # Remember this multi-index guy?"
   ]
  },
  {
   "cell_type": "code",
   "execution_count": 173,
   "metadata": {
    "collapsed": false
   },
   "outputs": [
    {
     "data": {
      "text/html": [
       "<div style=\"max-height:1000px;max-width:1500px;overflow:auto;\">\n",
       "<table border=\"1\" class=\"dataframe\">\n",
       "  <thead>\n",
       "    <tr style=\"text-align: right;\">\n",
       "      <th></th>\n",
       "      <th>float_col</th>\n",
       "      <th>int_col</th>\n",
       "    </tr>\n",
       "    <tr>\n",
       "      <th>group</th>\n",
       "      <th></th>\n",
       "      <th></th>\n",
       "    </tr>\n",
       "  </thead>\n",
       "  <tbody>\n",
       "    <tr>\n",
       "      <th>Green</th>\n",
       "      <td> 1.025</td>\n",
       "      <td> 7.000000</td>\n",
       "    </tr>\n",
       "    <tr>\n",
       "      <th>Red</th>\n",
       "      <td> 0.975</td>\n",
       "      <td> 3.666667</td>\n",
       "    </tr>\n",
       "  </tbody>\n",
       "</table>\n",
       "</div>"
      ],
      "text/plain": [
       "       float_col   int_col\n",
       "group                     \n",
       "Green      1.025  7.000000\n",
       "Red        0.975  3.666667"
      ]
     },
     "execution_count": 173,
     "metadata": {},
     "output_type": "execute_result"
    }
   ],
   "source": [
    "df1.mean(level = 'group')"
   ]
  },
  {
   "cell_type": "code",
   "execution_count": 176,
   "metadata": {
    "collapsed": false
   },
   "outputs": [
    {
     "data": {
      "text/html": [
       "<div style=\"max-height:1000px;max-width:1500px;overflow:auto;\">\n",
       "<table border=\"1\" class=\"dataframe\">\n",
       "  <thead>\n",
       "    <tr>\n",
       "      <th></th>\n",
       "      <th colspan=\"2\" halign=\"left\">float_col</th>\n",
       "      <th colspan=\"2\" halign=\"left\">int_col</th>\n",
       "    </tr>\n",
       "    <tr>\n",
       "      <th>group</th>\n",
       "      <th>Green</th>\n",
       "      <th>Red</th>\n",
       "      <th>Green</th>\n",
       "      <th>Red</th>\n",
       "    </tr>\n",
       "    <tr>\n",
       "      <th>myIndex</th>\n",
       "      <th></th>\n",
       "      <th></th>\n",
       "      <th></th>\n",
       "      <th></th>\n",
       "    </tr>\n",
       "  </thead>\n",
       "  <tbody>\n",
       "    <tr>\n",
       "      <th>42</th>\n",
       "      <td>  NaN</td>\n",
       "      <td>  NaN</td>\n",
       "      <td>NaN</td>\n",
       "      <td> -1</td>\n",
       "    </tr>\n",
       "    <tr>\n",
       "      <th>four</th>\n",
       "      <td> 1.85</td>\n",
       "      <td>  NaN</td>\n",
       "      <td>  8</td>\n",
       "      <td>NaN</td>\n",
       "    </tr>\n",
       "    <tr>\n",
       "      <th>one</th>\n",
       "      <td>  NaN</td>\n",
       "      <td> 0.10</td>\n",
       "      <td>NaN</td>\n",
       "      <td>  1</td>\n",
       "    </tr>\n",
       "    <tr>\n",
       "      <th>three</th>\n",
       "      <td> 0.20</td>\n",
       "      <td>  NaN</td>\n",
       "      <td>  6</td>\n",
       "      <td>NaN</td>\n",
       "    </tr>\n",
       "    <tr>\n",
       "      <th>two</th>\n",
       "      <td>  NaN</td>\n",
       "      <td> 1.85</td>\n",
       "      <td>NaN</td>\n",
       "      <td> 11</td>\n",
       "    </tr>\n",
       "  </tbody>\n",
       "</table>\n",
       "</div>"
      ],
      "text/plain": [
       "         float_col        int_col     \n",
       "group        Green   Red    Green  Red\n",
       "myIndex                               \n",
       "42             NaN   NaN      NaN   -1\n",
       "four          1.85   NaN        8  NaN\n",
       "one            NaN  0.10      NaN    1\n",
       "three         0.20   NaN        6  NaN\n",
       "two            NaN  1.85      NaN   11"
      ]
     },
     "execution_count": 176,
     "metadata": {},
     "output_type": "execute_result"
    }
   ],
   "source": [
    "df1[['float_col', 'int_col']].unstack(0) # What an empty DataFrame"
   ]
  },
  {
   "cell_type": "code",
   "execution_count": 177,
   "metadata": {
    "collapsed": false
   },
   "outputs": [
    {
     "data": {
      "text/html": [
       "<div style=\"max-height:1000px;max-width:1500px;overflow:auto;\">\n",
       "<table border=\"1\" class=\"dataframe\">\n",
       "  <thead>\n",
       "    <tr>\n",
       "      <th></th>\n",
       "      <th colspan=\"2\" halign=\"left\">float_col</th>\n",
       "      <th colspan=\"2\" halign=\"left\">int_col</th>\n",
       "    </tr>\n",
       "    <tr>\n",
       "      <th>group</th>\n",
       "      <th>Green</th>\n",
       "      <th>Red</th>\n",
       "      <th>Green</th>\n",
       "      <th>Red</th>\n",
       "    </tr>\n",
       "    <tr>\n",
       "      <th>myIndex</th>\n",
       "      <th></th>\n",
       "      <th></th>\n",
       "      <th></th>\n",
       "      <th></th>\n",
       "    </tr>\n",
       "  </thead>\n",
       "  <tbody>\n",
       "    <tr>\n",
       "      <th>42</th>\n",
       "      <td> 0.99</td>\n",
       "      <td> 0.99</td>\n",
       "      <td> 0.99</td>\n",
       "      <td> -1.00</td>\n",
       "    </tr>\n",
       "    <tr>\n",
       "      <th>four</th>\n",
       "      <td> 1.85</td>\n",
       "      <td> 0.99</td>\n",
       "      <td> 8.00</td>\n",
       "      <td>  0.99</td>\n",
       "    </tr>\n",
       "    <tr>\n",
       "      <th>one</th>\n",
       "      <td> 0.99</td>\n",
       "      <td> 0.10</td>\n",
       "      <td> 0.99</td>\n",
       "      <td>  1.00</td>\n",
       "    </tr>\n",
       "    <tr>\n",
       "      <th>three</th>\n",
       "      <td> 0.20</td>\n",
       "      <td> 0.99</td>\n",
       "      <td> 6.00</td>\n",
       "      <td>  0.99</td>\n",
       "    </tr>\n",
       "    <tr>\n",
       "      <th>two</th>\n",
       "      <td> 0.99</td>\n",
       "      <td> 1.85</td>\n",
       "      <td> 0.99</td>\n",
       "      <td> 11.00</td>\n",
       "    </tr>\n",
       "  </tbody>\n",
       "</table>\n",
       "</div>"
      ],
      "text/plain": [
       "         float_col        int_col       \n",
       "group        Green   Red    Green    Red\n",
       "myIndex                                 \n",
       "42            0.99  0.99     0.99  -1.00\n",
       "four          1.85  0.99     8.00   0.99\n",
       "one           0.99  0.10     0.99   1.00\n",
       "three         0.20  0.99     6.00   0.99\n",
       "two           0.99  1.85     0.99  11.00"
      ]
     },
     "execution_count": 177,
     "metadata": {},
     "output_type": "execute_result"
    }
   ],
   "source": [
    "df1[['float_col', 'int_col']].unstack(0).fillna(0.99) # Fill 'er up"
   ]
  },
  {
   "cell_type": "code",
   "execution_count": null,
   "metadata": {
    "collapsed": false
   },
   "outputs": [],
   "source": [
    "df1[['float_col', 'int_col']].unstack(0).fillna(0.99).sum(level='group', axis=1)"
   ]
  },
  {
   "cell_type": "markdown",
   "metadata": {},
   "source": [
    "# Pivot Tables"
   ]
  },
  {
   "cell_type": "code",
   "execution_count": 178,
   "metadata": {
    "collapsed": false
   },
   "outputs": [
    {
     "data": {
      "text/html": [
       "<div style=\"max-height:1000px;max-width:1500px;overflow:auto;\">\n",
       "<table border=\"1\" class=\"dataframe\">\n",
       "  <thead>\n",
       "    <tr style=\"text-align: right;\">\n",
       "      <th></th>\n",
       "      <th>A</th>\n",
       "      <th>B</th>\n",
       "      <th>C</th>\n",
       "      <th>D</th>\n",
       "      <th>E</th>\n",
       "    </tr>\n",
       "  </thead>\n",
       "  <tbody>\n",
       "    <tr>\n",
       "      <th>0 </th>\n",
       "      <td>   one</td>\n",
       "      <td> A</td>\n",
       "      <td> foo</td>\n",
       "      <td>-0.107843</td>\n",
       "      <td> 2.426957</td>\n",
       "    </tr>\n",
       "    <tr>\n",
       "      <th>1 </th>\n",
       "      <td>   one</td>\n",
       "      <td> B</td>\n",
       "      <td> foo</td>\n",
       "      <td>-1.263446</td>\n",
       "      <td> 0.122272</td>\n",
       "    </tr>\n",
       "    <tr>\n",
       "      <th>2 </th>\n",
       "      <td>   two</td>\n",
       "      <td> C</td>\n",
       "      <td> foo</td>\n",
       "      <td>-0.210395</td>\n",
       "      <td>-1.443522</td>\n",
       "    </tr>\n",
       "    <tr>\n",
       "      <th>3 </th>\n",
       "      <td> three</td>\n",
       "      <td> A</td>\n",
       "      <td> bar</td>\n",
       "      <td> 0.396794</td>\n",
       "      <td> 0.471695</td>\n",
       "    </tr>\n",
       "    <tr>\n",
       "      <th>4 </th>\n",
       "      <td>   one</td>\n",
       "      <td> B</td>\n",
       "      <td> bar</td>\n",
       "      <td>-1.245678</td>\n",
       "      <td> 1.144898</td>\n",
       "    </tr>\n",
       "    <tr>\n",
       "      <th>5 </th>\n",
       "      <td>   one</td>\n",
       "      <td> C</td>\n",
       "      <td> bar</td>\n",
       "      <td> 0.294552</td>\n",
       "      <td>-1.468975</td>\n",
       "    </tr>\n",
       "    <tr>\n",
       "      <th>6 </th>\n",
       "      <td>   two</td>\n",
       "      <td> A</td>\n",
       "      <td> foo</td>\n",
       "      <td>-1.496134</td>\n",
       "      <td> 0.403120</td>\n",
       "    </tr>\n",
       "    <tr>\n",
       "      <th>7 </th>\n",
       "      <td> three</td>\n",
       "      <td> B</td>\n",
       "      <td> foo</td>\n",
       "      <td> 0.998615</td>\n",
       "      <td> 0.411968</td>\n",
       "    </tr>\n",
       "    <tr>\n",
       "      <th>8 </th>\n",
       "      <td>   one</td>\n",
       "      <td> C</td>\n",
       "      <td> foo</td>\n",
       "      <td> 0.097325</td>\n",
       "      <td> 1.043885</td>\n",
       "    </tr>\n",
       "    <tr>\n",
       "      <th>9 </th>\n",
       "      <td>   one</td>\n",
       "      <td> A</td>\n",
       "      <td> bar</td>\n",
       "      <td>-1.209815</td>\n",
       "      <td> 0.070529</td>\n",
       "    </tr>\n",
       "    <tr>\n",
       "      <th>10</th>\n",
       "      <td>   two</td>\n",
       "      <td> B</td>\n",
       "      <td> bar</td>\n",
       "      <td>-0.312985</td>\n",
       "      <td> 1.243236</td>\n",
       "    </tr>\n",
       "    <tr>\n",
       "      <th>11</th>\n",
       "      <td> three</td>\n",
       "      <td> C</td>\n",
       "      <td> bar</td>\n",
       "      <td>-0.980293</td>\n",
       "      <td>-0.388681</td>\n",
       "    </tr>\n",
       "  </tbody>\n",
       "</table>\n",
       "</div>"
      ],
      "text/plain": [
       "        A  B    C         D         E\n",
       "0     one  A  foo -0.107843  2.426957\n",
       "1     one  B  foo -1.263446  0.122272\n",
       "2     two  C  foo -0.210395 -1.443522\n",
       "3   three  A  bar  0.396794  0.471695\n",
       "4     one  B  bar -1.245678  1.144898\n",
       "5     one  C  bar  0.294552 -1.468975\n",
       "6     two  A  foo -1.496134  0.403120\n",
       "7   three  B  foo  0.998615  0.411968\n",
       "8     one  C  foo  0.097325  1.043885\n",
       "9     one  A  bar -1.209815  0.070529\n",
       "10    two  B  bar -0.312985  1.243236\n",
       "11  three  C  bar -0.980293 -0.388681"
      ]
     },
     "execution_count": 178,
     "metadata": {},
     "output_type": "execute_result"
    }
   ],
   "source": [
    "dfPT = pd.DataFrame({'A' : ['one', 'one', 'two', 'three'] * 3, \\\n",
    "                     'B' : ['A', 'B', 'C'] * 4, \\\n",
    "                     'C' : ['foo', 'foo', 'foo', 'bar', 'bar', 'bar'] * 2, \\\n",
    "                     'D' : np.random.randn(12), \\\n",
    "                     'E' : np.random.randn(12)})\n",
    "dfPT"
   ]
  },
  {
   "cell_type": "code",
   "execution_count": 179,
   "metadata": {
    "collapsed": false
   },
   "outputs": [
    {
     "data": {
      "text/html": [
       "<div style=\"max-height:1000px;max-width:1500px;overflow:auto;\">\n",
       "<table border=\"1\" class=\"dataframe\">\n",
       "  <thead>\n",
       "    <tr style=\"text-align: right;\">\n",
       "      <th></th>\n",
       "      <th>C</th>\n",
       "      <th>bar</th>\n",
       "      <th>foo</th>\n",
       "    </tr>\n",
       "    <tr>\n",
       "      <th>A</th>\n",
       "      <th>B</th>\n",
       "      <th></th>\n",
       "      <th></th>\n",
       "    </tr>\n",
       "  </thead>\n",
       "  <tbody>\n",
       "    <tr>\n",
       "      <th rowspan=\"3\" valign=\"top\">one</th>\n",
       "      <th>A</th>\n",
       "      <td>-1.209815</td>\n",
       "      <td>-0.107843</td>\n",
       "    </tr>\n",
       "    <tr>\n",
       "      <th>B</th>\n",
       "      <td>-1.245678</td>\n",
       "      <td>-1.263446</td>\n",
       "    </tr>\n",
       "    <tr>\n",
       "      <th>C</th>\n",
       "      <td> 0.294552</td>\n",
       "      <td> 0.097325</td>\n",
       "    </tr>\n",
       "    <tr>\n",
       "      <th rowspan=\"3\" valign=\"top\">three</th>\n",
       "      <th>A</th>\n",
       "      <td> 0.396794</td>\n",
       "      <td>      NaN</td>\n",
       "    </tr>\n",
       "    <tr>\n",
       "      <th>B</th>\n",
       "      <td>      NaN</td>\n",
       "      <td> 0.998615</td>\n",
       "    </tr>\n",
       "    <tr>\n",
       "      <th>C</th>\n",
       "      <td>-0.980293</td>\n",
       "      <td>      NaN</td>\n",
       "    </tr>\n",
       "    <tr>\n",
       "      <th rowspan=\"3\" valign=\"top\">two</th>\n",
       "      <th>A</th>\n",
       "      <td>      NaN</td>\n",
       "      <td>-1.496134</td>\n",
       "    </tr>\n",
       "    <tr>\n",
       "      <th>B</th>\n",
       "      <td>-0.312985</td>\n",
       "      <td>      NaN</td>\n",
       "    </tr>\n",
       "    <tr>\n",
       "      <th>C</th>\n",
       "      <td>      NaN</td>\n",
       "      <td>-0.210395</td>\n",
       "    </tr>\n",
       "  </tbody>\n",
       "</table>\n",
       "</div>"
      ],
      "text/plain": [
       "C             bar       foo\n",
       "A     B                    \n",
       "one   A -1.209815 -0.107843\n",
       "      B -1.245678 -1.263446\n",
       "      C  0.294552  0.097325\n",
       "three A  0.396794       NaN\n",
       "      B       NaN  0.998615\n",
       "      C -0.980293       NaN\n",
       "two   A       NaN -1.496134\n",
       "      B -0.312985       NaN\n",
       "      C       NaN -0.210395"
      ]
     },
     "execution_count": 179,
     "metadata": {},
     "output_type": "execute_result"
    }
   ],
   "source": [
    "pd.pivot_table(dfPT, values='D', rows=['A', 'B'], cols=['C']) # The NaNs come from inexistent values"
   ]
  },
  {
   "cell_type": "code",
   "execution_count": 185,
   "metadata": {
    "collapsed": false
   },
   "outputs": [
    {
     "data": {
      "text/html": [
       "<div style=\"max-height:1000px;max-width:1500px;overflow:auto;\">\n",
       "<table border=\"1\" class=\"dataframe\">\n",
       "  <thead>\n",
       "    <tr style=\"text-align: right;\">\n",
       "      <th></th>\n",
       "      <th>C</th>\n",
       "      <th>bar</th>\n",
       "      <th>foo</th>\n",
       "    </tr>\n",
       "    <tr>\n",
       "      <th>A</th>\n",
       "      <th>B</th>\n",
       "      <th></th>\n",
       "      <th></th>\n",
       "    </tr>\n",
       "  </thead>\n",
       "  <tbody>\n",
       "    <tr>\n",
       "      <th rowspan=\"3\" valign=\"top\">one</th>\n",
       "      <th>A</th>\n",
       "      <td>-1.209815</td>\n",
       "      <td>-0.107843</td>\n",
       "    </tr>\n",
       "    <tr>\n",
       "      <th>B</th>\n",
       "      <td>-1.245678</td>\n",
       "      <td>-1.263446</td>\n",
       "    </tr>\n",
       "    <tr>\n",
       "      <th>C</th>\n",
       "      <td> 0.294552</td>\n",
       "      <td> 0.097325</td>\n",
       "    </tr>\n",
       "    <tr>\n",
       "      <th rowspan=\"3\" valign=\"top\">three</th>\n",
       "      <th>A</th>\n",
       "      <td> 0.396794</td>\n",
       "      <td>      NaN</td>\n",
       "    </tr>\n",
       "    <tr>\n",
       "      <th>B</th>\n",
       "      <td>      NaN</td>\n",
       "      <td> 0.998615</td>\n",
       "    </tr>\n",
       "    <tr>\n",
       "      <th>C</th>\n",
       "      <td>-0.980293</td>\n",
       "      <td>      NaN</td>\n",
       "    </tr>\n",
       "    <tr>\n",
       "      <th rowspan=\"3\" valign=\"top\">two</th>\n",
       "      <th>A</th>\n",
       "      <td>      NaN</td>\n",
       "      <td>-1.496134</td>\n",
       "    </tr>\n",
       "    <tr>\n",
       "      <th>B</th>\n",
       "      <td>-0.312985</td>\n",
       "      <td>      NaN</td>\n",
       "    </tr>\n",
       "    <tr>\n",
       "      <th>C</th>\n",
       "      <td>      NaN</td>\n",
       "      <td>-0.210395</td>\n",
       "    </tr>\n",
       "  </tbody>\n",
       "</table>\n",
       "</div>"
      ],
      "text/plain": [
       "C             bar       foo\n",
       "A     B                    \n",
       "one   A -1.209815 -0.107843\n",
       "      B -1.245678 -1.263446\n",
       "      C  0.294552  0.097325\n",
       "three A  0.396794       NaN\n",
       "      B       NaN  0.998615\n",
       "      C -0.980293       NaN\n",
       "two   A       NaN -1.496134\n",
       "      B -0.312985       NaN\n",
       "      C       NaN -0.210395"
      ]
     },
     "execution_count": 185,
     "metadata": {},
     "output_type": "execute_result"
    }
   ],
   "source": [
    "pd.pivot_table(dfPT, values='D', rows=['A'], cols=['C']) # Aggregation function is \"mean\" by default (was applied earlier)"
   ]
  },
  {
   "cell_type": "code",
   "execution_count": 186,
   "metadata": {
    "collapsed": false
   },
   "outputs": [
    {
     "data": {
      "text/html": [
       "<div style=\"max-height:1000px;max-width:1500px;overflow:auto;\">\n",
       "<table border=\"1\" class=\"dataframe\">\n",
       "  <thead>\n",
       "    <tr style=\"text-align: right;\">\n",
       "      <th>C</th>\n",
       "      <th>bar</th>\n",
       "      <th>foo</th>\n",
       "    </tr>\n",
       "    <tr>\n",
       "      <th>A</th>\n",
       "      <th></th>\n",
       "      <th></th>\n",
       "    </tr>\n",
       "  </thead>\n",
       "  <tbody>\n",
       "    <tr>\n",
       "      <th>one</th>\n",
       "      <td>-2.160942</td>\n",
       "      <td>-1.273963</td>\n",
       "    </tr>\n",
       "    <tr>\n",
       "      <th>three</th>\n",
       "      <td>-0.583499</td>\n",
       "      <td> 0.998615</td>\n",
       "    </tr>\n",
       "    <tr>\n",
       "      <th>two</th>\n",
       "      <td>-0.312985</td>\n",
       "      <td>-1.706528</td>\n",
       "    </tr>\n",
       "  </tbody>\n",
       "</table>\n",
       "</div>"
      ],
      "text/plain": [
       "C           bar       foo\n",
       "A                        \n",
       "one   -2.160942 -1.273963\n",
       "three -0.583499  0.998615\n",
       "two   -0.312985 -1.706528"
      ]
     },
     "execution_count": 186,
     "metadata": {},
     "output_type": "execute_result"
    }
   ],
   "source": [
    "pd.pivot_table(dfPT, values='D', rows=['A'], cols=['C'], aggfunc=np.sum)"
   ]
  },
  {
   "cell_type": "code",
   "execution_count": 188,
   "metadata": {
    "collapsed": false
   },
   "outputs": [
    {
     "data": {
      "text/html": [
       "<div style=\"max-height:1000px;max-width:1500px;overflow:auto;\">\n",
       "<table border=\"1\" class=\"dataframe\">\n",
       "  <thead>\n",
       "    <tr>\n",
       "      <th></th>\n",
       "      <th></th>\n",
       "      <th colspan=\"2\" halign=\"left\">D</th>\n",
       "    </tr>\n",
       "    <tr>\n",
       "      <th></th>\n",
       "      <th>C</th>\n",
       "      <th>bar</th>\n",
       "      <th>foo</th>\n",
       "    </tr>\n",
       "    <tr>\n",
       "      <th>A</th>\n",
       "      <th>B</th>\n",
       "      <th></th>\n",
       "      <th></th>\n",
       "    </tr>\n",
       "  </thead>\n",
       "  <tbody>\n",
       "    <tr>\n",
       "      <th rowspan=\"3\" valign=\"top\">one</th>\n",
       "      <th>A</th>\n",
       "      <td> 0.000000</td>\n",
       "      <td> 0.000000</td>\n",
       "    </tr>\n",
       "    <tr>\n",
       "      <th>B</th>\n",
       "      <td> 0.000000</td>\n",
       "      <td> 0.000000</td>\n",
       "    </tr>\n",
       "    <tr>\n",
       "      <th>C</th>\n",
       "      <td> 0.294552</td>\n",
       "      <td> 0.097325</td>\n",
       "    </tr>\n",
       "    <tr>\n",
       "      <th rowspan=\"3\" valign=\"top\">three</th>\n",
       "      <th>A</th>\n",
       "      <td> 0.396794</td>\n",
       "      <td>      NaN</td>\n",
       "    </tr>\n",
       "    <tr>\n",
       "      <th>B</th>\n",
       "      <td>      NaN</td>\n",
       "      <td> 0.998615</td>\n",
       "    </tr>\n",
       "    <tr>\n",
       "      <th>C</th>\n",
       "      <td> 0.000000</td>\n",
       "      <td>      NaN</td>\n",
       "    </tr>\n",
       "    <tr>\n",
       "      <th rowspan=\"3\" valign=\"top\">two</th>\n",
       "      <th>A</th>\n",
       "      <td>      NaN</td>\n",
       "      <td> 0.000000</td>\n",
       "    </tr>\n",
       "    <tr>\n",
       "      <th>B</th>\n",
       "      <td> 0.000000</td>\n",
       "      <td>      NaN</td>\n",
       "    </tr>\n",
       "    <tr>\n",
       "      <th>C</th>\n",
       "      <td>      NaN</td>\n",
       "      <td> 0.000000</td>\n",
       "    </tr>\n",
       "  </tbody>\n",
       "</table>\n",
       "</div>"
      ],
      "text/plain": [
       "                D          \n",
       "C             bar       foo\n",
       "A     B                    \n",
       "one   A  0.000000  0.000000\n",
       "      B  0.000000  0.000000\n",
       "      C  0.294552  0.097325\n",
       "three A  0.396794       NaN\n",
       "      B       NaN  0.998615\n",
       "      C  0.000000       NaN\n",
       "two   A       NaN  0.000000\n",
       "      B  0.000000       NaN\n",
       "      C       NaN  0.000000"
      ]
     },
     "execution_count": 188,
     "metadata": {},
     "output_type": "execute_result"
    }
   ],
   "source": [
    "def sum_positive(seq) : return sum(map(lambda x: x if x > 0 else 0, seq))\n",
    "pd.pivot_table(dfPT, values=['D'], rows=['A','B'], cols=['C'], aggfunc=sum_positive) # Another example."
   ]
  },
  {
   "cell_type": "code",
   "execution_count": 184,
   "metadata": {
    "collapsed": false
   },
   "outputs": [
    {
     "data": {
      "text/plain": [
       "(0, 0.0)"
      ]
     },
     "execution_count": 184,
     "metadata": {},
     "output_type": "execute_result"
    }
   ],
   "source": [
    "(sum_positive([NaN]), sum_positive([])) # Indicates aggfunc is not called on an empty list."
   ]
  },
  {
   "cell_type": "markdown",
   "metadata": {},
   "source": [
    "# Merge (Join) and Concatenate"
   ]
  },
  {
   "cell_type": "markdown",
   "metadata": {},
   "source": [
    "### Database-like Joins"
   ]
  },
  {
   "cell_type": "code",
   "execution_count": 189,
   "metadata": {
    "collapsed": false
   },
   "outputs": [
    {
     "data": {
      "text/html": [
       "<div style=\"max-height:1000px;max-width:1500px;overflow:auto;\">\n",
       "<table border=\"1\" class=\"dataframe\">\n",
       "  <thead>\n",
       "    <tr style=\"text-align: right;\">\n",
       "      <th></th>\n",
       "      <th>colour</th>\n",
       "      <th>group</th>\n",
       "    </tr>\n",
       "  </thead>\n",
       "  <tbody>\n",
       "    <tr>\n",
       "      <th>0</th>\n",
       "      <td> FF0000</td>\n",
       "      <td>   Red</td>\n",
       "    </tr>\n",
       "    <tr>\n",
       "      <th>1</th>\n",
       "      <td> 00FF00</td>\n",
       "      <td> Green</td>\n",
       "    </tr>\n",
       "    <tr>\n",
       "      <th>2</th>\n",
       "      <td> 0000FF</td>\n",
       "      <td>  Blue</td>\n",
       "    </tr>\n",
       "  </tbody>\n",
       "</table>\n",
       "</div>"
      ],
      "text/plain": [
       "   colour  group\n",
       "0  FF0000    Red\n",
       "1  00FF00  Green\n",
       "2  0000FF   Blue"
      ]
     },
     "execution_count": 189,
     "metadata": {},
     "output_type": "execute_result"
    }
   ],
   "source": [
    "otherDF = DataFrame({'group' : ['Red','Green','Blue'], 'colour' : ['FF0000', '00FF00', '0000FF']})\n",
    "otherDF"
   ]
  },
  {
   "cell_type": "code",
   "execution_count": 190,
   "metadata": {
    "collapsed": false
   },
   "outputs": [
    {
     "data": {
      "text/html": [
       "<div style=\"max-height:1000px;max-width:1500px;overflow:auto;\">\n",
       "<table border=\"1\" class=\"dataframe\">\n",
       "  <thead>\n",
       "    <tr style=\"text-align: right;\">\n",
       "      <th></th>\n",
       "      <th>float_col</th>\n",
       "      <th>group</th>\n",
       "      <th>int_col</th>\n",
       "      <th>str_col</th>\n",
       "    </tr>\n",
       "  </thead>\n",
       "  <tbody>\n",
       "    <tr>\n",
       "      <th>0</th>\n",
       "      <td> 0.10</td>\n",
       "      <td>   Red</td>\n",
       "      <td>  1</td>\n",
       "      <td>    a</td>\n",
       "    </tr>\n",
       "    <tr>\n",
       "      <th>1</th>\n",
       "      <td> 1.85</td>\n",
       "      <td>   Red</td>\n",
       "      <td> 11</td>\n",
       "      <td> 1.85</td>\n",
       "    </tr>\n",
       "    <tr>\n",
       "      <th>2</th>\n",
       "      <td> 0.20</td>\n",
       "      <td> Green</td>\n",
       "      <td>  6</td>\n",
       "      <td> None</td>\n",
       "    </tr>\n",
       "    <tr>\n",
       "      <th>3</th>\n",
       "      <td> 1.85</td>\n",
       "      <td> Green</td>\n",
       "      <td>  8</td>\n",
       "      <td> 1.85</td>\n",
       "    </tr>\n",
       "    <tr>\n",
       "      <th>4</th>\n",
       "      <td>  NaN</td>\n",
       "      <td>   Red</td>\n",
       "      <td> -1</td>\n",
       "      <td>    a</td>\n",
       "    </tr>\n",
       "  </tbody>\n",
       "</table>\n",
       "</div>"
      ],
      "text/plain": [
       "   float_col  group  int_col str_col\n",
       "0       0.10    Red        1       a\n",
       "1       1.85    Red       11    1.85\n",
       "2       0.20  Green        6    None\n",
       "3       1.85  Green        8    1.85\n",
       "4        NaN    Red       -1       a"
      ]
     },
     "execution_count": 190,
     "metadata": {},
     "output_type": "execute_result"
    }
   ],
   "source": [
    "df"
   ]
  },
  {
   "cell_type": "code",
   "execution_count": 192,
   "metadata": {
    "collapsed": false
   },
   "outputs": [
    {
     "data": {
      "text/html": [
       "<div style=\"max-height:1000px;max-width:1500px;overflow:auto;\">\n",
       "<table border=\"1\" class=\"dataframe\">\n",
       "  <thead>\n",
       "    <tr style=\"text-align: right;\">\n",
       "      <th></th>\n",
       "      <th>float_col</th>\n",
       "      <th>group</th>\n",
       "      <th>int_col</th>\n",
       "      <th>str_col</th>\n",
       "      <th>colour</th>\n",
       "    </tr>\n",
       "  </thead>\n",
       "  <tbody>\n",
       "    <tr>\n",
       "      <th>0</th>\n",
       "      <td> 0.10</td>\n",
       "      <td>   Red</td>\n",
       "      <td>  1</td>\n",
       "      <td>    a</td>\n",
       "      <td> FF0000</td>\n",
       "    </tr>\n",
       "    <tr>\n",
       "      <th>1</th>\n",
       "      <td> 1.85</td>\n",
       "      <td>   Red</td>\n",
       "      <td> 11</td>\n",
       "      <td> 1.85</td>\n",
       "      <td> FF0000</td>\n",
       "    </tr>\n",
       "    <tr>\n",
       "      <th>2</th>\n",
       "      <td>  NaN</td>\n",
       "      <td>   Red</td>\n",
       "      <td> -1</td>\n",
       "      <td>    a</td>\n",
       "      <td> FF0000</td>\n",
       "    </tr>\n",
       "    <tr>\n",
       "      <th>3</th>\n",
       "      <td> 0.20</td>\n",
       "      <td> Green</td>\n",
       "      <td>  6</td>\n",
       "      <td> None</td>\n",
       "      <td> 00FF00</td>\n",
       "    </tr>\n",
       "    <tr>\n",
       "      <th>4</th>\n",
       "      <td> 1.85</td>\n",
       "      <td> Green</td>\n",
       "      <td>  8</td>\n",
       "      <td> 1.85</td>\n",
       "      <td> 00FF00</td>\n",
       "    </tr>\n",
       "  </tbody>\n",
       "</table>\n",
       "</div>"
      ],
      "text/plain": [
       "   float_col  group  int_col str_col  colour\n",
       "0       0.10    Red        1       a  FF0000\n",
       "1       1.85    Red       11    1.85  FF0000\n",
       "2        NaN    Red       -1       a  FF0000\n",
       "3       0.20  Green        6    None  00FF00\n",
       "4       1.85  Green        8    1.85  00FF00"
      ]
     },
     "execution_count": 192,
     "metadata": {},
     "output_type": "execute_result"
    }
   ],
   "source": [
    "pd.merge(df,otherDF,on='group') # Inner Join"
   ]
  },
  {
   "cell_type": "code",
   "execution_count": 193,
   "metadata": {
    "collapsed": false
   },
   "outputs": [
    {
     "data": {
      "text/html": [
       "<div style=\"max-height:1000px;max-width:1500px;overflow:auto;\">\n",
       "<table border=\"1\" class=\"dataframe\">\n",
       "  <thead>\n",
       "    <tr style=\"text-align: right;\">\n",
       "      <th></th>\n",
       "      <th>float_col</th>\n",
       "      <th>group</th>\n",
       "      <th>int_col</th>\n",
       "      <th>str_col</th>\n",
       "      <th>colour</th>\n",
       "    </tr>\n",
       "  </thead>\n",
       "  <tbody>\n",
       "    <tr>\n",
       "      <th>0</th>\n",
       "      <td> 0.10</td>\n",
       "      <td>   Red</td>\n",
       "      <td>  1</td>\n",
       "      <td>    a</td>\n",
       "      <td> FF0000</td>\n",
       "    </tr>\n",
       "    <tr>\n",
       "      <th>1</th>\n",
       "      <td> 1.85</td>\n",
       "      <td>   Red</td>\n",
       "      <td> 11</td>\n",
       "      <td> 1.85</td>\n",
       "      <td> FF0000</td>\n",
       "    </tr>\n",
       "    <tr>\n",
       "      <th>2</th>\n",
       "      <td>  NaN</td>\n",
       "      <td>   Red</td>\n",
       "      <td> -1</td>\n",
       "      <td>    a</td>\n",
       "      <td> FF0000</td>\n",
       "    </tr>\n",
       "    <tr>\n",
       "      <th>3</th>\n",
       "      <td> 0.20</td>\n",
       "      <td> Green</td>\n",
       "      <td>  6</td>\n",
       "      <td> None</td>\n",
       "      <td> 00FF00</td>\n",
       "    </tr>\n",
       "    <tr>\n",
       "      <th>4</th>\n",
       "      <td> 1.85</td>\n",
       "      <td> Green</td>\n",
       "      <td>  8</td>\n",
       "      <td> 1.85</td>\n",
       "      <td> 00FF00</td>\n",
       "    </tr>\n",
       "    <tr>\n",
       "      <th>5</th>\n",
       "      <td>  NaN</td>\n",
       "      <td>  Blue</td>\n",
       "      <td>NaN</td>\n",
       "      <td>  NaN</td>\n",
       "      <td> 0000FF</td>\n",
       "    </tr>\n",
       "  </tbody>\n",
       "</table>\n",
       "</div>"
      ],
      "text/plain": [
       "   float_col  group  int_col str_col  colour\n",
       "0       0.10    Red        1       a  FF0000\n",
       "1       1.85    Red       11    1.85  FF0000\n",
       "2        NaN    Red       -1       a  FF0000\n",
       "3       0.20  Green        6    None  00FF00\n",
       "4       1.85  Green        8    1.85  00FF00\n",
       "5        NaN   Blue      NaN     NaN  0000FF"
      ]
     },
     "execution_count": 193,
     "metadata": {},
     "output_type": "execute_result"
    }
   ],
   "source": [
    "pd.merge(df,otherDF,on='group', how='outer') # Outer Join"
   ]
  },
  {
   "cell_type": "code",
   "execution_count": 194,
   "metadata": {
    "collapsed": false
   },
   "outputs": [
    {
     "data": {
      "text/html": [
       "<div style=\"max-height:1000px;max-width:1500px;overflow:auto;\">\n",
       "<table border=\"1\" class=\"dataframe\">\n",
       "  <thead>\n",
       "    <tr style=\"text-align: right;\">\n",
       "      <th></th>\n",
       "      <th>float_col</th>\n",
       "      <th>group</th>\n",
       "      <th>int_col</th>\n",
       "      <th>str_col</th>\n",
       "      <th>colour</th>\n",
       "    </tr>\n",
       "  </thead>\n",
       "  <tbody>\n",
       "    <tr>\n",
       "      <th>0</th>\n",
       "      <td> 0.10</td>\n",
       "      <td>   Red</td>\n",
       "      <td>  1</td>\n",
       "      <td>    a</td>\n",
       "      <td> FF0000</td>\n",
       "    </tr>\n",
       "    <tr>\n",
       "      <th>1</th>\n",
       "      <td> 1.85</td>\n",
       "      <td>   Red</td>\n",
       "      <td> 11</td>\n",
       "      <td> 1.85</td>\n",
       "      <td> FF0000</td>\n",
       "    </tr>\n",
       "    <tr>\n",
       "      <th>2</th>\n",
       "      <td>  NaN</td>\n",
       "      <td>   Red</td>\n",
       "      <td> -1</td>\n",
       "      <td>    a</td>\n",
       "      <td> FF0000</td>\n",
       "    </tr>\n",
       "    <tr>\n",
       "      <th>3</th>\n",
       "      <td> 0.20</td>\n",
       "      <td> Green</td>\n",
       "      <td>  6</td>\n",
       "      <td> None</td>\n",
       "      <td> 00FF00</td>\n",
       "    </tr>\n",
       "    <tr>\n",
       "      <th>4</th>\n",
       "      <td> 1.85</td>\n",
       "      <td> Green</td>\n",
       "      <td>  8</td>\n",
       "      <td> 1.85</td>\n",
       "      <td> 00FF00</td>\n",
       "    </tr>\n",
       "  </tbody>\n",
       "</table>\n",
       "</div>"
      ],
      "text/plain": [
       "   float_col  group  int_col str_col  colour\n",
       "0       0.10    Red        1       a  FF0000\n",
       "1       1.85    Red       11    1.85  FF0000\n",
       "2        NaN    Red       -1       a  FF0000\n",
       "3       0.20  Green        6    None  00FF00\n",
       "4       1.85  Green        8    1.85  00FF00"
      ]
     },
     "execution_count": 194,
     "metadata": {},
     "output_type": "execute_result"
    }
   ],
   "source": [
    "pd.merge(df,otherDF,on='group', how='left') # Left Join"
   ]
  },
  {
   "cell_type": "code",
   "execution_count": 195,
   "metadata": {
    "collapsed": false
   },
   "outputs": [
    {
     "data": {
      "text/html": [
       "<div style=\"max-height:1000px;max-width:1500px;overflow:auto;\">\n",
       "<table border=\"1\" class=\"dataframe\">\n",
       "  <thead>\n",
       "    <tr style=\"text-align: right;\">\n",
       "      <th></th>\n",
       "      <th>float_col</th>\n",
       "      <th>group</th>\n",
       "      <th>int_col</th>\n",
       "      <th>str_col</th>\n",
       "      <th>colour</th>\n",
       "    </tr>\n",
       "  </thead>\n",
       "  <tbody>\n",
       "    <tr>\n",
       "      <th>0</th>\n",
       "      <td> 0.10</td>\n",
       "      <td>   Red</td>\n",
       "      <td>  1</td>\n",
       "      <td>    a</td>\n",
       "      <td> FF0000</td>\n",
       "    </tr>\n",
       "    <tr>\n",
       "      <th>1</th>\n",
       "      <td> 1.85</td>\n",
       "      <td>   Red</td>\n",
       "      <td> 11</td>\n",
       "      <td> 1.85</td>\n",
       "      <td> FF0000</td>\n",
       "    </tr>\n",
       "    <tr>\n",
       "      <th>2</th>\n",
       "      <td>  NaN</td>\n",
       "      <td>   Red</td>\n",
       "      <td> -1</td>\n",
       "      <td>    a</td>\n",
       "      <td> FF0000</td>\n",
       "    </tr>\n",
       "    <tr>\n",
       "      <th>3</th>\n",
       "      <td> 0.20</td>\n",
       "      <td> Green</td>\n",
       "      <td>  6</td>\n",
       "      <td> None</td>\n",
       "      <td> 00FF00</td>\n",
       "    </tr>\n",
       "    <tr>\n",
       "      <th>4</th>\n",
       "      <td> 1.85</td>\n",
       "      <td> Green</td>\n",
       "      <td>  8</td>\n",
       "      <td> 1.85</td>\n",
       "      <td> 00FF00</td>\n",
       "    </tr>\n",
       "    <tr>\n",
       "      <th>5</th>\n",
       "      <td>  NaN</td>\n",
       "      <td>  Blue</td>\n",
       "      <td>NaN</td>\n",
       "      <td>  NaN</td>\n",
       "      <td> 0000FF</td>\n",
       "    </tr>\n",
       "  </tbody>\n",
       "</table>\n",
       "</div>"
      ],
      "text/plain": [
       "   float_col  group  int_col str_col  colour\n",
       "0       0.10    Red        1       a  FF0000\n",
       "1       1.85    Red       11    1.85  FF0000\n",
       "2        NaN    Red       -1       a  FF0000\n",
       "3       0.20  Green        6    None  00FF00\n",
       "4       1.85  Green        8    1.85  00FF00\n",
       "5        NaN   Blue      NaN     NaN  0000FF"
      ]
     },
     "execution_count": 195,
     "metadata": {},
     "output_type": "execute_result"
    }
   ],
   "source": [
    "pd.merge(df,otherDF,on='group', how='right') # Right Join"
   ]
  },
  {
   "cell_type": "code",
   "execution_count": 196,
   "metadata": {
    "collapsed": false
   },
   "outputs": [
    {
     "data": {
      "text/html": [
       "<div style=\"max-height:1000px;max-width:1500px;overflow:auto;\">\n",
       "<table border=\"1\" class=\"dataframe\">\n",
       "  <thead>\n",
       "    <tr style=\"text-align: right;\">\n",
       "      <th></th>\n",
       "      <th>colour</th>\n",
       "    </tr>\n",
       "    <tr>\n",
       "      <th>group</th>\n",
       "      <th></th>\n",
       "    </tr>\n",
       "  </thead>\n",
       "  <tbody>\n",
       "    <tr>\n",
       "      <th>Red</th>\n",
       "      <td> FF0000</td>\n",
       "    </tr>\n",
       "    <tr>\n",
       "      <th>Green</th>\n",
       "      <td> 00FF00</td>\n",
       "    </tr>\n",
       "    <tr>\n",
       "      <th>Blue</th>\n",
       "      <td> 0000FF</td>\n",
       "    </tr>\n",
       "  </tbody>\n",
       "</table>\n",
       "</div>"
      ],
      "text/plain": [
       "       colour\n",
       "group        \n",
       "Red    FF0000\n",
       "Green  00FF00\n",
       "Blue   0000FF"
      ]
     },
     "execution_count": 196,
     "metadata": {},
     "output_type": "execute_result"
    }
   ],
   "source": [
    "otherDF.set_index(['group'], inplace=True)\n",
    "otherDF"
   ]
  },
  {
   "cell_type": "code",
   "execution_count": 197,
   "metadata": {
    "collapsed": false
   },
   "outputs": [
    {
     "data": {
      "text/html": [
       "<div style=\"max-height:1000px;max-width:1500px;overflow:auto;\">\n",
       "<table border=\"1\" class=\"dataframe\">\n",
       "  <thead>\n",
       "    <tr style=\"text-align: right;\">\n",
       "      <th></th>\n",
       "      <th>float_col</th>\n",
       "      <th>group</th>\n",
       "      <th>int_col</th>\n",
       "      <th>str_col</th>\n",
       "      <th>colour</th>\n",
       "    </tr>\n",
       "  </thead>\n",
       "  <tbody>\n",
       "    <tr>\n",
       "      <th>0</th>\n",
       "      <td> 0.10</td>\n",
       "      <td>   Red</td>\n",
       "      <td>  1</td>\n",
       "      <td>    a</td>\n",
       "      <td> FF0000</td>\n",
       "    </tr>\n",
       "    <tr>\n",
       "      <th>1</th>\n",
       "      <td> 1.85</td>\n",
       "      <td>   Red</td>\n",
       "      <td> 11</td>\n",
       "      <td> 1.85</td>\n",
       "      <td> FF0000</td>\n",
       "    </tr>\n",
       "    <tr>\n",
       "      <th>4</th>\n",
       "      <td>  NaN</td>\n",
       "      <td>   Red</td>\n",
       "      <td> -1</td>\n",
       "      <td>    a</td>\n",
       "      <td> FF0000</td>\n",
       "    </tr>\n",
       "    <tr>\n",
       "      <th>2</th>\n",
       "      <td> 0.20</td>\n",
       "      <td> Green</td>\n",
       "      <td>  6</td>\n",
       "      <td> None</td>\n",
       "      <td> 00FF00</td>\n",
       "    </tr>\n",
       "    <tr>\n",
       "      <th>3</th>\n",
       "      <td> 1.85</td>\n",
       "      <td> Green</td>\n",
       "      <td>  8</td>\n",
       "      <td> 1.85</td>\n",
       "      <td> 00FF00</td>\n",
       "    </tr>\n",
       "  </tbody>\n",
       "</table>\n",
       "</div>"
      ],
      "text/plain": [
       "   float_col  group  int_col str_col  colour\n",
       "0       0.10    Red        1       a  FF0000\n",
       "1       1.85    Red       11    1.85  FF0000\n",
       "4        NaN    Red       -1       a  FF0000\n",
       "2       0.20  Green        6    None  00FF00\n",
       "3       1.85  Green        8    1.85  00FF00"
      ]
     },
     "execution_count": 197,
     "metadata": {},
     "output_type": "execute_result"
    }
   ],
   "source": [
    "pd.merge(df,otherDF,left_on='group',right_index=True) # same thing, uses index of \"right\" tableb"
   ]
  },
  {
   "cell_type": "markdown",
   "metadata": {},
   "source": [
    "### Concatenate: Combining Data of the Same Type"
   ]
  },
  {
   "cell_type": "code",
   "execution_count": 198,
   "metadata": {
    "collapsed": false
   },
   "outputs": [
    {
     "name": "stdout",
     "output_type": "stream",
     "text": [
      "          0         1         2         3 str\n",
      "0  1.767838  0.953637  1.944079  0.878275  AA\n",
      "1  0.448997 -1.692604 -0.715616 -1.183433  BC\n",
      "2  0.381637  0.677055  0.932948 -0.239448  CE\n",
      "          0         1         2         3 str\n",
      "3 -0.207868 -0.689916 -0.421736 -0.864511  DG\n",
      "4  0.553857 -1.230546  0.041079 -0.416067  EI\n",
      "5 -1.026207 -1.730925  0.889286  2.079018  FK\n",
      "          0         1         2         3 str\n",
      "6 -1.061236 -1.411884  0.504410  1.172200  GM\n",
      "7 -1.189715  0.188942  0.322373 -1.576150  HO\n",
      "8  0.374212  1.283858  0.358745 -0.856525  IQ\n"
     ]
    }
   ],
   "source": [
    "dfParts = {}\n",
    "for k in range(3):\n",
    "    dfParts[k] = pd.DataFrame(np.random.randn(3, 4), index=range(k*3,(k+1)*3), columns = range(4))\n",
    "    dfParts[k]['str'] = dfParts[k].index.map(lambda x: chr(65+x) + chr(65+2*x))\n",
    "    print dfParts[k]"
   ]
  },
  {
   "cell_type": "code",
   "execution_count": 199,
   "metadata": {
    "collapsed": false
   },
   "outputs": [
    {
     "data": {
      "text/html": [
       "<div style=\"max-height:1000px;max-width:1500px;overflow:auto;\">\n",
       "<table border=\"1\" class=\"dataframe\">\n",
       "  <thead>\n",
       "    <tr style=\"text-align: right;\">\n",
       "      <th></th>\n",
       "      <th>0</th>\n",
       "      <th>1</th>\n",
       "      <th>2</th>\n",
       "      <th>3</th>\n",
       "      <th>str</th>\n",
       "    </tr>\n",
       "  </thead>\n",
       "  <tbody>\n",
       "    <tr>\n",
       "      <th>0</th>\n",
       "      <td> 1.767838</td>\n",
       "      <td> 0.953637</td>\n",
       "      <td> 1.944079</td>\n",
       "      <td> 0.878275</td>\n",
       "      <td> AA</td>\n",
       "    </tr>\n",
       "    <tr>\n",
       "      <th>1</th>\n",
       "      <td> 0.448997</td>\n",
       "      <td>-1.692604</td>\n",
       "      <td>-0.715616</td>\n",
       "      <td>-1.183433</td>\n",
       "      <td> BC</td>\n",
       "    </tr>\n",
       "    <tr>\n",
       "      <th>2</th>\n",
       "      <td> 0.381637</td>\n",
       "      <td> 0.677055</td>\n",
       "      <td> 0.932948</td>\n",
       "      <td>-0.239448</td>\n",
       "      <td> CE</td>\n",
       "    </tr>\n",
       "    <tr>\n",
       "      <th>3</th>\n",
       "      <td>-0.207868</td>\n",
       "      <td>-0.689916</td>\n",
       "      <td>-0.421736</td>\n",
       "      <td>-0.864511</td>\n",
       "      <td> DG</td>\n",
       "    </tr>\n",
       "    <tr>\n",
       "      <th>4</th>\n",
       "      <td> 0.553857</td>\n",
       "      <td>-1.230546</td>\n",
       "      <td> 0.041079</td>\n",
       "      <td>-0.416067</td>\n",
       "      <td> EI</td>\n",
       "    </tr>\n",
       "    <tr>\n",
       "      <th>5</th>\n",
       "      <td>-1.026207</td>\n",
       "      <td>-1.730925</td>\n",
       "      <td> 0.889286</td>\n",
       "      <td> 2.079018</td>\n",
       "      <td> FK</td>\n",
       "    </tr>\n",
       "    <tr>\n",
       "      <th>6</th>\n",
       "      <td>-1.061236</td>\n",
       "      <td>-1.411884</td>\n",
       "      <td> 0.504410</td>\n",
       "      <td> 1.172200</td>\n",
       "      <td> GM</td>\n",
       "    </tr>\n",
       "    <tr>\n",
       "      <th>7</th>\n",
       "      <td>-1.189715</td>\n",
       "      <td> 0.188942</td>\n",
       "      <td> 0.322373</td>\n",
       "      <td>-1.576150</td>\n",
       "      <td> HO</td>\n",
       "    </tr>\n",
       "    <tr>\n",
       "      <th>8</th>\n",
       "      <td> 0.374212</td>\n",
       "      <td> 1.283858</td>\n",
       "      <td> 0.358745</td>\n",
       "      <td>-0.856525</td>\n",
       "      <td> IQ</td>\n",
       "    </tr>\n",
       "  </tbody>\n",
       "</table>\n",
       "</div>"
      ],
      "text/plain": [
       "          0         1         2         3 str\n",
       "0  1.767838  0.953637  1.944079  0.878275  AA\n",
       "1  0.448997 -1.692604 -0.715616 -1.183433  BC\n",
       "2  0.381637  0.677055  0.932948 -0.239448  CE\n",
       "3 -0.207868 -0.689916 -0.421736 -0.864511  DG\n",
       "4  0.553857 -1.230546  0.041079 -0.416067  EI\n",
       "5 -1.026207 -1.730925  0.889286  2.079018  FK\n",
       "6 -1.061236 -1.411884  0.504410  1.172200  GM\n",
       "7 -1.189715  0.188942  0.322373 -1.576150  HO\n",
       "8  0.374212  1.283858  0.358745 -0.856525  IQ"
      ]
     },
     "execution_count": 199,
     "metadata": {},
     "output_type": "execute_result"
    }
   ],
   "source": [
    "dfWhole = pd.concat([dfParts[k] for k in dfParts.keys()])\n",
    "dfWhole"
   ]
  },
  {
   "cell_type": "code",
   "execution_count": 200,
   "metadata": {
    "collapsed": false
   },
   "outputs": [],
   "source": [
    "# What if there is inconsistent data?\n",
    "dfWhole.ix[[7,8],[0,2,3]] = NaN\n",
    "\n",
    "dfAnotherPart = pd.DataFrame(np.random.randint(0,10, (4,4)), index=range(6,10), columns = range(4))\n",
    "dfAnotherPart['str'] = dfAnotherPart.index.map(lambda x: chr(65+x) + chr(65+2*x))"
   ]
  },
  {
   "cell_type": "code",
   "execution_count": 201,
   "metadata": {
    "collapsed": false
   },
   "outputs": [
    {
     "data": {
      "text/html": [
       "<div style=\"max-height:1000px;max-width:1500px;overflow:auto;\">\n",
       "<table border=\"1\" class=\"dataframe\">\n",
       "  <thead>\n",
       "    <tr style=\"text-align: right;\">\n",
       "      <th></th>\n",
       "      <th>0</th>\n",
       "      <th>1</th>\n",
       "      <th>2</th>\n",
       "      <th>3</th>\n",
       "      <th>str</th>\n",
       "    </tr>\n",
       "  </thead>\n",
       "  <tbody>\n",
       "    <tr>\n",
       "      <th>0</th>\n",
       "      <td> 1.767838</td>\n",
       "      <td> 0.953637</td>\n",
       "      <td> 1.944079</td>\n",
       "      <td> 0.878275</td>\n",
       "      <td> AA</td>\n",
       "    </tr>\n",
       "    <tr>\n",
       "      <th>1</th>\n",
       "      <td> 0.448997</td>\n",
       "      <td>-1.692604</td>\n",
       "      <td>-0.715616</td>\n",
       "      <td>-1.183433</td>\n",
       "      <td> BC</td>\n",
       "    </tr>\n",
       "    <tr>\n",
       "      <th>2</th>\n",
       "      <td> 0.381637</td>\n",
       "      <td> 0.677055</td>\n",
       "      <td> 0.932948</td>\n",
       "      <td>-0.239448</td>\n",
       "      <td> CE</td>\n",
       "    </tr>\n",
       "    <tr>\n",
       "      <th>3</th>\n",
       "      <td>-0.207868</td>\n",
       "      <td>-0.689916</td>\n",
       "      <td>-0.421736</td>\n",
       "      <td>-0.864511</td>\n",
       "      <td> DG</td>\n",
       "    </tr>\n",
       "    <tr>\n",
       "      <th>4</th>\n",
       "      <td> 0.553857</td>\n",
       "      <td>-1.230546</td>\n",
       "      <td> 0.041079</td>\n",
       "      <td>-0.416067</td>\n",
       "      <td> EI</td>\n",
       "    </tr>\n",
       "    <tr>\n",
       "      <th>5</th>\n",
       "      <td>-1.026207</td>\n",
       "      <td>-1.730925</td>\n",
       "      <td> 0.889286</td>\n",
       "      <td> 2.079018</td>\n",
       "      <td> FK</td>\n",
       "    </tr>\n",
       "    <tr>\n",
       "      <th>6</th>\n",
       "      <td>-1.061236</td>\n",
       "      <td>-1.411884</td>\n",
       "      <td> 0.504410</td>\n",
       "      <td> 1.172200</td>\n",
       "      <td> GM</td>\n",
       "    </tr>\n",
       "    <tr>\n",
       "      <th>7</th>\n",
       "      <td>      NaN</td>\n",
       "      <td> 0.188942</td>\n",
       "      <td>      NaN</td>\n",
       "      <td>      NaN</td>\n",
       "      <td> HO</td>\n",
       "    </tr>\n",
       "    <tr>\n",
       "      <th>8</th>\n",
       "      <td>      NaN</td>\n",
       "      <td> 1.283858</td>\n",
       "      <td>      NaN</td>\n",
       "      <td>      NaN</td>\n",
       "      <td> IQ</td>\n",
       "    </tr>\n",
       "  </tbody>\n",
       "</table>\n",
       "</div>"
      ],
      "text/plain": [
       "          0         1         2         3 str\n",
       "0  1.767838  0.953637  1.944079  0.878275  AA\n",
       "1  0.448997 -1.692604 -0.715616 -1.183433  BC\n",
       "2  0.381637  0.677055  0.932948 -0.239448  CE\n",
       "3 -0.207868 -0.689916 -0.421736 -0.864511  DG\n",
       "4  0.553857 -1.230546  0.041079 -0.416067  EI\n",
       "5 -1.026207 -1.730925  0.889286  2.079018  FK\n",
       "6 -1.061236 -1.411884  0.504410  1.172200  GM\n",
       "7       NaN  0.188942       NaN       NaN  HO\n",
       "8       NaN  1.283858       NaN       NaN  IQ"
      ]
     },
     "execution_count": 201,
     "metadata": {},
     "output_type": "execute_result"
    }
   ],
   "source": [
    "dfWhole"
   ]
  },
  {
   "cell_type": "code",
   "execution_count": 202,
   "metadata": {
    "collapsed": false
   },
   "outputs": [
    {
     "data": {
      "text/html": [
       "<div style=\"max-height:1000px;max-width:1500px;overflow:auto;\">\n",
       "<table border=\"1\" class=\"dataframe\">\n",
       "  <thead>\n",
       "    <tr style=\"text-align: right;\">\n",
       "      <th></th>\n",
       "      <th>0</th>\n",
       "      <th>1</th>\n",
       "      <th>2</th>\n",
       "      <th>3</th>\n",
       "      <th>str</th>\n",
       "    </tr>\n",
       "  </thead>\n",
       "  <tbody>\n",
       "    <tr>\n",
       "      <th>6</th>\n",
       "      <td> 2</td>\n",
       "      <td> 1</td>\n",
       "      <td> 8</td>\n",
       "      <td> 8</td>\n",
       "      <td> GM</td>\n",
       "    </tr>\n",
       "    <tr>\n",
       "      <th>7</th>\n",
       "      <td> 0</td>\n",
       "      <td> 3</td>\n",
       "      <td> 9</td>\n",
       "      <td> 8</td>\n",
       "      <td> HO</td>\n",
       "    </tr>\n",
       "    <tr>\n",
       "      <th>8</th>\n",
       "      <td> 8</td>\n",
       "      <td> 8</td>\n",
       "      <td> 5</td>\n",
       "      <td> 1</td>\n",
       "      <td> IQ</td>\n",
       "    </tr>\n",
       "    <tr>\n",
       "      <th>9</th>\n",
       "      <td> 8</td>\n",
       "      <td> 8</td>\n",
       "      <td> 2</td>\n",
       "      <td> 4</td>\n",
       "      <td> JS</td>\n",
       "    </tr>\n",
       "  </tbody>\n",
       "</table>\n",
       "</div>"
      ],
      "text/plain": [
       "   0  1  2  3 str\n",
       "6  2  1  8  8  GM\n",
       "7  0  3  9  8  HO\n",
       "8  8  8  5  1  IQ\n",
       "9  8  8  2  4  JS"
      ]
     },
     "execution_count": 202,
     "metadata": {},
     "output_type": "execute_result"
    }
   ],
   "source": [
    "dfAnotherPart"
   ]
  },
  {
   "cell_type": "code",
   "execution_count": 203,
   "metadata": {
    "collapsed": false
   },
   "outputs": [
    {
     "data": {
      "text/html": [
       "<div style=\"max-height:1000px;max-width:1500px;overflow:auto;\">\n",
       "<table border=\"1\" class=\"dataframe\">\n",
       "  <thead>\n",
       "    <tr style=\"text-align: right;\">\n",
       "      <th></th>\n",
       "      <th>0</th>\n",
       "      <th>1</th>\n",
       "      <th>2</th>\n",
       "      <th>3</th>\n",
       "      <th>str</th>\n",
       "    </tr>\n",
       "  </thead>\n",
       "  <tbody>\n",
       "    <tr>\n",
       "      <th>0</th>\n",
       "      <td> 1.767838</td>\n",
       "      <td> 0.953637</td>\n",
       "      <td> 1.944079</td>\n",
       "      <td> 0.878275</td>\n",
       "      <td> AA</td>\n",
       "    </tr>\n",
       "    <tr>\n",
       "      <th>1</th>\n",
       "      <td> 0.448997</td>\n",
       "      <td>-1.692604</td>\n",
       "      <td>-0.715616</td>\n",
       "      <td>-1.183433</td>\n",
       "      <td> BC</td>\n",
       "    </tr>\n",
       "    <tr>\n",
       "      <th>2</th>\n",
       "      <td> 0.381637</td>\n",
       "      <td> 0.677055</td>\n",
       "      <td> 0.932948</td>\n",
       "      <td>-0.239448</td>\n",
       "      <td> CE</td>\n",
       "    </tr>\n",
       "    <tr>\n",
       "      <th>3</th>\n",
       "      <td>-0.207868</td>\n",
       "      <td>-0.689916</td>\n",
       "      <td>-0.421736</td>\n",
       "      <td>-0.864511</td>\n",
       "      <td> DG</td>\n",
       "    </tr>\n",
       "    <tr>\n",
       "      <th>4</th>\n",
       "      <td> 0.553857</td>\n",
       "      <td>-1.230546</td>\n",
       "      <td> 0.041079</td>\n",
       "      <td>-0.416067</td>\n",
       "      <td> EI</td>\n",
       "    </tr>\n",
       "    <tr>\n",
       "      <th>5</th>\n",
       "      <td>-1.026207</td>\n",
       "      <td>-1.730925</td>\n",
       "      <td> 0.889286</td>\n",
       "      <td> 2.079018</td>\n",
       "      <td> FK</td>\n",
       "    </tr>\n",
       "    <tr>\n",
       "      <th>6</th>\n",
       "      <td>-1.061236</td>\n",
       "      <td>-1.411884</td>\n",
       "      <td> 0.504410</td>\n",
       "      <td> 1.172200</td>\n",
       "      <td> GM</td>\n",
       "    </tr>\n",
       "    <tr>\n",
       "      <th>7</th>\n",
       "      <td> 0.000000</td>\n",
       "      <td> 0.188942</td>\n",
       "      <td> 9.000000</td>\n",
       "      <td> 8.000000</td>\n",
       "      <td> HO</td>\n",
       "    </tr>\n",
       "    <tr>\n",
       "      <th>8</th>\n",
       "      <td> 8.000000</td>\n",
       "      <td> 1.283858</td>\n",
       "      <td> 5.000000</td>\n",
       "      <td> 1.000000</td>\n",
       "      <td> IQ</td>\n",
       "    </tr>\n",
       "    <tr>\n",
       "      <th>9</th>\n",
       "      <td> 8.000000</td>\n",
       "      <td> 8.000000</td>\n",
       "      <td> 2.000000</td>\n",
       "      <td> 4.000000</td>\n",
       "      <td> JS</td>\n",
       "    </tr>\n",
       "  </tbody>\n",
       "</table>\n",
       "</div>"
      ],
      "text/plain": [
       "          0         1         2         3 str\n",
       "0  1.767838  0.953637  1.944079  0.878275  AA\n",
       "1  0.448997 -1.692604 -0.715616 -1.183433  BC\n",
       "2  0.381637  0.677055  0.932948 -0.239448  CE\n",
       "3 -0.207868 -0.689916 -0.421736 -0.864511  DG\n",
       "4  0.553857 -1.230546  0.041079 -0.416067  EI\n",
       "5 -1.026207 -1.730925  0.889286  2.079018  FK\n",
       "6 -1.061236 -1.411884  0.504410  1.172200  GM\n",
       "7  0.000000  0.188942  9.000000  8.000000  HO\n",
       "8  8.000000  1.283858  5.000000  1.000000  IQ\n",
       "9  8.000000  8.000000  2.000000  4.000000  JS"
      ]
     },
     "execution_count": 203,
     "metadata": {},
     "output_type": "execute_result"
    }
   ],
   "source": [
    "# a.combine_first(b): a's values prioritized, use values from b to fill holes\n",
    "dfWhole.combine_first(dfAnotherPart)"
   ]
  },
  {
   "cell_type": "markdown",
   "metadata": {},
   "source": [
    "### Append: Combining Data of the Same Type (Big Data Set + Small Data Set)"
   ]
  },
  {
   "cell_type": "code",
   "execution_count": 204,
   "metadata": {
    "collapsed": false
   },
   "outputs": [
    {
     "name": "stdout",
     "output_type": "stream",
     "text": [
      "          0         1         2         3\n",
      "0 -0.126866 -0.506737  0.478553  1.276177\n",
      "1 -0.167650  0.058219  0.134857  1.093503\n",
      "2 -2.885116 -0.534923  2.398013 -0.486080\n",
      "3 -0.985089  0.119383  1.658495  0.438553\n",
      "4 -0.810854 -0.245581  1.444208 -0.394136\n",
      "5  0.444841 -1.209695 -0.142044  2.621274\n",
      "6 -1.132605 -1.099798 -1.191519  0.267632\n",
      "7  0.777029 -0.715463  0.100067 -0.558789\n",
      "\n",
      "          0         1         2         3\n",
      "0  0.460923  0.131940  0.505373  0.122675\n",
      "1 -0.517533 -1.922732 -0.120033 -0.080964\n"
     ]
    }
   ],
   "source": [
    "dfBigger = pd.DataFrame(np.random.randn(8, 4))\n",
    "dfSmaller = pd.DataFrame(np.random.randn(2, 4))\n",
    "print dfBigger\n",
    "print\n",
    "print dfSmaller"
   ]
  },
  {
   "cell_type": "code",
   "execution_count": 205,
   "metadata": {
    "collapsed": false
   },
   "outputs": [
    {
     "data": {
      "text/html": [
       "<div style=\"max-height:1000px;max-width:1500px;overflow:auto;\">\n",
       "<table border=\"1\" class=\"dataframe\">\n",
       "  <thead>\n",
       "    <tr style=\"text-align: right;\">\n",
       "      <th></th>\n",
       "      <th>0</th>\n",
       "      <th>1</th>\n",
       "      <th>2</th>\n",
       "      <th>3</th>\n",
       "    </tr>\n",
       "  </thead>\n",
       "  <tbody>\n",
       "    <tr>\n",
       "      <th>0</th>\n",
       "      <td>-0.126866</td>\n",
       "      <td>-0.506737</td>\n",
       "      <td> 0.478553</td>\n",
       "      <td> 1.276177</td>\n",
       "    </tr>\n",
       "    <tr>\n",
       "      <th>1</th>\n",
       "      <td>-0.167650</td>\n",
       "      <td> 0.058219</td>\n",
       "      <td> 0.134857</td>\n",
       "      <td> 1.093503</td>\n",
       "    </tr>\n",
       "    <tr>\n",
       "      <th>2</th>\n",
       "      <td>-2.885116</td>\n",
       "      <td>-0.534923</td>\n",
       "      <td> 2.398013</td>\n",
       "      <td>-0.486080</td>\n",
       "    </tr>\n",
       "    <tr>\n",
       "      <th>3</th>\n",
       "      <td>-0.985089</td>\n",
       "      <td> 0.119383</td>\n",
       "      <td> 1.658495</td>\n",
       "      <td> 0.438553</td>\n",
       "    </tr>\n",
       "    <tr>\n",
       "      <th>4</th>\n",
       "      <td>-0.810854</td>\n",
       "      <td>-0.245581</td>\n",
       "      <td> 1.444208</td>\n",
       "      <td>-0.394136</td>\n",
       "    </tr>\n",
       "    <tr>\n",
       "      <th>5</th>\n",
       "      <td> 0.444841</td>\n",
       "      <td>-1.209695</td>\n",
       "      <td>-0.142044</td>\n",
       "      <td> 2.621274</td>\n",
       "    </tr>\n",
       "    <tr>\n",
       "      <th>6</th>\n",
       "      <td>-1.132605</td>\n",
       "      <td>-1.099798</td>\n",
       "      <td>-1.191519</td>\n",
       "      <td> 0.267632</td>\n",
       "    </tr>\n",
       "    <tr>\n",
       "      <th>7</th>\n",
       "      <td> 0.777029</td>\n",
       "      <td>-0.715463</td>\n",
       "      <td> 0.100067</td>\n",
       "      <td>-0.558789</td>\n",
       "    </tr>\n",
       "    <tr>\n",
       "      <th>8</th>\n",
       "      <td> 0.460923</td>\n",
       "      <td> 0.131940</td>\n",
       "      <td> 0.505373</td>\n",
       "      <td> 0.122675</td>\n",
       "    </tr>\n",
       "    <tr>\n",
       "      <th>9</th>\n",
       "      <td>-0.517533</td>\n",
       "      <td>-1.922732</td>\n",
       "      <td>-0.120033</td>\n",
       "      <td>-0.080964</td>\n",
       "    </tr>\n",
       "  </tbody>\n",
       "</table>\n",
       "</div>"
      ],
      "text/plain": [
       "          0         1         2         3\n",
       "0 -0.126866 -0.506737  0.478553  1.276177\n",
       "1 -0.167650  0.058219  0.134857  1.093503\n",
       "2 -2.885116 -0.534923  2.398013 -0.486080\n",
       "3 -0.985089  0.119383  1.658495  0.438553\n",
       "4 -0.810854 -0.245581  1.444208 -0.394136\n",
       "5  0.444841 -1.209695 -0.142044  2.621274\n",
       "6 -1.132605 -1.099798 -1.191519  0.267632\n",
       "7  0.777029 -0.715463  0.100067 -0.558789\n",
       "8  0.460923  0.131940  0.505373  0.122675\n",
       "9 -0.517533 -1.922732 -0.120033 -0.080964"
      ]
     },
     "execution_count": 205,
     "metadata": {},
     "output_type": "execute_result"
    }
   ],
   "source": [
    "dfBigger.append(dfSmaller, ignore_index=True)"
   ]
  },
  {
   "cell_type": "code",
   "execution_count": 206,
   "metadata": {
    "collapsed": false
   },
   "outputs": [
    {
     "data": {
      "text/html": [
       "<div style=\"max-height:1000px;max-width:1500px;overflow:auto;\">\n",
       "<table border=\"1\" class=\"dataframe\">\n",
       "  <thead>\n",
       "    <tr style=\"text-align: right;\">\n",
       "      <th></th>\n",
       "      <th>0</th>\n",
       "      <th>1</th>\n",
       "      <th>2</th>\n",
       "      <th>3</th>\n",
       "    </tr>\n",
       "  </thead>\n",
       "  <tbody>\n",
       "    <tr>\n",
       "      <th>0</th>\n",
       "      <td>-0.126866</td>\n",
       "      <td>-0.506737</td>\n",
       "      <td> 0.478553</td>\n",
       "      <td> 1.276177</td>\n",
       "    </tr>\n",
       "    <tr>\n",
       "      <th>1</th>\n",
       "      <td>-0.167650</td>\n",
       "      <td> 0.058219</td>\n",
       "      <td> 0.134857</td>\n",
       "      <td> 1.093503</td>\n",
       "    </tr>\n",
       "    <tr>\n",
       "      <th>2</th>\n",
       "      <td>-2.885116</td>\n",
       "      <td>-0.534923</td>\n",
       "      <td> 2.398013</td>\n",
       "      <td>-0.486080</td>\n",
       "    </tr>\n",
       "    <tr>\n",
       "      <th>3</th>\n",
       "      <td>-0.985089</td>\n",
       "      <td> 0.119383</td>\n",
       "      <td> 1.658495</td>\n",
       "      <td> 0.438553</td>\n",
       "    </tr>\n",
       "    <tr>\n",
       "      <th>4</th>\n",
       "      <td>-0.810854</td>\n",
       "      <td>-0.245581</td>\n",
       "      <td> 1.444208</td>\n",
       "      <td>-0.394136</td>\n",
       "    </tr>\n",
       "    <tr>\n",
       "      <th>5</th>\n",
       "      <td> 0.444841</td>\n",
       "      <td>-1.209695</td>\n",
       "      <td>-0.142044</td>\n",
       "      <td> 2.621274</td>\n",
       "    </tr>\n",
       "    <tr>\n",
       "      <th>6</th>\n",
       "      <td>-1.132605</td>\n",
       "      <td>-1.099798</td>\n",
       "      <td>-1.191519</td>\n",
       "      <td> 0.267632</td>\n",
       "    </tr>\n",
       "    <tr>\n",
       "      <th>7</th>\n",
       "      <td> 0.777029</td>\n",
       "      <td>-0.715463</td>\n",
       "      <td> 0.100067</td>\n",
       "      <td>-0.558789</td>\n",
       "    </tr>\n",
       "    <tr>\n",
       "      <th>0</th>\n",
       "      <td> 0.460923</td>\n",
       "      <td> 0.131940</td>\n",
       "      <td> 0.505373</td>\n",
       "      <td> 0.122675</td>\n",
       "    </tr>\n",
       "    <tr>\n",
       "      <th>1</th>\n",
       "      <td>-0.517533</td>\n",
       "      <td>-1.922732</td>\n",
       "      <td>-0.120033</td>\n",
       "      <td>-0.080964</td>\n",
       "    </tr>\n",
       "  </tbody>\n",
       "</table>\n",
       "</div>"
      ],
      "text/plain": [
       "          0         1         2         3\n",
       "0 -0.126866 -0.506737  0.478553  1.276177\n",
       "1 -0.167650  0.058219  0.134857  1.093503\n",
       "2 -2.885116 -0.534923  2.398013 -0.486080\n",
       "3 -0.985089  0.119383  1.658495  0.438553\n",
       "4 -0.810854 -0.245581  1.444208 -0.394136\n",
       "5  0.444841 -1.209695 -0.142044  2.621274\n",
       "6 -1.132605 -1.099798 -1.191519  0.267632\n",
       "7  0.777029 -0.715463  0.100067 -0.558789\n",
       "0  0.460923  0.131940  0.505373  0.122675\n",
       "1 -0.517533 -1.922732 -0.120033 -0.080964"
      ]
     },
     "execution_count": 206,
     "metadata": {},
     "output_type": "execute_result"
    }
   ],
   "source": [
    "dfBigger.append(dfSmaller) # Not such a good idea (see indices)"
   ]
  },
  {
   "cell_type": "code",
   "execution_count": 207,
   "metadata": {
    "collapsed": false
   },
   "outputs": [
    {
     "name": "stdout",
     "output_type": "stream",
     "text": [
      "          0         1         2         3\n",
      "A -0.126866 -0.506737  0.478553  1.276177\n",
      "B -0.167650  0.058219  0.134857  1.093503\n",
      "C -2.885116 -0.534923  2.398013 -0.486080\n",
      "D -0.985089  0.119383  1.658495  0.438553\n",
      "E -0.810854 -0.245581  1.444208 -0.394136\n",
      "F  0.444841 -1.209695 -0.142044  2.621274\n",
      "G -1.132605 -1.099798 -1.191519  0.267632\n",
      "H  0.777029 -0.715463  0.100067 -0.558789\n",
      "\n",
      "          0         1         2         3\n",
      "A  0.460923  0.131940  0.505373  0.122675\n",
      "B -0.517533 -1.922732 -0.120033 -0.080964\n"
     ]
    }
   ],
   "source": [
    "dfBigger.index = dfBigger.index.map(lambda x : chr(65+x))\n",
    "dfSmaller.index = dfSmaller.index.map(lambda x : chr(65+x))\n",
    "print dfBigger\n",
    "print\n",
    "print dfSmaller"
   ]
  },
  {
   "cell_type": "code",
   "execution_count": 208,
   "metadata": {
    "collapsed": false
   },
   "outputs": [
    {
     "data": {
      "text/html": [
       "<div style=\"max-height:1000px;max-width:1500px;overflow:auto;\">\n",
       "<table border=\"1\" class=\"dataframe\">\n",
       "  <thead>\n",
       "    <tr style=\"text-align: right;\">\n",
       "      <th></th>\n",
       "      <th>0</th>\n",
       "      <th>1</th>\n",
       "      <th>2</th>\n",
       "      <th>3</th>\n",
       "    </tr>\n",
       "  </thead>\n",
       "  <tbody>\n",
       "    <tr>\n",
       "      <th>0</th>\n",
       "      <td>-0.126866</td>\n",
       "      <td>-0.506737</td>\n",
       "      <td> 0.478553</td>\n",
       "      <td> 1.276177</td>\n",
       "    </tr>\n",
       "    <tr>\n",
       "      <th>1</th>\n",
       "      <td>-0.167650</td>\n",
       "      <td> 0.058219</td>\n",
       "      <td> 0.134857</td>\n",
       "      <td> 1.093503</td>\n",
       "    </tr>\n",
       "    <tr>\n",
       "      <th>2</th>\n",
       "      <td>-2.885116</td>\n",
       "      <td>-0.534923</td>\n",
       "      <td> 2.398013</td>\n",
       "      <td>-0.486080</td>\n",
       "    </tr>\n",
       "    <tr>\n",
       "      <th>3</th>\n",
       "      <td>-0.985089</td>\n",
       "      <td> 0.119383</td>\n",
       "      <td> 1.658495</td>\n",
       "      <td> 0.438553</td>\n",
       "    </tr>\n",
       "    <tr>\n",
       "      <th>4</th>\n",
       "      <td>-0.810854</td>\n",
       "      <td>-0.245581</td>\n",
       "      <td> 1.444208</td>\n",
       "      <td>-0.394136</td>\n",
       "    </tr>\n",
       "    <tr>\n",
       "      <th>5</th>\n",
       "      <td> 0.444841</td>\n",
       "      <td>-1.209695</td>\n",
       "      <td>-0.142044</td>\n",
       "      <td> 2.621274</td>\n",
       "    </tr>\n",
       "    <tr>\n",
       "      <th>6</th>\n",
       "      <td>-1.132605</td>\n",
       "      <td>-1.099798</td>\n",
       "      <td>-1.191519</td>\n",
       "      <td> 0.267632</td>\n",
       "    </tr>\n",
       "    <tr>\n",
       "      <th>7</th>\n",
       "      <td> 0.777029</td>\n",
       "      <td>-0.715463</td>\n",
       "      <td> 0.100067</td>\n",
       "      <td>-0.558789</td>\n",
       "    </tr>\n",
       "    <tr>\n",
       "      <th>8</th>\n",
       "      <td> 0.460923</td>\n",
       "      <td> 0.131940</td>\n",
       "      <td> 0.505373</td>\n",
       "      <td> 0.122675</td>\n",
       "    </tr>\n",
       "    <tr>\n",
       "      <th>9</th>\n",
       "      <td>-0.517533</td>\n",
       "      <td>-1.922732</td>\n",
       "      <td>-0.120033</td>\n",
       "      <td>-0.080964</td>\n",
       "    </tr>\n",
       "  </tbody>\n",
       "</table>\n",
       "</div>"
      ],
      "text/plain": [
       "          0         1         2         3\n",
       "0 -0.126866 -0.506737  0.478553  1.276177\n",
       "1 -0.167650  0.058219  0.134857  1.093503\n",
       "2 -2.885116 -0.534923  2.398013 -0.486080\n",
       "3 -0.985089  0.119383  1.658495  0.438553\n",
       "4 -0.810854 -0.245581  1.444208 -0.394136\n",
       "5  0.444841 -1.209695 -0.142044  2.621274\n",
       "6 -1.132605 -1.099798 -1.191519  0.267632\n",
       "7  0.777029 -0.715463  0.100067 -0.558789\n",
       "8  0.460923  0.131940  0.505373  0.122675\n",
       "9 -0.517533 -1.922732 -0.120033 -0.080964"
      ]
     },
     "execution_count": 208,
     "metadata": {},
     "output_type": "execute_result"
    }
   ],
   "source": [
    "dfBigger.append(dfSmaller, ignore_index=True) # Indexes were actually dropped"
   ]
  },
  {
   "cell_type": "code",
   "execution_count": 209,
   "metadata": {
    "collapsed": false
   },
   "outputs": [
    {
     "data": {
      "text/html": [
       "<div style=\"max-height:1000px;max-width:1500px;overflow:auto;\">\n",
       "<table border=\"1\" class=\"dataframe\">\n",
       "  <thead>\n",
       "    <tr style=\"text-align: right;\">\n",
       "      <th></th>\n",
       "      <th>0</th>\n",
       "      <th>1</th>\n",
       "      <th>2</th>\n",
       "      <th>3</th>\n",
       "    </tr>\n",
       "  </thead>\n",
       "  <tbody>\n",
       "    <tr>\n",
       "      <th>A</th>\n",
       "      <td>-0.126866</td>\n",
       "      <td>-0.506737</td>\n",
       "      <td> 0.478553</td>\n",
       "      <td> 1.276177</td>\n",
       "    </tr>\n",
       "    <tr>\n",
       "      <th>B</th>\n",
       "      <td>-0.167650</td>\n",
       "      <td> 0.058219</td>\n",
       "      <td> 0.134857</td>\n",
       "      <td> 1.093503</td>\n",
       "    </tr>\n",
       "    <tr>\n",
       "      <th>C</th>\n",
       "      <td>-2.885116</td>\n",
       "      <td>-0.534923</td>\n",
       "      <td> 2.398013</td>\n",
       "      <td>-0.486080</td>\n",
       "    </tr>\n",
       "    <tr>\n",
       "      <th>D</th>\n",
       "      <td>-0.985089</td>\n",
       "      <td> 0.119383</td>\n",
       "      <td> 1.658495</td>\n",
       "      <td> 0.438553</td>\n",
       "    </tr>\n",
       "    <tr>\n",
       "      <th>E</th>\n",
       "      <td>-0.810854</td>\n",
       "      <td>-0.245581</td>\n",
       "      <td> 1.444208</td>\n",
       "      <td>-0.394136</td>\n",
       "    </tr>\n",
       "    <tr>\n",
       "      <th>F</th>\n",
       "      <td> 0.444841</td>\n",
       "      <td>-1.209695</td>\n",
       "      <td>-0.142044</td>\n",
       "      <td> 2.621274</td>\n",
       "    </tr>\n",
       "    <tr>\n",
       "      <th>G</th>\n",
       "      <td>-1.132605</td>\n",
       "      <td>-1.099798</td>\n",
       "      <td>-1.191519</td>\n",
       "      <td> 0.267632</td>\n",
       "    </tr>\n",
       "    <tr>\n",
       "      <th>H</th>\n",
       "      <td> 0.777029</td>\n",
       "      <td>-0.715463</td>\n",
       "      <td> 0.100067</td>\n",
       "      <td>-0.558789</td>\n",
       "    </tr>\n",
       "    <tr>\n",
       "      <th>A</th>\n",
       "      <td> 0.460923</td>\n",
       "      <td> 0.131940</td>\n",
       "      <td> 0.505373</td>\n",
       "      <td> 0.122675</td>\n",
       "    </tr>\n",
       "    <tr>\n",
       "      <th>B</th>\n",
       "      <td>-0.517533</td>\n",
       "      <td>-1.922732</td>\n",
       "      <td>-0.120033</td>\n",
       "      <td>-0.080964</td>\n",
       "    </tr>\n",
       "  </tbody>\n",
       "</table>\n",
       "</div>"
      ],
      "text/plain": [
       "          0         1         2         3\n",
       "A -0.126866 -0.506737  0.478553  1.276177\n",
       "B -0.167650  0.058219  0.134857  1.093503\n",
       "C -2.885116 -0.534923  2.398013 -0.486080\n",
       "D -0.985089  0.119383  1.658495  0.438553\n",
       "E -0.810854 -0.245581  1.444208 -0.394136\n",
       "F  0.444841 -1.209695 -0.142044  2.621274\n",
       "G -1.132605 -1.099798 -1.191519  0.267632\n",
       "H  0.777029 -0.715463  0.100067 -0.558789\n",
       "A  0.460923  0.131940  0.505373  0.122675\n",
       "B -0.517533 -1.922732 -0.120033 -0.080964"
      ]
     },
     "execution_count": 209,
     "metadata": {},
     "output_type": "execute_result"
    }
   ],
   "source": [
    "dfBigger.append(dfSmaller) # Indexes preserved"
   ]
  },
  {
   "cell_type": "markdown",
   "metadata": {},
   "source": [
    "### Concatenate: Sticking Together DataFrames with Indexes KNOWN to be the SAME"
   ]
  },
  {
   "cell_type": "code",
   "execution_count": 210,
   "metadata": {
    "collapsed": false
   },
   "outputs": [
    {
     "data": {
      "text/plain": [
       "(          0         1\n",
       "A -0.126866 -0.506737\n",
       "B -0.167650  0.058219\n",
       "C -2.885116 -0.534923\n",
       "D -0.985089  0.119383\n",
       "E -0.810854 -0.245581\n",
       "F  0.444841 -1.209695\n",
       "G -1.132605 -1.099798\n",
       "H  0.777029 -0.715463,\n",
       "           2         3\n",
       "A  0.478553  1.276177\n",
       "B  0.134857  1.093503\n",
       "C  2.398013 -0.486080\n",
       "D  1.658495  0.438553\n",
       "E  1.444208 -0.394136\n",
       "F -0.142044  2.621274\n",
       "G -1.191519  0.267632\n",
       "H  0.100067 -0.558789)"
      ]
     },
     "execution_count": 210,
     "metadata": {},
     "output_type": "execute_result"
    }
   ],
   "source": [
    "dfBiggerLeft = dfBigger[[0,1]].copy()\n",
    "dfBiggerRight = dfBigger[[2,3]].copy()\n",
    "dfBiggerLeft, dfBiggerRight"
   ]
  },
  {
   "cell_type": "code",
   "execution_count": 211,
   "metadata": {
    "collapsed": false
   },
   "outputs": [
    {
     "data": {
      "text/html": [
       "<div style=\"max-height:1000px;max-width:1500px;overflow:auto;\">\n",
       "<table border=\"1\" class=\"dataframe\">\n",
       "  <thead>\n",
       "    <tr style=\"text-align: right;\">\n",
       "      <th></th>\n",
       "      <th>0</th>\n",
       "      <th>1</th>\n",
       "      <th>2</th>\n",
       "      <th>3</th>\n",
       "    </tr>\n",
       "  </thead>\n",
       "  <tbody>\n",
       "    <tr>\n",
       "      <th>A</th>\n",
       "      <td>-0.126866</td>\n",
       "      <td>-0.506737</td>\n",
       "      <td> 0.478553</td>\n",
       "      <td> 1.276177</td>\n",
       "    </tr>\n",
       "    <tr>\n",
       "      <th>B</th>\n",
       "      <td>-0.167650</td>\n",
       "      <td> 0.058219</td>\n",
       "      <td> 0.134857</td>\n",
       "      <td> 1.093503</td>\n",
       "    </tr>\n",
       "    <tr>\n",
       "      <th>C</th>\n",
       "      <td>-2.885116</td>\n",
       "      <td>-0.534923</td>\n",
       "      <td> 2.398013</td>\n",
       "      <td>-0.486080</td>\n",
       "    </tr>\n",
       "    <tr>\n",
       "      <th>D</th>\n",
       "      <td>-0.985089</td>\n",
       "      <td> 0.119383</td>\n",
       "      <td> 1.658495</td>\n",
       "      <td> 0.438553</td>\n",
       "    </tr>\n",
       "    <tr>\n",
       "      <th>E</th>\n",
       "      <td>-0.810854</td>\n",
       "      <td>-0.245581</td>\n",
       "      <td> 1.444208</td>\n",
       "      <td>-0.394136</td>\n",
       "    </tr>\n",
       "    <tr>\n",
       "      <th>F</th>\n",
       "      <td> 0.444841</td>\n",
       "      <td>-1.209695</td>\n",
       "      <td>-0.142044</td>\n",
       "      <td> 2.621274</td>\n",
       "    </tr>\n",
       "    <tr>\n",
       "      <th>G</th>\n",
       "      <td>-1.132605</td>\n",
       "      <td>-1.099798</td>\n",
       "      <td>-1.191519</td>\n",
       "      <td> 0.267632</td>\n",
       "    </tr>\n",
       "    <tr>\n",
       "      <th>H</th>\n",
       "      <td> 0.777029</td>\n",
       "      <td>-0.715463</td>\n",
       "      <td> 0.100067</td>\n",
       "      <td>-0.558789</td>\n",
       "    </tr>\n",
       "  </tbody>\n",
       "</table>\n",
       "</div>"
      ],
      "text/plain": [
       "          0         1         2         3\n",
       "A -0.126866 -0.506737  0.478553  1.276177\n",
       "B -0.167650  0.058219  0.134857  1.093503\n",
       "C -2.885116 -0.534923  2.398013 -0.486080\n",
       "D -0.985089  0.119383  1.658495  0.438553\n",
       "E -0.810854 -0.245581  1.444208 -0.394136\n",
       "F  0.444841 -1.209695 -0.142044  2.621274\n",
       "G -1.132605 -1.099798 -1.191519  0.267632\n",
       "H  0.777029 -0.715463  0.100067 -0.558789"
      ]
     },
     "execution_count": 211,
     "metadata": {},
     "output_type": "execute_result"
    }
   ],
   "source": [
    "pd.concat([dfBiggerLeft, dfBiggerRight], axis=1)"
   ]
  },
  {
   "cell_type": "code",
   "execution_count": 212,
   "metadata": {
    "collapsed": false
   },
   "outputs": [
    {
     "data": {
      "text/html": [
       "<div style=\"max-height:1000px;max-width:1500px;overflow:auto;\">\n",
       "<table border=\"1\" class=\"dataframe\">\n",
       "  <thead>\n",
       "    <tr>\n",
       "      <th></th>\n",
       "      <th colspan=\"2\" halign=\"left\">L</th>\n",
       "      <th colspan=\"2\" halign=\"left\">R</th>\n",
       "    </tr>\n",
       "    <tr>\n",
       "      <th></th>\n",
       "      <th>0</th>\n",
       "      <th>1</th>\n",
       "      <th>2</th>\n",
       "      <th>3</th>\n",
       "    </tr>\n",
       "  </thead>\n",
       "  <tbody>\n",
       "    <tr>\n",
       "      <th>A</th>\n",
       "      <td>-0.126866</td>\n",
       "      <td>-0.506737</td>\n",
       "      <td> 0.478553</td>\n",
       "      <td> 1.276177</td>\n",
       "    </tr>\n",
       "    <tr>\n",
       "      <th>B</th>\n",
       "      <td>-0.167650</td>\n",
       "      <td> 0.058219</td>\n",
       "      <td> 0.134857</td>\n",
       "      <td> 1.093503</td>\n",
       "    </tr>\n",
       "    <tr>\n",
       "      <th>C</th>\n",
       "      <td>-2.885116</td>\n",
       "      <td>-0.534923</td>\n",
       "      <td> 2.398013</td>\n",
       "      <td>-0.486080</td>\n",
       "    </tr>\n",
       "    <tr>\n",
       "      <th>D</th>\n",
       "      <td>-0.985089</td>\n",
       "      <td> 0.119383</td>\n",
       "      <td> 1.658495</td>\n",
       "      <td> 0.438553</td>\n",
       "    </tr>\n",
       "    <tr>\n",
       "      <th>E</th>\n",
       "      <td>-0.810854</td>\n",
       "      <td>-0.245581</td>\n",
       "      <td> 1.444208</td>\n",
       "      <td>-0.394136</td>\n",
       "    </tr>\n",
       "    <tr>\n",
       "      <th>F</th>\n",
       "      <td> 0.444841</td>\n",
       "      <td>-1.209695</td>\n",
       "      <td>-0.142044</td>\n",
       "      <td> 2.621274</td>\n",
       "    </tr>\n",
       "    <tr>\n",
       "      <th>G</th>\n",
       "      <td>-1.132605</td>\n",
       "      <td>-1.099798</td>\n",
       "      <td>-1.191519</td>\n",
       "      <td> 0.267632</td>\n",
       "    </tr>\n",
       "    <tr>\n",
       "      <th>H</th>\n",
       "      <td> 0.777029</td>\n",
       "      <td>-0.715463</td>\n",
       "      <td> 0.100067</td>\n",
       "      <td>-0.558789</td>\n",
       "    </tr>\n",
       "  </tbody>\n",
       "</table>\n",
       "</div>"
      ],
      "text/plain": [
       "          L                   R          \n",
       "          0         1         2         3\n",
       "A -0.126866 -0.506737  0.478553  1.276177\n",
       "B -0.167650  0.058219  0.134857  1.093503\n",
       "C -2.885116 -0.534923  2.398013 -0.486080\n",
       "D -0.985089  0.119383  1.658495  0.438553\n",
       "E -0.810854 -0.245581  1.444208 -0.394136\n",
       "F  0.444841 -1.209695 -0.142044  2.621274\n",
       "G -1.132605 -1.099798 -1.191519  0.267632\n",
       "H  0.777029 -0.715463  0.100067 -0.558789"
      ]
     },
     "execution_count": 212,
     "metadata": {},
     "output_type": "execute_result"
    }
   ],
   "source": [
    "pd.concat([dfBiggerLeft, dfBiggerRight], axis=1, keys=['L', 'R'])"
   ]
  },
  {
   "cell_type": "code",
   "execution_count": 213,
   "metadata": {
    "collapsed": false
   },
   "outputs": [
    {
     "data": {
      "text/html": [
       "<div style=\"max-height:1000px;max-width:1500px;overflow:auto;\">\n",
       "<table border=\"1\" class=\"dataframe\">\n",
       "  <thead>\n",
       "    <tr>\n",
       "      <th></th>\n",
       "      <th colspan=\"2\" halign=\"left\">Left</th>\n",
       "      <th colspan=\"2\" halign=\"left\">Right</th>\n",
       "    </tr>\n",
       "    <tr>\n",
       "      <th></th>\n",
       "      <th>0</th>\n",
       "      <th>1</th>\n",
       "      <th>2</th>\n",
       "      <th>3</th>\n",
       "    </tr>\n",
       "  </thead>\n",
       "  <tbody>\n",
       "    <tr>\n",
       "      <th>A</th>\n",
       "      <td>-0.126866</td>\n",
       "      <td>-0.506737</td>\n",
       "      <td> 0.478553</td>\n",
       "      <td> 1.276177</td>\n",
       "    </tr>\n",
       "    <tr>\n",
       "      <th>B</th>\n",
       "      <td>-0.167650</td>\n",
       "      <td> 0.058219</td>\n",
       "      <td> 0.134857</td>\n",
       "      <td> 1.093503</td>\n",
       "    </tr>\n",
       "    <tr>\n",
       "      <th>C</th>\n",
       "      <td>-2.885116</td>\n",
       "      <td>-0.534923</td>\n",
       "      <td> 2.398013</td>\n",
       "      <td>-0.486080</td>\n",
       "    </tr>\n",
       "    <tr>\n",
       "      <th>D</th>\n",
       "      <td>-0.985089</td>\n",
       "      <td> 0.119383</td>\n",
       "      <td> 1.658495</td>\n",
       "      <td> 0.438553</td>\n",
       "    </tr>\n",
       "    <tr>\n",
       "      <th>E</th>\n",
       "      <td>-0.810854</td>\n",
       "      <td>-0.245581</td>\n",
       "      <td> 1.444208</td>\n",
       "      <td>-0.394136</td>\n",
       "    </tr>\n",
       "    <tr>\n",
       "      <th>F</th>\n",
       "      <td> 0.444841</td>\n",
       "      <td>-1.209695</td>\n",
       "      <td>-0.142044</td>\n",
       "      <td> 2.621274</td>\n",
       "    </tr>\n",
       "    <tr>\n",
       "      <th>G</th>\n",
       "      <td>-1.132605</td>\n",
       "      <td>-1.099798</td>\n",
       "      <td>-1.191519</td>\n",
       "      <td> 0.267632</td>\n",
       "    </tr>\n",
       "    <tr>\n",
       "      <th>H</th>\n",
       "      <td> 0.777029</td>\n",
       "      <td>-0.715463</td>\n",
       "      <td> 0.100067</td>\n",
       "      <td>-0.558789</td>\n",
       "    </tr>\n",
       "  </tbody>\n",
       "</table>\n",
       "</div>"
      ],
      "text/plain": [
       "       Left               Right          \n",
       "          0         1         2         3\n",
       "A -0.126866 -0.506737  0.478553  1.276177\n",
       "B -0.167650  0.058219  0.134857  1.093503\n",
       "C -2.885116 -0.534923  2.398013 -0.486080\n",
       "D -0.985089  0.119383  1.658495  0.438553\n",
       "E -0.810854 -0.245581  1.444208 -0.394136\n",
       "F  0.444841 -1.209695 -0.142044  2.621274\n",
       "G -1.132605 -1.099798 -1.191519  0.267632\n",
       "H  0.777029 -0.715463  0.100067 -0.558789"
      ]
     },
     "execution_count": 213,
     "metadata": {},
     "output_type": "execute_result"
    }
   ],
   "source": [
    "pd.concat({'Left' : dfBiggerLeft, 'Right' : dfBiggerRight}, axis=1)"
   ]
  },
  {
   "cell_type": "code",
   "execution_count": 214,
   "metadata": {
    "collapsed": false
   },
   "outputs": [
    {
     "data": {
      "text/html": [
       "<div style=\"max-height:1000px;max-width:1500px;overflow:auto;\">\n",
       "<table border=\"1\" class=\"dataframe\">\n",
       "  <thead>\n",
       "    <tr>\n",
       "      <th></th>\n",
       "      <th colspan=\"2\" halign=\"left\">Left</th>\n",
       "      <th colspan=\"2\" halign=\"left\">Right</th>\n",
       "    </tr>\n",
       "    <tr>\n",
       "      <th></th>\n",
       "      <th>0</th>\n",
       "      <th>1</th>\n",
       "      <th>2</th>\n",
       "      <th>3</th>\n",
       "    </tr>\n",
       "  </thead>\n",
       "  <tbody>\n",
       "    <tr>\n",
       "      <th>A</th>\n",
       "      <td>-0.126866</td>\n",
       "      <td>-0.506737</td>\n",
       "      <td> 0.478553</td>\n",
       "      <td> 1.276177</td>\n",
       "    </tr>\n",
       "    <tr>\n",
       "      <th>B</th>\n",
       "      <td>-0.167650</td>\n",
       "      <td> 0.058219</td>\n",
       "      <td> 0.134857</td>\n",
       "      <td> 1.093503</td>\n",
       "    </tr>\n",
       "    <tr>\n",
       "      <th>C</th>\n",
       "      <td>-2.885116</td>\n",
       "      <td>-0.534923</td>\n",
       "      <td> 2.398013</td>\n",
       "      <td>-0.486080</td>\n",
       "    </tr>\n",
       "    <tr>\n",
       "      <th>D</th>\n",
       "      <td>-0.985089</td>\n",
       "      <td> 0.119383</td>\n",
       "      <td> 1.658495</td>\n",
       "      <td> 0.438553</td>\n",
       "    </tr>\n",
       "    <tr>\n",
       "      <th>E</th>\n",
       "      <td>-0.810854</td>\n",
       "      <td>-0.245581</td>\n",
       "      <td> 1.444208</td>\n",
       "      <td>-0.394136</td>\n",
       "    </tr>\n",
       "    <tr>\n",
       "      <th>F</th>\n",
       "      <td> 0.444841</td>\n",
       "      <td>-1.209695</td>\n",
       "      <td>-0.142044</td>\n",
       "      <td> 2.621274</td>\n",
       "    </tr>\n",
       "    <tr>\n",
       "      <th>G</th>\n",
       "      <td>-1.132605</td>\n",
       "      <td>-1.099798</td>\n",
       "      <td>-1.191519</td>\n",
       "      <td> 0.267632</td>\n",
       "    </tr>\n",
       "    <tr>\n",
       "      <th>H</th>\n",
       "      <td> 0.777029</td>\n",
       "      <td>-0.715463</td>\n",
       "      <td> 0.100067</td>\n",
       "      <td>-0.558789</td>\n",
       "    </tr>\n",
       "  </tbody>\n",
       "</table>\n",
       "</div>"
      ],
      "text/plain": [
       "       Left               Right          \n",
       "          0         1         2         3\n",
       "A -0.126866 -0.506737  0.478553  1.276177\n",
       "B -0.167650  0.058219  0.134857  1.093503\n",
       "C -2.885116 -0.534923  2.398013 -0.486080\n",
       "D -0.985089  0.119383  1.658495  0.438553\n",
       "E -0.810854 -0.245581  1.444208 -0.394136\n",
       "F  0.444841 -1.209695 -0.142044  2.621274\n",
       "G -1.132605 -1.099798 -1.191519  0.267632\n",
       "H  0.777029 -0.715463  0.100067 -0.558789"
      ]
     },
     "execution_count": 214,
     "metadata": {},
     "output_type": "execute_result"
    }
   ],
   "source": [
    "pd.concat({'Left' : dfBiggerLeft, 'Right' : dfBiggerRight}, axis=1)"
   ]
  },
  {
   "cell_type": "markdown",
   "metadata": {},
   "source": [
    "### Join: Sticking Together DataFrames with Compatible Indexes"
   ]
  },
  {
   "cell_type": "code",
   "execution_count": 215,
   "metadata": {
    "collapsed": false
   },
   "outputs": [
    {
     "data": {
      "text/plain": [
       "(          0         1         2         3\n",
       "A -0.126866 -0.506737  0.478553  1.276177\n",
       "B -0.167650  0.058219  0.134857  1.093503\n",
       "C -2.885116 -0.534923  2.398013 -0.486080\n",
       "D -0.985089  0.119383  1.658495  0.438553\n",
       "E -0.810854 -0.245581  1.444208 -0.394136\n",
       "F  0.444841 -1.209695 -0.142044  2.621274\n",
       "G -1.132605 -1.099798 -1.191519  0.267632\n",
       "H  0.777029 -0.715463  0.100067 -0.558789,\n",
       "     R1  R2\n",
       "B    0  10\n",
       "A    1  11\n",
       "CC   2  12\n",
       "D    3  13\n",
       "E    4  14\n",
       "F    5  15\n",
       "G    6  16\n",
       "H    7  17)"
      ]
     },
     "execution_count": 215,
     "metadata": {},
     "output_type": "execute_result"
    }
   ],
   "source": [
    "dfMore = pd.DataFrame({'R1' : np.arange(8), 'R2' : np.arange(10,18)})\n",
    "dfMore.index = dfMore.index.map(lambda x : chr(65+x))\n",
    "dfMore.index[0:3] = ['B', 'A', 'CC']\n",
    "dfBigger, dfMore"
   ]
  },
  {
   "cell_type": "code",
   "execution_count": 216,
   "metadata": {
    "collapsed": false
   },
   "outputs": [
    {
     "data": {
      "text/html": [
       "<div style=\"max-height:1000px;max-width:1500px;overflow:auto;\">\n",
       "<table border=\"1\" class=\"dataframe\">\n",
       "  <thead>\n",
       "    <tr style=\"text-align: right;\">\n",
       "      <th></th>\n",
       "      <th>0</th>\n",
       "      <th>1</th>\n",
       "      <th>2</th>\n",
       "      <th>3</th>\n",
       "      <th>R1</th>\n",
       "      <th>R2</th>\n",
       "    </tr>\n",
       "  </thead>\n",
       "  <tbody>\n",
       "    <tr>\n",
       "      <th>A</th>\n",
       "      <td>-0.126866</td>\n",
       "      <td>-0.506737</td>\n",
       "      <td> 0.478553</td>\n",
       "      <td> 1.276177</td>\n",
       "      <td>  1</td>\n",
       "      <td> 11</td>\n",
       "    </tr>\n",
       "    <tr>\n",
       "      <th>B</th>\n",
       "      <td>-0.167650</td>\n",
       "      <td> 0.058219</td>\n",
       "      <td> 0.134857</td>\n",
       "      <td> 1.093503</td>\n",
       "      <td>  0</td>\n",
       "      <td> 10</td>\n",
       "    </tr>\n",
       "    <tr>\n",
       "      <th>C</th>\n",
       "      <td>-2.885116</td>\n",
       "      <td>-0.534923</td>\n",
       "      <td> 2.398013</td>\n",
       "      <td>-0.486080</td>\n",
       "      <td>NaN</td>\n",
       "      <td>NaN</td>\n",
       "    </tr>\n",
       "    <tr>\n",
       "      <th>D</th>\n",
       "      <td>-0.985089</td>\n",
       "      <td> 0.119383</td>\n",
       "      <td> 1.658495</td>\n",
       "      <td> 0.438553</td>\n",
       "      <td>  3</td>\n",
       "      <td> 13</td>\n",
       "    </tr>\n",
       "    <tr>\n",
       "      <th>E</th>\n",
       "      <td>-0.810854</td>\n",
       "      <td>-0.245581</td>\n",
       "      <td> 1.444208</td>\n",
       "      <td>-0.394136</td>\n",
       "      <td>  4</td>\n",
       "      <td> 14</td>\n",
       "    </tr>\n",
       "    <tr>\n",
       "      <th>F</th>\n",
       "      <td> 0.444841</td>\n",
       "      <td>-1.209695</td>\n",
       "      <td>-0.142044</td>\n",
       "      <td> 2.621274</td>\n",
       "      <td>  5</td>\n",
       "      <td> 15</td>\n",
       "    </tr>\n",
       "    <tr>\n",
       "      <th>G</th>\n",
       "      <td>-1.132605</td>\n",
       "      <td>-1.099798</td>\n",
       "      <td>-1.191519</td>\n",
       "      <td> 0.267632</td>\n",
       "      <td>  6</td>\n",
       "      <td> 16</td>\n",
       "    </tr>\n",
       "    <tr>\n",
       "      <th>H</th>\n",
       "      <td> 0.777029</td>\n",
       "      <td>-0.715463</td>\n",
       "      <td> 0.100067</td>\n",
       "      <td>-0.558789</td>\n",
       "      <td>  7</td>\n",
       "      <td> 17</td>\n",
       "    </tr>\n",
       "  </tbody>\n",
       "</table>\n",
       "</div>"
      ],
      "text/plain": [
       "          0         1         2         3  R1  R2\n",
       "A -0.126866 -0.506737  0.478553  1.276177   1  11\n",
       "B -0.167650  0.058219  0.134857  1.093503   0  10\n",
       "C -2.885116 -0.534923  2.398013 -0.486080 NaN NaN\n",
       "D -0.985089  0.119383  1.658495  0.438553   3  13\n",
       "E -0.810854 -0.245581  1.444208 -0.394136   4  14\n",
       "F  0.444841 -1.209695 -0.142044  2.621274   5  15\n",
       "G -1.132605 -1.099798 -1.191519  0.267632   6  16\n",
       "H  0.777029 -0.715463  0.100067 -0.558789   7  17"
      ]
     },
     "execution_count": 216,
     "metadata": {},
     "output_type": "execute_result"
    }
   ],
   "source": [
    "dfBigger.join(dfMore) # Left join is default (Keeps left table)"
   ]
  },
  {
   "cell_type": "code",
   "execution_count": 217,
   "metadata": {
    "collapsed": false
   },
   "outputs": [
    {
     "data": {
      "text/html": [
       "<div style=\"max-height:1000px;max-width:1500px;overflow:auto;\">\n",
       "<table border=\"1\" class=\"dataframe\">\n",
       "  <thead>\n",
       "    <tr style=\"text-align: right;\">\n",
       "      <th></th>\n",
       "      <th>0</th>\n",
       "      <th>1</th>\n",
       "      <th>2</th>\n",
       "      <th>3</th>\n",
       "      <th>R1</th>\n",
       "      <th>R2</th>\n",
       "    </tr>\n",
       "  </thead>\n",
       "  <tbody>\n",
       "    <tr>\n",
       "      <th>B</th>\n",
       "      <td>-0.167650</td>\n",
       "      <td> 0.058219</td>\n",
       "      <td> 0.134857</td>\n",
       "      <td> 1.093503</td>\n",
       "      <td> 0</td>\n",
       "      <td> 10</td>\n",
       "    </tr>\n",
       "    <tr>\n",
       "      <th>A</th>\n",
       "      <td>-0.126866</td>\n",
       "      <td>-0.506737</td>\n",
       "      <td> 0.478553</td>\n",
       "      <td> 1.276177</td>\n",
       "      <td> 1</td>\n",
       "      <td> 11</td>\n",
       "    </tr>\n",
       "    <tr>\n",
       "      <th>D</th>\n",
       "      <td>-0.985089</td>\n",
       "      <td> 0.119383</td>\n",
       "      <td> 1.658495</td>\n",
       "      <td> 0.438553</td>\n",
       "      <td> 3</td>\n",
       "      <td> 13</td>\n",
       "    </tr>\n",
       "    <tr>\n",
       "      <th>E</th>\n",
       "      <td>-0.810854</td>\n",
       "      <td>-0.245581</td>\n",
       "      <td> 1.444208</td>\n",
       "      <td>-0.394136</td>\n",
       "      <td> 4</td>\n",
       "      <td> 14</td>\n",
       "    </tr>\n",
       "    <tr>\n",
       "      <th>F</th>\n",
       "      <td> 0.444841</td>\n",
       "      <td>-1.209695</td>\n",
       "      <td>-0.142044</td>\n",
       "      <td> 2.621274</td>\n",
       "      <td> 5</td>\n",
       "      <td> 15</td>\n",
       "    </tr>\n",
       "    <tr>\n",
       "      <th>G</th>\n",
       "      <td>-1.132605</td>\n",
       "      <td>-1.099798</td>\n",
       "      <td>-1.191519</td>\n",
       "      <td> 0.267632</td>\n",
       "      <td> 6</td>\n",
       "      <td> 16</td>\n",
       "    </tr>\n",
       "    <tr>\n",
       "      <th>H</th>\n",
       "      <td> 0.777029</td>\n",
       "      <td>-0.715463</td>\n",
       "      <td> 0.100067</td>\n",
       "      <td>-0.558789</td>\n",
       "      <td> 7</td>\n",
       "      <td> 17</td>\n",
       "    </tr>\n",
       "  </tbody>\n",
       "</table>\n",
       "</div>"
      ],
      "text/plain": [
       "          0         1         2         3  R1  R2\n",
       "B -0.167650  0.058219  0.134857  1.093503   0  10\n",
       "A -0.126866 -0.506737  0.478553  1.276177   1  11\n",
       "D -0.985089  0.119383  1.658495  0.438553   3  13\n",
       "E -0.810854 -0.245581  1.444208 -0.394136   4  14\n",
       "F  0.444841 -1.209695 -0.142044  2.621274   5  15\n",
       "G -1.132605 -1.099798 -1.191519  0.267632   6  16\n",
       "H  0.777029 -0.715463  0.100067 -0.558789   7  17"
      ]
     },
     "execution_count": 217,
     "metadata": {},
     "output_type": "execute_result"
    }
   ],
   "source": [
    "dfBigger.join(dfMore,how='inner') # Inner join requires keys on both sides"
   ]
  },
  {
   "cell_type": "markdown",
   "metadata": {},
   "source": [
    "More on this sticking data together at: http://pandas.pydata.org/pandas-docs/stable/merging.html\n",
    "\n",
    "There is also <a href=\"http://pandas.pydata.org/pandas-docs/stable/generated/pandas.DataFrame.update.html\">a flexible looking \"update\" function</a> that fills in empty entries in a DataFrame in-place."
   ]
  },
  {
   "cell_type": "markdown",
   "metadata": {},
   "source": [
    "# Plots"
   ]
  },
  {
   "cell_type": "code",
   "execution_count": 218,
   "metadata": {
    "collapsed": false
   },
   "outputs": [
    {
     "data": {
      "image/png": "[encoded data removed]",
      "text/plain": [
       "<matplotlib.figure.Figure at 0x1177d6d0>"
      ]
     },
     "metadata": {},
     "output_type": "display_data"
    }
   ],
   "source": [
    "import datetime\n",
    "first_jan_2013 = datetime.date(2013,1,1)\n",
    "one_day = datetime.timedelta(days = 1)\n",
    "plot_df = DataFrame(np.exp(np.cumsum(0.025*np.random.randn(365,4),axis=0) + 2*np.random.rand(1,4) - 1),columns=['GBM1','GBM2','GBM3','GBM4'])\n",
    "plot_df['Date'] = plot_df.index.map(lambda t : one_day * t + first_jan_2013)\n",
    "plot_df.set_index(['Date'], inplace=True)\n",
    "ax = plot_df.plot() # Eeeeek"
   ]
  },
  {
   "cell_type": "code",
   "execution_count": 219,
   "metadata": {
    "collapsed": false
   },
   "outputs": [
    {
     "data": {
      "image/png": "[encoded data removed]",
      "text/plain": [
       "<matplotlib.figure.Figure at 0x1177d6d0>"
      ]
     },
     "execution_count": 219,
     "metadata": {},
     "output_type": "execute_result"
    }
   ],
   "source": [
    "new_xticks = map(lambda t: t * 60 * one_day + first_jan_2013, range(7))\n",
    "ax.set_xticks(new_xticks)\n",
    "ax.set_title('Does this Look More Presentable Now?')\n",
    "ax.set_ylabel('Stock Price?')\n",
    "ax.legend(loc='upper left')\n",
    "ax.figure"
   ]
  },
  {
   "cell_type": "code",
   "execution_count": 220,
   "metadata": {
    "collapsed": false
   },
   "outputs": [
    {
     "data": {
      "image/png": "[encoded data removed]",
      "text/plain": [
       "<matplotlib.figure.Figure at 0x1152d0f0>"
      ]
     },
     "metadata": {},
     "output_type": "display_data"
    }
   ],
   "source": [
    "axes = plot_df.hist(bins=20, normed=True, alpha=0.3) # A \"normalized\" histogram, in lighter color\n",
    "fig = axes[0,0].figure\n",
    "for i in range(len(axes)):\n",
    "    for j in range(len(axes[i])):        \n",
    "        this_series = plot_df[axes[i][j].get_title()]        \n",
    "        this_series.plot(kind='kde', ax=axes[i][j], color='k') # Kernel Density Estimate\n",
    "        \n",
    "        axes[i][j].set_title( axes[i][j].get_title() + ' ($\\mu={0:.3g}$, $\\sigma={1:.3g}$)'.format(this_series.mean(), this_series.std()))\n",
    "        axes[i][j].set_xlabel('$$$')\n",
    "        axes[i][j].set_ylabel('Frequency')\n",
    "fig.tight_layout()"
   ]
  },
  {
   "cell_type": "code",
   "execution_count": 295,
   "metadata": {
    "collapsed": false
   },
   "outputs": [],
   "source": [
    "# To save figure, use: fig.savefig('filename', dpi=300, ...)"
   ]
  },
  {
   "cell_type": "code",
   "execution_count": 221,
   "metadata": {
    "collapsed": false
   },
   "outputs": [
    {
     "data": {
      "text/html": [
       "<div style=\"max-height:1000px;max-width:1500px;overflow:auto;\">\n",
       "<table border=\"1\" class=\"dataframe\">\n",
       "  <thead>\n",
       "    <tr style=\"text-align: right;\">\n",
       "      <th></th>\n",
       "      <th>type</th>\n",
       "      <th>values</th>\n",
       "    </tr>\n",
       "    <tr>\n",
       "      <th>indiv</th>\n",
       "      <th></th>\n",
       "      <th></th>\n",
       "    </tr>\n",
       "  </thead>\n",
       "  <tbody>\n",
       "    <tr>\n",
       "      <th>0</th>\n",
       "      <td> 1</td>\n",
       "      <td> 5</td>\n",
       "    </tr>\n",
       "    <tr>\n",
       "      <th>1</th>\n",
       "      <td> 1</td>\n",
       "      <td> 8</td>\n",
       "    </tr>\n",
       "    <tr>\n",
       "      <th>2</th>\n",
       "      <td> 1</td>\n",
       "      <td> 7</td>\n",
       "    </tr>\n",
       "    <tr>\n",
       "      <th>3</th>\n",
       "      <td> 1</td>\n",
       "      <td> 8</td>\n",
       "    </tr>\n",
       "    <tr>\n",
       "      <th>4</th>\n",
       "      <td> 1</td>\n",
       "      <td> 1</td>\n",
       "    </tr>\n",
       "  </tbody>\n",
       "</table>\n",
       "</div>"
      ],
      "text/plain": [
       "       type  values\n",
       "indiv              \n",
       "0         1       5\n",
       "1         1       8\n",
       "2         1       7\n",
       "3         1       8\n",
       "4         1       1"
      ]
     },
     "execution_count": 221,
     "metadata": {},
     "output_type": "execute_result"
    }
   ],
   "source": [
    "bar_df = pd.concat([\n",
    "                   pd.DataFrame({'values' : np.random.randint(1,10,(1000)), 'type': 1}),\n",
    "                   pd.DataFrame({'values' : np.random.randint(3,7,(400)), 'type': 2}),\n",
    "                   pd.DataFrame({'values' : np.random.randint(6,12,(600)), 'type': 3})\n",
    "                ])\n",
    "bar_df['indiv'] = np.arange(len(bar_df))\n",
    "bar_df.set_index(['indiv'], inplace=True)\n",
    "bar_df.head()"
   ]
  },
  {
   "cell_type": "code",
   "execution_count": 222,
   "metadata": {
    "collapsed": false
   },
   "outputs": [
    {
     "name": "stdout",
     "output_type": "stream",
     "text": [
      "       type  values\n",
      "indiv              \n",
      "0         1       5\n",
      "1         1       8\n",
      "2         1       7\n",
      "3         1       8\n",
      "4         1       1\n",
      "       type  values\n",
      "indiv              \n",
      "1995      3      11\n",
      "1996      3      11\n",
      "1997      3      11\n",
      "1998      3      10\n",
      "1999      3      10\n"
     ]
    }
   ],
   "source": [
    "print bar_df.head()\n",
    "print bar_df.tail()"
   ]
  },
  {
   "cell_type": "code",
   "execution_count": 223,
   "metadata": {
    "collapsed": false
   },
   "outputs": [
    {
     "data": {
      "text/html": [
       "<div style=\"max-height:1000px;max-width:1500px;overflow:auto;\">\n",
       "<table border=\"1\" class=\"dataframe\">\n",
       "  <thead>\n",
       "    <tr style=\"text-align: right;\">\n",
       "      <th></th>\n",
       "      <th></th>\n",
       "      <th>values</th>\n",
       "    </tr>\n",
       "    <tr>\n",
       "      <th>type</th>\n",
       "      <th>values</th>\n",
       "      <th></th>\n",
       "    </tr>\n",
       "  </thead>\n",
       "  <tbody>\n",
       "    <tr>\n",
       "      <th rowspan=\"9\" valign=\"top\">1</th>\n",
       "      <th>1 </th>\n",
       "      <td> 116</td>\n",
       "    </tr>\n",
       "    <tr>\n",
       "      <th>2 </th>\n",
       "      <td> 107</td>\n",
       "    </tr>\n",
       "    <tr>\n",
       "      <th>3 </th>\n",
       "      <td>  96</td>\n",
       "    </tr>\n",
       "    <tr>\n",
       "      <th>4 </th>\n",
       "      <td> 123</td>\n",
       "    </tr>\n",
       "    <tr>\n",
       "      <th>5 </th>\n",
       "      <td> 117</td>\n",
       "    </tr>\n",
       "    <tr>\n",
       "      <th>6 </th>\n",
       "      <td>  99</td>\n",
       "    </tr>\n",
       "    <tr>\n",
       "      <th>7 </th>\n",
       "      <td> 115</td>\n",
       "    </tr>\n",
       "    <tr>\n",
       "      <th>8 </th>\n",
       "      <td> 113</td>\n",
       "    </tr>\n",
       "    <tr>\n",
       "      <th>9 </th>\n",
       "      <td> 114</td>\n",
       "    </tr>\n",
       "    <tr>\n",
       "      <th rowspan=\"4\" valign=\"top\">2</th>\n",
       "      <th>3 </th>\n",
       "      <td> 107</td>\n",
       "    </tr>\n",
       "    <tr>\n",
       "      <th>4 </th>\n",
       "      <td>  81</td>\n",
       "    </tr>\n",
       "    <tr>\n",
       "      <th>5 </th>\n",
       "      <td> 101</td>\n",
       "    </tr>\n",
       "    <tr>\n",
       "      <th>6 </th>\n",
       "      <td> 111</td>\n",
       "    </tr>\n",
       "    <tr>\n",
       "      <th rowspan=\"6\" valign=\"top\">3</th>\n",
       "      <th>6 </th>\n",
       "      <td> 107</td>\n",
       "    </tr>\n",
       "    <tr>\n",
       "      <th>7 </th>\n",
       "      <td> 109</td>\n",
       "    </tr>\n",
       "    <tr>\n",
       "      <th>8 </th>\n",
       "      <td>  75</td>\n",
       "    </tr>\n",
       "    <tr>\n",
       "      <th>9 </th>\n",
       "      <td> 103</td>\n",
       "    </tr>\n",
       "    <tr>\n",
       "      <th>10</th>\n",
       "      <td>  98</td>\n",
       "    </tr>\n",
       "    <tr>\n",
       "      <th>11</th>\n",
       "      <td> 108</td>\n",
       "    </tr>\n",
       "  </tbody>\n",
       "</table>\n",
       "</div>"
      ],
      "text/plain": [
       "             values\n",
       "type values        \n",
       "1    1          116\n",
       "     2          107\n",
       "     3           96\n",
       "     4          123\n",
       "     5          117\n",
       "     6           99\n",
       "     7          115\n",
       "     8          113\n",
       "     9          114\n",
       "2    3          107\n",
       "     4           81\n",
       "     5          101\n",
       "     6          111\n",
       "3    6          107\n",
       "     7          109\n",
       "     8           75\n",
       "     9          103\n",
       "     10          98\n",
       "     11         108"
      ]
     },
     "execution_count": 223,
     "metadata": {},
     "output_type": "execute_result"
    }
   ],
   "source": [
    "bar_df[['values']].groupby([bar_df['type'], bar_df['values']]).count()"
   ]
  },
  {
   "cell_type": "code",
   "execution_count": 224,
   "metadata": {
    "collapsed": false
   },
   "outputs": [
    {
     "data": {
      "text/plain": [
       "<pandas.core.groupby.DataFrameGroupBy object at 0x1177ED50>"
      ]
     },
     "execution_count": 224,
     "metadata": {},
     "output_type": "execute_result"
    }
   ],
   "source": [
    "bar_df[['values']].groupby([bar_df['type'], bar_df['values']])"
   ]
  },
  {
   "cell_type": "code",
   "execution_count": 225,
   "metadata": {
    "collapsed": false
   },
   "outputs": [
    {
     "data": {
      "text/html": [
       "<div style=\"max-height:1000px;max-width:1500px;overflow:auto;\">\n",
       "<table border=\"1\" class=\"dataframe\">\n",
       "  <thead>\n",
       "    <tr style=\"text-align: right;\">\n",
       "      <th></th>\n",
       "      <th></th>\n",
       "      <th>values</th>\n",
       "    </tr>\n",
       "    <tr>\n",
       "      <th>type</th>\n",
       "      <th>values</th>\n",
       "      <th></th>\n",
       "    </tr>\n",
       "  </thead>\n",
       "  <tbody>\n",
       "    <tr>\n",
       "      <th rowspan=\"9\" valign=\"top\">1</th>\n",
       "      <th>1 </th>\n",
       "      <td> 116</td>\n",
       "    </tr>\n",
       "    <tr>\n",
       "      <th>2 </th>\n",
       "      <td> 107</td>\n",
       "    </tr>\n",
       "    <tr>\n",
       "      <th>3 </th>\n",
       "      <td>  96</td>\n",
       "    </tr>\n",
       "    <tr>\n",
       "      <th>4 </th>\n",
       "      <td> 123</td>\n",
       "    </tr>\n",
       "    <tr>\n",
       "      <th>5 </th>\n",
       "      <td> 117</td>\n",
       "    </tr>\n",
       "    <tr>\n",
       "      <th>6 </th>\n",
       "      <td>  99</td>\n",
       "    </tr>\n",
       "    <tr>\n",
       "      <th>7 </th>\n",
       "      <td> 115</td>\n",
       "    </tr>\n",
       "    <tr>\n",
       "      <th>8 </th>\n",
       "      <td> 113</td>\n",
       "    </tr>\n",
       "    <tr>\n",
       "      <th>9 </th>\n",
       "      <td> 114</td>\n",
       "    </tr>\n",
       "    <tr>\n",
       "      <th rowspan=\"4\" valign=\"top\">2</th>\n",
       "      <th>3 </th>\n",
       "      <td> 107</td>\n",
       "    </tr>\n",
       "    <tr>\n",
       "      <th>4 </th>\n",
       "      <td>  81</td>\n",
       "    </tr>\n",
       "    <tr>\n",
       "      <th>5 </th>\n",
       "      <td> 101</td>\n",
       "    </tr>\n",
       "    <tr>\n",
       "      <th>6 </th>\n",
       "      <td> 111</td>\n",
       "    </tr>\n",
       "    <tr>\n",
       "      <th rowspan=\"6\" valign=\"top\">3</th>\n",
       "      <th>6 </th>\n",
       "      <td> 107</td>\n",
       "    </tr>\n",
       "    <tr>\n",
       "      <th>7 </th>\n",
       "      <td> 109</td>\n",
       "    </tr>\n",
       "    <tr>\n",
       "      <th>8 </th>\n",
       "      <td>  75</td>\n",
       "    </tr>\n",
       "    <tr>\n",
       "      <th>9 </th>\n",
       "      <td> 103</td>\n",
       "    </tr>\n",
       "    <tr>\n",
       "      <th>10</th>\n",
       "      <td>  98</td>\n",
       "    </tr>\n",
       "    <tr>\n",
       "      <th>11</th>\n",
       "      <td> 108</td>\n",
       "    </tr>\n",
       "  </tbody>\n",
       "</table>\n",
       "</div>"
      ],
      "text/plain": [
       "             values\n",
       "type values        \n",
       "1    1          116\n",
       "     2          107\n",
       "     3           96\n",
       "     4          123\n",
       "     5          117\n",
       "     6           99\n",
       "     7          115\n",
       "     8          113\n",
       "     9          114\n",
       "2    3          107\n",
       "     4           81\n",
       "     5          101\n",
       "     6          111\n",
       "3    6          107\n",
       "     7          109\n",
       "     8           75\n",
       "     9          103\n",
       "     10          98\n",
       "     11         108"
      ]
     },
     "execution_count": 225,
     "metadata": {},
     "output_type": "execute_result"
    }
   ],
   "source": [
    "bar_df[['values']].groupby([bar_df['type'], bar_df['values']]).count()"
   ]
  },
  {
   "cell_type": "code",
   "execution_count": 226,
   "metadata": {
    "collapsed": false
   },
   "outputs": [
    {
     "data": {
      "text/html": [
       "<div style=\"max-height:1000px;max-width:1500px;overflow:auto;\">\n",
       "<table border=\"1\" class=\"dataframe\">\n",
       "  <thead>\n",
       "    <tr>\n",
       "      <th></th>\n",
       "      <th colspan=\"11\" halign=\"left\">values</th>\n",
       "    </tr>\n",
       "    <tr>\n",
       "      <th>values</th>\n",
       "      <th>1 </th>\n",
       "      <th>2 </th>\n",
       "      <th>3 </th>\n",
       "      <th>4 </th>\n",
       "      <th>5 </th>\n",
       "      <th>6 </th>\n",
       "      <th>7 </th>\n",
       "      <th>8 </th>\n",
       "      <th>9 </th>\n",
       "      <th>10</th>\n",
       "      <th>11</th>\n",
       "    </tr>\n",
       "    <tr>\n",
       "      <th>type</th>\n",
       "      <th></th>\n",
       "      <th></th>\n",
       "      <th></th>\n",
       "      <th></th>\n",
       "      <th></th>\n",
       "      <th></th>\n",
       "      <th></th>\n",
       "      <th></th>\n",
       "      <th></th>\n",
       "      <th></th>\n",
       "      <th></th>\n",
       "    </tr>\n",
       "  </thead>\n",
       "  <tbody>\n",
       "    <tr>\n",
       "      <th>1</th>\n",
       "      <td> 116</td>\n",
       "      <td> 107</td>\n",
       "      <td>  96</td>\n",
       "      <td> 123</td>\n",
       "      <td> 117</td>\n",
       "      <td>  99</td>\n",
       "      <td> 115</td>\n",
       "      <td> 113</td>\n",
       "      <td> 114</td>\n",
       "      <td>NaN</td>\n",
       "      <td> NaN</td>\n",
       "    </tr>\n",
       "    <tr>\n",
       "      <th>2</th>\n",
       "      <td> NaN</td>\n",
       "      <td> NaN</td>\n",
       "      <td> 107</td>\n",
       "      <td>  81</td>\n",
       "      <td> 101</td>\n",
       "      <td> 111</td>\n",
       "      <td> NaN</td>\n",
       "      <td> NaN</td>\n",
       "      <td> NaN</td>\n",
       "      <td>NaN</td>\n",
       "      <td> NaN</td>\n",
       "    </tr>\n",
       "    <tr>\n",
       "      <th>3</th>\n",
       "      <td> NaN</td>\n",
       "      <td> NaN</td>\n",
       "      <td> NaN</td>\n",
       "      <td> NaN</td>\n",
       "      <td> NaN</td>\n",
       "      <td> 107</td>\n",
       "      <td> 109</td>\n",
       "      <td>  75</td>\n",
       "      <td> 103</td>\n",
       "      <td> 98</td>\n",
       "      <td> 108</td>\n",
       "    </tr>\n",
       "  </tbody>\n",
       "</table>\n",
       "</div>"
      ],
      "text/plain": [
       "        values                                                 \n",
       "values      1    2    3    4    5    6    7    8    9   10   11\n",
       "type                                                           \n",
       "1          116  107   96  123  117   99  115  113  114 NaN  NaN\n",
       "2          NaN  NaN  107   81  101  111  NaN  NaN  NaN NaN  NaN\n",
       "3          NaN  NaN  NaN  NaN  NaN  107  109   75  103  98  108"
      ]
     },
     "execution_count": 226,
     "metadata": {},
     "output_type": "execute_result"
    }
   ],
   "source": [
    "counts_by_type = bar_df[['values']].groupby([bar_df['type'], bar_df['values']]).count().unstack()\n",
    "counts_by_type"
   ]
  },
  {
   "cell_type": "code",
   "execution_count": 227,
   "metadata": {
    "collapsed": false
   },
   "outputs": [
    {
     "data": {
      "text/plain": [
       "<matplotlib.text.Text at 0x11957eb0>"
      ]
     },
     "execution_count": 227,
     "metadata": {},
     "output_type": "execute_result"
    },
    {
     "data": {
      "image/png": "[encoded data removed]",
      "text/plain": [
       "<matplotlib.figure.Figure at 0x1177ce70>"
      ]
     },
     "metadata": {},
     "output_type": "display_data"
    }
   ],
   "source": [
    "ax = counts_by_type.T.plot(kind='barh', stacked=True)\n",
    "ax.set_title('Sample Counts of 1000 Random Integers from 1 to 9')\n",
    "ax.set_ylabel('Observation')\n",
    "ax.set_xlabel('Frequency')"
   ]
  },
  {
   "cell_type": "code",
   "execution_count": 228,
   "metadata": {
    "collapsed": false
   },
   "outputs": [
    {
     "data": {
      "text/plain": [
       "MultiIndex\n",
       "[(u'values', 1), (u'values', 2), (u'values', 3), (u'values', 4), (u'values', 5), (u'values', 6), (u'values', 7), (u'values', 8), (u'values', 9), (u'values', 10), (u'values', 11)]"
      ]
     },
     "execution_count": 228,
     "metadata": {},
     "output_type": "execute_result"
    }
   ],
   "source": [
    "counts_by_type.columns"
   ]
  },
  {
   "cell_type": "code",
   "execution_count": 229,
   "metadata": {
    "collapsed": false
   },
   "outputs": [
    {
     "data": {
      "text/html": [
       "<div style=\"max-height:1000px;max-width:1500px;overflow:auto;\">\n",
       "<table border=\"1\" class=\"dataframe\">\n",
       "  <thead>\n",
       "    <tr style=\"text-align: right;\">\n",
       "      <th></th>\n",
       "      <th>1</th>\n",
       "      <th>2</th>\n",
       "      <th>3</th>\n",
       "      <th>4</th>\n",
       "      <th>5</th>\n",
       "      <th>6</th>\n",
       "      <th>7</th>\n",
       "      <th>8</th>\n",
       "      <th>9</th>\n",
       "      <th>10</th>\n",
       "      <th>11</th>\n",
       "    </tr>\n",
       "    <tr>\n",
       "      <th>type</th>\n",
       "      <th></th>\n",
       "      <th></th>\n",
       "      <th></th>\n",
       "      <th></th>\n",
       "      <th></th>\n",
       "      <th></th>\n",
       "      <th></th>\n",
       "      <th></th>\n",
       "      <th></th>\n",
       "      <th></th>\n",
       "      <th></th>\n",
       "    </tr>\n",
       "  </thead>\n",
       "  <tbody>\n",
       "    <tr>\n",
       "      <th>1</th>\n",
       "      <td> 116</td>\n",
       "      <td> 107</td>\n",
       "      <td>  96</td>\n",
       "      <td> 123</td>\n",
       "      <td> 117</td>\n",
       "      <td>  99</td>\n",
       "      <td> 115</td>\n",
       "      <td> 113</td>\n",
       "      <td> 114</td>\n",
       "      <td>NaN</td>\n",
       "      <td> NaN</td>\n",
       "    </tr>\n",
       "    <tr>\n",
       "      <th>2</th>\n",
       "      <td> NaN</td>\n",
       "      <td> NaN</td>\n",
       "      <td> 107</td>\n",
       "      <td>  81</td>\n",
       "      <td> 101</td>\n",
       "      <td> 111</td>\n",
       "      <td> NaN</td>\n",
       "      <td> NaN</td>\n",
       "      <td> NaN</td>\n",
       "      <td>NaN</td>\n",
       "      <td> NaN</td>\n",
       "    </tr>\n",
       "    <tr>\n",
       "      <th>3</th>\n",
       "      <td> NaN</td>\n",
       "      <td> NaN</td>\n",
       "      <td> NaN</td>\n",
       "      <td> NaN</td>\n",
       "      <td> NaN</td>\n",
       "      <td> 107</td>\n",
       "      <td> 109</td>\n",
       "      <td>  75</td>\n",
       "      <td> 103</td>\n",
       "      <td> 98</td>\n",
       "      <td> 108</td>\n",
       "    </tr>\n",
       "  </tbody>\n",
       "</table>\n",
       "</div>"
      ],
      "text/plain": [
       "       1    2    3    4    5    6    7    8    9   10   11\n",
       "type                                                      \n",
       "1     116  107   96  123  117   99  115  113  114 NaN  NaN\n",
       "2     NaN  NaN  107   81  101  111  NaN  NaN  NaN NaN  NaN\n",
       "3     NaN  NaN  NaN  NaN  NaN  107  109   75  103  98  108"
      ]
     },
     "execution_count": 229,
     "metadata": {},
     "output_type": "execute_result"
    }
   ],
   "source": [
    "counts_by_type.columns = [b for a,b in counts_by_type.columns]\n",
    "counts_by_type"
   ]
  },
  {
   "cell_type": "code",
   "execution_count": 230,
   "metadata": {
    "collapsed": false
   },
   "outputs": [
    {
     "data": {
      "text/plain": [
       "<matplotlib.text.Text at 0x11f451b0>"
      ]
     },
     "execution_count": 230,
     "metadata": {},
     "output_type": "execute_result"
    },
    {
     "data": {
      "image/png": "[encoded data removed]",
      "text/plain": [
       "<matplotlib.figure.Figure at 0x11947fd0>"
      ]
     },
     "metadata": {},
     "output_type": "display_data"
    }
   ],
   "source": [
    "ax = counts_by_type.T.plot(kind='barh', stacked=True)\n",
    "ax.set_title('Sample Counts of 1000 Random Integers from 1 to 9')\n",
    "ax.set_ylabel('Observation')\n",
    "ax.set_xlabel('Frequency')"
   ]
  },
  {
   "cell_type": "markdown",
   "metadata": {},
   "source": [
    "# Additional Data Manipulation"
   ]
  },
  {
   "cell_type": "markdown",
   "metadata": {},
   "source": [
    "### Binning"
   ]
  },
  {
   "cell_type": "code",
   "execution_count": 231,
   "metadata": {
    "collapsed": false
   },
   "outputs": [
    {
     "data": {
      "text/html": [
       "<div style=\"max-height:1000px;max-width:1500px;overflow:auto;\">\n",
       "<table border=\"1\" class=\"dataframe\">\n",
       "  <thead>\n",
       "    <tr style=\"text-align: right;\">\n",
       "      <th></th>\n",
       "      <th>log differences</th>\n",
       "    </tr>\n",
       "  </thead>\n",
       "  <tbody>\n",
       "    <tr>\n",
       "      <th>count</th>\n",
       "      <td> 100.000000</td>\n",
       "    </tr>\n",
       "    <tr>\n",
       "      <th>mean</th>\n",
       "      <td>  -0.165958</td>\n",
       "    </tr>\n",
       "    <tr>\n",
       "      <th>std</th>\n",
       "      <td>   0.879529</td>\n",
       "    </tr>\n",
       "    <tr>\n",
       "      <th>min</th>\n",
       "      <td>  -1.935109</td>\n",
       "    </tr>\n",
       "    <tr>\n",
       "      <th>25%</th>\n",
       "      <td>  -0.705058</td>\n",
       "    </tr>\n",
       "    <tr>\n",
       "      <th>50%</th>\n",
       "      <td>  -0.280501</td>\n",
       "    </tr>\n",
       "    <tr>\n",
       "      <th>75%</th>\n",
       "      <td>   0.413888</td>\n",
       "    </tr>\n",
       "    <tr>\n",
       "      <th>max</th>\n",
       "      <td>   1.991845</td>\n",
       "    </tr>\n",
       "  </tbody>\n",
       "</table>\n",
       "</div>"
      ],
      "text/plain": [
       "       log differences\n",
       "count       100.000000\n",
       "mean         -0.165958\n",
       "std           0.879529\n",
       "min          -1.935109\n",
       "25%          -0.705058\n",
       "50%          -0.280501\n",
       "75%           0.413888\n",
       "max           1.991845"
      ]
     },
     "execution_count": 231,
     "metadata": {},
     "output_type": "execute_result"
    }
   ],
   "source": [
    "dfDifferences = pd.DataFrame({ 'log differences' : np.random.randn(100) })\n",
    "dfDifferences.describe()"
   ]
  },
  {
   "cell_type": "code",
   "execution_count": 232,
   "metadata": {
    "collapsed": false
   },
   "outputs": [
    {
     "data": {
      "text/plain": [
       "Categorical: log differences\n",
       "[(-1, 0], nan, (-1, 0], (0, 1], (-1, 0], (0, 1], (-1, 0], (-1, 0], (-1, 0], (-1, 0], (0, 1], (-1, 0], nan, (0, 1], nan, (0, 1], (0, 1], (-1, 0], (1, 2], (0, 1], (0, 1], (1, 2], (0, 1], (-1, 0], (-1, 0], (0, 1], (0, 1], nan, nan, nan, (0, 1], (1, 2], (-1, 0], (1, 2], (-1, 0], (-1, 0], (-1, 0], (-1, 0], (1, 2], (-1, 0], (0, 1], (0, 1], (-1, 0], (-1, 0], nan, (0, 1], (-1, 0], nan, (0, 1], (-1, 0], (0, 1], (-1, 0], (-1, 0], (-1, 0], (1, 2], (-1, 0], (-1, 0], (-1, 0], (-1, 0], (-1, 0], (0, 1], (1, 2], (0, 1], (-1, 0], (-1, 0], (-1, 0], (-1, 0], (-1, 0], (-1, 0], (-1, 0], nan, nan, (0, 1], (-1, 0], (-1, 0], nan, (0, 1], (-1, 0], nan, nan, (-1, 0], nan, (-1, 0], (0, 1], (-1, 0], (0, 1], (-1, 0], (0, 1], nan, (0, 1], (-1, 0], (0, 1], (-1, 0], nan, (-1, 0], (0, 1], nan, (1, 2], (0, 1], (-1, 0]]\n",
       "Levels (5): Index(['(-1, 0]', '(0, 1]', '(1, 2]', '(2, 3]', '(3, 4]'], dtype=object)"
      ]
     },
     "execution_count": 232,
     "metadata": {},
     "output_type": "execute_result"
    }
   ],
   "source": [
    "categoriesDiffs = pd.cut(dfDifferences['log differences'], range(-1,5)) # The second parameter is a list of bin boundaries.\n",
    "categoriesDiffs"
   ]
  },
  {
   "cell_type": "code",
   "execution_count": 233,
   "metadata": {
    "collapsed": false
   },
   "outputs": [
    {
     "data": {
      "text/plain": [
       "array([ 0, -1,  0,  1,  0,  1,  0,  0,  0,  0,  1,  0, -1,  1, -1,  1,  1,\n",
       "        0,  2,  1,  1,  2,  1,  0,  0,  1,  1, -1, -1, -1,  1,  2,  0,  2,\n",
       "        0,  0,  0,  0,  2,  0,  1,  1,  0,  0, -1,  1,  0, -1,  1,  0,  1,\n",
       "        0,  0,  0,  2,  0,  0,  0,  0,  0,  1,  2,  1,  0,  0,  0,  0,  0,\n",
       "        0,  0, -1, -1,  1,  0,  0, -1,  1,  0, -1, -1,  0, -1,  0,  1,  0,\n",
       "        1,  0,  1, -1,  1,  0,  1,  0, -1,  0,  1, -1,  2,  1,  0])"
      ]
     },
     "execution_count": 233,
     "metadata": {},
     "output_type": "execute_result"
    }
   ],
   "source": [
    "categoriesDiffs.labels"
   ]
  },
  {
   "cell_type": "markdown",
   "metadata": {},
   "source": [
    "But sometimes you prefer to not specify bins and let the data speak for itself. The NaNs inidicate bin-less values."
   ]
  },
  {
   "cell_type": "code",
   "execution_count": 234,
   "metadata": {
    "collapsed": false
   },
   "outputs": [
    {
     "data": {
      "text/plain": [
       "Categorical: log differences\n",
       "[-, --, -, +, -, +, -, -, -, -, +, -, --, +, --, +, +, -, ++, +, +, ++, +, -, -, +, +, --, --, --, +, ++, -, ++, -, -, -, -, ++, -, +, +, -, -, --, +, -, --, +, -, +, -, -, -, ++, -, -, -, -, -, +, ++, +, -, -, -, -, -, -, -, --, --, +, -, -, --, +, -, --, --, -, --, -, +, -, +, -, -, --, +, -, +, -, --, -, +, --, ++, +, -]\n",
       "Levels (4): Index(['--', '-', '+', '++'], dtype=object)"
      ]
     },
     "execution_count": 234,
     "metadata": {},
     "output_type": "execute_result"
    }
   ],
   "source": [
    "# This creates (4) equal length bins based on the data, labels are... category labels\n",
    "categoriesDiffs = pd.cut(dfDifferences['log differences'], 4, labels = ['--', '-', '+', '++'])\n",
    "categoriesDiffs"
   ]
  },
  {
   "cell_type": "code",
   "execution_count": 235,
   "metadata": {
    "collapsed": false
   },
   "outputs": [
    {
     "data": {
      "text/html": [
       "<div style=\"max-height:1000px;max-width:1500px;overflow:auto;\">\n",
       "<table border=\"1\" class=\"dataframe\">\n",
       "  <thead>\n",
       "    <tr style=\"text-align: right;\">\n",
       "      <th></th>\n",
       "      <th>log differences</th>\n",
       "      <th>bin</th>\n",
       "    </tr>\n",
       "  </thead>\n",
       "  <tbody>\n",
       "    <tr>\n",
       "      <th>0</th>\n",
       "      <td>-0.481662</td>\n",
       "      <td> 1</td>\n",
       "    </tr>\n",
       "    <tr>\n",
       "      <th>1</th>\n",
       "      <td>-1.588404</td>\n",
       "      <td> 0</td>\n",
       "    </tr>\n",
       "    <tr>\n",
       "      <th>2</th>\n",
       "      <td>-0.223808</td>\n",
       "      <td> 1</td>\n",
       "    </tr>\n",
       "    <tr>\n",
       "      <th>3</th>\n",
       "      <td> 0.226621</td>\n",
       "      <td> 2</td>\n",
       "    </tr>\n",
       "    <tr>\n",
       "      <th>4</th>\n",
       "      <td>-0.424106</td>\n",
       "      <td> 1</td>\n",
       "    </tr>\n",
       "  </tbody>\n",
       "</table>\n",
       "</div>"
      ],
      "text/plain": [
       "   log differences  bin\n",
       "0        -0.481662    1\n",
       "1        -1.588404    0\n",
       "2        -0.223808    1\n",
       "3         0.226621    2\n",
       "4        -0.424106    1"
      ]
     },
     "execution_count": 235,
     "metadata": {},
     "output_type": "execute_result"
    }
   ],
   "source": [
    "dfDifferences['bin'] = categoriesDiffs.labels\n",
    "dfDifferences.head()"
   ]
  },
  {
   "cell_type": "code",
   "execution_count": 236,
   "metadata": {
    "collapsed": false
   },
   "outputs": [
    {
     "data": {
      "text/html": [
       "<div style=\"max-height:1000px;max-width:1500px;overflow:auto;\">\n",
       "<table border=\"1\" class=\"dataframe\">\n",
       "  <thead>\n",
       "    <tr style=\"text-align: right;\">\n",
       "      <th></th>\n",
       "      <th>bin</th>\n",
       "    </tr>\n",
       "    <tr>\n",
       "      <th>bin</th>\n",
       "      <th></th>\n",
       "    </tr>\n",
       "  </thead>\n",
       "  <tbody>\n",
       "    <tr>\n",
       "      <th>0</th>\n",
       "      <td> 17</td>\n",
       "    </tr>\n",
       "    <tr>\n",
       "      <th>1</th>\n",
       "      <td> 48</td>\n",
       "    </tr>\n",
       "    <tr>\n",
       "      <th>2</th>\n",
       "      <td> 27</td>\n",
       "    </tr>\n",
       "    <tr>\n",
       "      <th>3</th>\n",
       "      <td>  8</td>\n",
       "    </tr>\n",
       "  </tbody>\n",
       "</table>\n",
       "</div>"
      ],
      "text/plain": [
       "     bin\n",
       "bin     \n",
       "0     17\n",
       "1     48\n",
       "2     27\n",
       "3      8"
      ]
     },
     "execution_count": 236,
     "metadata": {},
     "output_type": "execute_result"
    }
   ],
   "source": [
    "dfDifferences[['bin']].groupby('bin').count() # Just had to do this... Couldn't resist"
   ]
  },
  {
   "cell_type": "code",
   "execution_count": 237,
   "metadata": {
    "collapsed": false
   },
   "outputs": [
    {
     "data": {
      "text/plain": [
       "Categorical: log differences\n",
       "[-, --, +, +, -, ++, +, -, +, -, +, -, --, +, --, +, +, -, ++, ++, ++, ++, ++, -, +, ++, ++, --, --, --, ++, ++, --, ++, --, -, -, -, ++, --, ++, ++, +, -, --, ++, +, --, +, --, ++, -, --, +, ++, -, --, -, -, -, ++, ++, +, +, +, -, -, -, --, +, --, --, ++, -, +, --, ++, -, --, --, -, --, +, +, -, ++, +, +, --, ++, --, ++, -, --, -, +, --, ++, +, +]\n",
       "Levels (4): Index(['--', '-', '+', '++'], dtype=object)"
      ]
     },
     "execution_count": 237,
     "metadata": {},
     "output_type": "execute_result"
    }
   ],
   "source": [
    "# Here's a qualtile-based way of cutting\n",
    "categoriesDiffs = pd.qcut(dfDifferences['log differences'], [0,0.25,0.5,0.75,1], labels = ['--', '-', '+', '++'])\n",
    "categoriesDiffs"
   ]
  },
  {
   "cell_type": "code",
   "execution_count": 238,
   "metadata": {
    "collapsed": false
   },
   "outputs": [
    {
     "data": {
      "text/html": [
       "<div style=\"max-height:1000px;max-width:1500px;overflow:auto;\">\n",
       "<table border=\"1\" class=\"dataframe\">\n",
       "  <thead>\n",
       "    <tr style=\"text-align: right;\">\n",
       "      <th></th>\n",
       "      <th>bin</th>\n",
       "    </tr>\n",
       "    <tr>\n",
       "      <th>bin</th>\n",
       "      <th></th>\n",
       "    </tr>\n",
       "  </thead>\n",
       "  <tbody>\n",
       "    <tr>\n",
       "      <th>0</th>\n",
       "      <td> 25</td>\n",
       "    </tr>\n",
       "    <tr>\n",
       "      <th>1</th>\n",
       "      <td> 25</td>\n",
       "    </tr>\n",
       "    <tr>\n",
       "      <th>2</th>\n",
       "      <td> 25</td>\n",
       "    </tr>\n",
       "    <tr>\n",
       "      <th>3</th>\n",
       "      <td> 25</td>\n",
       "    </tr>\n",
       "  </tbody>\n",
       "</table>\n",
       "</div>"
      ],
      "text/plain": [
       "     bin\n",
       "bin     \n",
       "0     25\n",
       "1     25\n",
       "2     25\n",
       "3     25"
      ]
     },
     "execution_count": 238,
     "metadata": {},
     "output_type": "execute_result"
    }
   ],
   "source": [
    "dfDifferences['bin'] = categoriesDiffs.labels\n",
    "dfDifferences[['bin']].groupby('bin').count() # By definition..."
   ]
  },
  {
   "cell_type": "markdown",
   "metadata": {},
   "source": [
    "### Dummification (Categorical Variable to Dummy Columns)"
   ]
  },
  {
   "cell_type": "markdown",
   "metadata": {},
   "source": [
    "We have categories, but to do stuff like regression, we prefer dummy columns."
   ]
  },
  {
   "cell_type": "code",
   "execution_count": 239,
   "metadata": {
    "collapsed": false
   },
   "outputs": [
    {
     "data": {
      "text/html": [
       "<div style=\"max-height:1000px;max-width:1500px;overflow:auto;\">\n",
       "<table border=\"1\" class=\"dataframe\">\n",
       "  <thead>\n",
       "    <tr style=\"text-align: right;\">\n",
       "      <th></th>\n",
       "      <th>0</th>\n",
       "      <th>1</th>\n",
       "      <th>2</th>\n",
       "      <th>3</th>\n",
       "    </tr>\n",
       "  </thead>\n",
       "  <tbody>\n",
       "    <tr>\n",
       "      <th>0</th>\n",
       "      <td> 0</td>\n",
       "      <td> 1</td>\n",
       "      <td> 0</td>\n",
       "      <td> 0</td>\n",
       "    </tr>\n",
       "    <tr>\n",
       "      <th>1</th>\n",
       "      <td> 1</td>\n",
       "      <td> 0</td>\n",
       "      <td> 0</td>\n",
       "      <td> 0</td>\n",
       "    </tr>\n",
       "    <tr>\n",
       "      <th>2</th>\n",
       "      <td> 0</td>\n",
       "      <td> 0</td>\n",
       "      <td> 1</td>\n",
       "      <td> 0</td>\n",
       "    </tr>\n",
       "    <tr>\n",
       "      <th>3</th>\n",
       "      <td> 0</td>\n",
       "      <td> 0</td>\n",
       "      <td> 1</td>\n",
       "      <td> 0</td>\n",
       "    </tr>\n",
       "    <tr>\n",
       "      <th>4</th>\n",
       "      <td> 0</td>\n",
       "      <td> 1</td>\n",
       "      <td> 0</td>\n",
       "      <td> 0</td>\n",
       "    </tr>\n",
       "  </tbody>\n",
       "</table>\n",
       "</div>"
      ],
      "text/plain": [
       "   0  1  2  3\n",
       "0  0  1  0  0\n",
       "1  1  0  0  0\n",
       "2  0  0  1  0\n",
       "3  0  0  1  0\n",
       "4  0  1  0  0"
      ]
     },
     "execution_count": 239,
     "metadata": {},
     "output_type": "execute_result"
    }
   ],
   "source": [
    "dummy_cols = pd.get_dummies(dfDifferences['bin'])\n",
    "dummy_cols.head()"
   ]
  },
  {
   "cell_type": "code",
   "execution_count": 240,
   "metadata": {
    "collapsed": false
   },
   "outputs": [
    {
     "data": {
      "text/html": [
       "<div style=\"max-height:1000px;max-width:1500px;overflow:auto;\">\n",
       "<table border=\"1\" class=\"dataframe\">\n",
       "  <thead>\n",
       "    <tr style=\"text-align: right;\">\n",
       "      <th></th>\n",
       "      <th>log differences</th>\n",
       "      <th>bin</th>\n",
       "      <th>0</th>\n",
       "      <th>1</th>\n",
       "      <th>2</th>\n",
       "      <th>3</th>\n",
       "    </tr>\n",
       "  </thead>\n",
       "  <tbody>\n",
       "    <tr>\n",
       "      <th>0</th>\n",
       "      <td>-0.481662</td>\n",
       "      <td> 1</td>\n",
       "      <td> 0</td>\n",
       "      <td> 1</td>\n",
       "      <td> 0</td>\n",
       "      <td> 0</td>\n",
       "    </tr>\n",
       "    <tr>\n",
       "      <th>1</th>\n",
       "      <td>-1.588404</td>\n",
       "      <td> 0</td>\n",
       "      <td> 1</td>\n",
       "      <td> 0</td>\n",
       "      <td> 0</td>\n",
       "      <td> 0</td>\n",
       "    </tr>\n",
       "    <tr>\n",
       "      <th>2</th>\n",
       "      <td>-0.223808</td>\n",
       "      <td> 2</td>\n",
       "      <td> 0</td>\n",
       "      <td> 0</td>\n",
       "      <td> 1</td>\n",
       "      <td> 0</td>\n",
       "    </tr>\n",
       "    <tr>\n",
       "      <th>3</th>\n",
       "      <td> 0.226621</td>\n",
       "      <td> 2</td>\n",
       "      <td> 0</td>\n",
       "      <td> 0</td>\n",
       "      <td> 1</td>\n",
       "      <td> 0</td>\n",
       "    </tr>\n",
       "    <tr>\n",
       "      <th>4</th>\n",
       "      <td>-0.424106</td>\n",
       "      <td> 1</td>\n",
       "      <td> 0</td>\n",
       "      <td> 1</td>\n",
       "      <td> 0</td>\n",
       "      <td> 0</td>\n",
       "    </tr>\n",
       "  </tbody>\n",
       "</table>\n",
       "</div>"
      ],
      "text/plain": [
       "   log differences  bin  0  1  2  3\n",
       "0        -0.481662    1  0  1  0  0\n",
       "1        -1.588404    0  1  0  0  0\n",
       "2        -0.223808    2  0  0  1  0\n",
       "3         0.226621    2  0  0  1  0\n",
       "4        -0.424106    1  0  1  0  0"
      ]
     },
     "execution_count": 240,
     "metadata": {},
     "output_type": "execute_result"
    }
   ],
   "source": [
    "dfDifferencesProcessed = dfDifferences.join(dummy_cols)\n",
    "dfDifferencesProcessed.head()"
   ]
  },
  {
   "cell_type": "markdown",
   "metadata": {},
   "source": [
    "### Resampling (Without Replacement; e.g.: Training Set - Validation Set)"
   ]
  },
  {
   "cell_type": "code",
   "execution_count": 241,
   "metadata": {
    "collapsed": false
   },
   "outputs": [
    {
     "data": {
      "text/html": [
       "<div style=\"max-height:1000px;max-width:1500px;overflow:auto;\">\n",
       "<table border=\"1\" class=\"dataframe\">\n",
       "  <thead>\n",
       "    <tr style=\"text-align: right;\">\n",
       "      <th></th>\n",
       "      <th>X</th>\n",
       "    </tr>\n",
       "  </thead>\n",
       "  <tbody>\n",
       "    <tr>\n",
       "      <th>0</th>\n",
       "      <td> 0.504308</td>\n",
       "    </tr>\n",
       "    <tr>\n",
       "      <th>1</th>\n",
       "      <td>-0.078645</td>\n",
       "    </tr>\n",
       "    <tr>\n",
       "      <th>2</th>\n",
       "      <td> 0.323660</td>\n",
       "    </tr>\n",
       "    <tr>\n",
       "      <th>3</th>\n",
       "      <td>-0.162164</td>\n",
       "    </tr>\n",
       "    <tr>\n",
       "      <th>4</th>\n",
       "      <td> 0.060904</td>\n",
       "    </tr>\n",
       "  </tbody>\n",
       "</table>\n",
       "</div>"
      ],
      "text/plain": [
       "          X\n",
       "0  0.504308\n",
       "1 -0.078645\n",
       "2  0.323660\n",
       "3 -0.162164\n",
       "4  0.060904"
      ]
     },
     "execution_count": 241,
     "metadata": {},
     "output_type": "execute_result"
    }
   ],
   "source": [
    "dfData = pd.DataFrame({'X' : np.random.randn(1000) * np.random.exponential(1, 1000)})\n",
    "dfData.head()"
   ]
  },
  {
   "cell_type": "code",
   "execution_count": 242,
   "metadata": {
    "collapsed": false
   },
   "outputs": [
    {
     "data": {
      "text/html": [
       "<div style=\"max-height:1000px;max-width:1500px;overflow:auto;\">\n",
       "<table border=\"1\" class=\"dataframe\">\n",
       "  <thead>\n",
       "    <tr style=\"text-align: right;\">\n",
       "      <th></th>\n",
       "      <th>X</th>\n",
       "    </tr>\n",
       "  </thead>\n",
       "  <tbody>\n",
       "    <tr>\n",
       "      <th>312</th>\n",
       "      <td>-0.115008</td>\n",
       "    </tr>\n",
       "    <tr>\n",
       "      <th>335</th>\n",
       "      <td> 0.070387</td>\n",
       "    </tr>\n",
       "    <tr>\n",
       "      <th>622</th>\n",
       "      <td>-0.009156</td>\n",
       "    </tr>\n",
       "    <tr>\n",
       "      <th>129</th>\n",
       "      <td>-0.072704</td>\n",
       "    </tr>\n",
       "    <tr>\n",
       "      <th>964</th>\n",
       "      <td> 0.081080</td>\n",
       "    </tr>\n",
       "    <tr>\n",
       "      <th>825</th>\n",
       "      <td>-0.221029</td>\n",
       "    </tr>\n",
       "    <tr>\n",
       "      <th>718</th>\n",
       "      <td>-0.168094</td>\n",
       "    </tr>\n",
       "    <tr>\n",
       "      <th>518</th>\n",
       "      <td> 0.288700</td>\n",
       "    </tr>\n",
       "    <tr>\n",
       "      <th>266</th>\n",
       "      <td> 0.372786</td>\n",
       "    </tr>\n",
       "    <tr>\n",
       "      <th>51 </th>\n",
       "      <td>-0.022850</td>\n",
       "    </tr>\n",
       "  </tbody>\n",
       "</table>\n",
       "</div>"
      ],
      "text/plain": [
       "            X\n",
       "312 -0.115008\n",
       "335  0.070387\n",
       "622 -0.009156\n",
       "129 -0.072704\n",
       "964  0.081080\n",
       "825 -0.221029\n",
       "718 -0.168094\n",
       "518  0.288700\n",
       "266  0.372786\n",
       "51  -0.022850"
      ]
     },
     "execution_count": 242,
     "metadata": {},
     "output_type": "execute_result"
    }
   ],
   "source": [
    "permutation = np.random.permutation(len(dfData))\n",
    "dfData.take(permutation[:10])"
   ]
  },
  {
   "cell_type": "markdown",
   "metadata": {},
   "source": [
    "### Resampling (With Replacement; e.g.: Simulation)"
   ]
  },
  {
   "cell_type": "code",
   "execution_count": 243,
   "metadata": {
    "collapsed": false
   },
   "outputs": [
    {
     "data": {
      "text/html": [
       "<div style=\"max-height:1000px;max-width:1500px;overflow:auto;\">\n",
       "<table border=\"1\" class=\"dataframe\">\n",
       "  <thead>\n",
       "    <tr style=\"text-align: right;\">\n",
       "      <th></th>\n",
       "      <th>X</th>\n",
       "    </tr>\n",
       "  </thead>\n",
       "  <tbody>\n",
       "    <tr>\n",
       "      <th>429</th>\n",
       "      <td>-1.021700</td>\n",
       "    </tr>\n",
       "    <tr>\n",
       "      <th>256</th>\n",
       "      <td> 1.286756</td>\n",
       "    </tr>\n",
       "    <tr>\n",
       "      <th>894</th>\n",
       "      <td> 0.679044</td>\n",
       "    </tr>\n",
       "    <tr>\n",
       "      <th>866</th>\n",
       "      <td> 0.040743</td>\n",
       "    </tr>\n",
       "    <tr>\n",
       "      <th>807</th>\n",
       "      <td>-0.256280</td>\n",
       "    </tr>\n",
       "    <tr>\n",
       "      <th>833</th>\n",
       "      <td> 0.209927</td>\n",
       "    </tr>\n",
       "    <tr>\n",
       "      <th>551</th>\n",
       "      <td> 0.086602</td>\n",
       "    </tr>\n",
       "    <tr>\n",
       "      <th>322</th>\n",
       "      <td> 0.603618</td>\n",
       "    </tr>\n",
       "    <tr>\n",
       "      <th>450</th>\n",
       "      <td>-0.614206</td>\n",
       "    </tr>\n",
       "    <tr>\n",
       "      <th>67 </th>\n",
       "      <td> 2.876681</td>\n",
       "    </tr>\n",
       "  </tbody>\n",
       "</table>\n",
       "</div>"
      ],
      "text/plain": [
       "            X\n",
       "429 -1.021700\n",
       "256  1.286756\n",
       "894  0.679044\n",
       "866  0.040743\n",
       "807 -0.256280\n",
       "833  0.209927\n",
       "551  0.086602\n",
       "322  0.603618\n",
       "450 -0.614206\n",
       "67   2.876681"
      ]
     },
     "execution_count": 243,
     "metadata": {},
     "output_type": "execute_result"
    }
   ],
   "source": [
    "samples = np.random.randint(0,len(dfData), 10)\n",
    "dfData.take(samples)"
   ]
  },
  {
   "cell_type": "markdown",
   "metadata": {},
   "source": [
    "# Panel Data (Tables Evolving Over Time)"
   ]
  },
  {
   "cell_type": "code",
   "execution_count": 244,
   "metadata": {
    "collapsed": false
   },
   "outputs": [
    {
     "data": {
      "text/plain": [
       "<class 'pandas.core.panel.Panel'>\n",
       "Dimensions: 3 (items) x 3552 (major_axis) x 6 (minor_axis)\n",
       "Items axis: AAPL to SPLS\n",
       "Major_axis axis: 2000-01-03 00:00:00 to 2014-02-14 00:00:00\n",
       "Minor_axis axis: Open to Adj Close"
      ]
     },
     "execution_count": 244,
     "metadata": {},
     "output_type": "execute_result"
    }
   ],
   "source": [
    "some_stock_data = {}\n",
    "for ticker in ['AAPL', 'FB', 'SPLS']: # Stuff I can see now: Why do I have \"assorted rubber bands (gomitas surtidos)\" from SPLS??\n",
    "    some_stock_data[ticker] = pd.read_csv('S&P500\\\\S&P500_Data_%s.csv' % ticker, index_col=0, parse_dates=True)\n",
    "stock_panel = pd.Panel(some_stock_data)\n",
    "stock_panel"
   ]
  },
  {
   "cell_type": "markdown",
   "metadata": {},
   "source": [
    "Indexing Panels:\n",
    "\n",
    "- Items (Named by dictionary keys)\n",
    "- DataFrame (in dictionary values) index\n",
    "- DataFrame (in dictionary values) columns"
   ]
  },
  {
   "cell_type": "code",
   "execution_count": 245,
   "metadata": {
    "collapsed": false
   },
   "outputs": [
    {
     "data": {
      "text/plain": [
       "<matplotlib.text.Text at 0xa35ee50>"
      ]
     },
     "execution_count": 245,
     "metadata": {},
     "output_type": "execute_result"
    },
    {
     "data": {
      "image/png": "[encoded data removed]",
      "text/plain": [
       "<matplotlib.figure.Figure at 0x136b75d0>"
      ]
     },
     "metadata": {},
     "output_type": "display_data"
    }
   ],
   "source": [
    "ax = stock_panel.ix['AAPL', datetime.date(2013,1,1):datetime.date(2013,12,31),'Volume'].plot()\n",
    "\n",
    "AAPL_earnings_releases_2013 = { datetime.date(2013, 1, 23) : 'Q1', datetime.date(2013, 4, 23) : 'Q2',\n",
    "                               datetime.date(2013, 7, 23) : 'Q3', datetime.date(2013, 10, 28) : 'Q4' }\n",
    "ax.set_ylim([0, 8e7])\n",
    "for date in AAPL_earnings_releases_2013.keys():\n",
    "    ax.annotate(AAPL_earnings_releases_2013[date], xy=(date, stock_panel.ix['AAPL',date,'Volume'] + 1e7),\n",
    "    xytext=(date, stock_panel.ix['AAPL',date,'Volume'] + 3e7),\n",
    "    arrowprops=dict(facecolor='green'),\n",
    "    horizontalalignment='left', verticalalignment='top')\n",
    "ax.set_title('AAPL Volume: Plot is ugly, but well...')"
   ]
  },
  {
   "cell_type": "code",
   "execution_count": 246,
   "metadata": {
    "collapsed": false
   },
   "outputs": [
    {
     "data": {
      "text/plain": [
       "<matplotlib.axes.AxesSubplot at 0x12243530>"
      ]
     },
     "execution_count": 246,
     "metadata": {},
     "output_type": "execute_result"
    },
    {
     "data": {
      "image/png": "[encoded data removed]",
      "text/plain": [
       "<matplotlib.figure.Figure at 0xa0a0270>"
      ]
     },
     "metadata": {},
     "output_type": "display_data"
    }
   ],
   "source": [
    "# But maybe one might like to index in this way...\n",
    "stock_panel2 = stock_panel.swapaxes('items', 'minor')\n",
    "stock_panel2.ix['Adj Close'].plot()"
   ]
  },
  {
   "cell_type": "code",
   "execution_count": 247,
   "metadata": {
    "collapsed": false
   },
   "outputs": [
    {
     "data": {
      "text/html": [
       "<div style=\"max-height:1000px;max-width:1500px;overflow:auto;\">\n",
       "<table border=\"1\" class=\"dataframe\">\n",
       "  <thead>\n",
       "    <tr style=\"text-align: right;\">\n",
       "      <th></th>\n",
       "      <th></th>\n",
       "      <th>AAPL</th>\n",
       "      <th>FB</th>\n",
       "      <th>SPLS</th>\n",
       "    </tr>\n",
       "    <tr>\n",
       "      <th>Date</th>\n",
       "      <th>minor</th>\n",
       "      <th></th>\n",
       "      <th></th>\n",
       "      <th></th>\n",
       "    </tr>\n",
       "  </thead>\n",
       "  <tbody>\n",
       "    <tr>\n",
       "      <th rowspan=\"5\" valign=\"top\">2012-05-18</th>\n",
       "      <th>Open</th>\n",
       "      <td>      533.96</td>\n",
       "      <td> 4.205000e+01</td>\n",
       "      <td>       13.29</td>\n",
       "    </tr>\n",
       "    <tr>\n",
       "      <th>High</th>\n",
       "      <td>      543.41</td>\n",
       "      <td> 4.500000e+01</td>\n",
       "      <td>       13.35</td>\n",
       "    </tr>\n",
       "    <tr>\n",
       "      <th>Low</th>\n",
       "      <td>      522.18</td>\n",
       "      <td> 3.800000e+01</td>\n",
       "      <td>       13.02</td>\n",
       "    </tr>\n",
       "    <tr>\n",
       "      <th>Close</th>\n",
       "      <td>      530.38</td>\n",
       "      <td> 3.823000e+01</td>\n",
       "      <td>       13.07</td>\n",
       "    </tr>\n",
       "    <tr>\n",
       "      <th>Volume</th>\n",
       "      <td> 26153300.00</td>\n",
       "      <td> 5.735764e+08</td>\n",
       "      <td> 12011700.00</td>\n",
       "    </tr>\n",
       "  </tbody>\n",
       "</table>\n",
       "</div>"
      ],
      "text/plain": [
       "                          AAPL            FB         SPLS\n",
       "Date       minor                                         \n",
       "2012-05-18 Open         533.96  4.205000e+01        13.29\n",
       "           High         543.41  4.500000e+01        13.35\n",
       "           Low          522.18  3.800000e+01        13.02\n",
       "           Close        530.38  3.823000e+01        13.07\n",
       "           Volume  26153300.00  5.735764e+08  12011700.00"
      ]
     },
     "execution_count": 247,
     "metadata": {},
     "output_type": "execute_result"
    }
   ],
   "source": [
    "# If one does not like panels...\n",
    "stocks_stacked = stock_panel.to_frame()\n",
    "stocks_stacked.head()"
   ]
  },
  {
   "cell_type": "code",
   "execution_count": 248,
   "metadata": {
    "collapsed": false
   },
   "outputs": [
    {
     "data": {
      "text/html": [
       "<div style=\"max-height:1000px;max-width:1500px;overflow:auto;\">\n",
       "<table border=\"1\" class=\"dataframe\">\n",
       "  <thead>\n",
       "    <tr style=\"text-align: right;\">\n",
       "      <th></th>\n",
       "      <th>fields</th>\n",
       "      <th>Open</th>\n",
       "      <th>High</th>\n",
       "      <th>Low</th>\n",
       "      <th>Close</th>\n",
       "      <th>Volume</th>\n",
       "      <th>Adj Close</th>\n",
       "    </tr>\n",
       "    <tr>\n",
       "      <th>Date</th>\n",
       "      <th>minor</th>\n",
       "      <th></th>\n",
       "      <th></th>\n",
       "      <th></th>\n",
       "      <th></th>\n",
       "      <th></th>\n",
       "      <th></th>\n",
       "    </tr>\n",
       "  </thead>\n",
       "  <tbody>\n",
       "    <tr>\n",
       "      <th rowspan=\"2\" valign=\"top\">2014-02-13</th>\n",
       "      <th>FB</th>\n",
       "      <td>  64.18</td>\n",
       "      <td>  67.33</td>\n",
       "      <td>  64.05</td>\n",
       "      <td>  67.33</td>\n",
       "      <td> 61911700</td>\n",
       "      <td>  67.33</td>\n",
       "    </tr>\n",
       "    <tr>\n",
       "      <th>SPLS</th>\n",
       "      <td>  13.18</td>\n",
       "      <td>  13.20</td>\n",
       "      <td>  13.04</td>\n",
       "      <td>  13.07</td>\n",
       "      <td>  6571800</td>\n",
       "      <td>  13.07</td>\n",
       "    </tr>\n",
       "    <tr>\n",
       "      <th rowspan=\"3\" valign=\"top\">2014-02-14</th>\n",
       "      <th>AAPL</th>\n",
       "      <td> 542.47</td>\n",
       "      <td> 545.98</td>\n",
       "      <td> 541.21</td>\n",
       "      <td> 543.99</td>\n",
       "      <td>  9747300</td>\n",
       "      <td> 543.99</td>\n",
       "    </tr>\n",
       "    <tr>\n",
       "      <th>FB</th>\n",
       "      <td>  67.50</td>\n",
       "      <td>  67.58</td>\n",
       "      <td>  66.72</td>\n",
       "      <td>  67.09</td>\n",
       "      <td> 36694900</td>\n",
       "      <td>  67.09</td>\n",
       "    </tr>\n",
       "    <tr>\n",
       "      <th>SPLS</th>\n",
       "      <td>  13.02</td>\n",
       "      <td>  13.11</td>\n",
       "      <td>  12.95</td>\n",
       "      <td>  13.03</td>\n",
       "      <td>  7350800</td>\n",
       "      <td>  13.03</td>\n",
       "    </tr>\n",
       "  </tbody>\n",
       "</table>\n",
       "</div>"
      ],
      "text/plain": [
       "fields              Open    High     Low   Close    Volume  Adj Close\n",
       "Date       minor                                                     \n",
       "2014-02-13 FB      64.18   67.33   64.05   67.33  61911700      67.33\n",
       "           SPLS    13.18   13.20   13.04   13.07   6571800      13.07\n",
       "2014-02-14 AAPL   542.47  545.98  541.21  543.99   9747300     543.99\n",
       "           FB      67.50   67.58   66.72   67.09  36694900      67.09\n",
       "           SPLS    13.02   13.11   12.95   13.03   7350800      13.03"
      ]
     },
     "execution_count": 248,
     "metadata": {},
     "output_type": "execute_result"
    }
   ],
   "source": [
    "# Or...\n",
    "stocks_stacked = stock_panel.swapaxes('items', 'minor').to_frame()\n",
    "stocks_stacked.columns.name = 'fields'\n",
    "stocks_stacked.tail() # Because FB won't be in .head()"
   ]
  },
  {
   "cell_type": "markdown",
   "metadata": {},
   "source": [
    "# Type Coercion"
   ]
  },
  {
   "cell_type": "markdown",
   "metadata": {},
   "source": [
    "So one readily remediable issue with Pandas is pulling information out of it. Sometimes data coming out of it in array form has the data type object even though the whole array is of ints and floats."
   ]
  },
  {
   "cell_type": "code",
   "execution_count": 249,
   "metadata": {
    "collapsed": false
   },
   "outputs": [
    {
     "data": {
      "text/plain": [
       "array([[0.1, 'Red', 1L, 'a'],\n",
       "       [1.85, 'Red', 11L, 1.85],\n",
       "       [0.2, 'Green', 6L, None],\n",
       "       [1.85, 'Green', 8L, 1.85],\n",
       "       [nan, 'Red', -1L, 'a']], dtype=object)"
      ]
     },
     "execution_count": 249,
     "metadata": {},
     "output_type": "execute_result"
    }
   ],
   "source": [
    "df.values"
   ]
  },
  {
   "cell_type": "code",
   "execution_count": 250,
   "metadata": {
    "collapsed": false
   },
   "outputs": [
    {
     "data": {
      "text/plain": [
       "array([0.1, 1.85, 0.2, 1.85, nan], dtype=object)"
      ]
     },
     "execution_count": 250,
     "metadata": {},
     "output_type": "execute_result"
    }
   ],
   "source": [
    "df.values[:,0] # Hmmm.... Maybe it's the nan"
   ]
  },
  {
   "cell_type": "code",
   "execution_count": 251,
   "metadata": {
    "collapsed": false
   },
   "outputs": [
    {
     "data": {
      "text/plain": [
       "array(['Red', 'Red', 'Green', 'Green', 'Red'], dtype=object)"
      ]
     },
     "execution_count": 251,
     "metadata": {},
     "output_type": "execute_result"
    }
   ],
   "source": [
    "df.values[:,1] # Hmmm.... Why are these not strings"
   ]
  },
  {
   "cell_type": "code",
   "execution_count": 252,
   "metadata": {
    "collapsed": false
   },
   "outputs": [
    {
     "data": {
      "text/plain": [
       "array([1L, 11L, 6L, 8L, -1L], dtype=object)"
      ]
     },
     "execution_count": 252,
     "metadata": {},
     "output_type": "execute_result"
    }
   ],
   "source": [
    "df.values[:,2] # Wait... This can't be right"
   ]
  },
  {
   "cell_type": "markdown",
   "metadata": {},
   "source": [
    "So what you do is..."
   ]
  },
  {
   "cell_type": "code",
   "execution_count": 253,
   "metadata": {
    "collapsed": false
   },
   "outputs": [
    {
     "data": {
      "text/plain": [
       "array([ 1, 11,  6,  8, -1])"
      ]
     },
     "execution_count": 253,
     "metadata": {},
     "output_type": "execute_result"
    }
   ],
   "source": [
    "df.values[:,2].astype(int32)"
   ]
  },
  {
   "cell_type": "code",
   "execution_count": 254,
   "metadata": {
    "collapsed": false
   },
   "outputs": [
    {
     "data": {
      "text/plain": [
       "array([  1.,  11.,   6.,   8.,  -1.])"
      ]
     },
     "execution_count": 254,
     "metadata": {},
     "output_type": "execute_result"
    }
   ],
   "source": [
    "df.values[:,2].astype(float64)"
   ]
  },
  {
   "cell_type": "code",
   "execution_count": 255,
   "metadata": {
    "collapsed": false
   },
   "outputs": [
    {
     "data": {
      "text/plain": [
       "array([[  0.1 ,   1.  ],\n",
       "       [  1.85,  11.  ],\n",
       "       [  0.2 ,   6.  ],\n",
       "       [  1.85,   8.  ],\n",
       "       [   nan,  -1.  ]])"
      ]
     },
     "execution_count": 255,
     "metadata": {},
     "output_type": "execute_result"
    }
   ],
   "source": [
    "df.values[:,[0,2]].astype(float64)"
   ]
  },
  {
   "cell_type": "code",
   "execution_count": 256,
   "metadata": {
    "collapsed": false
   },
   "outputs": [
    {
     "data": {
      "text/plain": [
       "numpy.float64"
      ]
     },
     "execution_count": 256,
     "metadata": {},
     "output_type": "execute_result"
    }
   ],
   "source": [
    "type(df.values[:,[0,2]].astype(float64)[4,0])"
   ]
  },
  {
   "cell_type": "code",
   "execution_count": 332,
   "metadata": {
    "collapsed": false
   },
   "outputs": [
    {
     "ename": "ValueError",
     "evalue": "cannot convert float NaN to integer",
     "output_type": "error",
     "traceback": [
      "\u001b[1;31m---------------------------------------------------------------------------\u001b[0m\n\u001b[1;31mValueError\u001b[0m                                Traceback (most recent call last)",
      "\u001b[1;32m<ipython-input-332-85e1e23f066c>\u001b[0m in \u001b[0;36m<module>\u001b[1;34m()\u001b[0m\n\u001b[1;32m----> 1\u001b[1;33m \u001b[0mdf\u001b[0m\u001b[1;33m.\u001b[0m\u001b[0mvalues\u001b[0m\u001b[1;33m[\u001b[0m\u001b[1;33m:\u001b[0m\u001b[1;33m,\u001b[0m\u001b[1;33m[\u001b[0m\u001b[1;36m0\u001b[0m\u001b[1;33m,\u001b[0m\u001b[1;36m2\u001b[0m\u001b[1;33m]\u001b[0m\u001b[1;33m]\u001b[0m\u001b[1;33m.\u001b[0m\u001b[0mastype\u001b[0m\u001b[1;33m(\u001b[0m\u001b[0mint64\u001b[0m\u001b[1;33m)\u001b[0m \u001b[1;31m# NaN's are not castable to integers...\u001b[0m\u001b[1;33m\u001b[0m\u001b[0m\n\u001b[0m",
      "\u001b[1;31mValueError\u001b[0m: cannot convert float NaN to integer"
     ]
    }
   ],
   "source": [
    "df.values[:,[0,2]].astype(int64) # NaN's are not castable to integers..."
   ]
  },
  {
   "cell_type": "markdown",
   "metadata": {},
   "source": [
    "When you need this..."
   ]
  },
  {
   "cell_type": "code",
   "execution_count": 257,
   "metadata": {
    "collapsed": false
   },
   "outputs": [
    {
     "data": {
      "text/plain": [
       "group  myIndex           \n",
       "Red    one      float_col     0.1\n",
       "                int_col         1\n",
       "                str_col         a\n",
       "       two      float_col    1.85\n",
       "                int_col        11\n",
       "                str_col      1.85\n",
       "Green  three    float_col     0.2\n",
       "                int_col         6\n",
       "       four     float_col    1.85\n",
       "                int_col         8\n",
       "                str_col      1.85\n",
       "Red    42       int_col        -1\n",
       "                str_col         a\n",
       "dtype: object"
      ]
     },
     "execution_count": 257,
     "metadata": {},
     "output_type": "execute_result"
    }
   ],
   "source": [
    "# Remember this guy?\n",
    "dfStack"
   ]
  },
  {
   "cell_type": "code",
   "execution_count": 258,
   "metadata": {
    "collapsed": false
   },
   "outputs": [
    {
     "data": {
      "text/plain": [
       "group  myIndex\n",
       "Green  four       1.85\n",
       "       three       0.2\n",
       "Red    42          NaN\n",
       "       one         0.1\n",
       "       two        1.85\n",
       "Name: float_col, dtype: object"
      ]
     },
     "execution_count": 258,
     "metadata": {},
     "output_type": "execute_result"
    }
   ],
   "source": [
    "dfStack.unstack()['float_col'] # Is now an object series"
   ]
  },
  {
   "cell_type": "code",
   "execution_count": 259,
   "metadata": {
    "collapsed": false
   },
   "outputs": [],
   "source": [
    "# Let's see that happen in slow motion..."
   ]
  },
  {
   "cell_type": "code",
   "execution_count": 260,
   "metadata": {
    "collapsed": false
   },
   "outputs": [
    {
     "data": {
      "text/plain": [
       "group  myIndex\n",
       "Red    one        0.10\n",
       "       two        1.85\n",
       "Green  three      0.20\n",
       "       four       1.85\n",
       "Red    42          NaN\n",
       "Name: float_col, dtype: float64"
      ]
     },
     "execution_count": 260,
     "metadata": {},
     "output_type": "execute_result"
    }
   ],
   "source": [
    "df1['float_col']"
   ]
  },
  {
   "cell_type": "code",
   "execution_count": 261,
   "metadata": {
    "collapsed": false
   },
   "outputs": [
    {
     "data": {
      "text/plain": [
       "group  myIndex\n",
       "Red    one         1\n",
       "       two        11\n",
       "Green  three       6\n",
       "       four        8\n",
       "Red    42         -1\n",
       "Name: int_col, dtype: int64"
      ]
     },
     "execution_count": 261,
     "metadata": {},
     "output_type": "execute_result"
    }
   ],
   "source": [
    "df1['int_col']"
   ]
  },
  {
   "cell_type": "code",
   "execution_count": 262,
   "metadata": {
    "collapsed": false
   },
   "outputs": [
    {
     "data": {
      "text/plain": [
       "group  myIndex           \n",
       "Red    one      float_col     0.1\n",
       "                int_col         1\n",
       "                str_col         a\n",
       "       two      float_col    1.85\n",
       "                int_col        11\n",
       "                str_col      1.85\n",
       "Green  three    float_col     0.2\n",
       "                int_col         6\n",
       "       four     float_col    1.85\n",
       "                int_col         8\n",
       "                str_col      1.85\n",
       "Red    42       int_col        -1\n",
       "                str_col         a\n",
       "dtype: object"
      ]
     },
     "execution_count": 262,
     "metadata": {},
     "output_type": "execute_result"
    }
   ],
   "source": [
    "df1.stack()"
   ]
  },
  {
   "cell_type": "code",
   "execution_count": 263,
   "metadata": {
    "collapsed": false
   },
   "outputs": [
    {
     "data": {
      "text/plain": [
       "group  myIndex\n",
       "Green  four       1.85\n",
       "       three       0.2\n",
       "Red    42          NaN\n",
       "       one         0.1\n",
       "       two        1.85\n",
       "Name: float_col, dtype: object"
      ]
     },
     "execution_count": 263,
     "metadata": {},
     "output_type": "execute_result"
    }
   ],
   "source": [
    "df1.stack().unstack()['float_col'] # Yucks! See where that happened?"
   ]
  },
  {
   "cell_type": "markdown",
   "metadata": {},
   "source": [
    "Use type coercion when you can reason about the actual types."
   ]
  },
  {
   "cell_type": "markdown",
   "metadata": {},
   "source": [
    "# More Infomation"
   ]
  },
  {
   "cell_type": "markdown",
   "metadata": {},
   "source": [
    "Great book on Pandas: <a href=http://www.amazon.com/Python-Data-Analysis-Wrangling-IPython/dp/1449319793>Python for Data Analysis: Data Wrangling with Pandas, NumPy, and IPython Paperback</a> by Wes McKinney (Developer of Pandas)\n",
    "\n",
    "<table border=0><tr>\n",
    "<td width=200>\n",
    "<a href=http://www.amazon.com/Python-Data-Analysis-Wrangling-IPython/dp/1449319793><img src=\"http://akamaicovers.oreilly.com/images/0636920023784/lrg.jpg\"></a>\n",
    "</td>\n",
    "<td>\n",
    "                                                    <p>\n",
    "                                                        <i>Python for Data Analysis</i> is concerned with the nuts and bolts of manipulating, processing, cleaning, and crunching data in Python. It is also a practical, modern introduction to scientific computing in Python, tailored for data-intensive applications. This is a book about the parts of the Python language and libraries you’ll need to effectively solve a broad set of data analysis problems. This book is not an exposition on analytical methods using Python as the implementation language.\n",
    "</p>\n",
    "                                                    <p>Written by Wes McKinney, the main author of the pandas library, this hands-on book is packed with practical cases studies. It’s ideal for analysts new to Python and for Python programmers new to scientific computing.\n",
    "</p>\n",
    "                                                    <ul>\n",
    "                                                        <li>Use the IPython interactive shell as your primary development environment\n",
    "</li>\n",
    "                                                        <li>Learn basic and advanced NumPy (Numerical Python) features\n",
    "</li>\n",
    "                                                        <li>Get started with data analysis tools in the pandas library\n",
    "</li>\n",
    "                                                        <li>Use high-performance tools to load, clean, transform, merge, and reshape data\n",
    "</li>\n",
    "                                                        <li>Create scatter plots and static or interactive visualizations with matplotlib\n",
    "</li>\n",
    "                                                        <li>Apply the pandas groupby facility to slice, dice, and summarize datasets\n",
    "</li>\n",
    "                                                        <li>Measure data by points in time, whether it’s specific instances, fixed periods, or intervals\n",
    "</li>\n",
    "                                                        <li>Learn how to solve problems in web analytics, social sciences, finance, and economics, through detailed examples\n",
    "</li>\n",
    "                                                    </ul>\n",
    "</td></tr></table>\n",
    "\n",
    "Pandas online documentation: http://pandas.pydata.org/pandas-docs/stable/"
   ]
  },
  {
   "cell_type": "markdown",
   "metadata": {},
   "source": [
    "Here's a great database on which to apply things: http://ashleyw.co.uk/project/food-nutrient-database"
   ]
  }
 ],
 "metadata": {
  "kernelspec": {
   "display_name": "Python 2",
   "language": "python",
   "name": "python2"
  },
  "language_info": {
   "codemirror_mode": {
    "name": "ipython",
    "version": 2
   },
   "file_extension": ".py",
   "mimetype": "text/x-python",
   "name": "python",
   "nbconvert_exporter": "python",
   "pygments_lexer": "ipython2",
   "version": "2.7.12"
  }
 },
 "nbformat": 4,
 "nbformat_minor": 0
}
