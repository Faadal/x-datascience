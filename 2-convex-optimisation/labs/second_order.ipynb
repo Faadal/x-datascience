{
 "cells": [
  {
   "cell_type": "markdown",
   "metadata": {},
   "source": [
    "# TP2: From coordinate descent to second order methods\n",
    "\n",
    "#### Authors: O. Fercoq, S. Gaiffas, A. Gramfort\n",
    "\n",
    "The aim of this material is to go beyond gradient methods to tackle regression and classification optimization problems.\n",
    "\n",
    "This will cover:\n",
    "\n",
    "- Part 1 : Coordinate descent for the Lasso problem\n",
    "- Part 2 : Newton method with and without Armijo line-search on Logistic regression\n",
    "- Part 3 : L-BFGS on Logistic regression\n",
    "\n",
    "This work should be done by pairs of students. One document for each pair of students should be sent to:\n",
    "\n",
    "alexandre.gramfort@telecom-paristech.fr\n",
    "\n",
    "**PLEASE use as object/title for your email \"TP2-DS-Optim\"**"
   ]
  },
  {
   "cell_type": "code",
   "execution_count": 1,
   "metadata": {
    "collapsed": false
   },
   "outputs": [],
   "source": [
    "# to embed figures in the notebook\n",
    "%matplotlib inline"
   ]
  },
  {
   "cell_type": "markdown",
   "metadata": {},
   "source": [
    "## Part 1 : Coordinate descent for the lasso\n",
    "\n",
    "We'll start by generating sparse vectors and simulating data"
   ]
  },
  {
   "cell_type": "code",
   "execution_count": 2,
   "metadata": {
    "collapsed": true
   },
   "outputs": [],
   "source": [
    "import numpy as np\n",
    "import matplotlib.pyplot as plt\n",
    "np.set_printoptions(precision=2)  # to have simpler print outputs with numpy"
   ]
  },
  {
   "cell_type": "code",
   "execution_count": 3,
   "metadata": {
    "collapsed": false
   },
   "outputs": [
    {
     "data": {
      "text/plain": [
       "<matplotlib.text.Text at 0x7f210ffa58d0>"
      ]
     },
     "execution_count": 3,
     "metadata": {},
     "output_type": "execute_result"
    },
    {
     "data": {
      "image/png": "[encoded data removed]",
      "text/plain": [
       "<matplotlib.figure.Figure at 0x7f2112026d90>"
      ]
     },
     "metadata": {},
     "output_type": "display_data"
    }
   ],
   "source": [
    "n_features = 50\n",
    "n_samples = 2000\n",
    "idx = np.arange(n_features)\n",
    "coefs = (-1) ** (idx - 1) * np.exp(-idx / 10.)\n",
    "coefs[20:] = 0.\n",
    "plt.stem(coefs)\n",
    "plt.title(\"Parameters / Coefficients\")"
   ]
  },
  {
   "cell_type": "code",
   "execution_count": 4,
   "metadata": {
    "collapsed": false
   },
   "outputs": [
    {
     "name": "stdout",
     "output_type": "stream",
     "text": [
      "(2000, 50)\n",
      "(2000,)\n"
     ]
    }
   ],
   "source": [
    "# Simulation of the features matrix\n",
    "from numpy.random import multivariate_normal\n",
    "from scipy.linalg.special_matrices import toeplitz\n",
    "\n",
    "# Correlation\n",
    "rho = 0.7\n",
    "\n",
    "# Construction of a covariance matrix\n",
    "cov = toeplitz(rho ** np.arange(0, n_features))\n",
    "\n",
    "# Simulation of Gaussian vectors with this covariance matrix (it will be the features)\n",
    "A = multivariate_normal(np.zeros(n_features), cov, size=n_samples)\n",
    "\n",
    "from numpy.random import randn\n",
    "\n",
    "# Simulation of a linear model\n",
    "std = 1.\n",
    "noise = std * randn(n_samples)\n",
    "\n",
    "# Simulation of the labels according to the linear regression model : b = A coefs + noise\n",
    "b = A.dot(coefs) + noise\n",
    "\n",
    "print(A.shape)\n",
    "print(b.shape)"
   ]
  },
  {
   "cell_type": "markdown",
   "metadata": {},
   "source": [
    "### Coordinate Descent on Lasso problem"
   ]
  },
  {
   "cell_type": "markdown",
   "metadata": {},
   "source": [
    "We consider the following optimization problem:\n",
    "$$\n",
    "\\arg\\min_x \\frac{1}{2n} \\| b - A x \\|^2 + \\lambda \\|x\\|_1\n",
    "$$\n",
    "\n",
    "## Questions\n",
    "\n",
    "- Write the formula of one coefficient update when running a proximal coordinate descent.\n",
    "- Implement a proximal coordinate descent solver based on the code skeleton below. You will use a cyclic selection of the coordinates."
   ]
  },
  {
   "cell_type": "markdown",
   "metadata": {},
   "source": [
    "$$\n",
    "x_{k+1}^{(i)}=prox_{\\gamma_i,g_i}(x_k^{(i)} - 1/L_i grad_i f(x_i))\n",
    "$$"
   ]
  },
  {
   "cell_type": "code",
   "execution_count": 28,
   "metadata": {
    "collapsed": false
   },
   "outputs": [],
   "source": [
    "# TODO\n",
    "\n",
    "from scipy import linalg\n",
    "\n",
    "def prox_lasso(x, l_l1):\n",
    "    \"\"\"Proximal operator for the L1 norm / Lasso at x\"\"\"\n",
    "    x_abs = np.abs(x)\n",
    "    return np.sign(x) * np.maximum(x_abs - l_l1, 0)\n",
    "\n",
    "def f(x):\n",
    "    return 0.5 * norm(b - A.dot(x)) ** 2 / n_samples\n",
    "\n",
    "def grad_f(x, j,r):\n",
    "    return ((np.dot(A[:,j].T,A[:,j])*x[j])-np.dot(A[:,j].T,r))/n_samples\n",
    "\n",
    "def lasso_coord_descent(x0, A, b, l_l1=0., n_iter=50):\n",
    "    \"\"\"Coordinate descent solver for the Lasso\n",
    "    \n",
    "    Parameters\n",
    "    ----------\n",
    "    x0 : array, shape (n_features,)\n",
    "    A : array, shape (n_samples, n_features)\n",
    "    b : array, shape (n_samples,)\n",
    "    l_l1 : float\n",
    "        The lambda regularization parameter\n",
    "    n_iter : int\n",
    "        The number of iterations over the full dataset.    \n",
    "    Returns\n",
    "    -------\n",
    "    x : array, shape (n_features,)\n",
    "    objectives : array, shape (n_iter + 1,)\n",
    "        The value of the primal objective function at the beginning\n",
    "        and after each pass on all features.\n",
    "    errors : array, shape (n_iter + 1,)\n",
    "        The value of the estimation error at the beginning and after each\n",
    "        pass on all features.\n",
    "    \"\"\"\n",
    "    \n",
    "    n_samples, n_features = A.shape\n",
    "    \n",
    "    # calcul des L_i \n",
    "    l=np.zeros(n_features)\n",
    "    for j in range(n_features):\n",
    "        l[j]=np.dot(A[:,j].T,A[:,j])/n_samples\n",
    "    x = x0.copy()\n",
    "    x_new = x0.copy()\n",
    "    # Vector that'll contain the residuals\n",
    "\n",
    "    errors = []\n",
    "    objectives = []\n",
    "    err = linalg.norm(x - coefs) / linalg.norm(coefs)\n",
    "    errors.append(err)\n",
    "    \n",
    "    def compute_obj(x):\n",
    "        return 0.5 * linalg.norm(A.dot(x) - b) ** 2 + l_l1 * np.sum(np.abs(x))\n",
    "    \n",
    "    objectives.append(compute_obj(x))\n",
    "    print(\"\")    \n",
    "    print(\"Lauching coordinate descent solver...\")\n",
    "    print(' | '.join([name.center(8) for name in [\"it\", \"obj\", \"err\"]]))\n",
    "    for k in range(n_iter):\n",
    "        # Cycle over the coordinates\n",
    "        for j in range(n_features):\n",
    "            A2 = np.delete(A,j,1)\n",
    "            r = b - A2.dot(np.delete(x,j))\n",
    "            Xj = prox_lasso(x[j]-grad_f(x,j,r)/l[j], l_l1/l[j])\n",
    "            x[j] = Xj\n",
    "            pass\n",
    "            # x[j] = TODO\n",
    "            # r = TODO\n",
    "        obj = compute_obj(x)\n",
    "        err = linalg.norm(x - coefs) / linalg.norm(coefs)\n",
    "        errors.append(err)\n",
    "        objectives.append(obj)\n",
    "        if k % 10 == 0:\n",
    "            print (' | '.join( [ (\"%d\" % k).rjust(8), (\"%.2e\" % obj).rjust(8), (\"%.2e\" % err).rjust(8)]))\n",
    "    return x, np.array(objectives), np.array(errors)"
   ]
  },
  {
   "cell_type": "code",
   "execution_count": 29,
   "metadata": {
    "collapsed": false
   },
   "outputs": [
    {
     "name": "stdout",
     "output_type": "stream",
     "text": [
      "\n",
      "Lauching coordinate descent solver...\n",
      "   it    |   obj    |   err   \n",
      "       0 | 1.69e+03 | 7.55e-01\n",
      "      10 | 1.25e+03 | 4.39e-01\n",
      "      20 | 1.24e+03 | 4.34e-01\n",
      "      30 | 1.24e+03 | 4.34e-01\n"
     ]
    }
   ],
   "source": [
    "x0 = np.zeros(n_features)\n",
    "n_iter = 40\n",
    "l_l1=5e-2\n",
    "x_cd, obj_cd, err_cd = lasso_coord_descent(x0, A, b, l_l1=l_l1, n_iter=n_iter)"
   ]
  },
  {
   "cell_type": "code",
   "execution_count": 25,
   "metadata": {
    "collapsed": false
   },
   "outputs": [
    {
     "data": {
      "text/plain": [
       "(49,)"
      ]
     },
     "execution_count": 25,
     "metadata": {},
     "output_type": "execute_result"
    }
   ],
   "source": [
    "j=0\n",
    "np.delete(x0,j).shape\n"
   ]
  },
  {
   "cell_type": "code",
   "execution_count": null,
   "metadata": {
    "collapsed": true
   },
   "outputs": [],
   "source": [
    "a=np.ones"
   ]
  },
  {
   "cell_type": "markdown",
   "metadata": {},
   "source": [
    "# Let's monitor convergence"
   ]
  },
  {
   "cell_type": "code",
   "execution_count": 30,
   "metadata": {
    "collapsed": false
   },
   "outputs": [
    {
     "data": {
      "text/plain": [
       "<matplotlib.text.Text at 0x7f210d727150>"
      ]
     },
     "execution_count": 30,
     "metadata": {},
     "output_type": "execute_result"
    },
    {
     "data": {
      "image/png": "[encoded data removed]",
      "text/plain": [
       "<matplotlib.figure.Figure at 0x7f2112026f50>"
      ]
     },
     "metadata": {},
     "output_type": "display_data"
    }
   ],
   "source": [
    "plt.figure(figsize=(15.0, 4.0))\n",
    "plt.subplot(1, 2, 1)\n",
    "plt.plot(obj_cd, label=\"Coordinate Descent\", lw=2)\n",
    "plt.title(\"Objective\")\n",
    "plt.legend()\n",
    "plt.subplot(1, 2, 2)\n",
    "plt.plot(err_cd, label=\"Coordinate Descent\", lw=2)\n",
    "plt.title(\"Estimation errors\")"
   ]
  },
  {
   "cell_type": "markdown",
   "metadata": {},
   "source": [
    "# Part 2 : Newton method\n",
    "\n",
    "We are now investigating the logistic regression model in the context of binary classification.\n",
    "\n",
    "We'll use the famous IRIS dataset provided by Scikit-Learn.\n",
    "\n",
    "We'll denote by $n$ (or `n_samples`) the number of samples and $p$ (or `n_features`) the number of features, i.e. the dimension of the samples.\n",
    "\n",
    "For the data below we'll have $p=2$.\n",
    "\n",
    "## Part 2.0 : The data"
   ]
  },
  {
   "cell_type": "code",
   "execution_count": 31,
   "metadata": {
    "collapsed": false,
    "scrolled": true
   },
   "outputs": [
    {
     "name": "stdout",
     "output_type": "stream",
     "text": [
      "(100,)\n",
      "(100, 2)\n"
     ]
    },
    {
     "data": {
      "text/plain": [
       "<matplotlib.collections.PathCollection at 0x7f21054f7990>"
      ]
     },
     "execution_count": 31,
     "metadata": {},
     "output_type": "execute_result"
    },
    {
     "name": "stderr",
     "output_type": "stream",
     "text": [
      "/home/zapfack/anaconda/lib/python2.7/site-packages/matplotlib/collections.py:590: FutureWarning: elementwise comparison failed; returning scalar instead, but in the future will perform elementwise comparison\n",
      "  if self._edgecolors == str('face'):\n"
     ]
    },
    {
     "data": {
      "image/png": "[encoded data removed]",
      "text/plain": [
       "<matplotlib.figure.Figure at 0x7f21087e7810>"
      ]
     },
     "metadata": {},
     "output_type": "display_data"
    }
   ],
   "source": [
    "from sklearn import datasets\n",
    "from sklearn.linear_model import LogisticRegression\n",
    "\n",
    "iris = datasets.load_iris()\n",
    "X = iris.data\n",
    "y = iris.target\n",
    "\n",
    "# Take only 2 features to make visualization easy\n",
    "X = X[:, :2]\n",
    "\n",
    "# Make it binary\n",
    "X = X[y < 2]\n",
    "y = y[y < 2]\n",
    "\n",
    "y[y == 0] = -1\n",
    "\n",
    "print(y.shape)\n",
    "print(X.shape)\n",
    "\n",
    "plt.scatter(X[y > 0, 0], X[y > 0, 1], color='r')\n",
    "plt.scatter(X[y < 0, 0], X[y < 0, 1], color='g')"
   ]
  },
  {
   "cell_type": "markdown",
   "metadata": {},
   "source": [
    "# Part 2.1 : Logistic Regression\n",
    "\n",
    "When we use the convention that $y=1$ for the positive class and $y=-1$ for the negative class\n",
    "the L2 penalized logistic regression model reads:\n",
    "\n",
    "$$\n",
    "\\hat{w}, \\hat{b} = \\mathop{\\textrm{argmin}}_{w, b} \\sum_{i=1}^n \\log(1 + \\exp(- y_i (x_i^\\top w + b)))) + \\lambda \\|w\\|^2\n",
    "$$\n",
    "\n",
    "where $w$ is a vector of coefficients of size $p$, $b$ is a scalar intercept and $\\lambda > 0$ is a regularization parameter.\n",
    "\n",
    "Then the prediction for a new sample is given by :\n",
    "\n",
    "$$\n",
    "y_{pred} = \\textrm{sign}(x^\\top w + b)\n",
    "$$"
   ]
  },
  {
   "cell_type": "markdown",
   "metadata": {},
   "source": [
    "### In a first step we ignore the intercept and consider the function:\n",
    "\n",
    "$$f(w) = \\sum_{i=1}^n \\log(1 + \\exp(- y_i (x_i^\\top w)))) + \\lambda \\|w\\|^2$$\n",
    "\n",
    "## Questions\n",
    "\n",
    "   - Write the formulas for the gradient and the Hessian matrix of $f$ at point $w$\n",
    "   - Implement both and use the `scipy.optimize.check_grad` function from scipy to check your implementation of the gradient.\n",
    "   - Implement a Newton solver for minimizing $f$.\n",
    "   $$ X_{k+1} = X_{k} -\\triangledown^2 f(X)^-1 * \\triangledown f(x)  $$\n",
    "   \n",
    "   $$\n",
    "      \\triangledown f(w) = 2 \\lambda w + \\sum_{i=1}^n \\frac{-y_i}{x}\n",
    "   $$"
   ]
  },
  {
   "cell_type": "code",
   "execution_count": 270,
   "metadata": {
    "collapsed": false
   },
   "outputs": [
    {
     "name": "stdout",
     "output_type": "stream",
     "text": [
      "[  1.43e-05   5.94e-06]\n"
     ]
    }
   ],
   "source": [
    "### TODO\n",
    "\n",
    "def pobj_logistic(X, y, w, alpha):\n",
    "    # TODO\n",
    "    if len(w.shape)>1:\n",
    "        raise NameError('Erreur')\n",
    "    n_samples, n_features = X.shape\n",
    "    pobj=0\n",
    "    for i in range(n_samples):\n",
    "        pobj = pobj+np.log(1+np.exp(-y[i]*np.dot(X[i,],w)))\n",
    "        if not (isinstance(pobj,float)):\n",
    "            raise NameError('Erreur2')\n",
    "        \n",
    "    pobj = pobj + alpha*np.linalg.norm(w)**2\n",
    "    return pobj\n",
    "\n",
    "\n",
    "def grad_logistic(X, y, w, alpha):\n",
    "    # TODO\n",
    "    n_samples, n_features = X.shape\n",
    "    grad=0\n",
    "    for i in range(n_samples):\n",
    "        grad = grad+ ((-y[i]*X[i,np.newaxis])/(1+np.exp(y[i]*np.dot(X[i,:],w))))\n",
    "    grad = grad + alpha*2*w\n",
    "    return grad\n",
    "\n",
    " # This should be a very small number\n",
    "\n",
    "def hess_logistic(X, y, w, alpha):\n",
    "    # TODO\n",
    "    n_samples, n_features = X.shape\n",
    "    hess=0\n",
    "    for i in range(n_samples):\n",
    "        hess = hess+ ((y[i]**2*X[i,np.newaxis].T.dot(X[i,np.newaxis])*np.exp(y[i]*np.dot(X[i,:],w))))/((1+np.exp(y[i]*np.dot(X[i,:],w)))**2)\n",
    "    hess = hess + alpha*2*np.identity(n_features)\n",
    "    return hess\n",
    "\n",
    "\n",
    "from scipy.optimize import check_grad\n",
    "\n",
    "wr = np.random.randn(2)\n",
    "alpha = 1.\n",
    "print check_grad((lambda w:pobj_logistic(X,y,w,alpha)), (lambda w:grad_logistic(X,y,w,alpha)), wr)\n"
   ]
  },
  {
   "cell_type": "code",
   "execution_count": 271,
   "metadata": {
    "collapsed": false
   },
   "outputs": [],
   "source": [
    "\n",
    "def newton_logistic(X, y, alpha=1., w0=None):\n",
    "    X = np.asarray(X, dtype=np.float)\n",
    "    y = np.asarray(y, dtype=np.float)\n",
    "\n",
    "    if w0 is None:\n",
    "        #w0 = np.zeros(X.shape[1])[:,np.newaxis]\n",
    "        w0 = np.zeros(X.shape[1])\n",
    "\n",
    "    n_samples, n_features = X.shape\n",
    "    \n",
    "    w = w0.copy()\n",
    "    \n",
    "    pobj = []\n",
    "    \n",
    "    print(\"\")    \n",
    "    print(\"Lauching Newton solver...\")\n",
    "    print(' | '.join([name.center(8) for name in [\"it\", \"obj\"]]))\n",
    "\n",
    "    for k in xrange(20):\n",
    "    \n",
    "        grad = grad_logistic(X, y, w, alpha)\n",
    "        hess = hess_logistic(X, y, w, alpha)\n",
    "        \n",
    "        #w = w - np.linalg.inv(hess)*grad\n",
    "        w=w-np.dot(np.linalg.inv(hess),grad.T)[:,0].T\n",
    "\n",
    "        # TODO : write the w update using grad and hess\n",
    "\n",
    "        this_pobj = pobj_logistic(X, y, w, alpha)\n",
    "        pobj.append(this_pobj)\n",
    "        \n",
    "        print (' | '.join( [ (\"%d\" % k).rjust(8), (\"%.2e\" % this_pobj).rjust(8)]))\n",
    "\n",
    "    print(\"Global minimum : %s\" % pobj[-1])\n",
    "\n",
    "    return w, pobj"
   ]
  },
  {
   "cell_type": "code",
   "execution_count": 272,
   "metadata": {
    "collapsed": false
   },
   "outputs": [
    {
     "name": "stdout",
     "output_type": "stream",
     "text": [
      "\n",
      "Lauching Newton solver...\n",
      "   it    |   obj   \n",
      "       0 | 2.35e+01\n",
      "       1 | 1.53e+01\n",
      "       2 | 1.36e+01\n",
      "       3 | 1.34e+01\n",
      "       4 | 1.34e+01\n",
      "       5 | 1.34e+01\n",
      "       6 | 1.34e+01\n",
      "       7 | 1.34e+01\n",
      "       8 | 1.34e+01\n",
      "       9 | 1.34e+01\n",
      "      10 | 1.34e+01\n",
      "      11 | 1.34e+01\n",
      "      12 | 1.34e+01\n",
      "      13 | 1.34e+01\n",
      "      14 | 1.34e+01\n",
      "      15 | 1.34e+01\n",
      "      16 | 1.34e+01\n",
      "      17 | 1.34e+01\n",
      "      18 | 1.34e+01\n",
      "      19 | 1.34e+01\n",
      "Global minimum : 13.4471504408\n"
     ]
    }
   ],
   "source": [
    "alpha = 0.1\n",
    "w, pobj = newton_logistic(X, y, alpha=alpha)"
   ]
  },
  {
   "cell_type": "code",
   "execution_count": 273,
   "metadata": {
    "collapsed": false
   },
   "outputs": [
    {
     "data": {
      "image/png": "[encoded data removed]",
      "text/plain": [
       "<matplotlib.figure.Figure at 0x7f210511df90>"
      ]
     },
     "metadata": {},
     "output_type": "display_data"
    }
   ],
   "source": [
    "plt.plot(np.log10(pobj), 'r')\n",
    "plt.xlabel('Iterations')\n",
    "plt.ylabel('Primal')\n",
    "plt.show()"
   ]
  },
  {
   "cell_type": "code",
   "execution_count": 274,
   "metadata": {
    "collapsed": false
   },
   "outputs": [
    {
     "data": {
      "image/png": "[encoded data removed]",
      "text/plain": [
       "<matplotlib.figure.Figure at 0x7f2104ee7290>"
      ]
     },
     "metadata": {},
     "output_type": "display_data"
    }
   ],
   "source": [
    "def plot_coefs(w, b=0.0):\n",
    "    plt.scatter(X[y > 0, 0], X[y > 0, 1], color='r')\n",
    "    plt.scatter(X[y < 0, 0], X[y < 0, 1], color='g')\n",
    "    xx = np.linspace(4, 8, 10)\n",
    "    plt.plot(xx,  - xx * w[0] / w[1] - b / w[1], 'k')\n",
    "    plt.grid('on')\n",
    "\n",
    "plot_coefs(w)"
   ]
  },
  {
   "cell_type": "markdown",
   "metadata": {},
   "source": [
    "To take into acccount the intercept we propose to add a column of 1 to the matrix X."
   ]
  },
  {
   "cell_type": "code",
   "execution_count": 275,
   "metadata": {
    "collapsed": true
   },
   "outputs": [],
   "source": [
    "X1 = np.concatenate((X, np.ones((X.shape[0], 1))), axis=1)"
   ]
  },
  {
   "cell_type": "markdown",
   "metadata": {},
   "source": [
    "## Questions\n",
    "\n",
    "    - Modify the solver so it does not penalize the intercept now present via the last column of X1"
   ]
  },
  {
   "cell_type": "code",
   "execution_count": 316,
   "metadata": {
    "collapsed": false
   },
   "outputs": [],
   "source": [
    "### TODO\n",
    "\n",
    "def pobj_logistic_intercept(X, y, w, alpha):\n",
    "    # TODO\n",
    "    n_samples, n_features = X.shape\n",
    "    pobj=0\n",
    "    for i in range(n_samples):\n",
    "        pobj = pobj+np.log(1+np.exp(-y[i]*np.dot(X[i,],w)))\n",
    "        \n",
    "    pobj = pobj + alpha*np.linalg.norm(w[:-1])**2\n",
    "    return pobj\n",
    "\n",
    "\n",
    "def grad_logistic_intercept(X, y, w, alpha):\n",
    "    # TODOqrewq\n",
    "    n_samples, n_features = X.shape\n",
    "    grad=0\n",
    "    for i in range(n_samples):\n",
    "        grad = grad+ ((-y[i]*X[i,np.newaxis])/(1+np.exp(y[i]*np.dot(X[i,:],w))))\n",
    "    grad[0,:-1] = grad[0,:-1] + alpha*2*w[:-1]\n",
    "    return grad\n",
    "\n",
    " # This should be a very small number\n",
    "\n",
    "def hess_logistic_intercept(X, y, w, alpha):\n",
    "    # TODO\n",
    "    n_samples, n_features = X.shape\n",
    "    hess=np.zeros(n_features)\n",
    "    for i in range(n_samples):\n",
    "        hess = hess+ ((y[i]**2*X[i,np.newaxis].T.dot(X[i,np.newaxis])*np.exp(y[i]*np.dot(X[i,:],w))))/((1+np.exp(y[i]*np.dot(X[i,:],w)))**2)\n",
    "    hess[:-1,:-1] = hess[:-1,:-1] + alpha*2*np.identity(n_features-1)\n",
    "    return hess\n"
   ]
  },
  {
   "cell_type": "code",
   "execution_count": 317,
   "metadata": {
    "collapsed": true
   },
   "outputs": [],
   "source": [
    "# TODO\n",
    "\n",
    "def newton_logistic_intercept(X1, y, alpha=1., w0=None):\n",
    "    X = X1\n",
    "\n",
    "    X = np.asarray(X, dtype=np.float)\n",
    "    y = np.asarray(y, dtype=np.float)\n",
    "\n",
    "    if w0 is None:\n",
    "        w0 = np.zeros(X.shape[1])\n",
    "\n",
    "    n_samples, n_features = X.shape\n",
    "    \n",
    "    w = w0\n",
    "    \n",
    "    pobj = []\n",
    "    \n",
    "    print(\"\")    \n",
    "    print(\"Lauching Newton solver...\")\n",
    "    print(' | '.join([name.center(8) for name in [\"it\", \"obj\"]]))\n",
    "\n",
    "    for k in xrange(20):\n",
    "        # TODO\n",
    "        grad = grad_logistic_intercept(X, y, w, alpha)\n",
    "        hess = hess_logistic_intercept(X, y, w, alpha)\n",
    "        \n",
    "        #w = w - np.linalg.inv(hess)*grad\n",
    "        w=w-np.dot(np.linalg.inv(hess),grad.T)[:,0].T\n",
    "\n",
    "        # TODO : write the w update using grad and hess\n",
    "\n",
    "        this_pobj = pobj_logistic_intercept(X, y, w, alpha)\n",
    "        pobj.append(this_pobj)\n",
    "\n",
    "        print (' | '.join( [ (\"%d\" % k).rjust(8), (\"%.8e\" % this_pobj).rjust(8)]))\n",
    "\n",
    "    print(\"Global minimum : %s\" % pobj[-1])\n",
    "\n",
    "    b = w[-1]\n",
    "    w = w[:-1]\n",
    "    return w, b, pobj"
   ]
  },
  {
   "cell_type": "code",
   "execution_count": 318,
   "metadata": {
    "collapsed": false
   },
   "outputs": [
    {
     "name": "stdout",
     "output_type": "stream",
     "text": [
      "\n",
      "Lauching Newton solver...\n",
      "   it    |   obj   \n",
      "       0 | 2.23387575e+01\n",
      "       1 | 1.35646356e+01\n",
      "       2 | 1.12231400e+01\n",
      "       3 | 1.09447707e+01\n",
      "       4 | 1.09397357e+01\n",
      "       5 | 1.09397337e+01\n",
      "       6 | 1.09397337e+01\n",
      "       7 | 1.09397337e+01\n",
      "       8 | 1.09397337e+01\n",
      "       9 | 1.09397337e+01\n",
      "      10 | 1.09397337e+01\n",
      "      11 | 1.09397337e+01\n",
      "      12 | 1.09397337e+01\n",
      "      13 | 1.09397337e+01\n",
      "      14 | 1.09397337e+01\n",
      "      15 | 1.09397337e+01\n",
      "      16 | 1.09397337e+01\n",
      "      17 | 1.09397337e+01\n",
      "      18 | 1.09397337e+01\n",
      "      19 | 1.09397337e+01\n",
      "Global minimum : 10.9397337489\n"
     ]
    }
   ],
   "source": [
    "alpha = 0.1\n",
    "w, b, pobj = newton_logistic_intercept(X1, y, alpha=alpha)"
   ]
  },
  {
   "cell_type": "code",
   "execution_count": 309,
   "metadata": {
    "collapsed": false,
    "scrolled": true
   },
   "outputs": [
    {
     "data": {
      "image/png": "[encoded data removed]",
      "text/plain": [
       "<matplotlib.figure.Figure at 0x7f2105128510>"
      ]
     },
     "metadata": {},
     "output_type": "display_data"
    }
   ],
   "source": [
    "plt.plot(np.log10(pobj), 'r')\n",
    "plt.xlabel('Iterations')\n",
    "plt.ylabel('Primal')\n",
    "plt.show()"
   ]
  },
  {
   "cell_type": "code",
   "execution_count": 310,
   "metadata": {
    "collapsed": false
   },
   "outputs": [
    {
     "data": {
      "image/png": "[encoded data removed]",
      "text/plain": [
       "<matplotlib.figure.Figure at 0x7f2104ce3690>"
      ]
     },
     "metadata": {},
     "output_type": "display_data"
    }
   ],
   "source": [
    "plot_coefs(w, b)"
   ]
  },
  {
   "cell_type": "markdown",
   "metadata": {
    "collapsed": true
   },
   "source": [
    "## Part 2.2 Newton with line search\n",
    "\n",
    "Newton's method is only proven to converge in a neighborhood of the minimizer.\n",
    "\n",
    "## Questions\n",
    "\n",
    "    - Try the method newton_logistic_intercept with w0 = 0.3 * np.ones(X1.shape[1]) as a starting point.\n",
    "    - What do you observe?\n",
    "    \n",
    "    # reponse\n",
    "    les methodes de Newton ne marchent que dans un voisinage de x*. Lorsqu'on est pas dans  boule B centree en x*,on ne peut pas savoir si les $x_k$ obtenus convergeront (theorem 1 cours). en plus de cela l'on remarque que les valeurs $f(w_k)$ augmentent (très vite en plus) au point que l'on ne puisse plus les stocker en memoire au bout de quelques iterations.\n",
    "    L'une des raisons de cette augmentation peut etre que la hessienne n'est pas inversible (mal conditionnee) aux points considérés."
   ]
  },
  {
   "cell_type": "code",
   "execution_count": 319,
   "metadata": {
    "collapsed": false
   },
   "outputs": [
    {
     "name": "stdout",
     "output_type": "stream",
     "text": [
      "\n",
      "Lauching Newton solver...\n",
      "   it    |   obj   \n",
      "       0 | 6.59471607e+01\n",
      "       1 | 5.17182468e+02\n",
      "       2 | 7.17412598e+03\n",
      "       3 |      inf\n",
      "       4 |      nan\n",
      "       5 |      nan\n",
      "       6 |      nan\n",
      "       7 |      nan\n",
      "       8 |      nan\n",
      "       9 |      nan\n",
      "      10 |      nan\n",
      "      11 |      nan\n",
      "      12 |      nan\n",
      "      13 |      nan\n",
      "      14 |      nan\n",
      "      15 |      nan\n",
      "      16 |      nan\n",
      "      17 |      nan\n",
      "      18 |      nan\n",
      "      19 |      nan\n",
      "Global minimum : nan\n"
     ]
    },
    {
     "name": "stderr",
     "output_type": "stream",
     "text": [
      "/home/zapfack/anaconda/lib/python2.7/site-packages/IPython/kernel/__main__.py:8: RuntimeWarning: overflow encountered in exp\n",
      "/home/zapfack/anaconda/lib/python2.7/site-packages/IPython/kernel/__main__.py:19: RuntimeWarning: overflow encountered in exp\n",
      "/home/zapfack/anaconda/lib/python2.7/site-packages/IPython/kernel/__main__.py:30: RuntimeWarning: overflow encountered in exp\n",
      "/home/zapfack/anaconda/lib/python2.7/site-packages/IPython/kernel/__main__.py:30: RuntimeWarning: invalid value encountered in divide\n"
     ]
    }
   ],
   "source": [
    "alpha = 0.1\n",
    "w0 = 0.3 * np.ones(X1.shape[1])\n",
    "w, b, pobj = newton_logistic_intercept(X1, y, alpha=alpha,w0=w0)"
   ]
  },
  {
   "cell_type": "code",
   "execution_count": 312,
   "metadata": {
    "collapsed": false,
    "scrolled": false
   },
   "outputs": [
    {
     "data": {
      "image/png": "[encoded data removed]",
      "text/plain": [
       "<matplotlib.figure.Figure at 0x7f2104e276d0>"
      ]
     },
     "metadata": {},
     "output_type": "display_data"
    }
   ],
   "source": [
    "plt.plot(np.log10(pobj), 'r')\n",
    "plt.xlabel('Iterations')\n",
    "plt.ylabel('Primal')\n",
    "plt.show()"
   ]
  },
  {
   "cell_type": "markdown",
   "metadata": {},
   "source": [
    "### Armijo's Line search\n",
    "\n",
    "To overcome the instability of Newton's method when we are not in the neighbourhood of the optimum, we implement a line search that guarantees that the function value will decrease at each iteration and this leads to convergence whatever the initial point.\n",
    "\n",
    "We recall Armijo's rule. We fix $s > 0$, $\\sigma \\in (0,1)$ and $\\beta \\in (0,1)$. For a given $w_t$ and a descent direction $d_t$, we look for $m_t$ which is the first integer $m$ such that\n",
    "$$\n",
    "f(w_t + s \\beta^m d_t) - f(w_t) \\leq  \\sigma s \\beta^m \\nabla f(w_t)^\\top d_t\n",
    "$$\n",
    "The new iterate is then $w_{t+1} = w_t + s \\beta^{m_t} d_t$.\n",
    "\n",
    "We shall take $d_t$ equal to Newton's update, $s=1$, $\\beta = 0.5$ and $\\sigma = 10^{-4}$.\n",
    "\n",
    "## Questions\n",
    "\n",
    "  - Modify newton_logistic_intercept to implement Armijo's line search.\n",
    "  - Does the algorithm converge for w0 = 0.3 * np.ones(X1.shape[1])\n",
    "  \n",
    "  yes it converges (to the same point)"
   ]
  },
  {
   "cell_type": "code",
   "execution_count": 376,
   "metadata": {
    "collapsed": true
   },
   "outputs": [],
   "source": [
    "# TODO\n",
    "\n",
    "def newton_logistic_intercept_with_linesearch(X, y, alpha=1., w0=None):\n",
    "    X = np.asarray(X, dtype=np.float)\n",
    "    y = np.asarray(y, dtype=np.float)\n",
    "\n",
    "    if w0 is None:\n",
    "        w0 = np.zeros(X.shape[1])\n",
    "    \n",
    "    n_samples, n_features = X.shape\n",
    "    \n",
    "    w = w0\n",
    "    \n",
    "    pobj = []\n",
    "    \n",
    "    print(\"\")    \n",
    "    print(\"Lauching Newton solver with line search...\")\n",
    "    print(' | '.join([name.center(8) for name in [\"it\", \"obj\"]]))\n",
    "    \n",
    "    for k in range(20):\n",
    "        # Compute descent direction with newton rule\n",
    "        # descent_direction = TODO\n",
    "        grad = grad_logistic_intercept(X, y, w, alpha)\n",
    "        hess = hess_logistic_intercept(X, y, w, alpha)\n",
    "        dt = -1*np.dot(np.linalg.inv(hess),grad.T)[:,0].T\n",
    "        \n",
    "\n",
    "        # line search\n",
    "        test = False\n",
    "        previous_pobj = pobj_logistic_intercept(X, y, w, alpha)\n",
    "        \n",
    "        \n",
    "        stepsize = 1. #s\n",
    "        step_decrease_rate = 0.5 #beta\n",
    "        sigma = 1e-4 \n",
    "        m=1\n",
    "        while not test:\n",
    "            # w_trial = TODO\n",
    "            coef = stepsize*step_decrease_rate**m\n",
    "            w_trial = w+coef*dt\n",
    "\n",
    "            #this_grad = grad_logistic_intercept(X, y, w_trial, alpha)\n",
    "            this_pobj = pobj_logistic_intercept(X, y, w_trial, alpha)\n",
    "            \n",
    "            # test = TODO\n",
    "            scal = np.dot(dt,grad.T)\n",
    "            if this_pobj-previous_pobj <= -sigma*coef*scal**2:\n",
    "                break\n",
    "            else:\n",
    "                m=m+1\n",
    "                \n",
    "            stepsize *= step_decrease_rate\n",
    "            \n",
    "            if stepsize < 1e-10:\n",
    "                print(\"line search failed\")\n",
    "                break\n",
    "            \n",
    "        w[:] = w_trial\n",
    "        \n",
    "        # neuw pobj\n",
    "        this_pobj = pobj_logistic_intercept(X, y, w, alpha)\n",
    "        pobj.append(this_pobj)\n",
    "        \n",
    "        print (' | '.join( [ (\"%d\" % k).rjust(8), (\"%.8e\" % this_pobj).rjust(8)]))\n",
    "\n",
    "    print(\"Global minimum : %s\" % pobj[-1])\n",
    "\n",
    "    b = w[-1]\n",
    "    w = w[:-1]\n",
    "    return w, b, pobj"
   ]
  },
  {
   "cell_type": "code",
   "execution_count": 377,
   "metadata": {
    "collapsed": false
   },
   "outputs": [
    {
     "name": "stdout",
     "output_type": "stream",
     "text": [
      "\n",
      "Lauching Newton solver with line search...\n",
      "   it    |   obj   \n",
      "       0 | 1.87516611e+01\n",
      "       1 | 1.33167188e+01\n",
      "       2 | 1.18844122e+01\n",
      "       3 | 1.12793261e+01\n",
      "       4 | 1.10485619e+01\n",
      "       5 | 1.09714231e+01\n",
      "       6 | 1.09483703e+01\n",
      "       7 | 1.09419951e+01\n",
      "       8 | 1.09403128e+01\n",
      "       9 | 1.09398803e+01\n",
      "      10 | 1.09397706e+01\n",
      "      11 | 1.09397430e+01\n",
      "      12 | 1.09397361e+01\n",
      "      13 | 1.09397343e+01\n",
      "      14 | 1.09397339e+01\n",
      "      15 | 1.09397338e+01\n",
      "      16 | 1.09397338e+01\n",
      "      17 | 1.09397338e+01\n",
      "      18 | 1.09397337e+01\n",
      "      19 | 1.09397337e+01\n",
      "Global minimum : 10.939733749\n"
     ]
    }
   ],
   "source": [
    "alpha = 0.1\n",
    "w, b, pobj = newton_logistic_intercept_with_linesearch(X1, y, alpha=alpha, w0=0.3 * np.ones(X1.shape[1]))"
   ]
  },
  {
   "cell_type": "code",
   "execution_count": 378,
   "metadata": {
    "collapsed": false
   },
   "outputs": [
    {
     "data": {
      "image/png": "[encoded data removed]",
      "text/plain": [
       "<matplotlib.figure.Figure at 0x7f2104b7eb90>"
      ]
     },
     "metadata": {},
     "output_type": "display_data"
    }
   ],
   "source": [
    "plt.plot(np.log10(pobj), 'r')\n",
    "plt.xlabel('Iterations')\n",
    "plt.ylabel('Primal')\n",
    "plt.show()"
   ]
  },
  {
   "cell_type": "markdown",
   "metadata": {},
   "source": [
    "# Part 3 : L-BFGS\n",
    "\n",
    "So far you have implemented your own solvers. In this last part you'll simply learn out to use\n",
    "an existing solver. You'll be using `scipy.optimize.fmin_l_bfgs_b`.\n",
    "\n",
    "\n",
    "## Question\n",
    "\n",
    "   - Minimize the Logistic regression problem, taking into account the intercept using the `scipy.optimize.fmin_l_bfgs_b` function."
   ]
  },
  {
   "cell_type": "code",
   "execution_count": 367,
   "metadata": {
    "collapsed": false
   },
   "outputs": [],
   "source": [
    "# TODO\n",
    "\n",
    "all_pobj = []\n",
    "\n",
    "def f(w):\n",
    "    # pobj = TODO\n",
    "    pobj = pobj_logistic_intercept(X1, y, w, alpha)\n",
    "    all_pobj.append(pobj)\n",
    "    return pobj\n",
    "\n",
    "def fprime(w):\n",
    "    # grad = TODO\n",
    "    grad = grad_logistic_intercept(X1, y, w, alpha)\n",
    "    return grad.T\n",
    "\n",
    "from scipy.optimize import fmin_l_bfgs_b\n",
    "#w0=0.3 * np.ones(X1.shape[1])\n",
    "w0 = np.zeros(X1.shape[1])\n",
    "x,f,_ = fmin_l_bfgs_b(f, w0, fprime=fprime)\n",
    "# TODO"
   ]
  },
  {
   "cell_type": "code",
   "execution_count": 368,
   "metadata": {
    "collapsed": false,
    "scrolled": true
   },
   "outputs": [
    {
     "data": {
      "image/png": "[encoded data removed]",
      "text/plain": [
       "<matplotlib.figure.Figure at 0x7f210522a910>"
      ]
     },
     "metadata": {},
     "output_type": "display_data"
    }
   ],
   "source": [
    "plt.plot(np.log10(all_pobj), 'r')\n",
    "plt.xlabel('Iterations')\n",
    "plt.ylabel('Primal')\n",
    "plt.show()"
   ]
  },
  {
   "cell_type": "code",
   "execution_count": 369,
   "metadata": {
    "collapsed": false
   },
   "outputs": [
    {
     "data": {
      "image/png": "[encoded data removed]",
      "text/plain": [
       "<matplotlib.figure.Figure at 0x7f21050548d0>"
      ]
     },
     "metadata": {},
     "output_type": "display_data"
    }
   ],
   "source": [
    "plot_coefs(w, b)"
   ]
  },
  {
   "cell_type": "markdown",
   "metadata": {
    "collapsed": true
   },
   "source": [
    "## Bonus Question\n",
    "\n",
    "in case you're done early ...\n",
    "\n",
    "   - Evaluate the performance of your implementation against sklearn.linear_model.LogisticRegression on the digits dataset."
   ]
  },
  {
   "cell_type": "code",
   "execution_count": 471,
   "metadata": {
    "collapsed": false
   },
   "outputs": [
    {
     "data": {
      "text/plain": [
       "<matplotlib.colorbar.Colorbar instance at 0x7f2104b51680>"
      ]
     },
     "execution_count": 471,
     "metadata": {},
     "output_type": "execute_result"
    },
    {
     "data": {
      "image/png": "[encoded data removed]",
      "text/plain": [
       "<matplotlib.figure.Figure at 0x7f20fe83f190>"
      ]
     },
     "metadata": {},
     "output_type": "display_data"
    }
   ],
   "source": [
    "## import data\n",
    "digits = datasets.load_digits()\n",
    "X2 = digits.data\n",
    "Y2 = digits.target\n",
    "\n",
    "## Let's plot the data on the 2 first principal components\n",
    "from sklearn.decomposition import RandomizedPCA\n",
    "pca = RandomizedPCA(n_components=2)\n",
    "proj = pca.fit_transform(X2)\n",
    "plt.scatter(proj[:, 0], proj[:, 1], c=Y2)\n",
    "plt.colorbar()\n",
    "\n",
    "#so 0 and 1 seems to be sebarable (3 and 4 too)"
   ]
  },
  {
   "cell_type": "code",
   "execution_count": 472,
   "metadata": {
    "collapsed": false
   },
   "outputs": [
    {
     "name": "stdout",
     "output_type": "stream",
     "text": [
      "(360, 64)\n",
      "(360,)\n"
     ]
    },
    {
     "data": {
      "text/plain": [
       "<matplotlib.collections.PathCollection at 0x7f20fe9e7890>"
      ]
     },
     "execution_count": 472,
     "metadata": {},
     "output_type": "execute_result"
    },
    {
     "data": {
      "image/png": "[encoded data removed]",
      "text/plain": [
       "<matplotlib.figure.Figure at 0x7f20fe8abd50>"
      ]
     },
     "metadata": {},
     "output_type": "display_data"
    }
   ],
   "source": [
    "#Binary classification problem\n",
    "X2 = X2[Y2 < 2]\n",
    "Y2 = Y2[Y2 < 2]\n",
    "\n",
    "Y2[Y2 == 0] = -1\n",
    "\n",
    "print(X2.shape)\n",
    "print(Y2.shape)\n",
    "\n",
    "proj = pca.fit_transform(X2)\n",
    "plt.scatter(proj[Y2 > 0, 0], proj[Y2 > 0, 1], color='r')\n",
    "plt.scatter(proj[Y2 < 0, 0], proj[Y2 < 0, 1], color='g')\n",
    "#plt.scatter(proj[:, 0], proj[:, 1], c=Y2)\n",
    "#plt.colorbar()"
   ]
  },
  {
   "cell_type": "code",
   "execution_count": 397,
   "metadata": {
    "collapsed": false
   },
   "outputs": [],
   "source": [
    "# let's create a training and a test set\n",
    "from sklearn.cross_validation import train_test_split\n",
    "X_train, X_test, y_train, y_test = train_test_split(X2, Y2)\n"
   ]
  },
  {
   "cell_type": "code",
   "execution_count": 418,
   "metadata": {
    "collapsed": false
   },
   "outputs": [
    {
     "name": "stdout",
     "output_type": "stream",
     "text": [
      "Time elapsed 0.00618 \n"
     ]
    }
   ],
   "source": [
    "# scikit learn implementation\n",
    "alpha = 1\n",
    "from sklearn import linear_model\n",
    "logreg = linear_model.LogisticRegression(penalty='l2', C=alpha)\n",
    "import time as t\n",
    "tic = t.clock()\n",
    "logreg.fit(X_train, y_train)\n",
    "toc = t.clock()-tic\n",
    "y_pred = logreg.predict(X_test)\n",
    "\n",
    "print 'Time elapsed %.5f ' % toc\n",
    "#logreg.score(X_test,y_test)"
   ]
  },
  {
   "cell_type": "code",
   "execution_count": 403,
   "metadata": {
    "collapsed": false
   },
   "outputs": [
    {
     "name": "stdout",
     "output_type": "stream",
     "text": [
      "[[46  0]\n",
      " [ 0 44]]\n"
     ]
    }
   ],
   "source": [
    "from sklearn import metrics\n",
    "print(metrics.confusion_matrix(y_pred, y_test)) \n",
    "\n",
    "# on confirme donc 100% de bonne classification"
   ]
  },
  {
   "cell_type": "code",
   "execution_count": 419,
   "metadata": {
    "collapsed": false
   },
   "outputs": [
    {
     "name": "stdout",
     "output_type": "stream",
     "text": [
      "\n",
      "Lauching Newton solver with line search...\n",
      "   it    |   obj   \n",
      "       0 | 8.69076001e+01\n",
      "       1 | 4.84807395e+01\n",
      "       2 | 2.85000306e+01\n",
      "       3 | 1.71859460e+01\n",
      "       4 | 1.05353932e+01\n",
      "       5 | 6.54981158e+00\n",
      "       6 | 4.13269307e+00\n",
      "       7 | 2.65402221e+00\n",
      "       8 | 1.74421722e+00\n",
      "       9 | 1.18386321e+00\n",
      "      10 | 8.40638418e-01\n",
      "      11 | 6.32993660e-01\n",
      "      12 | 5.09847139e-01\n",
      "      13 | 4.39114509e-01\n",
      "      14 | 4.00585252e-01\n",
      "      15 | 3.81289919e-01\n",
      "      16 | 3.72721327e-01\n",
      "      17 | 3.69431718e-01\n",
      "      18 | 3.68336718e-01\n",
      "      19 | 3.68011323e-01\n",
      "Global minimum : 0.36801132308\n",
      "Time elapsed 10.66334 \n"
     ]
    }
   ],
   "source": [
    "# Own implementation (we choose a random w0)\n",
    "#w0=0.3 * np.ones(X1.shape[1])\n",
    "X_train2 = np.concatenate((X_train, np.ones((X_train.shape[0], 1))), axis=1)\n",
    "tic = t.clock()\n",
    "w, b, pobj = newton_logistic_intercept_with_linesearch(X_train2, y_train, alpha=alpha)\n",
    "toc = t.clock()-tic\n",
    "print 'Time elapsed %.5f ' % toc"
   ]
  },
  {
   "cell_type": "code",
   "execution_count": 412,
   "metadata": {
    "collapsed": false
   },
   "outputs": [
    {
     "name": "stdout",
     "output_type": "stream",
     "text": [
      "[[46  0]\n",
      " [ 0 44]]\n"
     ]
    }
   ],
   "source": [
    "#Predicted class\n",
    "y_pred = np.sign(np.dot(X_test,w.T)+b)\n",
    "print(metrics.confusion_matrix(y_pred, y_test)) "
   ]
  },
  {
   "cell_type": "markdown",
   "metadata": {},
   "source": [
    "## Comments\n",
    "- these data are not very well to compare the performance in term of classification error\n",
    "- however, we notice that the scikit-learn implementation is a lot faster probably because of it is optimized compare to our code"
   ]
  },
  {
   "cell_type": "code",
   "execution_count": 454,
   "metadata": {
    "collapsed": false
   },
   "outputs": [
    {
     "name": "stdout",
     "output_type": "stream",
     "text": [
      "\n",
      "Lauching Newton solver with line search...\n",
      "   it    |   obj   \n",
      "       0 | 4.62279327e+02\n",
      "       1 | 2.75394862e+02\n",
      "       2 | 1.73195836e+02\n",
      "       3 | 1.11924811e+02\n",
      "       4 | 7.35391242e+01\n",
      "       5 | 4.88456926e+01\n",
      "       6 | 3.26570793e+01\n",
      "       7 | 2.18941171e+01\n",
      "       8 | 1.46918917e+01\n",
      "       9 | 9.90570843e+00\n",
      "      10 | 6.78089667e+00\n",
      "      11 | 4.77176880e+00\n",
      "      12 | 3.48821703e+00\n",
      "      13 | 2.66609470e+00\n",
      "      14 | 2.14190059e+00\n",
      "      15 | 1.82186024e+00\n",
      "      16 | 1.64076059e+00\n",
      "      17 | 1.54593671e+00\n",
      "      18 | 1.50072337e+00\n",
      "      19 | 1.48185433e+00\n",
      "Global minimum : 1.48185433258\n",
      "\n",
      "Lauching Newton solver with line search...\n",
      "   it    |   obj   \n",
      "       0 | 5.01993538e+02\n",
      "       1 | 3.27813234e+02\n",
      "       2 | 2.29280524e+02\n",
      "       3 | 1.67386098e+02\n",
      "       4 | 1.26178880e+02\n",
      "       5 | 9.75161046e+01\n",
      "       6 | 7.68061057e+01\n",
      "       7 | 6.13752542e+01\n",
      "       8 | 4.97020851e+01\n",
      "       9 | 4.09201936e+01\n",
      "      10 | 3.43829838e+01\n",
      "      11 | 2.95840031e+01\n",
      "      12 | 2.62300470e+01\n",
      "      13 | 2.41080158e+01\n",
      "      14 | 2.29433047e+01\n",
      "      15 | 2.23996450e+01\n",
      "      16 | 2.21827564e+01\n",
      "      17 | 2.21075316e+01\n",
      "      18 | 2.20843045e+01\n",
      "      19 | 2.20777245e+01\n",
      "Global minimum : 22.0777244713\n",
      "\n",
      "Lauching Newton solver with line search...\n",
      "   it    |   obj   \n",
      "       0 | 4.69989660e+02\n",
      "       1 | 2.85929062e+02\n",
      "       2 | 1.84730252e+02\n",
      "       3 | 1.23278667e+02\n",
      "       4 | 8.38861442e+01\n",
      "       5 | 5.77014442e+01\n",
      "       6 | 3.98849443e+01\n",
      "       7 | 2.75974591e+01\n",
      "       8 | 1.90797677e+01\n",
      "       9 | 1.32378508e+01\n",
      "      10 | 9.32857704e+00\n",
      "      11 | 6.79134091e+00\n",
      "      12 | 5.20273433e+00\n",
      "      13 | 4.24465449e+00\n",
      "      14 | 3.68611250e+00\n",
      "      15 | 3.37309842e+00\n",
      "      16 | 3.21043211e+00\n",
      "      17 | 3.13632881e+00\n",
      "      18 | 3.10733372e+00\n",
      "      19 | 3.09745887e+00\n",
      "Global minimum : 3.09745887281\n",
      "\n",
      "Lauching Newton solver with line search...\n",
      "   it    |   obj   \n",
      "       0 | 5.01052684e+02\n",
      "       1 | 3.25381797e+02\n",
      "       2 | 2.24981060e+02\n",
      "       3 | 1.61453630e+02\n",
      "       4 | 1.19250030e+02\n",
      "       5 | 9.02824684e+01\n",
      "       6 | 6.98473109e+01\n",
      "       7 | 5.51973433e+01\n",
      "       8 | 4.47289176e+01\n",
      "       9 | 3.73446287e+01\n",
      "      10 | 3.21784629e+01\n",
      "      11 | 2.85838260e+01\n",
      "      12 | 2.61271106e+01\n",
      "      13 | 2.45444243e+01\n",
      "      14 | 2.36360361e+01\n",
      "      15 | 2.31901031e+01\n",
      "      16 | 2.30061514e+01\n",
      "      17 | 2.29418860e+01\n",
      "      18 | 2.29222131e+01\n",
      "      19 | 2.29167034e+01\n",
      "Global minimum : 22.9167034404\n",
      "\n",
      "Lauching Newton solver with line search...\n",
      "   it    |   obj   \n",
      "       0 | 4.66335008e+02\n",
      "       1 | 2.81461906e+02\n",
      "       2 | 1.80383578e+02\n",
      "       3 | 1.19491786e+02\n",
      "       4 | 8.08815460e+01\n",
      "       5 | 5.55282703e+01\n",
      "       6 | 3.84597473e+01\n",
      "       7 | 2.68029859e+01\n",
      "       8 | 1.88204392e+01\n",
      "       9 | 1.34120682e+01\n",
      "      10 | 9.82414455e+00\n",
      "      11 | 7.49967245e+00\n",
      "      12 | 6.02638420e+00\n",
      "      13 | 5.11046846e+00\n",
      "      14 | 4.55257409e+00\n",
      "      15 | 4.22437310e+00\n",
      "      16 | 4.04229280e+00\n",
      "      17 | 3.95141631e+00\n",
      "      18 | 3.91353906e+00\n",
      "      19 | 3.90037175e+00\n",
      "Global minimum : 3.90037174562\n",
      "\n",
      "Lauching Newton solver with line search...\n",
      "   it    |   obj   \n",
      "       0 | 4.74682348e+02\n",
      "       1 | 2.90543292e+02\n",
      "       2 | 1.88297724e+02\n",
      "       3 | 1.26172875e+02\n",
      "       4 | 8.68075613e+01\n",
      "       5 | 6.11644337e+01\n",
      "       6 | 4.40235096e+01\n",
      "       7 | 3.22486181e+01\n",
      "       8 | 2.39452009e+01\n",
      "       9 | 1.79731691e+01\n",
      "      10 | 1.36610422e+01\n",
      "      11 | 1.06311340e+01\n",
      "      12 | 8.64181814e+00\n",
      "      13 | 7.46029528e+00\n",
      "      14 | 6.83425281e+00\n",
      "      15 | 6.53736295e+00\n",
      "      16 | 6.41156611e+00\n",
      "      17 | 6.36450486e+00\n",
      "      18 | 6.34897580e+00\n",
      "      19 | 6.34436295e+00\n",
      "Global minimum : 6.34436295224\n",
      "\n",
      "Lauching Newton solver with line search...\n",
      "   it    |   obj   \n",
      "       0 | 4.76451311e+02\n",
      "       1 | 2.92604333e+02\n",
      "       2 | 1.90099676e+02\n",
      "       3 | 1.27462903e+02\n",
      "       4 | 8.74992968e+01\n",
      "       5 | 6.13473728e+01\n",
      "       6 | 4.39266673e+01\n",
      "       7 | 3.21074731e+01\n",
      "       8 | 2.38553279e+01\n",
      "       9 | 1.78557911e+01\n",
      "      10 | 1.34141617e+01\n",
      "      11 | 1.02661133e+01\n",
      "      12 | 8.14340755e+00\n",
      "      13 | 6.79173164e+00\n",
      "      14 | 5.98395128e+00\n",
      "      15 | 5.52851855e+00\n",
      "      16 | 5.28513170e+00\n",
      "      17 | 5.16489714e+00\n",
      "      18 | 5.11261478e+00\n",
      "      19 | 5.09306805e+00\n",
      "Global minimum : 5.09306805143\n",
      "\n",
      "Lauching Newton solver with line search...\n",
      "   it    |   obj   \n",
      "       0 | 4.70726354e+02\n",
      "       1 | 2.86971872e+02\n",
      "       2 | 1.86070142e+02\n",
      "       3 | 1.25066086e+02\n",
      "       4 | 8.63175107e+01\n",
      "       5 | 6.08868843e+01\n",
      "       6 | 4.37552332e+01\n",
      "       7 | 3.19485746e+01\n",
      "       8 | 2.36722701e+01\n",
      "       9 | 1.78343138e+01\n",
      "      10 | 1.37380319e+01\n",
      "      11 | 1.08899025e+01\n",
      "      12 | 8.95305618e+00\n",
      "      13 | 7.69106191e+00\n",
      "      14 | 6.91986264e+00\n",
      "      15 | 6.48359280e+00\n",
      "      16 | 6.24895826e+00\n",
      "      17 | 6.12432029e+00\n",
      "      18 | 6.06211741e+00\n",
      "      19 | 6.03643192e+00\n",
      "Global minimum : 6.03643192018\n",
      "\n",
      "Lauching Newton solver with line search...\n",
      "   it    |   obj   \n",
      "       0 | 5.05102316e+02\n",
      "       1 | 3.35061471e+02\n",
      "       2 | 2.40998602e+02\n",
      "       3 | 1.83361892e+02\n",
      "       4 | 1.46161621e+02\n",
      "       5 | 1.21322414e+02\n",
      "       6 | 1.04343397e+02\n",
      "       7 | 9.26179883e+01\n",
      "       8 | 8.45865917e+01\n",
      "       9 | 7.92067408e+01\n",
      "      10 | 7.57134172e+01\n",
      "      11 | 7.35562844e+01\n",
      "      12 | 7.23557866e+01\n",
      "      13 | 7.17991315e+01\n",
      "      14 | 7.15891597e+01\n",
      "      15 | 7.15219058e+01\n",
      "      16 | 7.15025683e+01\n",
      "      17 | 7.14973559e+01\n",
      "      18 | 7.14960006e+01\n",
      "      19 | 7.14956550e+01\n",
      "Global minimum : 71.4956549583\n",
      "\n",
      "Lauching Newton solver with line search...\n",
      "   it    |   obj   \n",
      "       0 | 5.05538467e+02\n",
      "       1 | 3.32350223e+02\n",
      "       2 | 2.33980672e+02\n",
      "       3 | 1.72078549e+02\n",
      "       4 | 1.30881819e+02\n",
      "       5 | 1.02158702e+02\n",
      "       6 | 8.11932081e+01\n",
      "       7 | 6.52839490e+01\n",
      "       8 | 5.30547581e+01\n",
      "       9 | 4.40367799e+01\n",
      "      10 | 3.76559239e+01\n",
      "      11 | 3.31713143e+01\n",
      "      12 | 3.00847155e+01\n",
      "      13 | 2.80995081e+01\n",
      "      14 | 2.69609579e+01\n",
      "      15 | 2.64035974e+01\n",
      "      16 | 2.61782510e+01\n",
      "      17 | 2.61021948e+01\n",
      "      18 | 2.60796537e+01\n",
      "      19 | 2.60734794e+01\n",
      "Global minimum : 26.0734793766\n"
     ]
    }
   ],
   "source": [
    "# Let's classify others digit (separer 7 des autres)\n",
    "\n",
    "\n",
    "acc_sci = []\n",
    "acc_own = []\n",
    "for d in range(np.max(10)):\n",
    "    digits = datasets.load_digits()\n",
    "    X2 = digits.data\n",
    "    Y2 = digits.target\n",
    "    Y2[Y2!=d]=-1\n",
    "    Y2[Y2==d]=1\n",
    "\n",
    "    X_train, X_test, y_train, y_test = train_test_split(X2, Y2)\n",
    "    #print X_test.shape\n",
    "    #print y_test.shape\n",
    "    # scikit\n",
    "    logreg = linear_model.LogisticRegression(penalty='l2', C=alpha)\n",
    "    logreg.fit(X_train, y_train)\n",
    "    y_pred = logreg.predict(X_test)\n",
    "    #print(metrics.confusion_matrix(y_pred, y_test)) \n",
    "    acc_sci.append(metrics.accuracy_score(y_pred, y_test))\n",
    "    X_train2 = np.concatenate((X_train, np.ones((X_train.shape[0], 1))), axis=1)\n",
    "    w, b, pobj = newton_logistic_intercept_with_linesearch(X_train2, y_train, alpha=alpha)\n",
    "    y_pred = np.sign(np.dot(X_test,w.T)+b)\n",
    "    acc_own.append(metrics.accuracy_score(y_pred, y_test))\n"
   ]
  },
  {
   "cell_type": "code",
   "execution_count": 458,
   "metadata": {
    "collapsed": false
   },
   "outputs": [
    {
     "data": {
      "text/plain": [
       "<matplotlib.legend.Legend at 0x7f210411fc10>"
      ]
     },
     "execution_count": 458,
     "metadata": {},
     "output_type": "execute_result"
    },
    {
     "data": {
      "image/png": "[encoded data removed]",
      "text/plain": [
       "<matplotlib.figure.Figure at 0x7f21041a3ed0>"
      ]
     },
     "metadata": {},
     "output_type": "display_data"
    }
   ],
   "source": [
    "# plot\n",
    "plt.figure()\n",
    "plt.plot(acc_sci, label='Scikit learn')\n",
    "plt.plot(acc_own, label='own implementation')\n",
    "plt.legend(loc='best')"
   ]
  },
  {
   "cell_type": "code",
   "execution_count": 478,
   "metadata": {
    "collapsed": false
   },
   "outputs": [
    {
     "data": {
      "text/plain": [
       "<matplotlib.legend.Legend at 0x7f20febb2210>"
      ]
     },
     "execution_count": 478,
     "metadata": {},
     "output_type": "execute_result"
    },
    {
     "data": {
      "image/png": "[encoded data removed]",
      "text/plain": [
       "<matplotlib.figure.Figure at 0x7f20fee69510>"
      ]
     },
     "metadata": {},
     "output_type": "display_data"
    }
   ],
   "source": [
    "fig, ax = plt.subplots()\n",
    "rects1 = ax.bar(np.arange(10),acc_sci,width=0.3, color='r')\n",
    "rects2 = ax.bar(np.arange(10)+0.3, acc_own, width=0.3, color='y')\n",
    "\n",
    "ax.set_ylabel('accuracy score')\n",
    "ax.set_title('Scores by implementation of the algorithm')\n",
    "ax.set_xticks(np.arange(10)+0.3)\n",
    "\n",
    "ax.set_xticklabels(('0','1', '2', '3', '4', '5', '6', '7', '8','9'))\n",
    "ax.legend((rects1[0], rects2[0]), ('Scikit-learn', 'Own'),loc='center right')"
   ]
  },
  {
   "cell_type": "code",
   "execution_count": 467,
   "metadata": {
    "collapsed": false
   },
   "outputs": [
    {
     "name": "stdout",
     "output_type": "stream",
     "text": [
      "0.986444444444\n",
      "0.987333333333\n"
     ]
    }
   ],
   "source": [
    "print np.mean(acc_sci)\n",
    "print np.mean(acc_own)"
   ]
  },
  {
   "cell_type": "markdown",
   "metadata": {},
   "source": [
    "## Comments\n",
    "    - We notice that the 2 implementations have pretty much the same performance in terms of classification errors. Our own implementation is sligthly better"
   ]
  }
 ],
 "metadata": {
  "anaconda-cloud": {},
  "kernelspec": {
   "display_name": "Python 2",
   "language": "python",
   "name": "python2"
  },
  "language_info": {
   "codemirror_mode": {
    "name": "ipython",
    "version": 2
   },
   "file_extension": ".py",
   "mimetype": "text/x-python",
   "name": "python",
   "nbconvert_exporter": "python",
   "pygments_lexer": "ipython2",
   "version": "2.7.12"
  }
 },
 "nbformat": 4,
 "nbformat_minor": 0
}
