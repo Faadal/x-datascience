{
 "cells": [
  {
   "cell_type": "markdown",
   "metadata": {},
   "source": [
    "# Logistic and linear regression with deterministic and stochastic first order methods\n",
    "\n",
    "    TP 3 : Optimisation - DataScience Master\n",
    "    Authors : Stéphane Gaiffas, Alexandre Gramfort\n",
    "   \n",
    "The aim of this TP is to implement and compare various batch and stochastic algorithms for logistic and ridge regression. Methods compared are gradient descent, accelerated gradient descent, L-BFGS, conjugate gradient for batch approaches and stochastic gradient descent (SGD), stochastic averaged gradient (SAG) and stochastic variance reduced gradient (SVRG) for the online approaches.\n",
    "\n",
    "Note that we consider as use-cases logistic and linear regression with ridge penalization only, although most of the algorithms below can be used with a general proximal operator and non-smooth regularizations.\n",
    "\n",
    "This work should be done by pairs of students. One document for each pair of students should be sent to:\n",
    "\n",
    "stephane.gaiffas@cmap.polytechnique.fr\n",
    "\n",
    "**PLEASE use as object/title for your email \"TP3-DS-Optim\"**"
   ]
  },
  {
   "cell_type": "markdown",
   "metadata": {},
   "source": [
    "### Table of content\n",
    "\n",
    "[1. Loss functions, gradients and step-sizes](#loss)<br>\n",
    "[2. Generate a dataset](#data)<br>\n",
    "[3. Deterministic methods](#batch)<br>\n",
    "[4. Stochastic methods](#stoc)<br>\n",
    "[5. Numerical comparison](#comp)<br>\n",
    "[6. Conclusion](#conc)<br>"
   ]
  },
  {
   "cell_type": "code",
   "execution_count": 33,
   "metadata": {
    "collapsed": true
   },
   "outputs": [],
   "source": [
    "%matplotlib inline"
   ]
  },
  {
   "cell_type": "code",
   "execution_count": 34,
   "metadata": {
    "collapsed": false
   },
   "outputs": [],
   "source": [
    "import numpy as np\n",
    "from scipy.linalg import norm\n",
    "import matplotlib.pyplot as plt"
   ]
  },
  {
   "cell_type": "markdown",
   "metadata": {},
   "source": [
    "<a id='loss'></a>\n",
    "## 1. Loss functions, gradients and step-sizes\n",
    "\n",
    "We want to minimize\n",
    "$$\n",
    "\\frac 1n \\sum_{i=1}^n \\ell(x_i^\\top \\theta, y_i) + \\frac \\lambda 2 \\|\\theta\\|_2^2\n",
    "$$\n",
    "where\n",
    "- $\\ell(z, y) = \\frac 12 (y - z)^2$ (least-squares regression)\n",
    "- $\\ell(z, y) = \\log(1 + \\exp(-yz))$ (logistic regression).\n",
    "\n",
    "We write it as a a minimization problem of the form\n",
    "$$\n",
    "\\frac 1n \\sum_{i=1}^n f_i(\\theta)\n",
    "$$\n",
    "where\n",
    "$$\n",
    "f_i(\\theta) = \\ell(x_i^\\top \\theta, y_i) + \\frac \\lambda 2 \\|\\theta\\|_2^2.\n",
    "$$\n",
    "\n",
    "For both cases, the gradients are\n",
    "$$\n",
    "\\nabla f_i(\\theta) = (x_i^\\top \\theta - y_i) x_i + \\lambda \\theta\n",
    "$$\n",
    "and\n",
    "$$\n",
    "\\nabla f_i(\\theta) = - \\frac{y_i}{1 + \\exp(y_i x_i^\\top \\theta)} x_i + \\lambda \\theta.\n",
    "$$\n",
    "\n",
    "Let us recall also that theoretical step-size for the full-gradient method is $1 / L$, where $L$ is the Lipshitz constant of $\\nabla f$. It is given by\n",
    "\n",
    "$$\n",
    "L = \\frac{ \\|\\mathbf X^\\top \\mathbf X \\|_{\\text{op}}}{n}\n",
    "$$\n",
    "for the least-squares case and by\n",
    "$$\n",
    "L = \\frac{\\sum_{i=1, \\ldots, n} \\| x_i \\|_\\infty^2}{4n}\n",
    "$$\n",
    "for the logistic case."
   ]
  },
  {
   "cell_type": "markdown",
   "metadata": {},
   "source": [
    "We now introduce a class that will be used for the solvers."
   ]
  },
  {
   "cell_type": "code",
   "execution_count": 35,
   "metadata": {
    "collapsed": true
   },
   "outputs": [],
   "source": [
    "from scipy.linalg import svd\n",
    "\n",
    "class LinReg(object):\n",
    "    \"\"\"A class for the least-squares regression with\n",
    "    Ridge penalization\"\"\"\n",
    "\n",
    "    def __init__(self, A, b, lbda):\n",
    "        self.A = A\n",
    "        self.b = b\n",
    "        self.n, self.d = A.shape\n",
    "        self.lbda = lbda\n",
    "    \n",
    "    def grad(self, x):\n",
    "        return A.T.dot(A.dot(x) - b) / self.n + self.lbda * x\n",
    "\n",
    "    def loss(self, x):\n",
    "        return norm(A.dot(x) - b) ** 2 / (2. * self.n) + self.lbda * norm(x) ** 2 / 2.\n",
    "    \n",
    "    def grad_i(self, i, x):\n",
    "        a_i = A[i]\n",
    "        return (a_i.dot(x) - b[i]) * a_i + self.lbda * x\n",
    "\n",
    "    def lipschitz_constant(self):\n",
    "        \"\"\"Return the Lipschitz constant of the gradient\"\"\"\n",
    "        L = np.max(svd(self.A, full_matrices=False)[1]) ** 2 / self.n + self.lbda\n",
    "        return L"
   ]
  },
  {
   "cell_type": "code",
   "execution_count": 36,
   "metadata": {
    "collapsed": false
   },
   "outputs": [],
   "source": [
    "class LogReg(object):\n",
    "    \"\"\"A class for the logistic regression with L2 penalization\"\"\"\n",
    "\n",
    "    def __init__(self, A, b, lbda):\n",
    "        self.A = A\n",
    "        self.b = b\n",
    "        self.n, self.d = A.shape\n",
    "        self.lbda = lbda #Lambda\n",
    "    \n",
    "    def grad(self, x):\n",
    "        bAx = self.b * np.dot(self.A, x)\n",
    "        temp = 1. / (1. + np.exp(bAx))\n",
    "        grad = - np.dot(A.T, self.b * temp) / self.n + self.lbda * x\n",
    "        return grad\n",
    "\n",
    "    def loss(self, x):\n",
    "        bAx = self.b * np.dot(self.A, x)\n",
    "        return np.mean(np.log(1. + np.exp(- bAx))) + self.lbda * norm(x) ** 2 / 2.\n",
    "    \n",
    "    def grad_i(self, i, x):\n",
    "        grad = - A[i] * self.b[i] / (1. + np.exp(self.b[i] * np.dot(self.A[i], x)))\n",
    "        grad += self.lbda * x\n",
    "        return grad\n",
    "\n",
    "    def lipschitz_constant(self):\n",
    "        \"\"\"Return the Lipschitz constant of the gradient\"\"\"\n",
    "        L = np.sum(np.max(self.A ** 2, axis=1)) / (4. * self.n) + self.lbda\n",
    "        return L"
   ]
  },
  {
   "cell_type": "markdown",
   "metadata": {},
   "source": [
    "<a id='data'></a>\n",
    "## 2. Generate a dataset\n",
    "\n",
    "We generate datasets for the least-squares and the logistic cases. First we define a function for the least-squares case."
   ]
  },
  {
   "cell_type": "code",
   "execution_count": 37,
   "metadata": {
    "collapsed": false
   },
   "outputs": [],
   "source": [
    "from numpy.random import multivariate_normal, randn\n",
    "from scipy.linalg.special_matrices import toeplitz\n",
    "\n",
    "    \n",
    "def simu_linreg(x, n, std=1., corr=0.5):\n",
    "    \"\"\"\n",
    "    Simulation of the least-squares problem\n",
    "    \n",
    "    Parameters\n",
    "    ----------\n",
    "    x : np.ndarray, shape=(d,)\n",
    "        The coefficients of the model\n",
    "    \n",
    "    n : int\n",
    "        Sample size\n",
    "    \n",
    "    std : float, default=1.\n",
    "        Standard-deviation of the noise\n",
    "\n",
    "    corr : float, default=0.5\n",
    "        Correlation of the features matrix\n",
    "    \"\"\"    \n",
    "    d = x.shape[0]\n",
    "    cov = toeplitz(corr ** np.arange(0, d))\n",
    "    A = multivariate_normal(np.zeros(d), cov, size=n)\n",
    "    noise = std * randn(n)\n",
    "    b = A.dot(x_truth) + noise\n",
    "    return A, b"
   ]
  },
  {
   "cell_type": "code",
   "execution_count": 38,
   "metadata": {
    "collapsed": false
   },
   "outputs": [],
   "source": [
    "def simu_logreg(x, n, std=1., corr=0.5):\n",
    "    \"\"\"\n",
    "    Simulation of the logistic regression problem\n",
    "    \n",
    "    Parameters\n",
    "    ----------\n",
    "    x : np.ndarray, shape=(d,)\n",
    "        The coefficients of the model\n",
    "    \n",
    "    n : int\n",
    "        Sample size\n",
    "    \n",
    "    std : float, default=1.\n",
    "        Standard-deviation of the noise\n",
    "\n",
    "    corr : float, default=0.5\n",
    "        Correlation of the features matrix\n",
    "    \"\"\"    \n",
    "    A, b = simu_linreg(x, n, std=1., corr=0.5)\n",
    "    return A, np.sign(b)"
   ]
  },
  {
   "cell_type": "code",
   "execution_count": 39,
   "metadata": {
    "collapsed": false
   },
   "outputs": [],
   "source": [
    "d = 50\n",
    "n = 10000\n",
    "idx = np.arange(d)\n",
    "\n",
    "\n",
    "corr=0.5\n",
    "#corr=0.9\n",
    "lbda = 1. / n ** (0.5)\n",
    "#lbda = 1. / n\n",
    "\n",
    "# Ground truth coefficients of the model\n",
    "x_truth = (-1) ** (idx - 1) * np.exp(-idx / 10.)\n",
    "\n",
    "#A, b = simu_linreg(x_truth, n, std=1., corr=0.7)\n",
    "A, b = simu_linreg(x_truth, n, std=1., corr=corr)\n"
   ]
  },
  {
   "cell_type": "code",
   "execution_count": 40,
   "metadata": {
    "collapsed": false
   },
   "outputs": [
    {
     "data": {
      "image/png": "[encoded data removed]",
      "text/plain": [
       "<matplotlib.figure.Figure at 0x7f48276dab90>"
      ]
     },
     "metadata": {},
     "output_type": "display_data"
    }
   ],
   "source": [
    "plt.stem(x_truth);"
   ]
  },
  {
   "cell_type": "markdown",
   "metadata": {},
   "source": [
    "### Numerically check loss and gradient"
   ]
  },
  {
   "cell_type": "code",
   "execution_count": 41,
   "metadata": {
    "collapsed": false,
    "scrolled": false
   },
   "outputs": [
    {
     "data": {
      "text/plain": [
       "3.2146676084200925e-06"
      ]
     },
     "execution_count": 41,
     "metadata": {},
     "output_type": "execute_result"
    }
   ],
   "source": [
    "from scipy.optimize import check_grad\n",
    "\n",
    "#lbda = 1. / n ** (0.5)\n",
    "#lbda = 1. / n\n",
    "model = LinReg(A, b, lbda)\n",
    "\n",
    "# Check that the gradient and the loss numerically match\n",
    "check_grad(model.loss, model.grad, np.random.randn(d))"
   ]
  },
  {
   "cell_type": "code",
   "execution_count": 42,
   "metadata": {
    "collapsed": false
   },
   "outputs": [
    {
     "data": {
      "text/plain": [
       "1.5757225043372829e-07"
      ]
     },
     "execution_count": 42,
     "metadata": {},
     "output_type": "execute_result"
    }
   ],
   "source": [
    "#lbda = 1. / n ** (0.5)\n",
    "#lbda = 1. / n\n",
    "model = LogReg(A, b, lbda)\n",
    "\n",
    "# Check that the gradient and the loss numerically match\n",
    "check_grad(model.loss, model.grad, np.random.randn(d))"
   ]
  },
  {
   "cell_type": "markdown",
   "metadata": {},
   "source": [
    "### Choice of the model"
   ]
  },
  {
   "cell_type": "code",
   "execution_count": 43,
   "metadata": {
    "collapsed": true
   },
   "outputs": [],
   "source": [
    "#model = LinReg(A, b, lbda)\n",
    "model = LogReg(A, b, lbda)"
   ]
  },
  {
   "cell_type": "markdown",
   "metadata": {},
   "source": [
    "### Compute the theoretical step-size for FISTA"
   ]
  },
  {
   "cell_type": "code",
   "execution_count": 44,
   "metadata": {
    "collapsed": false,
    "scrolled": true
   },
   "outputs": [
    {
     "name": "stdout",
     "output_type": "stream",
     "text": [
      "step = 0.634165797957\n"
     ]
    }
   ],
   "source": [
    "from scipy.linalg import svd\n",
    "\n",
    "step = 1. / model.lipschitz_constant() #pour gradient batch\n",
    "\n",
    "print(\"step = %s\" % step)"
   ]
  },
  {
   "cell_type": "markdown",
   "metadata": {},
   "source": [
    "### Get a very precise minimum to compute distances to minimum"
   ]
  },
  {
   "cell_type": "code",
   "execution_count": 45,
   "metadata": {
    "collapsed": false
   },
   "outputs": [
    {
     "name": "stdout",
     "output_type": "stream",
     "text": [
      "0.409098447005\n"
     ]
    }
   ],
   "source": [
    "from scipy.optimize import fmin_l_bfgs_b\n",
    "\n",
    "x_init = np.zeros(d)\n",
    "x_min, f_min, _ = fmin_l_bfgs_b(model.loss, x_init, model.grad, pgtol=1e-20)\n",
    "print(f_min)"
   ]
  },
  {
   "cell_type": "markdown",
   "metadata": {},
   "source": [
    "<a id='batch'></a> \n",
    "\n",
    "## 3. Deterministic methods (ISTA, FISTA, BGFS)\n",
    "\n",
    "Before implementing the logic of GD, ISTA or FISTA we provide a simple function to be called after each iteration to gather and display a few metrics about current the minimization process."
   ]
  },
  {
   "cell_type": "code",
   "execution_count": 46,
   "metadata": {
    "collapsed": false
   },
   "outputs": [],
   "source": [
    "def inspector(loss_fun, x_real, verbose=False):\n",
    "    \"\"\"A closure called to update metrics after each iteration.\"\"\"\n",
    "    objectives = []\n",
    "    errors = []\n",
    "    it = [0] # This is a hack to be able to modify 'it' inside the closure.\n",
    "    def inspector_cl(xk):\n",
    "        obj = loss_fun(xk) - f_min\n",
    "        err = norm(xk - x_min)\n",
    "        objectives.append(obj)\n",
    "        errors.append(err)\n",
    "        if verbose == True:\n",
    "            if it[0] == 0:\n",
    "                print(' | '.join([name.center(8) for name in [\"it\", \"obj\", \"err\"]]))\n",
    "            if it[0] % (n_iter / 5) == 0:\n",
    "                print(' | '.join([(\"%d\" % it[0]).rjust(8), (\"%.2e\" % obj).rjust(8), (\"%.2e\" % err).rjust(8)]))\n",
    "            it[0] += 1\n",
    "    inspector_cl.obj = objectives\n",
    "    inspector_cl.err = errors\n",
    "    return inspector_cl"
   ]
  },
  {
   "cell_type": "code",
   "execution_count": 47,
   "metadata": {
    "collapsed": true
   },
   "outputs": [],
   "source": [
    "# Number of iterations\n",
    "n_iter = 50"
   ]
  },
  {
   "cell_type": "markdown",
   "metadata": {},
   "source": [
    "### ISTA\n",
    "\n",
    "We recall that an iteration of ISTA (actually a batch gradient here) writes\n",
    "\n",
    "$$\n",
    "x_{k+1} \\gets x_k - \\eta \\nabla f(x_k)\n",
    "$$\n",
    "\n",
    "where $\\eta$ is the step-size (that can be chosen in theory as $\\eta = 1 / L$, with $L$ the Lipshitz constant of $\\nabla f$, see above)\n",
    "\n",
    "*QUESTION*:\n",
    "- Fill in the iteration of the Ista solver in the cell below"
   ]
  },
  {
   "cell_type": "code",
   "execution_count": 48,
   "metadata": {
    "collapsed": false
   },
   "outputs": [],
   "source": [
    "def ista(x_init, grad, n_iter=100, step=1., callback=None): # on ne fait pas de critere d arret pr l instant on va comparer su un # d iterations donne\n",
    "    \"\"\"ISTA algorithm.\"\"\"\n",
    "    x = x_init.copy()\n",
    "    \n",
    "    for _ in range(n_iter):\n",
    "        \n",
    "        ### TODO\n",
    "        x_new = x - step*grad(x)\n",
    "        x = x_new \n",
    "        ### END TODO\n",
    "\n",
    "        # Update metrics after each iteration.\n",
    "        if callback: \n",
    "            callback(x)\n",
    "\n",
    "    return x"
   ]
  },
  {
   "cell_type": "code",
   "execution_count": 49,
   "metadata": {
    "collapsed": false,
    "scrolled": false
   },
   "outputs": [
    {
     "name": "stdout",
     "output_type": "stream",
     "text": [
      "   it    |   obj    |   err   \n",
      "       0 | 1.72e-01 | 2.31e+00\n",
      "      10 | 4.50e-02 | 1.45e+00\n",
      "      20 | 2.16e-02 | 1.06e+00\n",
      "      30 | 1.19e-02 | 8.11e-01\n",
      "      40 | 6.99e-03 | 6.34e-01\n"
     ]
    }
   ],
   "source": [
    "step = 1. / model.lipschitz_constant()\n",
    "x_init = np.zeros(d)\n",
    "ista_inspector = inspector(model.loss, x_truth, verbose=True)\n",
    "x_ista = ista(x_init, model.grad, n_iter, step, callback=ista_inspector)"
   ]
  },
  {
   "cell_type": "markdown",
   "metadata": {},
   "source": [
    "### FISTA\n",
    "\n",
    "We recall that an iteration of FISTA (actually an accelerated batch gradient here) writes\n",
    "\n",
    "$$\n",
    "\\begin{align*}\n",
    "x_{k+1} &\\gets y_k - \\eta \\nabla f(y_k) \\\\\n",
    "t_{k+1} &\\gets \\frac{1 + \\sqrt{1 + 4 t_k^2}}{2} \\\\\n",
    "y_{k+1} &\\gets x_{k+1} + \\frac{t_k-1}{t_{k+1}} (x_{k+1} - x_k)\n",
    "\\end{align*}\n",
    "$$\n",
    "\n",
    "where $\\eta$ is the step-size (that can be chosen in theory as $\\eta = 1 / L$, with $L$ the Lipshitz constant of $\\nabla f$, see above)\n",
    "\n",
    "*QUESTION*:\n",
    "- Fill in the iteration of the Fista solver in the cell below"
   ]
  },
  {
   "cell_type": "code",
   "execution_count": 50,
   "metadata": {
    "collapsed": false
   },
   "outputs": [],
   "source": [
    "def fista(x_init, grad, n_iter=100, step=1., callback=None):\n",
    "    \"\"\"FISTA algorithm.\"\"\"\n",
    "    x = x_init.copy()\n",
    "    y = x_init.copy()\n",
    "    t = 1.\n",
    "\n",
    "    for _ in range(n_iter):\n",
    "        \n",
    "        ### TODO\n",
    "        x_new = y - step*grad(y)\n",
    "        t_new = (1. + float(np.sqrt(1 + 4*(t**2))))/2.\n",
    "        #t_new = (1. + (1. + 4. * t**2)) ** (0.5) / 2.\n",
    "        y[:] = x_new + (x_new-x)*(t-1)/t_new\n",
    "        x=x_new\n",
    "        t=t_new\n",
    "\n",
    "        ### END TODO\n",
    "\n",
    "        # Update metrics after each iteration.\n",
    "        if callback: \n",
    "            callback(x)\n",
    "    return x"
   ]
  },
  {
   "cell_type": "code",
   "execution_count": 51,
   "metadata": {
    "collapsed": false
   },
   "outputs": [
    {
     "name": "stdout",
     "output_type": "stream",
     "text": [
      "   it    |   obj    |   err   \n",
      "       0 | 1.72e-01 | 2.31e+00\n",
      "      10 | 1.35e-02 | 8.60e-01\n",
      "      20 | 4.57e-05 | 5.35e-02\n",
      "      30 | 3.78e-04 | 1.59e-01\n",
      "      40 | 5.25e-05 | 5.86e-02\n"
     ]
    }
   ],
   "source": [
    "step = 1. / model.lipschitz_constant()\n",
    "x_init = np.zeros(d)\n",
    "fista_inspector = inspector(model.loss, x_truth, verbose=True)\n",
    "x_fista = fista(x_init, model.grad, n_iter, step, callback=fista_inspector)# on appelle callback a toute les iterations et pr les SGD toutes les n iterations"
   ]
  },
  {
   "cell_type": "markdown",
   "metadata": {},
   "source": [
    "### scipy.optimize's conjuguate gradient\n",
    "\n",
    "Let's compare with ``scipy.optimize``'s conjuguate gradient solver."
   ]
  },
  {
   "cell_type": "code",
   "execution_count": 52,
   "metadata": {
    "collapsed": false,
    "scrolled": false
   },
   "outputs": [
    {
     "name": "stdout",
     "output_type": "stream",
     "text": [
      "   it    |   obj    |   err   \n",
      "       0 | 1.39e-01 | 2.15e+00\n",
      "      10 | 2.66e-05 | 3.41e-02\n",
      "      20 | 1.25e-09 | 3.08e-04\n",
      "Optimization terminated successfully.\n",
      "         Current function value: 0.409098\n",
      "         Iterations: 22\n",
      "         Function evaluations: 48\n",
      "         Gradient evaluations: 48\n"
     ]
    }
   ],
   "source": [
    "# Conjugate gradient descent\n",
    "from scipy.optimize import fmin_cg\n",
    "\n",
    "x_init = np.zeros(d)\n",
    "cg_inspector = inspector(model.loss, x_truth, verbose=True)\n",
    "x_cg = fmin_cg(model.loss, x_init, model.grad, maxiter=n_iter, callback=cg_inspector)"
   ]
  },
  {
   "cell_type": "markdown",
   "metadata": {},
   "source": [
    "### scipy.optimize's BFGS\n",
    "\n",
    "Let's compare with ``scipy.optimize``'s BFGS solver"
   ]
  },
  {
   "cell_type": "code",
   "execution_count": 53,
   "metadata": {
    "collapsed": false,
    "scrolled": true
   },
   "outputs": [
    {
     "name": "stdout",
     "output_type": "stream",
     "text": [
      "   it    |   obj    |   err   \n",
      "       0 | 1.02e-01 | 1.75e+00\n",
      "      10 | 7.49e-07 | 4.25e-03\n"
     ]
    }
   ],
   "source": [
    "# Conjugate gradient descent\n",
    "from scipy.optimize import fmin_l_bfgs_b\n",
    "\n",
    "x_init = np.zeros(d)\n",
    "bfgs_inspector = inspector(model.loss, x_truth, verbose=True)\n",
    "x_bfgs, _, _ = fmin_l_bfgs_b(model.loss, x_init, model.grad, maxiter=n_iter, callback=bfgs_inspector)"
   ]
  },
  {
   "cell_type": "markdown",
   "metadata": {},
   "source": [
    "### A first numerical comparison of deterministic solvers"
   ]
  },
  {
   "cell_type": "code",
   "execution_count": 54,
   "metadata": {
    "collapsed": false,
    "scrolled": false
   },
   "outputs": [
    {
     "data": {
      "image/png": "[encoded data removed]",
      "text/plain": [
       "<matplotlib.figure.Figure at 0x7f4827960050>"
      ]
     },
     "metadata": {},
     "output_type": "display_data"
    }
   ],
   "source": [
    "plt.figure(figsize=(15, 5))\n",
    "\n",
    "plt.subplot(1, 2, 1)\n",
    "\n",
    "inspectors = [ista_inspector, fista_inspector, cg_inspector, bfgs_inspector]\n",
    "\n",
    "solvers = [\"ISTA\", \"FISTA\", \"CG\", \"BGFS\"]\n",
    "\n",
    "for insp in inspectors:\n",
    "    plt.plot(insp.obj, lw=2)\n",
    "    plt.title(\"Loss\", fontsize=18)\n",
    "    plt.xlabel(\"iteration\", fontsize=14)\n",
    "    plt.ylabel(\"objective\", fontsize=14)\n",
    "    plt.yscale(\"log\")\n",
    "\n",
    "plt.legend(solvers)\n",
    "\n",
    "plt.subplot(1, 2, 2)\n",
    "\n",
    "for insp in inspectors:\n",
    "    plt.plot(insp.err, lw=2)\n",
    "    plt.title(\"Loss\", fontsize=18)\n",
    "    plt.xlabel(\"iteration\", fontsize=14)\n",
    "    plt.ylabel(\"distance\", fontsize=14)\n",
    "    plt.yscale(\"log\")\n",
    "\n",
    "plt.legend(solvers);"
   ]
  },
  {
   "cell_type": "code",
   "execution_count": 55,
   "metadata": {
    "collapsed": false,
    "scrolled": false
   },
   "outputs": [
    {
     "data": {
      "image/png": "[encoded data removed]",
      "text/plain": [
       "<matplotlib.figure.Figure at 0x7f4827d73990>"
      ]
     },
     "metadata": {},
     "output_type": "display_data"
    }
   ],
   "source": [
    "plt.figure(figsize=(15, 5))\n",
    "\n",
    "xs = [x_ista, x_fista, x_cg, x_bfgs]\n",
    "\n",
    "for i, name, x in zip(range(1, 5), solvers, xs):\n",
    "    plt.subplot(1, 4, i)\n",
    "    plt.stem(x)\n",
    "    plt.ylim([-1, 1])\n",
    "    plt.title(name)"
   ]
  },
  {
   "cell_type": "markdown",
   "metadata": {},
   "source": [
    "### First conclusions\n",
    "\n",
    "*QUESTIONS*:\n",
    "\n",
    "- Give some first conclusions about the batch solver studied here\n",
    "- What do you observe about Fista, is it suprising ?"
   ]
  },
  {
   "cell_type": "markdown",
   "metadata": {},
   "source": [
    "*REPONSES*:\n",
    "\n",
    "- The batch algortihm we implemented are pretty much normal as they decrease (more slowly than BFGS) to the minimum of the function\n",
    "- Fista decrease more faster than ISTA, that is normal given the fact that it is an accelerated algorithm (the theoretical convergence rate of ISTA is $O(1/t)$ and FISTA is $O(1/t^2)$, if $step<=1/L$)\n",
    "- However we also notice that FISTA is not strictly descending (the same way as ISTA for example). It is due to the fact that the next iterations $x_{k+1}$ are gradient steps at extrapolated points $y_k$, this leading to some rare points that can make the loss funtion increase sometimes\n"
   ]
  },
  {
   "cell_type": "markdown",
   "metadata": {},
   "source": [
    "<a id='stoc'></a> \n",
    "## 4. Stochastic methods"
   ]
  },
  {
   "cell_type": "code",
   "execution_count": 56,
   "metadata": {
    "collapsed": false,
    "scrolled": true
   },
   "outputs": [
    {
     "data": {
      "text/plain": [
       "(500000,)"
      ]
     },
     "execution_count": 56,
     "metadata": {},
     "output_type": "execute_result"
    }
   ],
   "source": [
    "n_iter = 50\n",
    "\n",
    "# generate indices of random samples\n",
    "iis = np.random.randint(0, n, n * n_iter)\n",
    "iis.shape"
   ]
  },
  {
   "cell_type": "markdown",
   "metadata": {},
   "source": [
    "### SGD\n",
    "\n",
    "We recall that an iteration of SGD writes\n",
    "\n",
    "- Pick $i$ uniformly at random in $\\{1, \\ldots, n\\}$\n",
    "- Apply\n",
    "$$\n",
    "x_{t+1} \\gets x_t - \\frac{\\eta_0}{\\sqrt{t+1}} \\nabla f(x_t)\n",
    "$$\n",
    "\n",
    "where $\\eta_0$ is a step-size to be tuned by hand.\n",
    "\n",
    "*QUESTION*:\n",
    "- Fill in the iteration of the SGD solver in the cell below"
   ]
  },
  {
   "cell_type": "code",
   "execution_count": 57,
   "metadata": {
    "collapsed": false
   },
   "outputs": [],
   "source": [
    "def sgd(x_init, iis, grad_i, n_iter=100, step=1., callback=None):\n",
    "    \"\"\"Stochastic gradient descent algorithm.\"\"\"\n",
    "    x = x_init.copy()\n",
    "    \n",
    "    for idx in range(n_iter):\n",
    "        i = iis[idx]\n",
    "        \n",
    "        ### TODO\n",
    "        x_new = x - (step/np.sqrt(idx+1))*grad_i(i,x)\n",
    "        x = x_new\n",
    "        \n",
    "        ### END TODO\n",
    "        \n",
    "        # Update metrics after each iteration.\n",
    "        if callback and idx % n == 0:\n",
    "            callback(x)\n",
    "    return x"
   ]
  },
  {
   "cell_type": "code",
   "execution_count": 58,
   "metadata": {
    "collapsed": false,
    "scrolled": true
   },
   "outputs": [
    {
     "name": "stdout",
     "output_type": "stream",
     "text": [
      "   it    |   obj    |   err   \n",
      "       0 | 1.01e+01 | 1.35e+01\n",
      "      10 | 2.87e-03 | 2.00e-01\n",
      "      20 | 1.42e-03 | 1.48e-01\n",
      "      30 | 2.16e-03 | 1.83e-01\n",
      "      40 | 1.11e-03 | 1.26e-01\n"
     ]
    }
   ],
   "source": [
    "step0 = 1.\n",
    "x_init = np.zeros(d)\n",
    "sgd_inspector = inspector(model.loss, x_truth, verbose=True)\n",
    "x_sgd = sgd(x_init, iis, model.grad_i, n * n_iter, step=step0, callback=sgd_inspector)"
   ]
  },
  {
   "cell_type": "markdown",
   "metadata": {},
   "source": [
    "### SAG\n",
    "\n",
    "We recall that an iteration of SAG writes\n",
    "\n",
    "For $t=1, \\ldots, $ until convergence\n",
    "\n",
    "1. Pick $i_t$ uniformly at random in $\\{1, \\ldots, n\\}$\n",
    "\n",
    "2. Update the average of gradients\n",
    "$$\n",
    "G_t \\gets \\frac 1n \\sum_{i=1}^n g_i^t\n",
    "$$\n",
    "where \n",
    "$$\n",
    "g_i^t =\n",
    "\\begin{cases}\n",
    "    \\nabla f_{i}(x_t) &\\text{ if } i = i_t \\\\\n",
    "    g_i^{t-1} & \\text{ otherwise.}\n",
    "\\end{cases}\n",
    "$$\n",
    "\n",
    "3. Apply the step \n",
    "$$x_{t+1} \\gets x_t - \\eta G_t$$\n",
    "where $\\eta$ is the step-size (see code below).\n",
    "\n",
    "*QUESTION*:\n",
    "- Fill in the iteration of the SAG solver in the cell below"
   ]
  },
  {
   "cell_type": "code",
   "execution_count": 59,
   "metadata": {
    "collapsed": true
   },
   "outputs": [],
   "source": [
    "def sag(x_init, iis, grad_i, n_iter=100, step=1., callback=None):\n",
    "    \"\"\"Stochastic average gradient algorithm.\"\"\"\n",
    "    x = x_init.copy()\n",
    "    # Old gradients\n",
    "    gradient_memory = np.zeros((n, d))\n",
    "    y = np.zeros(d)\n",
    "    \n",
    "    ### done\n",
    "    mean_gradient = np.mean(gradient_memory,0)\n",
    "    ###end \n",
    "\n",
    "    for idx in range(n_iter):\n",
    "        i = iis[idx]\n",
    "        \n",
    "        ### TODO\n",
    "        mean_gradient = mean_gradient + (grad_i(i,x)-gradient_memory[i,:])/n\n",
    "        x_new = x-step*mean_gradient\n",
    "        #x_new = x - (step/np.sqrt(idx+1))*mean_gradient\n",
    "        x = x_new\n",
    "        gradient_memory[i,:] = grad_i(i,x)\n",
    "\n",
    "        ### END OF TODO\n",
    "        \n",
    "        # Update metrics after each iteration.\n",
    "        if callback and idx % n == 0:\n",
    "            callback(x)\n",
    "    return x"
   ]
  },
  {
   "cell_type": "code",
   "execution_count": 60,
   "metadata": {
    "collapsed": false,
    "scrolled": false
   },
   "outputs": [
    {
     "name": "stdout",
     "output_type": "stream",
     "text": [
      "   it    |   obj    |   err   \n",
      "       0 | 2.84e-01 | 2.60e+00\n",
      "      10 | 1.11e-02 | 4.24e-01\n",
      "      20 | 2.47e-03 | 1.36e-01\n",
      "      30 | 1.04e-03 | 1.10e-01\n",
      "      40 | 1.84e-04 | 4.98e-02\n"
     ]
    }
   ],
   "source": [
    "max_squared_sum = np.max(np.sum(model.A ** 2, axis=1))\n",
    "\n",
    "if isinstance(model, LogReg):\n",
    "    step = 4.0 / (max_squared_sum + 4.0 * model.lbda / model.n)\n",
    "else:\n",
    "    step = 1.0 / (max_squared_sum + model.lbda / model.n)\n",
    "\n",
    "x_init = np.zeros(d)\n",
    "sag_inspector = inspector(model.loss, x_truth, verbose=True)\n",
    "x_sag = sag(x_init, iis, model.grad_i, n * n_iter, step, callback=sag_inspector)"
   ]
  },
  {
   "cell_type": "markdown",
   "metadata": {},
   "source": [
    "### SVRG\n",
    "\n",
    "We recall that an iteration of SVRG writes\n",
    "\n",
    "For $k=1, \\ldots, $ until convergence\n",
    "\n",
    "1. Set $\\tilde x \\gets \\tilde x^{(k)}$ and $x_1^{(k)} \\gets \\tilde x$\n",
    "2. Compute $\\mu_k \\gets \\nabla f(\\tilde x)$\n",
    "3. For $t=1, \\ldots, n$\n",
    "    4. Pick $i$ uniformly at random in $\\{1, \\ldots, n\\}$\n",
    "    5. Apply the step \n",
    "$$\n",
    "x_{t+1}^{(k)} \\gets x_t^{(k)} - \\eta \\big(\\nabla f_{i}(x_t^{(k)}) - \\nabla f_{i}(\\tilde x) + \\mu_k \\big) \n",
    "$$\n",
    "\n",
    "6. Set $\\tilde x^{(k+1)} \\gets x_{n+1}^{(k)}$\n",
    "\n",
    "where $\\eta$ is the step-size (see code below).\n",
    "\n",
    "*QUESTION*:\n",
    "- Fill in the iteration of the SVRG solver in the cell below"
   ]
  },
  {
   "cell_type": "code",
   "execution_count": 61,
   "metadata": {
    "collapsed": false
   },
   "outputs": [],
   "source": [
    "def svrg(x_init, iis, grad, grad_i, n_iter, step, callback=None):\n",
    "    \"\"\"Stochastic variance reduction gradient algorithm.\"\"\"\n",
    "    x = x_init.copy()\n",
    "    x_old = x.copy()\n",
    "    #line added\n",
    "    xt = x.copy()\n",
    "    \n",
    "    for idx in range(n_iter):\n",
    "        \n",
    "        ### TODO\n",
    "        y=np.zeros(np.size(x))\n",
    "        if idx % n == 0:\n",
    "            x[:] = xt\n",
    "            mu = grad(x)\n",
    "            \n",
    "            \n",
    "        i = iis[idx]\n",
    "        xt -= step * (grad_i(i,xt)-grad_i(i,x)+mu)\n",
    "#         y += xt\n",
    "        \n",
    "#         if idx % n == 0 and idx!=0:  \n",
    "#             y=y/float(n)\n",
    "#             xt[:]=y\n",
    "            \n",
    "        \n",
    "\n",
    "        \n",
    "        ### END TODO        \n",
    "        \n",
    "        # Update metrics after each iteration.\n",
    "        if callback and idx % n == 0:\n",
    "            callback(x)\n",
    "    return x"
   ]
  },
  {
   "cell_type": "code",
   "execution_count": 62,
   "metadata": {
    "collapsed": false,
    "scrolled": false
   },
   "outputs": [
    {
     "name": "stdout",
     "output_type": "stream",
     "text": [
      "   it    |   obj    |   err   \n",
      "       0 | 2.84e-01 | 2.60e+00\n",
      "      10 | 3.15e-04 | 5.86e-02\n",
      "      20 | 1.06e-06 | 3.37e-03\n",
      "      30 | 2.27e-08 | 5.42e-04\n",
      "      40 | -9.09e-10 | 1.61e-04\n"
     ]
    }
   ],
   "source": [
    "step = 1. / (20. * model.lipschitz_constant())\n",
    "\n",
    "x_init = np.zeros(d)\n",
    "svrg_inspector = inspector(model.loss, x_truth, verbose=True)    \n",
    "x_svrg = svrg(x_init, iis, model.grad, model.grad_i, n * n_iter, step, callback=svrg_inspector)"
   ]
  },
  {
   "cell_type": "code",
   "execution_count": 63,
   "metadata": {
    "collapsed": false,
    "scrolled": true
   },
   "outputs": [
    {
     "data": {
      "image/png": "[encoded data removed]",
      "text/plain": [
       "<matplotlib.figure.Figure at 0x7f48276b90d0>"
      ]
     },
     "metadata": {},
     "output_type": "display_data"
    }
   ],
   "source": [
    "plt.figure(figsize=(15, 5))\n",
    "\n",
    "plt.subplot(1, 2, 1)\n",
    "\n",
    "inspectors = [sgd_inspector, sag_inspector, svrg_inspector]\n",
    "\n",
    "solvers = [\"SGD\", \"SAG\", \"SVRG\"]\n",
    "\n",
    "for insp in inspectors:\n",
    "    plt.plot(insp.obj, lw=2)\n",
    "    plt.title(\"Loss\", fontsize=18)\n",
    "    plt.xlabel(\"iteration\", fontsize=14)\n",
    "    plt.ylabel(\"$f(x_k) - f(x^*)$\", fontsize=14)\n",
    "    plt.yscale(\"log\")\n",
    "\n",
    "plt.legend(solvers)\n",
    "\n",
    "plt.subplot(1, 2, 2)\n",
    "\n",
    "for insp in inspectors:\n",
    "    plt.plot(insp.err, lw=2)\n",
    "    plt.title(\"Error\", fontsize=18)\n",
    "    plt.xlabel(\"iteration\", fontsize=14)\n",
    "    plt.ylabel(\"$\\|x_k - x^*\\|_2$\", fontsize=14)\n",
    "    plt.yscale(\"log\")\n",
    "\n",
    "plt.legend(solvers);"
   ]
  },
  {
   "cell_type": "markdown",
   "metadata": {},
   "source": [
    "<a id='comp'></a> \n",
    "## 5. Numerical comparison"
   ]
  },
  {
   "cell_type": "code",
   "execution_count": 64,
   "metadata": {
    "collapsed": false,
    "scrolled": true
   },
   "outputs": [
    {
     "data": {
      "image/png": "[encoded data removed]",
      "text/plain": [
       "<matplotlib.figure.Figure at 0x7f4827c26990>"
      ]
     },
     "metadata": {},
     "output_type": "display_data"
    }
   ],
   "source": [
    "plt.figure(figsize=(15, 5))\n",
    "\n",
    "plt.subplot(1, 2, 1)\n",
    "\n",
    "inspectors = [ista_inspector, fista_inspector, cg_inspector, bfgs_inspector,\n",
    "              sgd_inspector, sag_inspector, svrg_inspector]\n",
    "\n",
    "# inspectors = [ista_inspector, fista_inspector, cg_inspector, bfgs_inspector,\n",
    "#               sag_inspector, svrg_inspector]\n",
    "\n",
    "solvers = [\"ISTA\", \"FISTA\", \"CG\", \"BGFS\", \"SGD\", \"SAG\", \"SVRG\"]\n",
    "\n",
    "# solvers = [\"ISTA\", \"FISTA\", \"CG\", \"BGFS\", \"SAG\", \"SVRG\"]\n",
    "\n",
    "for insp in inspectors:\n",
    "    plt.plot(insp.obj, lw=2)\n",
    "    plt.title(\"Loss\", fontsize=18)\n",
    "    plt.xlabel(\"iteration\", fontsize=14)\n",
    "    plt.ylabel(\"$f(x_k) - f(x^*)$\", fontsize=14)\n",
    "    plt.yscale(\"log\")\n",
    "\n",
    "plt.legend(solvers)\n",
    "\n",
    "plt.subplot(1, 2, 2)\n",
    "\n",
    "for insp in inspectors:\n",
    "    plt.plot(insp.err, lw=2)\n",
    "    plt.title(\"Distance to optimum\", fontsize=18)\n",
    "    plt.xlabel(\"iteration\", fontsize=14)\n",
    "    plt.ylabel(\"$\\|x_k - x^*\\|_2$\", fontsize=14)\n",
    "    plt.yscale(\"log\")\n",
    "\n",
    "plt.legend(solvers);"
   ]
  },
  {
   "cell_type": "markdown",
   "metadata": {
    "collapsed": true
   },
   "source": [
    "<a id='conc'></a>\n",
    "## 6. Conclusion\n",
    "\n",
    "*QUESTIONS*:\n",
    "- Compare and comment your results\n",
    "- Change the value of the ridge regularization (the ``lbda`` parameter) to low ridge $\\lambda = 1 / n$ and high ridge regularization $\\lambda = 1 / \\sqrt n$ and compare your results. Comment.\n",
    "- Play also with the level of correlation between features (parameter ``corr`` above), and compare results with low and high correlation.\n",
    "- Conclude"
   ]
  },
  {
   "cell_type": "markdown",
   "metadata": {},
   "source": [
    "### Theoretical convergence rates\n",
    "<table>\n",
    "   <tr>\n",
    "       <th>ISTA</th>\n",
    "       <th>FISTA</th>\n",
    "       <th>CG</th>\n",
    "       <th>BGFS</th>\n",
    "       <th>SGD.........</th>\n",
    "       <th>SAG.........</th>\n",
    "       <th>SVRG</th>\n",
    "   </tr>\n",
    "   <tr>\n",
    "       <td>$O(1/\\alpha k)$, si $\\alpha <= 1/L$ </td>\n",
    "       <td>$O(1/\\alpha k^2)$, si $\\alpha <= 1/L$</td>\n",
    "       <td>$O(\\frac{\\sqrt{\\kappa}-1}{\\sqrt{\\kappa}+1})^k$, with $\\kappa=L/\\mu$ the conditionning </td>\n",
    "       <td>$O(\\rho ^k)$, ne depend pas kappa</td>\n",
    "       <td>$O(1/\\sqrt{k})$</td>\n",
    "       <td>$O(1/k)$ <br />\n",
    "           $O(\\rho ^k)$, if $f_i$ u-s.cux</td>\n",
    "       <td>$0.9^S$, if $n>>\\kappa$ <br />\n",
    "        ($f_i$ L-smooth & u-s.cux)</td>\n",
    "   </tr>\n",
    "\n",
    "</table>"
   ]
  },
  {
   "cell_type": "markdown",
   "metadata": {},
   "source": [
    "### Comparaison of the algorithms\n",
    "*Case : High correlation*: the problem is then bad conditionned, $\\kappa$ is high\n",
    "- least square:\n",
    "    - $\\lambda = 1 / \\sqrt n$ :SGD can't perform optimization, ISTA too seem to be very slow. BGFS and CG are worse than in the case of low corellation\n",
    "    - $\\lambda = 1 / n$ :  Even that we an ill-problem, the FISTA and particulary SVRG porform well because of the strong convexity of f due to the high value of $lambda$\n",
    "    \n",
    "- logistic:\n",
    "    - $\\lambda = 1 / \\sqrt n$ : In this case, SVRG,Ista and FISTA perform poorly as they depend on the condition number (see the table above)\n",
    "            \n",
    "    - $\\lambda = 1 / n$ : These algorithms don't perform better than in the previous case. CG erforms less well cause it doesnt use the fact the f is more strongly convex\n",
    "    \n",
    "*Case : low correlation*: the problem is then well conditionned, $\\kappa$ is low\n",
    "- least square:\n",
    "    - $\\lambda = 1 / \\sqrt n$ : The stochastic algorithms seem to be slower than the logistic case. SAG is faster SVRG cause f is probably not very strongly convex, we will confirm that in the next case by increasing strong convexity with $\\lambda$. \n",
    "    - $\\lambda = 1 / n$ :  The parameter does not improve the rate of SVRG, we are probably in the case where the steps of the iteration of the descent is not well set\n",
    "    \n",
    "- logistic:\n",
    "    - $\\lambda = 1 / \\sqrt n$ : SVRG, BGFS, and CG have a linear convergence. This confirm the theoretical results\n",
    "            \n",
    "    - $\\lambda = 1 / n$ :SVRG converges almost as well as BFGS (even though) cause in this case f is very strogly convex"
   ]
  }
 ],
 "metadata": {
  "anaconda-cloud": {},
  "kernelspec": {
   "display_name": "Python 3",
   "language": "python",
   "name": "python3"
  },
  "language_info": {
   "codemirror_mode": {
    "name": "ipython",
    "version": 3
   },
   "file_extension": ".py",
   "mimetype": "text/x-python",
   "name": "python",
   "nbconvert_exporter": "python",
   "pygments_lexer": "ipython3",
   "version": "3.5.1"
  }
 },
 "nbformat": 4,
 "nbformat_minor": 0
}
