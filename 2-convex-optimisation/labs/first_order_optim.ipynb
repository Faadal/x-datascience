{
 "cells": [
  {
   "cell_type": "markdown",
   "metadata": {},
   "source": [
    "# TP1 : First order methods on regression models\n",
    "\n",
    "#### Authors: S. Gaiffas, A. Gramfort\n",
    "\n",
    "The aim of this material is to derive proximity operators for common regularizations:\n",
    "\n",
    "- L1\n",
    "- Group-L1 \n",
    "\n",
    "and to use them in first order optimization algorithms for regression. The focus is on Ista / Fista for this notebook.\n",
    "\n",
    "This work **must be done by pairs of students**. One document for each pair of students should be sent to: <alexandre.gramfort@telecom-paristech.fr>\n",
    "\n",
    "**IMPORTANT**:\n",
    "- use as object/title for your email **\"TP1-DS-Optim\"**\n",
    "- the filename of the notebook **must be name1_name2.ipynb** (where name1 and name2 are the names of the students)"
   ]
  },
  {
   "cell_type": "code",
   "execution_count": 1,
   "metadata": {
    "collapsed": false
   },
   "outputs": [],
   "source": [
    "# to embed figures in the notebook\n",
    "%matplotlib inline"
   ]
  },
  {
   "cell_type": "markdown",
   "metadata": {},
   "source": [
    "## Part 0 : Introduction\n",
    "\n",
    "We'll start by generating sparse vectors and simulating data"
   ]
  },
  {
   "cell_type": "code",
   "execution_count": 2,
   "metadata": {
    "collapsed": true
   },
   "outputs": [],
   "source": [
    "import numpy as np\n",
    "import matplotlib.pyplot as plt\n",
    "np.set_printoptions(precision=2)  # to have simpler print outputs with numpy"
   ]
  },
  {
   "cell_type": "code",
   "execution_count": 3,
   "metadata": {
    "collapsed": false,
    "scrolled": true
   },
   "outputs": [
    {
     "data": {
      "text/plain": [
       "<matplotlib.text.Text at 0x7fc721a6f650>"
      ]
     },
     "execution_count": 3,
     "metadata": {},
     "output_type": "execute_result"
    },
    {
     "data": {
      "image/png": "[encoded data removed]",
      "text/plain": [
       "<matplotlib.figure.Figure at 0x7fc723b063d0>"
      ]
     },
     "metadata": {},
     "output_type": "display_data"
    }
   ],
   "source": [
    "n_features = 50\n",
    "n_samples = 2000\n",
    "idx = np.arange(n_features)\n",
    "coefs = (-1) ** (idx - 1) * np.exp(-idx / 10.)\n",
    "coefs[20:] = 0.\n",
    "plt.stem(coefs)\n",
    "plt.title(\"Parameters / Coefficients\")"
   ]
  },
  {
   "cell_type": "code",
   "execution_count": 4,
   "metadata": {
    "collapsed": false
   },
   "outputs": [],
   "source": [
    "# Simulation of the features matrix\n",
    "from numpy.random import multivariate_normal\n",
    "from scipy.linalg.special_matrices import toeplitz\n",
    "\n",
    "# Correlation\n",
    "rho = 0.7\n",
    "\n",
    "# Construction of a covariance matrix\n",
    "cov = toeplitz(rho ** np.arange(0, n_features))"
   ]
  },
  {
   "cell_type": "code",
   "execution_count": 5,
   "metadata": {
    "collapsed": false
   },
   "outputs": [],
   "source": [
    "# Simulation of Gaussian vectors with this covariance matrix (it will be the features)\n",
    "A = multivariate_normal(np.zeros(n_features), cov, size=n_samples)\n"
   ]
  },
  {
   "cell_type": "code",
   "execution_count": 6,
   "metadata": {
    "collapsed": false
   },
   "outputs": [],
   "source": [
    "from numpy.random import randn\n",
    "\n",
    "# Simulation of a linear model\n",
    "std = 1.\n",
    "noise = std * randn(n_samples)\n",
    "\n",
    "# Simulation of the labels according to the linear regression model : b = A coefs + noise\n",
    "b = A.dot(coefs) + noise"
   ]
  },
  {
   "cell_type": "markdown",
   "metadata": {},
   "source": [
    "## Questions\n",
    "\n",
    "- Visualize the covariance of the features. You can use plt.matshow.\n",
    "- What is the influence of the rho parameter? Can you quantify it using the condition number of the generated matrix X? Use the `scipy.linalg.svd` function to extract the singular values of X."
   ]
  },
  {
   "cell_type": "code",
   "execution_count": 7,
   "metadata": {
    "collapsed": false
   },
   "outputs": [
    {
     "data": {
      "text/plain": [
       "<matplotlib.colorbar.Colorbar instance at 0x7fc720788d88>"
      ]
     },
     "execution_count": 7,
     "metadata": {},
     "output_type": "execute_result"
    },
    {
     "name": "stderr",
     "output_type": "stream",
     "text": [
      "/home/zapfack/tools/anaconda2/lib/python2.7/site-packages/matplotlib/collections.py:590: FutureWarning: elementwise comparison failed; returning scalar instead, but in the future will perform elementwise comparison\n",
      "  if self._edgecolors == str('face'):\n"
     ]
    },
    {
     "data": {
      "image/png": "[encoded data removed]",
      "text/plain": [
       "<matplotlib.figure.Figure at 0x7fc71fea3dd0>"
      ]
     },
     "metadata": {},
     "output_type": "display_data"
    }
   ],
   "source": [
    "#features_cov = (A.T.dot(A))/(n_features**2)\n",
    "features_cov = np.cov(A.T)\n",
    "plt.matshow(features_cov)\n",
    "plt.colorbar()"
   ]
  },
  {
   "cell_type": "markdown",
   "metadata": {},
   "source": [
    "# Influence of Rho\n",
    "La matrice de covariance de part sa construction est constituee de puissances consecutives de Rho (de 0 à -49). Pour cette raison les variables consécutives ont donc une covariance plus élevée que celles les éloignées."
   ]
  },
  {
   "cell_type": "code",
   "execution_count": 8,
   "metadata": {
    "collapsed": false
   },
   "outputs": [
    {
     "name": "stdout",
     "output_type": "stream",
     "text": [
      "35.6381618982\n"
     ]
    }
   ],
   "source": [
    "# Conditionnement\n",
    "# Valeurs propres de A\n",
    "import scipy as sc\n",
    "U, s, Vh = sc.linalg.svd(A.T.dot(A))\n",
    "#U, s, Vh = sc.linalg.svd(A)\n",
    "nu = np.min(s)\n",
    "L = np.max(s)\n",
    "conditionnement = L/nu\n",
    "print conditionnement\n"
   ]
  },
  {
   "cell_type": "markdown",
   "metadata": {},
   "source": [
    "## Part 1 : Proximal operators"
   ]
  },
  {
   "cell_type": "markdown",
   "metadata": {},
   "source": [
    "We remind that the proximal operator of the L1 norm used by the Lasso is defined by:\n",
    "\n",
    "$$\n",
    "\\text{prox}(y) = \\arg\\min_x \\Big\\{ \\frac 12 \\|x - y\\|_2^2 + \\lambda_1 \\|x\\|_1 \\Big\\}.\n",
    "$$\n",
    "\n",
    "It is given by the soft-thresholding operator:\n",
    "\n",
    "$$\n",
    "\\text{prox}(y) = \\text{sign}(y) \\odot (|y| - \\lambda_1)_+.\n",
    "$$"
   ]
  },
  {
   "cell_type": "code",
   "execution_count": 9,
   "metadata": {
    "collapsed": true
   },
   "outputs": [],
   "source": [
    "\n",
    "def prox_lasso(x, l_l1):\n",
    "    \"\"\"Proximal operator for the L1 norm / Lasso at x\"\"\"\n",
    "    x_abs = np.abs(x)\n",
    "    return np.sign(x) * np.maximum(x_abs - l_l1, 0)\n",
    "\n",
    "def lasso(x, l_l1):\n",
    "    \"\"\"Value of the Lasso penalization at x\"\"\"\n",
    "    return l_l1 * np.abs(x).sum()"
   ]
  },
  {
   "cell_type": "markdown",
   "metadata": {},
   "source": [
    "The proximal operator for the Elastic-Net is defined by:\n",
    "\n",
    "$$\n",
    "\\text{prox}(y) = \\arg\\min_x \\Big\\{ \\frac 12 \\|x - y\\|_2^2 + \\lambda_1 \\|x\\|_1 + \\frac{\\lambda_2}{2} \\|x\\|_2^2 \\Big\\}\n",
    "$$\n",
    "\n",
    "## Questions\n",
    "\n",
    "- Implement the proximal operator of the Elastic-Net\n",
    "- Visualize the functions applied element wise by the proximity operators of the Lasso (so called soft-thresholding function) and the Elastic-Net"
   ]
  },
  {
   "cell_type": "code",
   "execution_count": 10,
   "metadata": {
    "collapsed": true
   },
   "outputs": [],
   "source": [
    "from numpy.linalg import norm\n",
    "\n",
    "def prox_enet(x, l_l1, l_l2):\n",
    "    \"\"\"Proximal operator for the elastic net at x\"\"\"\n",
    "    x_abs = np.abs(x)\n",
    "    return np.sign(x) * np.maximum(x_abs - l_l1, 0)/(1+l_l2)\n",
    "\n",
    "def enet(x, l_l1, l_l2):\n",
    "    \"\"\"Value of the Elastic-net penalization at x\"\"\"\n",
    "    \n",
    "    return l_l1 * np.abs(x).sum() + l_l2/2*np.square(x).sum()"
   ]
  },
  {
   "cell_type": "code",
   "execution_count": 11,
   "metadata": {
    "collapsed": false
   },
   "outputs": [
    {
     "data": {
      "text/plain": [
       "<matplotlib.legend.Legend at 0x7fc71f1e0cd0>"
      ]
     },
     "execution_count": 11,
     "metadata": {},
     "output_type": "execute_result"
    },
    {
     "data": {
      "image/png": "[encoded data removed]",
      "text/plain": [
       "<matplotlib.figure.Figure at 0x7fc71fea3f90>"
      ]
     },
     "metadata": {},
     "output_type": "display_data"
    }
   ],
   "source": [
    "# Visualisation\n",
    "x=np.linspace(-5,5,100)\n",
    "plt.plot(x,prox_lasso(x, 1),label=\"lasso\")\n",
    "plt.plot(x,prox_enet(x, 1,1),label=\"elastic-net\")\n",
    "plt.legend()"
   ]
  },
  {
   "cell_type": "markdown",
   "metadata": {},
   "source": [
    "## Visualization\n",
    "\n",
    "We are now going to visualize the effect of the proximity operators on coefficients."
   ]
  },
  {
   "cell_type": "code",
   "execution_count": 12,
   "metadata": {
    "collapsed": false,
    "scrolled": false
   },
   "outputs": [
    {
     "data": {
      "text/plain": [
       "(-2, 2)"
      ]
     },
     "execution_count": 12,
     "metadata": {},
     "output_type": "execute_result"
    },
    {
     "data": {
      "image/png": "[encoded data removed]",
      "text/plain": [
       "<matplotlib.figure.Figure at 0x7fc71f1ee3d0>"
      ]
     },
     "metadata": {},
     "output_type": "display_data"
    }
   ],
   "source": [
    "x = randn(50)\n",
    "l_l1 = 1.\n",
    "l_l2 = 0.5\n",
    "\n",
    "plt.rcParams['figure.figsize'] = (15.0, 4.0)\n",
    "plt.subplot(1, 3, 1)\n",
    "plt.stem(x)\n",
    "plt.title(\"Original parameter\")\n",
    "plt.ylim([-2, 2])\n",
    "plt.subplot(1, 3, 2)\n",
    "plt.stem(prox_lasso(x, l_l1=l_l1))\n",
    "plt.title(\"Proximal Lasso\")\n",
    "plt.ylim([-2, 2])\n",
    "plt.subplot(1, 3, 3)\n",
    "plt.stem(prox_enet(x, l_l1=l_l1, l_l2=1.))\n",
    "plt.title(\"Proximal E-Net\")\n",
    "plt.ylim([-2, 2])"
   ]
  },
  {
   "cell_type": "markdown",
   "metadata": {},
   "source": [
    "## Question\n",
    "\n",
    "- Comment what you observe (3 sentences max)."
   ]
  },
  {
   "cell_type": "markdown",
   "metadata": {},
   "source": [
    "A cause des pénalités apportées par le lasso et elastic net, la taille de certains coefficients a été réduite et certains ont été annulés (l'utilisation de la norme 1 entraine des valeurs egales à 0 et la norme 2 entraine des valeurs peu grandes)"
   ]
  },
  {
   "cell_type": "markdown",
   "metadata": {},
   "source": [
    "## Part 2: Gradients\n",
    "\n",
    "The problems we want to minimize take the form:\n",
    "$$\n",
    "\\arg\\min_x f(x) + g(x)\n",
    "$$\n",
    "where $f$ is $L$-smooth and $g$ is prox-capable.\n",
    "\n",
    "We will consider below penalized linear regression problems, namely\n",
    "\n",
    "$$\n",
    "f(x) = \\frac{1}{2 n} \\| b - A x \\|^2\n",
    "$$\n",
    "\n",
    "where $n$ is the sample size.\n",
    "\n",
    "We therefore need to be able to compute $f$ and its gradient"
   ]
  },
  {
   "cell_type": "markdown",
   "metadata": {},
   "source": [
    "### **Questions**:\n",
    "- Code a function that computes the gradient of f\n",
    "- Check that this function is correct by numerically checking the gradient, using the function ``checkgrad`` from ``scipy.optimize``"
   ]
  },
  {
   "cell_type": "code",
   "execution_count": 13,
   "metadata": {
    "collapsed": false,
    "scrolled": true
   },
   "outputs": [
    {
     "name": "stdout",
     "output_type": "stream",
     "text": [
      "5.35159892742e-06\n"
     ]
    }
   ],
   "source": [
    "# TO BE COMPLETED\n",
    "\n",
    "# Least-squares loss\n",
    "def f(x):\n",
    "    return 0.5 * norm(b - A.dot(x)) ** 2 / n_samples\n",
    "\n",
    "def grad_f(x):\n",
    "    return (A.T.dot(A).dot(x)-A.T.dot(b))/n_samples\n",
    "    \n",
    "\n",
    "from scipy.optimize import check_grad\n",
    "\n",
    "x = np.random.randn(n_features)\n",
    "\n",
    "print check_grad(f, grad_f, x) # This should be a very small number"
   ]
  },
  {
   "cell_type": "markdown",
   "metadata": {},
   "source": [
    "## Part 3: Solvers"
   ]
  },
  {
   "cell_type": "markdown",
   "metadata": {},
   "source": [
    "We know have a function to compute $f$ and $g$ and their gradients. We want now to code the Ista and Fista solvers to minimize\n",
    "\n",
    "$$\n",
    "\\arg\\min_x f(x) + g(x)\n",
    "$$\n",
    "\n",
    "**Questions**:\n",
    "- Implement ISTA algorithm for the Elastic-Net.\n",
    "\n",
    "- Implement FISTA algorithm for the Elastic-Net.\n",
    "\n",
    "Remark: The `step` parameter will be taken as 1 / L"
   ]
  },
  {
   "cell_type": "code",
   "execution_count": 14,
   "metadata": {
    "collapsed": false
   },
   "outputs": [],
   "source": [
    "# TO BE COMPLETED\n",
    "\n",
    "def ista(x0, l_l1=0., l_l2=0., step=None, n_iter=50, x_true=coefs):\n",
    "    x = x0.copy()\n",
    "    x_new = x0.copy()\n",
    "    \n",
    "\n",
    "    def prox_g(x, t):\n",
    "        \"\"\"Proximal operator for the elastic net at x\"\"\"\n",
    "        x_abs = np.abs(x)\n",
    "        #return np.sign(x) * np.maximum(x_abs - t*l_l1, 0)/(1+t*l_l2)\n",
    "        #return prox_lasso(x, l_l1)\n",
    "        return prox_enet(x,t*l_l1,t*l_l2)\n",
    "            \n",
    "    \n",
    "    if step is None:\n",
    "        step = n_samples/L  # TODO\n",
    "    t=step\n",
    "\n",
    "    # objective history\n",
    "    objectives = []\n",
    "    # Current objective\n",
    "    obj = f(x) + g(x)\n",
    "    objectives.append(obj)    \n",
    "    print \"Lauching ISTA solver...\"    \n",
    "    print ' | '.join([name.center(8) for name in [\"it\", \"obj\", \"err\"]])\n",
    "    for k in range(n_iter):\n",
    "        # ISTA update\n",
    "        x[:] = prox_g(x-t*grad_f(x), t)\n",
    "        #x_new\n",
    "        #x[:] = x  # TODO\n",
    "        obj = f(x) + g(x)\n",
    "        err = norm(x - x_true) / norm(x_true)\n",
    "        errors.append(err)\n",
    "        objectives.append(obj)\n",
    "        if k % 10 == 0:\n",
    "            print ' | '.join( [ (\"%d\" % k).rjust(8), (\"%.2e\" % obj).rjust(8), (\"%.2e\" % err).rjust(8)])\n",
    "    return x, objectives, errors"
   ]
  },
  {
   "cell_type": "code",
   "execution_count": 17,
   "metadata": {
    "collapsed": false
   },
   "outputs": [],
   "source": [
    "# TO BE COMPLETED\n",
    "\n",
    "def fista(x0, l_l1=0., l_l2=0., step=None, n_iter=50, x_true=coefs):\n",
    "    x = x0.copy()\n",
    "    x_new = x0.copy()\n",
    "    nu=1\n",
    "    z_t = x0.copy()\n",
    "    \n",
    "    def g(x):\n",
    "        return enet(x, l_l1, l_l2)\n",
    "\n",
    "    def prox_g(x, t):\n",
    "        \"\"\"Proximal operator for the elastic net at x\"\"\"\n",
    "        #x_abs = np.abs(x)\n",
    "        #return np.sign(x) * np.maximum(x_abs - t*l_l1, 0)/(1+t*l_l2)\n",
    "        return prox_enet(x,t*l_l1,t*l_l2)\n",
    "            \n",
    "    \n",
    "    if step is None:\n",
    "        step = n_samples/L  # TODO\n",
    "    t=step   \n",
    "\n",
    "    # estimation error history\n",
    "    errors = []\n",
    "    # objective history\n",
    "    objectives = []\n",
    "    # Current estimation error\n",
    "    err = norm(x - x_true) / norm(x_true)\n",
    "    errors.append(err)\n",
    "    # Current objective\n",
    "    obj = f(x) + g(x)\n",
    "    objectives.append(obj)    \n",
    "    print \"Lauching FISTA solver...\"    \n",
    "    print ' | '.join([name.center(8) for name in [\"it\", \"obj\", \"err\"]])\n",
    "    for k in range(n_iter):\n",
    "        # ISTA update\n",
    "        x_new[:] = prox_g(z_t-t*grad_f(z_t), t)\n",
    "        nu_2 = np.sqrt(nu**2 + (1/4.0))+(1/2.0)\n",
    "        #nu_2 = (k+1)/2.0\n",
    "        z_t = x_new + ((nu-1)/(nu_2))*(x_new-x)\n",
    "        nu = nu_2\n",
    "        x[:] = x_new\n",
    "        #x[:] = x  # TODO\n",
    "        obj = f(x) + g(x)\n",
    "        err = norm(x - x_true) / norm(x_true)\n",
    "        errors.append(err)\n",
    "        objectives.append(obj)\n",
    "        if k % 10 == 0:\n",
    "            print ' | '.join( [ (\"%d\" % k).rjust(8), (\"%.2e\" % obj).rjust(8), (\"%.2e\" % err).rjust(8)])\n",
    "    return x, objectives, errors"
   ]
  },
  {
   "cell_type": "markdown",
   "metadata": {},
   "source": [
    "Let's launch the algorithms in order to compare them"
   ]
  },
  {
   "cell_type": "code",
   "execution_count": 18,
   "metadata": {
    "collapsed": false,
    "scrolled": true
   },
   "outputs": [
    {
     "ename": "NameError",
     "evalue": "global name 'g' is not defined",
     "output_type": "error",
     "traceback": [
      "\u001b[1;31m---------------------------------------------------------------------------\u001b[0m",
      "\u001b[1;31mNameError\u001b[0m                                 Traceback (most recent call last)",
      "\u001b[1;32m<ipython-input-18-5aace53fa62e>\u001b[0m in \u001b[0;36m<module>\u001b[1;34m()\u001b[0m\n\u001b[0;32m      3\u001b[0m \u001b[0ml_l1\u001b[0m \u001b[1;33m=\u001b[0m \u001b[1;36m5e-2\u001b[0m\u001b[1;33m\u001b[0m\u001b[0m\n\u001b[0;32m      4\u001b[0m \u001b[0ml_l2\u001b[0m \u001b[1;33m=\u001b[0m \u001b[1;36m1e-1\u001b[0m\u001b[1;33m\u001b[0m\u001b[0m\n\u001b[1;32m----> 5\u001b[1;33m \u001b[0mx_ista\u001b[0m\u001b[1;33m,\u001b[0m \u001b[0mobj_ista\u001b[0m\u001b[1;33m,\u001b[0m \u001b[0merr_ista\u001b[0m \u001b[1;33m=\u001b[0m \u001b[0mista\u001b[0m\u001b[1;33m(\u001b[0m\u001b[0mx0\u001b[0m\u001b[1;33m,\u001b[0m \u001b[0ml_l1\u001b[0m\u001b[1;33m,\u001b[0m \u001b[0ml_l2\u001b[0m\u001b[1;33m,\u001b[0m \u001b[0mn_iter\u001b[0m\u001b[1;33m=\u001b[0m\u001b[0mn_iter\u001b[0m\u001b[1;33m)\u001b[0m\u001b[1;33m\u001b[0m\u001b[0m\n\u001b[0m\u001b[0;32m      6\u001b[0m \u001b[0mx_fista\u001b[0m\u001b[1;33m,\u001b[0m \u001b[0mobj_fista\u001b[0m\u001b[1;33m,\u001b[0m \u001b[0merr_fista\u001b[0m \u001b[1;33m=\u001b[0m \u001b[0mfista\u001b[0m\u001b[1;33m(\u001b[0m\u001b[0mx0\u001b[0m\u001b[1;33m,\u001b[0m \u001b[0ml_l1\u001b[0m\u001b[1;33m,\u001b[0m \u001b[0ml_l2\u001b[0m\u001b[1;33m,\u001b[0m \u001b[0mn_iter\u001b[0m\u001b[1;33m=\u001b[0m\u001b[0mn_iter\u001b[0m\u001b[1;33m)\u001b[0m\u001b[1;33m\u001b[0m\u001b[0m\n",
      "\u001b[1;32m<ipython-input-14-67babaa7c05f>\u001b[0m in \u001b[0;36mista\u001b[1;34m(x0, l_l1, l_l2, step, n_iter, x_true)\u001b[0m\n\u001b[0;32m     21\u001b[0m     \u001b[0mobjectives\u001b[0m \u001b[1;33m=\u001b[0m \u001b[1;33m[\u001b[0m\u001b[1;33m]\u001b[0m\u001b[1;33m\u001b[0m\u001b[0m\n\u001b[0;32m     22\u001b[0m     \u001b[1;31m# Current objective\u001b[0m\u001b[1;33m\u001b[0m\u001b[1;33m\u001b[0m\u001b[0m\n\u001b[1;32m---> 23\u001b[1;33m     \u001b[0mobj\u001b[0m \u001b[1;33m=\u001b[0m \u001b[0mf\u001b[0m\u001b[1;33m(\u001b[0m\u001b[0mx\u001b[0m\u001b[1;33m)\u001b[0m \u001b[1;33m+\u001b[0m \u001b[0mg\u001b[0m\u001b[1;33m(\u001b[0m\u001b[0mx\u001b[0m\u001b[1;33m)\u001b[0m\u001b[1;33m\u001b[0m\u001b[0m\n\u001b[0m\u001b[0;32m     24\u001b[0m     \u001b[0mobjectives\u001b[0m\u001b[1;33m.\u001b[0m\u001b[0mappend\u001b[0m\u001b[1;33m(\u001b[0m\u001b[0mobj\u001b[0m\u001b[1;33m)\u001b[0m\u001b[1;33m\u001b[0m\u001b[0m\n\u001b[0;32m     25\u001b[0m     \u001b[1;32mprint\u001b[0m \u001b[1;34m\"Lauching ISTA solver...\"\u001b[0m\u001b[1;33m\u001b[0m\u001b[0m\n",
      "\u001b[1;31mNameError\u001b[0m: global name 'g' is not defined"
     ]
    }
   ],
   "source": [
    "x0 = np.zeros(n_features)\n",
    "n_iter = 40\n",
    "l_l1 = 5e-2\n",
    "l_l2 = 1e-1\n",
    "x_ista, obj_ista, err_ista = ista(x0, l_l1, l_l2, n_iter=n_iter)\n",
    "x_fista, obj_fista, err_fista = fista(x0, l_l1, l_l2, n_iter=n_iter)"
   ]
  },
  {
   "cell_type": "markdown",
   "metadata": {},
   "source": [
    "### Algorithms comparison"
   ]
  },
  {
   "cell_type": "code",
   "execution_count": 19,
   "metadata": {
    "collapsed": false,
    "scrolled": true
   },
   "outputs": [
    {
     "ename": "NameError",
     "evalue": "name 'obj_ista' is not defined",
     "output_type": "error",
     "traceback": [
      "\u001b[1;31m---------------------------------------------------------------------------\u001b[0m",
      "\u001b[1;31mNameError\u001b[0m                                 Traceback (most recent call last)",
      "\u001b[1;32m<ipython-input-19-4102faae226d>\u001b[0m in \u001b[0;36m<module>\u001b[1;34m()\u001b[0m\n\u001b[0;32m      1\u001b[0m \u001b[0mplt\u001b[0m\u001b[1;33m.\u001b[0m\u001b[0mrcParams\u001b[0m\u001b[1;33m[\u001b[0m\u001b[1;34m'figure.figsize'\u001b[0m\u001b[1;33m]\u001b[0m \u001b[1;33m=\u001b[0m \u001b[1;33m(\u001b[0m\u001b[1;36m15.0\u001b[0m\u001b[1;33m,\u001b[0m \u001b[1;36m4.0\u001b[0m\u001b[1;33m)\u001b[0m\u001b[1;33m\u001b[0m\u001b[0m\n\u001b[0;32m      2\u001b[0m \u001b[0mplt\u001b[0m\u001b[1;33m.\u001b[0m\u001b[0msubplot\u001b[0m\u001b[1;33m(\u001b[0m\u001b[1;36m1\u001b[0m\u001b[1;33m,\u001b[0m \u001b[1;36m2\u001b[0m\u001b[1;33m,\u001b[0m \u001b[1;36m1\u001b[0m\u001b[1;33m)\u001b[0m\u001b[1;33m\u001b[0m\u001b[0m\n\u001b[1;32m----> 3\u001b[1;33m \u001b[0mplt\u001b[0m\u001b[1;33m.\u001b[0m\u001b[0mplot\u001b[0m\u001b[1;33m(\u001b[0m\u001b[0mobj_ista\u001b[0m\u001b[1;33m,\u001b[0m \u001b[0mlabel\u001b[0m\u001b[1;33m=\u001b[0m\u001b[1;34m\"ISTA\"\u001b[0m\u001b[1;33m,\u001b[0m \u001b[0mlw\u001b[0m\u001b[1;33m=\u001b[0m\u001b[1;36m2\u001b[0m\u001b[1;33m)\u001b[0m\u001b[1;33m\u001b[0m\u001b[0m\n\u001b[0m\u001b[0;32m      4\u001b[0m \u001b[0mplt\u001b[0m\u001b[1;33m.\u001b[0m\u001b[0mplot\u001b[0m\u001b[1;33m(\u001b[0m\u001b[0mobj_fista\u001b[0m\u001b[1;33m,\u001b[0m \u001b[0mlabel\u001b[0m\u001b[1;33m=\u001b[0m\u001b[1;34m\"FISTA\"\u001b[0m\u001b[1;33m,\u001b[0m \u001b[0mlw\u001b[0m\u001b[1;33m=\u001b[0m\u001b[1;36m2\u001b[0m\u001b[1;33m)\u001b[0m\u001b[1;33m\u001b[0m\u001b[0m\n\u001b[0;32m      5\u001b[0m \u001b[0mplt\u001b[0m\u001b[1;33m.\u001b[0m\u001b[0mtitle\u001b[0m\u001b[1;33m(\u001b[0m\u001b[1;34m\"Objective\"\u001b[0m\u001b[1;33m)\u001b[0m\u001b[1;33m\u001b[0m\u001b[0m\n",
      "\u001b[1;31mNameError\u001b[0m: name 'obj_ista' is not defined"
     ]
    },
    {
     "data": {
      "image/png": "[encoded data removed]",
      "text/plain": [
       "<matplotlib.figure.Figure at 0x7fc71ebf4f10>"
      ]
     },
     "metadata": {},
     "output_type": "display_data"
    }
   ],
   "source": [
    "plt.rcParams['figure.figsize'] = (15.0, 4.0)\n",
    "plt.subplot(1, 2, 1)\n",
    "plt.plot(obj_ista, label=\"ISTA\", lw=2)\n",
    "plt.plot(obj_fista, label=\"FISTA\", lw=2)\n",
    "plt.title(\"Objective\")\n",
    "plt.legend()\n",
    "plt.subplot(1, 2, 2)\n",
    "plt.plot(err_ista, label=\"ISTA\", lw=2)\n",
    "plt.plot(err_fista, label=\"FISTA\", lw=2)\n",
    "plt.legend()\n",
    "plt.title(\"Estimation errors\")"
   ]
  },
  {
   "cell_type": "code",
   "execution_count": 20,
   "metadata": {
    "collapsed": false,
    "scrolled": false
   },
   "outputs": [
    {
     "ename": "NameError",
     "evalue": "global name 'g' is not defined",
     "output_type": "error",
     "traceback": [
      "\u001b[1;31m---------------------------------------------------------------------------\u001b[0m",
      "\u001b[1;31mNameError\u001b[0m                                 Traceback (most recent call last)",
      "\u001b[1;32m<ipython-input-20-e970592bf91a>\u001b[0m in \u001b[0;36m<module>\u001b[1;34m()\u001b[0m\n\u001b[0;32m      4\u001b[0m \u001b[0ml_l2\u001b[0m \u001b[1;33m=\u001b[0m \u001b[1;36m1e-1\u001b[0m\u001b[1;33m\u001b[0m\u001b[0m\n\u001b[0;32m      5\u001b[0m \u001b[1;33m\u001b[0m\u001b[0m\n\u001b[1;32m----> 6\u001b[1;33m \u001b[0mx_ista\u001b[0m\u001b[1;33m,\u001b[0m \u001b[0mobj_ista\u001b[0m\u001b[1;33m,\u001b[0m \u001b[0merr_ista\u001b[0m \u001b[1;33m=\u001b[0m \u001b[0mista\u001b[0m\u001b[1;33m(\u001b[0m\u001b[0mx0\u001b[0m\u001b[1;33m,\u001b[0m \u001b[0ml_l1\u001b[0m\u001b[1;33m,\u001b[0m \u001b[0ml_l2\u001b[0m\u001b[1;33m,\u001b[0m \u001b[0mn_iter\u001b[0m\u001b[1;33m=\u001b[0m\u001b[0mn_iter\u001b[0m\u001b[1;33m)\u001b[0m\u001b[1;33m\u001b[0m\u001b[0m\n\u001b[0m\u001b[0;32m      7\u001b[0m \u001b[0mx_fista\u001b[0m\u001b[1;33m,\u001b[0m \u001b[0mobj_fista\u001b[0m\u001b[1;33m,\u001b[0m \u001b[0merr_fista\u001b[0m \u001b[1;33m=\u001b[0m \u001b[0mfista\u001b[0m\u001b[1;33m(\u001b[0m\u001b[0mx0\u001b[0m\u001b[1;33m,\u001b[0m \u001b[0ml_l1\u001b[0m\u001b[1;33m,\u001b[0m \u001b[0ml_l2\u001b[0m\u001b[1;33m,\u001b[0m \u001b[0mn_iter\u001b[0m\u001b[1;33m=\u001b[0m\u001b[0mn_iter\u001b[0m\u001b[1;33m)\u001b[0m\u001b[1;33m\u001b[0m\u001b[0m\n\u001b[0;32m      8\u001b[0m \u001b[1;33m\u001b[0m\u001b[0m\n",
      "\u001b[1;32m<ipython-input-14-67babaa7c05f>\u001b[0m in \u001b[0;36mista\u001b[1;34m(x0, l_l1, l_l2, step, n_iter, x_true)\u001b[0m\n\u001b[0;32m     21\u001b[0m     \u001b[0mobjectives\u001b[0m \u001b[1;33m=\u001b[0m \u001b[1;33m[\u001b[0m\u001b[1;33m]\u001b[0m\u001b[1;33m\u001b[0m\u001b[0m\n\u001b[0;32m     22\u001b[0m     \u001b[1;31m# Current objective\u001b[0m\u001b[1;33m\u001b[0m\u001b[1;33m\u001b[0m\u001b[0m\n\u001b[1;32m---> 23\u001b[1;33m     \u001b[0mobj\u001b[0m \u001b[1;33m=\u001b[0m \u001b[0mf\u001b[0m\u001b[1;33m(\u001b[0m\u001b[0mx\u001b[0m\u001b[1;33m)\u001b[0m \u001b[1;33m+\u001b[0m \u001b[0mg\u001b[0m\u001b[1;33m(\u001b[0m\u001b[0mx\u001b[0m\u001b[1;33m)\u001b[0m\u001b[1;33m\u001b[0m\u001b[0m\n\u001b[0m\u001b[0;32m     24\u001b[0m     \u001b[0mobjectives\u001b[0m\u001b[1;33m.\u001b[0m\u001b[0mappend\u001b[0m\u001b[1;33m(\u001b[0m\u001b[0mobj\u001b[0m\u001b[1;33m)\u001b[0m\u001b[1;33m\u001b[0m\u001b[0m\n\u001b[0;32m     25\u001b[0m     \u001b[1;32mprint\u001b[0m \u001b[1;34m\"Lauching ISTA solver...\"\u001b[0m\u001b[1;33m\u001b[0m\u001b[0m\n",
      "\u001b[1;31mNameError\u001b[0m: global name 'g' is not defined"
     ]
    }
   ],
   "source": [
    "# Let's reduce the number of iterations and compare estimators\n",
    "n_iter = 15\n",
    "l_l1 = 3e-2\n",
    "l_l2 = 1e-1\n",
    "\n",
    "x_ista, obj_ista, err_ista = ista(x0, l_l1, l_l2, n_iter=n_iter)\n",
    "x_fista, obj_fista, err_fista = fista(x0, l_l1, l_l2, n_iter=n_iter)\n",
    "\n",
    "# Estimated parameters using ISTA, FISTA and Coordinate Descent\n",
    "plt.rcParams['figure.figsize'] = (16.0, 4.0)\n",
    "plt.subplot(1, 4, 1)\n",
    "plt.stem(coefs)\n",
    "plt.ylim([-1, 1])\n",
    "plt.title(\"True parameter\")\n",
    "plt.subplot(1, 4, 2)\n",
    "plt.stem(x_ista)\n",
    "plt.ylim([-1, 1])\n",
    "plt.title(\"ISTA Solution\")\n",
    "plt.subplot(1, 4, 3)\n",
    "plt.stem(x_fista)\n",
    "plt.ylim([-1, 1])\n",
    "plt.title(\"FISTA Solution\")"
   ]
  },
  {
   "cell_type": "markdown",
   "metadata": {},
   "source": [
    "### Questions"
   ]
  },
  {
   "cell_type": "markdown",
   "metadata": {},
   "source": [
    "- Relaunch solvers with several values of rho (rho = 0.9, rho = 0.1). How does rho affect the convergence? Why?"
   ]
  },
  {
   "cell_type": "code",
   "execution_count": 19,
   "metadata": {
    "collapsed": false
   },
   "outputs": [
    {
     "name": "stdout",
     "output_type": "stream",
     "text": [
      "2.13080413313\n",
      "Lauching ISTA solver...\n",
      "   it    |   obj    |   err   \n",
      "       0 | 1.41e+00 | 5.20e-01\n",
      "      10 | 1.13e+00 | 1.94e-01\n",
      "      20 | 1.13e+00 | 1.94e-01\n",
      "      30 | 1.13e+00 | 1.94e-01\n",
      "Lauching FISTA solver...\n",
      "   it    |   obj    |   err   \n",
      "       0 | 1.41e+00 | 5.20e-01\n",
      "      10 | 1.13e+00 | 1.94e-01\n",
      "      20 | 1.13e+00 | 1.94e-01\n",
      "      30 | 1.13e+00 | 1.94e-01\n"
     ]
    },
    {
     "data": {
      "text/plain": [
       "<matplotlib.text.Text at 0x7ffb308f9990>"
      ]
     },
     "execution_count": 19,
     "metadata": {},
     "output_type": "execute_result"
    },
    {
     "data": {
      "image/png": "[encoded data removed]",
      "text/plain": [
       "<matplotlib.figure.Figure at 0x7ffb30599f90>"
      ]
     },
     "metadata": {},
     "output_type": "display_data"
    }
   ],
   "source": [
    "rho = 0.1\n",
    "cov = toeplitz(rho ** np.arange(0, n_features))\n",
    "A = multivariate_normal(np.zeros(n_features), cov, size=n_samples)\n",
    "b = A.dot(coefs) + noise\n",
    "\n",
    "U, s, Vh = sc.linalg.svd(A.T.dot(A))\n",
    "nu = np.min(s)\n",
    "L = np.max(s)\n",
    "conditionnement = L/nu\n",
    "print conditionnement\n",
    "\n",
    "x0 = np.zeros(n_features)\n",
    "n_iter = 40\n",
    "l_l1 = 5e-2\n",
    "l_l2 = 1e-1\n",
    "x_ista, obj_ista, err_ista = ista(x0, l_l1, l_l2, n_iter=n_iter)\n",
    "x_fista, obj_fista, err_fista = fista(x0, l_l1, l_l2, n_iter=n_iter)\n",
    "\n",
    "plt.rcParams['figure.figsize'] = (15.0, 4.0)\n",
    "plt.subplot(1, 2, 1)\n",
    "plt.plot(obj_ista, label=\"ISTA\", lw=2)\n",
    "plt.plot(obj_fista, label=\"FISTA\", lw=2)\n",
    "plt.title(\"Objective\")\n",
    "plt.legend()\n",
    "plt.subplot(1, 2, 2)\n",
    "plt.plot(err_ista, label=\"ISTA\", lw=2)\n",
    "plt.plot(err_fista, label=\"FISTA\", lw=2)\n",
    "plt.legend()\n",
    "plt.title(\"Estimation errors\")"
   ]
  },
  {
   "cell_type": "code",
   "execution_count": 20,
   "metadata": {
    "collapsed": false
   },
   "outputs": [
    {
     "name": "stdout",
     "output_type": "stream",
     "text": [
      "315.518648774\n",
      "Lauching ISTA solver...\n",
      "   it    |   obj    |   err   \n",
      "       0 | 7.55e-01 | 9.94e-01\n",
      "      10 | 6.99e-01 | 9.59e-01\n",
      "      20 | 6.88e-01 | 9.41e-01\n",
      "      30 | 6.83e-01 | 9.29e-01\n",
      "Lauching FISTA solver...\n",
      "   it    |   obj    |   err   \n",
      "       0 | 7.55e-01 | 9.94e-01\n",
      "      10 | 6.86e-01 | 9.36e-01\n",
      "      20 | 6.78e-01 | 9.16e-01\n",
      "      30 | 6.78e-01 | 9.25e-01\n"
     ]
    },
    {
     "data": {
      "text/plain": [
       "<matplotlib.text.Text at 0x7ffb2ad4bc90>"
      ]
     },
     "execution_count": 20,
     "metadata": {},
     "output_type": "execute_result"
    },
    {
     "data": {
      "image/png": "[encoded data removed]",
      "text/plain": [
       "<matplotlib.figure.Figure at 0x7ffb307e2bd0>"
      ]
     },
     "metadata": {},
     "output_type": "display_data"
    }
   ],
   "source": [
    "rho = 0.9\n",
    "cov = toeplitz(rho ** np.arange(0, n_features))\n",
    "A = multivariate_normal(np.zeros(n_features), cov, size=n_samples)\n",
    "b = A.dot(coefs) + noise\n",
    "\n",
    "U, s, Vh = sc.linalg.svd(A.T.dot(A))\n",
    "nu = np.min(s)\n",
    "L = np.max(s)\n",
    "conditionnement = L/nu\n",
    "print conditionnement\n",
    "\n",
    "x0 = np.zeros(n_features)\n",
    "n_iter = 40\n",
    "l_l1 = 5e-2\n",
    "l_l2 = 1e-1\n",
    "x_ista, obj_ista, err_ista = ista(x0, l_l1, l_l2, n_iter=n_iter)\n",
    "x_fista, obj_fista, err_fista = fista(x0, l_l1, l_l2, n_iter=n_iter)\n",
    "\n",
    "plt.rcParams['figure.figsize'] = (15.0, 4.0)\n",
    "plt.subplot(1, 2, 1)\n",
    "plt.plot(obj_ista, label=\"ISTA\", lw=2)\n",
    "plt.plot(obj_fista, label=\"FISTA\", lw=2)\n",
    "plt.title(\"Objective\")\n",
    "plt.legend()\n",
    "plt.subplot(1, 2, 2)\n",
    "plt.plot(err_ista, label=\"ISTA\", lw=2)\n",
    "plt.plot(err_fista, label=\"FISTA\", lw=2)\n",
    "plt.legend()\n",
    "plt.title(\"Estimation errors\")"
   ]
  },
  {
   "cell_type": "markdown",
   "metadata": {},
   "source": [
    "# Influence de RHO sur la convergence\n",
    "\n",
    "On remarque ainsi que le \"condition number\" augmente lorsque Rho augmente, celà signifie que la matrice des features est moins bien conditionnée, ce qui est normal car l'on a alors moins d'information dans nos données (les variables sont plus correlées). Il est donc logique qu'une décomposition en valeur singulières donne une valeur maximale plus grande et une valeur mimale plus faible.\n",
    "\n",
    "Nous avons d'autre part vu (slide 80 du cours) que le vitesse de convergence est proportionnelle au pas (step) or nous l'avons choisi proportionnel à 1/L donc plus L est grand plus lente sera la convergence."
   ]
  },
  {
   "cell_type": "markdown",
   "metadata": {},
   "source": [
    "## Part 4. Multitask learning\n",
    "\n",
    "We consider the setting of multitask learning, where instead of a single label $b_i$ we have ``n_tasks`` labels. The model writes\n",
    "\n",
    "$$\n",
    "B = A C + E\n",
    "$$\n",
    "\n",
    "where:\n",
    "- $B$ is a (``n_samples``, ``n_tasks``) labels matrix\n",
    "- $A$ is a (``n_samples``, ``n_features``) features matrix\n",
    "- $C$ is a (``n_features``, ``n_tasks``) matrix of parameters to be estimated\n",
    "- $E$ is a (``n_samples``, ``n_tasks``) noise matrix\n",
    "\n",
    "Let's simulate this model:"
   ]
  },
  {
   "cell_type": "code",
   "execution_count": 21,
   "metadata": {
    "collapsed": false,
    "scrolled": false
   },
   "outputs": [
    {
     "data": {
      "text/plain": [
       "<matplotlib.text.Text at 0x7ffb2acd91d0>"
      ]
     },
     "execution_count": 21,
     "metadata": {},
     "output_type": "execute_result"
    },
    {
     "data": {
      "image/png": "[encoded data removed]",
      "text/plain": [
       "<matplotlib.figure.Figure at 0x7ffb301c3dd0>"
      ]
     },
     "metadata": {},
     "output_type": "display_data"
    }
   ],
   "source": [
    "from numpy.random import randn\n",
    "from matplotlib.cm import Greys\n",
    "\n",
    "n_features = 50\n",
    "n_samples = 2000\n",
    "n_tasks = 100\n",
    "\n",
    "std = 5.\n",
    "noise = std * randn(n_samples, n_tasks)\n",
    "\n",
    "coefs = np.zeros((n_features, n_tasks))\n",
    "coefs[0:10, :] = 1.\n",
    "\n",
    "B = A.dot(coefs) + noise\n",
    "\n",
    "plt.matshow(coefs, cmap=Greys)\n",
    "plt.title(\"Coefficients. The first 10 features are active for all tasks\")\n",
    "plt.xlabel(\"Task\")\n",
    "plt.ylabel(\"Feature\")"
   ]
  },
  {
   "cell_type": "markdown",
   "metadata": {},
   "source": [
    "**Questions:**\n",
    "\n",
    "- Code the Lasso for the multitask problem using Fista (most of the previous code could be used as such)\n",
    "- Plot the coefficients obtained "
   ]
  },
  {
   "cell_type": "code",
   "execution_count": 22,
   "metadata": {
    "collapsed": true
   },
   "outputs": [],
   "source": [
    "def fista(x0, l_l1=0., l_l2=0., step=None, n_iter=50, x_true=coefs):\n",
    "    x = x0.copy()\n",
    "    x_new = x0.copy()\n",
    "    nu=1\n",
    "    z_t = x0.copy()\n",
    "    \n",
    "    def g(x):\n",
    "        return lasso(x, l_l1)\n",
    "\n",
    "    def prox_g(x, t):\n",
    "        \"\"\"Proximal operator for the lasso at x\"\"\"\n",
    "        return prox_lasso(x,t*l_l1)\n",
    "        #return prox_enet(x,t*l_l1,t*l_l2)\n",
    "            \n",
    "    \n",
    "    if step is None:\n",
    "        step = n_samples/L  # TODO\n",
    "    t=step   \n",
    "\n",
    "    # estimation error history\n",
    "    errors = []\n",
    "    # objective history\n",
    "    objectives = []\n",
    "    # Current estimation error\n",
    "    err = norm(x - x_true) / norm(x_true)\n",
    "    errors.append(err)\n",
    "    # Current objective\n",
    "    obj = f(x) + g(x)\n",
    "    objectives.append(obj)    \n",
    "    print \"Lauching FISTA solver...\"    \n",
    "    print ' | '.join([name.center(8) for name in [\"it\", \"obj\", \"err\"]])\n",
    "    for k in range(n_iter):\n",
    "        # ISTA update\n",
    "        x_new[:] = prox_g(z_t-t*grad_f(z_t), t)\n",
    "        nu_2 = np.sqrt(nu**2 + (1/4.0))+(1/2.0)\n",
    "        #nu_2 = (k+1)/2.0\n",
    "        z_t = x_new + ((nu-1)/(nu_2))*(x_new-x)\n",
    "        nu = nu_2\n",
    "        x[:] = x_new\n",
    "        #x[:] = x  # TODO\n",
    "        obj = f(x) + g(x)\n",
    "        err = norm(x - x_true) / norm(x_true)\n",
    "        errors.append(err)\n",
    "        objectives.append(obj)\n",
    "        if k % 10 == 0:\n",
    "            print ' | '.join( [ (\"%d\" % k).rjust(8), (\"%.2e\" % obj).rjust(8), (\"%.2e\" % err).rjust(8)])\n",
    "    return x, objectives, errors"
   ]
  },
  {
   "cell_type": "code",
   "execution_count": 23,
   "metadata": {
    "collapsed": false
   },
   "outputs": [
    {
     "name": "stdout",
     "output_type": "stream",
     "text": [
      "(50, 100)\n",
      "Lauching FISTA solver...\n",
      "   it    |   obj    |   err   \n",
      "       0 | 1.90e+03 | 2.15e+00\n",
      "      10 | 7.32e+02 | 8.24e-01\n",
      "      20 | 4.83e+02 | 4.33e-01\n",
      "      30 | 4.76e+02 | 3.34e-01\n",
      "      40 | 4.76e+02 | 3.10e-01\n"
     ]
    }
   ],
   "source": [
    "# TO BE COMPLETED\n",
    "\n",
    "# Multitask least-squares loss\n",
    "def f(x):\n",
    "    return 0.5 * norm(B - A.dot(x)) ** 2 / (n_samples * n_tasks)\n",
    "\n",
    "def grad_f(x):\n",
    "    return (A.T.dot(A).dot(x)-A.T.dot(B))/(n_samples)\n",
    "\n",
    "x0 = np.random.randn(n_features, n_tasks)\n",
    "print grad_f(x0).shape\n",
    "\n",
    "\n",
    "n_iter = 50\n",
    "l_l1 = 0.5\n",
    "l_l2 = 0.\n",
    "x_fista, obj_fista, err_fista = fista(x0, l_l1, l_l2, n_iter=n_iter, x_true=coefs)\n"
   ]
  },
  {
   "cell_type": "markdown",
   "metadata": {},
   "source": [
    "### Solution of the Lasso for the multitask problem"
   ]
  },
  {
   "cell_type": "code",
   "execution_count": 24,
   "metadata": {
    "collapsed": false,
    "scrolled": true
   },
   "outputs": [
    {
     "data": {
      "text/plain": [
       "<matplotlib.text.Text at 0x7ffb2ae1dc90>"
      ]
     },
     "execution_count": 24,
     "metadata": {},
     "output_type": "execute_result"
    },
    {
     "data": {
      "image/png": "[encoded data removed]",
      "text/plain": [
       "<matplotlib.figure.Figure at 0x7ffb30590490>"
      ]
     },
     "metadata": {},
     "output_type": "display_data"
    }
   ],
   "source": [
    "plt.matshow(x_fista, cmap=Greys)\n",
    "plt.title(\"Recovered coefficients.\")\n",
    "plt.xlabel(\"Task\")\n",
    "plt.ylabel(\"Feature\")"
   ]
  },
  {
   "cell_type": "markdown",
   "metadata": {},
   "source": [
    "### Group-Lasso for the multitask problem"
   ]
  },
  {
   "cell_type": "markdown",
   "metadata": {},
   "source": [
    "We want now to use group Lasso for the multitask problem. \n",
    "We consider then the Group-Lasso penalization, with proximal operator given by\n",
    "\n",
    "$$\n",
    "\\text{prox}(Y) = \\arg\\min_X \\Big\\{ \\frac 12 \\|X - Y\\|_F^2 + \\lambda_{2, 1} \\|X\\|_{2, 1} \\Big\\},\n",
    "$$\n",
    "\n",
    "where\n",
    "\n",
    "- $\\|X\\|_F$ is the Frobenius norm (matrix Euclidean norm)\n",
    "- $\\|X\\|_{2, 1} = \\sum_{j=1}^d \\sqrt{\\sum_{k=1}^K X_{j, k}^2}$ with $d$ being the number of features and $K$ the number of tasks"
   ]
  },
  {
   "cell_type": "markdown",
   "metadata": {},
   "source": [
    "**Questions**\n",
    "\n",
    "- Code the proximal operator of the Group-Lasso\n",
    "- Based on the previous Fista solver, code a solver for the group-Lasso\n",
    "- Launch the solver, comment and compare with the Lasso solution"
   ]
  },
  {
   "cell_type": "code",
   "execution_count": 27,
   "metadata": {
    "collapsed": false
   },
   "outputs": [
    {
     "data": {
      "text/plain": [
       "(50, 100)"
      ]
     },
     "execution_count": 27,
     "metadata": {},
     "output_type": "execute_result"
    }
   ],
   "source": [
    "X = np.random.randn(n_features, n_tasks)\n",
    "l_group_l1=5.\n",
    "test =np.asarray([X[i,:]-l_group_l1*X[i,:]/norm(X[i,:],2) if norm(X[i,:],2)>l_group_l1 else 0 for i in range(n_features)])\n",
    "test.shape"
   ]
  },
  {
   "cell_type": "code",
   "execution_count": 30,
   "metadata": {
    "collapsed": false
   },
   "outputs": [],
   "source": [
    "# TO BE COMPLETED\n",
    "\n",
    "def group_lasso(X, l_group_l1):\n",
    "    return l_group_l1 * np.sqrt((coefs ** 2).sum(axis=1)).sum()\n",
    "\n",
    "def prox_group_lasso(X, l_group_l1):\n",
    "    return np.asarray([X[i,:]-l_group_l1*X[i,:]/norm(X[i,:],2) if norm(X[i,:],2)>l_group_l1 else 0 for i in range(n_features)])\n",
    "    #return [X[i,:]-l_group_l1*X[i,:]/norm(X[i,:],2) if norm(X[i,:],2)>l_group_l1 else 0 for i in range(n_features)]\n",
    "\n",
    "def fista_group_lasso(x0, l_group_l1=1., step=None, n_iter=50, x_true=coefs):\n",
    "    x = x0.copy()\n",
    "    x_new = x0.copy()\n",
    "    z = x0.copy()\n",
    "    n_samples, n_features = A.shape\n",
    "\n",
    "    def g(x):\n",
    "        return group_lasso(x, l_l1)\n",
    "\n",
    "    def prox_g(x, t):\n",
    "        return prox_group_lasso(x,t*l_group_l1)\n",
    "    \n",
    "    if step is None:\n",
    "        step = n_samples/ norm(A.T.dot(A), 2)\n",
    "\n",
    "    errors = []\n",
    "    objectives = []\n",
    "    err = norm(x - x_true) / norm(x_true)\n",
    "    errors.append(err)\n",
    "    obj = f(x) + g(x)\n",
    "    objectives.append(obj)\n",
    "    t = 1.\n",
    "    t_new = 1.    \n",
    "    print \"Lauching FISTA solver...\"    \n",
    "    print ' | '.join([name.center(8) for name in [\"it\", \"obj\", \"err\"]])\n",
    "    for k in range(n_iter):\n",
    "        x_new[:] = prox_g(z - step * grad_f(z), step)\n",
    "        t_new = (1. + (1. + 4. * t * t)) ** (0.5) / 2.\n",
    "        z[:] = x_new + (t - 1) / t_new * (x_new - x)\n",
    "        t = t_new\n",
    "        x[:] = x_new\n",
    "        obj = f(x) + g(x)\n",
    "        err = norm(x - x_true) / norm(x_true)\n",
    "        errors.append(err)\n",
    "        objectives.append(obj)\n",
    "        if k % 10 == 0:\n",
    "            print ' | '.join( [ (\"%d\" % k).rjust(8), (\"%.2e\" % obj).rjust(8), (\"%.2e\" % err).rjust(8)])\n",
    "    return x, objectives, errors"
   ]
  },
  {
   "cell_type": "code",
   "execution_count": 31,
   "metadata": {
    "collapsed": false,
    "scrolled": false
   },
   "outputs": [
    {
     "name": "stdout",
     "output_type": "stream",
     "text": [
      "Lauching FISTA solver...\n",
      "   it    |   obj    |   err   \n",
      "       0 | 7.78e+01 | 2.12e+00\n",
      "      10 | 6.29e+01 | 7.18e-01\n"
     ]
    },
    {
     "ename": "ValueError",
     "evalue": "could not broadcast input array from shape (50) into shape (50,100)",
     "output_type": "error",
     "traceback": [
      "\u001b[1;31m---------------------------------------------------------------------------\u001b[0m",
      "\u001b[1;31mValueError\u001b[0m                                Traceback (most recent call last)",
      "\u001b[1;32m<ipython-input-31-b1b426696427>\u001b[0m in \u001b[0;36m<module>\u001b[1;34m()\u001b[0m\n\u001b[0;32m      2\u001b[0m \u001b[0mn_iter\u001b[0m \u001b[1;33m=\u001b[0m \u001b[1;36m50\u001b[0m\u001b[1;33m\u001b[0m\u001b[0m\n\u001b[0;32m      3\u001b[0m \u001b[0ml_group_l1\u001b[0m \u001b[1;33m=\u001b[0m \u001b[1;36m5.\u001b[0m\u001b[1;33m\u001b[0m\u001b[0m\n\u001b[1;32m----> 4\u001b[1;33m \u001b[0mx_glasso\u001b[0m\u001b[1;33m,\u001b[0m \u001b[0m_\u001b[0m\u001b[1;33m,\u001b[0m \u001b[0m_\u001b[0m \u001b[1;33m=\u001b[0m \u001b[0mfista_group_lasso\u001b[0m\u001b[1;33m(\u001b[0m\u001b[0mx0\u001b[0m\u001b[1;33m,\u001b[0m \u001b[0ml_group_l1\u001b[0m\u001b[1;33m,\u001b[0m \u001b[0mn_iter\u001b[0m\u001b[1;33m=\u001b[0m\u001b[0mn_iter\u001b[0m\u001b[1;33m,\u001b[0m \u001b[0mx_true\u001b[0m\u001b[1;33m=\u001b[0m\u001b[0mcoefs\u001b[0m\u001b[1;33m)\u001b[0m\u001b[1;33m\u001b[0m\u001b[0m\n\u001b[0m",
      "\u001b[1;32m<ipython-input-30-854d9f57c11f>\u001b[0m in \u001b[0;36mfista_group_lasso\u001b[1;34m(x0, l_group_l1, step, n_iter, x_true)\u001b[0m\n\u001b[0;32m     34\u001b[0m     \u001b[1;32mprint\u001b[0m \u001b[1;34m' | '\u001b[0m\u001b[1;33m.\u001b[0m\u001b[0mjoin\u001b[0m\u001b[1;33m(\u001b[0m\u001b[1;33m[\u001b[0m\u001b[0mname\u001b[0m\u001b[1;33m.\u001b[0m\u001b[0mcenter\u001b[0m\u001b[1;33m(\u001b[0m\u001b[1;36m8\u001b[0m\u001b[1;33m)\u001b[0m \u001b[1;32mfor\u001b[0m \u001b[0mname\u001b[0m \u001b[1;32min\u001b[0m \u001b[1;33m[\u001b[0m\u001b[1;34m\"it\"\u001b[0m\u001b[1;33m,\u001b[0m \u001b[1;34m\"obj\"\u001b[0m\u001b[1;33m,\u001b[0m \u001b[1;34m\"err\"\u001b[0m\u001b[1;33m]\u001b[0m\u001b[1;33m]\u001b[0m\u001b[1;33m)\u001b[0m\u001b[1;33m\u001b[0m\u001b[0m\n\u001b[0;32m     35\u001b[0m     \u001b[1;32mfor\u001b[0m \u001b[0mk\u001b[0m \u001b[1;32min\u001b[0m \u001b[0mrange\u001b[0m\u001b[1;33m(\u001b[0m\u001b[0mn_iter\u001b[0m\u001b[1;33m)\u001b[0m\u001b[1;33m:\u001b[0m\u001b[1;33m\u001b[0m\u001b[0m\n\u001b[1;32m---> 36\u001b[1;33m         \u001b[0mx_new\u001b[0m\u001b[1;33m[\u001b[0m\u001b[1;33m:\u001b[0m\u001b[1;33m]\u001b[0m \u001b[1;33m=\u001b[0m \u001b[0mprox_g\u001b[0m\u001b[1;33m(\u001b[0m\u001b[0mz\u001b[0m \u001b[1;33m-\u001b[0m \u001b[0mstep\u001b[0m \u001b[1;33m*\u001b[0m \u001b[0mgrad_f\u001b[0m\u001b[1;33m(\u001b[0m\u001b[0mz\u001b[0m\u001b[1;33m)\u001b[0m\u001b[1;33m,\u001b[0m \u001b[0mstep\u001b[0m\u001b[1;33m)\u001b[0m\u001b[1;33m\u001b[0m\u001b[0m\n\u001b[0m\u001b[0;32m     37\u001b[0m         \u001b[0mt_new\u001b[0m \u001b[1;33m=\u001b[0m \u001b[1;33m(\u001b[0m\u001b[1;36m1.\u001b[0m \u001b[1;33m+\u001b[0m \u001b[1;33m(\u001b[0m\u001b[1;36m1.\u001b[0m \u001b[1;33m+\u001b[0m \u001b[1;36m4.\u001b[0m \u001b[1;33m*\u001b[0m \u001b[0mt\u001b[0m \u001b[1;33m*\u001b[0m \u001b[0mt\u001b[0m\u001b[1;33m)\u001b[0m\u001b[1;33m)\u001b[0m \u001b[1;33m**\u001b[0m \u001b[1;33m(\u001b[0m\u001b[1;36m0.5\u001b[0m\u001b[1;33m)\u001b[0m \u001b[1;33m/\u001b[0m \u001b[1;36m2.\u001b[0m\u001b[1;33m\u001b[0m\u001b[0m\n\u001b[0;32m     38\u001b[0m         \u001b[0mz\u001b[0m\u001b[1;33m[\u001b[0m\u001b[1;33m:\u001b[0m\u001b[1;33m]\u001b[0m \u001b[1;33m=\u001b[0m \u001b[0mx_new\u001b[0m \u001b[1;33m+\u001b[0m \u001b[1;33m(\u001b[0m\u001b[0mt\u001b[0m \u001b[1;33m-\u001b[0m \u001b[1;36m1\u001b[0m\u001b[1;33m)\u001b[0m \u001b[1;33m/\u001b[0m \u001b[0mt_new\u001b[0m \u001b[1;33m*\u001b[0m \u001b[1;33m(\u001b[0m\u001b[0mx_new\u001b[0m \u001b[1;33m-\u001b[0m \u001b[0mx\u001b[0m\u001b[1;33m)\u001b[0m\u001b[1;33m\u001b[0m\u001b[0m\n",
      "\u001b[1;31mValueError\u001b[0m: could not broadcast input array from shape (50) into shape (50,100)"
     ]
    }
   ],
   "source": [
    "x0 = np.random.randn(n_features, n_tasks)\n",
    "n_iter = 50\n",
    "l_group_l1 = 5.\n",
    "x_glasso, _, _ = fista_group_lasso(x0, l_group_l1, n_iter=n_iter, x_true=coefs)"
   ]
  },
  {
   "cell_type": "code",
   "execution_count": null,
   "metadata": {
    "collapsed": false,
    "scrolled": false
   },
   "outputs": [],
   "source": [
    "plt.matshow(x_glasso, cmap=Greys)\n",
    "plt.title(\"Recovered coefficients.\")\n",
    "plt.xlabel(\"Task\")\n",
    "plt.ylabel(\"Feature\")"
   ]
  },
  {
   "cell_type": "markdown",
   "metadata": {},
   "source": [
    "** Extra questions**\n",
    "- Code gradient and likelihood of the logistic regression model. Use ISTA and FISTA to solve penalized logistic regression\n",
    "- Implement a backtracking linesearch in ISTA and FISTA (and increase the step at each iteration to accelerate)"
   ]
  }
 ],
 "metadata": {
  "anaconda-cloud": {},
  "kernelspec": {
   "display_name": "Python 2",
   "language": "python",
   "name": "python2"
  },
  "language_info": {
   "codemirror_mode": {
    "name": "ipython",
    "version": 2
   },
   "file_extension": ".py",
   "mimetype": "text/x-python",
   "name": "python",
   "nbconvert_exporter": "python",
   "pygments_lexer": "ipython2",
   "version": "2.7.12"
  }
 },
 "nbformat": 4,
 "nbformat_minor": 0
}
