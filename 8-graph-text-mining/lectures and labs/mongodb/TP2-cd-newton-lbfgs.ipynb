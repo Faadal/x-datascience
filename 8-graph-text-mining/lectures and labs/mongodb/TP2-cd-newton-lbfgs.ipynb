{
 "cells": [
  {
   "cell_type": "markdown",
   "metadata": {},
   "source": [
    "# TP2: From coordinate descent to second order methods\n",
    "\n",
    "#### Authors: O. Fercoq, S. Gaiffas, A. Gramfort\n",
    "\n",
    "The aim of this material is to go beyond gradient methods to tackle regression and classification optimization problems.\n",
    "\n",
    "This will cover:\n",
    "\n",
    "- Part 1 : Coordinate descent for the Lasso problem\n",
    "- Part 2 : Newton method with and without Armijo line-search on Logistic regression\n",
    "- Part 3 : L-BFGS on Logistic regression\n",
    "\n",
    "This work should be done by pairs of students. One document for each pair of students should be sent to:\n",
    "\n",
    "alexandre.gramfort@telecom-paristech.fr\n",
    "\n",
    "**PLEASE use as object/title for your email \"TP2-DS-Optim\"**"
   ]
  },
  {
   "cell_type": "code",
   "execution_count": 1,
   "metadata": {
    "collapsed": false
   },
   "outputs": [],
   "source": [
    "# to embed figures in the notebook\n",
    "%matplotlib inline"
   ]
  },
  {
   "cell_type": "markdown",
   "metadata": {},
   "source": [
    "## Part 1 : Coordinate descent for the lasso\n",
    "\n",
    "We'll start by generating sparse vectors and simulating data"
   ]
  },
  {
   "cell_type": "code",
   "execution_count": 2,
   "metadata": {
    "collapsed": true
   },
   "outputs": [],
   "source": [
    "import numpy as np\n",
    "import matplotlib.pyplot as plt\n",
    "np.set_printoptions(precision=2)  # to have simpler print outputs with numpy"
   ]
  },
  {
   "cell_type": "code",
   "execution_count": 3,
   "metadata": {
    "collapsed": false
   },
   "outputs": [
    {
     "data": {
      "text/plain": [
       "<matplotlib.text.Text at 0x10fe347d0>"
      ]
     },
     "execution_count": 3,
     "metadata": {},
     "output_type": "execute_result"
    },
    {
     "data": {
      "image/png": "[encoded data removed]",
      "text/plain": [
       "<matplotlib.figure.Figure at 0x102db8790>"
      ]
     },
     "metadata": {},
     "output_type": "display_data"
    }
   ],
   "source": [
    "n_features = 50\n",
    "n_samples = 2000\n",
    "idx = np.arange(n_features)\n",
    "coefs = (-1) ** (idx - 1) * np.exp(-idx / 10.)\n",
    "coefs[20:] = 0.\n",
    "plt.stem(coefs)\n",
    "plt.title(\"Parameters / Coefficients\")"
   ]
  },
  {
   "cell_type": "code",
   "execution_count": 4,
   "metadata": {
    "collapsed": false
   },
   "outputs": [
    {
     "name": "stdout",
     "output_type": "stream",
     "text": [
      "(2000, 50)\n",
      "(2000,)\n"
     ]
    }
   ],
   "source": [
    "# Simulation of the features matrix\n",
    "from numpy.random import multivariate_normal\n",
    "from scipy.linalg.special_matrices import toeplitz\n",
    "\n",
    "# Correlation\n",
    "rho = 0.7\n",
    "\n",
    "# Construction of a covariance matrix\n",
    "cov = toeplitz(rho ** np.arange(0, n_features))\n",
    "\n",
    "# Simulation of Gaussian vectors with this covariance matrix (it will be the features)\n",
    "A = multivariate_normal(np.zeros(n_features), cov, size=n_samples)\n",
    "\n",
    "from numpy.random import randn\n",
    "\n",
    "# Simulation of a linear model\n",
    "std = 1.\n",
    "noise = std * randn(n_samples)\n",
    "\n",
    "# Simulation of the labels according to the linear regression model : b = A coefs + noise\n",
    "b = A.dot(coefs) + noise\n",
    "\n",
    "print(A.shape)\n",
    "print(b.shape)"
   ]
  },
  {
   "cell_type": "markdown",
   "metadata": {},
   "source": [
    "### Coordinate Descent on Lasso problem"
   ]
  },
  {
   "cell_type": "markdown",
   "metadata": {},
   "source": [
    "We consider the following optimization problem:\n",
    "$$\n",
    "\\arg\\min_x \\frac{1}{2} \\| b - A x \\|^2 + \\lambda \\|x\\|_1\n",
    "$$\n",
    "\n",
    "## Questions\n",
    "\n",
    "- Write the formula of one coefficient update when running a proximal coordinate descent.\n",
    "- Implement a proximal coordinate descent solver based on the code skeleton below. You will use a cyclic selection of the coordinates."
   ]
  },
  {
   "cell_type": "code",
   "execution_count": 5,
   "metadata": {
    "collapsed": false
   },
   "outputs": [],
   "source": [
    "# TODO\n",
    "\n",
    "from scipy import linalg\n",
    "\n",
    "\n",
    "def lasso_coord_descent(x0, A, b, l_l1=0., n_iter=50):\n",
    "    \"\"\"Coordinate descent solver for the Lasso\n",
    "    \n",
    "    Parameters\n",
    "    ----------\n",
    "    x0 : array, shape (n_features,)\n",
    "    A : array, shape (n_samples, n_features)\n",
    "    b : array, shape (n_samples,)\n",
    "    l_l1 : float\n",
    "        The lambda regularization parameter\n",
    "    n_iter : int\n",
    "        The number of iterations over the full dataset.\n",
    "        n_features * n_iter coordinate updates will be done.\n",
    "    \n",
    "    Returns\n",
    "    -------\n",
    "    x : array, shape (n_features,)\n",
    "    objectives : array, shape (n_iter + 1,)\n",
    "        The value of the primal objective function at the beginning\n",
    "        and after each pass on all features.\n",
    "    errors : array, shape (n_iter + 1,)\n",
    "        The value of the estimation error at the beginning and after each\n",
    "        pass on all features.\n",
    "    \"\"\"\n",
    "    \n",
    "    n_samples, n_features = A.shape\n",
    "    x = x0.copy()\n",
    "    x_new = x0.copy()\n",
    "    # Vector that'll contain the residuals\n",
    "    r = b - np.dot(A, x0)\n",
    "    errors = []\n",
    "    objectives = []\n",
    "    err = linalg.norm(x - coefs) / linalg.norm(coefs)\n",
    "    errors.append(err)\n",
    "    \n",
    "    def compute_obj(x):\n",
    "        return 0.5 * linalg.norm(A.dot(x) - b) ** 2 + l_l1 * np.sum(np.abs(x))\n",
    "    \n",
    "    objectives.append(compute_obj(x))\n",
    "    print(\"\")    \n",
    "    print(\"Lauching coordinate descent solver...\")\n",
    "    print(' | '.join([name.center(8) for name in [\"it\", \"obj\", \"err\"]]))\n",
    "    for k in range(n_iter):\n",
    "        # Cycle over the coordinates\n",
    "        for j in range(n_features):\n",
    "            pass\n",
    "            # x[j] = TODO\n",
    "            # r = TODO\n",
    "        obj = compute_obj(x)\n",
    "        err = linalg.norm(x - coefs) / linalg.norm(coefs)\n",
    "        errors.append(err)\n",
    "        objectives.append(obj)\n",
    "        if k % 10 == 0:\n",
    "            print (' | '.join( [ (\"%d\" % k).rjust(8), (\"%.2e\" % obj).rjust(8), (\"%.2e\" % err).rjust(8)]))\n",
    "    return x, np.array(objectives), np.array(errors)"
   ]
  },
  {
   "cell_type": "code",
   "execution_count": 7,
   "metadata": {
    "collapsed": false
   },
   "outputs": [
    {
     "name": "stdout",
     "output_type": "stream",
     "text": [
      "\n",
      "Lauching coordinate descent solver...\n",
      "   it    |   obj    |   err   \n",
      "       0 | 1.60e+03 | 7.73e-01\n",
      "      10 | 1.22e+03 | 4.86e-01\n",
      "      20 | 1.22e+03 | 4.82e-01\n",
      "      30 | 1.22e+03 | 4.82e-01\n"
     ]
    }
   ],
   "source": [
    "x0 = np.zeros(n_features)\n",
    "n_iter = 40\n",
    "l_l1=5e-2\n",
    "x_cd, obj_cd, err_cd = lasso_coord_descent(x0, A, b, l_l1=l_l1, n_iter=n_iter)"
   ]
  },
  {
   "cell_type": "markdown",
   "metadata": {},
   "source": [
    "# Let's monitor convergence"
   ]
  },
  {
   "cell_type": "code",
   "execution_count": 8,
   "metadata": {
    "collapsed": false
   },
   "outputs": [
    {
     "data": {
      "text/plain": [
       "<matplotlib.text.Text at 0x1118b7fd0>"
      ]
     },
     "execution_count": 8,
     "metadata": {},
     "output_type": "execute_result"
    },
    {
     "data": {
      "image/png": "[encoded data removed]",
      "text/plain": [
       "<matplotlib.figure.Figure at 0x10e111f10>"
      ]
     },
     "metadata": {},
     "output_type": "display_data"
    }
   ],
   "source": [
    "plt.figure(figsize=(15.0, 4.0))\n",
    "plt.subplot(1, 2, 1)\n",
    "plt.plot(obj_cd, label=\"Coordinate Descent\", lw=2)\n",
    "plt.title(\"Objective\")\n",
    "plt.legend()\n",
    "plt.subplot(1, 2, 2)\n",
    "plt.plot(err_cd, label=\"Coordinate Descent\", lw=2)\n",
    "plt.title(\"Estimation errors\")"
   ]
  },
  {
   "cell_type": "markdown",
   "metadata": {},
   "source": [
    "# Part 2 : Newton method\n",
    "\n",
    "We are now investigating the logistic regression model in the context of binary classification.\n",
    "\n",
    "We'll use the famous IRIS dataset provided by Scikit-Learn.\n",
    "\n",
    "We'll denote by $n$ (or `n_samples`) the number of samples and $p$ (or `n_features`) the number of features, i.e. the dimension of the samples.\n",
    "\n",
    "For the data below we'll have $p=2$.\n",
    "\n",
    "## Part 2.0 : The data"
   ]
  },
  {
   "cell_type": "code",
   "execution_count": 9,
   "metadata": {
    "collapsed": false
   },
   "outputs": [
    {
     "name": "stdout",
     "output_type": "stream",
     "text": [
      "(100,)\n",
      "(100, 2)\n"
     ]
    },
    {
     "data": {
      "text/plain": [
       "<matplotlib.collections.PathCollection at 0x1131d1450>"
      ]
     },
     "execution_count": 9,
     "metadata": {},
     "output_type": "execute_result"
    },
    {
     "name": "stderr",
     "output_type": "stream",
     "text": [
      "/Users/alex/anaconda/lib/python2.7/site-packages/matplotlib/collections.py:590: FutureWarning: elementwise comparison failed; returning scalar instead, but in the future will perform elementwise comparison\n",
      "  if self._edgecolors == str('face'):\n"
     ]
    },
    {
     "data": {
      "image/png": "[encoded data removed]",
      "text/plain": [
       "<matplotlib.figure.Figure at 0x112b0c890>"
      ]
     },
     "metadata": {},
     "output_type": "display_data"
    }
   ],
   "source": [
    "from sklearn import datasets\n",
    "from sklearn.linear_model import LogisticRegression\n",
    "\n",
    "iris = datasets.load_iris()\n",
    "X = iris.data\n",
    "y = iris.target\n",
    "\n",
    "# Take only 2 features to make visualization easy\n",
    "X = X[:, :2]\n",
    "\n",
    "# Make it binary\n",
    "X = X[y < 2]\n",
    "y = y[y < 2]\n",
    "\n",
    "y[y == 0] = -1\n",
    "\n",
    "print(y.shape)\n",
    "print(X.shape)\n",
    "\n",
    "plt.scatter(X[y > 0, 0], X[y > 0, 1], color='r')\n",
    "plt.scatter(X[y < 0, 0], X[y < 0, 1], color='g')"
   ]
  },
  {
   "cell_type": "markdown",
   "metadata": {},
   "source": [
    "## Part 2.1 : Logistic Regression\n",
    "\n",
    "When we use the convention that $y=1$ for the positive class and $y=-1$ for the negative class\n",
    "the L2 penalized logistic regression model reads:\n",
    "\n",
    "$$\n",
    "\\hat{w}, \\hat{b} = \\mathop{\\textrm{argmin}}_{w, b} \\sum_{i=1}^n \\log(1 + \\exp(- y_i (x_i^\\top w + b)))) + \\lambda \\|w\\|^2\n",
    "$$\n",
    "\n",
    "where $w$ is a vector of coefficients of size $p$, $b$ is a scalar intercept and $\\lambda > 0$ is a regularization parameter.\n",
    "\n",
    "Then the prediction for a new sample is given by :\n",
    "\n",
    "$$\n",
    "y_{pred} = \\textrm{sign}(x^\\top w + b)\n",
    "$$"
   ]
  },
  {
   "cell_type": "markdown",
   "metadata": {},
   "source": [
    "In a first step we ignore the intercept and consider the function:\n",
    "\n",
    "$$f(w) = \\sum_{i=1}^n \\log(1 + \\exp(- y_i (x_i^\\top w)))) + \\lambda \\|w\\|^2$$\n",
    "\n",
    "## Questions\n",
    "\n",
    "   - Write the formulas for the gradient and the Hessian matrix of $f$ at point $w$\n",
    "   - Implement both and use the `scipy.optimize.check_grad` function from scipy to check your implementation of the gradient.\n",
    "   - Implement a Newton solver for minimizing $f$."
   ]
  },
  {
   "cell_type": "code",
   "execution_count": 10,
   "metadata": {
    "collapsed": true
   },
   "outputs": [],
   "source": [
    "# TODO\n",
    "\n",
    "def pobj_logistic(X, y, w, alpha):\n",
    "    # TODO\n",
    "    return pobj\n",
    "\n",
    "\n",
    "def grad_logistic(X, y, w, alpha):\n",
    "    # TODO\n",
    "    return grad\n",
    "\n",
    "\n",
    "def hess_logistic(X, y, w, alpha):\n",
    "    # TODO\n",
    "    return hess\n",
    "\n",
    "\n",
    "def newton_logistic(X, y, alpha=1., w0=None):\n",
    "    X = np.asarray(X, dtype=np.float)\n",
    "    y = np.asarray(y, dtype=np.float)\n",
    "\n",
    "    if w0 is None:\n",
    "        w0 = np.zeros(X.shape[1])\n",
    "\n",
    "    n_samples, n_features = X.shape\n",
    "    \n",
    "    w = w0.copy()\n",
    "    \n",
    "    pobj = []\n",
    "    \n",
    "    print(\"\")    \n",
    "    print(\"Lauching Newton solver...\")\n",
    "    print(' | '.join([name.center(8) for name in [\"it\", \"obj\"]]))\n",
    "\n",
    "    for k in xrange(20):\n",
    "    \n",
    "        grad = grad_logistic(X, y, w, alpha)\n",
    "        hess = hess_logistic(X, y, w, alpha)\n",
    "\n",
    "        # TODO : write the w update using grad and hess\n",
    "\n",
    "        this_pobj = pobj_logistic(X, y, w, alpha)\n",
    "        pobj.append(this_pobj)\n",
    "        \n",
    "        print (' | '.join( [ (\"%d\" % k).rjust(8), (\"%.2e\" % this_pobj).rjust(8)]))\n",
    "\n",
    "    print(\"Global minimum : %s\" % pobj[-1])\n",
    "\n",
    "    return w, pobj"
   ]
  },
  {
   "cell_type": "code",
   "execution_count": 12,
   "metadata": {
    "collapsed": false
   },
   "outputs": [
    {
     "name": "stdout",
     "output_type": "stream",
     "text": [
      "\n",
      "Lauching Newton solver...\n",
      "   it    |   obj   \n",
      "       0 | 2.25e+01\n",
      "       1 | 1.34e+01\n",
      "       2 | 1.08e+01\n",
      "       3 | 1.05e+01\n",
      "       4 | 1.05e+01\n",
      "       5 | 1.05e+01\n",
      "       6 | 1.05e+01\n",
      "       7 | 1.05e+01\n",
      "       8 | 1.05e+01\n",
      "       9 | 1.05e+01\n",
      "      10 | 1.05e+01\n",
      "      11 | 1.05e+01\n",
      "      12 | 1.05e+01\n",
      "      13 | 1.05e+01\n",
      "      14 | 1.05e+01\n",
      "      15 | 1.05e+01\n",
      "      16 | 1.05e+01\n",
      "      17 | 1.05e+01\n",
      "      18 | 1.05e+01\n",
      "      19 | 1.05e+01\n",
      "Global minimum : 10.4934020083\n"
     ]
    }
   ],
   "source": [
    "alpha = 0.1\n",
    "w, pobj = newton_logistic(X, y, alpha=alpha)"
   ]
  },
  {
   "cell_type": "code",
   "execution_count": 13,
   "metadata": {
    "collapsed": false
   },
   "outputs": [
    {
     "data": {
      "image/png": "[encoded data removed]",
      "text/plain": [
       "<matplotlib.figure.Figure at 0x1118c11d0>"
      ]
     },
     "metadata": {},
     "output_type": "display_data"
    }
   ],
   "source": [
    "plt.plot(np.log10(pobj), 'r')\n",
    "plt.xlabel('Iterations')\n",
    "plt.ylabel('Primal')\n",
    "plt.show()"
   ]
  },
  {
   "cell_type": "code",
   "execution_count": 14,
   "metadata": {
    "collapsed": false
   },
   "outputs": [
    {
     "data": {
      "image/png": "[encoded data removed]",
      "text/plain": [
       "<matplotlib.figure.Figure at 0x1118b7690>"
      ]
     },
     "metadata": {},
     "output_type": "display_data"
    }
   ],
   "source": [
    "def plot_coefs(w, b=0.0):\n",
    "    plt.scatter(X[y > 0, 0], X[y > 0, 1], color='r')\n",
    "    plt.scatter(X[y < 0, 0], X[y < 0, 1], color='g')\n",
    "    xx = np.linspace(4, 8, 10)\n",
    "    plt.plot(xx,  - xx * w[0] / w[1] - b / w[1], 'k')\n",
    "    plt.grid('on')\n",
    "\n",
    "plot_coefs(w)"
   ]
  },
  {
   "cell_type": "markdown",
   "metadata": {},
   "source": [
    "To take into acccount the intercept we propose to add a column of 1 to the matrix X."
   ]
  },
  {
   "cell_type": "code",
   "execution_count": 15,
   "metadata": {
    "collapsed": true
   },
   "outputs": [],
   "source": [
    "X1 = np.concatenate((X, np.ones((X.shape[0], 1))), axis=1)"
   ]
  },
  {
   "cell_type": "markdown",
   "metadata": {},
   "source": [
    "## Questions\n",
    "\n",
    "    - Modify the solver so it does not penalize the intercept now present via the last column of X1"
   ]
  },
  {
   "cell_type": "code",
   "execution_count": 16,
   "metadata": {
    "collapsed": true
   },
   "outputs": [],
   "source": [
    "# TODO\n",
    "\n",
    "def newton_logistic_intercept(X1, y, alpha=1., w0=None):\n",
    "    X = X1\n",
    "\n",
    "    X = np.asarray(X, dtype=np.float)\n",
    "    y = np.asarray(y, dtype=np.float)\n",
    "\n",
    "    if w0 is None:\n",
    "        w0 = np.zeros(X.shape[1])\n",
    "\n",
    "    n_samples, n_features = X.shape\n",
    "    \n",
    "    w = w0\n",
    "    \n",
    "    pobj = []\n",
    "    \n",
    "    print(\"\")    \n",
    "    print(\"Lauching Newton solver...\")\n",
    "    print(' | '.join([name.center(8) for name in [\"it\", \"obj\"]]))\n",
    "\n",
    "    for k in xrange(20):\n",
    "        # TODO\n",
    "\n",
    "        print (' | '.join( [ (\"%d\" % k).rjust(8), (\"%.8e\" % this_pobj).rjust(8)]))\n",
    "\n",
    "    print(\"Global minimum : %s\" % pobj[-1])\n",
    "\n",
    "    b = w[-1]\n",
    "    w = w[:-1]\n",
    "    return w, b, pobj"
   ]
  },
  {
   "cell_type": "code",
   "execution_count": 18,
   "metadata": {
    "collapsed": false
   },
   "outputs": [
    {
     "name": "stdout",
     "output_type": "stream",
     "text": [
      "\n",
      "Lauching Newton solver...\n",
      "   it    |   obj   \n",
      "       0 | 2.16494714e+01\n",
      "       1 | 1.19095906e+01\n",
      "       2 | 8.57272846e+00\n",
      "       3 | 7.84279210e+00\n",
      "       4 | 7.79603650e+00\n",
      "       5 | 7.79580037e+00\n",
      "       6 | 7.79580036e+00\n",
      "       7 | 7.79580036e+00\n",
      "       8 | 7.79580036e+00\n",
      "       9 | 7.79580036e+00\n",
      "      10 | 7.79580036e+00\n",
      "      11 | 7.79580036e+00\n",
      "      12 | 7.79580036e+00\n",
      "      13 | 7.79580036e+00\n",
      "      14 | 7.79580036e+00\n",
      "      15 | 7.79580036e+00\n",
      "      16 | 7.79580036e+00\n",
      "      17 | 7.79580036e+00\n",
      "      18 | 7.79580036e+00\n",
      "      19 | 7.79580036e+00\n",
      "Global minimum : 7.79580036063\n"
     ]
    }
   ],
   "source": [
    "alpha = 0.1\n",
    "w, b, pobj = newton_logistic_intercept(X1, y, alpha=alpha)"
   ]
  },
  {
   "cell_type": "code",
   "execution_count": 19,
   "metadata": {
    "collapsed": false,
    "scrolled": true
   },
   "outputs": [
    {
     "data": {
      "image/png": "[encoded data removed]",
      "text/plain": [
       "<matplotlib.figure.Figure at 0x11184f910>"
      ]
     },
     "metadata": {},
     "output_type": "display_data"
    }
   ],
   "source": [
    "plt.plot(np.log10(pobj), 'r')\n",
    "plt.xlabel('Iterations')\n",
    "plt.ylabel('Primal')\n",
    "plt.show()"
   ]
  },
  {
   "cell_type": "code",
   "execution_count": 20,
   "metadata": {
    "collapsed": false
   },
   "outputs": [
    {
     "data": {
      "image/png": "[encoded data removed]",
      "text/plain": [
       "<matplotlib.figure.Figure at 0x11314d390>"
      ]
     },
     "metadata": {},
     "output_type": "display_data"
    }
   ],
   "source": [
    "plot_coefs(w, b)"
   ]
  },
  {
   "cell_type": "markdown",
   "metadata": {
    "collapsed": true
   },
   "source": [
    "## Part 2.2 Newton with line search\n",
    "\n",
    "Newton's method is only proven to converge in a neighborhood of the minimizer.\n",
    "\n",
    "## Questions\n",
    "\n",
    "    - Try the method newton_logistic_intercept with w0 = 0.3 * np.ones(X1.shape[1]) as a starting point.\n",
    "    - What do you observe?"
   ]
  },
  {
   "cell_type": "code",
   "execution_count": null,
   "metadata": {
    "collapsed": false,
    "scrolled": false
   },
   "outputs": [],
   "source": []
  },
  {
   "cell_type": "markdown",
   "metadata": {},
   "source": [
    "### Armijo's Line search\n",
    "\n",
    "To overcome the instability of Newton's method when we are not in the neighbourhood of the optimum, we implement a line search that guarantees that the function value will decrease at each iteration and this leads to convergence whatever the initial point.\n",
    "\n",
    "We recall Armijo's rule. We fix $s > 0$, $\\sigma \\in (0,1)$ and $\\beta \\in (0,1)$. For a given $w_t$ and a descent direction $d_t$, we look for $m_t$ which is the first integer $m$ such that\n",
    "$$\n",
    "f(w_t + s \\beta^m d_t) - f(w_t) \\leq  \\sigma s \\beta^m \\nabla f(w_t)^\\top d_t\n",
    "$$\n",
    "The new iterate is then $w_{t+1} = w_t + s \\beta^{m_t} d_t$.\n",
    "\n",
    "We shall take $d_t$ equal to Newton's update, $s=1$, $\\beta = 0.5$ and $\\sigma = 10^{-4}$.\n",
    "\n",
    "## Questions\n",
    "\n",
    "  - Modify newton_logistic_intercept to implement Armijo's line search.\n",
    "  - Does the algorithm converge for w0 = 0.3 * np.ones(X1.shape[1])"
   ]
  },
  {
   "cell_type": "code",
   "execution_count": 22,
   "metadata": {
    "collapsed": true
   },
   "outputs": [],
   "source": [
    "# TODO\n",
    "\n",
    "def newton_logistic_intercept_with_linesearch(X, y, alpha=1., w0=None):\n",
    "    X = np.asarray(X, dtype=np.float)\n",
    "    y = np.asarray(y, dtype=np.float)\n",
    "\n",
    "    if w0 is None:\n",
    "        w0 = np.zeros(X.shape[1])\n",
    "    \n",
    "    n_samples, n_features = X.shape\n",
    "    \n",
    "    w = w0\n",
    "    \n",
    "    pobj = []\n",
    "    \n",
    "    print(\"\")    \n",
    "    print(\"Lauching Newton solver with line search...\")\n",
    "    print(' | '.join([name.center(8) for name in [\"it\", \"obj\"]]))\n",
    "    \n",
    "    for k in range(20):\n",
    "        # Compute descent direction with newton rule\n",
    "        # descent_direction = TODO\n",
    "        \n",
    "        # line search\n",
    "        test = False\n",
    "        previous_pobj = pobj_logistic_intercept(X, y, w, alpha)\n",
    "        \n",
    "        stepsize = 1.\n",
    "        step_decrease_rate = 0.5\n",
    "        sigma = 1e-4\n",
    "        while not test:\n",
    "            # w_trial = TODO\n",
    "\n",
    "            this_grad = grad_logistic_intercept(X, y, w_trial, alpha)\n",
    "            this_pobj = pobj_logistic_intercept(X, y, w_trial, alpha)\n",
    "            \n",
    "            # test = TODO\n",
    "            \n",
    "            stepsize *= step_decrease_rate\n",
    "            \n",
    "            if stepsize < 1e-10:\n",
    "                print(\"line search failed\")\n",
    "                break\n",
    "            \n",
    "        w[:] = w_trial\n",
    "        pobj.append(this_pobj)\n",
    "        \n",
    "        print (' | '.join( [ (\"%d\" % k).rjust(8), (\"%.8e\" % this_pobj).rjust(8)]))\n",
    "\n",
    "    print(\"Global minimum : %s\" % pobj[-1])\n",
    "\n",
    "    b = w[-1]\n",
    "    w = w[:-1]\n",
    "    return w, b, pobj"
   ]
  },
  {
   "cell_type": "code",
   "execution_count": 24,
   "metadata": {
    "collapsed": false
   },
   "outputs": [
    {
     "name": "stdout",
     "output_type": "stream",
     "text": [
      "\n",
      "Lauching Newton solver with line search...\n",
      "   it    |   obj   \n",
      "       0 | 5.40717287e+01\n",
      "       1 | 3.46089858e+01\n",
      "       2 | 1.37786867e+01\n",
      "       3 | 8.98540739e+00\n",
      "       4 | 7.89289339e+00\n",
      "       5 | 7.79687437e+00\n",
      "       6 | 7.79580054e+00\n",
      "       7 | 7.79580036e+00\n",
      "       8 | 7.79580036e+00\n",
      "       9 | 7.79580036e+00\n",
      "      10 | 7.79580036e+00\n",
      "      11 | 7.79580036e+00\n",
      "      12 | 7.79580036e+00\n",
      "      13 | 7.79580036e+00\n",
      "      14 | 7.79580036e+00\n",
      "      15 | 7.79580036e+00\n",
      "      16 | 7.79580036e+00\n",
      "      17 | 7.79580036e+00\n",
      "      18 | 7.79580036e+00\n",
      "      19 | 7.79580036e+00\n",
      "Global minimum : 7.79580036063\n"
     ]
    }
   ],
   "source": [
    "alpha = 0.1\n",
    "w, b, pobj = newton_logistic_intercept_with_linesearch(X1, y, alpha=alpha, w0=0.3 * np.ones(X1.shape[1]))"
   ]
  },
  {
   "cell_type": "code",
   "execution_count": 25,
   "metadata": {
    "collapsed": false
   },
   "outputs": [
    {
     "data": {
      "image/png": "[encoded data removed]",
      "text/plain": [
       "<matplotlib.figure.Figure at 0x114971e10>"
      ]
     },
     "metadata": {},
     "output_type": "display_data"
    }
   ],
   "source": [
    "plt.plot(np.log10(pobj), 'r')\n",
    "plt.xlabel('Iterations')\n",
    "plt.ylabel('Primal')\n",
    "plt.show()"
   ]
  },
  {
   "cell_type": "markdown",
   "metadata": {},
   "source": [
    "# Part 3 : L-BFGS\n",
    "\n",
    "So far you have implemented your own solvers. In this last part you'll simply learn out to use\n",
    "an existing solver. You'll be using `scipy.optimize.fmin_l_bfgs_b`.\n",
    "\n",
    "\n",
    "## Question\n",
    "\n",
    "   - Minimize the Logistic regression problem, taking into account the intercept using the `scipy.optimize.fmin_l_bfgs_b` function."
   ]
  },
  {
   "cell_type": "code",
   "execution_count": 26,
   "metadata": {
    "collapsed": true
   },
   "outputs": [],
   "source": [
    "# TODO\n",
    "\n",
    "all_pobj = []\n",
    "\n",
    "def f(w):\n",
    "    # pobj = TODO\n",
    "    all_pobj.append(pobj)\n",
    "    return pobj\n",
    "\n",
    "def fprime(w):\n",
    "    # grad = TODO\n",
    "    return grad\n",
    "\n",
    "from scipy.optimize import fmin_l_bfgs_b\n",
    "\n",
    "# TODO"
   ]
  },
  {
   "cell_type": "code",
   "execution_count": 28,
   "metadata": {
    "collapsed": false,
    "scrolled": true
   },
   "outputs": [
    {
     "data": {
      "image/png": "[encoded data removed]",
      "text/plain": [
       "<matplotlib.figure.Figure at 0x1149c3850>"
      ]
     },
     "metadata": {},
     "output_type": "display_data"
    }
   ],
   "source": [
    "plt.plot(np.log10(all_pobj), 'r')\n",
    "plt.xlabel('Iterations')\n",
    "plt.ylabel('Primal')\n",
    "plt.show()"
   ]
  },
  {
   "cell_type": "code",
   "execution_count": 29,
   "metadata": {
    "collapsed": false
   },
   "outputs": [
    {
     "data": {
      "image/png": "[encoded data removed]",
      "text/plain": [
       "<matplotlib.figure.Figure at 0x1136c7310>"
      ]
     },
     "metadata": {},
     "output_type": "display_data"
    }
   ],
   "source": [
    "plot_coefs(w, b)"
   ]
  },
  {
   "cell_type": "markdown",
   "metadata": {
    "collapsed": true
   },
   "source": [
    "## Bonus Question\n",
    "\n",
    "in case you're done early ...\n",
    "\n",
    "   - Evaluate the performance of your implementation against sklearn.linear_model.LogisticRegression on the digits dataset."
   ]
  }
 ],
 "metadata": {
  "kernelspec": {
   "display_name": "Python 2",
   "language": "python",
   "name": "python2"
  },
  "language_info": {
   "codemirror_mode": {
    "name": "ipython",
    "version": 2
   },
   "file_extension": ".py",
   "mimetype": "text/x-python",
   "name": "python",
   "nbconvert_exporter": "python",
   "pygments_lexer": "ipython2",
   "version": "2.7.10"
  }
 },
 "nbformat": 4,
 "nbformat_minor": 0
}
