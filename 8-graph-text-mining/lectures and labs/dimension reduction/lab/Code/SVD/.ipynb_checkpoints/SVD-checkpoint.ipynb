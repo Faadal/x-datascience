{
 "cells": [
  {
   "cell_type": "code",
   "execution_count": 1,
   "metadata": {
    "collapsed": true
   },
   "outputs": [],
   "source": [
    "from numpy import *\n",
    "import matplotlib.pyplot as plt\n",
    "import matplotlib.cm as cm\n",
    "from matplotlib import rc\n",
    "import numpy as np\n",
    "\n",
    "# Load the \"gatlin\" image data\n",
    "X = loadtxt('gatlin.csv', delimiter=',')"
   ]
  },
  {
   "cell_type": "code",
   "execution_count": 7,
   "metadata": {
    "collapsed": false
   },
   "outputs": [],
   "source": [
    "u,s,v = np.linalg.svd(X)\n",
    "s = diag(s)\n",
    "plt.figure(1)\n",
    "plt.imshow(X,cmap = cm.Greys_r)\n",
    "plt.title('Original image (rank 480)')\n",
    "plt.axis('off')\n",
    "plt.show()"
   ]
  },
  {
   "cell_type": "code",
   "execution_count": 17,
   "metadata": {
    "collapsed": false
   },
   "outputs": [],
   "source": [
    "k=10\n",
    "X_new = np.dot(u[:,:k],s[:k,:k]).dot(v[:k,:])\n",
    "plt.figure()\n",
    "plt.imshow(X_new,cmap = cm.Greys_r)\n",
    "plt.title('Original image (rank 480)')\n",
    "plt.axis('off')\n",
    "plt.show()"
   ]
  },
  {
   "cell_type": "code",
   "execution_count": null,
   "metadata": {
    "collapsed": true
   },
   "outputs": [],
   "source": [
    "error = []\n",
    "for k in [10, 20, 50, 100, 200]:\n",
    "    X_new = np.dot(u[:,:k],s[:k,:k]).dot(v[:k,:])\n",
    "    err = np.linalg.norm(X-X_new)/np.linalg.norm"
   ]
  }
 ],
 "metadata": {
  "kernelspec": {
   "display_name": "Python 2",
   "language": "python",
   "name": "python2"
  },
  "language_info": {
   "codemirror_mode": {
    "name": "ipython",
    "version": 2
   },
   "file_extension": ".py",
   "mimetype": "text/x-python",
   "name": "python",
   "nbconvert_exporter": "python",
   "pygments_lexer": "ipython2",
   "version": "2.7.11"
  }
 },
 "nbformat": 4,
 "nbformat_minor": 0
}
