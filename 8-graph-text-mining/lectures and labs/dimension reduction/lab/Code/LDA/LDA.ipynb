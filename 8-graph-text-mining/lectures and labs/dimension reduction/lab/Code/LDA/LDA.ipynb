{
 "cells": [
  {
   "cell_type": "code",
   "execution_count": 1,
   "metadata": {
    "collapsed": false
   },
   "outputs": [
    {
     "name": "stdout",
     "output_type": "stream",
     "text": [
      "(100, 13)\n",
      "(77, 13)\n"
     ]
    }
   ],
   "source": [
    "import math\n",
    "import numpy as np\n",
    "import scipy as sp\n",
    "import scipy.linalg as linalg\n",
    "import matplotlib.pyplot as plt\n",
    "from sklearn.decomposition import PCA\n",
    "from my_LDA import my_LDA\n",
    "from predict import predict\n",
    "\n",
    "# Load data (Wine dataset)\n",
    "my_data = np.genfromtxt('wine_data.csv', delimiter=',')\n",
    "np.random.shuffle(my_data) # shuffle datataset\n",
    "trainingData = my_data[:100,1:] # training data\n",
    "trainingLabels = my_data[:100,0] # class labels of training data\n",
    "\n",
    "testData = my_data[101:,1:] # training data\n",
    "testLabels = my_data[101:,0] # class labels of training data\n",
    "\n",
    "print trainingData.shape\n",
    "print testData.shape"
   ]
  },
  {
   "cell_type": "code",
   "execution_count": 67,
   "metadata": {
    "collapsed": false
   },
   "outputs": [],
   "source": [
    "## The max number of axis is number of classes -1\n",
    "def my_LDA(X, Y):\n",
    "    \"\"\"\n",
    "    Train a LDA classifier from the training set\n",
    "    X: training data\n",
    "    Y: class labels of training data\n",
    "\n",
    "    \"\"\"    \n",
    "    \n",
    "    classLabels = np.unique(Y) # different class labels on the dataset\n",
    "    classNum = len(classLabels) # number of classes\n",
    "    datanum, dim = X.shape # dimensions of the dataset\n",
    "    totalMean = np.mean(X,0) # total mean of the data\n",
    "    \n",
    "    Sw = np.zeros([dim,dim])\n",
    "    for j in classLabels:\n",
    "        Xj = X[Y==j]\n",
    "        mj = np.mean(Xj,axis=0)        \n",
    "#         Sw = Sw+np.linalg.norm(Xj-mj)**2\n",
    "        Sw = Sw+np.dot((Xj-mj).transpose(),(Xj-mj))\n",
    "        \n",
    "    Sb = np.zeros([dim,dim])\n",
    "    m = np.mean(X,axis=0)\n",
    "    for j in classLabels:\n",
    "        Xj = X[Y==j]\n",
    "        mj = np.mean(Xj,axis=0)\n",
    "#         Sb = Sb+Xj.shape[0]*np.linalg.norm(mj-m)**2\n",
    "        Sb = Sb+Xj.shape[0]*np.dot((mj-m).transpose(),(mj-m))\n",
    "        \n",
    "    St = np.dot((X-m).transpose(),(X-m)) ## Seems okay\n",
    "    \n",
    "    data = np.dot(np.linalg.inv(Sw),Sb)\n",
    "    \n",
    "    eigval,eigvec = linalg.eig(data)\n",
    "    eigval2 = np.real(eigval)\n",
    "    \n",
    "    X_new = np.dot(X,eigvec[:,:2])\n",
    "        \n",
    "    \n",
    "#     print classLabels\n",
    "#     print classNum\n",
    "#     print totalMean\n",
    "    return X_new"
   ]
  },
  {
   "cell_type": "code",
   "execution_count": 69,
   "metadata": {
    "collapsed": false
   },
   "outputs": [],
   "source": [
    "newData2 = my_LDA(trainingData,trainingLabels)"
   ]
  },
  {
   "cell_type": "code",
   "execution_count": null,
   "metadata": {
    "collapsed": false
   },
   "outputs": [],
   "source": [
    "plt.figure(2)\n",
    "plt.scatter(newData2[:,0],newData2[:,1], c=trainingLabels)\n",
    "plt.xlabel('1st Principal Component')\n",
    "plt.ylabel('2nd Principal Component')\n",
    "plt.title(\"Projection to the top-2 Principal Components\")\n",
    "plt.show()"
   ]
  },
  {
   "cell_type": "code",
   "execution_count": null,
   "metadata": {
    "collapsed": true
   },
   "outputs": [],
   "source": [
    "fig = plt.figure(3)\n",
    "ax = fig.add_subplot(111, projection='3d')\n",
    "ax.scatter(newData3[:,0],newData3[:,1], newData3[:,2], c=target)\n",
    "ax.set_xlabel('1st Principal Component')\n",
    "ax.set_ylabel('2nd Principal Component')\n",
    "ax.set_zlabel('3rd Principal Component')\n",
    "ax.set_title(\"Projection to the top-3 Principal Components\")"
   ]
  }
 ],
 "metadata": {
  "kernelspec": {
   "display_name": "Python 2",
   "language": "python",
   "name": "python2"
  },
  "language_info": {
   "codemirror_mode": {
    "name": "ipython",
    "version": 2
   },
   "file_extension": ".py",
   "mimetype": "text/x-python",
   "name": "python",
   "nbconvert_exporter": "python",
   "pygments_lexer": "ipython2",
   "version": "2.7.11"
  }
 },
 "nbformat": 4,
 "nbformat_minor": 0
}
