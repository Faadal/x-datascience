{
 "cells": [
  {
   "cell_type": "code",
   "execution_count": 24,
   "metadata": {
    "collapsed": true
   },
   "outputs": [],
   "source": [
    "%matplotlib inline"
   ]
  },
  {
   "cell_type": "code",
   "execution_count": 3,
   "metadata": {
    "collapsed": false
   },
   "outputs": [],
   "source": [
    "import re\n",
    "import csv\n",
    "import random\n",
    "import nltk\n",
    "import numpy as np\n",
    "import matplotlib.pyplot as plt\n",
    "from pyemd import emd\n",
    "from collections import Counter\n",
    "from sklearn.decomposition import PCA\n",
    "from sklearn.metrics import euclidean_distances\n",
    "from sklearn.metrics.pairwise import cosine_similarity as cosine\n",
    "from sklearn.datasets import fetch_20newsgroups\n",
    "from sklearn.metrics import classification_report\n",
    "from sklearn.cross_validation import train_test_split"
   ]
  },
  {
   "cell_type": "code",
   "execution_count": 2,
   "metadata": {
    "collapsed": false
   },
   "outputs": [
    {
     "name": "stdout",
     "output_type": "stream",
     "text": [
      "[nltk_data] Downloading package stopwords to\n",
      "[nltk_data]     /home/zapfack/nltk_data...\n",
      "[nltk_data]   Unzipping corpora/stopwords.zip.\n"
     ]
    }
   ],
   "source": [
    "nltk.download('stopwords')\n",
    "stpwds = set(nltk.corpus.stopwords.words(\"english\"))\n",
    "my_p = re.compile(r\"(\\b[-']\\b)|[\\W_]\")"
   ]
  },
  {
   "cell_type": "code",
   "execution_count": 4,
   "metadata": {
    "collapsed": true
   },
   "outputs": [],
   "source": [
    "with open(\"word_vectors_lab5.csv\", \"r\") as file:\n",
    "    reader = csv.reader(file)\n",
    "    word_vectors  = list(reader)\n",
    "\n",
    "# the first entry of each sublist is the word\n",
    "# the 300 following entries are the coordinates of the word in the embedding space\n",
    "\n"
   ]
  },
  {
   "cell_type": "code",
   "execution_count": 1,
   "metadata": {
    "collapsed": false
   },
   "outputs": [
    {
     "ename": "NameError",
     "evalue": "name 'word_vectors' is not defined",
     "output_type": "error",
     "traceback": [
      "\u001b[1;31m---------------------------------------------------------------------------\u001b[0m",
      "\u001b[1;31mNameError\u001b[0m                                 Traceback (most recent call last)",
      "\u001b[1;32m<ipython-input-1-70a100808847>\u001b[0m in \u001b[0;36m<module>\u001b[1;34m()\u001b[0m\n\u001b[0;32m      6\u001b[0m \u001b[0mcoordinates\u001b[0m \u001b[1;33m=\u001b[0m \u001b[1;33m[\u001b[0m\u001b[1;33m]\u001b[0m\u001b[1;33m\u001b[0m\u001b[0m\n\u001b[0;32m      7\u001b[0m \u001b[1;33m\u001b[0m\u001b[0m\n\u001b[1;32m----> 8\u001b[1;33m \u001b[1;32mfor\u001b[0m \u001b[0mvector\u001b[0m \u001b[1;32min\u001b[0m \u001b[0mword_vectors\u001b[0m\u001b[1;33m:\u001b[0m\u001b[1;33m\u001b[0m\u001b[0m\n\u001b[0m\u001b[0;32m      9\u001b[0m     \u001b[0mwords\u001b[0m\u001b[1;33m.\u001b[0m\u001b[0mappend\u001b[0m\u001b[1;33m(\u001b[0m\u001b[0mvector\u001b[0m\u001b[1;33m[\u001b[0m\u001b[1;36m0\u001b[0m\u001b[1;33m]\u001b[0m\u001b[1;33m)\u001b[0m\u001b[1;33m\u001b[0m\u001b[0m\n\u001b[0;32m     10\u001b[0m     \u001b[0mcoordinates\u001b[0m\u001b[1;33m.\u001b[0m\u001b[0mappend\u001b[0m\u001b[1;33m(\u001b[0m\u001b[0mvector\u001b[0m\u001b[1;33m[\u001b[0m\u001b[1;36m1\u001b[0m\u001b[1;33m:\u001b[0m\u001b[1;36m301\u001b[0m\u001b[1;33m]\u001b[0m\u001b[1;33m)\u001b[0m\u001b[1;33m\u001b[0m\u001b[0m\n",
      "\u001b[1;31mNameError\u001b[0m: name 'word_vectors' is not defined"
     ]
    }
   ],
   "source": [
    "# separate the words from their coordinates\n",
    "words = []\n",
    "# coordinates is a list of list representation of observations/dimensions data frame\n",
    "coordinates = []\n",
    "\n",
    "for vector in word_vectors:\n",
    "    words.append(vector[0])\n",
    "    coordinates.append(vector[1:301])\n",
    "\n",
    "coordinates = np.array(coordinates).astype(np.float)"
   ]
  },
  {
   "cell_type": "code",
   "execution_count": 12,
   "metadata": {
    "collapsed": false,
    "scrolled": true
   },
   "outputs": [
    {
     "name": "stdout",
     "output_type": "stream",
     "text": [
      "0.7664\n"
     ]
    },
    {
     "name": "stderr",
     "output_type": "stream",
     "text": [
      "/home/zapfack/tools/anaconda2/lib/python2.7/site-packages/sklearn/utils/validation.py:386: DeprecationWarning: Passing 1d arrays as data is deprecated in 0.17 and willraise ValueError in 0.19. Reshape your data either using X.reshape(-1, 1) if your data has a single feature or X.reshape(1, -1) if it contains a single sample.\n",
      "  DeprecationWarning)\n",
      "/home/zapfack/tools/anaconda2/lib/python2.7/site-packages/sklearn/utils/validation.py:386: DeprecationWarning: Passing 1d arrays as data is deprecated in 0.17 and willraise ValueError in 0.19. Reshape your data either using X.reshape(-1, 1) if your data has a single feature or X.reshape(1, -1) if it contains a single sample.\n",
      "  DeprecationWarning)\n",
      "/home/zapfack/tools/anaconda2/lib/python2.7/site-packages/sklearn/utils/validation.py:386: DeprecationWarning: Passing 1d arrays as data is deprecated in 0.17 and willraise ValueError in 0.19. Reshape your data either using X.reshape(-1, 1) if your data has a single feature or X.reshape(1, -1) if it contains a single sample.\n",
      "  DeprecationWarning)\n",
      "/home/zapfack/tools/anaconda2/lib/python2.7/site-packages/sklearn/utils/validation.py:386: DeprecationWarning: Passing 1d arrays as data is deprecated in 0.17 and willraise ValueError in 0.19. Reshape your data either using X.reshape(-1, 1) if your data has a single feature or X.reshape(1, -1) if it contains a single sample.\n",
      "  DeprecationWarning)\n"
     ]
    },
    {
     "data": {
      "text/plain": [
       "0.0166"
      ]
     },
     "execution_count": 12,
     "metadata": {},
     "output_type": "execute_result"
    }
   ],
   "source": [
    "# function that returns the word vector as numpy array\n",
    "def my_vector_getter(word, my_coordinates):\n",
    "    index = words.index(word)\n",
    "    word_array = my_coordinates[index].ravel()\n",
    "    return (word_array)\n",
    "\n",
    "# function that returns cosine similarity between two word vectors\n",
    "def my_cos_similarity(word1, word2, my_coordinates):\n",
    "    sim = cosine(my_vector_getter(word1, my_coordinates),my_vector_getter(word2, my_coordinates)) \n",
    "    return (round(sim, 4))\n",
    "\n",
    "# two similar words\n",
    "print my_cos_similarity(\"man\",\"woman\", coordinates)\n",
    "\n",
    "# two dissimilar words\n",
    "my_cos_similarity(\"man\",\"however\", coordinates)"
   ]
  },
  {
   "cell_type": "code",
   "execution_count": null,
   "metadata": {
    "collapsed": true
   },
   "outputs": [],
   "source": [
    "# for visualization, project the words into a lower-dimensional space using PCA\n",
    "# store the results in an array called new_coordinates\n",
    "for w in "
   ]
  },
  {
   "cell_type": "code",
   "execution_count": 52,
   "metadata": {
    "collapsed": false
   },
   "outputs": [
    {
     "data": {
      "text/plain": [
       "(24559, 50)"
      ]
     },
     "execution_count": 52,
     "metadata": {},
     "output_type": "execute_result"
    }
   ],
   "source": [
    "from sklearn.decomposition import PCA\n",
    "n_components = 50\n",
    "new_coordinates = PCA(n_components=n_components).fit_transform(coordinates)\n",
    "new_coordinates.shape"
   ]
  },
  {
   "cell_type": "code",
   "execution_count": 18,
   "metadata": {
    "collapsed": false,
    "scrolled": false
   },
   "outputs": [
    {
     "name": "stdout",
     "output_type": "stream",
     "text": [
      "[ 0.07777949 -0.03798939 -0.14496721 -0.18266206  0.143086   -0.19418894\n",
      " -0.04558427  0.03816723  0.0323095  -0.00976232  0.0491444   0.33820108\n",
      "  0.1477809  -0.08308351  0.00178464  0.13460487 -0.00259821 -0.13321601\n",
      "  0.16727636 -0.02356712  0.10344071  0.23724216 -0.12369129 -0.23831906\n",
      " -0.19759151 -0.18485921 -0.01556244 -0.08036753 -0.07865629 -0.05171252\n",
      "  0.03954204 -0.22262654  0.09513994  0.00653358  0.24672348  0.1796631\n",
      " -0.14078385 -0.02156477 -0.18291886 -0.02213205 -0.00516208  0.03546838\n",
      "  0.16078242 -0.03144438  0.04833308  0.22255285 -0.10461826  0.03949514\n",
      " -0.11183839 -0.2095047 ]\n"
     ]
    }
   ],
   "source": [
    "# examples of concepts captured in the embedding space:\n",
    "\n",
    "# country-capital\n",
    "France = my_vector_getter(\"France\", new_coordinates)\n",
    "Paris = my_vector_getter(\"Paris\", new_coordinates)\n",
    "Germany = my_vector_getter(\"Germany\", new_coordinates)\n",
    "Berlin = my_vector_getter(\"Berlin\", new_coordinates)\n",
    "\n",
    "print France - Paris"
   ]
  },
  {
   "cell_type": "code",
   "execution_count": 22,
   "metadata": {
    "collapsed": false,
    "scrolled": false
   },
   "outputs": [
    {
     "name": "stderr",
     "output_type": "stream",
     "text": [
      "/home/zapfack/tools/anaconda2/lib/python2.7/site-packages/sklearn/utils/validation.py:386: DeprecationWarning: Passing 1d arrays as data is deprecated in 0.17 and willraise ValueError in 0.19. Reshape your data either using X.reshape(-1, 1) if your data has a single feature or X.reshape(1, -1) if it contains a single sample.\n",
      "  DeprecationWarning)\n",
      "/home/zapfack/tools/anaconda2/lib/python2.7/site-packages/sklearn/utils/validation.py:386: DeprecationWarning: Passing 1d arrays as data is deprecated in 0.17 and willraise ValueError in 0.19. Reshape your data either using X.reshape(-1, 1) if your data has a single feature or X.reshape(1, -1) if it contains a single sample.\n",
      "  DeprecationWarning)\n"
     ]
    },
    {
     "data": {
      "text/plain": [
       "0.93032"
      ]
     },
     "execution_count": 22,
     "metadata": {},
     "output_type": "execute_result"
    }
   ],
   "source": [
    "operation = France - Paris + Berlin\n",
    "round(cosine(operation, Germany),5)"
   ]
  },
  {
   "cell_type": "code",
   "execution_count": 25,
   "metadata": {
    "collapsed": false,
    "scrolled": true
   },
   "outputs": [
    {
     "data": {
      "image/png": "[encoded data removed]",
      "text/plain": [
       "<matplotlib.figure.Figure at 0x7f8e97177590>"
      ]
     },
     "metadata": {},
     "output_type": "display_data"
    }
   ],
   "source": [
    "# visual inspection\n",
    "dim_1_coords = [element[0] for element in [France, Paris, Germany, Berlin]]\n",
    "dim_2_coords = [element[1] for element in [France, Paris, Germany, Berlin]]\n",
    "\n",
    "names = [\"France\", \"Paris\", \"Germany\", \"Berlin\"]\n",
    "\n",
    "fig = plt.figure()\n",
    "ax = fig.add_subplot(111)\n",
    "plt.plot(dim_1_coords, dim_2_coords, \"ro\")\n",
    "plt.axis([-0.4, 0, -0.3, 0])\n",
    "\n",
    "for x, y, name in zip(dim_1_coords , dim_2_coords, names):                                                \n",
    "    ax.annotate(name, xy=(x, y))\n",
    "\n",
    "plt.grid()"
   ]
  },
  {
   "cell_type": "code",
   "execution_count": 54,
   "metadata": {
    "collapsed": false
   },
   "outputs": [
    {
     "name": "stderr",
     "output_type": "stream",
     "text": [
      "/home/zapfack/tools/anaconda2/lib/python2.7/site-packages/sklearn/utils/validation.py:386: DeprecationWarning: Passing 1d arrays as data is deprecated in 0.17 and willraise ValueError in 0.19. Reshape your data either using X.reshape(-1, 1) if your data has a single feature or X.reshape(1, -1) if it contains a single sample.\n",
      "  DeprecationWarning)\n",
      "/home/zapfack/tools/anaconda2/lib/python2.7/site-packages/sklearn/utils/validation.py:386: DeprecationWarning: Passing 1d arrays as data is deprecated in 0.17 and willraise ValueError in 0.19. Reshape your data either using X.reshape(-1, 1) if your data has a single feature or X.reshape(1, -1) if it contains a single sample.\n",
      "  DeprecationWarning)\n"
     ]
    },
    {
     "data": {
      "text/plain": [
       "0.54758"
      ]
     },
     "execution_count": 54,
     "metadata": {},
     "output_type": "execute_result"
    }
   ],
   "source": [
    "# adjective-superlative\n",
    "biggest = my_vector_getter(\"biggest\", new_coordinates)\n",
    "big = my_vector_getter(\"big\", new_coordinates)\n",
    "small = my_vector_getter(\"small\", new_coordinates)\n",
    "smallest = my_vector_getter(\"smallest\", new_coordinates)\n",
    "\n",
    "operation = biggest - big + small\n",
    "round(cosine(operation, smallest),5)"
   ]
  },
  {
   "cell_type": "code",
   "execution_count": 56,
   "metadata": {
    "collapsed": false,
    "scrolled": false
   },
   "outputs": [
    {
     "data": {
      "image/png": "[encoded data removed]",
      "text/plain": [
       "<matplotlib.figure.Figure at 0x7f8e96ebe9d0>"
      ]
     },
     "metadata": {},
     "output_type": "display_data"
    }
   ],
   "source": [
    "# visual inspection\n",
    "# repeat the same steps as for the country-capital task\n",
    "# visual inspection\n",
    "dim_1_coords = [element[0] for element in [biggest, big, small, smallest]]\n",
    "dim_2_coords = [element[1] for element in [biggest, big, small, smallest]]\n",
    "\n",
    "names = [\"biggest\", \"big\", \"small\", \"smallest\"]\n",
    "\n",
    "fig = plt.figure()\n",
    "ax = fig.add_subplot(111)\n",
    "plt.plot(dim_1_coords, dim_2_coords, \"ro\")\n",
    "plt.axis([-0.4, 0, -0.3, 0.5])\n",
    "\n",
    "for x, y, name in zip(dim_1_coords , dim_2_coords, names):                                                \n",
    "    ax.annotate(name, xy=(x, y))\n",
    "\n",
    "plt.grid()\n"
   ]
  },
  {
   "cell_type": "code",
   "execution_count": 57,
   "metadata": {
    "collapsed": false
   },
   "outputs": [],
   "source": [
    "s_1 = \"Kennedy was shot dead in Dallas\"\n",
    "s_2 = \"The President was killed in Texas\"\n",
    "\n",
    "# compute the features of the BOW space (unique common non-stopwords)\n",
    "\n",
    "# remove stopwords\n",
    "s_1 = [word for word in s_1.split(\" \") if word.lower() not in stpwds]\n",
    "s_2 = [word for word in s_2.split(\" \") if word.lower() not in stpwds]\n",
    "\n",
    "# the features are all the unique remaining words\n",
    "features = list(set(s_1).union(set(s_2)))"
   ]
  },
  {
   "cell_type": "code",
   "execution_count": 59,
   "metadata": {
    "collapsed": false
   },
   "outputs": [
    {
     "name": "stdout",
     "output_type": "stream",
     "text": [
      "[1, 0, 1, 0, 1, 0, 1]\n",
      "['shot', 'Texas', 'Kennedy', 'President', 'Dallas', 'killed', 'dead']\n"
     ]
    }
   ],
   "source": [
    "# project the two sentences in the BOW space\n",
    "p_1 = []\n",
    "for feature in features:\n",
    "    if feature in s_1:\n",
    "        p_1.append(1)\n",
    "    else:\n",
    "        p_1.append(0)\n",
    "print p_1\n",
    "print features"
   ]
  },
  {
   "cell_type": "code",
   "execution_count": 61,
   "metadata": {
    "collapsed": false
   },
   "outputs": [
    {
     "name": "stdout",
     "output_type": "stream",
     "text": [
      "[0, 1, 0, 1, 0, 1, 0]\n",
      "['shot', 'Texas', 'Kennedy', 'President', 'Dallas', 'killed', 'dead']\n"
     ]
    }
   ],
   "source": [
    "# project the two sentences in the BOW space\n",
    "p_2 = []\n",
    "for feature in features:\n",
    "    if feature in s_2:\n",
    "        p_2.append(1)\n",
    "    else:\n",
    "        p_2.append(0)\n",
    "print p_2\n",
    "print features"
   ]
  },
  {
   "cell_type": "code",
   "execution_count": 63,
   "metadata": {
    "collapsed": false
   },
   "outputs": [
    {
     "name": "stdout",
     "output_type": "stream",
     "text": [
      "representation of ' ['Kennedy', 'shot', 'dead', 'Dallas'] ' : \n",
      "[('shot', 1), ('Texas', 0), ('Kennedy', 1), ('President', 0), ('Dallas', 1), ('killed', 0), ('dead', 1)]\n",
      "representation of ' ['President', 'killed', 'Texas'] ' : \n",
      "[('shot', 0), ('Texas', 1), ('Kennedy', 0), ('President', 1), ('Dallas', 0), ('killed', 1), ('dead', 0)]\n"
     ]
    }
   ],
   "source": [
    "p_1_bow = zip(features, p_1)\n",
    "p_2_bow = zip(features, p_2)\n",
    "\n",
    "print \"representation of '\", s_1, \"' : \\n\",\n",
    "print p_1_bow\n",
    "\n",
    "print \"representation of '\", s_2, \"' : \\n\",\n",
    "print p_2_bow"
   ]
  },
  {
   "cell_type": "code",
   "execution_count": 65,
   "metadata": {
    "collapsed": false
   },
   "outputs": [
    {
     "name": "stderr",
     "output_type": "stream",
     "text": [
      "/home/zapfack/tools/anaconda2/lib/python2.7/site-packages/sklearn/utils/validation.py:386: DeprecationWarning: Passing 1d arrays as data is deprecated in 0.17 and willraise ValueError in 0.19. Reshape your data either using X.reshape(-1, 1) if your data has a single feature or X.reshape(1, -1) if it contains a single sample.\n",
      "  DeprecationWarning)\n",
      "/home/zapfack/tools/anaconda2/lib/python2.7/site-packages/sklearn/utils/validation.py:386: DeprecationWarning: Passing 1d arrays as data is deprecated in 0.17 and willraise ValueError in 0.19. Reshape your data either using X.reshape(-1, 1) if your data has a single feature or X.reshape(1, -1) if it contains a single sample.\n",
      "  DeprecationWarning)\n"
     ]
    },
    {
     "data": {
      "text/plain": [
       "0.0"
      ]
     },
     "execution_count": 65,
     "metadata": {},
     "output_type": "execute_result"
    }
   ],
   "source": [
    "# 1) compute the similarity of these two sentences in the BOW space\n",
    "# of course, the two sentences have zero similarity since the dot product of the two BOW vectors is equal to zero (the two vectors are orthogonal)\n",
    "\n",
    "round(cosine(p_1,p_2), 5)"
   ]
  },
  {
   "cell_type": "code",
   "execution_count": 72,
   "metadata": {
    "collapsed": false
   },
   "outputs": [],
   "source": [
    "# if we use the word embedding space\n",
    "\n",
    "p_1_words = [element[0] for element in p_1_bow if element[1]==1]\n",
    "# the sentence can be represented as a two-dimensional array (words as rows, dimensions as columns)\n",
    "p_1_embeddings = np.array([my_vector_getter(word, new_coordinates) for word in p_1_words])\n",
    "\n",
    "# compute centroid of cloud of words\n",
    "centroid_1 = np.mean(p_1_embeddings, axis=0)\n",
    "# print centroid_1.shape"
   ]
  },
  {
   "cell_type": "code",
   "execution_count": 73,
   "metadata": {
    "collapsed": true
   },
   "outputs": [],
   "source": [
    "# if we use the word embedding space\n",
    "\n",
    "p_2_words = [element[0] for element in p_2_bow if element[1]==1]\n",
    "# the sentence can be represented as a two-dimensional array (words as rows, dimensions as columns)\n",
    "p_2_embeddings = np.array([my_vector_getter(word, new_coordinates) for word in p_2_words])\n",
    "\n",
    "# compute centroid of cloud of words\n",
    "centroid_2 = np.mean(p_2_embeddings, axis=0)"
   ]
  },
  {
   "cell_type": "code",
   "execution_count": 74,
   "metadata": {
    "collapsed": false
   },
   "outputs": [
    {
     "name": "stderr",
     "output_type": "stream",
     "text": [
      "/home/zapfack/tools/anaconda2/lib/python2.7/site-packages/sklearn/utils/validation.py:386: DeprecationWarning: Passing 1d arrays as data is deprecated in 0.17 and willraise ValueError in 0.19. Reshape your data either using X.reshape(-1, 1) if your data has a single feature or X.reshape(1, -1) if it contains a single sample.\n",
      "  DeprecationWarning)\n",
      "/home/zapfack/tools/anaconda2/lib/python2.7/site-packages/sklearn/utils/validation.py:386: DeprecationWarning: Passing 1d arrays as data is deprecated in 0.17 and willraise ValueError in 0.19. Reshape your data either using X.reshape(-1, 1) if your data has a single feature or X.reshape(1, -1) if it contains a single sample.\n",
      "  DeprecationWarning)\n"
     ]
    },
    {
     "data": {
      "text/plain": [
       "0.6257"
      ]
     },
     "execution_count": 74,
     "metadata": {},
     "output_type": "execute_result"
    }
   ],
   "source": [
    "# 2) compute cosine similarity between sentence centroids\n",
    "# this time we can see that the semantic similarity between the two sentences is captured\n",
    "round(cosine(centroid_1, centroid_2),4) # avec coordinates on a 0.5"
   ]
  },
  {
   "cell_type": "code",
   "execution_count": 75,
   "metadata": {
    "collapsed": true
   },
   "outputs": [],
   "source": [
    "##################\n",
    "# classification #\n",
    "##################\n",
    "\n",
    "# *** preliminary ***\n",
    "# to get familiar with the WMD, compute it for the two previous sentences\n",
    "\n",
    "# each sentence is viewed as a normalized BOW vector\n",
    "p_1_norm = np.true_divide(p_1, np.sum(p_1))\n",
    "p_2_norm = np.true_divide(p_2, np.sum(p_2))"
   ]
  },
  {
   "cell_type": "code",
   "execution_count": 76,
   "metadata": {
    "collapsed": false
   },
   "outputs": [
    {
     "data": {
      "text/plain": [
       "(7, 300)"
      ]
     },
     "execution_count": 76,
     "metadata": {},
     "output_type": "execute_result"
    }
   ],
   "source": [
    "# select the embeddings of the features\n",
    "index_union_words = np.array([words.index(word_temp) for word_temp in features])\n",
    "coordinates_reduced = coordinates[index_union_words]\n",
    "coordinates_reduced.shape"
   ]
  },
  {
   "cell_type": "code",
   "execution_count": 79,
   "metadata": {
    "collapsed": false,
    "scrolled": false
   },
   "outputs": [
    {
     "name": "stdout",
     "output_type": "stream",
     "text": [
      "[[ 0.          3.83032188  3.58047791  3.70285278  3.69990298  3.51521638\n",
      "   3.25206065]\n",
      " [ 3.83032188  0.          3.53410025  3.75892875  2.47818755  4.23417086\n",
      "   3.9863905 ]\n",
      " [ 3.58047791  3.53410025  0.          3.43936427  3.5542533   4.08454488\n",
      "   3.65398891]\n",
      " [ 3.70285278  3.75892875  3.43936427  0.          3.69267188  4.16534186\n",
      "   3.90588439]\n",
      " [ 3.69990298  2.47818755  3.5542533   3.69267188  0.          4.32896453\n",
      "   3.96341835]\n",
      " [ 3.51521638  4.23417086  4.08454488  4.16534186  4.32896453  0.\n",
      "   2.35489525]\n",
      " [ 3.25206065  3.9863905   3.65398891  3.90588439  3.96341835  2.35489525\n",
      "   0.        ]]\n"
     ]
    }
   ],
   "source": [
    "# compute euclidean distances between the remaining words\n",
    "D = euclidean_distances(coordinates_reduced)\n",
    "print D"
   ]
  },
  {
   "cell_type": "code",
   "execution_count": 80,
   "metadata": {
    "collapsed": false
   },
   "outputs": [
    {
     "data": {
      "text/plain": [
       "2.98607998285665"
      ]
     },
     "execution_count": 80,
     "metadata": {},
     "output_type": "execute_result"
    }
   ],
   "source": [
    "# compute WMD\n",
    "emd(p_1_norm,p_2_norm,D)"
   ]
  },
  {
   "cell_type": "code",
   "execution_count": 81,
   "metadata": {
    "collapsed": false
   },
   "outputs": [
    {
     "name": "stderr",
     "output_type": "stream",
     "text": [
      "WARNING:sklearn.datasets.twenty_newsgroups:Downloading dataset from http://people.csail.mit.edu/jrennie/20Newsgroups/20news-bydate.tar.gz (14 MB)\n"
     ]
    }
   ],
   "source": [
    "# select two categories\n",
    "categories = ['comp.graphics', 'sci.space']\n",
    "\n",
    "# load data set\n",
    "newsgroups = fetch_20newsgroups(subset='test',remove=('headers', 'footers', 'quotes'),categories=categories)\n",
    "documents, labels = newsgroups.data, newsgroups.target\n",
    "\n",
    "# split into very small training and testing sets\n",
    "docs_train, docs_test, y_train, y_test = train_test_split(documents, labels,\n",
    "                                                          train_size=50,\n",
    "                                                          test_size=10)"
   ]
  },
  {
   "cell_type": "code",
   "execution_count": 83,
   "metadata": {
    "collapsed": false
   },
   "outputs": [],
   "source": [
    "# clean documents\n",
    "\n",
    "clean_docs = []\n",
    "\n",
    "for doc in documents:\n",
    "\t# remove formatting\n",
    "\tdoc = re.sub(\"\\s+\", \" \", doc)\n",
    "\t# remove all punctuation except intra-word dashes\n",
    "\tdoc = my_p.sub(lambda m: (m.group(1) if m.group(1) else \" \"), doc)\n",
    "\t# remove extra whitespace\n",
    "\tdoc = re.sub(\" +\",\" \", doc)   \n",
    "\t# remove leading and trailing whitespace\n",
    "\tdoc = doc.strip()\n",
    "\t# tokenize\n",
    "\tdoc = doc.split(\" \")\n",
    "\t# remove stopwords\n",
    "\tdoc = [token for token in doc if token not in stpwds]\n",
    "\t# remove tokens less than 2 character in size\n",
    "\tdoc = [token for token in doc if len(token)>2]\n",
    "\tclean_docs.append(doc)\n",
    "\n",
    "docs_train, docs_test, y_train, y_test = train_test_split(clean_docs, labels,\n",
    "                                                          train_size=50,\n",
    "                                                          test_size=10)"
   ]
  },
  {
   "cell_type": "code",
   "execution_count": 89,
   "metadata": {
    "collapsed": false
   },
   "outputs": [],
   "source": [
    "# remove empty elements\n",
    "clean_docs_train = [element for element in docs_train if len(element)>0]\n",
    "# clean_docs_train"
   ]
  },
  {
   "cell_type": "code",
   "execution_count": 87,
   "metadata": {
    "collapsed": false
   },
   "outputs": [
    {
     "data": {
      "text/plain": [
       "783"
      ]
     },
     "execution_count": 87,
     "metadata": {},
     "output_type": "execute_result"
    }
   ],
   "source": [
    "# get the list of features (i.e., the unique non-stopwords in the training set)\n",
    "# compute euclidean distances between embeddings corresponding to these features\n",
    "\n",
    "predictions_emd = []\n",
    "predictions_cos = []\n",
    "counter = 0\n",
    "\n",
    "for words_doc_1 in clean_docs_test:\n",
    "    emd_distances_list = []\n",
    "    cosine_distances_list = []\n",
    "    \n",
    "    # only retain the words that have an embedding available\n",
    "    words_doc_1 = [w for w in words_doc_1 if w in words]\n",
    "\t# pull up the word vectors of the words in the document\n",
    "    index_words_doc_1 = [words.index(w) for w in words_doc_1]\n",
    "    doc_1_embeddings = coordinates[index_words_doc_1]\n",
    "\t# compute centroid of word vectors\n",
    "    centroid_1 = np.mean(doc_1_embeddings, axis=0)\n",
    "    \n",
    "\t# project doc_1 in the BOW space\n",
    "    doc_1_bow = []\n",
    "        for feature in features:\n",
    "            if feature in words_doc_1:\n",
    "                doc_1_bow.append(1)\n",
    "            else:\n",
    "                doc_1_bow.append(0)\n",
    "    \n",
    "\t# normalize\n",
    "\tdoc_1_norm = np.true_divide(doc_1_bow, np.sum(doc_1_bow))  \t\t\t\t\n",
    "    \n",
    "    # compute distances to all the documents in the training set\n",
    "    for words_doc_2 in clean_docs_train:\n",
    "        \n",
    "\t\t# project doc_2 in the BOW space and normalize it\n",
    "\t\t# compute its centroid\n",
    "\n",
    "        # compute emd and cosine centroid distance\n",
    "        # append the values to the \"emd_distances_list\" and \"cosine_distances_list\" lists\n",
    "        \n",
    "    # rank lists in ascending or descending order (based on whether it is distance or similarity)\n",
    "    # select the top k elements (k nearest neighbors), k is a tuning parameter\n",
    "\t\n",
    "    # get predictions as the most common label of the neighbors\n",
    "\t# store predictions in the \"predictions_emd\" and \"predictions_cos\" lists"
   ]
  },
  {
   "cell_type": "code",
   "execution_count": null,
   "metadata": {
    "collapsed": true
   },
   "outputs": [],
   "source": []
  }
 ],
 "metadata": {
  "kernelspec": {
   "display_name": "Python 2",
   "language": "python",
   "name": "python2"
  },
  "language_info": {
   "codemirror_mode": {
    "name": "ipython",
    "version": 2
   },
   "file_extension": ".py",
   "mimetype": "text/x-python",
   "name": "python",
   "nbconvert_exporter": "python",
   "pygments_lexer": "ipython2",
   "version": "2.7.11"
  }
 },
 "nbformat": 4,
 "nbformat_minor": 0
}
